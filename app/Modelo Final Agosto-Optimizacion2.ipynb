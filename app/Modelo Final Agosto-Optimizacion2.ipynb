{
 "cells": [
  {
   "cell_type": "code",
   "execution_count": 1,
   "metadata": {},
   "outputs": [
    {
     "name": "stderr",
     "output_type": "stream",
     "text": [
      "C:\\ProgramData\\Anaconda3\\lib\\site-packages\\scipy\\sparse\\sparsetools.py:21: DeprecationWarning: `scipy.sparse.sparsetools` is deprecated!\n",
      "scipy.sparse.sparsetools is a private module for scipy.sparse, and should not be used.\n",
      "  _deprecated()\n",
      "C:\\ProgramData\\Anaconda3\\lib\\site-packages\\gensim\\similarities\\__init__.py:15: UserWarning: The gensim.similarities.levenshtein submodule is disabled, because the optional Levenshtein package <https://pypi.org/project/python-Levenshtein/> is unavailable. Install Levenhstein (e.g. `pip install python-Levenshtein`) to suppress this warning.\n",
      "  warnings.warn(msg)\n"
     ]
    }
   ],
   "source": [
    "import pandas as pd \n",
    "import numpy as np \n",
    "from textblob import TextBlob\n",
    "import matplotlib.pyplot as plt\n",
    "\n",
    "import pyLDAvis\n",
    "import pyLDAvis.sklearn\n",
    "pyLDAvis.enable_notebook()\n",
    "\n",
    "\n",
    "import json, re\n",
    "from nltk.corpus import stopwords\n",
    "from nltk.stem import SnowballStemmer\n",
    "from nltk.tokenize import ToktokTokenizer\n",
    "\n",
    "\n",
    "from sklearn.datasets import fetch_20newsgroups\n",
    "from sklearn.feature_extraction.text import CountVectorizer, TfidfVectorizer\n",
    "from sklearn.decomposition import LatentDirichletAllocation\n",
    "\n",
    "from gensim.models.coherencemodel import CoherenceModel\n",
    "from gensim import corpora\n",
    "from gensim.corpora import Dictionary\n",
    "from gensim.models import LdaModel\n",
    "import gensim\n",
    "\n",
    "from sentiment_analysis_spanish import sentiment_analysis\n",
    "import nltk\n",
    "import pyLDAvis.gensim_models\n",
    "\n",
    "import random\n",
    "from wordcloud import WordCloud\n",
    "import warnings\n",
    "warnings.filterwarnings('ignore')\n",
    "%matplotlib inline"
   ]
  },
  {
   "cell_type": "code",
   "execution_count": 2,
   "metadata": {},
   "outputs": [
    {
     "data": {
      "text/html": [
       "<div>\n",
       "<style scoped>\n",
       "    .dataframe tbody tr th:only-of-type {\n",
       "        vertical-align: middle;\n",
       "    }\n",
       "\n",
       "    .dataframe tbody tr th {\n",
       "        vertical-align: top;\n",
       "    }\n",
       "\n",
       "    .dataframe thead th {\n",
       "        text-align: right;\n",
       "    }\n",
       "</style>\n",
       "<table border=\"1\" class=\"dataframe\">\n",
       "  <thead>\n",
       "    <tr style=\"text-align: right;\">\n",
       "      <th></th>\n",
       "      <th>StartDate</th>\n",
       "      <th>EndDate</th>\n",
       "      <th>Status</th>\n",
       "      <th>IPAddress</th>\n",
       "      <th>Progress</th>\n",
       "      <th>Duration (in seconds)</th>\n",
       "      <th>Finished</th>\n",
       "      <th>RecordedDate</th>\n",
       "      <th>ResponseId</th>\n",
       "      <th>RecipientLastName</th>\n",
       "      <th>...</th>\n",
       "      <th>Q15 - Topic Sentiment Label</th>\n",
       "      <th>Q15 - Topic Sentiment Score</th>\n",
       "      <th>Q15 - Topics</th>\n",
       "      <th>Q20 - Parent Topics</th>\n",
       "      <th>Q20 - Sentiment Polarity</th>\n",
       "      <th>Q20 - Sentiment Score</th>\n",
       "      <th>Q20 - Sentiment</th>\n",
       "      <th>Q20 - Topic Sentiment Label</th>\n",
       "      <th>Q20 - Topic Sentiment Score</th>\n",
       "      <th>Q20 - Topics</th>\n",
       "    </tr>\n",
       "  </thead>\n",
       "  <tbody>\n",
       "    <tr>\n",
       "      <th>0</th>\n",
       "      <td>Fecha de inicio</td>\n",
       "      <td>Fecha de finalización</td>\n",
       "      <td>Tipo de respuesta</td>\n",
       "      <td>Dirección IP</td>\n",
       "      <td>Progreso</td>\n",
       "      <td>Duración (en segundos)</td>\n",
       "      <td>Finalizado</td>\n",
       "      <td>Fecha registrada</td>\n",
       "      <td>ID de respuesta</td>\n",
       "      <td>Apellido del destinatario</td>\n",
       "      <td>...</td>\n",
       "      <td>Q15 - Topic Sentiment Label</td>\n",
       "      <td>Q15 - Topic Sentiment Score</td>\n",
       "      <td>Q15 - Topics</td>\n",
       "      <td>Q20 - Parent Topics</td>\n",
       "      <td>Q20 - Sentiment Polarity</td>\n",
       "      <td>Q20 - Sentiment Score</td>\n",
       "      <td>Q20 - Sentiment</td>\n",
       "      <td>Q20 - Topic Sentiment Label</td>\n",
       "      <td>Q20 - Topic Sentiment Score</td>\n",
       "      <td>Q20 - Topics</td>\n",
       "    </tr>\n",
       "    <tr>\n",
       "      <th>1</th>\n",
       "      <td>2021-05-01 00:01:09</td>\n",
       "      <td>2021-05-01 00:02:59</td>\n",
       "      <td>IP Address</td>\n",
       "      <td>181.78.16.235</td>\n",
       "      <td>100</td>\n",
       "      <td>110</td>\n",
       "      <td>True</td>\n",
       "      <td>2021-05-01 00:02:59.714000</td>\n",
       "      <td>R_3ISGyOV01BzngPO</td>\n",
       "      <td>NaN</td>\n",
       "      <td>...</td>\n",
       "      <td>NaN</td>\n",
       "      <td>NaN</td>\n",
       "      <td>NaN</td>\n",
       "      <td>NaN</td>\n",
       "      <td>NaN</td>\n",
       "      <td>NaN</td>\n",
       "      <td>NaN</td>\n",
       "      <td>NaN</td>\n",
       "      <td>NaN</td>\n",
       "      <td>NaN</td>\n",
       "    </tr>\n",
       "  </tbody>\n",
       "</table>\n",
       "<p>2 rows × 53 columns</p>\n",
       "</div>"
      ],
      "text/plain": [
       "             StartDate                EndDate             Status  \\\n",
       "0      Fecha de inicio  Fecha de finalización  Tipo de respuesta   \n",
       "1  2021-05-01 00:01:09    2021-05-01 00:02:59         IP Address   \n",
       "\n",
       "       IPAddress  Progress   Duration (in seconds)    Finished  \\\n",
       "0   Dirección IP  Progreso  Duración (en segundos)  Finalizado   \n",
       "1  181.78.16.235       100                     110        True   \n",
       "\n",
       "                 RecordedDate         ResponseId          RecipientLastName  \\\n",
       "0            Fecha registrada    ID de respuesta  Apellido del destinatario   \n",
       "1  2021-05-01 00:02:59.714000  R_3ISGyOV01BzngPO                        NaN   \n",
       "\n",
       "   ...  Q15 - Topic Sentiment Label  Q15 - Topic Sentiment Score  \\\n",
       "0  ...  Q15 - Topic Sentiment Label  Q15 - Topic Sentiment Score   \n",
       "1  ...                          NaN                          NaN   \n",
       "\n",
       "   Q15 - Topics  Q20 - Parent Topics  Q20 - Sentiment Polarity  \\\n",
       "0  Q15 - Topics  Q20 - Parent Topics  Q20 - Sentiment Polarity   \n",
       "1           NaN                  NaN                       NaN   \n",
       "\n",
       "   Q20 - Sentiment Score  Q20 - Sentiment  Q20 - Topic Sentiment Label  \\\n",
       "0  Q20 - Sentiment Score  Q20 - Sentiment  Q20 - Topic Sentiment Label   \n",
       "1                    NaN              NaN                          NaN   \n",
       "\n",
       "   Q20 - Topic Sentiment Score  Q20 - Topics  \n",
       "0  Q20 - Topic Sentiment Score  Q20 - Topics  \n",
       "1                          NaN           NaN  \n",
       "\n",
       "[2 rows x 53 columns]"
      ]
     },
     "execution_count": 2,
     "metadata": {},
     "output_type": "execute_result"
    }
   ],
   "source": [
    "#df = pd.read_excel('Resultados Touchpoint APP Personas del 1abr al 24 May.xlsx')\n",
    "df = pd.read_excel('Touchpoint APP Personas 1 May al 8 Ago Prepago.xlsx')\n",
    "df.head(2)"
   ]
  },
  {
   "cell_type": "code",
   "execution_count": 3,
   "metadata": {},
   "outputs": [
    {
     "data": {
      "text/html": [
       "<div>\n",
       "<style scoped>\n",
       "    .dataframe tbody tr th:only-of-type {\n",
       "        vertical-align: middle;\n",
       "    }\n",
       "\n",
       "    .dataframe tbody tr th {\n",
       "        vertical-align: top;\n",
       "    }\n",
       "\n",
       "    .dataframe thead th {\n",
       "        text-align: right;\n",
       "    }\n",
       "</style>\n",
       "<table border=\"1\" class=\"dataframe\">\n",
       "  <thead>\n",
       "    <tr style=\"text-align: right;\">\n",
       "      <th></th>\n",
       "      <th>StartDate</th>\n",
       "      <th>EndDate</th>\n",
       "      <th>Status</th>\n",
       "      <th>IPAddress</th>\n",
       "      <th>Progress</th>\n",
       "      <th>Duration (in seconds)</th>\n",
       "      <th>Finished</th>\n",
       "      <th>RecordedDate</th>\n",
       "      <th>ResponseId</th>\n",
       "      <th>RecipientLastName</th>\n",
       "      <th>...</th>\n",
       "      <th>Q15 - Topic Sentiment Label</th>\n",
       "      <th>Q15 - Topic Sentiment Score</th>\n",
       "      <th>Q15 - Topics</th>\n",
       "      <th>Q20 - Parent Topics</th>\n",
       "      <th>Q20 - Sentiment Polarity</th>\n",
       "      <th>Q20 - Sentiment Score</th>\n",
       "      <th>Q20 - Sentiment</th>\n",
       "      <th>Q20 - Topic Sentiment Label</th>\n",
       "      <th>Q20 - Topic Sentiment Score</th>\n",
       "      <th>Q20 - Topics</th>\n",
       "    </tr>\n",
       "  </thead>\n",
       "  <tbody>\n",
       "    <tr>\n",
       "      <th>1</th>\n",
       "      <td>2021-05-01 00:01:09</td>\n",
       "      <td>2021-05-01 00:02:59</td>\n",
       "      <td>IP Address</td>\n",
       "      <td>181.78.16.235</td>\n",
       "      <td>100</td>\n",
       "      <td>110</td>\n",
       "      <td>True</td>\n",
       "      <td>2021-05-01 00:02:59.714000</td>\n",
       "      <td>R_3ISGyOV01BzngPO</td>\n",
       "      <td>NaN</td>\n",
       "      <td>...</td>\n",
       "      <td>NaN</td>\n",
       "      <td>NaN</td>\n",
       "      <td>NaN</td>\n",
       "      <td>NaN</td>\n",
       "      <td>NaN</td>\n",
       "      <td>NaN</td>\n",
       "      <td>NaN</td>\n",
       "      <td>NaN</td>\n",
       "      <td>NaN</td>\n",
       "      <td>NaN</td>\n",
       "    </tr>\n",
       "    <tr>\n",
       "      <th>2</th>\n",
       "      <td>2021-04-30 00:08:19</td>\n",
       "      <td>2021-04-30 00:10:59</td>\n",
       "      <td>IP Address</td>\n",
       "      <td>191.156.153.227</td>\n",
       "      <td>38</td>\n",
       "      <td>160</td>\n",
       "      <td>False</td>\n",
       "      <td>2021-05-01 00:11:00.156000</td>\n",
       "      <td>R_22t2EpjmNZEoqFT</td>\n",
       "      <td>NaN</td>\n",
       "      <td>...</td>\n",
       "      <td>NaN</td>\n",
       "      <td>NaN</td>\n",
       "      <td>NaN</td>\n",
       "      <td>NaN</td>\n",
       "      <td>NaN</td>\n",
       "      <td>NaN</td>\n",
       "      <td>NaN</td>\n",
       "      <td>NaN</td>\n",
       "      <td>NaN</td>\n",
       "      <td>NaN</td>\n",
       "    </tr>\n",
       "  </tbody>\n",
       "</table>\n",
       "<p>2 rows × 53 columns</p>\n",
       "</div>"
      ],
      "text/plain": [
       "             StartDate              EndDate      Status        IPAddress  \\\n",
       "1  2021-05-01 00:01:09  2021-05-01 00:02:59  IP Address    181.78.16.235   \n",
       "2  2021-04-30 00:08:19  2021-04-30 00:10:59  IP Address  191.156.153.227   \n",
       "\n",
       "  Progress Duration (in seconds) Finished                RecordedDate  \\\n",
       "1      100                   110     True  2021-05-01 00:02:59.714000   \n",
       "2       38                   160    False  2021-05-01 00:11:00.156000   \n",
       "\n",
       "          ResponseId RecipientLastName  ... Q15 - Topic Sentiment Label  \\\n",
       "1  R_3ISGyOV01BzngPO               NaN  ...                         NaN   \n",
       "2  R_22t2EpjmNZEoqFT               NaN  ...                         NaN   \n",
       "\n",
       "  Q15 - Topic Sentiment Score Q15 - Topics Q20 - Parent Topics  \\\n",
       "1                         NaN          NaN                 NaN   \n",
       "2                         NaN          NaN                 NaN   \n",
       "\n",
       "  Q20 - Sentiment Polarity Q20 - Sentiment Score Q20 - Sentiment  \\\n",
       "1                      NaN                   NaN             NaN   \n",
       "2                      NaN                   NaN             NaN   \n",
       "\n",
       "  Q20 - Topic Sentiment Label Q20 - Topic Sentiment Score Q20 - Topics  \n",
       "1                         NaN                         NaN          NaN  \n",
       "2                         NaN                         NaN          NaN  \n",
       "\n",
       "[2 rows x 53 columns]"
      ]
     },
     "execution_count": 3,
     "metadata": {},
     "output_type": "execute_result"
    }
   ],
   "source": [
    "df = df.drop([0], axis=0)\n",
    "df.head(2)"
   ]
  },
  {
   "cell_type": "code",
   "execution_count": 4,
   "metadata": {},
   "outputs": [
    {
     "data": {
      "text/plain": [
       "Promotor     25789\n",
       "Detractor     9377\n",
       "Pasivo        8274\n",
       "Name: Q2_NPS_GROUP, dtype: int64"
      ]
     },
     "execution_count": 4,
     "metadata": {},
     "output_type": "execute_result"
    }
   ],
   "source": [
    "df.Q2_NPS_GROUP.value_counts()"
   ]
  },
  {
   "cell_type": "code",
   "execution_count": 5,
   "metadata": {
    "scrolled": false
   },
   "outputs": [
    {
     "data": {
      "image/png": "[encoded data removed]",
      "text/plain": [
       "<Figure size 432x288 with 1 Axes>"
      ]
     },
     "metadata": {},
     "output_type": "display_data"
    }
   ],
   "source": [
    "A = df.Q2_NPS_GROUP.value_counts()\n",
    "indices = A.index\n",
    "plt.pie(A, labels=indices, autopct=\"%0.1f %%\")\n",
    "plt.axis(\"equal\")\n",
    "plt.show()"
   ]
  },
  {
   "cell_type": "markdown",
   "metadata": {},
   "source": [
    "####  Funciones para Limpieza de texto"
   ]
  },
  {
   "cell_type": "code",
   "execution_count": 6,
   "metadata": {},
   "outputs": [],
   "source": [
    "def limpiar_texto(texto):\n",
    "    \"\"\"\n",
    "    Función para realizar la limpieza de un texto dado.\n",
    "    \"\"\"\n",
    "    # Eliminamos los caracteres especiales\n",
    "    texto = re.sub(r'\\W', ' ', str(texto))\n",
    "    # Eliminamos comas y /\n",
    "    texto = re.sub(r',', ' ', str(texto))\n",
    "    texto = re.sub(r'/', ' ', str(texto))\n",
    "    # Eliminado las palabras que tengo un solo caracter\n",
    "    texto = re.sub(r'\\s+[a-zA-Z]\\s+', ' ', texto)\n",
    "    # Sustituir los espacios en blanco en uno solo\n",
    "    texto = re.sub(r'\\s+', ' ', texto, flags=re.I)\n",
    "    # Convertimos textos a minusculas\n",
    "    texto = texto.lower()\n",
    "    return texto"
   ]
  },
  {
   "cell_type": "code",
   "execution_count": 7,
   "metadata": {},
   "outputs": [
    {
     "name": "stderr",
     "output_type": "stream",
     "text": [
      "[nltk_data] Downloading package stopwords to\n",
      "[nltk_data]     C:\\Users\\CristhianJohnatanIzq\\AppData\\Roaming\\nltk_dat\n",
      "[nltk_data]     a...\n",
      "[nltk_data]   Package stopwords is already up-to-date!\n"
     ]
    }
   ],
   "source": [
    "nltk.download('stopwords')\n",
    "STOPWORDS = set(stopwords.words(\"spanish\"))\n",
    "def filtrar_stopword_digitos(tokens):\n",
    "    \"\"\"\n",
    "    Filtra stopwords y digitos de una lista de tokens.\n",
    "    \"\"\"\n",
    "    return [token for token in tokens if token not in STOPWORDS \n",
    "            and not token.isdigit()]"
   ]
  },
  {
   "cell_type": "code",
   "execution_count": 8,
   "metadata": {},
   "outputs": [],
   "source": [
    "stemmer = SnowballStemmer(\"spanish\")\n",
    "def stem_palabras(tokens):\n",
    "    \"\"\"\n",
    "    Reduce cada palabra de una lista dada a su raíz.\n",
    "    \"\"\"\n",
    "    return [stemmer.stem(token) for token in tokens]"
   ]
  },
  {
   "cell_type": "code",
   "execution_count": 9,
   "metadata": {},
   "outputs": [],
   "source": [
    "def Limpiar_Caracter(texto):\n",
    "    if len(texto) == 1 or texto == ',':\n",
    "        texto = ''\n",
    "    else:\n",
    "        texto = texto\n",
    "    return texto"
   ]
  },
  {
   "cell_type": "markdown",
   "metadata": {},
   "source": [
    "###  Seleccion de Preguntas"
   ]
  },
  {
   "cell_type": "code",
   "execution_count": 10,
   "metadata": {},
   "outputs": [],
   "source": [
    "Qs=['Q4','Q10','Q12','Q15','Q18','Q20']"
   ]
  },
  {
   "cell_type": "markdown",
   "metadata": {},
   "source": [
    "###  Analisis de sentimientos"
   ]
  },
  {
   "cell_type": "code",
   "execution_count": 11,
   "metadata": {},
   "outputs": [],
   "source": [
    "sentiment = sentiment_analysis.SentimentAnalysisSpanish()"
   ]
  },
  {
   "cell_type": "code",
   "execution_count": 12,
   "metadata": {},
   "outputs": [],
   "source": [
    "dfSent=df.fillna('')"
   ]
  },
  {
   "cell_type": "code",
   "execution_count": 86,
   "metadata": {
    "scrolled": true
   },
   "outputs": [
    {
     "data": {
      "text/html": [
       "<div>\n",
       "<style scoped>\n",
       "    .dataframe tbody tr th:only-of-type {\n",
       "        vertical-align: middle;\n",
       "    }\n",
       "\n",
       "    .dataframe tbody tr th {\n",
       "        vertical-align: top;\n",
       "    }\n",
       "\n",
       "    .dataframe thead th {\n",
       "        text-align: right;\n",
       "    }\n",
       "</style>\n",
       "<table border=\"1\" class=\"dataframe\">\n",
       "  <thead>\n",
       "    <tr style=\"text-align: right;\">\n",
       "      <th></th>\n",
       "      <th>StartDate</th>\n",
       "      <th>EndDate</th>\n",
       "      <th>Status</th>\n",
       "      <th>IPAddress</th>\n",
       "      <th>Progress</th>\n",
       "      <th>Duration (in seconds)</th>\n",
       "      <th>Finished</th>\n",
       "      <th>RecordedDate</th>\n",
       "      <th>ResponseId</th>\n",
       "      <th>RecipientLastName</th>\n",
       "      <th>...</th>\n",
       "      <th>Tokens_Q10</th>\n",
       "      <th>Sent_Q10</th>\n",
       "      <th>Tokens_Q12</th>\n",
       "      <th>Sent_Q12</th>\n",
       "      <th>Tokens_Q15</th>\n",
       "      <th>Sent_Q15</th>\n",
       "      <th>Tokens_Q18</th>\n",
       "      <th>Sent_Q18</th>\n",
       "      <th>Tokens_Q20</th>\n",
       "      <th>Sent_Q20</th>\n",
       "    </tr>\n",
       "  </thead>\n",
       "  <tbody>\n",
       "    <tr>\n",
       "      <th>1</th>\n",
       "      <td>2021-05-01 00:01:09</td>\n",
       "      <td>2021-05-01 00:02:59</td>\n",
       "      <td>IP Address</td>\n",
       "      <td>181.78.16.235</td>\n",
       "      <td>100</td>\n",
       "      <td>110</td>\n",
       "      <td>True</td>\n",
       "      <td>2021-05-01 00:02:59.714</td>\n",
       "      <td>R_3ISGyOV01BzngPO</td>\n",
       "      <td></td>\n",
       "      <td>...</td>\n",
       "      <td></td>\n",
       "      <td></td>\n",
       "      <td></td>\n",
       "      <td></td>\n",
       "      <td></td>\n",
       "      <td></td>\n",
       "      <td></td>\n",
       "      <td></td>\n",
       "      <td></td>\n",
       "      <td></td>\n",
       "    </tr>\n",
       "    <tr>\n",
       "      <th>2</th>\n",
       "      <td>2021-04-30 00:08:19</td>\n",
       "      <td>2021-04-30 00:10:59</td>\n",
       "      <td>IP Address</td>\n",
       "      <td>191.156.153.227</td>\n",
       "      <td>38</td>\n",
       "      <td>160</td>\n",
       "      <td>False</td>\n",
       "      <td>2021-05-01 00:11:00.156</td>\n",
       "      <td>R_22t2EpjmNZEoqFT</td>\n",
       "      <td></td>\n",
       "      <td>...</td>\n",
       "      <td></td>\n",
       "      <td></td>\n",
       "      <td></td>\n",
       "      <td></td>\n",
       "      <td></td>\n",
       "      <td></td>\n",
       "      <td></td>\n",
       "      <td></td>\n",
       "      <td></td>\n",
       "      <td></td>\n",
       "    </tr>\n",
       "  </tbody>\n",
       "</table>\n",
       "<p>2 rows × 65 columns</p>\n",
       "</div>"
      ],
      "text/plain": [
       "            StartDate             EndDate      Status        IPAddress  \\\n",
       "1 2021-05-01 00:01:09 2021-05-01 00:02:59  IP Address    181.78.16.235   \n",
       "2 2021-04-30 00:08:19 2021-04-30 00:10:59  IP Address  191.156.153.227   \n",
       "\n",
       "   Progress  Duration (in seconds) Finished            RecordedDate  \\\n",
       "1       100                    110     True 2021-05-01 00:02:59.714   \n",
       "2        38                    160    False 2021-05-01 00:11:00.156   \n",
       "\n",
       "          ResponseId RecipientLastName  ... Tokens_Q10 Sent_Q10 Tokens_Q12  \\\n",
       "1  R_3ISGyOV01BzngPO                    ...                                  \n",
       "2  R_22t2EpjmNZEoqFT                    ...                                  \n",
       "\n",
       "  Sent_Q12 Tokens_Q15 Sent_Q15 Tokens_Q18 Sent_Q18 Tokens_Q20 Sent_Q20  \n",
       "1                                                                       \n",
       "2                                                                       \n",
       "\n",
       "[2 rows x 65 columns]"
      ]
     },
     "execution_count": 86,
     "metadata": {},
     "output_type": "execute_result"
    }
   ],
   "source": [
    "tokenizer = ToktokTokenizer() \n",
    "Lista_general=[]\n",
    "for column in Qs:\n",
    "    dfSent[\"Tokens_\"+column]=dfSent[column].apply(limpiar_texto)\n",
    "    dfSent[\"Sent_\"+column] =  np.where(dfSent[\"Tokens_\"+column]!='', dfSent[column].apply(sentiment.sentiment)*2-1,'')\n",
    "    \n",
    "dfSent.head(2)"
   ]
  },
  {
   "cell_type": "markdown",
   "metadata": {},
   "source": [
    "##### Fin Analisis de Sentimiento"
   ]
  },
  {
   "cell_type": "markdown",
   "metadata": {},
   "source": [
    "####  Preprocesamiento"
   ]
  },
  {
   "cell_type": "code",
   "execution_count": 87,
   "metadata": {},
   "outputs": [
    {
     "name": "stdout",
     "output_type": "stream",
     "text": [
      "Q4 3345\n",
      "Q10 853\n",
      "Q12 2251\n",
      "Q15 5928\n",
      "Q18 4924\n",
      "Q20 1366\n"
     ]
    }
   ],
   "source": [
    "tokenizer = ToktokTokenizer() \n",
    "Lista_general=[]\n",
    "dfc = dfSent[dfSent['Q2_NPS_GROUP']!='Promotor']\n",
    "for column in Qs:    \n",
    "    dfc[\"Tokens_\"+column] = dfc[\"Tokens_\"+column].apply(tokenizer.tokenize)\n",
    "    dfc[\"Tokens_\"+column] = dfc[\"Tokens_\"+column].apply(filtrar_stopword_digitos)\n",
    "    dfc[\"Tokens_\"+column] = dfc[\"Tokens_\"+column].apply(stem_palabras)\n",
    "    #solo ciertas Qs son agregadas\n",
    "    if column in ('Q4','Q10','Q12','Q15','Q18','Q20') :\n",
    "        listAux = dfc[\"Tokens_\"+column].tolist()\n",
    "        listAux = [x for x in listAux if x!= []]\n",
    "        #print(\"Qs\")\n",
    "        print(column, len(listAux))\n",
    "        Lista_general = Lista_general+listAux"
   ]
  },
  {
   "cell_type": "markdown",
   "metadata": {},
   "source": [
    "###  Modelo de Tópicos"
   ]
  },
  {
   "cell_type": "code",
   "execution_count": 122,
   "metadata": {},
   "outputs": [],
   "source": [
    "### Funciones para modelo de tópicos\n",
    "def make_bigrams(texts,bigram_mod):\n",
    "    return [bigram_mod[doc] for doc in texts]\n",
    "\n",
    "def make_trigrams(texts,bigram_mod,trigram_mod):\n",
    "    return [trigram_mod[bigram_mod[doc]] for doc in texts]\n",
    "\n",
    "def impresionTopicos(mod,nPalabras,nTopicos):\n",
    "    topicos = mod.print_topics(num_words=nPalabras, num_topics=nTopicos)\n",
    "    for topico in topicos:\n",
    "        print(topico)    \n",
    "        \n",
    "def impresionTopicosLimp(mod,nPalabras,nTopicos):\n",
    "    #Impresion limpia de Tópicos\n",
    "    topicos = mod.print_topics(num_words=nPalabras, num_topics=nTopicos)\n",
    "    i=0\n",
    "    for topico in topicos:\n",
    "        i=i+1\n",
    "        textoAux = re.sub(r'\\W', ' ', str(topico))\n",
    "        textoAux = re.sub(r'\\s+[a-zA-Z]\\s+', ' ', textoAux)\n",
    "        textoAux = re.sub(r'[0-9]', ' ', textoAux)\n",
    "        textoAux = re.sub(r'\\s+', ' ', textoAux, flags=re.I)\n",
    "        print(str(i),textoAux)"
   ]
  },
  {
   "cell_type": "code",
   "execution_count": 91,
   "metadata": {
    "scrolled": true
   },
   "outputs": [
    {
     "name": "stdout",
     "output_type": "stream",
     "text": [
      "Número de tokens: 5019\n",
      "Número de tokens: 2372\n"
     ]
    }
   ],
   "source": [
    "bigram = gensim.models.Phrases(Lista_general, min_count=5, threshold=10) \n",
    "trigram = gensim.models.Phrases(bigram[Lista_general], threshold=10)  \n",
    "\n",
    "bigram_mod = gensim.models.phrases.Phraser(bigram)\n",
    "trigram_mod = gensim.models.phrases.Phraser(trigram)\n",
    "\n",
    "data_words_bigrams = make_bigrams(Lista_general,bigram_mod)\n",
    "\n",
    "diccionario = Dictionary(data_words_bigrams)\n",
    "print(f'Número de tokens: {len(diccionario)}')\n",
    "\n",
    "diccionario.filter_extremes(no_below=2, no_above = 0.9)\n",
    "print(f'Número de tokens: {len(diccionario)}')\n",
    "\n",
    "corpus = [diccionario.doc2bow(noticia) for noticia in data_words_bigrams]"
   ]
  },
  {
   "cell_type": "code",
   "execution_count": 92,
   "metadata": {},
   "outputs": [],
   "source": [
    "numeroTopicos=5"
   ]
  },
  {
   "cell_type": "code",
   "execution_count": 93,
   "metadata": {},
   "outputs": [],
   "source": [
    "lda = LdaModel(corpus=corpus, id2word=diccionario, \n",
    "               num_topics=numeroTopicos, random_state=35, \n",
    "               chunksize=1000, iterations=200, passes=40, alpha='auto')"
   ]
  },
  {
   "cell_type": "code",
   "execution_count": 121,
   "metadata": {
    "scrolled": true
   },
   "outputs": [
    {
     "name": "stdout",
     "output_type": "stream",
     "text": [
      "(0, '0.085*\"servici\" + 0.044*\"buen\" + 0.043*\"internet\" + 0.038*\"mal\" + 0.036*\"señal\"')\n",
      "(1, '0.095*\"pag\" + 0.070*\"factur\" + 0.052*\"plan\" + 0.036*\"consult\" + 0.031*\"cuent\"')\n",
      "(2, '0.059*\"dat\" + 0.048*\"recarg\" + 0.032*\"si\" + 0.032*\"inform\" + 0.029*\"graci\"')\n",
      "(3, '0.075*\"app\" + 0.064*\"pued\" + 0.060*\"dej\" + 0.047*\"clar\" + 0.045*\"ver\"')\n",
      "(4, '0.067*\"pud\" + 0.063*\"registr\" + 0.050*\"equip\" + 0.048*\"funcion\" + 0.044*\"numer\"')\n"
     ]
    }
   ],
   "source": [
    "impresionTopicos(lda,5,20)"
   ]
  },
  {
   "cell_type": "code",
   "execution_count": 123,
   "metadata": {},
   "outputs": [
    {
     "name": "stdout",
     "output_type": "stream",
     "text": [
      "1  servici buen internet mal señal mejor llam sirv nunc solucion pesim asesor client wifi moment \n",
      "2  pag factur plan consult cuent pod clar_hog necesit opcion aparec hog line realiz cambi quier \n",
      "3  dat recarg si inform graci sald activ consum paquet deb compr_paquet sab cobr benefici pas \n",
      "4  app pued dej clar ver hac ingres aplic lent dic permit actualiz sol eleg entrar \n",
      "5  pud registr equip funcion numer celul bien compr telefon famili_amig demor gust nuev excelent equip_financi \n"
     ]
    }
   ],
   "source": [
    "impresionTopicosLimp(lda,15,20)"
   ]
  },
  {
   "cell_type": "code",
   "execution_count": 96,
   "metadata": {
    "scrolled": false
   },
   "outputs": [
    {
     "data": {
      "text/html": [
       "\n",
       "<link rel=\"stylesheet\" type=\"text/css\" href=\"https://cdn.jsdelivr.net/gh/bmabey/pyLDAvis@3.3.1/pyLDAvis/js/ldavis.v1.0.0.css\">\n",
       "\n",
       "\n",
       "<div id=\"ldavis_el1238021449984815846896140199\"></div>\n",
       "<script type=\"text/javascript\">\n",
       "\n",
       "var ldavis_el1238021449984815846896140199_data = {\"mdsDat\": {\"x\": [0.020138918217405908, 0.28162883459186283, 0.028100111008214194, -0.3672853066993237, 0.03741744288184103], \"y\": [0.21937557045360334, -0.2998811246645939, 0.15153046086363692, -0.1938131942043144, 0.12278828755166768], \"topics\": [1, 2, 3, 4, 5], \"cluster\": [1, 1, 1, 1, 1], \"Freq\": [20.185047906118427, 22.27409671567199, 17.959037347184676, 25.464849284160866, 14.116968746864039]}, \"tinfo\": {\"Term\": [\"pag\", \"servici\", \"app\", \"factur\", \"pued\", \"dej\", \"pud\", \"dat\", \"plan\", \"registr\", \"clar\", \"ver\", \"hac\", \"ingres\", \"recarg\", \"buen\", \"equip\", \"internet\", \"funcion\", \"aplic\", \"mal\", \"consult\", \"numer\", \"se\\u00f1al\", \"celul\", \"bien\", \"cuent\", \"mejor\", \"pod\", \"si\", \"servici\", \"internet\", \"buen\", \"mal\", \"se\\u00f1al\", \"mejor\", \"llam\", \"sirv\", \"nunc\", \"solucion\", \"pesim\", \"asesor\", \"client\", \"wifi\", \"moment\", \"fall\", \"tecnic\", \"acced\", \"atencion\", \"conect\", \"respuest\", \"oper\", \"problem\", \"cae\", \"usted\", \"da\", \"cambi_clav\", \"ofrec\", \"red\", \"esper\", \"pag\", \"factur\", \"plan\", \"consult\", \"cuent\", \"pod\", \"clar_hog\", \"necesit\", \"opcion\", \"aparec\", \"hog\", \"line\", \"realiz\", \"cambi\", \"quier\", \"movil\", \"ningun\", \"cancel\", \"encuentr\", \"encontr\", \"mir\", \"product\", \"busc\", \"cambi_numer\", \"revis\", \"medi\", \"solicit\", \"valor\", \"contest\", \"naveg\", \"dat\", \"recarg\", \"si\", \"inform\", \"graci\", \"sald\", \"activ\", \"consum\", \"paquet\", \"compr_paquet\", \"deb\", \"sab\", \"cobr\", \"benefici\", \"pas\", \"ahor\", \"qued\", \"lleg\", \"mas\", \"tiemp\", \"dias\", \"cobertur\", \"ten\", \"mes\", \"verific\", \"hor\", \"cuant\", \"posibl\", \"asi\", \"minut\", \"app\", \"pued\", \"dej\", \"clar\", \"ver\", \"hac\", \"ingres\", \"aplic\", \"lent\", \"dic\", \"permit\", \"actualiz\", \"sol\", \"eleg\", \"entrar\", \"carg\", \"sal\", \"facil\", \"siempr\", \"vec\", \"amig\", \"intent\", \"rap\", \"consum_dat\", \"error\", \"usuari\", \"muestr\", \"mism\", \"much\", \"proces\", \"pud\", \"registr\", \"equip\", \"funcion\", \"numer\", \"celul\", \"bien\", \"compr\", \"telefon\", \"famili_amig\", \"demor\", \"gust\", \"nuev\", \"excelent\", \"equip_financi\", \"clar_vide\", \"respond\", \"adquir\", \"nombr\", \"tampoc\", \"sac\", \"logr\", \"corre\", \"inscrib\", \"complic\", \"pregunt\", \"quis\", \"bloqu\", \"dificil\", \"tard\"], \"Freq\": [1693.0, 1372.0, 1520.0, 1254.0, 1306.0, 1220.0, 759.0, 847.0, 925.0, 708.0, 954.0, 924.0, 921.0, 909.0, 690.0, 707.0, 570.0, 691.0, 546.0, 748.0, 609.0, 649.0, 493.0, 584.0, 440.0, 430.0, 561.0, 525.0, 547.0, 465.0, 1371.4690417358195, 690.3426190395882, 706.5851699584875, 608.3017785868464, 583.528877433204, 524.2880691935214, 468.12673346733345, 303.2130524005881, 268.27901204527694, 260.58827980766716, 256.2503588742271, 247.8097967286881, 238.56961775184672, 227.15073771577778, 185.35883847479164, 178.07790365303208, 162.34233024988413, 161.8034511645446, 145.99294896864552, 137.14085808092193, 136.58335594622878, 133.8165459137179, 132.41353927235457, 130.3162557158793, 128.25075328889923, 121.29802524760409, 119.73453971005212, 117.63785835404099, 117.21756006759729, 116.35598433604028, 1692.7183898936273, 1253.3426207085115, 925.1354581937399, 648.8102969872276, 560.8164058017757, 547.0499040598047, 478.54806304962614, 467.66699583089587, 435.1343711546612, 416.10333528133816, 397.02621459094803, 391.86424991185686, 378.7787867390444, 361.7150110307571, 353.62531480454174, 309.1394780810845, 299.7617992674241, 270.2412343760326, 241.93733191358976, 232.31927775092328, 208.10833502027097, 188.44608334865597, 186.58687496812053, 151.1941507888424, 136.30212623812082, 133.630818321649, 130.90133953749142, 127.69471510409733, 114.8574603701421, 110.45008888442155, 846.7806767095389, 689.1856930717644, 464.7410330904711, 456.0798855409834, 420.62038600906885, 392.47811273903767, 277.9562537533728, 259.6303977694367, 245.5521485262431, 234.89162136790148, 236.35186259791246, 218.15861456305822, 202.13074717877222, 187.113593471852, 175.66994270309914, 174.9994688756958, 162.2254522985782, 162.07244415692549, 162.88598722717157, 157.4136322213482, 155.44587759913892, 149.0297960223496, 145.2476699723691, 124.40822361621503, 121.81024636730861, 118.71407846686665, 117.11800115487189, 116.54437131452534, 106.35295482211758, 104.70757146360057, 1519.991337319445, 1305.3197996620195, 1220.1111972015478, 953.2569098459068, 923.8524808066472, 920.8552413856593, 908.5813134830081, 747.9351455409493, 580.6006863009637, 475.23577788640665, 400.7056955459454, 342.07491536468876, 338.3706443946938, 329.67430448691596, 318.772237347838, 301.26911352923406, 299.330180263681, 292.7214124465389, 226.92278797802342, 208.86505103250406, 176.7312781290917, 173.35480647958002, 170.444421817997, 137.12310523228095, 131.0969746394744, 131.4542320250872, 128.77871418064868, 114.15059115816277, 112.99105258032934, 106.8265488518034, 758.2091970949908, 707.3172467013874, 569.8131654948718, 545.4895541515899, 492.2629572237014, 439.3827267760316, 430.0400132173131, 392.39384311653583, 255.1534325507558, 248.57988193882423, 198.7398344160793, 194.44590507014414, 182.26304112514353, 178.81818136106727, 143.8408525927918, 140.3653109244306, 117.93860778710768, 107.48399633672918, 106.24917077433248, 99.43267086265125, 95.84439372785945, 91.83238201652586, 88.6233012101203, 82.27994911341916, 78.95462663806863, 76.48036901597786, 74.72311401437128, 72.92072060381842, 69.95624217162126, 68.43529784908773], \"Total\": [1693.0, 1372.0, 1520.0, 1254.0, 1306.0, 1220.0, 759.0, 847.0, 925.0, 708.0, 954.0, 924.0, 921.0, 909.0, 690.0, 707.0, 570.0, 691.0, 546.0, 748.0, 609.0, 649.0, 493.0, 584.0, 440.0, 430.0, 561.0, 525.0, 547.0, 465.0, 1372.2943402406484, 691.1671547607556, 707.4316161921085, 609.1219934217969, 584.3505912583496, 525.1262821460602, 468.9534466056737, 304.0354504696071, 269.10353200041595, 261.41205164318677, 257.0710421670694, 248.63438765799754, 239.39737275719477, 227.9768854796174, 186.19131338085927, 178.90348627344798, 163.1667048361082, 162.63278232919075, 146.81974197949958, 137.9674119070781, 137.40720330497425, 134.6433683972104, 133.24077917935367, 131.13863417896465, 129.08049982851912, 122.12496063187, 120.55833155564014, 118.46469318067763, 118.04406690728845, 117.1839997584159, 1693.543270975148, 1254.1672846780568, 925.9608887118264, 649.6390920745835, 561.6415426695156, 547.8791391082234, 479.37040346921145, 468.4935301375161, 435.95729120534025, 416.9269651918903, 397.8489476151823, 392.6907397908206, 379.6045654671481, 362.54049896467, 354.4515590385392, 309.96540459310427, 300.5882798920838, 271.06388224693166, 242.75994036878794, 233.14388457374739, 208.93722313602345, 189.2700058527923, 187.41072481099678, 152.0201314446672, 137.1322603703296, 134.45896645475898, 131.72872344591528, 128.51822719968484, 115.68562719621258, 111.27894713428385, 847.610256934362, 690.0147573930084, 465.5710850929564, 456.9092845701991, 421.47861201299827, 393.3064241997423, 278.7859663502664, 260.46012165810225, 246.37820139188105, 235.7177629123797, 237.18336783123343, 218.99090191391883, 202.95663527196908, 187.94471311592275, 176.49863632740454, 175.83743117910387, 163.05337877609455, 162.90070952126996, 163.7201631525374, 158.24518892483087, 156.2750442036175, 149.8680072806584, 146.08017630359382, 125.2379140558702, 122.64437018071372, 119.54431108419949, 117.94914931538132, 117.37458074330435, 107.1848168255409, 105.534432040665, 1520.8092634161117, 1306.1357542765654, 1220.9242195943773, 954.0779128626161, 924.670644435916, 921.6715686789591, 909.3941547044365, 748.7528412660549, 581.4128143352962, 476.0518620694938, 401.51868356867686, 342.8908179037828, 339.18914541271334, 330.48844963408084, 319.5863407359764, 302.0831937397201, 300.14406560814837, 293.54408731857933, 227.73685628067577, 209.68005924649322, 177.54805575346163, 174.17073555336376, 171.26769723166967, 137.94086116537653, 131.9089544362344, 132.27737316949862, 129.59301240650154, 114.96819601544254, 113.81076795641226, 107.64314292496937, 759.0449271178861, 708.1477409897825, 570.6456002256944, 546.3205287954473, 493.0952999897102, 440.2167011420226, 430.88788660068485, 393.2295550137243, 255.9889498587149, 249.41221002082983, 199.57246072251579, 195.31008677927665, 183.09707117130307, 179.69924774590018, 144.67838032186873, 141.20051992233465, 118.77019875390074, 108.3190558358454, 107.0802092176616, 100.26825674001944, 96.67994757010919, 92.66637318557643, 89.45515627025351, 83.11250471916588, 79.78595490589517, 77.31572272020516, 75.5752425598224, 73.7523540606166, 70.78804407130049, 69.27635970243007], \"Category\": [\"Default\", \"Default\", \"Default\", \"Default\", \"Default\", \"Default\", \"Default\", \"Default\", \"Default\", \"Default\", \"Default\", \"Default\", \"Default\", \"Default\", \"Default\", \"Default\", \"Default\", \"Default\", \"Default\", \"Default\", \"Default\", \"Default\", \"Default\", \"Default\", \"Default\", \"Default\", \"Default\", \"Default\", \"Default\", \"Default\", \"Topic1\", \"Topic1\", \"Topic1\", \"Topic1\", \"Topic1\", \"Topic1\", \"Topic1\", \"Topic1\", \"Topic1\", \"Topic1\", \"Topic1\", \"Topic1\", \"Topic1\", \"Topic1\", \"Topic1\", \"Topic1\", \"Topic1\", \"Topic1\", \"Topic1\", \"Topic1\", \"Topic1\", \"Topic1\", \"Topic1\", \"Topic1\", \"Topic1\", \"Topic1\", \"Topic1\", \"Topic1\", \"Topic1\", \"Topic1\", \"Topic2\", \"Topic2\", \"Topic2\", \"Topic2\", \"Topic2\", \"Topic2\", \"Topic2\", \"Topic2\", \"Topic2\", \"Topic2\", \"Topic2\", \"Topic2\", \"Topic2\", \"Topic2\", \"Topic2\", \"Topic2\", \"Topic2\", \"Topic2\", \"Topic2\", \"Topic2\", \"Topic2\", \"Topic2\", \"Topic2\", \"Topic2\", \"Topic2\", \"Topic2\", \"Topic2\", \"Topic2\", \"Topic2\", \"Topic2\", \"Topic3\", \"Topic3\", \"Topic3\", \"Topic3\", \"Topic3\", \"Topic3\", \"Topic3\", \"Topic3\", \"Topic3\", \"Topic3\", \"Topic3\", \"Topic3\", \"Topic3\", \"Topic3\", \"Topic3\", \"Topic3\", \"Topic3\", \"Topic3\", \"Topic3\", \"Topic3\", \"Topic3\", \"Topic3\", \"Topic3\", \"Topic3\", \"Topic3\", \"Topic3\", \"Topic3\", \"Topic3\", \"Topic3\", \"Topic3\", \"Topic4\", \"Topic4\", \"Topic4\", \"Topic4\", \"Topic4\", \"Topic4\", \"Topic4\", \"Topic4\", \"Topic4\", \"Topic4\", \"Topic4\", \"Topic4\", \"Topic4\", \"Topic4\", \"Topic4\", \"Topic4\", \"Topic4\", \"Topic4\", \"Topic4\", \"Topic4\", \"Topic4\", \"Topic4\", \"Topic4\", \"Topic4\", \"Topic4\", \"Topic4\", \"Topic4\", \"Topic4\", \"Topic4\", \"Topic4\", \"Topic5\", \"Topic5\", \"Topic5\", \"Topic5\", \"Topic5\", \"Topic5\", \"Topic5\", \"Topic5\", \"Topic5\", \"Topic5\", \"Topic5\", \"Topic5\", \"Topic5\", \"Topic5\", \"Topic5\", \"Topic5\", \"Topic5\", \"Topic5\", \"Topic5\", \"Topic5\", \"Topic5\", \"Topic5\", \"Topic5\", \"Topic5\", \"Topic5\", \"Topic5\", \"Topic5\", \"Topic5\", \"Topic5\", \"Topic5\"], \"logprob\": [30.0, 29.0, 28.0, 27.0, 26.0, 25.0, 24.0, 23.0, 22.0, 21.0, 20.0, 19.0, 18.0, 17.0, 16.0, 15.0, 14.0, 13.0, 12.0, 11.0, 10.0, 9.0, 8.0, 7.0, 6.0, 5.0, 4.0, 3.0, 2.0, 1.0, -2.467, -3.1534, -3.1302, -3.2799, -3.3215, -3.4286, -3.5419, -3.9762, -4.0986, -4.1277, -4.1445, -4.178, -4.216, -4.265, -4.4683, -4.5084, -4.6009, -4.6042, -4.7071, -4.7696, -4.7737, -4.7941, -4.8047, -4.8207, -4.8366, -4.8924, -4.9053, -4.923, -4.9266, -4.934, -2.355, -2.6555, -2.9592, -3.314, -3.4597, -3.4846, -3.6183, -3.6413, -3.7134, -3.7582, -3.8051, -3.8182, -3.8521, -3.8982, -3.9209, -4.0553, -4.0861, -4.1898, -4.3004, -4.341, -4.451, -4.5503, -4.5602, -4.7705, -4.8742, -4.894, -4.9147, -4.9395, -5.0454, -5.0845, -2.8323, -3.0383, -3.4323, -3.4511, -3.532, -3.6013, -3.9463, -4.0145, -4.0703, -4.1146, -4.1084, -4.1885, -4.2649, -4.3421, -4.4052, -4.409, -4.4848, -4.4857, -4.4807, -4.5149, -4.5275, -4.5696, -4.5953, -4.7502, -4.7713, -4.797, -4.8106, -4.8155, -4.907, -4.9226, -2.5965, -2.7488, -2.8163, -3.0631, -3.0944, -3.0977, -3.1111, -3.3057, -3.5589, -3.7592, -3.9297, -4.0879, -4.0988, -4.1249, -4.1585, -4.215, -4.2214, -4.2438, -4.4984, -4.5813, -4.7483, -4.7676, -4.7846, -5.0021, -5.047, -5.0443, -5.0649, -5.1855, -5.1957, -5.2518, -2.7021, -2.7716, -2.9877, -3.0314, -3.134, -3.2477, -3.2692, -3.3608, -3.7912, -3.8173, -4.0411, -4.0629, -4.1276, -4.1467, -4.3643, -4.3888, -4.5629, -4.6557, -4.6673, -4.7336, -4.7703, -4.8131, -4.8487, -4.9229, -4.9642, -4.996, -5.0193, -5.0437, -5.0852, -5.1072], \"loglift\": [30.0, 29.0, 28.0, 27.0, 26.0, 25.0, 24.0, 23.0, 22.0, 21.0, 20.0, 19.0, 18.0, 17.0, 16.0, 15.0, 14.0, 13.0, 12.0, 11.0, 10.0, 9.0, 8.0, 7.0, 6.0, 5.0, 4.0, 3.0, 2.0, 1.0, 1.5996, 1.599, 1.599, 1.5989, 1.5988, 1.5986, 1.5985, 1.5975, 1.5972, 1.5971, 1.597, 1.5969, 1.5968, 1.5966, 1.5957, 1.5956, 1.5952, 1.5951, 1.5946, 1.5942, 1.5942, 1.5941, 1.594, 1.5939, 1.5938, 1.5934, 1.5934, 1.5932, 1.5932, 1.5931, 1.5013, 1.5011, 1.5009, 1.5005, 1.5003, 1.5002, 1.5, 1.5, 1.4999, 1.4998, 1.4997, 1.4996, 1.4996, 1.4995, 1.4994, 1.4991, 1.499, 1.4987, 1.4984, 1.4982, 1.4978, 1.4974, 1.4973, 1.4963, 1.4957, 1.4956, 1.4954, 1.4953, 1.4946, 1.4943, 1.7161, 1.7159, 1.7153, 1.7153, 1.715, 1.715, 1.7141, 1.7139, 1.7137, 1.7136, 1.7136, 1.7133, 1.713, 1.7126, 1.7124, 1.7123, 1.712, 1.712, 1.712, 1.7118, 1.7118, 1.7115, 1.7114, 1.7104, 1.7103, 1.7101, 1.71, 1.71, 1.7093, 1.7092, 1.3673, 1.3672, 1.3672, 1.367, 1.367, 1.367, 1.367, 1.3668, 1.3665, 1.3662, 1.3658, 1.3655, 1.3655, 1.3654, 1.3653, 1.3652, 1.3652, 1.3651, 1.3643, 1.364, 1.3633, 1.3632, 1.3631, 1.3619, 1.3617, 1.3616, 1.3616, 1.3607, 1.3606, 1.3603, 1.9567, 1.9566, 1.9563, 1.9563, 1.9561, 1.9559, 1.9558, 1.9557, 1.9545, 1.9544, 1.9536, 1.9534, 1.9532, 1.9529, 1.952, 1.9519, 1.9508, 1.9501, 1.95, 1.9494, 1.9491, 1.9488, 1.9485, 1.9477, 1.9473, 1.9469, 1.9465, 1.9465, 1.946, 1.9456]}, \"token.table\": {\"Topic\": [1, 3, 4, 5, 3, 4, 2, 4, 4, 1, 3, 1, 3, 5, 5, 1, 2, 1, 2, 1, 2, 2, 4, 5, 4, 2, 5, 1, 3, 3, 5, 5, 3, 1, 2, 3, 4, 2, 5, 3, 2, 1, 3, 3, 4, 5, 3, 4, 5, 4, 2, 2, 4, 5, 5, 4, 1, 5, 4, 2, 1, 5, 5, 3, 5, 4, 2, 3, 3, 4, 5, 4, 1, 4, 2, 1, 3, 5, 1, 3, 2, 1, 3, 3, 2, 4, 1, 2, 4, 4, 2, 2, 2, 5, 5, 5, 1, 1, 2, 1, 2, 3, 3, 4, 1, 2, 2, 3, 5, 1, 4, 2, 5, 4, 3, 2, 5, 4, 2, 3, 1, 5, 5, 1, 2, 3, 5, 4, 3, 1, 1, 3, 4, 1, 4, 2, 1, 5, 5, 1, 5, 3, 3, 1, 4, 2, 4, 4, 3, 1], \"Freq\": [0.9961091342094246, 0.9971807535344914, 0.997402036283069, 0.9878224950756181, 0.9952374692152385, 0.9969131976628196, 0.9977766724887567, 0.9989945396871123, 0.9994678731675438, 0.9974485119939638, 0.9889460386215954, 0.9944166774273855, 0.9949734520313958, 0.9979394022707636, 0.9897989146217863, 0.9993898828067201, 0.9978084241901791, 0.9913173247068384, 0.9985091349346803, 0.9953687849820445, 0.9932894976805194, 0.9960751604451585, 0.9964142535494596, 0.9972361313442534, 0.998870204573354, 0.9992273126030918, 0.9914977655677545, 0.9983401122885429, 0.9942081882824206, 0.9952865040815879, 0.9901492072530538, 0.9968731876888517, 0.99695499013943, 0.9929881129630116, 0.9990162351952334, 0.9982334276158166, 0.9931792424853102, 0.9940733588706772, 0.9949119057052627, 0.9919528939302189, 0.9988577364372544, 0.9907884463090142, 0.9992800264869738, 0.9950107469927004, 0.9992430164136769, 0.9971315645433078, 0.9918410248410732, 0.9977904464758921, 0.9888675540956219, 0.998522037200932, 0.9950936539646377, 0.9968695808392708, 0.9981653135280246, 0.9988686494289293, 0.9953111147611722, 0.9931092287091563, 0.989896233608199, 0.9961087886862557, 0.99814648857843, 0.9990692751339336, 0.9949498677065072, 0.9983472740937767, 0.9975828680676545, 0.9988644453138146, 0.9932922728115051, 0.999271357930763, 0.9978661559361383, 0.9954467838806975, 0.9980099231928403, 0.9995665744029721, 0.9866144724801039, 0.993278230411991, 0.998311327798614, 0.9992899806727374, 0.9982410082010374, 0.9979668629955173, 0.9944708066409474, 0.9928088996831468, 0.9981580152516017, 0.9956012555895976, 0.996586568624909, 0.9978552165748448, 0.9901155008433152, 0.9949359462089201, 0.9955143314247396, 0.9915785752147273, 0.9936016704580497, 0.9968854440566631, 0.9928761753305911, 0.9954240402666047, 0.9885068364931553, 0.9989465593316279, 0.998042904758978, 0.989912148794313, 0.9940082538498026, 0.997778725553188, 0.9958992288499051, 0.996077369820484, 0.997804162874089, 0.9952216852202301, 0.9996792104551098, 0.9984649559508737, 0.9971748431728414, 0.9987081956832822, 0.99583367244307, 0.9989622793753598, 0.9983953776563671, 0.9968086723638779, 0.9829824688444474, 0.9906876919589049, 0.9940252308926203, 0.9932899782663922, 0.9986233659160945, 0.9991304469900263, 0.9935396691316587, 0.998726034553878, 0.9923884788147778, 0.9925981533461334, 0.9984073809375709, 0.9985293685647503, 0.9911552784087958, 0.9983792351181149, 0.9935152187839927, 0.9970365214109593, 0.9917432968196405, 0.9954751457468843, 0.9929670258704255, 0.996188278432791, 0.996678355299178, 0.9990568056701149, 0.9994000326797058, 0.9987733664928045, 0.9967644399211008, 0.9965943100779604, 0.9964941525140304, 0.9944679988779025, 0.9984237465694612, 0.9873513634199521, 0.9815758260406212, 0.9928496145259531, 0.996136747858606, 0.9926055928263058, 0.992131268360883, 0.9916292559297916, 0.9903432224356179, 0.9959676754731479, 0.9967566813509254, 0.9992747207452173, 0.9947460272349701, 0.9957149801500172], \"Term\": [\"acced\", \"activ\", \"actualiz\", \"adquir\", \"ahor\", \"amig\", \"aparec\", \"aplic\", \"app\", \"asesor\", \"asi\", \"atencion\", \"benefici\", \"bien\", \"bloqu\", \"buen\", \"busc\", \"cae\", \"cambi\", \"cambi_clav\", \"cambi_numer\", \"cancel\", \"carg\", \"celul\", \"clar\", \"clar_hog\", \"clar_vide\", \"client\", \"cobertur\", \"cobr\", \"complic\", \"compr\", \"compr_paquet\", \"conect\", \"consult\", \"consum\", \"consum_dat\", \"contest\", \"corre\", \"cuant\", \"cuent\", \"da\", \"dat\", \"deb\", \"dej\", \"demor\", \"dias\", \"dic\", \"dificil\", \"eleg\", \"encontr\", \"encuentr\", \"entrar\", \"equip\", \"equip_financi\", \"error\", \"esper\", \"excelent\", \"facil\", \"factur\", \"fall\", \"famili_amig\", \"funcion\", \"graci\", \"gust\", \"hac\", \"hog\", \"hor\", \"inform\", \"ingres\", \"inscrib\", \"intent\", \"internet\", \"lent\", \"line\", \"llam\", \"lleg\", \"logr\", \"mal\", \"mas\", \"medi\", \"mejor\", \"mes\", \"minut\", \"mir\", \"mism\", \"moment\", \"movil\", \"much\", \"muestr\", \"naveg\", \"necesit\", \"ningun\", \"nombr\", \"nuev\", \"numer\", \"nunc\", \"ofrec\", \"opcion\", \"oper\", \"pag\", \"paquet\", \"pas\", \"permit\", \"pesim\", \"plan\", \"pod\", \"posibl\", \"pregunt\", \"problem\", \"proces\", \"product\", \"pud\", \"pued\", \"qued\", \"quier\", \"quis\", \"rap\", \"realiz\", \"recarg\", \"red\", \"registr\", \"respond\", \"respuest\", \"revis\", \"sab\", \"sac\", \"sal\", \"sald\", \"servici\", \"se\\u00f1al\", \"si\", \"siempr\", \"sirv\", \"sol\", \"solicit\", \"solucion\", \"tampoc\", \"tard\", \"tecnic\", \"telefon\", \"ten\", \"tiemp\", \"usted\", \"usuari\", \"valor\", \"vec\", \"ver\", \"verific\", \"wifi\"]}, \"R\": 30, \"lambda.step\": 0.01, \"plot.opts\": {\"xlab\": \"PC1\", \"ylab\": \"PC2\"}, \"topic.order\": [1, 2, 3, 4, 5]};\n",
       "\n",
       "function LDAvis_load_lib(url, callback){\n",
       "  var s = document.createElement('script');\n",
       "  s.src = url;\n",
       "  s.async = true;\n",
       "  s.onreadystatechange = s.onload = callback;\n",
       "  s.onerror = function(){console.warn(\"failed to load library \" + url);};\n",
       "  document.getElementsByTagName(\"head\")[0].appendChild(s);\n",
       "}\n",
       "\n",
       "if(typeof(LDAvis) !== \"undefined\"){\n",
       "   // already loaded: just create the visualization\n",
       "   !function(LDAvis){\n",
       "       new LDAvis(\"#\" + \"ldavis_el1238021449984815846896140199\", ldavis_el1238021449984815846896140199_data);\n",
       "   }(LDAvis);\n",
       "}else if(typeof define === \"function\" && define.amd){\n",
       "   // require.js is available: use it to load d3/LDAvis\n",
       "   require.config({paths: {d3: \"https://d3js.org/d3.v5\"}});\n",
       "   require([\"d3\"], function(d3){\n",
       "      window.d3 = d3;\n",
       "      LDAvis_load_lib(\"https://cdn.jsdelivr.net/gh/bmabey/pyLDAvis@3.3.1/pyLDAvis/js/ldavis.v3.0.0.js\", function(){\n",
       "        new LDAvis(\"#\" + \"ldavis_el1238021449984815846896140199\", ldavis_el1238021449984815846896140199_data);\n",
       "      });\n",
       "    });\n",
       "}else{\n",
       "    // require.js not available: dynamically load d3 & LDAvis\n",
       "    LDAvis_load_lib(\"https://d3js.org/d3.v5.js\", function(){\n",
       "         LDAvis_load_lib(\"https://cdn.jsdelivr.net/gh/bmabey/pyLDAvis@3.3.1/pyLDAvis/js/ldavis.v3.0.0.js\", function(){\n",
       "                 new LDAvis(\"#\" + \"ldavis_el1238021449984815846896140199\", ldavis_el1238021449984815846896140199_data);\n",
       "            })\n",
       "         });\n",
       "}\n",
       "</script>"
      ],
      "text/plain": [
       "<IPython.core.display.HTML object>"
      ]
     },
     "execution_count": 96,
     "metadata": {},
     "output_type": "execute_result"
    }
   ],
   "source": [
    "lda_display = pyLDAvis.gensim_models.prepare(lda, corpus, diccionario, sort_topics=False)\n",
    "pyLDAvis.display(lda_display)"
   ]
  },
  {
   "cell_type": "code",
   "execution_count": 97,
   "metadata": {},
   "outputs": [],
   "source": [
    "pyLDAvis.save_html(lda_display, 'lda_General_4_V3.html')"
   ]
  },
  {
   "cell_type": "markdown",
   "metadata": {},
   "source": [
    "####  fin simplificación"
   ]
  },
  {
   "cell_type": "markdown",
   "metadata": {},
   "source": [
    "###  Clasificación de los textos en tópicos"
   ]
  },
  {
   "cell_type": "code",
   "execution_count": 98,
   "metadata": {},
   "outputs": [],
   "source": [
    "dfc2 = dfc.fillna('')"
   ]
  },
  {
   "cell_type": "code",
   "execution_count": 99,
   "metadata": {},
   "outputs": [],
   "source": [
    "for column in Qs:    \n",
    "    dfc2[\"Tokens_\"+column+\"_T\"] = dfc2[\"Tokens_\"+column]\n",
    "    dfc2[\"Tokens_\"+column] =  dfc2[column].apply(limpiar_texto)\n",
    "    dfc2[\"Tokens_\"+column] =  dfc2[column].apply(Limpiar_Caracter)"
   ]
  },
  {
   "cell_type": "code",
   "execution_count": 100,
   "metadata": {},
   "outputs": [
    {
     "data": {
      "text/html": [
       "<div>\n",
       "<style scoped>\n",
       "    .dataframe tbody tr th:only-of-type {\n",
       "        vertical-align: middle;\n",
       "    }\n",
       "\n",
       "    .dataframe tbody tr th {\n",
       "        vertical-align: top;\n",
       "    }\n",
       "\n",
       "    .dataframe thead th {\n",
       "        text-align: right;\n",
       "    }\n",
       "</style>\n",
       "<table border=\"1\" class=\"dataframe\">\n",
       "  <thead>\n",
       "    <tr style=\"text-align: right;\">\n",
       "      <th></th>\n",
       "      <th>StartDate</th>\n",
       "      <th>EndDate</th>\n",
       "      <th>Status</th>\n",
       "      <th>IPAddress</th>\n",
       "      <th>Progress</th>\n",
       "      <th>Duration (in seconds)</th>\n",
       "      <th>Finished</th>\n",
       "      <th>RecordedDate</th>\n",
       "      <th>ResponseId</th>\n",
       "      <th>RecipientLastName</th>\n",
       "      <th>...</th>\n",
       "      <th>Sent_Q18</th>\n",
       "      <th>Tokens_Q20</th>\n",
       "      <th>Sent_Q20</th>\n",
       "      <th>Tokens_Q4_T</th>\n",
       "      <th>Tokens_Q10_T</th>\n",
       "      <th>Tokens_Q12_T</th>\n",
       "      <th>Tokens_Q15_T</th>\n",
       "      <th>Tokens_Q18_T</th>\n",
       "      <th>Tokens_Q20_T</th>\n",
       "      <th>Opinion</th>\n",
       "    </tr>\n",
       "  </thead>\n",
       "  <tbody>\n",
       "    <tr>\n",
       "      <th>4</th>\n",
       "      <td>2021-05-01 00:14:21</td>\n",
       "      <td>2021-05-01 00:15:37</td>\n",
       "      <td>IP Address</td>\n",
       "      <td>181.53.12.201</td>\n",
       "      <td>100</td>\n",
       "      <td>76</td>\n",
       "      <td>True</td>\n",
       "      <td>2021-05-01 00:15:38.223</td>\n",
       "      <td>R_udHanua3i8beZtT</td>\n",
       "      <td></td>\n",
       "      <td>...</td>\n",
       "      <td></td>\n",
       "      <td></td>\n",
       "      <td></td>\n",
       "      <td>[ningun]</td>\n",
       "      <td>[]</td>\n",
       "      <td>[]</td>\n",
       "      <td>[]</td>\n",
       "      <td>[]</td>\n",
       "      <td>[]</td>\n",
       "      <td></td>\n",
       "    </tr>\n",
       "    <tr>\n",
       "      <th>9</th>\n",
       "      <td>2021-05-01 00:56:56</td>\n",
       "      <td>2021-05-01 00:58:36</td>\n",
       "      <td>IP Address</td>\n",
       "      <td>191.156.52.30</td>\n",
       "      <td>100</td>\n",
       "      <td>100</td>\n",
       "      <td>True</td>\n",
       "      <td>2021-05-01 00:58:37.141</td>\n",
       "      <td>R_XjMcEuP3zshnpF7</td>\n",
       "      <td></td>\n",
       "      <td>...</td>\n",
       "      <td></td>\n",
       "      <td>Me parece bien</td>\n",
       "      <td>-0.8938357315867129</td>\n",
       "      <td>[qued, sald, carg, app, pod, recarg, vez]</td>\n",
       "      <td>[]</td>\n",
       "      <td>[]</td>\n",
       "      <td>[]</td>\n",
       "      <td>[]</td>\n",
       "      <td>[parec, bien]</td>\n",
       "      <td></td>\n",
       "    </tr>\n",
       "  </tbody>\n",
       "</table>\n",
       "<p>2 rows × 72 columns</p>\n",
       "</div>"
      ],
      "text/plain": [
       "            StartDate             EndDate      Status      IPAddress  \\\n",
       "4 2021-05-01 00:14:21 2021-05-01 00:15:37  IP Address  181.53.12.201   \n",
       "9 2021-05-01 00:56:56 2021-05-01 00:58:36  IP Address  191.156.52.30   \n",
       "\n",
       "   Progress  Duration (in seconds) Finished            RecordedDate  \\\n",
       "4       100                     76     True 2021-05-01 00:15:38.223   \n",
       "9       100                    100     True 2021-05-01 00:58:37.141   \n",
       "\n",
       "          ResponseId RecipientLastName  ... Sent_Q18       Tokens_Q20  \\\n",
       "4  R_udHanua3i8beZtT                    ...                             \n",
       "9  R_XjMcEuP3zshnpF7                    ...           Me parece bien    \n",
       "\n",
       "              Sent_Q20                                Tokens_Q4_T  \\\n",
       "4                                                        [ningun]   \n",
       "9  -0.8938357315867129  [qued, sald, carg, app, pod, recarg, vez]   \n",
       "\n",
       "  Tokens_Q10_T Tokens_Q12_T Tokens_Q15_T Tokens_Q18_T   Tokens_Q20_T Opinion  \n",
       "4           []           []           []           []             []          \n",
       "9           []           []           []           []  [parec, bien]          \n",
       "\n",
       "[2 rows x 72 columns]"
      ]
     },
     "execution_count": 100,
     "metadata": {},
     "output_type": "execute_result"
    }
   ],
   "source": [
    "columnasDefTopico=['Q12','Q15','Q18']\n",
    "dfc2['Opinion'] = ''\n",
    "for i in dfc2.index:\n",
    "    for column in columnasDefTopico: \n",
    "        dfc2.loc[i,'Opinion']=dfc2.loc[i,'Opinion']+str(dfc2.loc[i,\"Tokens_\"+column])+\" \"\n",
    "dfc2.head(2)"
   ]
  },
  {
   "cell_type": "code",
   "execution_count": 101,
   "metadata": {},
   "outputs": [
    {
     "data": {
      "text/plain": [
       "4                                                       []\n",
       "9                                                       []\n",
       "10                                            [mal, señal]\n",
       "11       [me, cambi, x, mes, oper, regres, nuev, sub, m...\n",
       "13       [se, demor, carg, despues, dic, sient, trabaj,...\n",
       "                               ...                        \n",
       "48043    [antes, mas, facil, encontr, hac, cos, ya, pue...\n",
       "48048                                                   []\n",
       "48049                                                   []\n",
       "48050                     [bn, no, entend, bien, graci, 😊]\n",
       "48052            [es, lent, app, se, demor, entrar, aplic]\n",
       "Name: Opinion, Length: 22263, dtype: object"
      ]
     },
     "execution_count": 101,
     "metadata": {},
     "output_type": "execute_result"
    }
   ],
   "source": [
    "dfc2['Opinion'] = dfc2['Opinion'].apply(tokenizer.tokenize)\n",
    "dfc2['Opinion'] = dfc2['Opinion'].apply(filtrar_stopword_digitos)\n",
    "dfc2['Opinion'] = dfc2['Opinion'].apply(stem_palabras)\n",
    "dfc2['Opinion'] "
   ]
  },
  {
   "cell_type": "code",
   "execution_count": 102,
   "metadata": {},
   "outputs": [
    {
     "data": {
      "text/html": [
       "<div>\n",
       "<style scoped>\n",
       "    .dataframe tbody tr th:only-of-type {\n",
       "        vertical-align: middle;\n",
       "    }\n",
       "\n",
       "    .dataframe tbody tr th {\n",
       "        vertical-align: top;\n",
       "    }\n",
       "\n",
       "    .dataframe thead th {\n",
       "        text-align: right;\n",
       "    }\n",
       "</style>\n",
       "<table border=\"1\" class=\"dataframe\">\n",
       "  <thead>\n",
       "    <tr style=\"text-align: right;\">\n",
       "      <th></th>\n",
       "      <th>StartDate</th>\n",
       "      <th>EndDate</th>\n",
       "      <th>Status</th>\n",
       "      <th>IPAddress</th>\n",
       "      <th>Progress</th>\n",
       "      <th>Duration (in seconds)</th>\n",
       "      <th>Finished</th>\n",
       "      <th>RecordedDate</th>\n",
       "      <th>ResponseId</th>\n",
       "      <th>RecipientLastName</th>\n",
       "      <th>...</th>\n",
       "      <th>Sent_Q18</th>\n",
       "      <th>Tokens_Q20</th>\n",
       "      <th>Sent_Q20</th>\n",
       "      <th>Tokens_Q4_T</th>\n",
       "      <th>Tokens_Q10_T</th>\n",
       "      <th>Tokens_Q12_T</th>\n",
       "      <th>Tokens_Q15_T</th>\n",
       "      <th>Tokens_Q18_T</th>\n",
       "      <th>Tokens_Q20_T</th>\n",
       "      <th>Opinion</th>\n",
       "    </tr>\n",
       "  </thead>\n",
       "  <tbody>\n",
       "    <tr>\n",
       "      <th>10</th>\n",
       "      <td>2021-05-01 01:11:12</td>\n",
       "      <td>2021-05-01 01:13:28</td>\n",
       "      <td>IP Address</td>\n",
       "      <td>190.26.155.7</td>\n",
       "      <td>100</td>\n",
       "      <td>136</td>\n",
       "      <td>True</td>\n",
       "      <td>2021-05-01 01:13:29.173</td>\n",
       "      <td>R_x5YL4kva6EbeuWJ</td>\n",
       "      <td></td>\n",
       "      <td>...</td>\n",
       "      <td></td>\n",
       "      <td></td>\n",
       "      <td></td>\n",
       "      <td>[]</td>\n",
       "      <td>[]</td>\n",
       "      <td>[]</td>\n",
       "      <td>[mal, señal]</td>\n",
       "      <td>[]</td>\n",
       "      <td>[]</td>\n",
       "      <td>[mal, señal]</td>\n",
       "    </tr>\n",
       "    <tr>\n",
       "      <th>11</th>\n",
       "      <td>2021-05-01 01:15:49</td>\n",
       "      <td>2021-05-01 01:21:26</td>\n",
       "      <td>IP Address</td>\n",
       "      <td>186.29.191.43</td>\n",
       "      <td>100</td>\n",
       "      <td>336</td>\n",
       "      <td>True</td>\n",
       "      <td>2021-05-01 01:21:26.392</td>\n",
       "      <td>R_3ltBuR7i97QbFAM</td>\n",
       "      <td></td>\n",
       "      <td>...</td>\n",
       "      <td></td>\n",
       "      <td></td>\n",
       "      <td></td>\n",
       "      <td>[bastant, tiemp, usted, sub, plan, line]</td>\n",
       "      <td>[]</td>\n",
       "      <td>[]</td>\n",
       "      <td>[cambi, mes, oper, regres, nuev, sub, mil, pes...</td>\n",
       "      <td>[]</td>\n",
       "      <td>[]</td>\n",
       "      <td>[me, cambi, x, mes, oper, regres, nuev, sub, m...</td>\n",
       "    </tr>\n",
       "  </tbody>\n",
       "</table>\n",
       "<p>2 rows × 72 columns</p>\n",
       "</div>"
      ],
      "text/plain": [
       "             StartDate             EndDate      Status      IPAddress  \\\n",
       "10 2021-05-01 01:11:12 2021-05-01 01:13:28  IP Address   190.26.155.7   \n",
       "11 2021-05-01 01:15:49 2021-05-01 01:21:26  IP Address  186.29.191.43   \n",
       "\n",
       "    Progress  Duration (in seconds) Finished            RecordedDate  \\\n",
       "10       100                    136     True 2021-05-01 01:13:29.173   \n",
       "11       100                    336     True 2021-05-01 01:21:26.392   \n",
       "\n",
       "           ResponseId RecipientLastName  ... Sent_Q18 Tokens_Q20 Sent_Q20  \\\n",
       "10  R_x5YL4kva6EbeuWJ                    ...                                \n",
       "11  R_3ltBuR7i97QbFAM                    ...                                \n",
       "\n",
       "                                 Tokens_Q4_T Tokens_Q10_T Tokens_Q12_T  \\\n",
       "10                                        []           []           []   \n",
       "11  [bastant, tiemp, usted, sub, plan, line]           []           []   \n",
       "\n",
       "                                         Tokens_Q15_T Tokens_Q18_T  \\\n",
       "10                                       [mal, señal]           []   \n",
       "11  [cambi, mes, oper, regres, nuev, sub, mil, pes...           []   \n",
       "\n",
       "   Tokens_Q20_T                                            Opinion  \n",
       "10           []                                       [mal, señal]  \n",
       "11           []  [me, cambi, x, mes, oper, regres, nuev, sub, m...  \n",
       "\n",
       "[2 rows x 72 columns]"
      ]
     },
     "execution_count": 102,
     "metadata": {},
     "output_type": "execute_result"
    }
   ],
   "source": [
    "for i in dfc2.index:    \n",
    "    if dfc2.loc[i,'Opinion']==[]:\n",
    "        dfc2.drop([i], inplace=True)\n",
    "dfc2.head(2)"
   ]
  },
  {
   "cell_type": "code",
   "execution_count": 103,
   "metadata": {},
   "outputs": [],
   "source": [
    "dfc2['Tópico'] = \"\"\n",
    "sumaTopicos = [0]*(numeroTopicos+1)\n",
    "for i in dfc2.index:\n",
    "    bow_comentario = diccionario.doc2bow(dfc2.loc[i,'Opinion'])\n",
    "    distribucion_noticia = lda[bow_comentario]\n",
    "    dist_contrib = [topico[1] for topico in lda[bow_comentario]]\n",
    "    dfc2.loc[i,'Tópico']=dist_contrib.index(max(dist_contrib))+1\n",
    "    \n",
    "    # sumar pertenencias a los tópicos\n",
    "    for idx, val in enumerate(dist_contrib):\n",
    "        sumaTopicos[idx+1]=sumaTopicos[idx+1]+dist_contrib[idx]    "
   ]
  },
  {
   "cell_type": "code",
   "execution_count": 104,
   "metadata": {
    "scrolled": true
   },
   "outputs": [
    {
     "data": {
      "text/plain": [
       "4    2887\n",
       "2    1719\n",
       "1    1229\n",
       "3     752\n",
       "5     544\n",
       "Name: Tópico, dtype: int64"
      ]
     },
     "execution_count": 104,
     "metadata": {},
     "output_type": "execute_result"
    }
   ],
   "source": [
    "dfc2.Tópico.value_counts()"
   ]
  },
  {
   "cell_type": "markdown",
   "metadata": {},
   "source": [
    "#####  Validación asignación de Tópicos"
   ]
  },
  {
   "cell_type": "code",
   "execution_count": 30,
   "metadata": {},
   "outputs": [
    {
     "name": "stdout",
     "output_type": "stream",
     "text": [
      "Score:0.34969139099121094\t Topic:0.085*\"servici\" + 0.044*\"buen\" + 0.043*\"internet\" + 0.038*\"mal\" + 0.036*\"señal\"\n",
      "Score:0.20666146278381348\t Topic:0.075*\"app\" + 0.064*\"pued\" + 0.060*\"dej\" + 0.047*\"clar\" + 0.045*\"ver\"\n",
      "Score:0.1831425577402115\t Topic:0.095*\"pag\" + 0.070*\"factur\" + 0.052*\"plan\" + 0.036*\"consult\" + 0.031*\"cuent\"\n",
      "Score:0.14199717342853546\t Topic:0.059*\"dat\" + 0.048*\"recarg\" + 0.032*\"si\" + 0.032*\"inform\" + 0.029*\"graci\"\n",
      "Score:0.11850738525390625\t Topic:0.067*\"pud\" + 0.063*\"registr\" + 0.050*\"equip\" + 0.048*\"funcion\" + 0.044*\"numer\"\n"
     ]
    }
   ],
   "source": [
    "for index,score in sorted(lda[diccionario.doc2bow(dfc2.loc[10,'Opinion'])], key=lambda tup: -1*tup[1]):\n",
    "    print(\"Score:{}\\t Topic:{}\".format(score,lda.print_topic(index,5)))"
   ]
  },
  {
   "cell_type": "code",
   "execution_count": 31,
   "metadata": {},
   "outputs": [
    {
     "data": {
      "text/plain": [
       "[0.3496914, 0.18314257, 0.14199719, 0.20666148, 0.1185074]"
      ]
     },
     "execution_count": 31,
     "metadata": {},
     "output_type": "execute_result"
    }
   ],
   "source": [
    "bow_comentario = diccionario.doc2bow(dfc2.loc[10,'Opinion'])\n",
    "distribucion_noticia = lda[bow_comentario]\n",
    "dist_contrib = [topico[1] for topico in lda[bow_comentario]]\n",
    "dist_contrib"
   ]
  },
  {
   "cell_type": "markdown",
   "metadata": {},
   "source": [
    "####  fin validacion"
   ]
  },
  {
   "cell_type": "markdown",
   "metadata": {},
   "source": [
    "###  zoom al topico_4  número 3"
   ]
  },
  {
   "cell_type": "code",
   "execution_count": 126,
   "metadata": {},
   "outputs": [],
   "source": [
    "numeroTopicos=4\n",
    "topicoZoom=4"
   ]
  },
  {
   "cell_type": "code",
   "execution_count": 127,
   "metadata": {},
   "outputs": [],
   "source": [
    "## Quitar pag pactur\n",
    "dfc2Zoom=dfc2.copy()\n",
    "dfc2Zoom['contienePagFact']=dfc2Zoom['Opinion'].apply(lambda x: 1 if 'pag' in x else 0)\n",
    "dfc2Zoom=dfc2Zoom[dfc2Zoom['contienePagFact']==0]\n",
    "dfc2Zoom=dfc2Zoom[dfc2Zoom['Tópico']==topicoZoom]"
   ]
  },
  {
   "cell_type": "code",
   "execution_count": 128,
   "metadata": {},
   "outputs": [],
   "source": [
    "# Repite el proceso de topicos"
   ]
  },
  {
   "cell_type": "code",
   "execution_count": 129,
   "metadata": {},
   "outputs": [],
   "source": [
    "Lista_generalZoom=[]\n",
    "for column in Qs:   \n",
    "    if column in ('Q4','Q10','Q12','Q15','Q18','Q20') :\n",
    "        listAux = dfc2Zoom[\"Tokens_\"+column+\"_T\"].tolist()\n",
    "        listAux = [x for x in listAux if x!= []]\n",
    "        Lista_generalZoom = Lista_generalZoom+listAux"
   ]
  },
  {
   "cell_type": "code",
   "execution_count": 130,
   "metadata": {},
   "outputs": [],
   "source": [
    "bigramZoom = gensim.models.Phrases(Lista_generalZoom, min_count=5, threshold=10) \n",
    "trigramZoom = gensim.models.Phrases(bigramZoom[Lista_generalZoom], threshold=10)\n",
    "bigram_modZoom = gensim.models.phrases.Phraser(bigramZoom)\n",
    "trigram_modZoom = gensim.models.phrases.Phraser(trigramZoom)\n",
    "data_words_bigramsZoom = make_bigrams(Lista_generalZoom,bigram_modZoom)\n",
    "diccionarioZoom = Dictionary(data_words_bigramsZoom)\n",
    "diccionarioZoom.filter_extremes(no_below=2, no_above = 0.9)\n",
    "corpusZoom = [diccionarioZoom.doc2bow(noticia) for noticia in data_words_bigramsZoom]"
   ]
  },
  {
   "cell_type": "code",
   "execution_count": 131,
   "metadata": {},
   "outputs": [],
   "source": [
    "ldaZoom = LdaModel(corpus=corpusZoom, id2word=diccionarioZoom, \n",
    "               num_topics=numeroTopicos, random_state=35, \n",
    "               chunksize=1000, iterations=200, passes=40, alpha='auto')"
   ]
  },
  {
   "cell_type": "code",
   "execution_count": 132,
   "metadata": {
    "scrolled": false
   },
   "outputs": [
    {
     "data": {
      "text/html": [
       "\n",
       "<link rel=\"stylesheet\" type=\"text/css\" href=\"https://cdn.jsdelivr.net/gh/bmabey/pyLDAvis@3.3.1/pyLDAvis/js/ldavis.v1.0.0.css\">\n",
       "\n",
       "\n",
       "<div id=\"ldavis_el1238021453380227047136552731\"></div>\n",
       "<script type=\"text/javascript\">\n",
       "\n",
       "var ldavis_el1238021453380227047136552731_data = {\"mdsDat\": {\"x\": [0.10568068800647992, 0.2841206181506258, -0.07744029750865315, -0.3123610086484524], \"y\": [-0.02189665265105684, 0.1509231991054571, -0.34424040820610363, 0.21521386175170337], \"topics\": [1, 2, 3, 4], \"cluster\": [1, 1, 1, 1], \"Freq\": [12.633546695281817, 21.730452406329405, 26.53062220349465, 39.10537869489412]}, \"tinfo\": {\"Term\": [\"app\", \"dej\", \"ver\", \"ingres\", \"pued\", \"lent\", \"aplic\", \"clar\", \"servici\", \"dat\", \"factur\", \"plan\", \"funcion\", \"recarg\", \"sal\", \"pud\", \"eleg\", \"carg\", \"actualiz\", \"hac\", \"numer\", \"clar_hog\", \"internet\", \"sald\", \"entrar\", \"dic\", \"registr\", \"llam\", \"permit\", \"mal\", \"recarg\", \"sald\", \"necesit\", \"llam\", \"facil\", \"deb\", \"compr_paquet\", \"busc\", \"muestr\", \"se\", \"pas\", \"encuentr\", \"tiemp\", \"encontr\", \"ver_consum\", \"gig\", \"demor_carg\", \"mensaj\", \"paquet\", \"descarg_factur\", \"respuest\", \"compart\", \"com\", \"respond\", \"prepag\", \"ademas\", \"qued_carg\", \"pes\", \"inscrib_eleg\", \"manej\", \"sim\", \"ver\", \"servici\", \"factur\", \"plan\", \"sal\", \"clar_hog\", \"mal\", \"si\", \"inform\", \"equip\", \"abrir\", \"clar_vide\", \"acced\", \"activ\", \"hog\", \"consum\", \"mir\", \"benefici\", \"pesim\", \"usuari\", \"asesor\", \"cobr\", \"inici\", \"verific\", \"client\", \"asi\", \"red\", \"da\", \"tampoc\", \"posibl\", \"clar\", \"sab\", \"quer\", \"lent\", \"aplic\", \"dat\", \"funcion\", \"pud\", \"carg\", \"actualiz\", \"internet\", \"sirv\", \"vec\", \"compr\", \"demor\", \"intent\", \"pagin\", \"se\\u00f1al\", \"wifi\", \"ningun\", \"conect\", \"fall\", \"mejor\", \"proces\", \"bien\", \"qued\", \"much\", \"moment\", \"mism\", \"cae\", \"rap\", \"solucion\", \"naveg\", \"app\", \"dej\", \"ingres\", \"eleg\", \"numer\", \"entrar\", \"registr\", \"pued\", \"permit\", \"famili_amig\", \"cuent\", \"consult\", \"cambi\", \"pod\", \"error\", \"celul\", \"aparec\", \"amig\", \"line\", \"hac_recarg\", \"abre\", \"agreg\", \"product\", \"asoci\", \"fij\", \"tiend\", \"telefon\", \"bloque\", \"opcion\", \"corre\", \"toc\", \"dic\", \"quier\", \"hac\", \"sol\", \"movil\", \"realiz\", \"siempr\"], \"Freq\": [630.0, 731.0, 422.0, 623.0, 612.0, 398.0, 367.0, 325.0, 226.0, 250.0, 214.0, 201.0, 227.0, 139.0, 190.0, 211.0, 277.0, 185.0, 181.0, 330.0, 258.0, 154.0, 174.0, 102.0, 229.0, 264.0, 226.0, 97.0, 216.0, 126.0, 138.40137792716712, 101.88839712205007, 90.61718458523046, 96.51653722481103, 72.17582251799541, 65.4940104437103, 47.98873302071087, 47.754820030990984, 46.399172994123944, 46.391505152370456, 45.99127119798766, 44.847464720650116, 41.64774829682342, 40.92392320489881, 40.28124030981555, 35.91173711768156, 33.81135642753711, 33.62995446125404, 32.193962135385036, 28.693701915515582, 26.251026030980647, 25.496378953721944, 24.41075496420388, 23.292400244458083, 31.548672174105587, 22.07404043715737, 19.801868598813368, 19.67760163839595, 19.566198851777457, 19.360473396046366, 20.135833230841673, 421.7390548582143, 225.94409758088003, 213.63093856951622, 200.5907185582404, 189.50550656372812, 153.41774678474255, 125.45699640620667, 117.71918923299557, 112.84626203716405, 95.31187879166994, 74.72775558031832, 70.34299629800189, 67.31895632187901, 67.23328340888534, 67.70035340194197, 63.019295282697826, 56.8618302201849, 52.91911924003977, 49.368493257242754, 49.10341971942628, 44.828040836968334, 38.457707695991736, 38.7483352008739, 35.909809960034885, 34.481614049561905, 33.327985505591286, 32.88567813094283, 30.79194857867985, 31.084797041252607, 30.30086727739883, 309.1129384809178, 37.146381735171616, 37.80411729539899, 397.442059836901, 367.2226594272798, 249.31101378285885, 226.61620789045054, 211.0845397502845, 184.95143187746166, 181.22533090344, 173.58753529538376, 105.4055935326823, 99.22549488145555, 97.06640433381983, 93.53471892965433, 83.53105272812, 80.63099651560304, 71.12330107593152, 66.24504372399795, 54.88171648290734, 53.26971086576963, 51.021124515669825, 49.992095314904574, 47.391521088071926, 45.85587329879805, 43.99325988163605, 43.741303491091394, 44.09536169868704, 43.545924642292135, 41.072235818214054, 40.49014504337735, 39.84256280224703, 37.72690894629693, 618.0983832688992, 731.0745281733939, 622.2565422846487, 277.10749846818493, 257.5708465052296, 228.49600222568102, 226.25032352533003, 610.6868094179977, 215.2693307065952, 178.62919291703375, 170.17637297950142, 164.9545452691104, 159.6846547247331, 146.4707660546158, 127.03246912918134, 106.3256439774298, 104.57004512662355, 90.03310615819622, 87.2848021066603, 81.27233653884929, 82.08347951009874, 67.64162357673744, 65.49050235665405, 61.70468531947636, 59.39667751536851, 59.00297763450531, 58.0403689226766, 58.25950408190009, 106.6470037832949, 48.20715811531743, 44.22582197808483, 257.21970808634967, 97.35720392248663, 319.7787335908311, 121.95951753048375, 80.76419286228077, 89.21315590572776, 87.45815042324233], \"Total\": [630.0, 731.0, 422.0, 623.0, 612.0, 398.0, 367.0, 325.0, 226.0, 250.0, 214.0, 201.0, 227.0, 139.0, 190.0, 211.0, 277.0, 185.0, 181.0, 330.0, 258.0, 154.0, 174.0, 102.0, 229.0, 264.0, 226.0, 97.0, 216.0, 126.0, 139.1602720058201, 102.65459919596829, 91.3857619829431, 97.3585317829423, 72.93534814608148, 66.26913985403152, 48.749726558719296, 48.51624456842658, 47.16411880878072, 47.15671418243672, 46.75467139171644, 45.60577204122983, 42.41289699458941, 41.67981214028184, 41.046868427190944, 36.674320962889745, 34.569265878807926, 34.40388244040628, 32.95913910505951, 29.457711519140755, 27.02486941977869, 26.25788877005764, 25.18771645589234, 24.06064363396926, 32.60246887839058, 22.842580817035714, 20.563163702123113, 20.441622482316202, 20.325910822970386, 20.11650636202462, 26.70329752119444, 422.50151823726316, 226.70728267611835, 214.38630682057638, 201.35699781531653, 190.2754695539131, 154.17723631874364, 126.21539310777061, 118.48932018360912, 113.61017988697094, 96.14777472841106, 75.50743884549723, 71.1082656331898, 68.08094598105951, 67.99969252424457, 68.51230048718669, 63.788073027528384, 57.62397422156462, 53.689104153749476, 50.132135218902626, 49.873332551040406, 45.59524156726925, 39.219355054348455, 39.52169773934756, 36.673093674732314, 35.24327722997655, 34.090847207212605, 33.65849868640581, 31.55411221157742, 31.86650152566815, 31.066451676054655, 325.21224550083497, 38.38228325604352, 39.58099077706281, 398.1857293690739, 367.98070292286735, 250.06723513007813, 227.3615985048517, 211.85973587770786, 185.70073894241838, 181.9789216655692, 174.34149472558886, 106.15299224734133, 99.97247477693487, 97.82746782762328, 94.28061170313042, 84.29648024113796, 81.38911746615655, 71.87377875172103, 66.99867913000507, 55.64380295527926, 54.02490430052077, 51.774043127905806, 50.75420906299593, 48.1450109281304, 46.60249151781237, 44.74519242643368, 44.49069140811072, 44.85330209621565, 44.305030354319015, 41.82275173042418, 41.241485378636874, 40.59559531692367, 38.47162421216388, 630.7419478201815, 731.8251599505787, 623.0077946222964, 277.85266980160543, 258.31694219650257, 229.24800945196716, 226.9997397672871, 612.7709889500443, 216.0221134028858, 179.37789914688153, 170.93117043360414, 165.71927400461755, 160.4372506224401, 147.2362449486921, 127.78631446693953, 107.08601032600002, 105.33048296997498, 90.77777700649614, 88.04177781379606, 82.0216949100734, 82.84799165735153, 68.38496693156692, 66.24493480756803, 62.45294885608476, 60.139390255569865, 59.76480669870075, 58.798395938663994, 59.0444534873658, 108.12411584838898, 48.95911133385576, 44.98138563399222, 264.1092886723562, 99.0656035577328, 330.97585273632, 125.31632748694959, 83.66245488141742, 93.68971127525221, 121.98281419109034], \"Category\": [\"Default\", \"Default\", \"Default\", \"Default\", \"Default\", \"Default\", \"Default\", \"Default\", \"Default\", \"Default\", \"Default\", \"Default\", \"Default\", \"Default\", \"Default\", \"Default\", \"Default\", \"Default\", \"Default\", \"Default\", \"Default\", \"Default\", \"Default\", \"Default\", \"Default\", \"Default\", \"Default\", \"Default\", \"Default\", \"Default\", \"Topic1\", \"Topic1\", \"Topic1\", \"Topic1\", \"Topic1\", \"Topic1\", \"Topic1\", \"Topic1\", \"Topic1\", \"Topic1\", \"Topic1\", \"Topic1\", \"Topic1\", \"Topic1\", \"Topic1\", \"Topic1\", \"Topic1\", \"Topic1\", \"Topic1\", \"Topic1\", \"Topic1\", \"Topic1\", \"Topic1\", \"Topic1\", \"Topic1\", \"Topic1\", \"Topic1\", \"Topic1\", \"Topic1\", \"Topic1\", \"Topic1\", \"Topic2\", \"Topic2\", \"Topic2\", \"Topic2\", \"Topic2\", \"Topic2\", \"Topic2\", \"Topic2\", \"Topic2\", \"Topic2\", \"Topic2\", \"Topic2\", \"Topic2\", \"Topic2\", \"Topic2\", \"Topic2\", \"Topic2\", \"Topic2\", \"Topic2\", \"Topic2\", \"Topic2\", \"Topic2\", \"Topic2\", \"Topic2\", \"Topic2\", \"Topic2\", \"Topic2\", \"Topic2\", \"Topic2\", \"Topic2\", \"Topic2\", \"Topic2\", \"Topic2\", \"Topic3\", \"Topic3\", \"Topic3\", \"Topic3\", \"Topic3\", \"Topic3\", \"Topic3\", \"Topic3\", \"Topic3\", \"Topic3\", \"Topic3\", \"Topic3\", \"Topic3\", \"Topic3\", \"Topic3\", \"Topic3\", \"Topic3\", \"Topic3\", \"Topic3\", \"Topic3\", \"Topic3\", \"Topic3\", \"Topic3\", \"Topic3\", \"Topic3\", \"Topic3\", \"Topic3\", \"Topic3\", \"Topic3\", \"Topic3\", \"Topic3\", \"Topic4\", \"Topic4\", \"Topic4\", \"Topic4\", \"Topic4\", \"Topic4\", \"Topic4\", \"Topic4\", \"Topic4\", \"Topic4\", \"Topic4\", \"Topic4\", \"Topic4\", \"Topic4\", \"Topic4\", \"Topic4\", \"Topic4\", \"Topic4\", \"Topic4\", \"Topic4\", \"Topic4\", \"Topic4\", \"Topic4\", \"Topic4\", \"Topic4\", \"Topic4\", \"Topic4\", \"Topic4\", \"Topic4\", \"Topic4\", \"Topic4\", \"Topic4\", \"Topic4\", \"Topic4\", \"Topic4\", \"Topic4\", \"Topic4\"], \"logprob\": [30.0, 29.0, 28.0, 27.0, 26.0, 25.0, 24.0, 23.0, 22.0, 21.0, 20.0, 19.0, 18.0, 17.0, 16.0, 15.0, 14.0, 13.0, 12.0, 11.0, 10.0, 9.0, 8.0, 7.0, 6.0, 5.0, 4.0, 3.0, 2.0, 1.0, -3.0562, -3.3624, -3.4797, -3.4166, -3.7072, -3.8044, -4.1154, -4.1202, -4.149, -4.1492, -4.1579, -4.1831, -4.2571, -4.2746, -4.2904, -4.4053, -4.4655, -4.4709, -4.5145, -4.6296, -4.7186, -4.7478, -4.7913, -4.8382, -4.5348, -4.8919, -5.0005, -5.0068, -5.0125, -5.0231, -4.9838, -2.4843, -3.1084, -3.1644, -3.2274, -3.2843, -3.4955, -3.6967, -3.7604, -3.8027, -3.9715, -4.2148, -4.2753, -4.3192, -4.3205, -4.3136, -4.3852, -4.4881, -4.5599, -4.6294, -4.6348, -4.7258, -4.8791, -4.8716, -4.9477, -4.9883, -5.0223, -5.0356, -5.1014, -5.092, -5.1175, -2.795, -4.9138, -4.8963, -2.7432, -2.8223, -3.2096, -3.305, -3.376, -3.5082, -3.5285, -3.5716, -4.0704, -4.1309, -4.1529, -4.1899, -4.303, -4.3384, -4.4638, -4.5349, -4.7231, -4.7529, -4.796, -4.8164, -4.8698, -4.9028, -4.9442, -4.95, -4.9419, -4.9544, -5.0129, -5.0272, -5.0433, -5.0979, -2.3016, -2.5217, -2.6829, -3.4918, -3.5649, -3.6847, -3.6946, -2.7016, -3.7443, -3.9309, -3.9794, -4.0106, -4.043, -4.1294, -4.2718, -4.4497, -4.4664, -4.616, -4.647, -4.7184, -4.7085, -4.902, -4.9343, -4.9939, -5.032, -5.0386, -5.0551, -5.0513, -4.4467, -5.2407, -5.3269, -3.5663, -4.5378, -3.3486, -4.3125, -4.7247, -4.6252, -4.6451], \"loglift\": [30.0, 29.0, 28.0, 27.0, 26.0, 25.0, 24.0, 23.0, 22.0, 21.0, 20.0, 19.0, 18.0, 17.0, 16.0, 15.0, 14.0, 13.0, 12.0, 11.0, 10.0, 9.0, 8.0, 7.0, 6.0, 5.0, 4.0, 3.0, 2.0, 1.0, 2.0633, 2.0613, 2.0604, 2.0601, 2.0583, 2.057, 2.0531, 2.053, 2.0525, 2.0525, 2.0524, 2.052, 2.0506, 2.0505, 2.05, 2.0478, 2.0466, 2.0461, 2.0453, 2.0425, 2.0398, 2.0394, 2.0375, 2.0364, 2.036, 2.0346, 2.0311, 2.0307, 2.0307, 2.0305, 1.7865, 1.5246, 1.5231, 1.5229, 1.5226, 1.5224, 1.5215, 1.5204, 1.5199, 1.5197, 1.5177, 1.5161, 1.5156, 1.5152, 1.5151, 1.5145, 1.5143, 1.5131, 1.512, 1.5111, 1.5109, 1.5095, 1.5068, 1.5067, 1.5054, 1.5046, 1.5038, 1.5032, 1.502, 1.5016, 1.5015, 1.4757, 1.4937, 1.4805, 1.325, 1.3248, 1.3238, 1.3236, 1.3232, 1.3228, 1.3227, 1.3225, 1.3198, 1.3194, 1.3191, 1.3189, 1.3177, 1.3175, 1.3164, 1.3156, 1.3131, 1.3128, 1.3122, 1.3117, 1.3111, 1.3107, 1.3099, 1.3099, 1.3098, 1.3096, 1.3088, 1.3085, 1.3081, 1.3073, 1.3066, 0.9379, 0.9377, 0.9362, 0.936, 0.9356, 0.9356, 0.9355, 0.9354, 0.9347, 0.9345, 0.9343, 0.9342, 0.9337, 0.933, 0.9318, 0.9317, 0.9307, 0.9303, 0.9297, 0.9296, 0.928, 0.9275, 0.9269, 0.9265, 0.9261, 0.9259, 0.9255, 0.9252, 0.9234, 0.922, 0.9125, 0.9215, 0.9045, 0.9118, 0.9037, 0.89, 0.6062]}, \"token.table\": {\"Topic\": [4, 2, 2, 2, 3, 1, 4, 4, 4, 3, 3, 4, 2, 2, 4, 2, 3, 4, 1, 3, 4, 3, 4, 2, 4, 2, 2, 2, 2, 1, 1, 3, 1, 3, 4, 2, 4, 4, 2, 3, 1, 4, 3, 1, 1, 3, 4, 4, 1, 1, 4, 2, 4, 1, 2, 3, 4, 4, 3, 1, 1, 3, 4, 4, 2, 2, 4, 2, 1, 3, 3, 3, 4, 1, 2, 1, 3, 1, 2, 3, 3, 2, 4, 3, 1, 3, 1, 3, 4, 1, 4, 3, 1, 1, 4, 1, 2, 2, 4, 2, 1, 2, 3, 4, 3, 2, 4, 3, 1, 2, 3, 2, 4, 3, 3, 4, 1, 2, 4, 1, 1, 1, 2, 2, 1, 1, 2, 3, 2, 3, 4, 1, 2, 3, 2, 4, 3, 2, 4, 1, 4, 4, 2, 3, 2, 1, 2, 3], \"Freq\": [0.9897644874620654, 0.9932796178329456, 0.9841226357025027, 0.985298572873868, 0.9946206865245184, 0.9631135893187985, 0.994370591244825, 0.991432076967026, 0.996862418545359, 0.9973349066538608, 0.979798477231113, 0.0190252131501187, 0.9869450945579255, 0.9680017571701235, 0.9927473583812908, 0.9871649161480496, 0.9870716886975435, 0.9823107264835758, 0.9893593460701915, 0.980327651902788, 0.9972746315413427, 0.9962265150563797, 0.9898585228575245, 0.9501487237177441, 0.04919863941580552, 0.9923643960233544, 0.9844143908823939, 0.9647229960521644, 0.9689093547647909, 0.9528454094688489, 0.9520948244897726, 0.9915415593800166, 0.9846209074051678, 0.9810290399623922, 0.995659684071525, 0.9876454485905495, 0.9804099521473029, 0.9945523661293489, 0.9824393027488154, 0.995732207262087, 0.9808487048899833, 0.9988724629928897, 0.9970236541950533, 0.9835326014499803, 0.9844620815556786, 0.022717868160416613, 0.9730820195378449, 0.9969312160929954, 0.9836896544064595, 0.9867172067456247, 0.9945560728969878, 0.9880623890500515, 0.9938466457052179, 0.9871756539201255, 0.9981980807155763, 0.9850495908539814, 0.9978932792240359, 0.9810541767928161, 0.9984095884827094, 0.9816132665803934, 0.006042736905019318, 0.02719231607258693, 0.966837904803091, 0.9875436015898773, 0.9925225034987329, 0.9946291794663296, 0.998382372369984, 0.9867997133425733, 0.9839657457021768, 0.9964828870637321, 0.998041230940882, 0.9970221701040047, 0.988167233333255, 0.9963174076644702, 0.9903704843138045, 0.9444979987115293, 0.9851399701242549, 0.988260556316402, 0.9891716211872954, 0.9931152207349909, 0.9809757129054798, 0.0239055858788125, 0.9681762280919062, 0.9889709197007159, 0.9753177025632462, 0.9877409851592706, 0.9957787518036443, 0.9884299253270542, 0.9987730491317853, 0.009248630540500274, 0.9896034678335293, 0.9952190479726193, 0.9708991456966702, 0.9838589092971328, 0.9952684779035583, 0.9783959182937536, 0.9774169758786626, 0.9982270404347011, 0.9916036642395838, 0.9656719187895973, 0.9815207590370585, 0.030672523719908078, 0.9762174541856551, 0.9812070943811118, 0.9959419571909401, 0.0032638620888807263, 0.9971098681530619, 0.9833458660914496, 0.9726129835719313, 0.9600568165166043, 0.025264653066226432, 0.010094320976071443, 0.9791491346789299, 0.9698971710829803, 0.04269412239139417, 0.9499442232085202, 0.9916623330128905, 0.9804358865634205, 0.9955958550070938, 0.9559179026918538, 0.9620768040037737, 0.02605368714855034, 0.9639864244963626, 0.9985522592346827, 0.9936232842844318, 0.9754708485845366, 0.9968801942850296, 0.9878428716717484, 0.9958703435647122, 0.27872778821726324, 0.7132152227912324, 0.7489711704753308, 0.22469135114259925, 0.989138391458106, 0.02393941843142841, 0.9735363495447554, 0.9853285729086136, 0.9728083886155439, 0.986421467356068, 0.9902648245263208, 0.9872030591087417, 0.9781824054514988, 0.9824889874734832, 0.9902725747351486, 0.9988129788518736, 0.9744957784283135, 0.9816461168860681, 0.9850940474801417], \"Term\": [\"abre\", \"abrir\", \"acced\", \"activ\", \"actualiz\", \"ademas\", \"agreg\", \"amig\", \"aparec\", \"aplic\", \"app\", \"app\", \"asesor\", \"asi\", \"asoci\", \"benefici\", \"bien\", \"bloque\", \"busc\", \"cae\", \"cambi\", \"carg\", \"celul\", \"clar\", \"clar\", \"clar_hog\", \"clar_vide\", \"client\", \"cobr\", \"com\", \"compart\", \"compr\", \"compr_paquet\", \"conect\", \"consult\", \"consum\", \"corre\", \"cuent\", \"da\", \"dat\", \"deb\", \"dej\", \"demor\", \"demor_carg\", \"descarg_factur\", \"dic\", \"dic\", \"eleg\", \"encontr\", \"encuentr\", \"entrar\", \"equip\", \"error\", \"facil\", \"factur\", \"fall\", \"famili_amig\", \"fij\", \"funcion\", \"gig\", \"hac\", \"hac\", \"hac\", \"hac_recarg\", \"hog\", \"inform\", \"ingres\", \"inici\", \"inscrib_eleg\", \"intent\", \"internet\", \"lent\", \"line\", \"llam\", \"mal\", \"manej\", \"mejor\", \"mensaj\", \"mir\", \"mism\", \"moment\", \"movil\", \"movil\", \"much\", \"muestr\", \"naveg\", \"necesit\", \"ningun\", \"numer\", \"opcion\", \"opcion\", \"pagin\", \"paquet\", \"pas\", \"permit\", \"pes\", \"pesim\", \"plan\", \"pod\", \"posibl\", \"prepag\", \"prepag\", \"proces\", \"product\", \"pud\", \"pued\", \"pued\", \"qued\", \"qued_carg\", \"quer\", \"quer\", \"quier\", \"quier\", \"rap\", \"realiz\", \"realiz\", \"recarg\", \"red\", \"registr\", \"respond\", \"respuest\", \"sab\", \"sab\", \"sal\", \"sald\", \"se\", \"servici\", \"se\\u00f1al\", \"si\", \"siempr\", \"siempr\", \"sim\", \"sim\", \"sirv\", \"sol\", \"sol\", \"solucion\", \"tampoc\", \"telefon\", \"tiemp\", \"tiend\", \"toc\", \"usuari\", \"vec\", \"ver\", \"ver_consum\", \"verific\", \"wifi\"]}, \"R\": 30, \"lambda.step\": 0.01, \"plot.opts\": {\"xlab\": \"PC1\", \"ylab\": \"PC2\"}, \"topic.order\": [1, 2, 3, 4]};\n",
       "\n",
       "function LDAvis_load_lib(url, callback){\n",
       "  var s = document.createElement('script');\n",
       "  s.src = url;\n",
       "  s.async = true;\n",
       "  s.onreadystatechange = s.onload = callback;\n",
       "  s.onerror = function(){console.warn(\"failed to load library \" + url);};\n",
       "  document.getElementsByTagName(\"head\")[0].appendChild(s);\n",
       "}\n",
       "\n",
       "if(typeof(LDAvis) !== \"undefined\"){\n",
       "   // already loaded: just create the visualization\n",
       "   !function(LDAvis){\n",
       "       new LDAvis(\"#\" + \"ldavis_el1238021453380227047136552731\", ldavis_el1238021453380227047136552731_data);\n",
       "   }(LDAvis);\n",
       "}else if(typeof define === \"function\" && define.amd){\n",
       "   // require.js is available: use it to load d3/LDAvis\n",
       "   require.config({paths: {d3: \"https://d3js.org/d3.v5\"}});\n",
       "   require([\"d3\"], function(d3){\n",
       "      window.d3 = d3;\n",
       "      LDAvis_load_lib(\"https://cdn.jsdelivr.net/gh/bmabey/pyLDAvis@3.3.1/pyLDAvis/js/ldavis.v3.0.0.js\", function(){\n",
       "        new LDAvis(\"#\" + \"ldavis_el1238021453380227047136552731\", ldavis_el1238021453380227047136552731_data);\n",
       "      });\n",
       "    });\n",
       "}else{\n",
       "    // require.js not available: dynamically load d3 & LDAvis\n",
       "    LDAvis_load_lib(\"https://d3js.org/d3.v5.js\", function(){\n",
       "         LDAvis_load_lib(\"https://cdn.jsdelivr.net/gh/bmabey/pyLDAvis@3.3.1/pyLDAvis/js/ldavis.v3.0.0.js\", function(){\n",
       "                 new LDAvis(\"#\" + \"ldavis_el1238021453380227047136552731\", ldavis_el1238021453380227047136552731_data);\n",
       "            })\n",
       "         });\n",
       "}\n",
       "</script>"
      ],
      "text/plain": [
       "<IPython.core.display.HTML object>"
      ]
     },
     "execution_count": 132,
     "metadata": {},
     "output_type": "execute_result"
    }
   ],
   "source": [
    "lda_display = pyLDAvis.gensim_models.prepare(ldaZoom, corpusZoom, diccionarioZoom, sort_topics=False)\n",
    "pyLDAvis.display(lda_display)"
   ]
  },
  {
   "cell_type": "code",
   "execution_count": 133,
   "metadata": {},
   "outputs": [],
   "source": [
    "dfc2Zoom['TópicoZoom'] = \"\"\n",
    "sumaTopicos = [0]*(numeroTopicos+1)\n",
    "for i in dfc2Zoom.index:\n",
    "    bow_comentario = diccionarioZoom.doc2bow(dfc2Zoom.loc[i,'Opinion'])\n",
    "    distribucion_noticia = ldaZoom[bow_comentario]\n",
    "    dist_contrib = [topico[1] for topico in ldaZoom[bow_comentario]]\n",
    "    dfc2Zoom.loc[i,'TópicoZoom']=dist_contrib.index(max(dist_contrib))+1\n",
    "    \n",
    "    # sumar pertenencias a los tópicos\n",
    "    for idx, val in enumerate(dist_contrib):\n",
    "        sumaTopicos[idx+1]=sumaTopicos[idx+1]+dist_contrib[idx] "
   ]
  },
  {
   "cell_type": "code",
   "execution_count": 134,
   "metadata": {
    "scrolled": true
   },
   "outputs": [
    {
     "data": {
      "text/plain": [
       "4    1585\n",
       "3     758\n",
       "2     233\n",
       "1      62\n",
       "Name: TópicoZoom, dtype: int64"
      ]
     },
     "execution_count": 134,
     "metadata": {},
     "output_type": "execute_result"
    }
   ],
   "source": [
    "dfc2Zoom.TópicoZoom.value_counts()"
   ]
  },
  {
   "cell_type": "code",
   "execution_count": 135,
   "metadata": {},
   "outputs": [
    {
     "name": "stdout",
     "output_type": "stream",
     "text": [
      "1  recarg sald llam necesit facil deb compr_paquet busc muestr se pas encuentr tiemp encontr ver_consum \n",
      "2  ver clar servici factur plan sal clar_hog mal si inform equip abrir clar_vide hog acced \n",
      "3  app lent aplic dat funcion pud carg actualiz internet sirv vec compr demor intent pagin \n",
      "4  dej ingres pued hac eleg numer dic entrar registr permit famili_amig cuent consult cambi pod \n"
     ]
    }
   ],
   "source": [
    "impresionTopicosLimp(ldaZoom,15,20)"
   ]
  },
  {
   "cell_type": "markdown",
   "metadata": {},
   "source": [
    "######  fin Zoom"
   ]
  },
  {
   "cell_type": "markdown",
   "metadata": {},
   "source": [
    "####  Construcción Tabla Final "
   ]
  },
  {
   "cell_type": "code",
   "execution_count": 136,
   "metadata": {},
   "outputs": [],
   "source": [
    "TablaFinal=df.copy()\n",
    "for column in Qs:    \n",
    "    TablaFinal[\"Sent_\"+column]=dfSent[\"Sent_\"+column] \n",
    "TablaFinal['Opinion']=dfc2['Opinion']\n",
    "TablaFinal['Topico']=dfc2['Tópico']\n",
    "TablaFinal['TópicoZoom']=dfc2Zoom['TópicoZoom']"
   ]
  },
  {
   "cell_type": "code",
   "execution_count": 137,
   "metadata": {},
   "outputs": [],
   "source": [
    "TablaFinal.to_csv('TablaFinalV2.csv', index=False, sep=';')"
   ]
  },
  {
   "cell_type": "code",
   "execution_count": null,
   "metadata": {},
   "outputs": [],
   "source": []
  }
 ],
 "metadata": {
  "kernelspec": {
   "display_name": "Python 3",
   "language": "python",
   "name": "python3"
  },
  "language_info": {
   "codemirror_mode": {
    "name": "ipython",
    "version": 3
   },
   "file_extension": ".py",
   "mimetype": "text/x-python",
   "name": "python",
   "nbconvert_exporter": "python",
   "pygments_lexer": "ipython3",
   "version": "3.8.8"
  }
 },
 "nbformat": 4,
 "nbformat_minor": 4
}
