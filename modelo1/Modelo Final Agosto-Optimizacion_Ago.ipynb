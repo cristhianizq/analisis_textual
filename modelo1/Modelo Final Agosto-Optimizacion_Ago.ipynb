{
 "cells": [
  {
   "cell_type": "code",
   "execution_count": 78,
   "metadata": {},
   "outputs": [],
   "source": [
    "import pandas as pd \n",
    "import numpy as np \n",
    "from textblob import TextBlob\n",
    "import matplotlib.pyplot as plt\n",
    "\n",
    "import pyLDAvis\n",
    "import pyLDAvis.sklearn\n",
    "pyLDAvis.enable_notebook()\n",
    "\n",
    "\n",
    "import json, re\n",
    "from nltk.corpus import stopwords\n",
    "from nltk.stem import SnowballStemmer\n",
    "from nltk.tokenize import ToktokTokenizer\n",
    "\n",
    "\n",
    "from sklearn.datasets import fetch_20newsgroups\n",
    "from sklearn.feature_extraction.text import CountVectorizer, TfidfVectorizer\n",
    "from sklearn.decomposition import LatentDirichletAllocation\n",
    "\n",
    "from gensim.models.coherencemodel import CoherenceModel\n",
    "from gensim import corpora\n",
    "from gensim.corpora import Dictionary\n",
    "from gensim.models import LdaModel\n",
    "import gensim\n",
    "\n",
    "from sentiment_analysis_spanish import sentiment_analysis\n",
    "import nltk\n",
    "import pyLDAvis.gensim_models\n",
    "\n",
    "import random\n",
    "from wordcloud import WordCloud\n",
    "import warnings\n",
    "warnings.filterwarnings('ignore')\n",
    "%matplotlib inline"
   ]
  },
  {
   "cell_type": "code",
   "execution_count": 79,
   "metadata": {},
   "outputs": [
    {
     "data": {
      "text/html": [
       "<div>\n",
       "<style scoped>\n",
       "    .dataframe tbody tr th:only-of-type {\n",
       "        vertical-align: middle;\n",
       "    }\n",
       "\n",
       "    .dataframe tbody tr th {\n",
       "        vertical-align: top;\n",
       "    }\n",
       "\n",
       "    .dataframe thead th {\n",
       "        text-align: right;\n",
       "    }\n",
       "</style>\n",
       "<table border=\"1\" class=\"dataframe\">\n",
       "  <thead>\n",
       "    <tr style=\"text-align: right;\">\n",
       "      <th></th>\n",
       "      <th>StartDate</th>\n",
       "      <th>EndDate</th>\n",
       "      <th>Status</th>\n",
       "      <th>IPAddress</th>\n",
       "      <th>Progress</th>\n",
       "      <th>Duration (in seconds)</th>\n",
       "      <th>Finished</th>\n",
       "      <th>RecordedDate</th>\n",
       "      <th>ResponseId</th>\n",
       "      <th>RecipientLastName</th>\n",
       "      <th>...</th>\n",
       "      <th>Q15 - Topic Sentiment Label</th>\n",
       "      <th>Q15 - Topic Sentiment Score</th>\n",
       "      <th>Q15 - Topics</th>\n",
       "      <th>Q20 - Parent Topics</th>\n",
       "      <th>Q20 - Sentiment Polarity</th>\n",
       "      <th>Q20 - Sentiment Score</th>\n",
       "      <th>Q20 - Sentiment</th>\n",
       "      <th>Q20 - Topic Sentiment Label</th>\n",
       "      <th>Q20 - Topic Sentiment Score</th>\n",
       "      <th>Q20 - Topics</th>\n",
       "    </tr>\n",
       "  </thead>\n",
       "  <tbody>\n",
       "    <tr>\n",
       "      <th>0</th>\n",
       "      <td>Fecha de inicio</td>\n",
       "      <td>Fecha de finalización</td>\n",
       "      <td>Tipo de respuesta</td>\n",
       "      <td>Dirección IP</td>\n",
       "      <td>Progreso</td>\n",
       "      <td>Duración (en segundos)</td>\n",
       "      <td>Finalizado</td>\n",
       "      <td>Fecha registrada</td>\n",
       "      <td>ID de respuesta</td>\n",
       "      <td>Apellido del destinatario</td>\n",
       "      <td>...</td>\n",
       "      <td>Q15 - Topic Sentiment Label</td>\n",
       "      <td>Q15 - Topic Sentiment Score</td>\n",
       "      <td>Q15 - Topics</td>\n",
       "      <td>Q20 - Parent Topics</td>\n",
       "      <td>Q20 - Sentiment Polarity</td>\n",
       "      <td>Q20 - Sentiment Score</td>\n",
       "      <td>Q20 - Sentiment</td>\n",
       "      <td>Q20 - Topic Sentiment Label</td>\n",
       "      <td>Q20 - Topic Sentiment Score</td>\n",
       "      <td>Q20 - Topics</td>\n",
       "    </tr>\n",
       "    <tr>\n",
       "      <th>1</th>\n",
       "      <td>2021-08-01 00:02:16</td>\n",
       "      <td>2021-08-01 00:03:15</td>\n",
       "      <td>0</td>\n",
       "      <td>191.156.136.74</td>\n",
       "      <td>100</td>\n",
       "      <td>59</td>\n",
       "      <td>1</td>\n",
       "      <td>2021-08-01 00:03:16.244000</td>\n",
       "      <td>R_1IoVtduLafA89nU</td>\n",
       "      <td>NaN</td>\n",
       "      <td>...</td>\n",
       "      <td>NaN</td>\n",
       "      <td>NaN</td>\n",
       "      <td>NaN</td>\n",
       "      <td>NaN</td>\n",
       "      <td>NaN</td>\n",
       "      <td>NaN</td>\n",
       "      <td>NaN</td>\n",
       "      <td>NaN</td>\n",
       "      <td>NaN</td>\n",
       "      <td>NaN</td>\n",
       "    </tr>\n",
       "  </tbody>\n",
       "</table>\n",
       "<p>2 rows × 53 columns</p>\n",
       "</div>"
      ],
      "text/plain": [
       "             StartDate                EndDate             Status  \\\n",
       "0      Fecha de inicio  Fecha de finalización  Tipo de respuesta   \n",
       "1  2021-08-01 00:02:16    2021-08-01 00:03:15                  0   \n",
       "\n",
       "        IPAddress  Progress   Duration (in seconds)    Finished  \\\n",
       "0    Dirección IP  Progreso  Duración (en segundos)  Finalizado   \n",
       "1  191.156.136.74       100                      59           1   \n",
       "\n",
       "                 RecordedDate         ResponseId          RecipientLastName  \\\n",
       "0            Fecha registrada    ID de respuesta  Apellido del destinatario   \n",
       "1  2021-08-01 00:03:16.244000  R_1IoVtduLafA89nU                        NaN   \n",
       "\n",
       "   ...  Q15 - Topic Sentiment Label  Q15 - Topic Sentiment Score  \\\n",
       "0  ...  Q15 - Topic Sentiment Label  Q15 - Topic Sentiment Score   \n",
       "1  ...                          NaN                          NaN   \n",
       "\n",
       "   Q15 - Topics  Q20 - Parent Topics  Q20 - Sentiment Polarity  \\\n",
       "0  Q15 - Topics  Q20 - Parent Topics  Q20 - Sentiment Polarity   \n",
       "1           NaN                  NaN                       NaN   \n",
       "\n",
       "   Q20 - Sentiment Score  Q20 - Sentiment  Q20 - Topic Sentiment Label  \\\n",
       "0  Q20 - Sentiment Score  Q20 - Sentiment  Q20 - Topic Sentiment Label   \n",
       "1                    NaN              NaN                          NaN   \n",
       "\n",
       "   Q20 - Topic Sentiment Score  Q20 - Topics  \n",
       "0  Q20 - Topic Sentiment Score  Q20 - Topics  \n",
       "1                          NaN           NaN  \n",
       "\n",
       "[2 rows x 53 columns]"
      ]
     },
     "execution_count": 79,
     "metadata": {},
     "output_type": "execute_result"
    }
   ],
   "source": [
    "#df = pd.read_excel('Resultados Touchpoint APP Personas del 1abr al 24 May.xlsx')\n",
    "#df = pd.read_excel('Touchpoint APP Personas 1 May al 8 Ago Prepago.xlsx')\n",
    "df = pd.read_excel('Touchpoint APP Personas_ 1 al 31 ago completa.xlsx',sheet_name='SheetAjustado_2')\n",
    "df.head(2)"
   ]
  },
  {
   "cell_type": "code",
   "execution_count": 80,
   "metadata": {},
   "outputs": [
    {
     "data": {
      "text/plain": [
       "14610"
      ]
     },
     "execution_count": 80,
     "metadata": {},
     "output_type": "execute_result"
    }
   ],
   "source": [
    "len(df)"
   ]
  },
  {
   "cell_type": "code",
   "execution_count": 81,
   "metadata": {},
   "outputs": [
    {
     "data": {
      "text/html": [
       "<div>\n",
       "<style scoped>\n",
       "    .dataframe tbody tr th:only-of-type {\n",
       "        vertical-align: middle;\n",
       "    }\n",
       "\n",
       "    .dataframe tbody tr th {\n",
       "        vertical-align: top;\n",
       "    }\n",
       "\n",
       "    .dataframe thead th {\n",
       "        text-align: right;\n",
       "    }\n",
       "</style>\n",
       "<table border=\"1\" class=\"dataframe\">\n",
       "  <thead>\n",
       "    <tr style=\"text-align: right;\">\n",
       "      <th></th>\n",
       "      <th>StartDate</th>\n",
       "      <th>EndDate</th>\n",
       "      <th>Status</th>\n",
       "      <th>IPAddress</th>\n",
       "      <th>Progress</th>\n",
       "      <th>Duration (in seconds)</th>\n",
       "      <th>Finished</th>\n",
       "      <th>RecordedDate</th>\n",
       "      <th>ResponseId</th>\n",
       "      <th>RecipientLastName</th>\n",
       "      <th>...</th>\n",
       "      <th>Q15 - Topic Sentiment Label</th>\n",
       "      <th>Q15 - Topic Sentiment Score</th>\n",
       "      <th>Q15 - Topics</th>\n",
       "      <th>Q20 - Parent Topics</th>\n",
       "      <th>Q20 - Sentiment Polarity</th>\n",
       "      <th>Q20 - Sentiment Score</th>\n",
       "      <th>Q20 - Sentiment</th>\n",
       "      <th>Q20 - Topic Sentiment Label</th>\n",
       "      <th>Q20 - Topic Sentiment Score</th>\n",
       "      <th>Q20 - Topics</th>\n",
       "    </tr>\n",
       "  </thead>\n",
       "  <tbody>\n",
       "    <tr>\n",
       "      <th>1</th>\n",
       "      <td>2021-08-01 00:02:16</td>\n",
       "      <td>2021-08-01 00:03:15</td>\n",
       "      <td>0</td>\n",
       "      <td>191.156.136.74</td>\n",
       "      <td>100</td>\n",
       "      <td>59</td>\n",
       "      <td>1</td>\n",
       "      <td>2021-08-01 00:03:16.244000</td>\n",
       "      <td>R_1IoVtduLafA89nU</td>\n",
       "      <td>NaN</td>\n",
       "      <td>...</td>\n",
       "      <td>NaN</td>\n",
       "      <td>NaN</td>\n",
       "      <td>NaN</td>\n",
       "      <td>NaN</td>\n",
       "      <td>NaN</td>\n",
       "      <td>NaN</td>\n",
       "      <td>NaN</td>\n",
       "      <td>NaN</td>\n",
       "      <td>NaN</td>\n",
       "      <td>NaN</td>\n",
       "    </tr>\n",
       "    <tr>\n",
       "      <th>2</th>\n",
       "      <td>2021-08-01 00:03:40</td>\n",
       "      <td>2021-08-01 00:06:10</td>\n",
       "      <td>0</td>\n",
       "      <td>191.156.38.37</td>\n",
       "      <td>100</td>\n",
       "      <td>150</td>\n",
       "      <td>1</td>\n",
       "      <td>2021-08-01 00:06:11.288000</td>\n",
       "      <td>R_1EcfZSS3c60c0mV</td>\n",
       "      <td>NaN</td>\n",
       "      <td>...</td>\n",
       "      <td>NaN</td>\n",
       "      <td>NaN</td>\n",
       "      <td>Unknown</td>\n",
       "      <td>NaN</td>\n",
       "      <td>NaN</td>\n",
       "      <td>NaN</td>\n",
       "      <td>NaN</td>\n",
       "      <td>NaN</td>\n",
       "      <td>NaN</td>\n",
       "      <td>NaN</td>\n",
       "    </tr>\n",
       "  </tbody>\n",
       "</table>\n",
       "<p>2 rows × 53 columns</p>\n",
       "</div>"
      ],
      "text/plain": [
       "             StartDate              EndDate Status       IPAddress Progress  \\\n",
       "1  2021-08-01 00:02:16  2021-08-01 00:03:15      0  191.156.136.74      100   \n",
       "2  2021-08-01 00:03:40  2021-08-01 00:06:10      0   191.156.38.37      100   \n",
       "\n",
       "  Duration (in seconds) Finished                RecordedDate  \\\n",
       "1                    59        1  2021-08-01 00:03:16.244000   \n",
       "2                   150        1  2021-08-01 00:06:11.288000   \n",
       "\n",
       "          ResponseId RecipientLastName  ... Q15 - Topic Sentiment Label  \\\n",
       "1  R_1IoVtduLafA89nU               NaN  ...                         NaN   \n",
       "2  R_1EcfZSS3c60c0mV               NaN  ...                         NaN   \n",
       "\n",
       "  Q15 - Topic Sentiment Score Q15 - Topics Q20 - Parent Topics  \\\n",
       "1                         NaN          NaN                 NaN   \n",
       "2                         NaN      Unknown                 NaN   \n",
       "\n",
       "  Q20 - Sentiment Polarity Q20 - Sentiment Score Q20 - Sentiment  \\\n",
       "1                      NaN                   NaN             NaN   \n",
       "2                      NaN                   NaN             NaN   \n",
       "\n",
       "  Q20 - Topic Sentiment Label Q20 - Topic Sentiment Score Q20 - Topics  \n",
       "1                         NaN                         NaN          NaN  \n",
       "2                         NaN                         NaN          NaN  \n",
       "\n",
       "[2 rows x 53 columns]"
      ]
     },
     "execution_count": 81,
     "metadata": {},
     "output_type": "execute_result"
    }
   ],
   "source": [
    "df = df.drop([0], axis=0)\n",
    "df.head(2)"
   ]
  },
  {
   "cell_type": "code",
   "execution_count": 82,
   "metadata": {},
   "outputs": [
    {
     "data": {
      "text/plain": [
       "Promotor     6658\n",
       "Detractor    2636\n",
       "Pasivo       2136\n",
       "Name: Q2_NPS_GROUP, dtype: int64"
      ]
     },
     "execution_count": 82,
     "metadata": {},
     "output_type": "execute_result"
    }
   ],
   "source": [
    "df.Q2_NPS_GROUP.value_counts()"
   ]
  },
  {
   "cell_type": "code",
   "execution_count": 83,
   "metadata": {
    "scrolled": false
   },
   "outputs": [
    {
     "data": {
      "image/png": "[encoded data removed]",
      "text/plain": [
       "<Figure size 432x288 with 1 Axes>"
      ]
     },
     "metadata": {},
     "output_type": "display_data"
    }
   ],
   "source": [
    "A = df.Q2_NPS_GROUP.value_counts()\n",
    "indices = A.index\n",
    "plt.pie(A, labels=indices, autopct=\"%0.1f %%\")\n",
    "plt.axis(\"equal\")\n",
    "plt.show()"
   ]
  },
  {
   "cell_type": "markdown",
   "metadata": {},
   "source": [
    "####  Funciones para Limpieza de texto"
   ]
  },
  {
   "cell_type": "code",
   "execution_count": 84,
   "metadata": {},
   "outputs": [],
   "source": [
    "def limpiar_texto(texto):\n",
    "    \"\"\"\n",
    "    Función para realizar la limpieza de un texto dado.\n",
    "    \"\"\"\n",
    "    # Eliminamos los caracteres especiales\n",
    "    texto = re.sub(r'\\W', ' ', str(texto))\n",
    "    # Eliminamos comas y /\n",
    "    texto = re.sub(r',', ' ', str(texto))\n",
    "    texto = re.sub(r'/', ' ', str(texto))\n",
    "    # Eliminado las palabras que tengo un solo caracter\n",
    "    texto = re.sub(r'\\s+[a-zA-Z]\\s+', ' ', texto)\n",
    "    # Sustituir los espacios en blanco en uno solo\n",
    "    texto = re.sub(r'\\s+', ' ', texto, flags=re.I)\n",
    "    # Convertimos textos a minusculas\n",
    "    texto = texto.lower()\n",
    "    return texto"
   ]
  },
  {
   "cell_type": "code",
   "execution_count": 85,
   "metadata": {},
   "outputs": [
    {
     "name": "stderr",
     "output_type": "stream",
     "text": [
      "[nltk_data] Downloading package stopwords to\n",
      "[nltk_data]     C:\\Users\\CristhianJohnatanIzq\\AppData\\Roaming\\nltk_dat\n",
      "[nltk_data]     a...\n",
      "[nltk_data]   Package stopwords is already up-to-date!\n"
     ]
    }
   ],
   "source": [
    "nltk.download('stopwords')\n",
    "STOPWORDS = set(stopwords.words(\"spanish\"))\n",
    "def filtrar_stopword_digitos(tokens):\n",
    "    \"\"\"\n",
    "    Filtra stopwords y digitos de una lista de tokens.\n",
    "    \"\"\"\n",
    "    return [token for token in tokens if token not in STOPWORDS \n",
    "            and not token.isdigit()]"
   ]
  },
  {
   "cell_type": "code",
   "execution_count": 86,
   "metadata": {},
   "outputs": [],
   "source": [
    "stemmer = SnowballStemmer(\"spanish\")\n",
    "def stem_palabras(tokens):\n",
    "    \"\"\"\n",
    "    Reduce cada palabra de una lista dada a su raíz.\n",
    "    \"\"\"\n",
    "    return [stemmer.stem(token) for token in tokens]"
   ]
  },
  {
   "cell_type": "code",
   "execution_count": 87,
   "metadata": {},
   "outputs": [],
   "source": [
    "def Limpiar_Caracter(texto):\n",
    "    if len(texto) == 1 or texto == ',':\n",
    "        texto = ''\n",
    "    else:\n",
    "        texto = texto\n",
    "    return texto"
   ]
  },
  {
   "cell_type": "markdown",
   "metadata": {},
   "source": [
    "###  Seleccion de Preguntas"
   ]
  },
  {
   "cell_type": "code",
   "execution_count": 88,
   "metadata": {},
   "outputs": [],
   "source": [
    "Qs=['Q4','Q10','Q12','Q15','Q18','Q20']"
   ]
  },
  {
   "cell_type": "markdown",
   "metadata": {},
   "source": [
    "###  Analisis de sentimientos"
   ]
  },
  {
   "cell_type": "code",
   "execution_count": 89,
   "metadata": {},
   "outputs": [],
   "source": [
    "sentiment = sentiment_analysis.SentimentAnalysisSpanish()"
   ]
  },
  {
   "cell_type": "code",
   "execution_count": 90,
   "metadata": {},
   "outputs": [],
   "source": [
    "dfSent=df.fillna('')"
   ]
  },
  {
   "cell_type": "code",
   "execution_count": 91,
   "metadata": {
    "scrolled": true
   },
   "outputs": [
    {
     "data": {
      "text/html": [
       "<div>\n",
       "<style scoped>\n",
       "    .dataframe tbody tr th:only-of-type {\n",
       "        vertical-align: middle;\n",
       "    }\n",
       "\n",
       "    .dataframe tbody tr th {\n",
       "        vertical-align: top;\n",
       "    }\n",
       "\n",
       "    .dataframe thead th {\n",
       "        text-align: right;\n",
       "    }\n",
       "</style>\n",
       "<table border=\"1\" class=\"dataframe\">\n",
       "  <thead>\n",
       "    <tr style=\"text-align: right;\">\n",
       "      <th></th>\n",
       "      <th>StartDate</th>\n",
       "      <th>EndDate</th>\n",
       "      <th>Status</th>\n",
       "      <th>IPAddress</th>\n",
       "      <th>Progress</th>\n",
       "      <th>Duration (in seconds)</th>\n",
       "      <th>Finished</th>\n",
       "      <th>RecordedDate</th>\n",
       "      <th>ResponseId</th>\n",
       "      <th>RecipientLastName</th>\n",
       "      <th>...</th>\n",
       "      <th>Tokens_Q10</th>\n",
       "      <th>Sent_Q10</th>\n",
       "      <th>Tokens_Q12</th>\n",
       "      <th>Sent_Q12</th>\n",
       "      <th>Tokens_Q15</th>\n",
       "      <th>Sent_Q15</th>\n",
       "      <th>Tokens_Q18</th>\n",
       "      <th>Sent_Q18</th>\n",
       "      <th>Tokens_Q20</th>\n",
       "      <th>Sent_Q20</th>\n",
       "    </tr>\n",
       "  </thead>\n",
       "  <tbody>\n",
       "    <tr>\n",
       "      <th>1</th>\n",
       "      <td>2021-08-01 00:02:16</td>\n",
       "      <td>2021-08-01 00:03:15</td>\n",
       "      <td>0</td>\n",
       "      <td>191.156.136.74</td>\n",
       "      <td>100</td>\n",
       "      <td>59</td>\n",
       "      <td>1</td>\n",
       "      <td>2021-08-01 00:03:16.244</td>\n",
       "      <td>R_1IoVtduLafA89nU</td>\n",
       "      <td></td>\n",
       "      <td>...</td>\n",
       "      <td></td>\n",
       "      <td></td>\n",
       "      <td></td>\n",
       "      <td></td>\n",
       "      <td></td>\n",
       "      <td></td>\n",
       "      <td></td>\n",
       "      <td></td>\n",
       "      <td></td>\n",
       "      <td></td>\n",
       "    </tr>\n",
       "    <tr>\n",
       "      <th>2</th>\n",
       "      <td>2021-08-01 00:03:40</td>\n",
       "      <td>2021-08-01 00:06:10</td>\n",
       "      <td>0</td>\n",
       "      <td>191.156.38.37</td>\n",
       "      <td>100</td>\n",
       "      <td>150</td>\n",
       "      <td>1</td>\n",
       "      <td>2021-08-01 00:06:11.288</td>\n",
       "      <td>R_1EcfZSS3c60c0mV</td>\n",
       "      <td></td>\n",
       "      <td>...</td>\n",
       "      <td></td>\n",
       "      <td></td>\n",
       "      <td></td>\n",
       "      <td></td>\n",
       "      <td>no se</td>\n",
       "      <td>-0.9425155765109728</td>\n",
       "      <td></td>\n",
       "      <td></td>\n",
       "      <td></td>\n",
       "      <td></td>\n",
       "    </tr>\n",
       "  </tbody>\n",
       "</table>\n",
       "<p>2 rows × 65 columns</p>\n",
       "</div>"
      ],
      "text/plain": [
       "            StartDate             EndDate  Status       IPAddress  Progress  \\\n",
       "1 2021-08-01 00:02:16 2021-08-01 00:03:15       0  191.156.136.74       100   \n",
       "2 2021-08-01 00:03:40 2021-08-01 00:06:10       0   191.156.38.37       100   \n",
       "\n",
       "   Duration (in seconds)  Finished            RecordedDate         ResponseId  \\\n",
       "1                     59         1 2021-08-01 00:03:16.244  R_1IoVtduLafA89nU   \n",
       "2                    150         1 2021-08-01 00:06:11.288  R_1EcfZSS3c60c0mV   \n",
       "\n",
       "  RecipientLastName  ... Tokens_Q10 Sent_Q10 Tokens_Q12 Sent_Q12 Tokens_Q15  \\\n",
       "1                    ...                                                      \n",
       "2                    ...                                             no se    \n",
       "\n",
       "              Sent_Q15 Tokens_Q18 Sent_Q18 Tokens_Q20 Sent_Q20  \n",
       "1                                                               \n",
       "2  -0.9425155765109728                                          \n",
       "\n",
       "[2 rows x 65 columns]"
      ]
     },
     "execution_count": 91,
     "metadata": {},
     "output_type": "execute_result"
    }
   ],
   "source": [
    "tokenizer = ToktokTokenizer() \n",
    "Lista_general=[]\n",
    "for column in Qs:\n",
    "    dfSent[\"Tokens_\"+column]=dfSent[column].apply(limpiar_texto)\n",
    "    dfSent[\"Sent_\"+column] =  np.where(dfSent[\"Tokens_\"+column]!='', dfSent[column].apply(sentiment.sentiment)*2-1,'')\n",
    "    \n",
    "dfSent.head(2)"
   ]
  },
  {
   "cell_type": "markdown",
   "metadata": {},
   "source": [
    "##### Fin Analisis de Sentimiento"
   ]
  },
  {
   "cell_type": "markdown",
   "metadata": {},
   "source": [
    "####  Preprocesamiento"
   ]
  },
  {
   "cell_type": "code",
   "execution_count": 92,
   "metadata": {},
   "outputs": [
    {
     "name": "stdout",
     "output_type": "stream",
     "text": [
      "Q4 1077\n",
      "Q10 307\n",
      "Q12 723\n",
      "Q15 2016\n",
      "Q18 2091\n",
      "Q20 0\n"
     ]
    }
   ],
   "source": [
    "tokenizer = ToktokTokenizer() \n",
    "Lista_general=[]\n",
    "dfc = dfSent[dfSent['Q2_NPS_GROUP']!='Promotor']\n",
    "for column in Qs:    \n",
    "    dfc[\"Tokens_\"+column] = dfc[\"Tokens_\"+column].apply(tokenizer.tokenize)\n",
    "    dfc[\"Tokens_\"+column] = dfc[\"Tokens_\"+column].apply(filtrar_stopword_digitos)\n",
    "    dfc[\"Tokens_\"+column] = dfc[\"Tokens_\"+column].apply(stem_palabras)\n",
    "    #solo ciertas Qs son agregadas\n",
    "    if column in ('Q4','Q10','Q12','Q15','Q18','Q20') :\n",
    "        listAux = dfc[\"Tokens_\"+column].tolist()\n",
    "        listAux = [x for x in listAux if x!= []]\n",
    "        #print(\"Qs\")\n",
    "        print(column, len(listAux))\n",
    "        Lista_general = Lista_general+listAux"
   ]
  },
  {
   "cell_type": "markdown",
   "metadata": {},
   "source": [
    "###  Modelo de Tópicos"
   ]
  },
  {
   "cell_type": "code",
   "execution_count": 93,
   "metadata": {},
   "outputs": [],
   "source": [
    "### Funciones para modelo de tópicos\n",
    "def make_bigrams(texts,bigram_mod):\n",
    "    return [bigram_mod[doc] for doc in texts]\n",
    "\n",
    "def make_trigrams(texts,bigram_mod,trigram_mod):\n",
    "    return [trigram_mod[bigram_mod[doc]] for doc in texts]\n",
    "\n",
    "def impresionTopicos(mod,nPalabras,nTopicos):\n",
    "    topicos = mod.print_topics(num_words=nPalabras, num_topics=nTopicos)\n",
    "    for topico in topicos:\n",
    "        print(topico)    \n",
    "        \n",
    "def impresionTopicosLimp(mod,nPalabras,nTopicos):\n",
    "    #Impresion limpia de Tópicos\n",
    "    topicos = mod.print_topics(num_words=nPalabras, num_topics=nTopicos)\n",
    "    i=0\n",
    "    for topico in topicos:\n",
    "        i=i+1\n",
    "        textoAux = re.sub(r'\\W', ' ', str(topico))\n",
    "        textoAux = re.sub(r'\\s+[a-zA-Z]\\s+', ' ', textoAux)\n",
    "        textoAux = re.sub(r'[0-9]', ' ', textoAux)\n",
    "        textoAux = re.sub(r'\\s+', ' ', textoAux, flags=re.I)\n",
    "        print(str(i),textoAux)"
   ]
  },
  {
   "cell_type": "code",
   "execution_count": 94,
   "metadata": {
    "scrolled": true
   },
   "outputs": [
    {
     "name": "stdout",
     "output_type": "stream",
     "text": [
      "Número de tokens: 2621\n",
      "Número de tokens: 1319\n"
     ]
    }
   ],
   "source": [
    "bigram = gensim.models.Phrases(Lista_general, min_count=5, threshold=10) \n",
    "trigram = gensim.models.Phrases(bigram[Lista_general], threshold=10)  \n",
    "\n",
    "bigram_mod = gensim.models.phrases.Phraser(bigram)\n",
    "trigram_mod = gensim.models.phrases.Phraser(trigram)\n",
    "\n",
    "data_words_bigrams = make_bigrams(Lista_general,bigram_mod)\n",
    "\n",
    "diccionario = Dictionary(data_words_bigrams)\n",
    "print(f'Número de tokens: {len(diccionario)}')\n",
    "\n",
    "diccionario.filter_extremes(no_below=2, no_above = 0.9)\n",
    "print(f'Número de tokens: {len(diccionario)}')\n",
    "\n",
    "corpus = [diccionario.doc2bow(noticia) for noticia in data_words_bigrams]"
   ]
  },
  {
   "cell_type": "code",
   "execution_count": 95,
   "metadata": {},
   "outputs": [],
   "source": [
    "numeroTopicos=5"
   ]
  },
  {
   "cell_type": "code",
   "execution_count": 96,
   "metadata": {},
   "outputs": [],
   "source": [
    "lda = LdaModel(corpus=corpus, id2word=diccionario, \n",
    "               num_topics=numeroTopicos, random_state=35, \n",
    "               chunksize=1000, iterations=200, passes=40, alpha='auto')"
   ]
  },
  {
   "cell_type": "code",
   "execution_count": 97,
   "metadata": {
    "scrolled": true
   },
   "outputs": [
    {
     "name": "stdout",
     "output_type": "stream",
     "text": [
      "(0, '0.048*\"consult\" + 0.044*\"registr\" + 0.038*\"necesit\" + 0.037*\"numer\" + 0.035*\"activ\"')\n",
      "(1, '0.100*\"servici\" + 0.078*\"mal\" + 0.060*\"internet\" + 0.056*\"lent\" + 0.048*\"señal\"')\n",
      "(2, '0.064*\"pag\" + 0.046*\"dej\" + 0.044*\"factur\" + 0.038*\"pued\" + 0.036*\"app\"')\n",
      "(3, '0.047*\"inform\" + 0.027*\"consum\" + 0.026*\"respuest\" + 0.026*\"registr_equip\" + 0.021*\"product\"')\n",
      "(4, '0.059*\"funcion\" + 0.047*\"llam\" + 0.032*\"solucion\" + 0.023*\"sal\" + 0.022*\"telefon\"')\n"
     ]
    }
   ],
   "source": [
    "impresionTopicos(lda,5,20)"
   ]
  },
  {
   "cell_type": "code",
   "execution_count": 98,
   "metadata": {},
   "outputs": [
    {
     "name": "stdout",
     "output_type": "stream",
     "text": [
      "1  consult registr necesit numer activ eleg famili_amig encontr amig nuev asoci asesor mir cambi_clav acced \n",
      "2  servici mal internet lent señal pesim sirv wifi siempr fall mejor problem conect red error \n",
      "3  pag dej factur pued app clar pud hac plan recarg ver ingres dat cuent aplic \n",
      "4  inform consum respuest registr_equip product encuentr compr_paquet solicit benefici busc dan ayud muestr da_opcion nadi \n",
      "5  funcion llam solucion sal telefon intent much cambi_numer da chat codig esper gratis llev corre \n"
     ]
    }
   ],
   "source": [
    "impresionTopicosLimp(lda,15,20)\n",
    "#Guardar tabla de palabras"
   ]
  },
  {
   "cell_type": "code",
   "execution_count": 99,
   "metadata": {
    "scrolled": false
   },
   "outputs": [
    {
     "data": {
      "text/html": [
       "\n",
       "<link rel=\"stylesheet\" type=\"text/css\" href=\"https://cdn.jsdelivr.net/gh/bmabey/pyLDAvis@3.3.1/pyLDAvis/js/ldavis.v1.0.0.css\">\n",
       "\n",
       "\n",
       "<div id=\"ldavis_el1752421437377956321279771907\"></div>\n",
       "<script type=\"text/javascript\">\n",
       "\n",
       "var ldavis_el1752421437377956321279771907_data = {\"mdsDat\": {\"x\": [0.09412225670557928, 0.12538148466844798, -0.4089066135185128, 0.0927312542321609, 0.09667161791232465], \"y\": [-0.33893619848326345, 0.2603220772996676, 0.016397103930311484, 0.012147138471572824, 0.05006987878171165], \"topics\": [1, 2, 3, 4, 5], \"cluster\": [1, 1, 1, 1, 1], \"Freq\": [15.634463345048664, 14.740074417309895, 46.30246099153662, 10.888728504011342, 12.434272742093482]}, \"tinfo\": {\"Term\": [\"servici\", \"pag\", \"mal\", \"internet\", \"dej\", \"lent\", \"funcion\", \"factur\", \"consult\", \"se\\u00f1al\", \"pued\", \"registr\", \"app\", \"llam\", \"inform\", \"clar\", \"necesit\", \"pesim\", \"numer\", \"pud\", \"activ\", \"sirv\", \"hac\", \"solucion\", \"eleg\", \"recarg\", \"plan\", \"ver\", \"ingres\", \"dat\", \"consult\", \"registr\", \"necesit\", \"numer\", \"activ\", \"eleg\", \"famili_amig\", \"encontr\", \"amig\", \"nuev\", \"asoci\", \"asesor\", \"mir\", \"cambi_clav\", \"acced\", \"nombr\", \"hbo_max\", \"falt\", \"pid\", \"oper\", \"logr\", \"atencion\", \"equip_financi\", \"comunic\", \"resolv\", \"usuari\", \"mas\", \"report\", \"pqr\", \"trasl\", \"servici\", \"mal\", \"internet\", \"lent\", \"se\\u00f1al\", \"pesim\", \"sirv\", \"wifi\", \"siempr\", \"fall\", \"mejor\", \"problem\", \"conect\", \"red\", \"error\", \"vec\", \"netflix\", \"buen\", \"comunic_asesor\", \"trat\", \"cobertur\", \"cae\", \"present\", \"conexion\", \"contact\", \"dificil\", \"abrir\", \"dic_conect\", \"mierd\", \"comun\", \"pag\", \"dej\", \"factur\", \"pued\", \"app\", \"clar\", \"pud\", \"hac\", \"recarg\", \"ver\", \"ingres\", \"cuent\", \"plan\", \"aplic\", \"realiz\", \"dic\", \"equip\", \"permit\", \"dat\", \"pod\", \"aparec\", \"celul\", \"si\", \"carg\", \"opcion\", \"entrar\", \"quier\", \"cambi\", \"actualiz\", \"hog\", \"inform\", \"consum\", \"respuest\", \"registr_equip\", \"product\", \"encuentr\", \"solicit\", \"compr_paquet\", \"benefici\", \"busc\", \"dan\", \"ayud\", \"muestr\", \"da_opcion\", \"nadi\", \"hbo\", \"consult_sald\", \"averigu\", \"adquir\", \"ofrec\", \"quier_sab\", \"visit_tecnic\", \"cos\", \"com\", \"descarg\", \"client\", \"veo\", \"complic\", \"dieron\", \"quit\", \"sol\", \"funcion\", \"llam\", \"solucion\", \"sal\", \"telefon\", \"intent\", \"much\", \"cambi_numer\", \"da\", \"chat\", \"codig\", \"esper\", \"llev\", \"gratis\", \"corre\", \"canal\", \"cuot\", \"contest\", \"sig\", \"bloqu\", \"bloque\", \"rob\", \"pes\", \"minut\", \"mensaj\", \"toc\", \"mism\", \"pregunt\", \"cas\", \"sac\"], \"Freq\": [365.0, 733.0, 282.0, 216.0, 525.0, 203.0, 180.0, 502.0, 187.0, 174.0, 436.0, 168.0, 409.0, 143.0, 127.0, 371.0, 146.0, 141.0, 142.0, 345.0, 136.0, 130.0, 331.0, 100.0, 112.0, 278.0, 281.0, 269.0, 263.0, 259.0, 186.49064647538583, 167.62983040896205, 146.14380272478246, 141.2836324479686, 135.90044776897216, 111.4838800937981, 84.64881540232318, 82.59748115091966, 80.4342526808634, 62.524709573811386, 62.33678981644058, 55.70414957443686, 50.30097968732805, 48.34088038490678, 46.86054439649816, 44.45082452218851, 42.68167825414972, 41.87461861388366, 41.59212945407806, 41.37157507807814, 40.57269381235536, 39.5240476413016, 36.255662977755456, 34.71265719160806, 33.68324687299828, 33.16981992085021, 33.0760572410249, 32.647343333740594, 30.16349102976982, 29.673378361035912, 364.43393278532, 282.00598799335404, 216.0769073706185, 202.63065210773308, 173.48111235625768, 140.41338425562077, 129.6863026788252, 79.87325770175626, 73.10757178338113, 61.501477353739716, 60.506303025743335, 49.33106815215366, 47.607092456332516, 43.616294734390365, 43.373107420769145, 40.11624577974551, 39.82056202481688, 35.62731328121716, 35.27699671982296, 34.66803800065701, 33.82739521254268, 30.54225715609494, 29.85259656701444, 27.342382717632866, 26.51974015810591, 25.209644647783573, 24.355896341127785, 21.95401513508297, 21.628065643692914, 19.417826871341692, 732.6445388032747, 524.3475031483541, 501.46728825458894, 435.6860757995134, 408.9722883077572, 370.76840151310904, 344.67122979842645, 330.8380967275655, 277.89967315419045, 269.0635807490656, 262.57835855832747, 213.56760865090317, 280.24440588073236, 170.49158650110473, 168.88361777821794, 166.35575855449312, 164.1176460968955, 153.0562683713989, 258.0017251914703, 149.7592906016951, 142.7656975319631, 135.13364644900383, 134.65800175952154, 131.9194185802943, 124.64347983271848, 122.61907512661706, 120.85727632343983, 113.15879596027784, 109.60454277017254, 103.31232227332268, 126.7956764967197, 72.32760200912513, 70.95831233460031, 69.1130954132577, 57.6040472944655, 56.50177250252877, 55.238329894712486, 55.334233509981146, 52.92906692744382, 50.91217938842455, 42.657072065685234, 41.613651419149406, 40.16772575148302, 39.869811755857015, 36.9827997999543, 35.06962930150639, 33.184176610939595, 31.471718000948286, 30.401088954892398, 30.043791428705962, 29.198635512813805, 26.774016522763514, 25.133823981247836, 23.892373331450383, 23.80217558924554, 23.474783330373, 23.58726019707472, 22.476734987368687, 22.045568254629178, 21.616701350813855, 23.391147966466495, 180.1854978412609, 142.68888317319747, 99.27708427600267, 71.94154217975948, 67.85127365679564, 51.27948233332074, 49.0538058124099, 45.54358853855771, 45.09500743619039, 36.271200549819945, 35.067814560490866, 33.6389346710588, 32.986568425277895, 33.01781557565257, 32.953444963081125, 32.21314299698134, 32.11048478739577, 31.599352353524637, 31.3536695663389, 30.917153320079937, 30.580118670382507, 30.670084685560553, 30.158481747965038, 29.195226601873944, 28.10908728912413, 27.85440790042059, 26.295928472990838, 25.851111400418617, 27.454955941492347, 24.813108895980072], \"Total\": [365.0, 733.0, 282.0, 216.0, 525.0, 203.0, 180.0, 502.0, 187.0, 174.0, 436.0, 168.0, 409.0, 143.0, 127.0, 371.0, 146.0, 141.0, 142.0, 345.0, 136.0, 130.0, 331.0, 100.0, 112.0, 278.0, 281.0, 269.0, 263.0, 259.0, 187.2669168395935, 168.40338307033284, 146.91937733222142, 142.0566592636845, 136.67707826004076, 112.25761340026045, 85.42434355338723, 83.37579049277025, 81.20752844594986, 63.298056623554835, 63.111515121824006, 56.48011169773627, 51.076045267899744, 49.11966155279099, 47.63677941793909, 45.22648055725148, 43.45716395893607, 42.65252525789227, 42.366870640075035, 42.14769250166308, 41.349656187905566, 40.298008486602406, 37.0341820016721, 35.49133277782104, 34.46183430655821, 33.94469282293126, 33.85711141934312, 33.423510298060506, 30.948759520368775, 30.454350521300135, 365.1989300556266, 282.7665166106012, 216.83957870827794, 203.39272073850734, 174.23951174160172, 141.17581600061752, 130.4483317418626, 80.63691135829185, 73.87435135672129, 62.264023823149856, 61.273419946699775, 50.09544455808834, 48.37023086886912, 44.377331243964726, 44.13741137531764, 40.88716582393874, 40.589273515201064, 36.39193992214075, 36.044465327753485, 35.43478017218791, 34.58691245132672, 31.302512073473306, 30.61866806480724, 28.10295216512719, 27.288053655663187, 25.972128307674428, 25.11916287768855, 22.716071732131653, 22.39253596608301, 20.180002261070012, 733.4047633748504, 525.1094843231945, 502.2271685756962, 436.4495794154599, 409.73600312092714, 371.53538433612977, 345.43419666002467, 331.60074409966893, 278.659316723967, 269.8242190374755, 263.33870382052675, 214.33148259871348, 281.32336058699553, 171.25515564485303, 169.64337538737027, 167.12201850710073, 164.8820083962834, 153.81759533755047, 259.28699899517477, 150.5225763654168, 143.52868966372645, 135.8960514968146, 135.42241724908624, 132.67952531220806, 125.40816170289494, 123.3788803086136, 121.62229630376424, 113.92326848390898, 110.36597865559995, 104.07709473390446, 127.56574645012212, 73.1024519565486, 71.72830814732222, 69.88408343946391, 58.37819186059265, 57.272693026084845, 56.011500881952536, 56.110026867538615, 53.700518792402846, 51.68393162306721, 43.42647897594122, 42.38625113448742, 40.9393331145848, 40.64328797383877, 37.75821097381641, 35.84347821623351, 33.95634938049397, 32.24538331074783, 31.17210169814438, 30.81413451262925, 29.973065490165514, 27.546169957363176, 25.90618363714275, 24.664106129967003, 24.575516666714684, 24.244605064913703, 24.361906511431837, 23.245735290029106, 22.817100461821354, 22.38610269167383, 78.03372447112761, 180.94453220716156, 143.44945177874226, 100.0369639708069, 72.70496417467427, 68.61192049000726, 52.03940062832197, 49.81321639191553, 46.303318266878705, 45.856424146470715, 37.03136729248163, 35.833017890901004, 34.39634700226033, 33.74732795163645, 33.78258412765189, 33.7171881988817, 32.97455772003407, 32.87270280005267, 32.358183623293755, 32.12132903774, 31.68037912724982, 31.338734383343866, 31.433818664858133, 30.922427347628968, 29.953643441074405, 28.869303889474686, 28.61463877694142, 27.0543351896468, 26.60869719808521, 28.282055729381923, 25.574291395060428], \"Category\": [\"Default\", \"Default\", \"Default\", \"Default\", \"Default\", \"Default\", \"Default\", \"Default\", \"Default\", \"Default\", \"Default\", \"Default\", \"Default\", \"Default\", \"Default\", \"Default\", \"Default\", \"Default\", \"Default\", \"Default\", \"Default\", \"Default\", \"Default\", \"Default\", \"Default\", \"Default\", \"Default\", \"Default\", \"Default\", \"Default\", \"Topic1\", \"Topic1\", \"Topic1\", \"Topic1\", \"Topic1\", \"Topic1\", \"Topic1\", \"Topic1\", \"Topic1\", \"Topic1\", \"Topic1\", \"Topic1\", \"Topic1\", \"Topic1\", \"Topic1\", \"Topic1\", \"Topic1\", \"Topic1\", \"Topic1\", \"Topic1\", \"Topic1\", \"Topic1\", \"Topic1\", \"Topic1\", \"Topic1\", \"Topic1\", \"Topic1\", \"Topic1\", \"Topic1\", \"Topic1\", \"Topic2\", \"Topic2\", \"Topic2\", \"Topic2\", \"Topic2\", \"Topic2\", \"Topic2\", \"Topic2\", \"Topic2\", \"Topic2\", \"Topic2\", \"Topic2\", \"Topic2\", \"Topic2\", \"Topic2\", \"Topic2\", \"Topic2\", \"Topic2\", \"Topic2\", \"Topic2\", \"Topic2\", \"Topic2\", \"Topic2\", \"Topic2\", \"Topic2\", \"Topic2\", \"Topic2\", \"Topic2\", \"Topic2\", \"Topic2\", \"Topic3\", \"Topic3\", \"Topic3\", \"Topic3\", \"Topic3\", \"Topic3\", \"Topic3\", \"Topic3\", \"Topic3\", \"Topic3\", \"Topic3\", \"Topic3\", \"Topic3\", \"Topic3\", \"Topic3\", \"Topic3\", \"Topic3\", \"Topic3\", \"Topic3\", \"Topic3\", \"Topic3\", \"Topic3\", \"Topic3\", \"Topic3\", \"Topic3\", \"Topic3\", \"Topic3\", \"Topic3\", \"Topic3\", \"Topic3\", \"Topic4\", \"Topic4\", \"Topic4\", \"Topic4\", \"Topic4\", \"Topic4\", \"Topic4\", \"Topic4\", \"Topic4\", \"Topic4\", \"Topic4\", \"Topic4\", \"Topic4\", \"Topic4\", \"Topic4\", \"Topic4\", \"Topic4\", \"Topic4\", \"Topic4\", \"Topic4\", \"Topic4\", \"Topic4\", \"Topic4\", \"Topic4\", \"Topic4\", \"Topic4\", \"Topic4\", \"Topic4\", \"Topic4\", \"Topic4\", \"Topic4\", \"Topic5\", \"Topic5\", \"Topic5\", \"Topic5\", \"Topic5\", \"Topic5\", \"Topic5\", \"Topic5\", \"Topic5\", \"Topic5\", \"Topic5\", \"Topic5\", \"Topic5\", \"Topic5\", \"Topic5\", \"Topic5\", \"Topic5\", \"Topic5\", \"Topic5\", \"Topic5\", \"Topic5\", \"Topic5\", \"Topic5\", \"Topic5\", \"Topic5\", \"Topic5\", \"Topic5\", \"Topic5\", \"Topic5\", \"Topic5\"], \"logprob\": [30.0, 29.0, 28.0, 27.0, 26.0, 25.0, 24.0, 23.0, 22.0, 21.0, 20.0, 19.0, 18.0, 17.0, 16.0, 15.0, 14.0, 13.0, 12.0, 11.0, 10.0, 9.0, 8.0, 7.0, 6.0, 5.0, 4.0, 3.0, 2.0, 1.0, -3.0274, -3.134, -3.2712, -3.305, -3.3439, -3.5419, -3.8173, -3.8418, -3.8683, -4.1202, -4.1232, -4.2357, -4.3378, -4.3775, -4.4086, -4.4614, -4.502, -4.5211, -4.5279, -4.5332, -4.5527, -4.5789, -4.6652, -4.7087, -4.7388, -4.7541, -4.757, -4.77, -4.8492, -4.8655, -2.2985, -2.5549, -2.8212, -2.8855, -3.0408, -3.2523, -3.3318, -3.8164, -3.9049, -4.0778, -4.0941, -4.2983, -4.3339, -4.4214, -4.427, -4.5051, -4.5125, -4.6238, -4.6336, -4.6511, -4.6756, -4.7778, -4.8006, -4.8884, -4.919, -4.9696, -5.0041, -5.1079, -5.1229, -5.2307, -2.7448, -3.0793, -3.124, -3.2646, -3.3279, -3.4259, -3.4989, -3.5399, -3.7142, -3.7466, -3.771, -3.9775, -3.7058, -4.2028, -4.2123, -4.2274, -4.2409, -4.3107, -3.7885, -4.3325, -4.3803, -4.4352, -4.4388, -4.4593, -4.516, -4.5324, -4.5469, -4.6127, -4.6446, -4.7037, -3.0515, -3.6128, -3.6319, -3.6583, -3.8404, -3.8598, -3.8824, -3.8806, -3.9251, -3.9639, -4.1408, -4.1656, -4.201, -4.2084, -4.2836, -4.3367, -4.392, -4.4449, -4.4796, -4.4914, -4.5199, -4.6066, -4.6698, -4.7205, -4.7243, -4.7381, -4.7333, -4.7816, -4.8009, -4.8206, -4.7417, -2.8328, -3.0661, -3.4288, -3.7509, -3.8094, -4.0895, -4.1338, -4.2081, -4.218, -4.4357, -4.4695, -4.5111, -4.5307, -4.5297, -4.5317, -4.5544, -4.5576, -4.5736, -4.5814, -4.5955, -4.6064, -4.6035, -4.6203, -4.6528, -4.6907, -4.6998, -4.7573, -4.7744, -4.7142, -4.8154], \"loglift\": [30.0, 29.0, 28.0, 27.0, 26.0, 25.0, 24.0, 23.0, 22.0, 21.0, 20.0, 19.0, 18.0, 17.0, 16.0, 15.0, 14.0, 13.0, 12.0, 11.0, 10.0, 9.0, 8.0, 7.0, 6.0, 5.0, 4.0, 3.0, 2.0, 1.0, 1.8515, 1.8511, 1.8504, 1.8502, 1.85, 1.8488, 1.8466, 1.8463, 1.8461, 1.8434, 1.8433, 1.8419, 1.8404, 1.8397, 1.8393, 1.8384, 1.8377, 1.8373, 1.8372, 1.8371, 1.8367, 1.8363, 1.8344, 1.8335, 1.8328, 1.8326, 1.8324, 1.8322, 1.83, 1.8297, 1.9125, 1.9119, 1.9111, 1.9108, 1.9102, 1.9092, 1.9087, 1.9051, 1.9042, 1.9023, 1.902, 1.8992, 1.8987, 1.8973, 1.8971, 1.8956, 1.8955, 1.8934, 1.8931, 1.8927, 1.8924, 1.89, 1.8893, 1.8872, 1.886, 1.8848, 1.8837, 1.8805, 1.8799, 1.8761, 0.7689, 0.7685, 0.7685, 0.7682, 0.7681, 0.7679, 0.7678, 0.7677, 0.7672, 0.7672, 0.7671, 0.7664, 0.7661, 0.7655, 0.7655, 0.7654, 0.7653, 0.765, 0.765, 0.7649, 0.7646, 0.7643, 0.7643, 0.7642, 0.7639, 0.7638, 0.7637, 0.7632, 0.7631, 0.7626, 2.2114, 2.2068, 2.2066, 2.2063, 2.2041, 2.2039, 2.2035, 2.2035, 2.203, 2.2024, 2.1996, 2.199, 2.1984, 2.1982, 2.1967, 2.1956, 2.1944, 2.1932, 2.1924, 2.1921, 2.1913, 2.189, 2.1872, 2.1857, 2.1855, 2.1852, 2.1851, 2.1838, 2.183, 2.1825, 1.0127, 2.0805, 2.0794, 2.0771, 2.0742, 2.0736, 2.07, 2.0694, 2.0682, 2.068, 2.064, 2.0631, 2.0624, 2.0619, 2.0618, 2.0618, 2.0614, 2.0613, 2.061, 2.0605, 2.0603, 2.0602, 2.0601, 2.0597, 2.0591, 2.058, 2.0578, 2.0563, 2.0558, 2.055, 2.0545]}, \"token.table\": {\"Topic\": [2, 1, 1, 3, 4, 1, 3, 3, 3, 1, 1, 1, 4, 4, 4, 5, 5, 2, 4, 2, 3, 1, 5, 5, 3, 5, 3, 5, 3, 4, 2, 5, 4, 4, 4, 2, 1, 2, 2, 2, 1, 4, 4, 2, 5, 5, 4, 3, 5, 5, 4, 4, 2, 3, 3, 4, 3, 2, 4, 2, 1, 1, 4, 3, 3, 1, 2, 5, 3, 2, 1, 1, 5, 5, 3, 4, 1, 3, 4, 3, 5, 2, 2, 5, 5, 1, 2, 1, 2, 5, 2, 5, 1, 5, 5, 4, 4, 1, 2, 1, 1, 1, 4, 3, 1, 3, 3, 5, 2, 1, 3, 3, 1, 5, 2, 2, 4, 3, 3, 3, 4, 4, 3, 3, 2, 1, 4, 1, 1, 4, 5, 5, 5, 2, 2, 3, 2, 5, 2, 2, 3, 4, 5, 4, 5, 5, 5, 1, 2, 1, 2, 4, 3, 4, 2], \"Freq\": [0.9554458529076773, 0.9866326098086453, 0.995046146225393, 0.9966839540585057, 0.9623990159696497, 0.9851303386636922, 0.9963164879093851, 0.9926708446228856, 0.9982037138173823, 0.9914994555905683, 0.9823880773630858, 0.9926048830253862, 0.9613779343620725, 0.9908873485116226, 0.9869550833370729, 0.978523643150956, 0.9891911913480496, 0.9892300349203892, 0.9867670356803513, 0.9903358531493176, 0.9918956987786969, 0.9772054302208976, 0.9934493190071073, 0.9704451617423221, 0.994878446311825, 0.9546689341945532, 0.9934063463438038, 0.9721488195578717, 0.9985589950279261, 0.9486646591445257, 0.9830307937387396, 0.9767527844448589, 0.9730739834451121, 0.9464101576273457, 0.9802169606840663, 0.9415261581339662, 0.9861562601523919, 0.9710228652788679, 0.9923458941125832, 0.960753156513719, 0.9932347001756925, 0.971835918821022, 0.9849190837373841, 0.9894439647730828, 0.9889306634926224, 0.9787292998855258, 0.9650205661383672, 0.9984534115348136, 0.9734520521369702, 0.981323791324522, 0.984172344170264, 0.9901792872459797, 0.003856730201958987, 0.9950363921054186, 0.997887137146981, 0.9765817063169147, 0.9932862317178567, 0.9684773080233421, 0.9641891193322936, 0.962570325536734, 0.9887970769895458, 0.995492810436348, 0.9952386903482844, 0.9969291315688237, 0.9946506692582034, 0.9720749333244243, 0.9742302201267359, 0.9884770611764592, 0.9975565468129165, 0.9957596087284727, 0.9847013687009885, 0.995032521928342, 0.9947799903338324, 0.9768346872253825, 0.9981883511712255, 0.9764677353256556, 0.9894801243963353, 0.9896509915398938, 0.9955650598545016, 0.9987138091909286, 0.9800266602656394, 0.9961281113287558, 0.9980691504736188, 0.9968668281881238, 0.977855196337101, 0.9915439154725587, 0.997289224269588, 0.9746844493398383, 0.9955377071014215, 0.9698882975217279, 0.9824702317469729, 0.9681626896924764, 0.9789324866039302, 0.9610289743859507, 0.9836746861411761, 0.977055485687671, 0.9799193088268352, 0.9937423003764678, 0.9854820383769526, 0.9728813619335492, 0.9952912199923066, 0.9925617055253767, 0.9735791861265624, 0.9967453338175715, 0.9727697429315307, 0.9994481037006252, 0.99468464361469, 0.9701696332807555, 0.9916712647114264, 0.9913406245367575, 0.995295944907546, 0.9965282525848603, 0.9693441826078892, 0.9771241262376043, 0.9797944161549493, 0.9781328508459863, 0.9935216928010416, 0.9987430408910789, 0.9989699167173858, 0.9948833698863078, 0.9675353363343904, 0.982752572120674, 0.9962074829865819, 0.9976339684898456, 0.991497207394236, 0.9976046617177259, 0.9873492876209826, 0.9873289701086518, 0.9865986731161805, 0.9898462940764425, 0.9861989830289654, 0.9775441913056738, 0.9903037683509397, 0.9967170493751338, 0.9928861615301131, 0.9968807435455145, 0.9881643447196001, 0.9650908268327713, 0.9965631469879601, 0.025629944149852767, 0.5510437992218346, 0.2947443577233068, 0.11533474867433746, 0.9819411930402592, 0.9896341919062087, 0.9910814260024046, 0.9785201280459037, 0.9850809321649346, 0.9877301292663541, 0.9721696458454008, 0.9783020953871223, 0.9851445735061001, 0.9969453481958898, 0.9801725627116744, 0.9921014911463822], \"Term\": [\"abrir\", \"acced\", \"activ\", \"actualiz\", \"adquir\", \"amig\", \"aparec\", \"aplic\", \"app\", \"asesor\", \"asoci\", \"atencion\", \"averigu\", \"ayud\", \"benefici\", \"bloqu\", \"bloque\", \"buen\", \"busc\", \"cae\", \"cambi\", \"cambi_clav\", \"cambi_numer\", \"canal\", \"carg\", \"cas\", \"celul\", \"chat\", \"clar\", \"client\", \"cobertur\", \"codig\", \"com\", \"complic\", \"compr_paquet\", \"comun\", \"comunic\", \"comunic_asesor\", \"conect\", \"conexion\", \"consult\", \"consult_sald\", \"consum\", \"contact\", \"contest\", \"corre\", \"cos\", \"cuent\", \"cuot\", \"da\", \"da_opcion\", \"dan\", \"dat\", \"dat\", \"dej\", \"descarg\", \"dic\", \"dic_conect\", \"dieron\", \"dificil\", \"eleg\", \"encontr\", \"encuentr\", \"entrar\", \"equip\", \"equip_financi\", \"error\", \"esper\", \"factur\", \"fall\", \"falt\", \"famili_amig\", \"funcion\", \"gratis\", \"hac\", \"hbo\", \"hbo_max\", \"hog\", \"inform\", \"ingres\", \"intent\", \"internet\", \"lent\", \"llam\", \"llev\", \"logr\", \"mal\", \"mas\", \"mejor\", \"mensaj\", \"mierd\", \"minut\", \"mir\", \"mism\", \"much\", \"muestr\", \"nadi\", \"necesit\", \"netflix\", \"nombr\", \"nuev\", \"numer\", \"ofrec\", \"opcion\", \"oper\", \"pag\", \"permit\", \"pes\", \"pesim\", \"pid\", \"plan\", \"pod\", \"pqr\", \"pregunt\", \"present\", \"problem\", \"product\", \"pud\", \"pued\", \"quier\", \"quier_sab\", \"quit\", \"realiz\", \"recarg\", \"red\", \"registr\", \"registr_equip\", \"report\", \"resolv\", \"respuest\", \"rob\", \"sac\", \"sal\", \"servici\", \"se\\u00f1al\", \"si\", \"siempr\", \"sig\", \"sirv\", \"sol\", \"sol\", \"sol\", \"sol\", \"solicit\", \"solucion\", \"telefon\", \"toc\", \"trasl\", \"trat\", \"usuari\", \"vec\", \"veo\", \"ver\", \"visit_tecnic\", \"wifi\"]}, \"R\": 30, \"lambda.step\": 0.01, \"plot.opts\": {\"xlab\": \"PC1\", \"ylab\": \"PC2\"}, \"topic.order\": [1, 2, 3, 4, 5]};\n",
       "\n",
       "function LDAvis_load_lib(url, callback){\n",
       "  var s = document.createElement('script');\n",
       "  s.src = url;\n",
       "  s.async = true;\n",
       "  s.onreadystatechange = s.onload = callback;\n",
       "  s.onerror = function(){console.warn(\"failed to load library \" + url);};\n",
       "  document.getElementsByTagName(\"head\")[0].appendChild(s);\n",
       "}\n",
       "\n",
       "if(typeof(LDAvis) !== \"undefined\"){\n",
       "   // already loaded: just create the visualization\n",
       "   !function(LDAvis){\n",
       "       new LDAvis(\"#\" + \"ldavis_el1752421437377956321279771907\", ldavis_el1752421437377956321279771907_data);\n",
       "   }(LDAvis);\n",
       "}else if(typeof define === \"function\" && define.amd){\n",
       "   // require.js is available: use it to load d3/LDAvis\n",
       "   require.config({paths: {d3: \"https://d3js.org/d3.v5\"}});\n",
       "   require([\"d3\"], function(d3){\n",
       "      window.d3 = d3;\n",
       "      LDAvis_load_lib(\"https://cdn.jsdelivr.net/gh/bmabey/pyLDAvis@3.3.1/pyLDAvis/js/ldavis.v3.0.0.js\", function(){\n",
       "        new LDAvis(\"#\" + \"ldavis_el1752421437377956321279771907\", ldavis_el1752421437377956321279771907_data);\n",
       "      });\n",
       "    });\n",
       "}else{\n",
       "    // require.js not available: dynamically load d3 & LDAvis\n",
       "    LDAvis_load_lib(\"https://d3js.org/d3.v5.js\", function(){\n",
       "         LDAvis_load_lib(\"https://cdn.jsdelivr.net/gh/bmabey/pyLDAvis@3.3.1/pyLDAvis/js/ldavis.v3.0.0.js\", function(){\n",
       "                 new LDAvis(\"#\" + \"ldavis_el1752421437377956321279771907\", ldavis_el1752421437377956321279771907_data);\n",
       "            })\n",
       "         });\n",
       "}\n",
       "</script>"
      ],
      "text/plain": [
       "<IPython.core.display.HTML object>"
      ]
     },
     "execution_count": 99,
     "metadata": {},
     "output_type": "execute_result"
    }
   ],
   "source": [
    "lda_display = pyLDAvis.gensim_models.prepare(lda, corpus, diccionario, sort_topics=False)\n",
    "pyLDAvis.display(lda_display)"
   ]
  },
  {
   "cell_type": "code",
   "execution_count": 100,
   "metadata": {},
   "outputs": [],
   "source": [
    "pyLDAvis.save_html(lda_display, 'lda_General_4_V3.html')"
   ]
  },
  {
   "cell_type": "markdown",
   "metadata": {},
   "source": [
    "####  fin simplificación"
   ]
  },
  {
   "cell_type": "markdown",
   "metadata": {},
   "source": [
    "###  Clasificación de los textos en tópicos"
   ]
  },
  {
   "cell_type": "code",
   "execution_count": 101,
   "metadata": {},
   "outputs": [],
   "source": [
    "dfc2 = dfc.fillna('')"
   ]
  },
  {
   "cell_type": "code",
   "execution_count": 102,
   "metadata": {},
   "outputs": [
    {
     "data": {
      "text/plain": [
       "7951"
      ]
     },
     "execution_count": 102,
     "metadata": {},
     "output_type": "execute_result"
    }
   ],
   "source": [
    "len(dfc2)"
   ]
  },
  {
   "cell_type": "code",
   "execution_count": 103,
   "metadata": {},
   "outputs": [],
   "source": [
    "for column in Qs:    \n",
    "    dfc2[\"Tokens_\"+column+\"_T\"] = dfc2[\"Tokens_\"+column]\n",
    "    dfc2[\"Tokens_\"+column] =  dfc2[column].apply(limpiar_texto)\n",
    "    dfc2[\"Tokens_\"+column] =  dfc2[column].apply(Limpiar_Caracter)"
   ]
  },
  {
   "cell_type": "code",
   "execution_count": 110,
   "metadata": {},
   "outputs": [
    {
     "data": {
      "text/html": [
       "<div>\n",
       "<style scoped>\n",
       "    .dataframe tbody tr th:only-of-type {\n",
       "        vertical-align: middle;\n",
       "    }\n",
       "\n",
       "    .dataframe tbody tr th {\n",
       "        vertical-align: top;\n",
       "    }\n",
       "\n",
       "    .dataframe thead th {\n",
       "        text-align: right;\n",
       "    }\n",
       "</style>\n",
       "<table border=\"1\" class=\"dataframe\">\n",
       "  <thead>\n",
       "    <tr style=\"text-align: right;\">\n",
       "      <th></th>\n",
       "      <th>StartDate</th>\n",
       "      <th>EndDate</th>\n",
       "      <th>Status</th>\n",
       "      <th>IPAddress</th>\n",
       "      <th>Progress</th>\n",
       "      <th>Duration (in seconds)</th>\n",
       "      <th>Finished</th>\n",
       "      <th>RecordedDate</th>\n",
       "      <th>ResponseId</th>\n",
       "      <th>RecipientLastName</th>\n",
       "      <th>...</th>\n",
       "      <th>Tokens_Q20</th>\n",
       "      <th>Sent_Q20</th>\n",
       "      <th>Tokens_Q4_T</th>\n",
       "      <th>Tokens_Q10_T</th>\n",
       "      <th>Tokens_Q12_T</th>\n",
       "      <th>Tokens_Q15_T</th>\n",
       "      <th>Tokens_Q18_T</th>\n",
       "      <th>Tokens_Q20_T</th>\n",
       "      <th>Opinion</th>\n",
       "      <th>Tópico</th>\n",
       "    </tr>\n",
       "  </thead>\n",
       "  <tbody>\n",
       "    <tr>\n",
       "      <th>2</th>\n",
       "      <td>2021-08-01 00:03:40</td>\n",
       "      <td>2021-08-01 00:06:10</td>\n",
       "      <td>0</td>\n",
       "      <td>191.156.38.37</td>\n",
       "      <td>100</td>\n",
       "      <td>150</td>\n",
       "      <td>1</td>\n",
       "      <td>2021-08-01 00:06:11.288</td>\n",
       "      <td>R_1EcfZSS3c60c0mV</td>\n",
       "      <td></td>\n",
       "      <td>...</td>\n",
       "      <td></td>\n",
       "      <td></td>\n",
       "      <td>[]</td>\n",
       "      <td>[]</td>\n",
       "      <td>[]</td>\n",
       "      <td>[]</td>\n",
       "      <td>[]</td>\n",
       "      <td>[]</td>\n",
       "      <td>No se...</td>\n",
       "      <td>3</td>\n",
       "    </tr>\n",
       "    <tr>\n",
       "      <th>9</th>\n",
       "      <td>2021-08-01 02:53:19</td>\n",
       "      <td>2021-08-01 02:55:09</td>\n",
       "      <td>0</td>\n",
       "      <td>179.51.113.53</td>\n",
       "      <td>100</td>\n",
       "      <td>109</td>\n",
       "      <td>1</td>\n",
       "      <td>2021-08-01 02:55:09.479</td>\n",
       "      <td>R_oY0xEScYtmBx0zL</td>\n",
       "      <td></td>\n",
       "      <td>...</td>\n",
       "      <td></td>\n",
       "      <td></td>\n",
       "      <td>[mm]</td>\n",
       "      <td>[]</td>\n",
       "      <td>[]</td>\n",
       "      <td>[]</td>\n",
       "      <td>[]</td>\n",
       "      <td>[]</td>\n",
       "      <td></td>\n",
       "      <td>3</td>\n",
       "    </tr>\n",
       "  </tbody>\n",
       "</table>\n",
       "<p>2 rows × 73 columns</p>\n",
       "</div>"
      ],
      "text/plain": [
       "            StartDate             EndDate  Status      IPAddress  Progress  \\\n",
       "2 2021-08-01 00:03:40 2021-08-01 00:06:10       0  191.156.38.37       100   \n",
       "9 2021-08-01 02:53:19 2021-08-01 02:55:09       0  179.51.113.53       100   \n",
       "\n",
       "   Duration (in seconds)  Finished            RecordedDate         ResponseId  \\\n",
       "2                    150         1 2021-08-01 00:06:11.288  R_1EcfZSS3c60c0mV   \n",
       "9                    109         1 2021-08-01 02:55:09.479  R_oY0xEScYtmBx0zL   \n",
       "\n",
       "  RecipientLastName  ... Tokens_Q20 Sent_Q20 Tokens_Q4_T Tokens_Q10_T  \\\n",
       "2                    ...                              []           []   \n",
       "9                    ...                            [mm]           []   \n",
       "\n",
       "  Tokens_Q12_T Tokens_Q15_T Tokens_Q18_T Tokens_Q20_T       Opinion Tópico  \n",
       "2           []           []           []           []   No se...         3  \n",
       "9           []           []           []           []                    3  \n",
       "\n",
       "[2 rows x 73 columns]"
      ]
     },
     "execution_count": 110,
     "metadata": {},
     "output_type": "execute_result"
    }
   ],
   "source": [
    "columnasDefTopico=['Q12','Q15','Q18']\n",
    "#'Q4','Q10','Q12','Q15','Q18','Q20'\n",
    "#columnasDefTopico=['Q4','Q10','Q12','Q15','Q18','Q20']\n",
    "dfc2['Opinion'] = ''\n",
    "for i in dfc2.index:\n",
    "    for column in columnasDefTopico: \n",
    "        dfc2.loc[i,'Opinion']=dfc2.loc[i,'Opinion']+str(dfc2.loc[i,\"Tokens_\"+column])+\" \"\n",
    "dfc2.head(2)"
   ]
  },
  {
   "cell_type": "code",
   "execution_count": 111,
   "metadata": {},
   "outputs": [
    {
     "data": {
      "text/plain": [
       "2                                                [no, ...]\n",
       "9                                                       []\n",
       "12       [no, pued, hac, consult, me, dic, conexion, in...\n",
       "29                              [mejor, inscripcion, eleg]\n",
       "43                                               [complet]\n",
       "                               ...                        \n",
       "14596                              [muy, poc, opcion, nad]\n",
       "14604                                                   []\n",
       "14605    [no, dej, agreg, numer, grup, famil, no, dej, ...\n",
       "14606                               [compr, plan, postpag]\n",
       "14609                                                   []\n",
       "Name: Opinion, Length: 3057, dtype: object"
      ]
     },
     "execution_count": 111,
     "metadata": {},
     "output_type": "execute_result"
    }
   ],
   "source": [
    "dfc2['Opinion'] = dfc2['Opinion'].apply(tokenizer.tokenize)\n",
    "dfc2['Opinion'] = dfc2['Opinion'].apply(filtrar_stopword_digitos)\n",
    "dfc2['Opinion'] = dfc2['Opinion'].apply(stem_palabras)\n",
    "dfc2['Opinion'] "
   ]
  },
  {
   "cell_type": "code",
   "execution_count": 112,
   "metadata": {},
   "outputs": [
    {
     "data": {
      "text/html": [
       "<div>\n",
       "<style scoped>\n",
       "    .dataframe tbody tr th:only-of-type {\n",
       "        vertical-align: middle;\n",
       "    }\n",
       "\n",
       "    .dataframe tbody tr th {\n",
       "        vertical-align: top;\n",
       "    }\n",
       "\n",
       "    .dataframe thead th {\n",
       "        text-align: right;\n",
       "    }\n",
       "</style>\n",
       "<table border=\"1\" class=\"dataframe\">\n",
       "  <thead>\n",
       "    <tr style=\"text-align: right;\">\n",
       "      <th></th>\n",
       "      <th>StartDate</th>\n",
       "      <th>EndDate</th>\n",
       "      <th>Status</th>\n",
       "      <th>IPAddress</th>\n",
       "      <th>Progress</th>\n",
       "      <th>Duration (in seconds)</th>\n",
       "      <th>Finished</th>\n",
       "      <th>RecordedDate</th>\n",
       "      <th>ResponseId</th>\n",
       "      <th>RecipientLastName</th>\n",
       "      <th>...</th>\n",
       "      <th>Tokens_Q20</th>\n",
       "      <th>Sent_Q20</th>\n",
       "      <th>Tokens_Q4_T</th>\n",
       "      <th>Tokens_Q10_T</th>\n",
       "      <th>Tokens_Q12_T</th>\n",
       "      <th>Tokens_Q15_T</th>\n",
       "      <th>Tokens_Q18_T</th>\n",
       "      <th>Tokens_Q20_T</th>\n",
       "      <th>Opinion</th>\n",
       "      <th>Tópico</th>\n",
       "    </tr>\n",
       "  </thead>\n",
       "  <tbody>\n",
       "    <tr>\n",
       "      <th>2</th>\n",
       "      <td>2021-08-01 00:03:40</td>\n",
       "      <td>2021-08-01 00:06:10</td>\n",
       "      <td>0</td>\n",
       "      <td>191.156.38.37</td>\n",
       "      <td>100</td>\n",
       "      <td>150</td>\n",
       "      <td>1</td>\n",
       "      <td>2021-08-01 00:06:11.288</td>\n",
       "      <td>R_1EcfZSS3c60c0mV</td>\n",
       "      <td></td>\n",
       "      <td>...</td>\n",
       "      <td></td>\n",
       "      <td></td>\n",
       "      <td>[]</td>\n",
       "      <td>[]</td>\n",
       "      <td>[]</td>\n",
       "      <td>[]</td>\n",
       "      <td>[]</td>\n",
       "      <td>[]</td>\n",
       "      <td>[no, ...]</td>\n",
       "      <td>3</td>\n",
       "    </tr>\n",
       "    <tr>\n",
       "      <th>12</th>\n",
       "      <td>2021-08-01 03:41:59</td>\n",
       "      <td>2021-08-01 03:44:19</td>\n",
       "      <td>0</td>\n",
       "      <td>181.136.137.90</td>\n",
       "      <td>100</td>\n",
       "      <td>139</td>\n",
       "      <td>1</td>\n",
       "      <td>2021-08-01 03:44:19.375</td>\n",
       "      <td>R_AcJ6tmnGGBi4Kwp</td>\n",
       "      <td></td>\n",
       "      <td>...</td>\n",
       "      <td></td>\n",
       "      <td></td>\n",
       "      <td>[]</td>\n",
       "      <td>[]</td>\n",
       "      <td>[]</td>\n",
       "      <td>[pued, hac, consult]</td>\n",
       "      <td>[dic, conexion, internet]</td>\n",
       "      <td>[]</td>\n",
       "      <td>[no, pued, hac, consult, me, dic, conexion, in...</td>\n",
       "      <td>3</td>\n",
       "    </tr>\n",
       "  </tbody>\n",
       "</table>\n",
       "<p>2 rows × 73 columns</p>\n",
       "</div>"
      ],
      "text/plain": [
       "             StartDate             EndDate  Status       IPAddress  Progress  \\\n",
       "2  2021-08-01 00:03:40 2021-08-01 00:06:10       0   191.156.38.37       100   \n",
       "12 2021-08-01 03:41:59 2021-08-01 03:44:19       0  181.136.137.90       100   \n",
       "\n",
       "    Duration (in seconds)  Finished            RecordedDate  \\\n",
       "2                     150         1 2021-08-01 00:06:11.288   \n",
       "12                    139         1 2021-08-01 03:44:19.375   \n",
       "\n",
       "           ResponseId RecipientLastName  ... Tokens_Q20 Sent_Q20 Tokens_Q4_T  \\\n",
       "2   R_1EcfZSS3c60c0mV                    ...                              []   \n",
       "12  R_AcJ6tmnGGBi4Kwp                    ...                              []   \n",
       "\n",
       "   Tokens_Q10_T Tokens_Q12_T          Tokens_Q15_T               Tokens_Q18_T  \\\n",
       "2            []           []                    []                         []   \n",
       "12           []           []  [pued, hac, consult]  [dic, conexion, internet]   \n",
       "\n",
       "   Tokens_Q20_T                                            Opinion Tópico  \n",
       "2            []                                          [no, ...]      3  \n",
       "12           []  [no, pued, hac, consult, me, dic, conexion, in...      3  \n",
       "\n",
       "[2 rows x 73 columns]"
      ]
     },
     "execution_count": 112,
     "metadata": {},
     "output_type": "execute_result"
    }
   ],
   "source": [
    "for i in dfc2.index:    \n",
    "    if dfc2.loc[i,'Opinion']==[]:\n",
    "        dfc2.drop([i], inplace=True)\n",
    "dfc2.head(2)"
   ]
  },
  {
   "cell_type": "code",
   "execution_count": 113,
   "metadata": {},
   "outputs": [],
   "source": [
    "dfc2['Tópico'] = \"\"\n",
    "sumaTopicos = [0]*(numeroTopicos+1)\n",
    "for i in dfc2.index:\n",
    "    bow_comentario = diccionario.doc2bow(dfc2.loc[i,'Opinion'])\n",
    "    distribucion_noticia = lda[bow_comentario]\n",
    "    dist_contrib = [topico[1] for topico in lda[bow_comentario]]\n",
    "    dfc2.loc[i,'Tópico']=dist_contrib.index(max(dist_contrib))+1\n",
    "    \n",
    "    # sumar pertenencias a los tópicos\n",
    "    for idx, val in enumerate(dist_contrib):\n",
    "        sumaTopicos[idx+1]=sumaTopicos[idx+1]+dist_contrib[idx]    "
   ]
  },
  {
   "cell_type": "code",
   "execution_count": 114,
   "metadata": {
    "scrolled": false
   },
   "outputs": [
    {
     "data": {
      "text/plain": [
       "3    2375\n",
       "2     156\n",
       "1     143\n",
       "5      40\n",
       "4      31\n",
       "Name: Tópico, dtype: int64"
      ]
     },
     "execution_count": 114,
     "metadata": {},
     "output_type": "execute_result"
    }
   ],
   "source": [
    "dfc2.Tópico.value_counts()"
   ]
  },
  {
   "cell_type": "code",
   "execution_count": 115,
   "metadata": {},
   "outputs": [
    {
     "data": {
      "image/png": "[encoded data removed]",
      "text/plain": [
       "<Figure size 432x288 with 1 Axes>"
      ]
     },
     "metadata": {},
     "output_type": "display_data"
    }
   ],
   "source": [
    "A = dfc2.Tópico.value_counts()\n",
    "indices = A.index\n",
    "plt.pie(A, labels=indices, autopct=\"%0.1f %%\")\n",
    "plt.axis(\"equal\")\n",
    "plt.show()"
   ]
  },
  {
   "cell_type": "markdown",
   "metadata": {},
   "source": [
    "#####  Validación asignación de Tópicos"
   ]
  },
  {
   "cell_type": "code",
   "execution_count": 33,
   "metadata": {},
   "outputs": [
    {
     "name": "stdout",
     "output_type": "stream",
     "text": [
      "Score:0.4596456289291382\t Topic:0.064*\"pag\" + 0.046*\"dej\" + 0.044*\"factur\" + 0.038*\"pued\" + 0.036*\"app\"\n",
      "Score:0.16236244142055511\t Topic:0.048*\"consult\" + 0.044*\"registr\" + 0.038*\"necesit\" + 0.037*\"numer\" + 0.035*\"activ\"\n",
      "Score:0.147501602768898\t Topic:0.100*\"servici\" + 0.078*\"mal\" + 0.060*\"internet\" + 0.056*\"lent\" + 0.048*\"señal\"\n",
      "Score:0.1186661571264267\t Topic:0.059*\"funcion\" + 0.047*\"llam\" + 0.032*\"solucion\" + 0.023*\"sal\" + 0.022*\"telefon\"\n",
      "Score:0.1118241548538208\t Topic:0.047*\"inform\" + 0.027*\"consum\" + 0.026*\"respuest\" + 0.026*\"registr_equip\" + 0.021*\"product\"\n"
     ]
    }
   ],
   "source": [
    "for index,score in sorted(lda[diccionario.doc2bow(dfc2.loc[2,'Opinion'])], key=lambda tup: -1*tup[1]):\n",
    "    print(\"Score:{}\\t Topic:{}\".format(score,lda.print_topic(index,5)))"
   ]
  },
  {
   "cell_type": "code",
   "execution_count": 34,
   "metadata": {},
   "outputs": [
    {
     "data": {
      "text/plain": [
       "[0.16236244, 0.1475016, 0.45964563, 0.111824155, 0.11866616]"
      ]
     },
     "execution_count": 34,
     "metadata": {},
     "output_type": "execute_result"
    }
   ],
   "source": [
    "bow_comentario = diccionario.doc2bow(dfc2.loc[2,'Opinion'])\n",
    "distribucion_noticia = lda[bow_comentario]\n",
    "dist_contrib = [topico[1] for topico in lda[bow_comentario]]\n",
    "dist_contrib"
   ]
  },
  {
   "cell_type": "markdown",
   "metadata": {},
   "source": [
    "####  fin validacion"
   ]
  },
  {
   "cell_type": "markdown",
   "metadata": {},
   "source": [
    "###  zoom al topico_4  número 3"
   ]
  },
  {
   "cell_type": "code",
   "execution_count": 35,
   "metadata": {},
   "outputs": [],
   "source": [
    "numeroTopicos=4\n",
    "topicoZoom=4"
   ]
  },
  {
   "cell_type": "code",
   "execution_count": 36,
   "metadata": {},
   "outputs": [],
   "source": [
    "## Quitar pag pactur\n",
    "dfc2Zoom=dfc2.copy()\n",
    "dfc2Zoom['contienePagFact']=dfc2Zoom['Opinion'].apply(lambda x: 1 if 'pag' in x else 0)\n",
    "dfc2Zoom=dfc2Zoom[dfc2Zoom['contienePagFact']==0]\n",
    "dfc2Zoom=dfc2Zoom[dfc2Zoom['Tópico']==topicoZoom]"
   ]
  },
  {
   "cell_type": "code",
   "execution_count": 37,
   "metadata": {},
   "outputs": [],
   "source": [
    "# Repite el proceso de topicos"
   ]
  },
  {
   "cell_type": "code",
   "execution_count": 38,
   "metadata": {},
   "outputs": [],
   "source": [
    "Lista_generalZoom=[]\n",
    "for column in Qs:   \n",
    "    if column in ('Q4','Q10','Q12','Q15','Q18','Q20') :\n",
    "        listAux = dfc2Zoom[\"Tokens_\"+column+\"_T\"].tolist()\n",
    "        listAux = [x for x in listAux if x!= []]\n",
    "        Lista_generalZoom = Lista_generalZoom+listAux"
   ]
  },
  {
   "cell_type": "code",
   "execution_count": 39,
   "metadata": {},
   "outputs": [],
   "source": [
    "bigramZoom = gensim.models.Phrases(Lista_generalZoom, min_count=5, threshold=10) \n",
    "trigramZoom = gensim.models.Phrases(bigramZoom[Lista_generalZoom], threshold=10)\n",
    "bigram_modZoom = gensim.models.phrases.Phraser(bigramZoom)\n",
    "trigram_modZoom = gensim.models.phrases.Phraser(trigramZoom)\n",
    "data_words_bigramsZoom = make_bigrams(Lista_generalZoom,bigram_modZoom)\n",
    "diccionarioZoom = Dictionary(data_words_bigramsZoom)\n",
    "diccionarioZoom.filter_extremes(no_below=2, no_above = 0.9)\n",
    "corpusZoom = [diccionarioZoom.doc2bow(noticia) for noticia in data_words_bigramsZoom]"
   ]
  },
  {
   "cell_type": "code",
   "execution_count": 40,
   "metadata": {},
   "outputs": [],
   "source": [
    "ldaZoom = LdaModel(corpus=corpusZoom, id2word=diccionarioZoom, \n",
    "               num_topics=numeroTopicos, random_state=35, \n",
    "               chunksize=1000, iterations=200, passes=40, alpha='auto')"
   ]
  },
  {
   "cell_type": "code",
   "execution_count": 41,
   "metadata": {
    "scrolled": false
   },
   "outputs": [
    {
     "data": {
      "text/html": [
       "\n",
       "<link rel=\"stylesheet\" type=\"text/css\" href=\"https://cdn.jsdelivr.net/gh/bmabey/pyLDAvis@3.3.1/pyLDAvis/js/ldavis.v1.0.0.css\">\n",
       "\n",
       "\n",
       "<div id=\"ldavis_el175242143717288080365797811\"></div>\n",
       "<script type=\"text/javascript\">\n",
       "\n",
       "var ldavis_el175242143717288080365797811_data = {\"mdsDat\": {\"x\": [0.05787875850481306, 0.17356166040674867, -0.13793378779504706, -0.09350663111651478], \"y\": [-0.035253577727471695, 0.0022289719995085703, -0.10672726347010036, 0.1397518691980635], \"topics\": [1, 2, 3, 4], \"cluster\": [1, 1, 1, 1], \"Freq\": [39.18266255028916, 27.10735589635825, 17.110625671029364, 16.59935588232323]}, \"tinfo\": {\"Term\": [\"inform\", \"consum\", \"transferent\", \"pqr\", \"encuentr\", \"ayud\", \"servici\", \"solicit\", \"dan\", \"clar\", \"quej\", \"coloc\", \"nadi\", \"resuelv\", \"com\", \"dto\", \"cupon\", \"radic\", \"netflyx\", \"suspend\", \"detall\", \"bol\", \"envi\", \"sol\", \"ofrec\", \"adquir\", \"consult\", \"client\", \"product\", \"llam\", \"clar\", \"encontr\", \"benefici\", \"dar\", \"requer\", \"busc\", \"client\", \"baj\", \"ser\", \"pesim\", \"demasi\", \"tard\", \"financi\", \"brind\", \"se\\u00f1al\", \"quit\", \"opcion\", \"solucion\", \"atiend\", \"muestr\", \"ofrec\", \"product\", \"mentir\", \"demor\", \"averigu\", \"encuentr\", \"servici\", \"ayud\", \"sol\", \"app\", \"inform\", \"dan\", \"solicit\", \"adquir\", \"consult\", \"obten\", \"tod\", \"escrib\", \"clarid\", \"necesit\", \"inform\", \"dan\", \"pued\", \"hbo\", \"respuest\", \"algun\", \"nuev\", \"cierr\", \"verific\", \"acerc\", \"product\", \"averigu\", \"descarg\", \"app\", \"muestr\", \"busc\", \"envi\", \"cupon\", \"dto\", \"com\", \"nadi\", \"resuelv\", \"ofrec\", \"consum\", \"client\", \"clar\", \"pqr\", \"radic\", \"netflyx\", \"suspend\", \"bol\", \"detall\", \"envi\", \"consum\", \"ayud\", \"servici\", \"llam\", \"activ\", \"mal\", \"internet\", \"acerc\", \"verific\", \"cierr\", \"nuev\", \"demor\", \"descarg\", \"solucion\", \"opcion\", \"quit\", \"client\", \"necesit\", \"resuelv\", \"nadi\", \"coloc\", \"quej\", \"cupon\", \"dto\", \"inform\", \"dan\", \"transferent\", \"product\", \"transferent\", \"quej\", \"coloc\", \"nadi\", \"resuelv\", \"com\", \"dto\", \"cupon\", \"sol\", \"encuentr\", \"ofrec\", \"mal\", \"internet\", \"activ\", \"llam\", \"algun\", \"respuest\", \"mentir\", \"descarg\", \"app\", \"atiend\", \"se\\u00f1al\", \"consum\", \"muestr\", \"product\", \"bol\", \"suspend\", \"netflyx\", \"radic\", \"detall\", \"ayud\", \"inform\", \"busc\", \"escrib\"], \"Freq\": [19.0, 4.0, 2.0, 2.0, 4.0, 4.0, 4.0, 3.0, 6.0, 5.0, 2.0, 2.0, 2.0, 2.0, 2.0, 2.0, 2.0, 2.0, 2.0, 2.0, 2.0, 2.0, 2.0, 2.0, 3.0, 3.0, 3.0, 5.0, 10.0, 2.0, 5.223826013485713, 3.5538145054588717, 3.55380812671002, 2.7176212969881797, 2.717620961264556, 5.226495687741925, 4.387334682437114, 1.8814259063139331, 1.8814255705903093, 1.8814250670048738, 1.8814250670048738, 1.8814250670048738, 1.8814235562485668, 1.881423220524943, 2.717732757231271, 2.717729735718657, 2.717705563617746, 2.717671487669933, 1.8814992619257267, 2.7178032591922627, 1.8707211907082417, 4.8302464661851685, 1.04525175015889, 1.0452609825585437, 1.0452195206910082, 1.8815439131676879, 1.8815157123832913, 1.8814838186390332, 1.0452427695519542, 1.0452434409992017, 5.2252575390174645, 1.880975365210835, 3.3240667690493573, 2.541929736447163, 2.5368794669336863, 1.7597956070996095, 1.7597939812770103, 1.7597896844601413, 1.7513698976100769, 1.7374614497957135, 13.491307258473137, 4.105288463528272, 1.7598645884298845, 1.7598334655401306, 0.9776964329379362, 0.977673671421549, 0.9776968974586787, 0.9776959684171935, 0.9776952716360796, 0.977684587659, 4.4767447979468855, 0.9776691423443088, 0.9778501893037346, 0.9776711165574647, 0.9775916835104813, 0.9773890363365249, 0.20055410155538542, 0.19554626310849005, 0.19554620504339723, 0.19554592923420633, 0.19553685656345254, 0.19553569526159606, 0.2055730304350102, 0.20490195764096786, 0.19823056880093268, 0.19776005283750508, 2.2733053468907474, 1.5738242073605222, 1.573823327720261, 1.573823327720261, 1.5738179032719817, 1.5738173168451406, 1.5693321777585392, 2.964380644082222, 2.273249489734143, 2.2732302842551007, 0.8743448271108202, 0.8743431411336524, 0.8743410153363538, 0.8743410153363538, 0.8743206370036294, 0.8743106677473326, 0.8743101546238466, 0.8743097148037159, 0.8743166786224527, 0.8743090550735199, 0.8743006984910358, 0.8742734296429296, 0.8742456476713377, 0.8741713180692423, 0.19483839370584657, 0.17487653399358058, 0.1748704498151053, 0.17487026655671747, 0.1748702482308787, 0.17487030320839506, 0.17487028488255627, 0.17613099263565202, 0.1760642865824894, 0.17487068805100944, 0.17487066972517068, 2.245839594762812, 1.5548146309745208, 1.5548142042963258, 1.5548083730276627, 1.5548051018281686, 1.5548041062457139, 1.5548033951153892, 1.5548033951153892, 1.5548033951153892, 2.245738756482758, 1.5547878924743088, 0.8637831247872413, 0.8637831247872413, 0.8637817025265917, 0.8637809913962669, 0.8637705377804926, 0.8637495594359115, 0.8637637109293747, 0.8636480100255326, 0.8637615775384003, 0.8637210431098877, 0.8636876910976554, 0.8637826981090464, 0.8636921712187016, 0.863625040516042, 0.17276425894148478, 0.17275801877288482, 0.1727580009946267, 0.1727580009946267, 0.1727580009946267, 0.17276450783709846, 0.17275924547269508, 0.172758196555466, 0.17275816099894978], \"Total\": [19.0, 4.0, 2.0, 2.0, 4.0, 4.0, 4.0, 3.0, 6.0, 5.0, 2.0, 2.0, 2.0, 2.0, 2.0, 2.0, 2.0, 2.0, 2.0, 2.0, 2.0, 2.0, 2.0, 2.0, 3.0, 3.0, 3.0, 5.0, 10.0, 2.0, 5.769214443282014, 4.096978229463115, 4.096978444563048, 3.2607839477333145, 3.2607838723818556, 6.551513388774859, 5.632494676971464, 2.4245884226030436, 2.424588373022146, 2.4245879313113687, 2.424588047441554, 2.424588094252359, 2.4245874419242313, 2.4245872782290623, 3.9518276966423915, 3.960276460436976, 3.9602720475388926, 3.9602659615225275, 3.1156261988041165, 4.733957563736551, 3.8059524718034723, 10.345486974373268, 2.2794210019346552, 2.2878710896203316, 2.3705169133559836, 4.497698340489947, 4.52303945916591, 4.523033816313608, 2.970451516802182, 3.0615464383034623, 19.065455035598948, 6.335086258542288, 3.8807449795114692, 3.0986085655693287, 3.098953786451874, 2.316473274279341, 2.316472567124702, 2.3164705445289613, 2.3170478351972377, 2.3141077654882674, 19.065455035598948, 6.335086258542288, 3.1526488781756967, 3.1526514176347717, 2.225366257992196, 2.2253640185141825, 2.2338147650590936, 2.23381450664773, 2.2338143229901024, 2.2338134969467505, 10.345486974373268, 2.3705169133559836, 2.9248580114994587, 3.0615464383034623, 4.733957563736551, 6.551513388774859, 2.15169366215868, 2.1342694385826304, 2.1342693412089724, 2.1342696113251822, 2.1342670450019607, 2.13426771049094, 3.8059524718034723, 4.242142033544297, 5.632494676971464, 5.769214443282014, 2.850647404127656, 2.1511665227236154, 2.1511662561995353, 2.1511662739777937, 2.1511662910371143, 2.151167469981766, 2.15169366215868, 4.242142033544297, 4.523033816313608, 4.52303945916591, 2.1427106169286425, 2.14271036169498, 2.142710151844607, 2.1427102228426063, 2.2338134969467505, 2.2338143229901024, 2.23381450664773, 2.2338147650590936, 2.2878710896203316, 2.9248580114994587, 3.9602659615225275, 3.9602720475388926, 3.960276460436976, 5.632494676971464, 2.3141077654882674, 2.13426771049094, 2.1342670450019607, 2.1342683350840534, 2.13426836588032, 2.1342694385826304, 2.1342693412089724, 19.065455035598948, 6.335086258542288, 2.825298808364371, 10.345486974373268, 2.825298808364371, 2.13426836588032, 2.1342683350840534, 2.1342670450019607, 2.13426771049094, 2.1342696113251822, 2.1342693412089724, 2.1342694385826304, 2.970451516802182, 4.497698340489947, 3.8059524718034723, 2.142710151844607, 2.1427102228426063, 2.14271036169498, 2.1427106169286425, 2.2253640185141825, 2.225366257992196, 2.2794210019346552, 2.9248580114994587, 3.0615464383034623, 3.1156261988041165, 3.9518276966423915, 4.242142033544297, 4.733957563736551, 10.345486974373268, 2.1511662910371143, 2.1511662739777937, 2.1511662561995353, 2.1511665227236154, 2.151167469981766, 4.523033816313608, 19.065455035598948, 6.551513388774859, 2.3164705445289613], \"Category\": [\"Default\", \"Default\", \"Default\", \"Default\", \"Default\", \"Default\", \"Default\", \"Default\", \"Default\", \"Default\", \"Default\", \"Default\", \"Default\", \"Default\", \"Default\", \"Default\", \"Default\", \"Default\", \"Default\", \"Default\", \"Default\", \"Default\", \"Default\", \"Default\", \"Default\", \"Default\", \"Default\", \"Default\", \"Default\", \"Default\", \"Topic1\", \"Topic1\", \"Topic1\", \"Topic1\", \"Topic1\", \"Topic1\", \"Topic1\", \"Topic1\", \"Topic1\", \"Topic1\", \"Topic1\", \"Topic1\", \"Topic1\", \"Topic1\", \"Topic1\", \"Topic1\", \"Topic1\", \"Topic1\", \"Topic1\", \"Topic1\", \"Topic1\", \"Topic1\", \"Topic1\", \"Topic1\", \"Topic1\", \"Topic1\", \"Topic1\", \"Topic1\", \"Topic1\", \"Topic1\", \"Topic1\", \"Topic1\", \"Topic2\", \"Topic2\", \"Topic2\", \"Topic2\", \"Topic2\", \"Topic2\", \"Topic2\", \"Topic2\", \"Topic2\", \"Topic2\", \"Topic2\", \"Topic2\", \"Topic2\", \"Topic2\", \"Topic2\", \"Topic2\", \"Topic2\", \"Topic2\", \"Topic2\", \"Topic2\", \"Topic2\", \"Topic2\", \"Topic2\", \"Topic2\", \"Topic2\", \"Topic2\", \"Topic2\", \"Topic2\", \"Topic2\", \"Topic2\", \"Topic2\", \"Topic2\", \"Topic2\", \"Topic2\", \"Topic3\", \"Topic3\", \"Topic3\", \"Topic3\", \"Topic3\", \"Topic3\", \"Topic3\", \"Topic3\", \"Topic3\", \"Topic3\", \"Topic3\", \"Topic3\", \"Topic3\", \"Topic3\", \"Topic3\", \"Topic3\", \"Topic3\", \"Topic3\", \"Topic3\", \"Topic3\", \"Topic3\", \"Topic3\", \"Topic3\", \"Topic3\", \"Topic3\", \"Topic3\", \"Topic3\", \"Topic3\", \"Topic3\", \"Topic3\", \"Topic3\", \"Topic3\", \"Topic3\", \"Topic3\", \"Topic3\", \"Topic4\", \"Topic4\", \"Topic4\", \"Topic4\", \"Topic4\", \"Topic4\", \"Topic4\", \"Topic4\", \"Topic4\", \"Topic4\", \"Topic4\", \"Topic4\", \"Topic4\", \"Topic4\", \"Topic4\", \"Topic4\", \"Topic4\", \"Topic4\", \"Topic4\", \"Topic4\", \"Topic4\", \"Topic4\", \"Topic4\", \"Topic4\", \"Topic4\", \"Topic4\", \"Topic4\", \"Topic4\", \"Topic4\", \"Topic4\", \"Topic4\", \"Topic4\", \"Topic4\", \"Topic4\"], \"logprob\": [30.0, 29.0, 28.0, 27.0, 26.0, 25.0, 24.0, 23.0, 22.0, 21.0, 20.0, 19.0, 18.0, 17.0, 16.0, 15.0, 14.0, 13.0, 12.0, 11.0, 10.0, 9.0, 8.0, 7.0, 6.0, 5.0, 4.0, 3.0, 2.0, 1.0, -2.8479, -3.2331, -3.2331, -3.5014, -3.5014, -2.8474, -3.0224, -3.8691, -3.8691, -3.8691, -3.8691, -3.8691, -3.8691, -3.8691, -3.5013, -3.5013, -3.5014, -3.5014, -3.8691, -3.5013, -3.8748, -2.9262, -4.4569, -4.4569, -4.4569, -3.8691, -3.8691, -3.8691, -4.4569, -4.4569, -2.8476, -3.8694, -2.9315, -3.1998, -3.2018, -3.5675, -3.5675, -3.5675, -3.5723, -3.5803, -1.5307, -2.7204, -3.5675, -3.5675, -4.1553, -4.1553, -4.1553, -4.1553, -4.1553, -4.1553, -2.6338, -4.1553, -4.1551, -4.1553, -4.1554, -4.1556, -5.7394, -5.7647, -5.7647, -5.7647, -5.7647, -5.7647, -5.7147, -5.7179, -5.751, -5.7534, -2.8514, -3.2191, -3.2191, -3.2191, -3.2191, -3.2191, -3.222, -2.5859, -2.8514, -2.8514, -3.8069, -3.8069, -3.8069, -3.8069, -3.8069, -3.8069, -3.8069, -3.8069, -3.8069, -3.8069, -3.8069, -3.807, -3.807, -3.8071, -5.3082, -5.4163, -5.4163, -5.4163, -5.4163, -5.4163, -5.4163, -5.4091, -5.4095, -5.4163, -5.4163, -2.8332, -3.2009, -3.2009, -3.2009, -3.2009, -3.2009, -3.2009, -3.2009, -3.2009, -2.8332, -3.2009, -3.7887, -3.7887, -3.7887, -3.7887, -3.7887, -3.7887, -3.7887, -3.7889, -3.7887, -3.7888, -3.7888, -3.7887, -3.7888, -3.7889, -5.3981, -5.3981, -5.3981, -5.3981, -5.3981, -5.3981, -5.3981, -5.3981, -5.3981], \"loglift\": [30.0, 29.0, 28.0, 27.0, 26.0, 25.0, 24.0, 23.0, 22.0, 21.0, 20.0, 19.0, 18.0, 17.0, 16.0, 15.0, 14.0, 13.0, 12.0, 11.0, 10.0, 9.0, 8.0, 7.0, 6.0, 5.0, 4.0, 3.0, 2.0, 1.0, 0.8376, 0.7947, 0.7947, 0.7547, 0.7547, 0.711, 0.6871, 0.6833, 0.6833, 0.6833, 0.6833, 0.6833, 0.6833, 0.6833, 0.5626, 0.5604, 0.5604, 0.5604, 0.4326, 0.382, 0.2267, 0.1753, 0.1573, 0.1536, 0.1181, 0.0655, 0.0598, 0.0598, -0.1075, -0.1377, -0.3574, -0.2774, 1.1505, 1.1073, 1.1052, 1.0305, 1.0305, 1.0305, 1.0255, 1.0188, 0.9595, 0.8715, 0.7224, 0.7223, 0.4829, 0.4829, 0.4791, 0.4791, 0.4791, 0.4791, 0.4677, 0.4197, 0.2097, 0.1639, -0.2721, -0.5972, -1.0676, -1.0847, -1.0847, -1.0847, -1.0848, -1.0848, -1.6132, -1.7249, -2.0415, -2.0679, 1.5392, 1.453, 1.453, 1.453, 1.453, 1.453, 1.4499, 1.4071, 1.0775, 1.0775, 0.8691, 0.8691, 0.8691, 0.8691, 0.8275, 0.8274, 0.8274, 0.8274, 0.8035, 0.5579, 0.2548, 0.2548, 0.2548, -0.0976, -0.7091, -0.7363, -0.7364, -0.7364, -0.7364, -0.7364, -0.7364, -2.9189, -1.8175, -1.0169, -2.3148, 1.5663, 1.479, 1.479, 1.479, 1.479, 1.479, 1.479, 1.479, 1.1484, 1.1013, 0.9006, 0.8873, 0.8873, 0.8873, 0.8873, 0.8494, 0.8494, 0.8254, 0.576, 0.5304, 0.5129, 0.2751, 0.2043, 0.0945, -0.6874, -0.726, -0.7261, -0.7261, -0.7261, -0.7261, -1.4692, -2.9079, -1.8398, -0.8001]}, \"token.table\": {\"Topic\": [2, 3, 3, 4, 2, 2, 4, 1, 2, 4, 1, 4, 1, 2, 1, 3, 1, 1, 3, 1, 1, 2, 2, 3, 1, 2, 1, 3, 4, 4, 2, 3, 4, 4, 1, 2, 1, 1, 1, 3, 2, 3, 4, 3, 4, 1, 1, 4, 3, 2, 1, 1, 2, 1, 2, 3, 4, 3, 4, 3, 4, 1, 4, 1, 2, 4, 4, 2, 3, 2, 3, 2, 1, 4, 1, 3, 1, 3, 1, 2, 4, 1, 2, 4, 1, 3, 3, 1, 2, 4, 4, 1, 1, 3, 1, 4, 1, 4, 2, 1, 3, 3, 1, 2, 4, 2, 3], \"Freq\": [0.44766494667832957, 0.44766494667832957, 0.466698634531713, 0.466698634531713, 0.9681765013286825, 0.4493646844652741, 0.4493646844652741, 0.32663231479648697, 0.32663231479648697, 0.32663231479648697, 0.641925530337262, 0.320962765168631, 0.42184892010927777, 0.42184892010927777, 0.4421810849139423, 0.4421810849139423, 0.8248822692359454, 0.9763292763495633, 0.9297282168900878, 0.824882658569757, 0.76318244400856, 0.152636488801712, 0.4476647443304024, 0.4476647443304024, 0.8666691191939089, 0.8631673328529926, 0.7101648966228158, 0.17754122415570395, 0.9370892905653471, 0.9370887302088262, 0.9680686472691254, 0.7071898998849665, 0.23572996662832219, 0.9370888060544976, 0.31570209439582325, 0.6314041887916465, 0.9200241561804196, 0.8248823968716735, 0.43708756342821237, 0.43708756342821237, 0.34189693860979586, 0.34189693860979586, 0.34189693860979586, 0.9297277073536969, 0.937088848808129, 0.9763293276088939, 0.4446718851718576, 0.4446718851718576, 0.9295003443908024, 0.8633824439182267, 0.8248826028780942, 0.31719332952776447, 0.6343866590555289, 0.2622544277419038, 0.6818615121289499, 0.46669866477481936, 0.46669866477481936, 0.4666985789398842, 0.4666985789398842, 0.46669868023872685, 0.46669868023872685, 0.43870789957241396, 0.43870789957241396, 0.6337192422215284, 0.21123974740717616, 0.21123974740717616, 0.9370898569996721, 0.8642639853801312, 0.9297282319467949, 0.447664692543809, 0.447664692543809, 0.8633814265015441, 0.5254926368148493, 0.5254926368148493, 0.7575237165498131, 0.25250790551660435, 0.8248824363809627, 0.7015950121028848, 0.4833025272165017, 0.38664202177320134, 0.09666050544330033, 0.31719358502703204, 0.6343871700540641, 0.9370892770436869, 0.7575228724483999, 0.25250762414946665, 0.9297281167558233, 0.9200241774406948, 0.44936423225102523, 0.44936423225102523, 0.937089564804382, 0.8248822861041296, 0.44218053325778817, 0.44218053325778817, 0.7591424096118621, 0.2530474698706207, 0.3366491573229051, 0.6732983146458102, 0.7730474472913336, 0.7575248806892372, 0.2525082935630791, 0.9297282242630798, 0.824882380945913, 0.8633816900678775, 0.7078897262402645, 0.4476647811360778, 0.4476647811360778], \"Term\": [\"acerc\", \"acerc\", \"activ\", \"activ\", \"adquir\", \"algun\", \"algun\", \"app\", \"app\", \"app\", \"atiend\", \"atiend\", \"averigu\", \"averigu\", \"ayud\", \"ayud\", \"baj\", \"benefici\", \"bol\", \"brind\", \"busc\", \"busc\", \"cierr\", \"cierr\", \"clar\", \"clarid\", \"client\", \"client\", \"coloc\", \"com\", \"consult\", \"consum\", \"consum\", \"cupon\", \"dan\", \"dan\", \"dar\", \"demasi\", \"demor\", \"demor\", \"descarg\", \"descarg\", \"descarg\", \"detall\", \"dto\", \"encontr\", \"encuentr\", \"encuentr\", \"envi\", \"escrib\", \"financi\", \"hbo\", \"hbo\", \"inform\", \"inform\", \"internet\", \"internet\", \"llam\", \"llam\", \"mal\", \"mal\", \"mentir\", \"mentir\", \"muestr\", \"muestr\", \"muestr\", \"nadi\", \"necesit\", \"netflyx\", \"nuev\", \"nuev\", \"obten\", \"ofrec\", \"ofrec\", \"opcion\", \"opcion\", \"pesim\", \"pqr\", \"product\", \"product\", \"product\", \"pued\", \"pued\", \"quej\", \"quit\", \"quit\", \"radic\", \"requer\", \"respuest\", \"respuest\", \"resuelv\", \"ser\", \"servici\", \"servici\", \"se\\u00f1al\", \"se\\u00f1al\", \"sol\", \"sol\", \"solicit\", \"solucion\", \"solucion\", \"suspend\", \"tard\", \"tod\", \"transferent\", \"verific\", \"verific\"]}, \"R\": 30, \"lambda.step\": 0.01, \"plot.opts\": {\"xlab\": \"PC1\", \"ylab\": \"PC2\"}, \"topic.order\": [1, 2, 3, 4]};\n",
       "\n",
       "function LDAvis_load_lib(url, callback){\n",
       "  var s = document.createElement('script');\n",
       "  s.src = url;\n",
       "  s.async = true;\n",
       "  s.onreadystatechange = s.onload = callback;\n",
       "  s.onerror = function(){console.warn(\"failed to load library \" + url);};\n",
       "  document.getElementsByTagName(\"head\")[0].appendChild(s);\n",
       "}\n",
       "\n",
       "if(typeof(LDAvis) !== \"undefined\"){\n",
       "   // already loaded: just create the visualization\n",
       "   !function(LDAvis){\n",
       "       new LDAvis(\"#\" + \"ldavis_el175242143717288080365797811\", ldavis_el175242143717288080365797811_data);\n",
       "   }(LDAvis);\n",
       "}else if(typeof define === \"function\" && define.amd){\n",
       "   // require.js is available: use it to load d3/LDAvis\n",
       "   require.config({paths: {d3: \"https://d3js.org/d3.v5\"}});\n",
       "   require([\"d3\"], function(d3){\n",
       "      window.d3 = d3;\n",
       "      LDAvis_load_lib(\"https://cdn.jsdelivr.net/gh/bmabey/pyLDAvis@3.3.1/pyLDAvis/js/ldavis.v3.0.0.js\", function(){\n",
       "        new LDAvis(\"#\" + \"ldavis_el175242143717288080365797811\", ldavis_el175242143717288080365797811_data);\n",
       "      });\n",
       "    });\n",
       "}else{\n",
       "    // require.js not available: dynamically load d3 & LDAvis\n",
       "    LDAvis_load_lib(\"https://d3js.org/d3.v5.js\", function(){\n",
       "         LDAvis_load_lib(\"https://cdn.jsdelivr.net/gh/bmabey/pyLDAvis@3.3.1/pyLDAvis/js/ldavis.v3.0.0.js\", function(){\n",
       "                 new LDAvis(\"#\" + \"ldavis_el175242143717288080365797811\", ldavis_el175242143717288080365797811_data);\n",
       "            })\n",
       "         });\n",
       "}\n",
       "</script>"
      ],
      "text/plain": [
       "<IPython.core.display.HTML object>"
      ]
     },
     "execution_count": 41,
     "metadata": {},
     "output_type": "execute_result"
    }
   ],
   "source": [
    "lda_display = pyLDAvis.gensim_models.prepare(ldaZoom, corpusZoom, diccionarioZoom, sort_topics=False)\n",
    "pyLDAvis.display(lda_display)"
   ]
  },
  {
   "cell_type": "code",
   "execution_count": 42,
   "metadata": {},
   "outputs": [],
   "source": [
    "dfc2Zoom['TópicoZoom'] = \"\"\n",
    "sumaTopicos = [0]*(numeroTopicos+1)\n",
    "for i in dfc2Zoom.index:\n",
    "    bow_comentario = diccionarioZoom.doc2bow(dfc2Zoom.loc[i,'Opinion'])\n",
    "    distribucion_noticia = ldaZoom[bow_comentario]\n",
    "    dist_contrib = [topico[1] for topico in ldaZoom[bow_comentario]]\n",
    "    dfc2Zoom.loc[i,'TópicoZoom']=dist_contrib.index(max(dist_contrib))+1\n",
    "    \n",
    "    # sumar pertenencias a los tópicos\n",
    "    for idx, val in enumerate(dist_contrib):\n",
    "        sumaTopicos[idx+1]=sumaTopicos[idx+1]+dist_contrib[idx] "
   ]
  },
  {
   "cell_type": "code",
   "execution_count": 43,
   "metadata": {
    "scrolled": true
   },
   "outputs": [
    {
     "data": {
      "text/plain": [
       "1    11\n",
       "2    10\n",
       "3     6\n",
       "4     3\n",
       "Name: TópicoZoom, dtype: int64"
      ]
     },
     "execution_count": 43,
     "metadata": {},
     "output_type": "execute_result"
    }
   ],
   "source": [
    "dfc2Zoom.TópicoZoom.value_counts()"
   ]
  },
  {
   "cell_type": "code",
   "execution_count": 44,
   "metadata": {},
   "outputs": [
    {
     "data": {
      "image/png": "[encoded data removed]",
      "text/plain": [
       "<Figure size 432x288 with 1 Axes>"
      ]
     },
     "metadata": {},
     "output_type": "display_data"
    }
   ],
   "source": [
    "A = dfc2Zoom.TópicoZoom.value_counts()\n",
    "indices = A.index\n",
    "plt.pie(A, labels=indices, autopct=\"%0.1f %%\")\n",
    "plt.axis(\"equal\")\n",
    "plt.show()"
   ]
  },
  {
   "cell_type": "code",
   "execution_count": 45,
   "metadata": {
    "scrolled": false
   },
   "outputs": [
    {
     "name": "stdout",
     "output_type": "stream",
     "text": [
      "1  busc inform clar product client encontr benefici muestr señal quit opcion solucion dar requer encuentr \n",
      "2  inform product dan solicit adquir consult pued hbo obten tod escrib clarid necesit descarg nuev \n",
      "3  consum pqr ayud servici radic netflyx suspend bol detall envi llam activ internet mal acerc \n",
      "4  transferent encuentr quej coloc nadi resuelv com sol dto cupon ofrec mal internet consum activ \n"
     ]
    }
   ],
   "source": [
    "impresionTopicosLimp(ldaZoom,15,20)"
   ]
  },
  {
   "cell_type": "code",
   "execution_count": 46,
   "metadata": {},
   "outputs": [],
   "source": [
    "#Guardar tabla de palabras"
   ]
  },
  {
   "cell_type": "markdown",
   "metadata": {},
   "source": [
    "### Modelado de Topicos por Acción"
   ]
  },
  {
   "cell_type": "code",
   "execution_count": 47,
   "metadata": {},
   "outputs": [
    {
     "data": {
      "text/plain": [
       "2745"
      ]
     },
     "execution_count": 47,
     "metadata": {},
     "output_type": "execute_result"
    }
   ],
   "source": [
    "len(dfc2)"
   ]
  },
  {
   "cell_type": "code",
   "execution_count": 48,
   "metadata": {},
   "outputs": [
    {
     "data": {
      "text/plain": [
       "7951"
      ]
     },
     "execution_count": 48,
     "metadata": {},
     "output_type": "execute_result"
    }
   ],
   "source": [
    "len(dfc)"
   ]
  },
  {
   "cell_type": "code",
   "execution_count": 49,
   "metadata": {},
   "outputs": [
    {
     "data": {
      "text/plain": [
       "14609"
      ]
     },
     "execution_count": 49,
     "metadata": {},
     "output_type": "execute_result"
    }
   ],
   "source": [
    "#dfc = dfSent[dfSent['Q2_NPS_GROUP']!='Promotor']\n",
    "len(dfSent)"
   ]
  },
  {
   "cell_type": "code",
   "execution_count": 50,
   "metadata": {
    "scrolled": true
   },
   "outputs": [
    {
     "data": {
      "text/plain": [
       "7951"
      ]
     },
     "execution_count": 50,
     "metadata": {},
     "output_type": "execute_result"
    }
   ],
   "source": [
    "len(dfSent[dfSent['Q2_NPS_GROUP']!='Promotor'])"
   ]
  },
  {
   "cell_type": "code",
   "execution_count": 51,
   "metadata": {},
   "outputs": [
    {
     "data": {
      "text/plain": [
       "7951"
      ]
     },
     "execution_count": 51,
     "metadata": {},
     "output_type": "execute_result"
    }
   ],
   "source": [
    "len(dfSent[dfSent['Q2_NPS_GROUP']!='Promotor'].fillna(''))"
   ]
  },
  {
   "cell_type": "code",
   "execution_count": 52,
   "metadata": {},
   "outputs": [],
   "source": [
    "numeroTopicos=4\n",
    "topicoZoom=4"
   ]
  },
  {
   "cell_type": "code",
   "execution_count": 53,
   "metadata": {},
   "outputs": [],
   "source": [
    "ZoomAccion=dfc2.copy()"
   ]
  },
  {
   "cell_type": "code",
   "execution_count": 54,
   "metadata": {},
   "outputs": [
    {
     "data": {
      "text/plain": [
       "Index(['StartDate', 'EndDate', 'Status', 'IPAddress', 'Progress',\n",
       "       'Duration (in seconds)', 'Finished', 'RecordedDate', 'ResponseId',\n",
       "       'RecipientLastName', 'RecipientFirstName', 'RecipientEmail',\n",
       "       'ExternalReference', 'LocationLatitude', 'LocationLongitude',\n",
       "       'DistributionChannel', 'UserLanguage', 'Q19', 'Q2_NPS_GROUP', 'Q2',\n",
       "       'Q3', 'Q4', 'Q9', 'Q10', 'Q11', 'Q12', 'Q15', 'Q26_1', 'Q22_1', 'Q18',\n",
       "       'Q24_1', 'Q20', 'Nombre del cliente App', 'ID cuenta o Telefono App',\n",
       "       'email App', 'Segmento App', 'Modulo App', 'Accion',\n",
       "       'Q_DataPolicyViolations', 'Q15 - Parent Topics',\n",
       "       'Q15 - Sentiment Polarity', 'Q15 - Sentiment Score', 'Q15 - Sentiment',\n",
       "       'Q15 - Topic Sentiment Label', 'Q15 - Topic Sentiment Score',\n",
       "       'Q15 - Topics', 'Q20 - Parent Topics', 'Q20 - Sentiment Polarity',\n",
       "       'Q20 - Sentiment Score', 'Q20 - Sentiment',\n",
       "       'Q20 - Topic Sentiment Label', 'Q20 - Topic Sentiment Score',\n",
       "       'Q20 - Topics', 'Tokens_Q4', 'Sent_Q4', 'Tokens_Q10', 'Sent_Q10',\n",
       "       'Tokens_Q12', 'Sent_Q12', 'Tokens_Q15', 'Sent_Q15', 'Tokens_Q18',\n",
       "       'Sent_Q18', 'Tokens_Q20', 'Sent_Q20', 'Tokens_Q4_T', 'Tokens_Q10_T',\n",
       "       'Tokens_Q12_T', 'Tokens_Q15_T', 'Tokens_Q18_T', 'Tokens_Q20_T',\n",
       "       'Opinion', 'Tópico'],\n",
       "      dtype='object')"
      ]
     },
     "execution_count": 54,
     "metadata": {},
     "output_type": "execute_result"
    }
   ],
   "source": [
    "ZoomAccion.columns"
   ]
  },
  {
   "cell_type": "code",
   "execution_count": 55,
   "metadata": {},
   "outputs": [],
   "source": [
    "acciones=ZoomAccion.Accion.unique()"
   ]
  },
  {
   "cell_type": "code",
   "execution_count": 56,
   "metadata": {
    "scrolled": false
   },
   "outputs": [
    {
     "name": "stdout",
     "output_type": "stream",
     "text": [
      "Pre_Consulta_Saldos\n"
     ]
    },
    {
     "data": {
      "image/png": "[encoded data removed]",
      "text/plain": [
       "<Figure size 432x288 with 1 Axes>"
      ]
     },
     "metadata": {},
     "output_type": "display_data"
    },
    {
     "name": "stdout",
     "output_type": "stream",
     "text": [
      "1  dat ingres dej cuent app ningun funcion actualiz consult pued si pag_factur consum fall sald permit siempr dificil pod lent \n",
      "2  pag recarg pud clar servici factur error hog realiz opcion tarjet pued llam paquet app dej asesor hac mes sal \n",
      "3  señal mal lent sald dat plan consum internet llam dias app paquet carg activ compr bien consult ver qued servici \n",
      "4  app numer registr pued line cambi demor siempr hac da cambi_nombr wifi pas quier opcion ok cos permit vez red \n",
      "Pre_Elegidos\n"
     ]
    },
    {
     "data": {
      "image/png": "[encoded data removed]",
      "text/plain": [
       "<Figure size 432x288 with 1 Axes>"
      ]
     },
     "metadata": {},
     "output_type": "display_data"
    },
    {
     "name": "stdout",
     "output_type": "stream",
     "text": [
      "1  pud servici mal activ señal plan clar tampoc famili_amig tiend clar_vide famili visit usar problem product pesim baj conexion cumpl \n",
      "2  pag factur app hac ingres pued plan dat lent clar dej internet funcion realiz llam carg registr pod benefici dic \n",
      "3  activ numer famili_amig dej cambi inscrib aplic amig pued pud oper famili se grup clar_vide abre elej refer registr agreg_numer \n",
      "4  quier contact agreg movil consult famili factur grup form sub ala averigu eleg permit lent equip muestr agend_cit fij compart \n",
      "Pre_Detalle_Plan\n"
     ]
    },
    {
     "data": {
      "image/png": "[encoded data removed]",
      "text/plain": [
       "<Figure size 432x288 with 1 Axes>"
      ]
     },
     "metadata": {},
     "output_type": "display_data"
    },
    {
     "name": "stdout",
     "output_type": "stream",
     "text": [
      "1  plan encontr encuentr busc recarg facil compr nadi lleg chat qued da_opcion descarg cambi_numer se adquir cancel_plan ahor clar_play com \n",
      "2  factur consult inform clar_hog pag asesor hbo mir ayud hbo_max respond dan netflix revis consum person much valor pqr muestr \n",
      "3  pag dej pued app ver clar ingres hac pud cuent dat aplic necesit dic aparec sirv pod lent funcion registr \n",
      "4  servici mal internet entrar llam pesim solucion señal cancel hog cambi_clav wifi telefon equip_financi atencion fall contest tecnic visit_tecnic conexion \n",
      "Pre_Paquetes-Recargas\n"
     ]
    },
    {
     "data": {
      "image/png": "[encoded data removed]",
      "text/plain": [
       "<Figure size 432x288 with 1 Axes>"
      ]
     },
     "metadata": {},
     "output_type": "display_data"
    },
    {
     "name": "stdout",
     "output_type": "stream",
     "text": [
      "1  recarg hac pud mal realiz permit celul pued carg_factur cuent clar servici line internet pag compr_paquet clar_hog factur transaccion hog \n",
      "2  dej recarg pag lent pse realiz carg hac ingres ningun qued codig gust numer vec dat error dic paquet conect \n",
      "3  app opcion pag paquet pid carg sald tarjet mierd clar dar sirv much utiliz bloque aparec credit dias dat pud \n",
      "4  compr_paquet funcion hac app aplic dej recarg dat pod carg compr si much pag lent nunc plan qued pes cos \n",
      "Pre_Gestionar_Equipo\n"
     ]
    },
    {
     "data": {
      "image/png": "[encoded data removed]",
      "text/plain": [
       "<Figure size 432x288 with 1 Axes>"
      ]
     },
     "metadata": {},
     "output_type": "display_data"
    },
    {
     "name": "stdout",
     "output_type": "stream",
     "text": [
      "1  equip registr imei pud dej pag celul consult financi inform nuev dic necesit permit siempr respuest realiz hac pued dan \n",
      "2  señal mal lent internet clar sirv servici carg pesim dat app opcion demor fall solucion llam asesor hog respond problem \n",
      "3  pag funcion hac pued aparec dat celul total ingres consult compr bien realiz report sab valor cambi nunc moment mas \n",
      "4  pag_factur solucion pued dej factur compr si app hac ver entrar dan servici clar much dat problem pregunt celul sal \n"
     ]
    }
   ],
   "source": [
    "modelosAccion={}\n",
    "for accion in acciones:\n",
    "    print(accion)\n",
    "    Lista_generalZoom=[]\n",
    "    ZoomAccionAux=ZoomAccion[ZoomAccion['Accion']==accion]\n",
    "    for column in Qs:   \n",
    "        if column in ('Q4','Q10','Q12','Q15','Q18','Q20') :\n",
    "            listAux = ZoomAccionAux[\"Tokens_\"+column+\"_T\"].tolist()\n",
    "            listAux = [x for x in listAux if x!= []]\n",
    "            Lista_generalZoom = Lista_generalZoom+listAux\n",
    "\n",
    "    bigramZoom = gensim.models.Phrases(Lista_generalZoom, min_count=5, threshold=10) \n",
    "    trigramZoom = gensim.models.Phrases(bigramZoom[Lista_generalZoom], threshold=10)\n",
    "    bigram_modZoom = gensim.models.phrases.Phraser(bigramZoom)\n",
    "    trigram_modZoom = gensim.models.phrases.Phraser(trigramZoom)\n",
    "    data_words_bigramsZoom = make_bigrams(Lista_generalZoom,bigram_modZoom)\n",
    "    diccionarioZoom = Dictionary(data_words_bigramsZoom)\n",
    "    diccionarioZoom.filter_extremes(no_below=2, no_above = 0.9)\n",
    "    corpusZoom = [diccionarioZoom.doc2bow(noticia) for noticia in data_words_bigramsZoom]\n",
    "\n",
    "    #ldaZoomAccion = LdaModel(corpus=corpusZoom, id2word=diccionarioZoom, \n",
    "    #               num_topics=numeroTopicos, random_state=35, \n",
    "    #               chunksize=1000, iterations=200, passes=40, alpha='auto')\n",
    "    modelosAccion[accion]=LdaModel(corpus=corpusZoom, id2word=diccionarioZoom, num_topics=numeroTopicos, random_state=35, \n",
    "                   chunksize=1000, iterations=200, passes=40, alpha='auto')\n",
    "\n",
    "    modelosAccion[accion+'dis']=pyLDAvis.gensim_models.prepare(modelosAccion[accion], corpusZoom, diccionarioZoom, sort_topics=False)\n",
    "    \n",
    "    ##dfc2Zoom['TópicoZoom'] = \"\"\n",
    "    sumaTopicos = [0]*(numeroTopicos+1)\n",
    "    for i in ZoomAccionAux.index:\n",
    "        bow_comentario = diccionarioZoom.doc2bow(ZoomAccionAux.loc[i,'Opinion'])\n",
    "        distribucion_noticia = modelosAccion[accion][bow_comentario]\n",
    "        dist_contrib = [topico[1] for topico in modelosAccion[accion][bow_comentario]]\n",
    "        ZoomAccionAux.loc[i,'TópicoZoomAccion']=dist_contrib.index(max(dist_contrib))+1\n",
    "\n",
    "        # sumar pertenencias a los tópicos\n",
    "        for idx, val in enumerate(dist_contrib):\n",
    "            sumaTopicos[idx+1]=sumaTopicos[idx+1]+dist_contrib[idx] \n",
    "\n",
    "    ZoomAccionAux.TópicoZoomAccion.value_counts()\n",
    "    A = ZoomAccionAux.TópicoZoomAccion.value_counts()\n",
    "    indices = A.index\n",
    "    plt.pie(A, labels=indices, autopct=\"%0.1f %%\")\n",
    "    plt.axis(\"equal\")\n",
    "    plt.show()\n",
    "\n",
    "    impresionTopicosLimp(modelosAccion[accion],20,20)\n",
    "    \n",
    "    #acumular tabla resultados\n",
    "    ZoomAccion['Top_Zoom_'+accion]=ZoomAccionAux['TópicoZoomAccion']"
   ]
  },
  {
   "cell_type": "markdown",
   "metadata": {},
   "source": [
    "##  Información Modelos"
   ]
  },
  {
   "cell_type": "code",
   "execution_count": 57,
   "metadata": {},
   "outputs": [
    {
     "data": {
      "text/html": [
       "\n",
       "<link rel=\"stylesheet\" type=\"text/css\" href=\"https://cdn.jsdelivr.net/gh/bmabey/pyLDAvis@3.3.1/pyLDAvis/js/ldavis.v1.0.0.css\">\n",
       "\n",
       "\n",
       "<div id=\"ldavis_el1752421437211186249983633242\"></div>\n",
       "<script type=\"text/javascript\">\n",
       "\n",
       "var ldavis_el1752421437211186249983633242_data = {\"mdsDat\": {\"x\": [-0.07381351886494425, -0.01484475106201828, 0.32661055703116537, -0.23795228710420271], \"y\": [-0.1699933398028488, -0.20577757622115905, 0.1307436827880484, 0.24502723323595937], \"topics\": [1, 2, 3, 4], \"cluster\": [1, 1, 1, 1], \"Freq\": [13.86574340818805, 14.164285362552478, 51.99487114427562, 19.97510008498384]}, \"tinfo\": {\"Term\": [\"factur\", \"servici\", \"plan\", \"consult\", \"mal\", \"dej\", \"internet\", \"pag\", \"inform\", \"pued\", \"entrar\", \"app\", \"clar_hog\", \"ver\", \"llam\", \"encontr\", \"ingres\", \"pesim\", \"encuentr\", \"solucion\", \"hac\", \"pud\", \"se\\u00f1al\", \"busc\", \"cuent\", \"clar\", \"cancel\", \"asesor\", \"dat\", \"recarg\", \"plan\", \"encontr\", \"encuentr\", \"busc\", \"recarg\", \"facil\", \"compr\", \"nadi\", \"chat\", \"da_opcion\", \"descarg\", \"cambi_numer\", \"lleg\", \"adquir\", \"qued\", \"se\", \"cancel_plan\", \"clar_play\", \"ahor\", \"com\", \"servici_client\", \"resolv\", \"comunic_asesor\", \"benefici\", \"paquet\", \"eleg\", \"cupon\", \"resuelv\", \"dic_conect\", \"proces\", \"canal\", \"activ\", \"factur\", \"consult\", \"inform\", \"clar_hog\", \"asesor\", \"hbo\", \"mir\", \"dan\", \"netflix\", \"revis\", \"ayud\", \"pqr\", \"valor\", \"muestr\", \"pon\", \"client\", \"gratis\", \"verific\", \"brind\", \"inici\", \"informacion\", \"obten\", \"person\", \"mejor\", \"pasatiemp\", \"solucion_problem\", \"agost\", \"dij\", \"robot\", \"entra\", \"hbo_max\", \"much\", \"respond\", \"ofrec\", \"consum\", \"pag\", \"activ\", \"cos\", \"dej\", \"app\", \"ver\", \"ingres\", \"pud\", \"hac\", \"cuent\", \"dat\", \"pued\", \"aplic\", \"dic\", \"sirv\", \"aparec\", \"pod\", \"lent\", \"actualiz\", \"registr\", \"permit\", \"si\", \"numer\", \"equip\", \"celul\", \"sal\", \"asoci\", \"carg\", \"realiz\", \"sald\", \"opcion\", \"nombr\", \"cuant\", \"movil\", \"line\", \"clar\", \"funcion\", \"necesit\", \"pag\", \"quier\", \"servici\", \"mal\", \"internet\", \"entrar\", \"pesim\", \"solucion\", \"llam\", \"se\\u00f1al\", \"cambi_clav\", \"cancel\", \"equip_financi\", \"atencion\", \"fall\", \"tecnic\", \"visit_tecnic\", \"conexion\", \"report\", \"tiemp\", \"referent\", \"ped\", \"cambi_contrase\\u00f1\", \"dia\", \"hoy\", \"tan\", \"recib\", \"ten\", \"asi\", \"cuot\", \"sim\", \"voy\", \"hog\", \"telefon\", \"contest\", \"pas\", \"red\", \"wifi\", \"solicit\", \"da\"], \"Freq\": [292.0, 207.0, 120.0, 108.0, 121.0, 305.0, 118.0, 400.0, 76.0, 261.0, 84.0, 213.0, 66.0, 180.0, 67.0, 52.0, 169.0, 58.0, 44.0, 55.0, 144.0, 143.0, 51.0, 40.0, 128.0, 185.0, 45.0, 34.0, 110.0, 30.0, 119.93747192989305, 51.37346670712543, 43.67276179318157, 39.40261654027417, 29.757387359818157, 24.224916716564625, 23.870073339591006, 23.73239423517588, 21.543511469822636, 20.895800164302795, 20.350320032293656, 19.656336142412737, 22.972448128307267, 19.193421522838584, 21.075690173422107, 19.20555562226356, 18.990801988793194, 16.892600604079043, 17.157853305979856, 16.838985234030623, 15.426615913666916, 15.275445320756683, 14.932135256213419, 14.841112280973892, 14.90394021768044, 14.692165049410326, 14.173798239699467, 13.227975228872397, 13.365717258608651, 12.633970684938811, 14.711562528760265, 13.532995235506773, 291.5974079698322, 108.09289265025733, 76.1152822762335, 65.4598478803066, 33.625906724882775, 30.04643234372611, 29.55181181718839, 22.610598322615683, 21.605728007775888, 20.45931737201668, 26.861341231959255, 15.493838771994096, 15.521275686961735, 14.843222540932938, 14.38355970808495, 13.740360183105858, 13.25727794529135, 12.417774464017597, 12.156354705624809, 11.787186859482018, 10.933351963484276, 11.042949636314793, 16.66941270416142, 10.330994827796555, 9.79649228816773, 9.09551331697255, 8.677487957776155, 7.967547260938479, 7.631817341844998, 7.50371463532933, 25.971847682431587, 15.543747724807993, 24.108573988792777, 10.62004740259704, 17.51022627631554, 43.38402069655982, 12.898583939031473, 10.73382481630872, 305.0969217117989, 212.9879013288215, 179.78346472113606, 169.18500045129045, 143.11257204892294, 144.23337093232678, 127.85668211066157, 109.75073729030994, 259.64984613189955, 99.32322215440293, 98.02136146317164, 93.24738722818707, 93.37475073766478, 83.46126843367938, 79.54983224543432, 75.60129378032156, 75.91756203804269, 69.64068153676465, 68.07530141844681, 60.93318615739222, 56.45431660094033, 55.919204462112646, 47.100278652789584, 45.01861563260986, 44.11287399575639, 57.21775044356926, 41.183333496899884, 56.09246827474134, 37.54552660055412, 37.70683217630928, 38.25799818493548, 60.669076824328826, 175.8559718540164, 77.35615731655535, 98.2094796701126, 356.59465727808316, 62.61581149314678, 206.90012689426752, 121.27472264654273, 118.03607468223639, 83.73304030470699, 57.68074069095659, 54.40451584592986, 66.80549513847852, 50.647669530551696, 36.507279955475276, 44.74964895304681, 26.84438399904944, 25.674789017761718, 25.299697932587954, 23.048361465293564, 21.734851995052665, 20.31424086053218, 19.229046013861947, 19.45993123277655, 17.904971418340963, 14.685597523238142, 13.647553999728038, 13.588859818549949, 13.715414695117474, 12.455399939905588, 12.455084820745038, 12.804270305066042, 12.221689440298107, 11.910496319152337, 11.408639918245608, 11.203374318753816, 36.51106138540188, 31.646215092871476, 23.45006716943133, 19.10152635465904, 18.276520650484162, 35.70404337358334, 18.741817832891034, 14.192901161491516], \"Total\": [292.0, 207.0, 120.0, 108.0, 121.0, 305.0, 118.0, 400.0, 76.0, 261.0, 84.0, 213.0, 66.0, 180.0, 67.0, 52.0, 169.0, 58.0, 44.0, 55.0, 144.0, 143.0, 51.0, 40.0, 128.0, 185.0, 45.0, 34.0, 110.0, 30.0, 120.65706738729179, 52.089286680024045, 44.385894355139854, 40.11722756516269, 30.466299671069727, 24.93768501489542, 24.5809741417272, 24.447755406124955, 22.281919808877845, 21.612536868647098, 21.06844620898087, 20.361833004146796, 23.79864036811303, 19.90519962889315, 21.86108919051061, 19.921792669018174, 19.709314378349557, 17.602433274271444, 17.885662348791328, 17.55637797321707, 16.1430607313661, 15.993404891489511, 15.647643204994612, 15.553130184536107, 15.62368975776581, 15.403471278509008, 14.875963513893504, 13.94409548917685, 14.09054040781341, 13.354085581394479, 22.74703393681653, 55.542863091589915, 292.31161480379575, 108.8062548247519, 76.83049381067832, 66.17077119999524, 34.34460270954278, 30.76103657307902, 30.263232595575435, 23.319114148587275, 22.317805964699243, 21.169376185324587, 27.908855759575694, 16.203863491462172, 16.233534649567478, 15.554782032604827, 15.101894581460401, 14.452646503997338, 13.975363829372677, 13.136499505336298, 12.860287849762427, 12.504497317539393, 11.640879794935044, 11.758490725045052, 17.809433598314452, 11.046081826801883, 10.522319121211966, 9.809683136894867, 9.39021103242486, 8.683474456248067, 8.351590301314486, 8.217691122121899, 30.65450537226694, 18.040184388040824, 33.14494970073287, 12.811226581659104, 38.332929757135865, 400.4389427327436, 55.542863091589915, 15.608586212150813, 305.7859515188875, 213.68203392844805, 180.47419059617627, 169.86850992039268, 143.8086559935812, 144.94127834774565, 128.5442910245452, 110.4434184536531, 261.33038699313914, 100.01538264666632, 98.71463667360322, 93.93427903447589, 94.07207857184635, 84.1706520621269, 80.24517882147475, 76.28714089523159, 76.60872086826718, 70.32752364337989, 68.78657037731529, 61.626051851514625, 57.14888134936382, 56.75132622693076, 47.802583994103514, 45.70064770140389, 44.798809279626234, 58.13877204813697, 41.87865359324064, 57.0840792559535, 38.23231388126976, 38.39704963601566, 38.95897721236081, 62.08024235825769, 185.77542346029404, 79.96047888598804, 102.99266083099793, 400.4389427327436, 64.66297184523431, 207.60312083454903, 121.97409859114244, 118.74186265973115, 84.44943956901855, 58.381863841658, 55.11674061607139, 67.71446355968015, 51.3432753153904, 37.21649347152853, 45.731938548490476, 27.56066032685589, 26.376871336775984, 25.999795861434766, 23.748265438725507, 22.436639466204202, 21.021449386901573, 19.932071591914745, 20.17706742269506, 18.64530437458421, 15.39241172406585, 14.35075588913602, 14.295110076087473, 14.432771136210759, 13.16344913848634, 13.163213408418736, 13.545147475815623, 12.935320669419944, 12.643301237676729, 12.121608628119953, 11.911144410121953, 39.31122175962294, 36.43222260049598, 26.731616530175916, 22.520945734810045, 21.830851824986002, 64.53450118817831, 29.60440935703249, 31.162310055765012], \"Category\": [\"Default\", \"Default\", \"Default\", \"Default\", \"Default\", \"Default\", \"Default\", \"Default\", \"Default\", \"Default\", \"Default\", \"Default\", \"Default\", \"Default\", \"Default\", \"Default\", \"Default\", \"Default\", \"Default\", \"Default\", \"Default\", \"Default\", \"Default\", \"Default\", \"Default\", \"Default\", \"Default\", \"Default\", \"Default\", \"Default\", \"Topic1\", \"Topic1\", \"Topic1\", \"Topic1\", \"Topic1\", \"Topic1\", \"Topic1\", \"Topic1\", \"Topic1\", \"Topic1\", \"Topic1\", \"Topic1\", \"Topic1\", \"Topic1\", \"Topic1\", \"Topic1\", \"Topic1\", \"Topic1\", \"Topic1\", \"Topic1\", \"Topic1\", \"Topic1\", \"Topic1\", \"Topic1\", \"Topic1\", \"Topic1\", \"Topic1\", \"Topic1\", \"Topic1\", \"Topic1\", \"Topic1\", \"Topic1\", \"Topic2\", \"Topic2\", \"Topic2\", \"Topic2\", \"Topic2\", \"Topic2\", \"Topic2\", \"Topic2\", \"Topic2\", \"Topic2\", \"Topic2\", \"Topic2\", \"Topic2\", \"Topic2\", \"Topic2\", \"Topic2\", \"Topic2\", \"Topic2\", \"Topic2\", \"Topic2\", \"Topic2\", \"Topic2\", \"Topic2\", \"Topic2\", \"Topic2\", \"Topic2\", \"Topic2\", \"Topic2\", \"Topic2\", \"Topic2\", \"Topic2\", \"Topic2\", \"Topic2\", \"Topic2\", \"Topic2\", \"Topic2\", \"Topic2\", \"Topic2\", \"Topic3\", \"Topic3\", \"Topic3\", \"Topic3\", \"Topic3\", \"Topic3\", \"Topic3\", \"Topic3\", \"Topic3\", \"Topic3\", \"Topic3\", \"Topic3\", \"Topic3\", \"Topic3\", \"Topic3\", \"Topic3\", \"Topic3\", \"Topic3\", \"Topic3\", \"Topic3\", \"Topic3\", \"Topic3\", \"Topic3\", \"Topic3\", \"Topic3\", \"Topic3\", \"Topic3\", \"Topic3\", \"Topic3\", \"Topic3\", \"Topic3\", \"Topic3\", \"Topic3\", \"Topic3\", \"Topic3\", \"Topic3\", \"Topic3\", \"Topic4\", \"Topic4\", \"Topic4\", \"Topic4\", \"Topic4\", \"Topic4\", \"Topic4\", \"Topic4\", \"Topic4\", \"Topic4\", \"Topic4\", \"Topic4\", \"Topic4\", \"Topic4\", \"Topic4\", \"Topic4\", \"Topic4\", \"Topic4\", \"Topic4\", \"Topic4\", \"Topic4\", \"Topic4\", \"Topic4\", \"Topic4\", \"Topic4\", \"Topic4\", \"Topic4\", \"Topic4\", \"Topic4\", \"Topic4\", \"Topic4\", \"Topic4\", \"Topic4\", \"Topic4\", \"Topic4\", \"Topic4\", \"Topic4\", \"Topic4\"], \"logprob\": [30.0, 29.0, 28.0, 27.0, 26.0, 25.0, 24.0, 23.0, 22.0, 21.0, 20.0, 19.0, 18.0, 17.0, 16.0, 15.0, 14.0, 13.0, 12.0, 11.0, 10.0, 9.0, 8.0, 7.0, 6.0, 5.0, 4.0, 3.0, 2.0, 1.0, -2.5962, -3.4441, -3.6065, -3.7094, -3.9901, -4.1958, -4.2106, -4.2163, -4.3131, -4.3436, -4.3701, -4.4048, -4.2489, -4.4286, -4.3351, -4.428, -4.4392, -4.5563, -4.5407, -4.5595, -4.6471, -4.6569, -4.6797, -4.6858, -4.6816, -4.6959, -4.7318, -4.8008, -4.7905, -4.8468, -4.6946, -4.7781, -1.7291, -2.7215, -3.0722, -3.223, -3.8892, -4.0017, -4.0183, -4.2861, -4.3315, -4.386, -4.1138, -4.664, -4.6623, -4.7069, -4.7384, -4.7841, -4.8199, -4.8854, -4.9066, -4.9375, -5.0127, -5.0027, -4.5909, -5.0693, -5.1225, -5.1967, -5.2438, -5.3291, -5.3722, -5.3891, -4.1475, -4.6608, -4.2219, -5.0417, -4.5417, -3.6344, -4.8474, -5.0311, -2.9843, -3.3437, -3.5132, -3.5739, -3.7413, -3.7335, -3.854, -4.0067, -3.1456, -4.1065, -4.1197, -4.1697, -4.1683, -4.2805, -4.3285, -4.3794, -4.3753, -4.4616, -4.4843, -4.5951, -4.6715, -4.681, -4.8526, -4.8978, -4.9182, -4.658, -4.9869, -4.6779, -5.0794, -5.0751, -5.0606, -4.5995, -3.5352, -4.3565, -4.1178, -2.8283, -4.5679, -2.416, -2.9502, -2.9773, -3.3206, -3.6933, -3.7518, -3.5465, -3.8234, -4.1507, -3.9472, -4.4582, -4.5027, -4.5175, -4.6107, -4.6693, -4.7369, -4.7918, -4.7799, -4.8632, -5.0614, -5.1347, -5.139, -5.1297, -5.2261, -5.2261, -5.1985, -5.245, -5.2708, -5.3139, -5.332, -4.1506, -4.2936, -4.5934, -4.7985, -4.8426, -4.173, -4.8175, -5.0955], \"loglift\": [30.0, 29.0, 28.0, 27.0, 26.0, 25.0, 24.0, 23.0, 22.0, 21.0, 20.0, 19.0, 18.0, 17.0, 16.0, 15.0, 14.0, 13.0, 12.0, 11.0, 10.0, 9.0, 8.0, 7.0, 6.0, 5.0, 4.0, 3.0, 2.0, 1.0, 1.9698, 1.9619, 1.9596, 1.9578, 1.9522, 1.9468, 1.9464, 1.9461, 1.942, 1.942, 1.9411, 1.9405, 1.9404, 1.9393, 1.9392, 1.9391, 1.9386, 1.9346, 1.9342, 1.934, 1.9304, 1.9298, 1.9289, 1.9289, 1.9286, 1.9285, 1.9274, 1.923, 1.9229, 1.9203, 1.5399, 0.5637, 1.952, 1.9479, 1.9451, 1.9436, 1.9333, 1.9309, 1.9307, 1.9236, 1.922, 1.9203, 1.9162, 1.9096, 1.9096, 1.9076, 1.9057, 1.9039, 1.9017, 1.8982, 1.8982, 1.8954, 1.8917, 1.8917, 1.8883, 1.8875, 1.883, 1.8789, 1.8755, 1.8684, 1.8643, 1.8636, 1.7887, 1.8055, 1.6361, 1.7669, 1.1709, -0.268, 0.4944, 1.58, 0.6518, 0.6508, 0.6502, 0.65, 0.6492, 0.6491, 0.6487, 0.6477, 0.6476, 0.6471, 0.647, 0.6467, 0.6466, 0.6456, 0.6453, 0.645, 0.645, 0.6442, 0.6436, 0.6427, 0.6418, 0.6393, 0.6392, 0.639, 0.6386, 0.6381, 0.6373, 0.6365, 0.6359, 0.6359, 0.6359, 0.631, 0.5992, 0.6209, 0.6065, 0.5381, 0.6219, 1.6073, 1.6049, 1.6047, 1.6022, 1.5986, 1.5977, 1.5972, 1.597, 1.5914, 1.589, 1.5844, 1.5837, 1.5834, 1.5808, 1.5789, 1.5765, 1.5748, 1.5745, 1.5702, 1.5637, 1.5604, 1.56, 1.5597, 1.5554, 1.5554, 1.5544, 1.5539, 1.551, 1.5501, 1.5494, 1.5368, 1.4698, 1.4797, 1.446, 1.433, 1.0187, 1.1535, 0.8242]}, \"token.table\": {\"Topic\": [1, 2, 3, 3, 1, 2, 1, 3, 3, 3, 2, 4, 3, 4, 1, 2, 1, 2, 1, 4, 4, 1, 1, 4, 3, 4, 1, 3, 3, 1, 1, 3, 2, 1, 2, 1, 1, 1, 4, 2, 2, 3, 1, 2, 4, 1, 2, 3, 3, 4, 1, 2, 3, 4, 1, 2, 3, 3, 1, 4, 3, 1, 2, 1, 1, 1, 2, 4, 3, 4, 1, 2, 4, 3, 4, 2, 3, 2, 2, 3, 3, 4, 4, 2, 2, 3, 2, 4, 3, 3, 4, 4, 1, 4, 2, 2, 3, 2, 4, 2, 1, 1, 2, 3, 4, 2, 3, 3, 2, 2, 4, 2, 3, 2, 3, 1, 1, 4, 2, 4, 3, 1, 2, 4, 1, 3, 2, 2, 1, 3, 1, 3, 1, 3, 4, 3, 1, 4, 3, 4, 4, 3, 4, 1, 1, 2, 1, 2, 2, 3, 3, 1, 4, 1, 4, 3, 4, 3, 1, 2, 4, 4, 2, 4, 4, 3, 4, 4, 4, 2, 3, 2, 4, 4, 3, 4], \"Freq\": [0.2520575861729358, 0.23405347287486894, 0.5221192856439384, 0.9962360511632501, 0.9545244636693209, 0.9584449134234106, 0.950481993256952, 0.9886036474571192, 0.9898477352203564, 0.9968081830937812, 0.9899663212744916, 0.9276925023102742, 0.9846687577388019, 0.9857120531103122, 0.03583092078781819, 0.967434861271091, 0.9644360859856967, 0.9331050859970977, 0.972150927843955, 0.9941828621846346, 0.9755583683643066, 0.982229841288203, 0.6594266330135553, 0.35169420427389614, 0.021866556103666595, 0.9839950246649968, 0.9640112098912619, 0.9821689617989575, 0.9867610807203617, 0.987347597904669, 0.04844559001596666, 0.9473804269789037, 0.9823068225023902, 0.9657755683612226, 0.9686807185194667, 0.968309068415715, 0.9763648853630673, 0.9586108146440936, 0.9514091836342152, 0.9925899956206516, 0.46957016106104466, 0.5217446234011608, 0.037408886173088435, 0.07481777234617687, 0.860404381981034, 0.25626920629660366, 0.70474031731566, 0.9896593712334806, 0.9957657316384337, 0.9491192034751409, 0.9411155107314297, 0.03209004718233334, 0.5134407549173334, 0.4492606605526668, 0.9716582614817563, 0.9863153400016009, 0.9959851074888707, 0.9974297330698695, 0.9492869004964675, 0.9793558724265351, 0.9927605804196378, 0.9226047847527061, 0.9212902093866029, 0.9738064705536905, 0.979088086064312, 0.9913059236330298, 0.9735094543118228, 0.9946780041251637, 0.979896695749118, 0.9796572244566446, 0.9623988748620679, 0.9989339636606472, 0.961546011100889, 0.9629757234169489, 0.025012356452388283, 0.930208340814519, 0.9935057951849485, 0.9752597227576832, 0.8481624376011672, 0.13048652886171802, 0.050876058043411554, 0.9412070738031137, 0.9700146886466613, 0.9891905704429704, 0.9449457595796246, 0.9948871634842755, 0.9596547302359959, 0.9937523073740467, 0.9969446286359431, 0.9825992567486489, 0.016108184536863097, 0.9894488780960294, 0.9664417649176673, 0.9920138898143644, 0.9052983815253205, 0.9913019009207258, 0.9753849489648166, 0.88690889493384, 0.11086361186673, 0.9643336672000976, 0.9816852140948377, 0.009709429700441604, 0.009709429700441604, 0.9515241106432772, 0.01941885940088321, 0.9857599817293006, 0.9939236248689731, 0.9898411169837219, 0.935494210712817, 0.8586219227242374, 0.15611307685895226, 0.017518019262712493, 0.9810090787118996, 0.10738216344931908, 0.8915216825908585, 0.9600805080339103, 0.13320932590157514, 0.8436590640433093, 0.9503608363142093, 0.9745061572480992, 0.9953428810455389, 0.0561500170389834, 0.9545502896627178, 0.9934592043396613, 0.994554256940601, 0.986091921192878, 0.9270360036274439, 0.9257051571622725, 0.9734848500680715, 0.9943768614761458, 0.0038265737540359346, 0.9949091760493429, 0.9606108742795675, 0.9742824711302397, 0.03092960225810285, 0.9804128637736946, 0.9846945747890573, 0.9116315011899158, 0.13742019890247337, 0.8245211934148402, 0.9653905154016237, 0.9920541570023873, 0.9532375956198736, 0.9378865914900881, 0.2715345801173745, 0.7240922136463321, 0.9322942467003587, 0.9447609520900647, 0.9579013949883116, 0.9832104474895643, 0.97901905821102, 0.9537294316664724, 0.9970948373409584, 0.9291918211553821, 0.993314113420273, 0.9885650589497237, 0.9074703149944948, 0.9900539074331641, 0.06755750387990438, 0.30400876745956973, 0.6417962868590916, 0.9797386310658261, 0.9174608266550838, 0.9116151757608322, 0.9684917856145681, 0.10979291721679216, 0.8783433377343373, 0.9597533008194289, 0.9416631070295626, 0.985614060362775, 0.9973725295865861, 0.9134853615398356, 0.9805389988611306, 0.9235048809123939, 0.4338764456914893, 0.5578411444604863], \"Term\": [\"activ\", \"activ\", \"activ\", \"actualiz\", \"adquir\", \"agost\", \"ahor\", \"aparec\", \"aplic\", \"app\", \"asesor\", \"asi\", \"asoci\", \"atencion\", \"ayud\", \"ayud\", \"benefici\", \"brind\", \"busc\", \"cambi_clav\", \"cambi_contrase\\u00f1\", \"cambi_numer\", \"canal\", \"canal\", \"cancel\", \"cancel\", \"cancel_plan\", \"carg\", \"celul\", \"chat\", \"clar\", \"clar\", \"clar_hog\", \"clar_play\", \"client\", \"com\", \"compr\", \"comunic_asesor\", \"conexion\", \"consult\", \"consum\", \"consum\", \"contest\", \"contest\", \"contest\", \"cos\", \"cos\", \"cuant\", \"cuent\", \"cuot\", \"cupon\", \"da\", \"da\", \"da\", \"da_opcion\", \"dan\", \"dat\", \"dej\", \"descarg\", \"dia\", \"dic\", \"dic_conect\", \"dij\", \"eleg\", \"encontr\", \"encuentr\", \"entra\", \"entrar\", \"equip\", \"equip_financi\", \"facil\", \"factur\", \"fall\", \"funcion\", \"funcion\", \"gratis\", \"hac\", \"hbo\", \"hbo_max\", \"hbo_max\", \"hog\", \"hog\", \"hoy\", \"inform\", \"informacion\", \"ingres\", \"inici\", \"internet\", \"lent\", \"line\", \"line\", \"llam\", \"lleg\", \"mal\", \"mejor\", \"mir\", \"movil\", \"much\", \"much\", \"muestr\", \"nadi\", \"necesit\", \"necesit\", \"necesit\", \"necesit\", \"netflix\", \"nombr\", \"numer\", \"obten\", \"ofrec\", \"ofrec\", \"opcion\", \"opcion\", \"pag\", \"pag\", \"paquet\", \"pas\", \"pas\", \"pasatiemp\", \"ped\", \"permit\", \"person\", \"person\", \"pesim\", \"plan\", \"pod\", \"pon\", \"pqr\", \"proces\", \"pud\", \"pued\", \"pued\", \"qued\", \"quier\", \"quier\", \"realiz\", \"recarg\", \"recib\", \"red\", \"red\", \"referent\", \"registr\", \"report\", \"resolv\", \"respond\", \"respond\", \"resuelv\", \"revis\", \"robot\", \"sal\", \"sald\", \"se\", \"servici\", \"servici_client\", \"se\\u00f1al\", \"si\", \"sim\", \"sirv\", \"solicit\", \"solicit\", \"solicit\", \"solucion\", \"solucion_problem\", \"tan\", \"tecnic\", \"telefon\", \"telefon\", \"ten\", \"tiemp\", \"valor\", \"ver\", \"verific\", \"visit_tecnic\", \"voy\", \"wifi\", \"wifi\"]}, \"R\": 30, \"lambda.step\": 0.01, \"plot.opts\": {\"xlab\": \"PC1\", \"ylab\": \"PC2\"}, \"topic.order\": [1, 2, 3, 4]};\n",
       "\n",
       "function LDAvis_load_lib(url, callback){\n",
       "  var s = document.createElement('script');\n",
       "  s.src = url;\n",
       "  s.async = true;\n",
       "  s.onreadystatechange = s.onload = callback;\n",
       "  s.onerror = function(){console.warn(\"failed to load library \" + url);};\n",
       "  document.getElementsByTagName(\"head\")[0].appendChild(s);\n",
       "}\n",
       "\n",
       "if(typeof(LDAvis) !== \"undefined\"){\n",
       "   // already loaded: just create the visualization\n",
       "   !function(LDAvis){\n",
       "       new LDAvis(\"#\" + \"ldavis_el1752421437211186249983633242\", ldavis_el1752421437211186249983633242_data);\n",
       "   }(LDAvis);\n",
       "}else if(typeof define === \"function\" && define.amd){\n",
       "   // require.js is available: use it to load d3/LDAvis\n",
       "   require.config({paths: {d3: \"https://d3js.org/d3.v5\"}});\n",
       "   require([\"d3\"], function(d3){\n",
       "      window.d3 = d3;\n",
       "      LDAvis_load_lib(\"https://cdn.jsdelivr.net/gh/bmabey/pyLDAvis@3.3.1/pyLDAvis/js/ldavis.v3.0.0.js\", function(){\n",
       "        new LDAvis(\"#\" + \"ldavis_el1752421437211186249983633242\", ldavis_el1752421437211186249983633242_data);\n",
       "      });\n",
       "    });\n",
       "}else{\n",
       "    // require.js not available: dynamically load d3 & LDAvis\n",
       "    LDAvis_load_lib(\"https://d3js.org/d3.v5.js\", function(){\n",
       "         LDAvis_load_lib(\"https://cdn.jsdelivr.net/gh/bmabey/pyLDAvis@3.3.1/pyLDAvis/js/ldavis.v3.0.0.js\", function(){\n",
       "                 new LDAvis(\"#\" + \"ldavis_el1752421437211186249983633242\", ldavis_el1752421437211186249983633242_data);\n",
       "            })\n",
       "         });\n",
       "}\n",
       "</script>"
      ],
      "text/plain": [
       "<IPython.core.display.HTML object>"
      ]
     },
     "execution_count": 57,
     "metadata": {},
     "output_type": "execute_result"
    }
   ],
   "source": [
    "pyLDAvis.display(modelosAccion['Pre_Detalle_Plandis'])"
   ]
  },
  {
   "cell_type": "code",
   "execution_count": 58,
   "metadata": {},
   "outputs": [
    {
     "data": {
      "text/html": [
       "\n",
       "<link rel=\"stylesheet\" type=\"text/css\" href=\"https://cdn.jsdelivr.net/gh/bmabey/pyLDAvis@3.3.1/pyLDAvis/js/ldavis.v1.0.0.css\">\n",
       "\n",
       "\n",
       "<div id=\"ldavis_el1752421437211169446586092836\"></div>\n",
       "<script type=\"text/javascript\">\n",
       "\n",
       "var ldavis_el1752421437211169446586092836_data = {\"mdsDat\": {\"x\": [-0.2303399422382836, 0.17972927183813822, -0.1921189509171313, 0.24272962131727696], \"y\": [-0.05029329861071266, -0.24179130381901168, 0.08974426491647026, 0.20234033751325403], \"topics\": [1, 2, 3, 4], \"cluster\": [1, 1, 1, 1], \"Freq\": [11.086081287354615, 65.37037545861219, 13.567134238684947, 9.976409015348255]}, \"tinfo\": {\"Term\": [\"pud\", \"activ\", \"factur\", \"servici\", \"mal\", \"dej\", \"numer\", \"famili_amig\", \"famili\", \"plan\", \"clar\", \"grup\", \"pued\", \"quier\", \"contact\", \"agreg\", \"movil\", \"consult\", \"cambi\", \"clar_vide\", \"se\\u00f1al\", \"aplic\", \"inscrib\", \"amig\", \"form\", \"sub\", \"pag\", \"ala\", \"averigu\", \"oper\", \"mal\", \"servici\", \"se\\u00f1al\", \"tampoc\", \"tiend\", \"visit\", \"usar\", \"pud\", \"problem\", \"product\", \"conexion\", \"gb\", \"baj\", \"public\", \"clar_vide\", \"activ\", \"excelent\", \"na\", \"brind\", \"inf\", \"verd\", \"deficient\", \"web\", \"abri\", \"cumpl\", \"dijeron\", \"clar\", \"colabor\", \"tecnic\", \"famili_amig\", \"plan\", \"famili\", \"pesim\", \"atencion\", \"trat\", \"asoci\", \"direct\", \"dij\", \"usuari\", \"pag\", \"app\", \"hac\", \"dat\", \"funcion\", \"realiz\", \"llam\", \"carg\", \"pod\", \"benefici\", \"dic\", \"demor\", \"inform\", \"cuent\", \"solucion\", \"siempr\", \"opcion\", \"si\", \"ver\", \"vec\", \"ofrec\", \"internet\", \"sirv\", \"hog\", \"pas\", \"cobr\", \"ningun\", \"client\", \"line\", \"sol\", \"ingres\", \"lent\", \"factur\", \"registr\", \"plan\", \"clar\", \"pued\", \"dej\", \"numer\", \"cambi\", \"inscrib\", \"amig\", \"aplic\", \"oper\", \"se\", \"abre\", \"elej\", \"refer\", \"famili_amig\", \"ok\", \"netflix\", \"activ\", \"clar_vide\", \"dej\\u00e0\", \"agg\", \"pasatiemp\", \"inclu\", \"grup\", \"dej\", \"tecnolog\", \"bn\", \"mm\", \"manej\", \"fue\", \"driv\", \"pued\", \"pospag\", \"inscripcion\", \"famili\", \"pud\", \"escrib\", \"registr\", \"agreg_numer\", \"actualiz\", \"sal_error\", \"quier\", \"contact\", \"agreg\", \"movil\", \"consult\", \"form\", \"sub\", \"ala\", \"averigu\", \"eleg\", \"equip\", \"agend_cit\", \"contrat\", \"recarg\", \"muestr\", \"caid\", \"destin\", \"compart\", \"borr\", \"turn\", \"n\", \"derech\", \"naveg\", \"inici\", \"modific\", \"condicion\", \"xxx\", \"financi\", \"sistem\", \"aplicacion\", \"grup\", \"famili\", \"factur\", \"permit\", \"fij\", \"lent\", \"ingres\", \"agend\"], \"Freq\": [82.0, 84.0, 152.0, 47.0, 46.0, 65.0, 37.0, 52.0, 65.0, 59.0, 57.0, 45.0, 63.0, 27.0, 26.0, 25.0, 25.0, 25.0, 29.0, 41.0, 26.0, 28.0, 28.0, 28.0, 23.0, 23.0, 144.0, 23.0, 23.0, 24.0, 46.228093257926346, 46.881879029329895, 25.622055984519488, 20.36179050292846, 18.55717318693903, 18.064953197610556, 18.064916663802993, 58.082118161010754, 2.1678669448369745, 1.5479988697672988, 1.0653172141009493, 0.7404013055767473, 1.1326361515799306, 0.5799020615884362, 18.54243843809686, 37.538095365318526, 0.41766608653352394, 0.41765814665773204, 0.41620289197214627, 0.41620289197214627, 0.4161401773323128, 0.41469377067824675, 0.41469377067824675, 0.41208196669961267, 0.7801800832942143, 0.40797126466584377, 20.96941248721791, 0.4076441729199849, 0.4066527003909501, 18.909922044631397, 21.096488694323646, 18.241650618528173, 1.2948564285144044, 0.7195921365968648, 0.6192810432072046, 0.45900530931716627, 0.42082283584347074, 0.4185124876718641, 0.4176781779783574, 144.68688901802048, 51.18704255350811, 42.02888240509028, 37.875554844625476, 31.221348347536413, 31.218481714639147, 28.721850094903658, 27.901966158050794, 25.387698993147136, 25.38585318511593, 24.55154795501131, 23.740427934274777, 22.071200572707617, 20.40547265753384, 21.1163302954719, 19.572371853889894, 18.73939957136218, 18.733453327717886, 19.50591174867084, 17.914855826037964, 17.908770045181765, 33.98135033469522, 17.904905843620416, 16.237936781667035, 16.23572866648912, 15.417559568529969, 15.417369846882199, 14.582844294864035, 18.40868536304439, 13.75476560683815, 39.56814367309156, 36.9123490549942, 128.23544194197464, 25.73635352528016, 38.33247311705033, 36.485431283129586, 38.48820398960351, 35.84816483634546, 37.208320315252024, 28.97716647150228, 27.610260827373438, 27.413583420000162, 27.607161609106242, 23.49629346672323, 22.517844856341632, 21.930320460675393, 21.734297445618207, 21.538804854146424, 33.45971115895567, 0.8898565670938597, 0.8783158530713957, 46.0836847809807, 21.948314217093582, 0.6939368804817715, 0.6893267298007493, 0.6886793234274752, 0.6834081755389743, 22.096304429694943, 29.46123184844962, 0.4979942672755346, 0.4979860111612982, 0.4979744526013673, 0.493440639222746, 0.4889911334721923, 0.4794425880606807, 25.11723136277404, 0.47407687590988773, 0.4965326175128405, 22.808886855059576, 23.742639657342554, 0.8833111832358306, 1.937786729631681, 1.0563590200874526, 0.9342855756855055, 0.6898124433521324, 27.02675300178228, 26.19492209461718, 25.156689883939848, 24.948438506477107, 24.7394713088025, 23.28440159637827, 23.284220773318488, 23.07634150281348, 22.868599717610127, 17.36422622538127, 2.17835111711645, 1.56429459276141, 1.3504280802102966, 1.3456966057462036, 2.082635755472484, 1.333557923854866, 1.1501976438141779, 1.5119709746442198, 1.3257099602194002, 0.9448465337338652, 0.9422780243619485, 0.935656500601488, 0.9365297003875989, 0.9326382685886337, 0.9287882131406417, 0.9277399811158774, 0.7367949863002601, 0.90506443317787, 0.7279340492686809, 0.7247437271279084, 23.316655349265005, 24.208266957756525, 23.65446121864314, 3.258461051796239, 1.530810383785014, 2.4333611335910152, 1.144230482841341, 0.9448448525277309], \"Total\": [82.0, 84.0, 152.0, 47.0, 46.0, 65.0, 37.0, 52.0, 65.0, 59.0, 57.0, 45.0, 63.0, 27.0, 26.0, 25.0, 25.0, 25.0, 29.0, 41.0, 26.0, 28.0, 28.0, 28.0, 23.0, 23.0, 144.0, 23.0, 23.0, 24.0, 46.904789677153154, 47.575393730013246, 26.302696927108297, 21.045853287208075, 19.230160342126243, 18.73491671219889, 18.73509270391119, 82.3986395843488, 3.1242339559387906, 2.2925561405330677, 1.7839091505957307, 1.433586676404402, 2.331360539935008, 1.2604090061805853, 41.05792615668232, 84.1891852410383, 1.0876222377479818, 1.0876148045076046, 1.0934315756630915, 1.0934315756630915, 1.0937645227615176, 1.0995898629484924, 1.0995898629484924, 1.1067143099969252, 2.132013674105509, 1.1185940371361154, 57.67559182131847, 1.1245092721447072, 1.1224874232540645, 52.94455208830822, 59.65098182184139, 65.7131422981078, 19.151064944853243, 6.510583655160489, 8.569589367778795, 6.732937696682521, 1.9061760581834628, 2.7349163193972292, 2.750995876740701, 144.99518061921754, 51.497037866372665, 42.34051551426667, 38.185817202820175, 31.53141972392432, 31.52937659546233, 29.032892465825913, 28.21022489769482, 25.700289170095804, 25.698899644225687, 24.86536133994528, 24.049192542851102, 22.381250600709546, 20.715871287781848, 21.450435800057072, 19.883168032916238, 19.050437588997532, 19.04570169059164, 19.832951404612285, 18.22400695415737, 18.219210133816652, 34.5719544147014, 18.216588999993565, 16.5499560461041, 16.548321511704852, 15.72714661991495, 15.727003853281674, 14.892963597178753, 18.801748976885076, 14.064206825954413, 40.91124374384459, 39.543554057056596, 152.08533835202653, 28.136854578792537, 59.65098182184139, 57.67559182131847, 63.80961305712477, 65.5142317145156, 37.87850054216646, 29.65189141373669, 28.270623366157487, 28.07823508836655, 28.28148516501917, 24.155982920156188, 23.17313720391702, 22.583904060176625, 22.38899048600158, 22.191629748304578, 52.94455208830822, 1.5426819202560023, 1.5738457920334006, 84.1891852410383, 41.05792615668232, 1.3467612391352766, 1.3470103112344722, 1.358272320127358, 1.372832418026573, 45.954444196268504, 65.5142317145156, 1.150818702429704, 1.1508109053194542, 1.1507999970151708, 1.1652845165645027, 1.1797082602318234, 1.2105160532833406, 63.80961305712477, 1.223934791943812, 1.3673195420947906, 65.7131422981078, 82.3986395843488, 3.206376349974375, 28.136854578792537, 11.354517690652598, 11.37599728718042, 3.842260511218249, 27.68163230313262, 26.849389306608096, 25.804420920185226, 25.597377554033145, 25.391468845048276, 23.932558626981454, 23.932574552805896, 23.723598266189267, 23.51575419074211, 18.055283505270662, 2.8659151524722124, 2.223135057191249, 2.033224673169732, 2.035678528916222, 3.1696983718919447, 2.0855382418364443, 1.8000648213391535, 2.374696954430435, 2.1080059119095322, 1.5911122055528601, 1.5954621867179712, 1.6088665201784065, 1.6110082137600696, 1.6255499928356976, 1.6247327384029937, 1.6402165072862962, 1.3830614721998522, 1.708605704662269, 1.4026220187520544, 1.418811873313285, 45.954444196268504, 65.7131422981078, 152.08533835202653, 17.10049816693961, 7.297894636414341, 39.543554057056596, 40.91124374384459, 2.418732071535419], \"Category\": [\"Default\", \"Default\", \"Default\", \"Default\", \"Default\", \"Default\", \"Default\", \"Default\", \"Default\", \"Default\", \"Default\", \"Default\", \"Default\", \"Default\", \"Default\", \"Default\", \"Default\", \"Default\", \"Default\", \"Default\", \"Default\", \"Default\", \"Default\", \"Default\", \"Default\", \"Default\", \"Default\", \"Default\", \"Default\", \"Default\", \"Topic1\", \"Topic1\", \"Topic1\", \"Topic1\", \"Topic1\", \"Topic1\", \"Topic1\", \"Topic1\", \"Topic1\", \"Topic1\", \"Topic1\", \"Topic1\", \"Topic1\", \"Topic1\", \"Topic1\", \"Topic1\", \"Topic1\", \"Topic1\", \"Topic1\", \"Topic1\", \"Topic1\", \"Topic1\", \"Topic1\", \"Topic1\", \"Topic1\", \"Topic1\", \"Topic1\", \"Topic1\", \"Topic1\", \"Topic1\", \"Topic1\", \"Topic1\", \"Topic1\", \"Topic1\", \"Topic1\", \"Topic1\", \"Topic1\", \"Topic1\", \"Topic1\", \"Topic2\", \"Topic2\", \"Topic2\", \"Topic2\", \"Topic2\", \"Topic2\", \"Topic2\", \"Topic2\", \"Topic2\", \"Topic2\", \"Topic2\", \"Topic2\", \"Topic2\", \"Topic2\", \"Topic2\", \"Topic2\", \"Topic2\", \"Topic2\", \"Topic2\", \"Topic2\", \"Topic2\", \"Topic2\", \"Topic2\", \"Topic2\", \"Topic2\", \"Topic2\", \"Topic2\", \"Topic2\", \"Topic2\", \"Topic2\", \"Topic2\", \"Topic2\", \"Topic2\", \"Topic2\", \"Topic2\", \"Topic2\", \"Topic2\", \"Topic2\", \"Topic3\", \"Topic3\", \"Topic3\", \"Topic3\", \"Topic3\", \"Topic3\", \"Topic3\", \"Topic3\", \"Topic3\", \"Topic3\", \"Topic3\", \"Topic3\", \"Topic3\", \"Topic3\", \"Topic3\", \"Topic3\", \"Topic3\", \"Topic3\", \"Topic3\", \"Topic3\", \"Topic3\", \"Topic3\", \"Topic3\", \"Topic3\", \"Topic3\", \"Topic3\", \"Topic3\", \"Topic3\", \"Topic3\", \"Topic3\", \"Topic3\", \"Topic3\", \"Topic3\", \"Topic3\", \"Topic3\", \"Topic3\", \"Topic3\", \"Topic4\", \"Topic4\", \"Topic4\", \"Topic4\", \"Topic4\", \"Topic4\", \"Topic4\", \"Topic4\", \"Topic4\", \"Topic4\", \"Topic4\", \"Topic4\", \"Topic4\", \"Topic4\", \"Topic4\", \"Topic4\", \"Topic4\", \"Topic4\", \"Topic4\", \"Topic4\", \"Topic4\", \"Topic4\", \"Topic4\", \"Topic4\", \"Topic4\", \"Topic4\", \"Topic4\", \"Topic4\", \"Topic4\", \"Topic4\", \"Topic4\", \"Topic4\", \"Topic4\", \"Topic4\", \"Topic4\", \"Topic4\", \"Topic4\", \"Topic4\"], \"logprob\": [30.0, 29.0, 28.0, 27.0, 26.0, 25.0, 24.0, 23.0, 22.0, 21.0, 20.0, 19.0, 18.0, 17.0, 16.0, 15.0, 14.0, 13.0, 12.0, 11.0, 10.0, 9.0, 8.0, 7.0, 6.0, 5.0, 4.0, 3.0, 2.0, 1.0, -2.2662, -2.2522, -2.8564, -3.0861, -3.1789, -3.2058, -3.2058, -2.0379, -5.3261, -5.6628, -6.0365, -6.4004, -5.9753, -6.6447, -3.1797, -2.4744, -6.9729, -6.9729, -6.9764, -6.9764, -6.9765, -6.98, -6.98, -6.9863, -6.348, -6.9964, -3.0567, -6.9972, -6.9996, -3.1601, -3.0507, -3.1961, -5.8414, -6.4289, -6.579, -6.8785, -6.9653, -6.9709, -6.9729, -2.8996, -3.9387, -4.1358, -4.2399, -4.4331, -4.4332, -4.5165, -4.5455, -4.6399, -4.64, -4.6734, -4.707, -4.7799, -4.8584, -4.8241, -4.9001, -4.9436, -4.9439, -4.9035, -4.9886, -4.9889, -4.3484, -4.9891, -5.0868, -5.087, -5.1387, -5.1387, -5.1943, -4.9614, -5.2528, -4.1962, -4.2656, -3.0203, -4.6263, -4.2279, -4.2773, -4.2238, -4.2949, -2.6852, -2.9353, -2.9836, -2.9907, -2.9837, -3.1449, -3.1875, -3.2139, -3.2229, -3.2319, -2.7914, -6.4185, -6.4315, -2.4713, -3.2131, -6.6671, -6.6738, -6.6747, -6.6824, -3.2064, -2.9187, -6.9989, -6.9989, -6.999, -7.0081, -7.0172, -7.0369, -3.0782, -7.0482, -7.0019, -3.1746, -3.1345, -6.4258, -5.6402, -6.2469, -6.3697, -6.6731, -2.6975, -2.7288, -2.7692, -2.7775, -2.7859, -2.8466, -2.8466, -2.8555, -2.8646, -3.1399, -5.2158, -5.5469, -5.6939, -5.6974, -5.2607, -5.7065, -5.8544, -5.5809, -5.7124, -6.0511, -6.0538, -6.0608, -6.0599, -6.0641, -6.0682, -6.0693, -6.2998, -6.0941, -6.3119, -6.3163, -2.8452, -2.8076, -2.8308, -4.8131, -5.5685, -5.1051, -5.8596, -6.0511], \"loglift\": [30.0, 29.0, 28.0, 27.0, 26.0, 25.0, 24.0, 23.0, 22.0, 21.0, 20.0, 19.0, 18.0, 17.0, 16.0, 15.0, 14.0, 13.0, 12.0, 11.0, 10.0, 9.0, 8.0, 7.0, 6.0, 5.0, 4.0, 3.0, 2.0, 1.0, 2.1849, 2.1848, 2.1733, 2.1664, 2.1639, 2.1631, 2.1631, 1.8498, 1.834, 1.8068, 1.6839, 1.5387, 1.4776, 1.4231, 1.4046, 1.3918, 1.2424, 1.2424, 1.2336, 1.2336, 1.2331, 1.2243, 1.2243, 1.2116, 1.1942, 1.1908, 1.1877, 1.1848, 1.1841, 1.1699, 1.1601, 0.9179, -0.4945, -0.003, -0.4279, -0.4862, 0.6888, 0.3223, 0.3145, 0.423, 0.4191, 0.4177, 0.4169, 0.4152, 0.4152, 0.4143, 0.4141, 0.4129, 0.4128, 0.4124, 0.4122, 0.4112, 0.41, 0.4094, 0.4093, 0.4086, 0.4086, 0.4085, 0.408, 0.4079, 0.4079, 0.4078, 0.4061, 0.406, 0.4052, 0.4052, 0.4041, 0.404, 0.4029, 0.3917, 0.3562, 0.2545, 0.3359, -0.0171, -0.0328, -0.0805, -0.1779, 1.9797, 1.9745, 1.9739, 1.9736, 1.9734, 1.9698, 1.9688, 1.9682, 1.9678, 1.9677, 1.5386, 1.4473, 1.4142, 1.3949, 1.3712, 1.3344, 1.3276, 1.3183, 1.3, 1.2653, 1.1983, 1.1599, 1.1599, 1.1599, 1.1382, 1.1168, 1.0713, 1.0652, 1.0491, 0.9846, 0.9394, 0.7532, 0.7083, -0.678, -0.3773, -0.502, 0.2801, 2.281, 2.2803, 2.2795, 2.2793, 2.2789, 2.2775, 2.2775, 2.2773, 2.277, 2.2659, 2.0306, 1.9535, 1.8957, 1.891, 1.8849, 1.8578, 1.8571, 1.8535, 1.8412, 1.7838, 1.7783, 1.7629, 1.7625, 1.7494, 1.7457, 1.7351, 1.6752, 1.6695, 1.6491, 1.6332, 1.6265, 1.3063, 0.4441, 0.6471, 0.7432, -0.4832, -1.2717, 1.365]}, \"token.table\": {\"Topic\": [3, 1, 3, 2, 3, 2, 4, 4, 3, 4, 2, 3, 4, 3, 3, 4, 2, 2, 1, 2, 4, 1, 2, 2, 2, 4, 2, 4, 3, 2, 1, 2, 1, 3, 2, 2, 2, 4, 2, 4, 1, 4, 4, 4, 2, 1, 2, 4, 2, 2, 3, 3, 2, 4, 4, 2, 2, 2, 2, 4, 3, 4, 2, 3, 2, 4, 1, 3, 4, 1, 3, 2, 4, 2, 4, 4, 2, 1, 3, 4, 2, 2, 3, 2, 2, 4, 4, 3, 2, 2, 4, 2, 2, 1, 4, 4, 2, 4, 4, 4, 3, 2, 3, 2, 3, 2, 3, 2, 2, 3, 2, 4, 1, 2, 1, 2, 2, 2, 1, 2, 1, 2, 1, 1, 3, 2, 3, 4, 2, 4, 3, 2, 3, 2, 3, 3, 1, 1, 2, 2, 2, 4, 2, 2, 4, 1, 1, 1, 2, 4, 1, 2, 2, 2, 1, 4], \"Freq\": [0.974145123065491, 0.4513643871383705, 0.5463884686411853, 0.8790438101869954, 0.08790438101869955, 0.41343975703981006, 0.41343975703981006, 0.8996304536382229, 0.7423848144737263, 0.9688262362998437, 0.880706717136239, 0.08807067171362391, 0.9694987978606713, 0.961598900893408, 0.9900470161529094, 0.7048150771847903, 0.99034822415102, 0.8911414705287326, 0.15359606034819462, 0.9215763620891677, 0.9780677163675593, 0.428934084999087, 0.428934084999087, 0.972804296919276, 0.4743819712982457, 0.4743819712982457, 0.4794925261688986, 0.4794925261688986, 0.9780151827537488, 0.9925479184069887, 0.36410549656878993, 0.6241808512607827, 0.4627608303325784, 0.5358283298587749, 1.0071870452192284, 0.9537648730893002, 0.42110636396543805, 0.8422127279308761, 0.6096756102366504, 0.6096756102366504, 0.560566663199218, 0.9845826624904128, 0.9683646694191645, 0.4918295617773672, 0.9654433415888201, 0.46904014366584784, 0.46904014366584784, 0.46904014366584784, 0.9951338686341784, 0.549498926536655, 0.4426519130434165, 0.7425221122654794, 0.9979545033471102, 0.62155560294033, 0.5555355496898454, 1.005414707561013, 0.7312838004640656, 0.5246105131301326, 0.8260939599170554, 0.9415526482892055, 0.9826258139577669, 0.6978573661801356, 0.6237570957682443, 0.31187854788412217, 0.8416327397958833, 0.1578061387117281, 0.2739178095964878, 0.35000609003995664, 0.3652237461286504, 0.3588660069936786, 0.623293591094284, 0.8221549226076477, 0.2740516408692159, 0.5852725396335164, 0.5852725396335164, 0.9610338935541104, 0.9831463432799029, 0.6975511257597018, 0.4787349816709653, 0.5004956626560092, 0.991957690875258, 0.9667699391725236, 0.7284210271181429, 0.9829656256698427, 0.9777263250770348, 0.024443158126925872, 0.6151764045444986, 0.9904274001088548, 0.9834561156757113, 0.9356771509868194, 0.05057714329658483, 0.9573577448634832, 0.9988670620447263, 0.9807100792183305, 0.615485843525831, 0.9766625486235007, 0.3154874321379404, 0.6309748642758808, 0.6267776248944528, 0.6207292994900471, 0.6353862653265446, 0.9537735311783513, 0.9768074097550797, 0.987968186754168, 0.648221766826731, 0.9973524183493474, 0.9521450679950757, 1.0000332382135868, 0.9668654303509261, 0.7362293887474901, 0.8186895997606782, 0.1754334856630025, 0.05221641735744545, 0.9398955124340181, 0.3520478516635377, 0.6370389696768777, 0.9727517007508755, 0.817036991334999, 0.6401569242912305, 0.32007846214561525, 0.8723886689793158, 0.4361943344896579, 0.7933932517907801, 0.7038951163826836, 0.29126694471007597, 0.5955215551296474, 0.3917904967958207, 0.9753760076115352, 0.9832100519380863, 0.4912366986217572, 0.9913647735439882, 0.9240549588509037, 0.07108115068083874, 0.7807903683888427, 0.26026345612961427, 0.9925285384368349, 0.9879056443909101, 0.9884917912430368, 0.997600419699201, 1.0058759231371153, 0.9881103427214809, 0.7129504503927033, 0.9954347353712174, 0.979001088637282, 0.9610332540384143, 0.9503059689272015, 0.988031283253419, 0.11669170564460736, 0.9335336451568589, 0.6284911878056597, 0.960763860871757, 0.7270094502538991, 0.9877081393394515, 1.0084227804515704, 0.9607728860774513, 0.7230336612655639], \"Term\": [\"abre\", \"activ\", \"activ\", \"actualiz\", \"actualiz\", \"agend\", \"agend\", \"agend_cit\", \"agg\", \"agreg\", \"agreg_numer\", \"agreg_numer\", \"ala\", \"amig\", \"aplic\", \"aplicacion\", \"app\", \"asoci\", \"atencion\", \"atencion\", \"averigu\", \"baj\", \"baj\", \"benefici\", \"borr\", \"borr\", \"caid\", \"caid\", \"cambi\", \"carg\", \"clar\", \"clar\", \"clar_vide\", \"clar_vide\", \"client\", \"cobr\", \"compart\", \"compart\", \"condicion\", \"condicion\", \"conexion\", \"consult\", \"contact\", \"contrat\", \"cuent\", \"cumpl\", \"cumpl\", \"cumpl\", \"dat\", \"dej\", \"dej\", \"dej\\u00e0\", \"demor\", \"derech\", \"destin\", \"dic\", \"dij\", \"direct\", \"driv\", \"eleg\", \"elej\", \"equip\", \"escrib\", \"escrib\", \"factur\", \"factur\", \"famili\", \"famili\", \"famili\", \"famili_amig\", \"famili_amig\", \"fij\", \"fij\", \"financi\", \"financi\", \"form\", \"funcion\", \"gb\", \"grup\", \"grup\", \"hac\", \"hog\", \"inclu\", \"inform\", \"ingres\", \"ingres\", \"inici\", \"inscrib\", \"internet\", \"lent\", \"lent\", \"line\", \"llam\", \"mal\", \"modific\", \"movil\", \"muestr\", \"muestr\", \"n\", \"naveg\", \"netflix\", \"ningun\", \"numer\", \"ofrec\", \"ok\", \"opcion\", \"oper\", \"pag\", \"pas\", \"pasatiemp\", \"permit\", \"permit\", \"pesim\", \"pesim\", \"plan\", \"plan\", \"pod\", \"pospag\", \"problem\", \"problem\", \"product\", \"product\", \"public\", \"pud\", \"pud\", \"pued\", \"pued\", \"quier\", \"realiz\", \"recarg\", \"refer\", \"registr\", \"registr\", \"sal_error\", \"sal_error\", \"se\", \"servici\", \"se\\u00f1al\", \"si\", \"siempr\", \"sirv\", \"sistem\", \"sol\", \"solucion\", \"sub\", \"tampoc\", \"tiend\", \"trat\", \"trat\", \"turn\", \"usar\", \"usuari\", \"vec\", \"ver\", \"visit\", \"xxx\"]}, \"R\": 30, \"lambda.step\": 0.01, \"plot.opts\": {\"xlab\": \"PC1\", \"ylab\": \"PC2\"}, \"topic.order\": [1, 2, 3, 4]};\n",
       "\n",
       "function LDAvis_load_lib(url, callback){\n",
       "  var s = document.createElement('script');\n",
       "  s.src = url;\n",
       "  s.async = true;\n",
       "  s.onreadystatechange = s.onload = callback;\n",
       "  s.onerror = function(){console.warn(\"failed to load library \" + url);};\n",
       "  document.getElementsByTagName(\"head\")[0].appendChild(s);\n",
       "}\n",
       "\n",
       "if(typeof(LDAvis) !== \"undefined\"){\n",
       "   // already loaded: just create the visualization\n",
       "   !function(LDAvis){\n",
       "       new LDAvis(\"#\" + \"ldavis_el1752421437211169446586092836\", ldavis_el1752421437211169446586092836_data);\n",
       "   }(LDAvis);\n",
       "}else if(typeof define === \"function\" && define.amd){\n",
       "   // require.js is available: use it to load d3/LDAvis\n",
       "   require.config({paths: {d3: \"https://d3js.org/d3.v5\"}});\n",
       "   require([\"d3\"], function(d3){\n",
       "      window.d3 = d3;\n",
       "      LDAvis_load_lib(\"https://cdn.jsdelivr.net/gh/bmabey/pyLDAvis@3.3.1/pyLDAvis/js/ldavis.v3.0.0.js\", function(){\n",
       "        new LDAvis(\"#\" + \"ldavis_el1752421437211169446586092836\", ldavis_el1752421437211169446586092836_data);\n",
       "      });\n",
       "    });\n",
       "}else{\n",
       "    // require.js not available: dynamically load d3 & LDAvis\n",
       "    LDAvis_load_lib(\"https://d3js.org/d3.v5.js\", function(){\n",
       "         LDAvis_load_lib(\"https://cdn.jsdelivr.net/gh/bmabey/pyLDAvis@3.3.1/pyLDAvis/js/ldavis.v3.0.0.js\", function(){\n",
       "                 new LDAvis(\"#\" + \"ldavis_el1752421437211169446586092836\", ldavis_el1752421437211169446586092836_data);\n",
       "            })\n",
       "         });\n",
       "}\n",
       "</script>"
      ],
      "text/plain": [
       "<IPython.core.display.HTML object>"
      ]
     },
     "execution_count": 58,
     "metadata": {},
     "output_type": "execute_result"
    }
   ],
   "source": [
    "pyLDAvis.display(modelosAccion['Pre_Elegidosdis'])"
   ]
  },
  {
   "cell_type": "code",
   "execution_count": 59,
   "metadata": {},
   "outputs": [
    {
     "data": {
      "text/html": [
       "\n",
       "<link rel=\"stylesheet\" type=\"text/css\" href=\"https://cdn.jsdelivr.net/gh/bmabey/pyLDAvis@3.3.1/pyLDAvis/js/ldavis.v1.0.0.css\">\n",
       "\n",
       "\n",
       "<div id=\"ldavis_el1752421437127334406257291018\"></div>\n",
       "<script type=\"text/javascript\">\n",
       "\n",
       "var ldavis_el1752421437127334406257291018_data = {\"mdsDat\": {\"x\": [-0.021133782706503856, 0.039886863501474995, -0.16822583959987827, 0.14947275880490715], \"y\": [-0.10205795631312344, 0.1723167904506996, -0.004632487535163753, -0.0656263466024124], \"topics\": [1, 2, 3, 4], \"cluster\": [1, 1, 1, 1], \"Freq\": [27.79172006231228, 23.891664773123598, 33.52510724433047, 14.791507920233652]}, \"tinfo\": {\"Term\": [\"pag\", \"se\\u00f1al\", \"dat\", \"mal\", \"numer\", \"ingres\", \"registr\", \"pud\", \"ningun\", \"lent\", \"line\", \"dej\", \"cuent\", \"cambi\", \"clar\", \"recarg\", \"error\", \"app\", \"dias\", \"factur\", \"demor\", \"plan\", \"actualiz\", \"realiz\", \"opcion\", \"consum\", \"llam\", \"wifi\", \"servici\", \"siempr\", \"ningun\", \"dificil\", \"rap\", \"usted\", \"demasi\", \"abrirl\", \"basur\", \"gan\", \"naveg\", \"present\", \"wi\", \"fi\", \"tard\", \"ingres\", \"anterior\", \"cuant\", \"utiliz\", \"maner\", \"rat\", \"conect\", \"fall\", \"brind\", \"pag_factur\", \"tod\", \"cuent\", \"actualiz\", \"social\", \"constant\", \"propi\", \"siend\", \"pod\", \"dej\", \"cobertur\", \"dat\", \"si\", \"funcion\", \"consult\", \"permit\", \"app\", \"siempr\", \"consum\", \"pued\", \"aplic\", \"aparec\", \"wifi\", \"sald\", \"da\", \"lent\", \"pud\", \"recarg\", \"internet\", \"asesor\", \"tarjet\", \"tecnic\", \"error\", \"realiz\", \"envi\", \"turn\", \"diner\", \"cuot\", \"mil\", \"abre\", \"adelant\", \"nos\", \"cumpl\", \"play\", \"vencimient\", \"agend\", \"credit\", \"porqu\", \"juli\", \"inici\", \"visit\", \"bloque\", \"pag\", \"sesion\", \"tecl\", \"habilit\", \"minim\", \"blanc\", \"guard\", \"story\", \"pud\", \"nunc\", \"factur\", \"mes\", \"recarg\", \"clar\", \"respond\", \"servici\", \"hog\", \"opcion\", \"habl\", \"pes\", \"atencion\", \"vec\", \"hoy\", \"fech\", \"sal\", \"asesor\", \"celul\", \"demor_carg\", \"llam\", \"paquet\", \"pued\", \"hac\", \"necesit\", \"dej\", \"app\", \"funcion\", \"siempr\", \"sald\", \"mal\", \"se\\u00f1al\", \"dias\", \"bien\", \"mejor\", \"rob\", \"ultim\", \"cae\", \"quej\", \"mal\", \"activ\", \"hag\", \"ahor\", \"conoc\", \"nadi\", \"veo\", \"pantallaz\", \"total\", \"exact\", \"mas\", \"veloc\", \"gig\", \"cent\", \"pesim\", \"segund\", \"real\", \"muestr\", \"plan\", \"lent\", \"complic\", \"recib\", \"carg\", \"llam\", \"sald\", \"compr\", \"internet\", \"consum\", \"qued\", \"prepag\", \"cobr\", \"paquet\", \"dat\", \"ver\", \"facil\", \"compr_paquet\", \"consult\", \"app\", \"servici\", \"clar\", \"funcion\", \"aplic\", \"pag\", \"recarg\", \"numer\", \"registr\", \"cambi_nombr\", \"ok\", \"pagin\", \"dij\", \"volv\", \"ven\", \"movil\", \"dificult\", \"abrir\", \"pospag\", \"empeor\", \"eleg\", \"menu\", \"aves\", \"caid\", \"coincid\", \"final\", \"personal\", \"adquir\", \"ser\", \"trabaj\", \"cos\", \"line\", \"cad\", \"cambi\", \"uso\", \"tig\", \"proces\", \"demor\", \"asoci\", \"wifi\", \"pas\", \"app\", \"quier\", \"da\", \"pued\", \"vez\", \"siempr\", \"buen\", \"opcion\", \"hac\", \"permit\", \"red\", \"celul\", \"factur\", \"clar\", \"hog\"], \"Freq\": [44.0, 38.0, 55.0, 39.0, 13.0, 30.0, 11.0, 24.0, 16.0, 35.0, 11.0, 30.0, 23.0, 12.0, 29.0, 34.0, 13.0, 49.0, 14.0, 18.0, 16.0, 23.0, 17.0, 11.0, 18.0, 25.0, 22.0, 11.0, 26.0, 18.0, 16.13445669751338, 8.111571863024567, 5.525999498316111, 5.509488295143089, 4.641305493443346, 3.758047074675107, 3.7580222103761223, 3.7577523018674093, 3.7541322562323636, 3.7533562283745843, 3.753341506092291, 3.753341506092291, 3.753112819973999, 25.19487638273266, 2.873763985059244, 2.8737633307355863, 2.8722871765642966, 2.8718242425766243, 2.8694467575671463, 7.175650204683506, 9.927679236238308, 2.8407814924563084, 10.583231713553838, 5.526620451467065, 18.230807621610413, 13.411952058031693, 1.9895087041988242, 1.9895067412278518, 1.9895067412278518, 1.9895036331904787, 7.679579532467913, 21.04229766121567, 7.294614751822148, 32.95606054446769, 10.638590112271848, 13.948681976442254, 12.422606836027809, 9.360408106790896, 16.719461306725997, 8.173451905636748, 9.950316217492722, 11.265141002116591, 7.443742310923614, 6.928514122221726, 5.523326586175277, 9.634880523015157, 5.503577135221354, 7.630491517359598, 6.6591873072399395, 7.0649033083592405, 6.378362716948796, 5.646644348607178, 7.167514354846597, 4.5549555030053375, 11.316880191245914, 9.640084889215858, 3.692324447872978, 3.6923086978337434, 3.688342781704332, 3.6855558685119103, 3.6836731763219746, 3.6614940273219556, 2.8235221898676626, 2.8235221898676626, 2.8235185336085546, 2.823511221090339, 2.8235137523466443, 2.823506721079129, 2.823499127310212, 2.821002464840828, 2.8177894568369704, 2.816863017029135, 2.812010036189975, 2.775677226932066, 35.219326484134946, 1.9547190881102456, 1.9547189474848952, 1.9547189474848952, 1.9547179631074432, 1.9547159943525387, 1.9547151506004368, 1.9547140255976343, 17.33559793434906, 4.447282047282221, 12.17662308293363, 5.792612992358282, 18.981513034454085, 16.317215022476475, 3.543462108295086, 13.737852472079833, 9.94621727681591, 9.549300538064841, 5.245688379925705, 4.8686774407615605, 4.5609267366301545, 5.126026894339455, 4.502354590722295, 4.525136459973737, 5.4297427759198, 5.995322184822954, 5.138840676259603, 4.560250609945869, 6.44866568913757, 6.225681696166763, 6.907708457649506, 5.986574163030938, 4.558529918159489, 6.102356076452866, 6.206089209860326, 4.8930011263537905, 4.756222723127943, 4.832726851205791, 4.580399691388829, 37.96617580780143, 13.71407550594533, 11.047955090504182, 9.212856894644595, 8.33982051562096, 6.527221589236591, 5.641547179930465, 4.729274616518891, 34.50150457944214, 11.717726888794735, 3.836232396971881, 3.8304668851710844, 3.8288914232565947, 3.829015344860089, 3.73023325137392, 2.9335641524859133, 2.9335641524859133, 2.9335621792119726, 2.933561981884578, 2.933557048699726, 2.9335540887888145, 2.9288776268760524, 8.75969690202401, 2.890687672331627, 5.6404054436282065, 5.628231527376636, 18.105942379222355, 27.86396040140287, 3.4284557317202204, 4.739227810277265, 11.958418951021441, 15.40930094108106, 27.34093861817533, 11.17956456927273, 15.536679720520118, 15.556748705809603, 9.639187465453848, 6.578575648896177, 6.528585910839395, 12.52570205805506, 21.851271570899666, 9.778017548227282, 6.272090292274053, 5.467795673568469, 10.06589059038316, 13.226657109780357, 9.501739463748686, 9.452537851303937, 8.430141999757723, 7.514393711626481, 8.949840789668633, 8.041342309996605, 13.1518421414212, 10.735629182258796, 5.0638431757300255, 4.255498823435038, 3.4449277682207127, 3.4449120970240643, 3.4438638680926905, 3.439529563348545, 3.439409765756388, 2.634352185771801, 2.6334089538579715, 2.6316053732481426, 2.6313542858529533, 2.6302491182404233, 1.8237631957435338, 1.8237628474947194, 1.82376093212624, 1.8213608012973272, 1.8213559258139254, 1.8209134756952177, 1.820370033420331, 1.8181060678778522, 1.814490722811056, 4.237742312885906, 8.307234479568335, 3.380568253078436, 8.123428755322795, 2.567671940530296, 1.821833200814074, 1.8232302009330794, 7.848411791099903, 3.444917669005095, 5.062410480107543, 5.022043567034036, 13.209219616083374, 4.971966432268337, 5.066056645194415, 8.656761367127107, 3.8566619932487103, 5.697184837310127, 3.4437022806428046, 4.803676585700015, 5.183525497529458, 4.20230172754104, 3.7773476292692294, 3.444770011507785, 3.5951306161150276, 3.639621839897592, 3.4448511534815425], \"Total\": [44.0, 38.0, 55.0, 39.0, 13.0, 30.0, 11.0, 24.0, 16.0, 35.0, 11.0, 30.0, 23.0, 12.0, 29.0, 34.0, 13.0, 49.0, 14.0, 18.0, 16.0, 23.0, 17.0, 11.0, 18.0, 25.0, 22.0, 11.0, 26.0, 18.0, 16.783258101969718, 8.825645958458091, 6.172103974492579, 6.172063499085613, 5.287843775855442, 4.403564095045829, 4.403551443895346, 4.403559667293615, 4.403617887705297, 4.403217375603441, 4.403548212813782, 4.403548219901537, 4.403602184045782, 30.769786539459567, 3.5192868796012626, 3.519289237648665, 3.519312971676147, 3.519315379083159, 3.519038159267194, 8.845590097151893, 12.272642390299486, 3.517812364443974, 13.19255585460406, 6.983107816516538, 23.70346469017735, 17.741374649412045, 2.635024221341686, 2.635022603693653, 2.6350226141840665, 2.6350202959585545, 10.553705279006127, 30.5561829009329, 10.648536642605809, 55.24618776394204, 17.524070910426595, 27.478041225676456, 24.773299030043688, 19.95632303505679, 49.361427242450056, 18.85578548777356, 25.93811280243299, 32.81400843424959, 20.321499617474522, 17.59312892497148, 11.035757611095196, 42.01307387056336, 12.772794833119766, 35.916123859858814, 24.435863528665163, 34.29349210307585, 23.268477432585705, 14.970864516571448, 7.816917040118546, 5.2106578848852845, 13.04804784532433, 11.309006383231155, 4.341707843558615, 4.341702092746815, 4.341605897519365, 4.3418675004137866, 4.341981488443064, 4.342400678224134, 3.4729051902245107, 3.472905211990062, 3.472902473936464, 3.4729030558098684, 3.4729068403925147, 3.4728997639300125, 3.4728930212352513, 3.472967290497653, 3.4730019717837752, 3.473114511103713, 3.473194696264549, 3.4729996993392396, 44.63237434572144, 2.604101528913455, 2.6041015002807324, 2.60410152362872, 2.6041007294599785, 2.6040992300316366, 2.604098599836233, 2.6040976432765905, 24.435863528665163, 6.115083034159653, 18.970742559993678, 8.652193763575006, 34.29349210307585, 29.636221303244678, 5.250044302940651, 26.45827518264859, 18.970440040620534, 18.033252969685762, 8.772244282173096, 7.90271429441768, 7.734408110939072, 9.643517946547973, 7.809002734287205, 7.919787168365337, 12.305791129992127, 14.970864516571448, 11.13805489544389, 8.821097654474299, 22.2869708829413, 22.232333568255168, 32.81400843424959, 22.534938293708656, 9.723537025527369, 30.5561829009329, 49.361427242450056, 27.478041225676456, 18.85578548777356, 42.01307387056336, 39.51098536371443, 38.77206634930578, 14.402839283494325, 11.698153008762448, 9.889227171041306, 8.9901134012571, 7.183598984951336, 6.282487717464143, 5.379409135261846, 39.51098536371443, 13.480298897028339, 4.477147877000652, 4.476901482042878, 4.476371859314348, 4.4768442538661875, 4.467994806900141, 3.574479166279014, 3.574479182539246, 3.5744773262121, 3.5744772104415907, 3.5744726689923514, 3.5744767231384516, 3.5742775509141116, 10.74340933079731, 3.5700023397830645, 7.151167546669499, 7.165223093816891, 23.337049070675395, 35.916123859858814, 4.461765357909707, 6.190380096048031, 16.770498949242796, 22.2869708829413, 42.01307387056336, 15.90717095291616, 23.268477432585705, 25.93811280243299, 15.187079280123655, 9.62080907168403, 9.616363526111941, 22.232333568255168, 55.24618776394204, 18.477222032188937, 9.780742741185922, 8.045891235484524, 24.773299030043688, 49.361427242450056, 26.45827518264859, 29.636221303244678, 27.478041225676456, 20.321499617474522, 44.63237434572144, 34.29349210307585, 13.83805866710456, 11.404505100422702, 5.730199948930283, 4.919444478661536, 4.108874605638098, 4.108857363556112, 4.1089639455311975, 4.1094161749809075, 4.109460862824326, 3.298289228279978, 3.298380431665061, 3.2985786049277603, 3.2986049825447417, 3.298569421716433, 2.4877002495577765, 2.487700069752122, 2.48769865046085, 2.4878966163577334, 2.487901505528396, 2.487941181952552, 2.4880581028784827, 2.4880588532971366, 2.488504557618157, 5.823924864216855, 11.625264115261789, 5.018389603446871, 12.560531605285394, 4.208407390935576, 3.356654069383714, 3.3719168688789862, 16.095632341067876, 6.761587996700452, 11.035757611095196, 11.115136634556464, 49.361427242450056, 11.896384467963546, 12.772794833119766, 32.81400843424959, 8.549042654890298, 18.85578548777356, 7.719563509207637, 18.033252969685762, 22.534938293708656, 19.95632303505679, 14.735881051553196, 11.13805489544389, 18.970742559993678, 29.636221303244678, 18.970440040620534], \"Category\": [\"Default\", \"Default\", \"Default\", \"Default\", \"Default\", \"Default\", \"Default\", \"Default\", \"Default\", \"Default\", \"Default\", \"Default\", \"Default\", \"Default\", \"Default\", \"Default\", \"Default\", \"Default\", \"Default\", \"Default\", \"Default\", \"Default\", \"Default\", \"Default\", \"Default\", \"Default\", \"Default\", \"Default\", \"Default\", \"Default\", \"Topic1\", \"Topic1\", \"Topic1\", \"Topic1\", \"Topic1\", \"Topic1\", \"Topic1\", \"Topic1\", \"Topic1\", \"Topic1\", \"Topic1\", \"Topic1\", \"Topic1\", \"Topic1\", \"Topic1\", \"Topic1\", \"Topic1\", \"Topic1\", \"Topic1\", \"Topic1\", \"Topic1\", \"Topic1\", \"Topic1\", \"Topic1\", \"Topic1\", \"Topic1\", \"Topic1\", \"Topic1\", \"Topic1\", \"Topic1\", \"Topic1\", \"Topic1\", \"Topic1\", \"Topic1\", \"Topic1\", \"Topic1\", \"Topic1\", \"Topic1\", \"Topic1\", \"Topic1\", \"Topic1\", \"Topic1\", \"Topic1\", \"Topic1\", \"Topic1\", \"Topic1\", \"Topic1\", \"Topic1\", \"Topic1\", \"Topic1\", \"Topic1\", \"Topic1\", \"Topic2\", \"Topic2\", \"Topic2\", \"Topic2\", \"Topic2\", \"Topic2\", \"Topic2\", \"Topic2\", \"Topic2\", \"Topic2\", \"Topic2\", \"Topic2\", \"Topic2\", \"Topic2\", \"Topic2\", \"Topic2\", \"Topic2\", \"Topic2\", \"Topic2\", \"Topic2\", \"Topic2\", \"Topic2\", \"Topic2\", \"Topic2\", \"Topic2\", \"Topic2\", \"Topic2\", \"Topic2\", \"Topic2\", \"Topic2\", \"Topic2\", \"Topic2\", \"Topic2\", \"Topic2\", \"Topic2\", \"Topic2\", \"Topic2\", \"Topic2\", \"Topic2\", \"Topic2\", \"Topic2\", \"Topic2\", \"Topic2\", \"Topic2\", \"Topic2\", \"Topic2\", \"Topic2\", \"Topic2\", \"Topic2\", \"Topic2\", \"Topic2\", \"Topic2\", \"Topic2\", \"Topic2\", \"Topic2\", \"Topic2\", \"Topic2\", \"Topic2\", \"Topic2\", \"Topic2\", \"Topic2\", \"Topic3\", \"Topic3\", \"Topic3\", \"Topic3\", \"Topic3\", \"Topic3\", \"Topic3\", \"Topic3\", \"Topic3\", \"Topic3\", \"Topic3\", \"Topic3\", \"Topic3\", \"Topic3\", \"Topic3\", \"Topic3\", \"Topic3\", \"Topic3\", \"Topic3\", \"Topic3\", \"Topic3\", \"Topic3\", \"Topic3\", \"Topic3\", \"Topic3\", \"Topic3\", \"Topic3\", \"Topic3\", \"Topic3\", \"Topic3\", \"Topic3\", \"Topic3\", \"Topic3\", \"Topic3\", \"Topic3\", \"Topic3\", \"Topic3\", \"Topic3\", \"Topic3\", \"Topic3\", \"Topic3\", \"Topic3\", \"Topic3\", \"Topic3\", \"Topic3\", \"Topic3\", \"Topic3\", \"Topic3\", \"Topic3\", \"Topic3\", \"Topic3\", \"Topic3\", \"Topic4\", \"Topic4\", \"Topic4\", \"Topic4\", \"Topic4\", \"Topic4\", \"Topic4\", \"Topic4\", \"Topic4\", \"Topic4\", \"Topic4\", \"Topic4\", \"Topic4\", \"Topic4\", \"Topic4\", \"Topic4\", \"Topic4\", \"Topic4\", \"Topic4\", \"Topic4\", \"Topic4\", \"Topic4\", \"Topic4\", \"Topic4\", \"Topic4\", \"Topic4\", \"Topic4\", \"Topic4\", \"Topic4\", \"Topic4\", \"Topic4\", \"Topic4\", \"Topic4\", \"Topic4\", \"Topic4\", \"Topic4\", \"Topic4\", \"Topic4\", \"Topic4\", \"Topic4\", \"Topic4\", \"Topic4\", \"Topic4\", \"Topic4\", \"Topic4\", \"Topic4\", \"Topic4\", \"Topic4\", \"Topic4\"], \"logprob\": [30.0, 29.0, 28.0, 27.0, 26.0, 25.0, 24.0, 23.0, 22.0, 21.0, 20.0, 19.0, 18.0, 17.0, 16.0, 15.0, 14.0, 13.0, 12.0, 11.0, 10.0, 9.0, 8.0, 7.0, 6.0, 5.0, 4.0, 3.0, 2.0, 1.0, -3.7738, -4.4615, -4.8453, -4.8483, -5.0198, -5.2309, -5.2309, -5.2309, -5.2319, -5.2321, -5.2321, -5.2321, -5.2322, -3.3281, -5.4991, -5.4991, -5.4996, -5.4998, -5.5006, -4.5841, -4.2594, -5.5107, -4.1955, -4.8452, -3.6516, -3.9586, -5.8669, -5.8669, -5.8669, -5.8669, -4.5162, -3.5082, -4.5676, -3.0596, -4.1903, -3.9194, -4.0352, -4.3183, -3.7382, -4.4539, -4.2571, -4.133, -4.5474, -4.6191, -4.8458, -4.2894, -4.8494, -4.5226, -4.6588, -4.5996, -4.7018, -4.8237, -4.434, -4.8873, -3.9772, -4.1376, -5.0973, -5.0973, -5.0984, -5.0991, -5.0996, -5.1057, -5.3656, -5.3656, -5.3656, -5.3656, -5.3656, -5.3656, -5.3656, -5.3665, -5.3676, -5.3679, -5.3696, -5.3826, -2.8419, -5.7333, -5.7333, -5.7333, -5.7333, -5.7333, -5.7333, -5.7333, -3.5508, -4.9113, -3.904, -4.647, -3.4601, -3.6113, -5.1384, -3.7834, -4.1064, -4.1471, -4.7461, -4.8207, -4.886, -4.7692, -4.8989, -4.8939, -4.7117, -4.6126, -4.7667, -4.8862, -4.5397, -4.5749, -4.4709, -4.614, -4.8865, -4.5949, -4.578, -4.8157, -4.8441, -4.8281, -4.8818, -3.1056, -4.1239, -4.3401, -4.5217, -4.6213, -4.8663, -5.0121, -5.1885, -3.2013, -4.2812, -5.3978, -5.3993, -5.3997, -5.3997, -5.4258, -5.6661, -5.6661, -5.6661, -5.6661, -5.6661, -5.6661, -5.6677, -4.5721, -5.6808, -5.0124, -5.0145, -3.8461, -3.415, -5.5102, -5.1864, -4.2609, -4.0073, -3.4339, -4.3282, -3.9991, -3.9978, -4.4765, -4.8585, -4.8661, -4.2145, -3.658, -4.4622, -4.9062, -5.0434, -4.4332, -4.1601, -4.4908, -4.496, -4.6105, -4.7255, -4.5507, -4.6577, -3.3475, -3.5505, -4.3019, -4.4759, -4.6872, -4.6872, -4.6875, -4.6887, -4.6888, -4.9554, -4.9558, -4.9565, -4.9566, -4.957, -5.3232, -5.3232, -5.3232, -5.3245, -5.3245, -5.3247, -5.325, -5.3263, -5.3283, -4.48, -3.8069, -4.706, -3.8293, -4.9811, -5.3242, -5.3235, -3.8638, -4.6872, -4.3022, -4.3102, -3.3432, -4.3203, -4.3015, -3.7657, -4.5743, -4.1841, -4.6875, -4.3547, -4.2786, -4.4884, -4.595, -4.6872, -4.6445, -4.6322, -4.6872], \"loglift\": [30.0, 29.0, 28.0, 27.0, 26.0, 25.0, 24.0, 23.0, 22.0, 21.0, 20.0, 19.0, 18.0, 17.0, 16.0, 15.0, 14.0, 13.0, 12.0, 11.0, 10.0, 9.0, 8.0, 7.0, 6.0, 5.0, 4.0, 3.0, 2.0, 1.0, 1.241, 1.1961, 1.1699, 1.1669, 1.15, 1.1219, 1.1219, 1.1218, 1.1209, 1.1207, 1.1207, 1.1207, 1.1206, 1.0805, 1.0778, 1.0778, 1.0773, 1.0771, 1.0764, 1.0712, 1.0684, 1.0667, 1.0601, 1.0465, 1.0179, 1.0007, 0.9994, 0.9994, 0.9994, 0.9994, 0.9625, 0.9074, 0.9021, 0.7638, 0.7813, 0.6024, 0.5902, 0.5234, 0.1978, 0.4445, 0.3223, 0.2113, 0.2761, 0.3486, 0.5883, -0.1922, 0.4385, -0.2686, -0.0196, -0.2994, -0.0138, 0.3054, 1.3449, 1.2972, 1.2893, 1.272, 1.2696, 1.2696, 1.2686, 1.2678, 1.2672, 1.2611, 1.2246, 1.2246, 1.2246, 1.2246, 1.2246, 1.2246, 1.2246, 1.2237, 1.2226, 1.2222, 1.2205, 1.2075, 1.1948, 1.1448, 1.1448, 1.1448, 1.1448, 1.1448, 1.1448, 1.1448, 1.0884, 1.1132, 0.9883, 1.0304, 0.8402, 0.8349, 1.0385, 0.7762, 0.786, 0.7959, 0.9175, 0.9473, 0.9035, 0.7997, 0.881, 0.8719, 0.6135, 0.5165, 0.6581, 0.7719, 0.1915, 0.1588, -0.1266, 0.1061, 0.6741, -0.1793, -0.642, -0.2939, 0.0543, -0.7309, -0.7232, 1.0719, 1.0439, 1.0357, 1.022, 1.0178, 0.9971, 0.9853, 0.9641, 0.9573, 0.9527, 0.9384, 0.9369, 0.9366, 0.9366, 0.9124, 0.8953, 0.8953, 0.8953, 0.8953, 0.8953, 0.8953, 0.8937, 0.8887, 0.8818, 0.8556, 0.8514, 0.8391, 0.839, 0.8294, 0.8258, 0.7547, 0.7238, 0.6633, 0.7402, 0.689, 0.5817, 0.6383, 0.7128, 0.7056, 0.5191, 0.1653, 0.4565, 0.6486, 0.7066, 0.1923, -0.2241, 0.0688, -0.0498, -0.0887, 0.098, -0.5139, -0.3575, 1.8603, 1.8507, 1.7875, 1.7661, 1.7349, 1.7349, 1.7345, 1.7332, 1.7331, 1.6864, 1.686, 1.6852, 1.6851, 1.6847, 1.6007, 1.6007, 1.6007, 1.5993, 1.5993, 1.599, 1.5987, 1.5974, 1.5952, 1.5932, 1.5751, 1.5161, 1.4753, 1.417, 1.3, 1.2962, 1.1929, 1.2368, 1.1318, 1.1166, 0.5929, 1.0387, 0.9864, 0.5786, 1.1151, 0.7143, 1.1039, 0.5883, 0.4415, 0.3532, 0.5499, 0.7376, 0.2478, -0.186, 0.2051]}, \"token.table\": {\"Topic\": [2, 4, 1, 1, 3, 1, 3, 2, 4, 2, 3, 1, 1, 2, 3, 4, 1, 2, 3, 4, 1, 2, 3, 4, 1, 2, 3, 1, 4, 2, 3, 4, 4, 1, 3, 2, 2, 1, 3, 4, 3, 4, 3, 4, 2, 3, 4, 4, 2, 3, 4, 2, 3, 4, 3, 2, 3, 4, 1, 3, 3, 4, 4, 2, 3, 2, 3, 4, 1, 3, 1, 3, 3, 1, 1, 3, 4, 1, 3, 3, 4, 2, 1, 1, 2, 4, 2, 2, 1, 2, 4, 1, 3, 1, 2, 4, 1, 1, 2, 3, 4, 2, 3, 3, 1, 4, 4, 2, 4, 4, 2, 1, 2, 3, 2, 3, 2, 3, 4, 1, 2, 4, 2, 3, 1, 4, 1, 2, 3, 1, 3, 2, 2, 1, 2, 3, 1, 2, 3, 4, 3, 1, 2, 4, 1, 2, 3, 4, 1, 2, 4, 2, 1, 2, 3, 2, 1, 3, 1, 4, 2, 3, 2, 3, 1, 3, 3, 4, 1, 2, 4, 2, 2, 4, 1, 3, 3, 1, 2, 3, 1, 2, 4, 2, 3, 4, 2, 3, 4, 2, 3, 1, 3, 4, 4, 3, 1, 2, 3, 2, 3, 4, 1, 2, 3, 4, 4, 2, 3, 2, 3, 1, 3, 2, 1, 2, 2, 4, 3, 4, 1, 1, 4, 1, 1, 2, 1, 2, 3, 4, 1, 2, 3, 3, 1, 2, 4, 1, 1, 2, 3, 1, 2, 1, 2, 3, 3, 4, 1, 2, 3, 4, 4, 2, 3, 3, 1, 2, 3, 1, 2, 3, 3, 4, 1, 2, 3, 2, 3, 1, 3, 4, 1, 2, 4, 1, 1, 2, 1, 2, 2, 2, 2, 4, 1, 4, 3, 4, 2, 3, 3, 4, 1, 1, 1, 2, 3, 3, 4, 2, 3, 1, 3, 4, 1, 3, 4, 2, 4, 1, 1, 4], \"Freq\": [0.9211494508230959, 0.9095372902408243, 0.9083551218205604, 0.07418233138884218, 0.8901879766661062, 0.7327504354591161, 0.22546167244895882, 0.8638300891266372, 0.8038397486321406, 0.8638314388334467, 0.8934751001433114, 0.8524454250629042, 0.3978826068888907, 0.2273614896507947, 0.28420186206349335, 0.056840372412698674, 0.3444627675991332, 0.19683586719950466, 0.3936717343990093, 0.049208966799876165, 0.3443984696086799, 0.12155240103835761, 0.26336353558310815, 0.26336353558310815, 0.4007784582753067, 0.4007784582753067, 0.20038922913765336, 0.44368275639745464, 0.44368275639745464, 0.6464618789546813, 0.12929237579093628, 0.25858475158187255, 0.8039554383255224, 0.9083577314726753, 0.9403193813382762, 0.7680198883879331, 0.8638065821228748, 0.8528027334039405, 0.5181640121528807, 0.38862300911466047, 0.19926711136838637, 0.5978013341051591, 0.9550356912471345, 0.8039558970012292, 0.07961446469186115, 0.23884339407558344, 0.6369157175348892, 0.8725699006250913, 0.11925703618319011, 0.7155422170991407, 0.17888555427478517, 0.4489114164848738, 0.17956456659394954, 0.2693468498909243, 0.8393304541312855, 0.5398798934683439, 0.3036824400759434, 0.13496997336708597, 0.65736732050039, 0.2817288516430243, 0.7279258922556787, 0.31196823953814806, 0.8038919249498352, 0.2241265328368792, 0.6723795985106376, 0.12572945911751535, 0.6915120251463345, 0.12572945911751535, 0.24857407855322072, 0.6214351963830518, 0.7913547794006262, 0.11305068277151803, 0.8935808118078656, 0.7590067717811955, 0.4843924898919221, 0.4036604082432684, 0.08073208164865368, 0.3855330600251689, 0.6168528960402703, 0.171705511886694, 0.686822047546776, 0.863833115980333, 0.8524448538945277, 0.7593826571462843, 0.16875170158806316, 0.04218792539701579, 0.8638307647607396, 0.921262567229146, 0.4697484049804075, 0.15658280166013583, 0.39145700415033957, 0.5973262832361144, 0.3982175221574096, 0.6872586169576455, 0.19635960484504156, 0.09817980242252078, 0.9455650000157435, 0.24851462280199033, 0.12425731140099516, 0.12425731140099516, 0.49702924560398065, 0.5668228825767352, 0.4534583060613882, 0.9720305645598657, 0.9064492318925584, 0.9095624405154024, 0.7301299934645519, 0.9213180777844101, 0.9094851787108758, 0.9094753739459946, 0.9212964446547054, 0.0766398170710527, 0.8430379877815797, 0.8392835444781299, 0.3067251720431457, 0.6134503440862914, 0.632552993750815, 0.15813824843770374, 0.21085099791693832, 0.8148204503949513, 0.08148204503949513, 0.08148204503949513, 0.6313300968455207, 0.3787980581073124, 0.9083583965135824, 0.8038903451586712, 0.5094977434897325, 0.18196347981776162, 0.2911415677084186, 0.9083560351660596, 0.8392836860792169, 0.7680200742497908, 0.7680192119441923, 0.11399591345537358, 0.5699795672768679, 0.22799182691074715, 0.22187768765250662, 0.266253225183008, 0.266253225183008, 0.22187768765250662, 0.893425928714174, 0.2635679504162122, 0.5271359008324245, 0.15814077024972734, 0.12805732486291396, 0.6402866243145698, 0.12805732486291396, 0.12805732486291396, 0.8124853244574732, 0.12999765191319573, 0.03249941297829893, 0.8637780270154805, 0.2578595878214818, 0.04297659797024696, 0.6876255675239513, 0.8638060169194676, 0.22274118530204468, 0.7795941485571564, 0.2580586531416145, 0.6881564083776387, 0.2692155893016609, 0.6730389732541523, 0.12654708441141113, 0.8858295908798779, 0.8524385219438761, 0.8392835716609255, 0.9100812272120479, 0.8039553802173425, 0.23115524855902192, 0.6934657456770658, 0.11557762427951096, 0.9212383817495982, 0.7680194461658736, 0.7300227694438188, 0.13956299572345948, 0.837377974340757, 0.8934865215705491, 0.9083440257538739, 0.5142161732786551, 0.5142161732786551, 0.9533309863191705, 0.8638300837128016, 0.9394381331033977, 0.6541203083679284, 0.1635300770919821, 0.8130999378792269, 0.5545311218563943, 0.16635933655691829, 0.27726556092819715, 0.7841841379284626, 0.20164734975303328, 0.8338035571902557, 0.07580032338093234, 0.07580032338093234, 0.7301269296180206, 0.8392831124325619, 0.13493860150981196, 0.2698772030196239, 0.5847339398758519, 0.0899674050691419, 0.44983702534570946, 0.44983702534570946, 0.45098488254524227, 0.15032829418174742, 0.15032829418174742, 0.20043772557566325, 0.8038775251231572, 0.6326940104024639, 0.25307760416098557, 0.18616064402077218, 0.8377228980934748, 0.21425159560052703, 0.7713057441618973, 0.863830620028756, 0.7580276110148665, 0.18950690275371662, 0.8638146429447425, 0.9094826467128257, 0.7275895351257311, 0.3118240864824562, 0.9084266477877027, 0.2965672164783991, 0.5931344329567982, 0.7590067687594776, 0.28646419602845047, 0.6956987617833796, 0.3352226846056016, 0.21332352656720102, 0.18284873705760088, 0.27427310558640133, 0.263381781725145, 0.06584544543128625, 0.6584544543128624, 0.9294701098723218, 0.4202957641008313, 0.1681183056403325, 0.4202957641008313, 0.9721158335627799, 0.8525056746257964, 0.13983730537340414, 0.8390238322404248, 0.08842509820162334, 0.8842509820162333, 0.2041203613490315, 0.554040980804514, 0.2332804129703217, 0.8077048456510811, 0.16154096913021623, 0.33930784202909864, 0.13572313681163947, 0.27144627362327894, 0.27144627362327894, 0.9645311131994927, 0.7618983325073129, 0.19047458312682822, 0.8898664169109757, 0.4063127634121642, 0.4063127634121642, 0.1625251053648657, 0.23802114624625317, 0.11901057312312659, 0.6426570948648836, 0.8403355836966478, 0.8038395061875773, 0.11338607597397009, 0.5291350212118604, 0.3779535865799003, 0.7680192103855826, 0.9800870466291357, 0.6277080283585901, 0.22825746485766912, 0.17119309864325183, 0.42427296413545584, 0.2651706025846599, 0.31820472310159187, 0.7590074365148106, 0.7590063058250189, 0.7680203563655592, 0.9083472649940928, 0.8954937047526659, 0.7680192188301386, 0.9595717298008863, 0.29791571586749815, 0.5958314317349963, 0.8592162913207099, 0.1432027152201183, 0.8392831086146804, 0.8036955342827569, 0.9212976649600952, 0.9744419217531558, 0.23761958078343, 0.7128587423502901, 0.9721222085432036, 0.8524391050595272, 0.3110897928150681, 0.5184829880251135, 0.1036965976050227, 0.8392846379898896, 0.730030708075932, 0.8638296786737113, 0.8952561882620378, 0.2706034484669591, 0.5412068969339182, 0.16236206908017545, 0.1169721617224557, 0.35091648516736706, 0.4678886468898228, 0.8637580850928185, 0.7301110547009598, 0.9083583979756354, 0.5436871859135148, 0.45307265492792903], \"Term\": [\"abre\", \"abrir\", \"abrirl\", \"activ\", \"activ\", \"actualiz\", \"actualiz\", \"adelant\", \"adquir\", \"agend\", \"ahor\", \"anterior\", \"aparec\", \"aparec\", \"aparec\", \"aparec\", \"aplic\", \"aplic\", \"aplic\", \"aplic\", \"app\", \"app\", \"app\", \"app\", \"asesor\", \"asesor\", \"asesor\", \"asoci\", \"asoci\", \"atencion\", \"atencion\", \"atencion\", \"aves\", \"basur\", \"bien\", \"blanc\", \"bloque\", \"brind\", \"buen\", \"buen\", \"cad\", \"cad\", \"cae\", \"caid\", \"cambi\", \"cambi\", \"cambi\", \"cambi_nombr\", \"carg\", \"carg\", \"carg\", \"celul\", \"celul\", \"celul\", \"cent\", \"clar\", \"clar\", \"clar\", \"cobertur\", \"cobertur\", \"cobr\", \"cobr\", \"coincid\", \"complic\", \"complic\", \"compr\", \"compr\", \"compr\", \"compr_paquet\", \"compr_paquet\", \"conect\", \"conect\", \"conoc\", \"constant\", \"consult\", \"consult\", \"consult\", \"consum\", \"consum\", \"cos\", \"cos\", \"credit\", \"cuant\", \"cuent\", \"cuent\", \"cuent\", \"cumpl\", \"cuot\", \"da\", \"da\", \"da\", \"dat\", \"dat\", \"dej\", \"dej\", \"dej\", \"demasi\", \"demor\", \"demor\", \"demor\", \"demor\", \"demor_carg\", \"demor_carg\", \"dias\", \"dificil\", \"dificult\", \"dij\", \"diner\", \"eleg\", \"empeor\", \"envi\", \"error\", \"error\", \"exact\", \"facil\", \"facil\", \"factur\", \"factur\", \"factur\", \"fall\", \"fall\", \"fall\", \"fech\", \"fech\", \"fi\", \"final\", \"funcion\", \"funcion\", \"funcion\", \"gan\", \"gig\", \"guard\", \"habilit\", \"habl\", \"habl\", \"habl\", \"hac\", \"hac\", \"hac\", \"hac\", \"hag\", \"hog\", \"hog\", \"hog\", \"hoy\", \"hoy\", \"hoy\", \"hoy\", \"ingres\", \"ingres\", \"ingres\", \"inici\", \"internet\", \"internet\", \"internet\", \"juli\", \"lent\", \"lent\", \"line\", \"line\", \"llam\", \"llam\", \"mal\", \"mal\", \"maner\", \"mas\", \"mejor\", \"menu\", \"mes\", \"mes\", \"mes\", \"mil\", \"minim\", \"movil\", \"muestr\", \"muestr\", \"nadi\", \"naveg\", \"necesit\", \"necesit\", \"ningun\", \"nos\", \"numer\", \"nunc\", \"nunc\", \"ok\", \"opcion\", \"opcion\", \"opcion\", \"pag\", \"pag\", \"pag_factur\", \"pag_factur\", \"pag_factur\", \"pagin\", \"pantallaz\", \"paquet\", \"paquet\", \"paquet\", \"pas\", \"pas\", \"pas\", \"permit\", \"permit\", \"permit\", \"permit\", \"personal\", \"pes\", \"pes\", \"pesim\", \"pesim\", \"plan\", \"plan\", \"play\", \"pod\", \"pod\", \"porqu\", \"pospag\", \"prepag\", \"prepag\", \"present\", \"proces\", \"proces\", \"propi\", \"pud\", \"pud\", \"pued\", \"pued\", \"pued\", \"pued\", \"qued\", \"qued\", \"qued\", \"quej\", \"quier\", \"quier\", \"quier\", \"rap\", \"rat\", \"real\", \"real\", \"realiz\", \"realiz\", \"recarg\", \"recarg\", \"recarg\", \"recib\", \"recib\", \"red\", \"red\", \"red\", \"red\", \"registr\", \"respond\", \"respond\", \"rob\", \"sal\", \"sal\", \"sal\", \"sald\", \"sald\", \"sald\", \"segund\", \"ser\", \"servici\", \"servici\", \"servici\", \"sesion\", \"se\\u00f1al\", \"si\", \"si\", \"si\", \"siempr\", \"siempr\", \"siempr\", \"siend\", \"social\", \"story\", \"tard\", \"tarjet\", \"tecl\", \"tecnic\", \"tig\", \"tig\", \"tod\", \"tod\", \"total\", \"trabaj\", \"turn\", \"ultim\", \"uso\", \"uso\", \"usted\", \"utiliz\", \"vec\", \"vec\", \"vec\", \"veloc\", \"ven\", \"vencimient\", \"veo\", \"ver\", \"ver\", \"ver\", \"vez\", \"vez\", \"vez\", \"visit\", \"volv\", \"wi\", \"wifi\", \"wifi\"]}, \"R\": 30, \"lambda.step\": 0.01, \"plot.opts\": {\"xlab\": \"PC1\", \"ylab\": \"PC2\"}, \"topic.order\": [1, 2, 3, 4]};\n",
       "\n",
       "function LDAvis_load_lib(url, callback){\n",
       "  var s = document.createElement('script');\n",
       "  s.src = url;\n",
       "  s.async = true;\n",
       "  s.onreadystatechange = s.onload = callback;\n",
       "  s.onerror = function(){console.warn(\"failed to load library \" + url);};\n",
       "  document.getElementsByTagName(\"head\")[0].appendChild(s);\n",
       "}\n",
       "\n",
       "if(typeof(LDAvis) !== \"undefined\"){\n",
       "   // already loaded: just create the visualization\n",
       "   !function(LDAvis){\n",
       "       new LDAvis(\"#\" + \"ldavis_el1752421437127334406257291018\", ldavis_el1752421437127334406257291018_data);\n",
       "   }(LDAvis);\n",
       "}else if(typeof define === \"function\" && define.amd){\n",
       "   // require.js is available: use it to load d3/LDAvis\n",
       "   require.config({paths: {d3: \"https://d3js.org/d3.v5\"}});\n",
       "   require([\"d3\"], function(d3){\n",
       "      window.d3 = d3;\n",
       "      LDAvis_load_lib(\"https://cdn.jsdelivr.net/gh/bmabey/pyLDAvis@3.3.1/pyLDAvis/js/ldavis.v3.0.0.js\", function(){\n",
       "        new LDAvis(\"#\" + \"ldavis_el1752421437127334406257291018\", ldavis_el1752421437127334406257291018_data);\n",
       "      });\n",
       "    });\n",
       "}else{\n",
       "    // require.js not available: dynamically load d3 & LDAvis\n",
       "    LDAvis_load_lib(\"https://d3js.org/d3.v5.js\", function(){\n",
       "         LDAvis_load_lib(\"https://cdn.jsdelivr.net/gh/bmabey/pyLDAvis@3.3.1/pyLDAvis/js/ldavis.v3.0.0.js\", function(){\n",
       "                 new LDAvis(\"#\" + \"ldavis_el1752421437127334406257291018\", ldavis_el1752421437127334406257291018_data);\n",
       "            })\n",
       "         });\n",
       "}\n",
       "</script>"
      ],
      "text/plain": [
       "<IPython.core.display.HTML object>"
      ]
     },
     "execution_count": 59,
     "metadata": {},
     "output_type": "execute_result"
    }
   ],
   "source": [
    "pyLDAvis.display(modelosAccion['Pre_Consulta_Saldosdis'])"
   ]
  },
  {
   "cell_type": "code",
   "execution_count": 60,
   "metadata": {},
   "outputs": [
    {
     "data": {
      "text/html": [
       "\n",
       "<link rel=\"stylesheet\" type=\"text/css\" href=\"https://cdn.jsdelivr.net/gh/bmabey/pyLDAvis@3.3.1/pyLDAvis/js/ldavis.v1.0.0.css\">\n",
       "\n",
       "\n",
       "<div id=\"ldavis_el1752421437230616483398420014\"></div>\n",
       "<script type=\"text/javascript\">\n",
       "\n",
       "var ldavis_el1752421437230616483398420014_data = {\"mdsDat\": {\"x\": [-0.2155340368253501, 0.23101083981526235, -0.02996005480264625, 0.014483251812734315], \"y\": [0.12014041312658502, 0.10293586625003842, -0.12028621748217767, -0.10279006189444581], \"topics\": [1, 2, 3, 4], \"cluster\": [1, 1, 1, 1], \"Freq\": [36.23736170810946, 25.714046725894434, 17.460610651536356, 20.58798091445975]}, \"tinfo\": {\"Term\": [\"equip\", \"registr\", \"pag\", \"se\\u00f1al\", \"funcion\", \"mal\", \"lent\", \"pud\", \"imei\", \"internet\", \"pag_factur\", \"dej\", \"solucion\", \"sirv\", \"pued\", \"pesim\", \"carg\", \"aparec\", \"factur\", \"servici\", \"consult\", \"dat\", \"compr\", \"total\", \"ingres\", \"entrar\", \"hac\", \"si\", \"financi\", \"demor\", \"registr\", \"equip\", \"pud\", \"siempr\", \"financi\", \"muestr\", \"bloqu\", \"imei\", \"inform\", \"nuev\", \"dic\", \"are\", \"consum\", \"graci\", \"tom\", \"asoci\", \"transaccion\", \"motiv\", \"resuelt\", \"hij\", \"encarg\", \"reclam\", \"conect\", \"interpus\", \"decision\", \"siend\", \"obten\", \"introduc\", \"dijeron\", \"edad\", \"soport\", \"deb\", \"dej\", \"respuest\", \"necesit\", \"consult\", \"qued\", \"ten\", \"permit\", \"celul\", \"cuot\", \"pag\", \"realiz\", \"da\", \"ningun\", \"sim\", \"pod\", \"dan\", \"plan\", \"hac\", \"pued\", \"clar\", \"opcion\", \"se\\u00f1al\", \"lent\", \"internet\", \"sirv\", \"pesim\", \"fall\", \"asesor\", \"mal\", \"atencion_client\", \"naveg\", \"solicit\", \"cobertur\", \"demor\", \"general\", \"movil\", \"atencion\", \"rap\", \"da\\u00f1\", \"caid\", \"demasi\", \"contact\", \"hog\", \"arregl\", \"cae\", \"poc\", \"excus\", \"aca\", \"ahy\", \"cancel\", \"carg\", \"respond\", \"servici\", \"clar\", \"sol\", \"opcion\", \"numer\", \"dat\", \"app\", \"llam\", \"problem\", \"solucion\", \"quier\", \"aplic\", \"line\", \"nunc\", \"funcion\", \"total\", \"valor\", \"moment\", \"pid\", \"mas\", \"mierd\", \"usuari\", \"clav\", \"celular\", \"pertenec\", \"aparec\", \"ingres\", \"voy\", \"parec\", \"tip\", \"interes\", \"enrred\", \"tra\", \"hic\", \"aun\", \"echo\", \"amig\", \"etc\", \"card\", \"oblig\", \"promocion\", \"virtual\", \"acces\", \"paz\", \"rob\", \"pag\", \"activ\", \"ped\", \"bien\", \"cambi\", \"sab\", \"mensaj\", \"hac\", \"pagin\", \"report\", \"envi\", \"utiliz\", \"pued\", \"dat\", \"consult\", \"compr\", \"realiz\", \"celul\", \"nunc\", \"telefon\", \"factur\", \"llam\", \"pod\", \"imei\", \"carg\", \"entrar\", \"pag_factur\", \"agend\", \"agend_cit\", \"toc\", \"cuent\", \"vec\", \"encontr\", \"incorrect\", \"turn\", \"averigu\", \"bloque\", \"molest\", \"fech\", \"sac\", \"pregunt\", \"paquet\", \"preci\", \"uso\", \"credit\", \"habr\", \"reflej\", \"ahor\", \"resuelv\", \"quej\", \"dia\", \"menu\", \"principal\", \"anticip\", \"adicion\", \"factur\", \"solucion\", \"si\", \"much\", \"ver\", \"pued\", \"compr\", \"dan\", \"tiend\", \"cup\", \"samsung\", \"dias\", \"sal\", \"app\", \"dej\", \"problem\", \"hac\", \"servici\", \"pesim_servici\", \"llam\", \"dat\", \"clar\", \"celul\", \"necesit\", \"permit\", \"quier\"], \"Freq\": [131.0, 125.0, 68.0, 40.0, 26.0, 41.0, 33.0, 44.0, 51.0, 24.0, 22.0, 54.0, 31.0, 21.0, 41.0, 19.0, 23.0, 16.0, 19.0, 30.0, 27.0, 35.0, 28.0, 10.0, 12.0, 10.0, 36.0, 19.0, 19.0, 14.0, 125.27423994846936, 130.30349743329253, 43.42545608804783, 13.979629251389559, 18.270869240209876, 7.581585987005131, 7.578970017507071, 46.22357397680374, 17.339257920675585, 16.738254406861113, 16.52981444048268, 3.903155603319714, 3.898814614104538, 3.856500791527921, 2.9881957325021027, 2.988187427038043, 2.988186168634398, 2.988143382910454, 2.9863363152756577, 2.9849865515256004, 2.9818480928339697, 2.980811671591617, 2.969237629903404, 2.068703091753756, 2.068703091753756, 2.068702714232662, 2.06870183335011, 2.0687007007868297, 2.068698309819903, 2.0686971772566225, 4.815039935627965, 9.356551241445683, 38.34823832349114, 11.268078459485176, 15.298092979255603, 18.3810852650887, 5.172479423875027, 5.746850082938229, 14.8950272983565, 20.633114361669612, 8.423031678623506, 29.44713658317241, 10.248486604124846, 6.3033639942731865, 9.33689094961285, 6.16831060496435, 8.397035072755349, 9.420681504661163, 8.59811136436235, 9.907525659933583, 9.622727773798038, 8.200077284599017, 7.185453103469272, 40.27618807530123, 33.153366341254255, 24.252815243257338, 20.688748344877446, 18.51387871412651, 10.89819885813778, 10.015509199036604, 38.76211018543564, 7.344492482286651, 7.340552011882689, 7.326506763765886, 6.45153231140198, 12.5903901536142, 4.673756513337416, 4.664860451346747, 4.6265930259298855, 4.6124216913326075, 3.783860279646833, 3.7802241312863973, 3.776098281609443, 3.7356809566855613, 8.799729062102662, 2.893504526814236, 2.893484881611896, 2.893480059607685, 2.8927574733470602, 2.89160626448992, 2.890930469529415, 2.8837065714434, 19.23891955348747, 8.230859008894933, 19.344566451076492, 22.556309861346996, 7.170183102219896, 13.713571379168028, 6.995191497853688, 17.3451263341112, 16.37520769039325, 10.090588876155158, 8.198239400558151, 10.654569774278638, 6.844363492366015, 6.359922089477829, 6.285088155981275, 5.798828321727374, 25.957695733729505, 9.655787334260475, 6.220734585351745, 5.354388152209095, 4.503365861695213, 5.240738419670191, 3.6456936179890356, 3.642929635693486, 2.7902905756129015, 2.7825569550902705, 2.779054924521172, 12.284108450338278, 9.642747430422467, 4.506760932261473, 1.9317610753760452, 1.931758528709311, 1.9317391255341931, 1.931715235374829, 1.9317111122001165, 1.9317086868032267, 1.9317033509300694, 1.930775394080054, 1.9306765591567971, 1.9306834715379328, 1.929009947684011, 1.9285891413236407, 1.9272874308129162, 1.9262198923718963, 1.9256388885469586, 1.9120029434232964, 4.286928779127803, 39.01919918627915, 3.6457705030704406, 3.5493738313067156, 6.6619074884845055, 5.904540928709251, 6.225448101667269, 4.347293512157833, 12.745552820675503, 2.785669709458565, 6.393403925805628, 3.5176392107822654, 2.768344614395761, 12.488160001148533, 10.810785587124467, 9.011051840330433, 8.549507543641353, 6.607402514340092, 9.793048305521017, 5.772671129655228, 4.370869825164258, 4.4303255194400135, 4.316108729108287, 4.126988406630662, 4.487942277793966, 4.001271596946226, 9.777330400668747, 20.917604954945755, 5.433031133373463, 5.432762311255381, 5.432319040741524, 5.429001661412006, 5.418359165345742, 4.563949244284109, 4.5634853831399305, 3.6961325350356, 3.6947449553367364, 3.689806349850406, 3.6894391502763453, 3.6892298122014138, 3.6836923625499103, 7.1484674313732555, 2.8256950961167715, 2.8247070318423333, 2.8234467136780936, 2.8235167790173805, 2.823268833510597, 2.8215214897430667, 2.820528563792025, 2.8190471823328096, 2.8163160640054916, 2.7987236582438895, 2.726848917317201, 2.666433720107158, 1.9567426134193673, 1.9567311741803, 14.097818891845444, 20.46576187533081, 12.281703562966523, 7.672735765295004, 10.750473331667477, 18.90141733477974, 13.445026131306943, 9.758600934543855, 4.532194202614259, 3.694528181756411, 4.477123989858412, 3.683213344413967, 6.729754675945027, 11.687592954919369, 15.43670060607564, 7.200679550248137, 11.34686835575637, 9.000107889137634, 5.327523027722073, 6.3912687358674996, 7.539346802264881, 7.70499899516042, 6.871308395859435, 5.957194798257745, 6.03508000137137, 5.0456979265927], \"Total\": [131.0, 125.0, 68.0, 40.0, 26.0, 41.0, 33.0, 44.0, 51.0, 24.0, 22.0, 54.0, 31.0, 21.0, 41.0, 19.0, 23.0, 16.0, 19.0, 30.0, 27.0, 35.0, 28.0, 10.0, 12.0, 10.0, 36.0, 19.0, 19.0, 14.0, 125.93475873124966, 131.41955823385257, 44.09924917208731, 14.674832605189053, 19.25121824673534, 8.240163095533234, 8.239946391570584, 51.1531562227689, 19.23300301164281, 19.14972294098635, 19.16098798557124, 4.562175642466131, 4.561854109180524, 4.559392608720391, 3.64285994006682, 3.6428538946806666, 3.6428528889282203, 3.642826936983975, 3.6427258651105783, 3.6426278666097804, 3.642610206045532, 3.642542334723642, 3.6420100123991337, 2.723366357262772, 2.7233663875802336, 2.7233660467139593, 2.723365504235896, 2.7233646190455274, 2.7233627852737428, 2.723361916149303, 6.339878448196867, 12.661816184956109, 54.26047331464285, 15.479248150387614, 21.703434779217194, 27.84443056209851, 7.2221229375098055, 8.140637113526436, 25.213272445128396, 37.52297771563943, 13.458549213585584, 68.9314574772721, 18.738063063290205, 9.910200660921225, 17.032723713229096, 9.885643261537288, 16.08702149314484, 19.64609614364391, 17.897088643757343, 36.07715748739167, 41.24049670337325, 40.94091328117328, 24.17444752133959, 40.949975797006196, 33.827183088537275, 24.92402381668822, 21.362119758942516, 19.594661134760027, 11.568477396759379, 10.678244592467196, 41.7543428273897, 8.007219203802967, 8.007163385017869, 8.006840736672963, 7.1169070673003, 14.268937541533859, 5.33618396991021, 5.335998441417991, 5.337234201823283, 5.337938174480876, 4.445823039999398, 4.44580521341777, 4.44556922449244, 4.446759207790023, 10.65005705983701, 3.5554702335441686, 3.555460866697007, 3.555458142701524, 3.555493318469882, 3.5555153596548283, 3.5555368361482222, 3.55531159776382, 23.899815909546867, 10.614799193232384, 30.012204489765526, 40.94091328117328, 10.639426840990819, 24.17444752133959, 10.582087059342966, 35.932686977383575, 34.382916337972205, 21.065186908067705, 15.854619384971873, 31.56589069528741, 14.182835315490435, 13.495476988442338, 13.458527037660854, 15.889005522946913, 26.642926547666473, 10.329125052905145, 6.894751141791737, 6.036274128446734, 5.177582443172479, 6.044726054490642, 4.3189314729276695, 4.319007221132031, 3.460218269995663, 3.4603016390430854, 3.460924606875919, 16.464406681903515, 12.938849170741499, 6.067705145642654, 2.60165052551909, 2.601649242420064, 2.6016490747759513, 2.6016304741230507, 2.601628619808978, 2.6016310101299833, 2.6016285261684358, 2.6016788421883836, 2.6016999288535736, 2.601711418524912, 2.6018102651611583, 2.6018312177393215, 2.6018633322416576, 2.60198735921087, 2.6016558193557207, 2.602251481851088, 6.112423657267042, 68.9314574772721, 5.209242287323176, 5.21276043299978, 11.378053813739896, 10.467726319580413, 11.243185170091762, 7.8867822913976235, 36.07715748739167, 4.350781490373258, 14.145492390438084, 6.117093368726934, 4.38004765300825, 41.24049670337325, 35.932686977383575, 27.84443056209851, 28.039752762363676, 18.738063063290205, 37.52297771563943, 15.889005522946913, 13.291720458839109, 19.09634600285296, 21.065186908067705, 16.08702149314484, 51.1531562227689, 23.899815909546867, 10.451422627359149, 22.613808606216782, 6.1027750596851496, 6.102753579632621, 6.1027826141854415, 6.102907551437596, 6.102990595730469, 5.23303879851361, 5.233070046666818, 4.363261513027922, 4.363320012938738, 4.363228669501064, 4.3633569927282325, 4.3631238604657305, 4.363858525889543, 8.762235022095323, 3.493592501114886, 3.4936058379024835, 3.493496117300956, 3.493684925073455, 3.49360660224686, 3.4934544129265324, 3.4937000354535748, 3.4934919658975803, 3.4940481708628455, 3.494874438867708, 3.494539269734452, 3.4973094572460948, 2.623855836360554, 2.623850586557928, 19.09634600285296, 31.56589069528741, 19.25675816723042, 11.391560401400618, 18.583284532869172, 41.24049670337325, 28.039752762363676, 19.64609614364391, 7.073620593181013, 5.221844806131472, 7.0158655381416635, 5.222142776953417, 13.381749656814137, 34.382916337972205, 54.26047331464285, 15.854619384971873, 36.07715748739167, 30.012204489765526, 11.380189739203, 21.065186908067705, 35.932686977383575, 40.94091328117328, 37.52297771563943, 21.703434779217194, 25.213272445128396, 14.182835315490435], \"Category\": [\"Default\", \"Default\", \"Default\", \"Default\", \"Default\", \"Default\", \"Default\", \"Default\", \"Default\", \"Default\", \"Default\", \"Default\", \"Default\", \"Default\", \"Default\", \"Default\", \"Default\", \"Default\", \"Default\", \"Default\", \"Default\", \"Default\", \"Default\", \"Default\", \"Default\", \"Default\", \"Default\", \"Default\", \"Default\", \"Default\", \"Topic1\", \"Topic1\", \"Topic1\", \"Topic1\", \"Topic1\", \"Topic1\", \"Topic1\", \"Topic1\", \"Topic1\", \"Topic1\", \"Topic1\", \"Topic1\", \"Topic1\", \"Topic1\", \"Topic1\", \"Topic1\", \"Topic1\", \"Topic1\", \"Topic1\", \"Topic1\", \"Topic1\", \"Topic1\", \"Topic1\", \"Topic1\", \"Topic1\", \"Topic1\", \"Topic1\", \"Topic1\", \"Topic1\", \"Topic1\", \"Topic1\", \"Topic1\", \"Topic1\", \"Topic1\", \"Topic1\", \"Topic1\", \"Topic1\", \"Topic1\", \"Topic1\", \"Topic1\", \"Topic1\", \"Topic1\", \"Topic1\", \"Topic1\", \"Topic1\", \"Topic1\", \"Topic1\", \"Topic1\", \"Topic1\", \"Topic1\", \"Topic1\", \"Topic1\", \"Topic1\", \"Topic2\", \"Topic2\", \"Topic2\", \"Topic2\", \"Topic2\", \"Topic2\", \"Topic2\", \"Topic2\", \"Topic2\", \"Topic2\", \"Topic2\", \"Topic2\", \"Topic2\", \"Topic2\", \"Topic2\", \"Topic2\", \"Topic2\", \"Topic2\", \"Topic2\", \"Topic2\", \"Topic2\", \"Topic2\", \"Topic2\", \"Topic2\", \"Topic2\", \"Topic2\", \"Topic2\", \"Topic2\", \"Topic2\", \"Topic2\", \"Topic2\", \"Topic2\", \"Topic2\", \"Topic2\", \"Topic2\", \"Topic2\", \"Topic2\", \"Topic2\", \"Topic2\", \"Topic2\", \"Topic2\", \"Topic2\", \"Topic2\", \"Topic2\", \"Topic2\", \"Topic3\", \"Topic3\", \"Topic3\", \"Topic3\", \"Topic3\", \"Topic3\", \"Topic3\", \"Topic3\", \"Topic3\", \"Topic3\", \"Topic3\", \"Topic3\", \"Topic3\", \"Topic3\", \"Topic3\", \"Topic3\", \"Topic3\", \"Topic3\", \"Topic3\", \"Topic3\", \"Topic3\", \"Topic3\", \"Topic3\", \"Topic3\", \"Topic3\", \"Topic3\", \"Topic3\", \"Topic3\", \"Topic3\", \"Topic3\", \"Topic3\", \"Topic3\", \"Topic3\", \"Topic3\", \"Topic3\", \"Topic3\", \"Topic3\", \"Topic3\", \"Topic3\", \"Topic3\", \"Topic3\", \"Topic3\", \"Topic3\", \"Topic3\", \"Topic3\", \"Topic3\", \"Topic3\", \"Topic3\", \"Topic3\", \"Topic3\", \"Topic3\", \"Topic3\", \"Topic3\", \"Topic3\", \"Topic3\", \"Topic3\", \"Topic4\", \"Topic4\", \"Topic4\", \"Topic4\", \"Topic4\", \"Topic4\", \"Topic4\", \"Topic4\", \"Topic4\", \"Topic4\", \"Topic4\", \"Topic4\", \"Topic4\", \"Topic4\", \"Topic4\", \"Topic4\", \"Topic4\", \"Topic4\", \"Topic4\", \"Topic4\", \"Topic4\", \"Topic4\", \"Topic4\", \"Topic4\", \"Topic4\", \"Topic4\", \"Topic4\", \"Topic4\", \"Topic4\", \"Topic4\", \"Topic4\", \"Topic4\", \"Topic4\", \"Topic4\", \"Topic4\", \"Topic4\", \"Topic4\", \"Topic4\", \"Topic4\", \"Topic4\", \"Topic4\", \"Topic4\", \"Topic4\", \"Topic4\", \"Topic4\", \"Topic4\", \"Topic4\", \"Topic4\", \"Topic4\", \"Topic4\", \"Topic4\", \"Topic4\", \"Topic4\", \"Topic4\", \"Topic4\", \"Topic4\"], \"logprob\": [30.0, 29.0, 28.0, 27.0, 26.0, 25.0, 24.0, 23.0, 22.0, 21.0, 20.0, 19.0, 18.0, 17.0, 16.0, 15.0, 14.0, 13.0, 12.0, 11.0, 10.0, 9.0, 8.0, 7.0, 6.0, 5.0, 4.0, 3.0, 2.0, 1.0, -2.1551, -2.1157, -3.2146, -4.348, -4.0803, -4.9599, -4.9602, -3.1521, -4.1326, -4.1679, -4.1804, -5.6238, -5.6249, -5.6358, -5.8909, -5.8909, -5.8909, -5.891, -5.8916, -5.892, -5.8931, -5.8934, -5.8973, -6.2587, -6.2587, -6.2587, -6.2587, -6.2587, -6.2587, -6.2587, -5.4139, -4.7495, -3.3389, -4.5636, -4.2579, -4.0743, -5.3423, -5.237, -4.2846, -3.9587, -4.8546, -3.603, -4.6585, -5.1445, -4.7516, -5.1662, -4.8577, -4.7427, -4.8341, -4.6923, -4.7215, -4.8815, -5.0135, -2.9468, -3.1414, -3.454, -3.613, -3.724, -4.254, -4.3384, -2.9851, -4.6486, -4.6491, -4.6511, -4.7782, -4.1096, -5.1006, -5.1025, -5.1107, -5.1138, -5.3118, -5.3128, -5.3139, -5.3246, -4.4678, -5.5801, -5.5801, -5.5801, -5.5803, -5.5807, -5.581, -5.5835, -3.6856, -4.5347, -3.6801, -3.5265, -4.6726, -4.0242, -4.6973, -3.7892, -3.8468, -4.3309, -4.5386, -4.2766, -4.7191, -4.7925, -4.8044, -4.8849, -2.999, -3.9879, -4.4276, -4.5775, -4.7506, -4.599, -4.9619, -4.9627, -5.2293, -5.2321, -5.2334, -3.7472, -3.9893, -4.7499, -5.597, -5.597, -5.597, -5.5971, -5.5971, -5.5971, -5.5971, -5.5975, -5.5976, -5.5976, -5.5985, -5.5987, -5.5993, -5.5999, -5.6002, -5.6073, -4.7999, -2.5914, -4.9619, -4.9887, -4.3591, -4.4797, -4.4268, -4.7859, -3.7103, -5.231, -4.4002, -4.9977, -5.2372, -3.7307, -3.8749, -4.057, -4.1096, -4.3673, -3.9738, -4.5023, -4.7805, -4.767, -4.7931, -4.8379, -4.7541, -4.8688, -4.1402, -3.3796, -4.7277, -4.7278, -4.7279, -4.7285, -4.7304, -4.902, -4.9021, -5.1129, -5.1133, -5.1146, -5.1147, -5.1148, -5.1163, -4.4533, -5.3815, -5.3818, -5.3823, -5.3822, -5.3823, -5.3829, -5.3833, -5.3838, -5.3848, -5.3911, -5.4171, -5.4395, -5.7489, -5.7489, -3.7742, -3.4015, -3.9121, -4.3825, -4.0453, -3.481, -3.8216, -4.1421, -4.909, -5.1134, -4.9212, -5.1164, -4.5137, -3.9617, -3.6835, -4.446, -3.9913, -4.223, -4.7473, -4.5653, -4.4001, -4.3784, -4.4929, -4.6356, -4.6226, -4.8017], \"loglift\": [30.0, 29.0, 28.0, 27.0, 26.0, 25.0, 24.0, 23.0, 22.0, 21.0, 20.0, 19.0, 18.0, 17.0, 16.0, 15.0, 14.0, 13.0, 12.0, 11.0, 10.0, 9.0, 8.0, 7.0, 6.0, 5.0, 4.0, 3.0, 2.0, 1.0, 1.0098, 1.0066, 0.9997, 0.9665, 0.9628, 0.9318, 0.9315, 0.9137, 0.9114, 0.8805, 0.8674, 0.8591, 0.858, 0.8477, 0.817, 0.817, 0.817, 0.817, 0.8164, 0.816, 0.8149, 0.8146, 0.8108, 0.7401, 0.7401, 0.7401, 0.7401, 0.7401, 0.7401, 0.7401, 0.74, 0.7126, 0.668, 0.6976, 0.6653, 0.5998, 0.6813, 0.6669, 0.4887, 0.417, 0.5464, 0.1646, 0.4117, 0.5626, 0.4139, 0.5434, 0.3649, 0.2801, 0.282, -0.2773, -0.4402, -0.5929, -0.1982, 1.3415, 1.338, 1.3308, 1.3261, 1.3014, 1.2984, 1.2941, 1.2838, 1.2717, 1.2712, 1.2693, 1.26, 1.233, 1.2256, 1.2237, 1.2152, 1.212, 1.1969, 1.196, 1.1949, 1.1839, 1.1673, 1.1521, 1.1521, 1.1521, 1.1518, 1.1514, 1.1512, 1.1488, 1.1412, 1.1038, 0.9189, 0.762, 0.9635, 0.7912, 0.9442, 0.6298, 0.6163, 0.6221, 0.6986, 0.272, 0.6295, 0.6058, 0.5967, 0.3502, 1.7192, 1.6778, 1.6424, 1.6254, 1.6057, 1.6025, 1.5758, 1.575, 1.53, 1.5272, 1.5258, 1.4523, 1.4512, 1.4478, 1.4475, 1.4475, 1.4475, 1.4475, 1.4475, 1.4475, 1.4475, 1.447, 1.4469, 1.4469, 1.446, 1.4458, 1.4451, 1.4445, 1.4443, 1.437, 1.3905, 1.1762, 1.3884, 1.3609, 1.2099, 1.1726, 1.1541, 1.1496, 0.7047, 1.2994, 0.9511, 1.1919, 1.2864, 0.5506, 0.5441, 0.617, 0.5575, 0.7029, 0.4019, 0.7327, 0.633, 0.2842, 0.16, 0.3848, -0.6882, -0.042, 1.5138, 1.5025, 1.4642, 1.4642, 1.4641, 1.4635, 1.4615, 1.4437, 1.4436, 1.4145, 1.4141, 1.4128, 1.4127, 1.4127, 1.411, 1.3769, 1.3683, 1.3679, 1.3675, 1.3675, 1.3674, 1.3668, 1.3664, 1.366, 1.3648, 1.3583, 1.3324, 1.3092, 1.2871, 1.2871, 1.277, 1.1471, 1.1307, 1.1853, 1.0332, 0.8003, 0.8454, 0.8807, 1.1353, 1.2345, 1.1313, 1.2313, 0.8931, 0.5014, 0.3234, 0.7912, 0.4237, 0.3761, 0.8215, 0.3878, 0.019, -0.0898, -0.1171, 0.2876, 0.1507, 0.547]}, \"token.table\": {\"Topic\": [2, 3, 2, 3, 4, 4, 4, 4, 2, 3, 4, 2, 3, 1, 2, 4, 1, 2, 3, 4, 1, 2, 2, 1, 2, 2, 3, 4, 1, 2, 3, 1, 4, 2, 2, 2, 3, 2, 3, 2, 3, 1, 3, 4, 3, 1, 2, 3, 4, 3, 2, 1, 3, 4, 1, 1, 3, 1, 2, 4, 4, 1, 3, 4, 3, 4, 1, 4, 1, 4, 2, 3, 4, 2, 1, 3, 4, 1, 1, 4, 2, 1, 2, 4, 3, 4, 1, 4, 1, 3, 1, 1, 4, 3, 4, 1, 3, 4, 1, 3, 3, 2, 3, 4, 2, 4, 1, 3, 3, 2, 1, 4, 1, 2, 3, 4, 3, 1, 2, 4, 1, 3, 4, 1, 2, 3, 4, 3, 2, 1, 1, 2, 1, 2, 4, 2, 3, 4, 2, 3, 3, 1, 2, 3, 4, 3, 4, 3, 1, 2, 2, 4, 1, 2, 1, 4, 1, 2, 3, 4, 1, 3, 2, 3, 4, 1, 2, 3, 4, 3, 1, 1, 2, 3, 4, 1, 3, 3, 4, 2, 3, 4, 3, 3, 2, 3, 1, 2, 3, 4, 3, 1, 2, 2, 3, 4, 3, 1, 2, 3, 4, 2, 1, 2, 3, 4, 4, 1, 4, 4, 2, 4, 3, 1, 1, 3, 4, 1, 3, 4, 1, 2, 4, 2, 1, 3, 4, 1, 4, 1, 1, 2, 3, 2, 3, 1, 2, 1, 4, 1, 3, 3, 4, 4, 1, 4, 1, 3, 4, 2, 3, 4, 2, 1, 3, 4, 1, 1, 1, 3, 4, 2, 1, 2, 3, 2, 2, 4, 1, 3, 1, 2, 3, 1, 4, 1, 4, 3, 4, 1, 3, 3, 1, 4, 4, 3, 1, 3, 3, 4, 1, 2, 4, 3, 2, 3], \"Freq\": [0.8437595387834977, 0.7687411936353995, 0.19196649816683045, 0.7678659926673218, 0.7622385246500182, 0.8192994090557152, 0.8193022927694542, 0.8586884877225931, 0.843754442226495, 0.768728160315279, 0.7622369995655404, 0.2429483234519778, 0.7288449703559334, 0.44459340008052034, 0.44459340008052034, 0.07409890001342005, 0.05816842237408514, 0.46534737899268114, 0.11633684474817028, 0.34901053424451084, 0.8767746604858376, 0.8437702477991318, 0.9364835121921019, 0.8235301460705386, 0.9368148016236427, 0.8742111114774284, 0.7687492583522337, 0.9167331271001509, 0.1757769854792603, 0.26366547821889047, 0.615219449177411, 0.9708801028346438, 0.9167523187496385, 0.8437724707084104, 0.8997245286248042, 0.3821269182895809, 0.5731903774343714, 0.8438078962999773, 0.768695560464367, 0.7949852028948216, 0.16736530587259402, 0.5596570762359109, 0.266503369636148, 0.18655235874530363, 0.8669764410566306, 0.1954035549978512, 0.5617852206188222, 0.0488508887494628, 0.1954035549978512, 0.8669973296233016, 0.8430628562747295, 0.21398191527756594, 0.3209728729163489, 0.4636274831013929, 0.8237209644637367, 0.6464488458421331, 0.32322442292106657, 0.8768364582177633, 0.8995315044252068, 0.858692201597694, 0.8192816223837773, 0.5944177097427773, 0.29720885487138865, 0.07430221371784716, 0.19150320186187908, 0.7660128074475163, 0.6054367822903655, 0.30271839114518273, 0.45810627893683425, 0.5090069765964825, 0.47310684031784167, 0.3061279554997799, 0.22263851309074903, 0.8997209209659729, 0.7107985038270557, 0.15795522307267904, 0.07897761153633952, 0.734385211303515, 0.7003256270848864, 0.2764443264808762, 0.8997722896681896, 0.07008230270047869, 0.9110699351062229, 0.858399937530219, 0.19149227485951603, 0.7659690994380641, 0.8872193862237937, 0.10437875132044631, 0.7343861827057195, 0.7687343908742073, 0.7343864170752229, 0.8235852397879381, 0.9554677869807113, 0.7687486827560143, 0.9568075425275178, 0.1634763342198447, 0.6539053368793788, 0.1634763342198447, 0.9891982726701413, 0.007609217482078009, 0.7687247654599358, 0.8437647694106931, 0.20946415609574767, 0.7331245463351169, 0.9508597910284525, 0.9167743405691513, 0.9350057627159505, 0.05194476459533058, 0.9758687715286749, 0.9369991792250996, 0.8773098399882289, 0.8587114525346372, 0.27718370005992915, 0.05543674001198583, 0.36033881007790786, 0.304902070065922, 0.7687485243728224, 0.8235812467970057, 0.8450658948993215, 0.09389621054436906, 0.899260248960451, 0.0781965433878653, 0.9554620816101496, 0.8838973294866616, 0.05199396055803891, 0.7728662625276527, 0.2318598787582958, 0.7687431865391899, 0.9629263788429889, 0.7343852194789465, 0.7343856882083425, 0.9755467936430812, 0.37151168073657337, 0.44581401688388805, 0.14860467229462934, 0.4747168892277962, 0.1898867556911185, 0.28483013353667774, 0.9340345784203571, 0.07184881372464286, 0.8271673447112607, 0.12679442173657227, 0.25358884347314453, 0.5071776869462891, 0.858482268601883, 0.9261550050222316, 0.9167253577156794, 0.8283255355214642, 0.823536240369356, 0.9370317579536807, 0.2633528589841953, 0.7022742906245207, 0.9708545701403144, 0.8742172056957945, 0.6911348435208846, 0.27645393740835383, 0.5283946450097008, 0.11742103222437794, 0.1761315483365669, 0.11742103222437794, 0.8877413032234907, 0.10444015332041066, 0.661495219302668, 0.18899863408647657, 0.09449931704323829, 0.18880980283299656, 0.3776196056659931, 0.3776196056659931, 0.06293660094433219, 0.7686893701497515, 0.73438544950695, 0.2895619431972899, 0.5791238863945798, 0.04136599188532713, 0.08273198377065426, 0.42070777350909494, 0.5657794195467138, 0.04422076870877421, 0.9286361428842584, 0.22984376535862502, 0.689531296075875, 0.8587149185380466, 0.7687427578694311, 0.7685652266695294, 0.19183693800110652, 0.7673477520044261, 0.594924757690398, 0.1189849515380796, 0.0396616505126932, 0.2379699030761592, 0.8668203849456336, 0.05103430945412197, 0.9696518796283174, 0.35148798848411256, 0.17574399424205628, 0.43935998560514067, 0.965701667694997, 0.5028750865096305, 0.1676250288365435, 0.1676250288365435, 0.1676250288365435, 0.8437731171602337, 0.49729528883945606, 0.06216191110493201, 0.24864764441972803, 0.12432382220986402, 0.8587116404067958, 0.11412613305604634, 0.7988829313923244, 0.8578022724824317, 0.5045848030626938, 0.44151170267985707, 0.768679882304534, 0.9750732905270623, 0.24248010570595416, 0.29097612684714497, 0.46071220084131287, 0.6923172096713165, 0.2769268838685266, 0.8586029308402918, 0.1410155272560775, 0.4935543453962713, 0.3525388181401938, 0.9366912535449624, 0.5336730891674193, 0.3735711624171935, 0.10673461783348386, 0.823600585613402, 0.8587488615564454, 0.992577436597592, 0.28277559307188743, 0.2120816948039156, 0.4241633896078312, 0.7536647518589437, 0.18841618796473592, 0.7106288298456247, 0.25841048358022717, 0.8235590903870919, 0.8587396305144249, 0.16360122531937113, 0.6544049012774845, 0.533656602575641, 0.44471383547970084, 0.91661999954149, 0.4483718612195628, 0.5231005047561565, 0.14253408856876074, 0.14253408856876074, 0.570136354275043, 0.6330757877675796, 0.03331977830355682, 0.29987800473201137, 0.9768015541275205, 0.15578946227331011, 0.20771928303108017, 0.6231578490932405, 0.9540142894065837, 0.7343853032218052, 0.6069407767671112, 0.20231359225570372, 0.20231359225570372, 0.9830485100248103, 0.09399002549153042, 0.6579301784407129, 0.18798005098306084, 0.8742524336644506, 0.3484774152640093, 0.633595300480017, 0.7886586534513224, 0.15773173069026447, 0.22570441571429334, 0.3761740261904889, 0.3009392209523911, 0.7370430491282353, 0.2456810163760784, 0.28274063807267313, 0.7068515951816827, 0.7687431370032004, 0.8192983948630074, 0.8235287794086785, 0.9681362118069646, 0.7687492306826053, 0.8235303734383419, 0.9167454180907361, 0.8587386100539803, 0.9261387618035939, 0.22830801836441034, 0.684924055093231, 0.8702272027820835, 0.8192704742979452, 0.26905900252219966, 0.16143540151331978, 0.5919298055488392, 0.7686432422202694, 0.16480695353466887, 0.8240347676733444], \"Term\": [\"aca\", \"acces\", \"activ\", \"activ\", \"adicion\", \"agend\", \"agend_cit\", \"ahor\", \"ahy\", \"amig\", \"anticip\", \"aparec\", \"aparec\", \"aplic\", \"aplic\", \"aplic\", \"app\", \"app\", \"app\", \"app\", \"are\", \"arregl\", \"asesor\", \"asoci\", \"atencion\", \"atencion_client\", \"aun\", \"averigu\", \"bien\", \"bien\", \"bien\", \"bloqu\", \"bloque\", \"cae\", \"caid\", \"cambi\", \"cambi\", \"cancel\", \"card\", \"carg\", \"carg\", \"celul\", \"celul\", \"celul\", \"celular\", \"clar\", \"clar\", \"clar\", \"clar\", \"clav\", \"cobertur\", \"compr\", \"compr\", \"compr\", \"conect\", \"consult\", \"consult\", \"consum\", \"contact\", \"credit\", \"cuent\", \"cuot\", \"cuot\", \"cuot\", \"cup\", \"cup\", \"da\", \"da\", \"dan\", \"dan\", \"dat\", \"dat\", \"dat\", \"da\\u00f1\", \"deb\", \"deb\", \"deb\", \"decision\", \"dej\", \"dej\", \"demasi\", \"demor\", \"demor\", \"dia\", \"dias\", \"dias\", \"dic\", \"dic\", \"dijeron\", \"echo\", \"edad\", \"encarg\", \"encontr\", \"enrred\", \"entrar\", \"envi\", \"envi\", \"envi\", \"equip\", \"equip\", \"etc\", \"excus\", \"factur\", \"factur\", \"fall\", \"fech\", \"financi\", \"financi\", \"funcion\", \"general\", \"graci\", \"habr\", \"hac\", \"hac\", \"hac\", \"hac\", \"hic\", \"hij\", \"hog\", \"hog\", \"imei\", \"imei\", \"incorrect\", \"inform\", \"inform\", \"ingres\", \"ingres\", \"interes\", \"internet\", \"interpus\", \"introduc\", \"lent\", \"line\", \"line\", \"line\", \"llam\", \"llam\", \"llam\", \"mal\", \"mal\", \"mas\", \"mensaj\", \"mensaj\", \"mensaj\", \"menu\", \"mierd\", \"molest\", \"moment\", \"motiv\", \"movil\", \"much\", \"much\", \"muestr\", \"naveg\", \"necesit\", \"necesit\", \"ningun\", \"ningun\", \"ningun\", \"ningun\", \"nuev\", \"nuev\", \"numer\", \"numer\", \"numer\", \"nunc\", \"nunc\", \"nunc\", \"nunc\", \"oblig\", \"obten\", \"opcion\", \"opcion\", \"opcion\", \"opcion\", \"pag\", \"pag\", \"pag_factur\", \"pag_factur\", \"pagin\", \"pagin\", \"paquet\", \"parec\", \"paz\", \"ped\", \"ped\", \"permit\", \"permit\", \"permit\", \"permit\", \"pertenec\", \"pesim\", \"pesim\", \"pesim_servici\", \"pesim_servici\", \"pesim_servici\", \"pid\", \"plan\", \"plan\", \"plan\", \"plan\", \"poc\", \"pod\", \"pod\", \"pod\", \"pod\", \"preci\", \"pregunt\", \"pregunt\", \"principal\", \"problem\", \"problem\", \"promocion\", \"pud\", \"pued\", \"pued\", \"pued\", \"qued\", \"qued\", \"quej\", \"quier\", \"quier\", \"quier\", \"rap\", \"realiz\", \"realiz\", \"realiz\", \"reclam\", \"reflej\", \"registr\", \"report\", \"report\", \"report\", \"respond\", \"respond\", \"respuest\", \"respuest\", \"resuelt\", \"resuelv\", \"rob\", \"rob\", \"sab\", \"sab\", \"sac\", \"sal\", \"sal\", \"samsung\", \"samsung\", \"samsung\", \"servici\", \"servici\", \"servici\", \"se\\u00f1al\", \"si\", \"si\", \"si\", \"siempr\", \"siend\", \"sim\", \"sim\", \"sim\", \"sirv\", \"sol\", \"sol\", \"sol\", \"solicit\", \"solucion\", \"solucion\", \"soport\", \"soport\", \"telefon\", \"telefon\", \"telefon\", \"ten\", \"ten\", \"tiend\", \"tiend\", \"tip\", \"toc\", \"tom\", \"total\", \"tra\", \"transaccion\", \"turn\", \"uso\", \"usuari\", \"utiliz\", \"utiliz\", \"valor\", \"vec\", \"ver\", \"ver\", \"ver\", \"virtual\", \"voy\", \"voy\"]}, \"R\": 30, \"lambda.step\": 0.01, \"plot.opts\": {\"xlab\": \"PC1\", \"ylab\": \"PC2\"}, \"topic.order\": [1, 2, 3, 4]};\n",
       "\n",
       "function LDAvis_load_lib(url, callback){\n",
       "  var s = document.createElement('script');\n",
       "  s.src = url;\n",
       "  s.async = true;\n",
       "  s.onreadystatechange = s.onload = callback;\n",
       "  s.onerror = function(){console.warn(\"failed to load library \" + url);};\n",
       "  document.getElementsByTagName(\"head\")[0].appendChild(s);\n",
       "}\n",
       "\n",
       "if(typeof(LDAvis) !== \"undefined\"){\n",
       "   // already loaded: just create the visualization\n",
       "   !function(LDAvis){\n",
       "       new LDAvis(\"#\" + \"ldavis_el1752421437230616483398420014\", ldavis_el1752421437230616483398420014_data);\n",
       "   }(LDAvis);\n",
       "}else if(typeof define === \"function\" && define.amd){\n",
       "   // require.js is available: use it to load d3/LDAvis\n",
       "   require.config({paths: {d3: \"https://d3js.org/d3.v5\"}});\n",
       "   require([\"d3\"], function(d3){\n",
       "      window.d3 = d3;\n",
       "      LDAvis_load_lib(\"https://cdn.jsdelivr.net/gh/bmabey/pyLDAvis@3.3.1/pyLDAvis/js/ldavis.v3.0.0.js\", function(){\n",
       "        new LDAvis(\"#\" + \"ldavis_el1752421437230616483398420014\", ldavis_el1752421437230616483398420014_data);\n",
       "      });\n",
       "    });\n",
       "}else{\n",
       "    // require.js not available: dynamically load d3 & LDAvis\n",
       "    LDAvis_load_lib(\"https://d3js.org/d3.v5.js\", function(){\n",
       "         LDAvis_load_lib(\"https://cdn.jsdelivr.net/gh/bmabey/pyLDAvis@3.3.1/pyLDAvis/js/ldavis.v3.0.0.js\", function(){\n",
       "                 new LDAvis(\"#\" + \"ldavis_el1752421437230616483398420014\", ldavis_el1752421437230616483398420014_data);\n",
       "            })\n",
       "         });\n",
       "}\n",
       "</script>"
      ],
      "text/plain": [
       "<IPython.core.display.HTML object>"
      ]
     },
     "execution_count": 60,
     "metadata": {},
     "output_type": "execute_result"
    }
   ],
   "source": [
    "pyLDAvis.display(modelosAccion['Pre_Gestionar_Equipodis'])"
   ]
  },
  {
   "cell_type": "code",
   "execution_count": 61,
   "metadata": {},
   "outputs": [
    {
     "data": {
      "text/html": [
       "\n",
       "<link rel=\"stylesheet\" type=\"text/css\" href=\"https://cdn.jsdelivr.net/gh/bmabey/pyLDAvis@3.3.1/pyLDAvis/js/ldavis.v1.0.0.css\">\n",
       "\n",
       "\n",
       "<div id=\"ldavis_el1752421437211196327829852581\"></div>\n",
       "<script type=\"text/javascript\">\n",
       "\n",
       "var ldavis_el1752421437211196327829852581_data = {\"mdsDat\": {\"x\": [0.19910520451566663, 0.03162980990965552, -0.1757992040891686, -0.05493581033615351], \"y\": [-0.10001415863341405, 0.14228709351425345, -0.10830845841131372, 0.06603552353047429], \"topics\": [1, 2, 3, 4], \"cluster\": [1, 1, 1, 1], \"Freq\": [38.189856765101, 24.275361146074484, 13.333015335684745, 24.20176675313977]}, \"tinfo\": {\"Term\": [\"recarg\", \"app\", \"dej\", \"opcion\", \"mal\", \"aplic\", \"compr_paquet\", \"funcion\", \"realiz\", \"pod\", \"pse\", \"carg\", \"paquet\", \"ingres\", \"clar\", \"pag\", \"pid\", \"pud\", \"much\", \"dat\", \"carg_factur\", \"tarjet\", \"ningun\", \"sald\", \"hac\", \"codig\", \"gust\", \"mierd\", \"qued\", \"dar\", \"mal\", \"carg_factur\", \"line\", \"clar_hog\", \"clav\", \"movil\", \"internet\", \"pin\", \"hog\", \"dinam\", \"factur\", \"servici\", \"cuent\", \"celul\", \"se\\u00f1al\", \"pud\", \"permit\", \"recarg\", \"aser\", \"aplicasion\", \"daviplat\", \"abre\", \"cobertur\", \"tan\", \"mas\", \"dis\", \"a\\u00f1o\", \"preci\", \"ten\", \"intent\", \"clar\", \"medi\", \"pued\", \"realiz\", \"posibl\", \"hac\", \"transaccion\", \"debit\", \"inform\", \"toc\", \"mism\", \"compr_paquet\", \"nunc\", \"pag\", \"lent\", \"funcion\", \"ingres\", \"ningun\", \"codig\", \"gust\", \"numer\", \"pse\", \"banc\", \"lleg\", \"tard\", \"avanz\", \"recompens\", \"voy\", \"diferent\", \"registr\", \"aplicacion\", \"ventan\", \"sal\", \"seleccion\", \"iba\", \"cre\", \"di\", \"recurs\", \"diner\", \"obtuv\", \"desplieg\", \"comentari\", \"mm\", \"mand\", \"nuev\", \"actualiz\", \"dej\", \"error\", \"qued\", \"conect\", \"pag\", \"lent\", \"dic\", \"vec\", \"carg\", \"realiz\", \"dos\", \"recarg\", \"hac\", \"dat\", \"paquet\", \"sald\", \"permit\", \"despues\", \"debit\", \"opcion\", \"mierd\", \"aparec\", \"credit\", \"activ\", \"com\", \"ok\", \"uso\", \"inmediat\", \"dispon\", \"requer\", \"xxx\", \"tod\", \"escrib\", \"encuest\", \"boton\", \"finaliz\", \"casi\", \"sol\", \"dar\", \"dan\", \"utiliz\", \"bloque\", \"tarjet\", \"sirv\", \"deb\", \"tiemp\", \"constant\", \"encontr\", \"dias\", \"app\", \"paquet\", \"pid\", \"sald\", \"pag\", \"carg\", \"clar\", \"much\", \"dat\", \"pud\", \"aplic\", \"pod\", \"cos\", \"hiz\", \"transferent\", \"facil\", \"cae\", \"valor\", \"contrat\", \"inicial\", \"sistem\", \"bien\", \"nequi\", \"plan\", \"compr\", \"wifi\", \"alto\", \"bastant\", \"duplic\", \"se\", \"adecu\", \"engorr\", \"hol\", \"m\", \"colg\", \"voz\", \"pes\", \"abrir\", \"pon\", \"complic\", \"funcion\", \"compr_paquet\", \"si\", \"proces\", \"much\", \"app\", \"dat\", \"primer\", \"vez\", \"nunc\", \"pagin\", \"cobr\", \"mes\", \"tramit\", \"dej\", \"hac\", \"carg\", \"pesim\", \"lent\", \"recarg\", \"qued\", \"pag\", \"pued\", \"pud\"], \"Freq\": [143.0, 32.0, 37.0, 12.0, 26.0, 16.0, 28.0, 26.0, 35.0, 11.0, 13.0, 23.0, 13.0, 10.0, 17.0, 44.0, 12.0, 33.0, 11.0, 19.0, 14.0, 8.0, 8.0, 11.0, 65.0, 7.0, 7.0, 4.0, 13.0, 6.0, 25.798366583275364, 13.927928516266016, 12.09555202584956, 9.28441833406036, 6.6219407271383055, 5.697127448289086, 12.037310687574541, 4.792646306823931, 7.0749309788252335, 3.8843016149358887, 8.459180923393797, 12.108652784018327, 13.534060111338938, 14.685578188566597, 5.713444153344733, 26.017301881652756, 15.313187909216266, 110.7499018667497, 2.0563549650298594, 2.0563545294220997, 2.0563519157755414, 2.056351044560022, 2.0563458172669065, 2.056344365241041, 2.0563418967970697, 2.056338847542752, 2.054273485951684, 2.053837297381692, 2.0537703589892926, 6.878442257897226, 13.026448131454476, 6.517904235496875, 14.171418152839138, 23.956888794734034, 3.885256467145033, 37.85953695987158, 8.342821378637153, 5.248690749716324, 3.8893854478961307, 2.9708004887943305, 2.949168207450309, 9.487761778694159, 5.3385560497209505, 10.355551097753983, 6.365824273638912, 6.217532356858832, 9.786669153284619, 8.049226090015132, 7.181839555829809, 7.177581297925605, 6.312672040533865, 11.418477589834643, 4.542595008916343, 4.5271399029352635, 3.7007369782252053, 3.6996873660159415, 3.6871610583662346, 3.686789651443083, 2.8302381573975683, 2.830233727096298, 2.830228743007369, 2.8302254202814163, 2.8302032687750653, 2.8240132149211705, 2.820297668922566, 1.9593817743382493, 1.959376605653434, 1.9593727291398226, 1.9593727291398226, 1.9593677450508937, 1.959357961468922, 1.9593123662850163, 1.9593123662850163, 1.956409226781834, 1.9550945348799034, 1.955087889427998, 24.381161792436632, 5.388226179522597, 7.895687354044585, 4.569272068014828, 19.20218243382312, 12.278269110875762, 5.032432007239109, 6.139672467850437, 10.467760042291111, 11.412505543722418, 3.472787271312218, 20.923962905335372, 10.331109614762552, 5.902089809208953, 4.6596088644483045, 4.444917572469924, 4.129507073031362, 3.0520699874481876, 3.267999548631588, 12.14201026068357, 4.183832535660465, 3.3819592893862858, 3.375309481702039, 2.5899837000882537, 2.5899761974083635, 2.589943753387217, 1.7930537059860137, 1.7930530976606172, 1.793050258808767, 1.7930476227320487, 1.7930125426341839, 1.7930125426341839, 1.7930123398590518, 1.7904648758736523, 1.7890174669802525, 1.7883203260758662, 1.7872628537616213, 1.760852609447813, 4.144272324025701, 2.5525244415978605, 3.386873341939193, 3.386174173283485, 4.637687486426442, 4.093731433433892, 1.7930238980415851, 1.7930062566050868, 1.7929778680865835, 1.7928886470284306, 3.1594218956146882, 15.863697181524325, 6.385801762071596, 5.776103577929294, 4.710882820334083, 7.613071483187936, 4.9770044982382755, 4.17891402205465, 3.40380121274753, 2.960376406454768, 2.5943571541388066, 15.905644093800056, 10.664795777055481, 4.572796706800964, 3.7059988227178473, 3.7059693769168582, 3.699923049756228, 3.697819883420571, 2.833979646010568, 2.833979646010568, 2.833979646010568, 2.8331019771048322, 2.831879792327522, 2.818975722152752, 5.433612308340602, 8.053444238040495, 1.9619709593698909, 1.9619702232248661, 1.9619702232248661, 1.9619696711160977, 1.9619652542459494, 1.9619562364693963, 1.9619551322518591, 1.9619415135689018, 1.961906546680227, 1.9609537909819685, 1.9593085068516942, 4.5749907870471755, 1.957396738222467, 1.9558083212953532, 1.9547828712759026, 18.04922184673489, 18.403849406368828, 7.188364884517612, 3.699003972692851, 7.174904472740401, 16.203974226522643, 10.68495731699282, 3.4217618184212273, 4.2017895522942466, 6.423584554469339, 4.449512291074147, 3.7035463555679553, 2.828328812764475, 2.8323244239224596, 12.636111913478079, 16.970062686279864, 8.263130731465044, 4.090577178827997, 6.703075263719004, 11.80110261192542, 4.712864861019141, 7.034450210456752, 4.354241138118454, 4.36491266446947], \"Total\": [143.0, 32.0, 37.0, 12.0, 26.0, 16.0, 28.0, 26.0, 35.0, 11.0, 13.0, 23.0, 13.0, 10.0, 17.0, 44.0, 12.0, 33.0, 11.0, 19.0, 14.0, 8.0, 8.0, 11.0, 65.0, 7.0, 7.0, 4.0, 13.0, 6.0, 26.45363365278573, 14.57246248638325, 12.744332375403179, 9.998306259355019, 7.260958866423239, 6.346478137126529, 13.612376852889527, 5.432958183450542, 8.115932856903422, 4.519256664099999, 9.96131835528011, 14.338965896267018, 16.278446773409055, 18.09127514536501, 7.144251536465327, 33.2140427245403, 19.862964528500957, 143.68697959513912, 2.6913079389776424, 2.691307664681422, 2.691305688292293, 2.691304976115908, 2.6913009747064134, 2.6913000619936676, 2.691304067867016, 2.691301049145036, 2.6912012974638597, 2.6911736019440076, 2.691180007084292, 9.014741163851232, 17.644182575719604, 8.850692074064707, 19.74078347382992, 35.93287487357465, 5.316277967020959, 65.36234984086849, 12.569428041328973, 8.93753210617082, 6.262228931452839, 4.4761087974490765, 4.473285538110344, 28.320831011458527, 12.431692669606944, 44.20525522522179, 26.34244040039966, 26.27662179873969, 10.442934694916563, 8.70117958791234, 7.830224132612478, 7.8305469974428945, 6.959455828760803, 13.103892815000695, 5.21808809509804, 5.219889144895058, 4.346857977062211, 4.346824651417313, 4.3473262296407045, 4.347506793845389, 3.475977084774496, 3.475975216201837, 3.4759731554543314, 3.4759752718529695, 3.475974963648651, 3.4762495878431166, 3.4762227337692155, 2.6051150695745497, 2.6051134469673443, 2.605111842874192, 2.6051118538279474, 2.605110161089433, 2.605109704282972, 2.6050902038975017, 2.6050902052993865, 2.6048581462707676, 2.605296328007505, 2.605294136149376, 37.45609490256729, 7.832618259424878, 13.062566063042489, 6.961789247028815, 44.20525522522179, 26.34244040039966, 8.601992475377592, 11.305672645266434, 23.944310493348315, 35.93287487357465, 6.186006322320432, 143.68697959513912, 65.36234984086849, 19.78013835684385, 13.355014962428015, 11.87257290586219, 19.862964528500957, 5.218137409011751, 8.93753210617082, 12.8185502912209, 4.84805776818669, 4.051732119813509, 4.05276554086991, 3.254201857658187, 3.2541996676004303, 3.2541902361867487, 2.4572717251789857, 2.4572717222147937, 2.4572709631195946, 2.4572736832231565, 2.457259560939903, 2.457259573816295, 2.4572595721011385, 2.4576300892625538, 2.4576301178760986, 2.4576850172071625, 2.4579168798538196, 2.4601724128294027, 6.595848199045376, 4.129780123831024, 5.795560224116387, 5.837085931808457, 8.436019898071608, 7.512008297362473, 3.3280744980489767, 3.32807482946026, 3.3280727758185784, 3.3292357410564546, 5.911540641859763, 32.52430186741775, 13.355014962428015, 12.710573414180201, 11.87257290586219, 44.20525522522179, 23.944310493348315, 17.644182575719604, 11.025636742883295, 19.78013835684385, 33.2140427245403, 16.559740093292444, 11.328331801466401, 5.223441052977697, 4.351452166818216, 4.351441690899808, 4.3516951495596965, 4.351411361106007, 3.479437721098471, 3.4794377657626616, 3.4794377888371475, 3.479474707197789, 3.4795257028316917, 3.4781115343322115, 6.893166912271664, 10.45243647804876, 2.6074198768465164, 2.6074196719850304, 2.607419812263455, 2.607419207802758, 2.6074180930742044, 2.6074146242429554, 2.6074170254360878, 2.6074094233267884, 2.6073970627653793, 2.6074602253669172, 2.6075284408155706, 6.094003530050812, 2.6076114104284827, 2.6076962922661897, 2.6067816818844163, 26.27662179873969, 28.320831011458527, 10.452323286445523, 5.264837255305564, 11.025636742883295, 32.52430186741775, 19.78013835684385, 5.279014621019742, 7.06943862133652, 12.431692669606944, 7.720809178146862, 6.17942778542321, 4.350482289378, 4.392478242742261, 37.45609490256729, 65.36234984086849, 23.944310493348315, 7.988747147331776, 26.34244040039966, 143.68697959513912, 13.062566063042489, 44.20525522522179, 19.74078347382992, 33.2140427245403], \"Category\": [\"Default\", \"Default\", \"Default\", \"Default\", \"Default\", \"Default\", \"Default\", \"Default\", \"Default\", \"Default\", \"Default\", \"Default\", \"Default\", \"Default\", \"Default\", \"Default\", \"Default\", \"Default\", \"Default\", \"Default\", \"Default\", \"Default\", \"Default\", \"Default\", \"Default\", \"Default\", \"Default\", \"Default\", \"Default\", \"Default\", \"Topic1\", \"Topic1\", \"Topic1\", \"Topic1\", \"Topic1\", \"Topic1\", \"Topic1\", \"Topic1\", \"Topic1\", \"Topic1\", \"Topic1\", \"Topic1\", \"Topic1\", \"Topic1\", \"Topic1\", \"Topic1\", \"Topic1\", \"Topic1\", \"Topic1\", \"Topic1\", \"Topic1\", \"Topic1\", \"Topic1\", \"Topic1\", \"Topic1\", \"Topic1\", \"Topic1\", \"Topic1\", \"Topic1\", \"Topic1\", \"Topic1\", \"Topic1\", \"Topic1\", \"Topic1\", \"Topic1\", \"Topic1\", \"Topic1\", \"Topic1\", \"Topic1\", \"Topic1\", \"Topic1\", \"Topic1\", \"Topic1\", \"Topic1\", \"Topic1\", \"Topic1\", \"Topic2\", \"Topic2\", \"Topic2\", \"Topic2\", \"Topic2\", \"Topic2\", \"Topic2\", \"Topic2\", \"Topic2\", \"Topic2\", \"Topic2\", \"Topic2\", \"Topic2\", \"Topic2\", \"Topic2\", \"Topic2\", \"Topic2\", \"Topic2\", \"Topic2\", \"Topic2\", \"Topic2\", \"Topic2\", \"Topic2\", \"Topic2\", \"Topic2\", \"Topic2\", \"Topic2\", \"Topic2\", \"Topic2\", \"Topic2\", \"Topic2\", \"Topic2\", \"Topic2\", \"Topic2\", \"Topic2\", \"Topic2\", \"Topic2\", \"Topic2\", \"Topic2\", \"Topic2\", \"Topic2\", \"Topic2\", \"Topic2\", \"Topic2\", \"Topic2\", \"Topic2\", \"Topic2\", \"Topic2\", \"Topic2\", \"Topic3\", \"Topic3\", \"Topic3\", \"Topic3\", \"Topic3\", \"Topic3\", \"Topic3\", \"Topic3\", \"Topic3\", \"Topic3\", \"Topic3\", \"Topic3\", \"Topic3\", \"Topic3\", \"Topic3\", \"Topic3\", \"Topic3\", \"Topic3\", \"Topic3\", \"Topic3\", \"Topic3\", \"Topic3\", \"Topic3\", \"Topic3\", \"Topic3\", \"Topic3\", \"Topic3\", \"Topic3\", \"Topic3\", \"Topic3\", \"Topic3\", \"Topic3\", \"Topic3\", \"Topic3\", \"Topic3\", \"Topic3\", \"Topic3\", \"Topic3\", \"Topic3\", \"Topic3\", \"Topic4\", \"Topic4\", \"Topic4\", \"Topic4\", \"Topic4\", \"Topic4\", \"Topic4\", \"Topic4\", \"Topic4\", \"Topic4\", \"Topic4\", \"Topic4\", \"Topic4\", \"Topic4\", \"Topic4\", \"Topic4\", \"Topic4\", \"Topic4\", \"Topic4\", \"Topic4\", \"Topic4\", \"Topic4\", \"Topic4\", \"Topic4\", \"Topic4\", \"Topic4\", \"Topic4\", \"Topic4\", \"Topic4\", \"Topic4\", \"Topic4\", \"Topic4\", \"Topic4\", \"Topic4\", \"Topic4\", \"Topic4\", \"Topic4\", \"Topic4\", \"Topic4\", \"Topic4\", \"Topic4\", \"Topic4\", \"Topic4\", \"Topic4\", \"Topic4\", \"Topic4\", \"Topic4\", \"Topic4\", \"Topic4\", \"Topic4\", \"Topic4\", \"Topic4\", \"Topic4\", \"Topic4\"], \"logprob\": [30.0, 29.0, 28.0, 27.0, 26.0, 25.0, 24.0, 23.0, 22.0, 21.0, 20.0, 19.0, 18.0, 17.0, 16.0, 15.0, 14.0, 13.0, 12.0, 11.0, 10.0, 9.0, 8.0, 7.0, 6.0, 5.0, 4.0, 3.0, 2.0, 1.0, -3.1853, -3.8017, -3.9427, -4.2072, -4.5452, -4.6956, -3.9476, -4.8685, -4.479, -5.0786, -4.3003, -3.9417, -3.8304, -3.7487, -4.6928, -3.1768, -3.7069, -1.7283, -5.7146, -5.7146, -5.7146, -5.7146, -5.7146, -5.7146, -5.7146, -5.7146, -5.7157, -5.7159, -5.7159, -4.5072, -3.8686, -4.561, -3.7843, -3.2593, -5.0784, -2.8017, -4.3142, -4.7776, -5.0773, -5.3467, -5.3541, -4.1856, -4.7606, -4.0981, -4.5846, -4.6082, -3.7014, -3.8969, -4.0109, -4.0115, -4.1399, -3.5472, -4.469, -4.4724, -4.6739, -4.6742, -4.6776, -4.6777, -4.9421, -4.9421, -4.9421, -4.9421, -4.9421, -4.9443, -4.9456, -5.3098, -5.3098, -5.3098, -5.3098, -5.3098, -5.3098, -5.3099, -5.3099, -5.3114, -5.312, -5.312, -2.7887, -4.2982, -3.9161, -4.4631, -3.0274, -3.4746, -4.3666, -4.1677, -3.6342, -3.5478, -4.7375, -2.9416, -3.6473, -4.2072, -4.4435, -4.4907, -4.5643, -4.8666, -4.7983, -2.8866, -3.952, -4.1648, -4.1668, -4.4316, -4.4316, -4.4316, -4.7993, -4.7993, -4.7993, -4.7993, -4.7994, -4.7994, -4.7994, -4.8008, -4.8016, -4.802, -4.8026, -4.8174, -3.9615, -4.4462, -4.1633, -4.1635, -3.849, -3.9738, -4.7993, -4.7994, -4.7994, -4.7994, -4.2329, -2.6192, -3.5292, -3.6295, -3.8334, -3.3534, -3.7784, -3.9532, -4.1584, -4.2979, -4.4299, -3.2128, -3.6125, -4.4593, -4.6695, -4.6695, -4.6711, -4.6717, -4.9377, -4.9377, -4.9377, -4.9381, -4.9385, -4.9431, -4.2868, -3.8933, -5.3055, -5.3055, -5.3055, -5.3055, -5.3055, -5.3055, -5.3055, -5.3055, -5.3055, -5.306, -5.3068, -4.4588, -5.3078, -5.3086, -5.3092, -3.0863, -3.0669, -4.007, -4.6714, -4.0088, -3.1942, -3.6106, -4.7493, -4.5439, -4.1195, -4.4866, -4.6701, -4.9397, -4.9383, -3.4429, -3.148, -3.8676, -4.5707, -4.0769, -3.5112, -4.4291, -4.0286, -4.5083, -4.5058], \"loglift\": [30.0, 29.0, 28.0, 27.0, 26.0, 25.0, 24.0, 23.0, 22.0, 21.0, 20.0, 19.0, 18.0, 17.0, 16.0, 15.0, 14.0, 13.0, 12.0, 11.0, 10.0, 9.0, 8.0, 7.0, 6.0, 5.0, 4.0, 3.0, 2.0, 1.0, 0.9375, 0.9174, 0.9104, 0.8885, 0.8705, 0.8547, 0.8396, 0.8372, 0.8253, 0.8112, 0.7991, 0.7935, 0.778, 0.754, 0.7391, 0.7184, 0.7025, 0.7022, 0.6935, 0.6935, 0.6935, 0.6935, 0.6935, 0.6935, 0.6935, 0.6935, 0.6925, 0.6923, 0.6923, 0.6921, 0.6592, 0.6567, 0.6311, 0.5572, 0.649, 0.4165, 0.5527, 0.4303, 0.4863, 0.5527, 0.546, -0.131, 0.1173, -0.4887, -0.4576, -0.4787, 1.3508, 1.3378, 1.3293, 1.3286, 1.3182, 1.278, 1.2771, 1.2733, 1.2548, 1.2545, 1.251, 1.2509, 1.2102, 1.2102, 1.2102, 1.2102, 1.2102, 1.2079, 1.2066, 1.1309, 1.1309, 1.1309, 1.1309, 1.1309, 1.1309, 1.1308, 1.1308, 1.1294, 1.1286, 1.1286, 0.9863, 1.0416, 0.9123, 0.9946, 0.5819, 0.6524, 0.8796, 0.8052, 0.5883, 0.2688, 0.8384, -0.511, -0.4291, 0.2063, 0.3627, 0.4332, -0.155, 0.8794, 0.4096, 1.9607, 1.8676, 1.8342, 1.832, 1.7866, 1.7866, 1.7866, 1.6998, 1.6998, 1.6998, 1.6998, 1.6998, 1.6998, 1.6998, 1.6982, 1.6974, 1.697, 1.6963, 1.6805, 1.5502, 1.5338, 1.4777, 1.4704, 1.4166, 1.4079, 1.3964, 1.3964, 1.3964, 1.396, 1.3884, 1.297, 1.2771, 1.2262, 1.0906, 0.2559, 0.444, 0.5746, 0.8396, 0.1156, -0.5347, 1.3784, 1.3584, 1.2857, 1.2582, 1.2582, 1.2565, 1.256, 1.2136, 1.2136, 1.2136, 1.2132, 1.2128, 1.2086, 1.1808, 1.158, 1.1343, 1.1343, 1.1343, 1.1343, 1.1343, 1.1343, 1.1343, 1.1343, 1.1343, 1.1338, 1.1329, 1.132, 1.1319, 1.1311, 1.1309, 1.0432, 0.9877, 1.0444, 1.0658, 0.9891, 0.722, 0.8029, 0.9852, 0.8985, 0.7585, 0.8676, 0.9068, 0.9881, 0.9799, 0.3321, 0.0702, 0.3548, 0.7494, 0.0501, -1.0807, 0.3993, -0.4193, -0.0928, -0.6106]}, \"token.table\": {\"Topic\": [1, 4, 3, 2, 4, 4, 3, 4, 2, 1, 3, 4, 1, 2, 1, 2, 4, 4, 1, 3, 4, 3, 4, 2, 3, 4, 1, 3, 1, 2, 1, 3, 1, 1, 1, 1, 4, 2, 4, 3, 2, 4, 2, 4, 1, 4, 2, 4, 2, 3, 4, 4, 2, 3, 1, 2, 4, 3, 4, 3, 4, 2, 3, 4, 1, 2, 3, 1, 2, 2, 4, 2, 2, 4, 2, 1, 3, 2, 3, 4, 2, 1, 2, 1, 3, 1, 2, 4, 3, 4, 3, 4, 2, 4, 3, 4, 1, 4, 3, 1, 3, 4, 2, 1, 2, 4, 4, 1, 3, 4, 2, 1, 2, 4, 2, 4, 3, 1, 2, 1, 2, 1, 2, 3, 4, 1, 2, 4, 1, 2, 1, 1, 3, 2, 4, 3, 1, 2, 2, 1, 3, 4, 4, 2, 2, 2, 1, 4, 2, 3, 3, 1, 2, 3, 4, 2, 3, 4, 2, 3, 4, 1, 2, 2, 4, 1, 4, 1, 2, 3, 1, 3, 4, 4, 4, 1, 3, 1, 1, 4, 1, 4, 1, 2, 1, 3, 4, 1, 3, 4, 2, 4, 1, 2, 1, 2, 4, 2, 2, 2, 3, 2, 1, 2, 3, 4, 2, 1, 3, 1, 3, 2, 4, 1, 2, 3, 4, 3, 1, 2, 1, 3, 1, 2, 3, 1, 2, 3, 1, 4, 1, 2, 4, 4, 3, 3, 4, 4, 1, 2, 3, 4, 2, 1, 4, 2, 4, 4, 3], \"Freq\": [0.7431339137515365, 0.7669854457613989, 0.9218850370145393, 0.7676676396147728, 0.7670433315072342, 0.7670418465767724, 0.7404240732820419, 0.9661987392230167, 0.8630676549652125, 0.7431331713747955, 0.49193984440380895, 0.49193984440380895, 0.7431330956351831, 0.9202119525791711, 0.7431625430192697, 0.9582053635117973, 0.7670418053101451, 0.8621864748860897, 0.1713183618816758, 0.5139550856450273, 0.1713183618816758, 0.8137921103149623, 0.9192419810622804, 0.4176357470296746, 0.2088178735148373, 0.3341085976237397, 0.9607161461614213, 0.8136971662438588, 0.8291289519104464, 0.16582579038208928, 0.7367867536062268, 0.22670361649422363, 0.9001524624812385, 0.96405999934389, 0.743135018638402, 0.3236545630839549, 0.6473091261679098, 0.8939718559070823, 0.767029916906427, 0.9218856574378943, 0.7677277343440084, 0.7672295742673089, 0.1913429470918302, 0.7653717883673208, 0.3177872851385832, 0.6355745702771664, 0.7182061712273068, 0.2872824684909227, 0.3004741985409373, 0.6009483970818746, 0.8622082652317326, 0.9572233991517294, 0.7677204064258961, 0.7402352713836148, 0.8600329131443356, 0.061430922367452546, 0.061430922367452546, 0.7264309261135737, 0.24214364203785793, 0.6064420949801307, 0.30322104749006534, 0.3033345819810216, 0.1516672909905108, 0.5561134002985395, 0.7431337171025914, 0.30047404304988723, 0.6009480860997745, 0.5594385497701099, 0.335663129862066, 0.6407501919895822, 0.3470730206610237, 0.7677219875661544, 0.5749177848055484, 0.38327852320369893, 0.7677208846041745, 0.3383212805538291, 0.5074819208307437, 0.5812606805123391, 0.11625213610246783, 0.23250427220493566, 0.8630666793347473, 0.8851013114114845, 0.7677213540989433, 0.7431349980840507, 0.8139110541805806, 0.3233103711490842, 0.4849655567236263, 0.7670419831283581, 0.6007384743999375, 0.3003692371999688, 0.8137921197897312, 0.767042625130325, 0.6383561453392129, 0.2553424581356851, 0.8139148271950172, 0.9191820342481295, 0.8031065482170349, 0.10038831852712936, 0.8137739319714526, 0.2283398545656192, 0.0761132848552064, 0.6850195636968576, 0.8939349961485303, 0.5813744471016571, 0.15299327555306766, 0.260088568440215, 0.919233360877043, 0.8625009747395571, 0.12321442496279388, 0.7670448615040303, 0.8630056903019979, 0.6387502028086985, 0.15968755070217464, 0.15968755070217464, 0.9575852279214027, 0.8622082595138513, 0.8139108027488939, 0.7765059332008036, 0.22185883805737247, 0.8815506747782064, 0.07346255623151719, 0.22776932997859112, 0.45553865995718223, 0.037961554996431855, 0.26573088497502295, 0.9415950280110589, 0.9578747481428596, 0.7670484977377476, 0.982851745104667, 0.7677961285006211, 0.7431341645409444, 0.7908986033433687, 0.22597102952667678, 0.22985957268268126, 0.6895787180480438, 0.8250726767837406, 0.6706480000977747, 0.22354933336592492, 0.7677277339308689, 0.945406234821853, 0.27209312894662585, 0.634883967542127, 0.8625370320609894, 0.9194155710926346, 0.7676669937694084, 0.8621363721002819, 0.4021978448859198, 0.48263741386310377, 0.7677218529459876, 0.9218883292807712, 0.9361433022748676, 0.22621744742906474, 0.42981315011522303, 0.1809739579432518, 0.15835221320034532, 0.2590402060007961, 0.12952010300039804, 0.5180804120015922, 0.3743911941743697, 0.44926943300924366, 0.1497564776697479, 0.7551742831981002, 0.20137980885282672, 0.16409573691068438, 0.820478684553422, 0.37552822046720974, 0.5007042939562796, 0.3146986268564021, 0.23602397014230156, 0.4720479402846031, 0.9203089424156833, 0.14507120061458761, 0.725356003072938, 0.9710167562867553, 0.7669604799958979, 0.7524061053266273, 0.18810152633165683, 0.7431701910851353, 0.18942929159889899, 0.568287874796697, 0.18993939442140673, 0.7597575776856269, 0.07631320052124121, 0.8394452057336533, 0.7828014257592865, 0.09032324143376382, 0.12043098857835176, 0.7091917105802615, 0.05065655075573297, 0.20262620302293188, 0.6124370940128028, 0.38277318375800173, 0.6679120466826274, 0.3061263547295376, 0.7725125847363493, 0.14615102954471473, 0.08351487402555127, 0.9201057819694819, 0.7677213573269934, 0.8630671432916802, 0.813910153213638, 0.8630672059993691, 0.168455482721229, 0.336910965442458, 0.4211387068030725, 0.7670423110556678, 0.8629990235716614, 0.8368804338340786, 0.13948007230567977, 0.839836051316937, 0.1399726752194895, 0.28701752881011366, 0.6697075672235986, 0.1331201937504659, 0.2662403875009318, 0.5324807750018636, 0.8621991112032149, 0.8129511531672831, 0.7431352706611374, 0.920204897677234, 0.3556179378720729, 0.5926965631201215, 0.7431684223036653, 0.3004740131285383, 0.6009480262570766, 0.6702249958065569, 0.22340833193551898, 0.8139148266269082, 0.2276619131016325, 0.6829857393048975, 0.6364649189840269, 0.15911622974600673, 0.15911622974600673, 0.9192355738938707, 0.8139108017670783, 0.517637619831203, 0.3450917465541353, 0.8622082762995652, 0.2653535171351409, 0.5307070342702818, 0.0884511723783803, 0.0884511723783803, 0.8630671294737845, 0.2829078951140095, 0.565815790228019, 0.9200675673842899, 0.767009850667036, 0.7670417863113224, 0.8139148308919384], \"Term\": [\"abre\", \"abrir\", \"activ\", \"actualiz\", \"adecu\", \"alto\", \"aparec\", \"aplic\", \"aplicacion\", \"aplicasion\", \"app\", \"app\", \"aser\", \"avanz\", \"a\\u00f1o\", \"banc\", \"bastant\", \"bien\", \"bloque\", \"bloque\", \"bloque\", \"boton\", \"cae\", \"carg\", \"carg\", \"carg\", \"carg_factur\", \"casi\", \"celul\", \"celul\", \"clar\", \"clar\", \"clar_hog\", \"clav\", \"cobertur\", \"cobr\", \"cobr\", \"codig\", \"colg\", \"com\", \"comentari\", \"complic\", \"compr\", \"compr\", \"compr_paquet\", \"compr_paquet\", \"conect\", \"conect\", \"constant\", \"constant\", \"contrat\", \"cos\", \"cre\", \"credit\", \"cuent\", \"cuent\", \"cuent\", \"dan\", \"dan\", \"dar\", \"dar\", \"dat\", \"dat\", \"dat\", \"daviplat\", \"deb\", \"deb\", \"debit\", \"debit\", \"dej\", \"dej\", \"desplieg\", \"despues\", \"despues\", \"di\", \"dias\", \"dias\", \"dic\", \"dic\", \"dic\", \"diferent\", \"dinam\", \"diner\", \"dis\", \"dispon\", \"dos\", \"dos\", \"duplic\", \"encontr\", \"encontr\", \"encuest\", \"engorr\", \"error\", \"error\", \"escrib\", \"facil\", \"factur\", \"factur\", \"finaliz\", \"funcion\", \"funcion\", \"funcion\", \"gust\", \"hac\", \"hac\", \"hac\", \"hiz\", \"hog\", \"hog\", \"hol\", \"iba\", \"inform\", \"inform\", \"inform\", \"ingres\", \"inicial\", \"inmediat\", \"intent\", \"intent\", \"internet\", \"internet\", \"lent\", \"lent\", \"lent\", \"lent\", \"line\", \"lleg\", \"m\", \"mal\", \"mand\", \"mas\", \"medi\", \"medi\", \"mes\", \"mes\", \"mierd\", \"mism\", \"mism\", \"mm\", \"movil\", \"much\", \"much\", \"nequi\", \"ningun\", \"nuev\", \"numer\", \"nunc\", \"nunc\", \"obtuv\", \"ok\", \"opcion\", \"pag\", \"pag\", \"pag\", \"pag\", \"pagin\", \"pagin\", \"pagin\", \"paquet\", \"paquet\", \"paquet\", \"permit\", \"permit\", \"pes\", \"pes\", \"pesim\", \"pesim\", \"pid\", \"pid\", \"pid\", \"pin\", \"plan\", \"plan\", \"pod\", \"pon\", \"posibl\", \"posibl\", \"preci\", \"primer\", \"primer\", \"proces\", \"proces\", \"pse\", \"pse\", \"pud\", \"pud\", \"pud\", \"pued\", \"pued\", \"pued\", \"qued\", \"qued\", \"realiz\", \"realiz\", \"recarg\", \"recarg\", \"recarg\", \"recompens\", \"recurs\", \"registr\", \"requer\", \"sal\", \"sald\", \"sald\", \"sald\", \"se\", \"seleccion\", \"servici\", \"servici\", \"se\\u00f1al\", \"se\\u00f1al\", \"si\", \"si\", \"sirv\", \"sirv\", \"sirv\", \"sistem\", \"sol\", \"tan\", \"tard\", \"tarjet\", \"tarjet\", \"ten\", \"tiemp\", \"tiemp\", \"toc\", \"toc\", \"tod\", \"tramit\", \"tramit\", \"transaccion\", \"transaccion\", \"transaccion\", \"transferent\", \"uso\", \"utiliz\", \"utiliz\", \"valor\", \"vec\", \"vec\", \"vec\", \"vec\", \"ventan\", \"vez\", \"vez\", \"voy\", \"voz\", \"wifi\", \"xxx\"]}, \"R\": 30, \"lambda.step\": 0.01, \"plot.opts\": {\"xlab\": \"PC1\", \"ylab\": \"PC2\"}, \"topic.order\": [1, 2, 3, 4]};\n",
       "\n",
       "function LDAvis_load_lib(url, callback){\n",
       "  var s = document.createElement('script');\n",
       "  s.src = url;\n",
       "  s.async = true;\n",
       "  s.onreadystatechange = s.onload = callback;\n",
       "  s.onerror = function(){console.warn(\"failed to load library \" + url);};\n",
       "  document.getElementsByTagName(\"head\")[0].appendChild(s);\n",
       "}\n",
       "\n",
       "if(typeof(LDAvis) !== \"undefined\"){\n",
       "   // already loaded: just create the visualization\n",
       "   !function(LDAvis){\n",
       "       new LDAvis(\"#\" + \"ldavis_el1752421437211196327829852581\", ldavis_el1752421437211196327829852581_data);\n",
       "   }(LDAvis);\n",
       "}else if(typeof define === \"function\" && define.amd){\n",
       "   // require.js is available: use it to load d3/LDAvis\n",
       "   require.config({paths: {d3: \"https://d3js.org/d3.v5\"}});\n",
       "   require([\"d3\"], function(d3){\n",
       "      window.d3 = d3;\n",
       "      LDAvis_load_lib(\"https://cdn.jsdelivr.net/gh/bmabey/pyLDAvis@3.3.1/pyLDAvis/js/ldavis.v3.0.0.js\", function(){\n",
       "        new LDAvis(\"#\" + \"ldavis_el1752421437211196327829852581\", ldavis_el1752421437211196327829852581_data);\n",
       "      });\n",
       "    });\n",
       "}else{\n",
       "    // require.js not available: dynamically load d3 & LDAvis\n",
       "    LDAvis_load_lib(\"https://d3js.org/d3.v5.js\", function(){\n",
       "         LDAvis_load_lib(\"https://cdn.jsdelivr.net/gh/bmabey/pyLDAvis@3.3.1/pyLDAvis/js/ldavis.v3.0.0.js\", function(){\n",
       "                 new LDAvis(\"#\" + \"ldavis_el1752421437211196327829852581\", ldavis_el1752421437211196327829852581_data);\n",
       "            })\n",
       "         });\n",
       "}\n",
       "</script>"
      ],
      "text/plain": [
       "<IPython.core.display.HTML object>"
      ]
     },
     "execution_count": 61,
     "metadata": {},
     "output_type": "execute_result"
    }
   ],
   "source": [
    "pyLDAvis.display(modelosAccion['Pre_Paquetes-Recargasdis'])"
   ]
  },
  {
   "cell_type": "markdown",
   "metadata": {},
   "source": [
    "######  fin Zoom"
   ]
  },
  {
   "cell_type": "markdown",
   "metadata": {},
   "source": [
    "####  Construcción Tabla Final "
   ]
  },
  {
   "cell_type": "code",
   "execution_count": 62,
   "metadata": {},
   "outputs": [
    {
     "data": {
      "text/html": [
       "<div>\n",
       "<style scoped>\n",
       "    .dataframe tbody tr th:only-of-type {\n",
       "        vertical-align: middle;\n",
       "    }\n",
       "\n",
       "    .dataframe tbody tr th {\n",
       "        vertical-align: top;\n",
       "    }\n",
       "\n",
       "    .dataframe thead th {\n",
       "        text-align: right;\n",
       "    }\n",
       "</style>\n",
       "<table border=\"1\" class=\"dataframe\">\n",
       "  <thead>\n",
       "    <tr style=\"text-align: right;\">\n",
       "      <th></th>\n",
       "      <th>StartDate</th>\n",
       "      <th>EndDate</th>\n",
       "      <th>Status</th>\n",
       "      <th>IPAddress</th>\n",
       "      <th>Progress</th>\n",
       "      <th>Duration (in seconds)</th>\n",
       "      <th>Finished</th>\n",
       "      <th>RecordedDate</th>\n",
       "      <th>ResponseId</th>\n",
       "      <th>RecipientLastName</th>\n",
       "      <th>...</th>\n",
       "      <th>Tokens_Q15_T</th>\n",
       "      <th>Tokens_Q18_T</th>\n",
       "      <th>Tokens_Q20_T</th>\n",
       "      <th>Opinion</th>\n",
       "      <th>Tópico</th>\n",
       "      <th>Top_Zoom_Pre_Consulta_Saldos</th>\n",
       "      <th>Top_Zoom_Pre_Elegidos</th>\n",
       "      <th>Top_Zoom_Pre_Detalle_Plan</th>\n",
       "      <th>Top_Zoom_Pre_Paquetes-Recargas</th>\n",
       "      <th>Top_Zoom_Pre_Gestionar_Equipo</th>\n",
       "    </tr>\n",
       "  </thead>\n",
       "  <tbody>\n",
       "    <tr>\n",
       "      <th>2</th>\n",
       "      <td>2021-08-01 00:03:40</td>\n",
       "      <td>2021-08-01 00:06:10</td>\n",
       "      <td>0</td>\n",
       "      <td>191.156.38.37</td>\n",
       "      <td>100</td>\n",
       "      <td>150</td>\n",
       "      <td>1</td>\n",
       "      <td>2021-08-01 00:06:11.288</td>\n",
       "      <td>R_1EcfZSS3c60c0mV</td>\n",
       "      <td></td>\n",
       "      <td>...</td>\n",
       "      <td>[]</td>\n",
       "      <td>[]</td>\n",
       "      <td>[]</td>\n",
       "      <td>[no, ...]</td>\n",
       "      <td>3</td>\n",
       "      <td>3.0</td>\n",
       "      <td>NaN</td>\n",
       "      <td>NaN</td>\n",
       "      <td>NaN</td>\n",
       "      <td>NaN</td>\n",
       "    </tr>\n",
       "    <tr>\n",
       "      <th>12</th>\n",
       "      <td>2021-08-01 03:41:59</td>\n",
       "      <td>2021-08-01 03:44:19</td>\n",
       "      <td>0</td>\n",
       "      <td>181.136.137.90</td>\n",
       "      <td>100</td>\n",
       "      <td>139</td>\n",
       "      <td>1</td>\n",
       "      <td>2021-08-01 03:44:19.375</td>\n",
       "      <td>R_AcJ6tmnGGBi4Kwp</td>\n",
       "      <td></td>\n",
       "      <td>...</td>\n",
       "      <td>[pued, hac, consult]</td>\n",
       "      <td>[dic, conexion, internet]</td>\n",
       "      <td>[]</td>\n",
       "      <td>[no, pued, hac, consult, me, dic, conexion, in...</td>\n",
       "      <td>3</td>\n",
       "      <td>3.0</td>\n",
       "      <td>NaN</td>\n",
       "      <td>NaN</td>\n",
       "      <td>NaN</td>\n",
       "      <td>NaN</td>\n",
       "    </tr>\n",
       "    <tr>\n",
       "      <th>29</th>\n",
       "      <td>2021-07-31 06:54:36</td>\n",
       "      <td>2021-07-31 06:57:13</td>\n",
       "      <td>0</td>\n",
       "      <td>191.102.110.114</td>\n",
       "      <td>35</td>\n",
       "      <td>156</td>\n",
       "      <td>0</td>\n",
       "      <td>2021-08-01 06:57:14.795</td>\n",
       "      <td>R_9oBYU3MBAdvzlGV</td>\n",
       "      <td></td>\n",
       "      <td>...</td>\n",
       "      <td>[]</td>\n",
       "      <td>[mejor, inscripcion, eleg]</td>\n",
       "      <td>[]</td>\n",
       "      <td>[mejor, inscripcion, eleg]</td>\n",
       "      <td>3</td>\n",
       "      <td>NaN</td>\n",
       "      <td>4.0</td>\n",
       "      <td>NaN</td>\n",
       "      <td>NaN</td>\n",
       "      <td>NaN</td>\n",
       "    </tr>\n",
       "    <tr>\n",
       "      <th>43</th>\n",
       "      <td>2021-08-01 07:34:12</td>\n",
       "      <td>2021-08-01 07:35:44</td>\n",
       "      <td>0</td>\n",
       "      <td>181.63.156.46</td>\n",
       "      <td>100</td>\n",
       "      <td>91</td>\n",
       "      <td>1</td>\n",
       "      <td>2021-08-01 07:35:44.767</td>\n",
       "      <td>R_3F4h848vnFhBRzr</td>\n",
       "      <td></td>\n",
       "      <td>...</td>\n",
       "      <td>[]</td>\n",
       "      <td>[]</td>\n",
       "      <td>[]</td>\n",
       "      <td>[complet]</td>\n",
       "      <td>3</td>\n",
       "      <td>3.0</td>\n",
       "      <td>NaN</td>\n",
       "      <td>NaN</td>\n",
       "      <td>NaN</td>\n",
       "      <td>NaN</td>\n",
       "    </tr>\n",
       "    <tr>\n",
       "      <th>45</th>\n",
       "      <td>2021-08-01 07:43:41</td>\n",
       "      <td>2021-08-01 07:45:04</td>\n",
       "      <td>0</td>\n",
       "      <td>191.156.43.177</td>\n",
       "      <td>100</td>\n",
       "      <td>83</td>\n",
       "      <td>1</td>\n",
       "      <td>2021-08-01 07:45:04.815</td>\n",
       "      <td>R_1DqhCkZ5Xr5XDpR</td>\n",
       "      <td></td>\n",
       "      <td>...</td>\n",
       "      <td>[mal]</td>\n",
       "      <td>[jhgccc]</td>\n",
       "      <td>[]</td>\n",
       "      <td>[muy, mal, jhgccc]</td>\n",
       "      <td>3</td>\n",
       "      <td>NaN</td>\n",
       "      <td>NaN</td>\n",
       "      <td>3.0</td>\n",
       "      <td>NaN</td>\n",
       "      <td>NaN</td>\n",
       "    </tr>\n",
       "    <tr>\n",
       "      <th>...</th>\n",
       "      <td>...</td>\n",
       "      <td>...</td>\n",
       "      <td>...</td>\n",
       "      <td>...</td>\n",
       "      <td>...</td>\n",
       "      <td>...</td>\n",
       "      <td>...</td>\n",
       "      <td>...</td>\n",
       "      <td>...</td>\n",
       "      <td>...</td>\n",
       "      <td>...</td>\n",
       "      <td>...</td>\n",
       "      <td>...</td>\n",
       "      <td>...</td>\n",
       "      <td>...</td>\n",
       "      <td>...</td>\n",
       "      <td>...</td>\n",
       "      <td>...</td>\n",
       "      <td>...</td>\n",
       "      <td>...</td>\n",
       "      <td>...</td>\n",
       "    </tr>\n",
       "    <tr>\n",
       "      <th>14583</th>\n",
       "      <td>2021-08-31 22:42:41</td>\n",
       "      <td>2021-08-31 22:45:27</td>\n",
       "      <td>0</td>\n",
       "      <td>191.156.156.197</td>\n",
       "      <td>100</td>\n",
       "      <td>165</td>\n",
       "      <td>1</td>\n",
       "      <td>2021-08-31 22:45:27.330</td>\n",
       "      <td>R_vczS9RyQafytENr</td>\n",
       "      <td></td>\n",
       "      <td>...</td>\n",
       "      <td>[q, sal, aplic, cambi, numer]</td>\n",
       "      <td>[cambi, nimer]</td>\n",
       "      <td>[]</td>\n",
       "      <td>[q, sal, aplic, cambi, numer, cambi, nimer]</td>\n",
       "      <td>3</td>\n",
       "      <td>NaN</td>\n",
       "      <td>NaN</td>\n",
       "      <td>3.0</td>\n",
       "      <td>NaN</td>\n",
       "      <td>NaN</td>\n",
       "    </tr>\n",
       "    <tr>\n",
       "      <th>14589</th>\n",
       "      <td>2021-08-30 22:55:51</td>\n",
       "      <td>2021-08-30 22:58:05</td>\n",
       "      <td>0</td>\n",
       "      <td>181.60.16.81</td>\n",
       "      <td>41</td>\n",
       "      <td>133</td>\n",
       "      <td>0</td>\n",
       "      <td>2021-08-31 22:58:06.873</td>\n",
       "      <td>R_2aXCJApAQi3rved</td>\n",
       "      <td></td>\n",
       "      <td>...</td>\n",
       "      <td>[]</td>\n",
       "      <td>[administr, wifi]</td>\n",
       "      <td>[]</td>\n",
       "      <td>[com, administr, wifi]</td>\n",
       "      <td>3</td>\n",
       "      <td>NaN</td>\n",
       "      <td>NaN</td>\n",
       "      <td>3.0</td>\n",
       "      <td>NaN</td>\n",
       "      <td>NaN</td>\n",
       "    </tr>\n",
       "    <tr>\n",
       "      <th>14596</th>\n",
       "      <td>2021-08-31 23:14:27</td>\n",
       "      <td>2021-08-31 23:16:32</td>\n",
       "      <td>0</td>\n",
       "      <td>191.95.48.252</td>\n",
       "      <td>100</td>\n",
       "      <td>124</td>\n",
       "      <td>1</td>\n",
       "      <td>2021-08-31 23:16:32.361</td>\n",
       "      <td>R_21vzaanZGL0D3bl</td>\n",
       "      <td></td>\n",
       "      <td>...</td>\n",
       "      <td>[poc, opcion]</td>\n",
       "      <td>[]</td>\n",
       "      <td>[]</td>\n",
       "      <td>[muy, poc, opcion, nad]</td>\n",
       "      <td>3</td>\n",
       "      <td>NaN</td>\n",
       "      <td>NaN</td>\n",
       "      <td>NaN</td>\n",
       "      <td>3.0</td>\n",
       "      <td>NaN</td>\n",
       "    </tr>\n",
       "    <tr>\n",
       "      <th>14605</th>\n",
       "      <td>2021-08-31 23:36:56</td>\n",
       "      <td>2021-08-31 23:41:48</td>\n",
       "      <td>0</td>\n",
       "      <td>181.51.33.29</td>\n",
       "      <td>100</td>\n",
       "      <td>291</td>\n",
       "      <td>1</td>\n",
       "      <td>2021-08-31 23:41:48.312</td>\n",
       "      <td>R_vPmzxQRYLqoFNkt</td>\n",
       "      <td></td>\n",
       "      <td>...</td>\n",
       "      <td>[dej, agreg, contact, famili, amig]</td>\n",
       "      <td>[agreg, contact, grup, famili]</td>\n",
       "      <td>[]</td>\n",
       "      <td>[no, dej, agreg, numer, grup, famil, no, dej, ...</td>\n",
       "      <td>1</td>\n",
       "      <td>NaN</td>\n",
       "      <td>2.0</td>\n",
       "      <td>NaN</td>\n",
       "      <td>NaN</td>\n",
       "      <td>NaN</td>\n",
       "    </tr>\n",
       "    <tr>\n",
       "      <th>14606</th>\n",
       "      <td>2021-08-30 23:45:59</td>\n",
       "      <td>2021-08-30 23:46:46</td>\n",
       "      <td>0</td>\n",
       "      <td>181.142.161.28</td>\n",
       "      <td>41</td>\n",
       "      <td>47</td>\n",
       "      <td>0</td>\n",
       "      <td>2021-08-31 23:46:48.554</td>\n",
       "      <td>R_3FKiKz66K1XYuT3</td>\n",
       "      <td></td>\n",
       "      <td>...</td>\n",
       "      <td>[]</td>\n",
       "      <td>[compr, plan, postpag]</td>\n",
       "      <td>[]</td>\n",
       "      <td>[compr, plan, postpag]</td>\n",
       "      <td>3</td>\n",
       "      <td>NaN</td>\n",
       "      <td>NaN</td>\n",
       "      <td>3.0</td>\n",
       "      <td>NaN</td>\n",
       "      <td>NaN</td>\n",
       "    </tr>\n",
       "  </tbody>\n",
       "</table>\n",
       "<p>2745 rows × 78 columns</p>\n",
       "</div>"
      ],
      "text/plain": [
       "                StartDate             EndDate  Status        IPAddress  \\\n",
       "2     2021-08-01 00:03:40 2021-08-01 00:06:10       0    191.156.38.37   \n",
       "12    2021-08-01 03:41:59 2021-08-01 03:44:19       0   181.136.137.90   \n",
       "29    2021-07-31 06:54:36 2021-07-31 06:57:13       0  191.102.110.114   \n",
       "43    2021-08-01 07:34:12 2021-08-01 07:35:44       0    181.63.156.46   \n",
       "45    2021-08-01 07:43:41 2021-08-01 07:45:04       0   191.156.43.177   \n",
       "...                   ...                 ...     ...              ...   \n",
       "14583 2021-08-31 22:42:41 2021-08-31 22:45:27       0  191.156.156.197   \n",
       "14589 2021-08-30 22:55:51 2021-08-30 22:58:05       0     181.60.16.81   \n",
       "14596 2021-08-31 23:14:27 2021-08-31 23:16:32       0    191.95.48.252   \n",
       "14605 2021-08-31 23:36:56 2021-08-31 23:41:48       0     181.51.33.29   \n",
       "14606 2021-08-30 23:45:59 2021-08-30 23:46:46       0   181.142.161.28   \n",
       "\n",
       "       Progress  Duration (in seconds)  Finished            RecordedDate  \\\n",
       "2           100                    150         1 2021-08-01 00:06:11.288   \n",
       "12          100                    139         1 2021-08-01 03:44:19.375   \n",
       "29           35                    156         0 2021-08-01 06:57:14.795   \n",
       "43          100                     91         1 2021-08-01 07:35:44.767   \n",
       "45          100                     83         1 2021-08-01 07:45:04.815   \n",
       "...         ...                    ...       ...                     ...   \n",
       "14583       100                    165         1 2021-08-31 22:45:27.330   \n",
       "14589        41                    133         0 2021-08-31 22:58:06.873   \n",
       "14596       100                    124         1 2021-08-31 23:16:32.361   \n",
       "14605       100                    291         1 2021-08-31 23:41:48.312   \n",
       "14606        41                     47         0 2021-08-31 23:46:48.554   \n",
       "\n",
       "              ResponseId RecipientLastName  ...  \\\n",
       "2      R_1EcfZSS3c60c0mV                    ...   \n",
       "12     R_AcJ6tmnGGBi4Kwp                    ...   \n",
       "29     R_9oBYU3MBAdvzlGV                    ...   \n",
       "43     R_3F4h848vnFhBRzr                    ...   \n",
       "45     R_1DqhCkZ5Xr5XDpR                    ...   \n",
       "...                  ...               ...  ...   \n",
       "14583  R_vczS9RyQafytENr                    ...   \n",
       "14589  R_2aXCJApAQi3rved                    ...   \n",
       "14596  R_21vzaanZGL0D3bl                    ...   \n",
       "14605  R_vPmzxQRYLqoFNkt                    ...   \n",
       "14606  R_3FKiKz66K1XYuT3                    ...   \n",
       "\n",
       "                              Tokens_Q15_T                    Tokens_Q18_T  \\\n",
       "2                                       []                              []   \n",
       "12                    [pued, hac, consult]       [dic, conexion, internet]   \n",
       "29                                      []      [mejor, inscripcion, eleg]   \n",
       "43                                      []                              []   \n",
       "45                                   [mal]                        [jhgccc]   \n",
       "...                                    ...                             ...   \n",
       "14583        [q, sal, aplic, cambi, numer]                  [cambi, nimer]   \n",
       "14589                                   []               [administr, wifi]   \n",
       "14596                        [poc, opcion]                              []   \n",
       "14605  [dej, agreg, contact, famili, amig]  [agreg, contact, grup, famili]   \n",
       "14606                                   []          [compr, plan, postpag]   \n",
       "\n",
       "      Tokens_Q20_T                                            Opinion Tópico  \\\n",
       "2               []                                          [no, ...]      3   \n",
       "12              []  [no, pued, hac, consult, me, dic, conexion, in...      3   \n",
       "29              []                         [mejor, inscripcion, eleg]      3   \n",
       "43              []                                          [complet]      3   \n",
       "45              []                                 [muy, mal, jhgccc]      3   \n",
       "...            ...                                                ...    ...   \n",
       "14583           []        [q, sal, aplic, cambi, numer, cambi, nimer]      3   \n",
       "14589           []                             [com, administr, wifi]      3   \n",
       "14596           []                            [muy, poc, opcion, nad]      3   \n",
       "14605           []  [no, dej, agreg, numer, grup, famil, no, dej, ...      1   \n",
       "14606           []                             [compr, plan, postpag]      3   \n",
       "\n",
       "      Top_Zoom_Pre_Consulta_Saldos Top_Zoom_Pre_Elegidos  \\\n",
       "2                              3.0                   NaN   \n",
       "12                             3.0                   NaN   \n",
       "29                             NaN                   4.0   \n",
       "43                             3.0                   NaN   \n",
       "45                             NaN                   NaN   \n",
       "...                            ...                   ...   \n",
       "14583                          NaN                   NaN   \n",
       "14589                          NaN                   NaN   \n",
       "14596                          NaN                   NaN   \n",
       "14605                          NaN                   2.0   \n",
       "14606                          NaN                   NaN   \n",
       "\n",
       "      Top_Zoom_Pre_Detalle_Plan Top_Zoom_Pre_Paquetes-Recargas  \\\n",
       "2                           NaN                            NaN   \n",
       "12                          NaN                            NaN   \n",
       "29                          NaN                            NaN   \n",
       "43                          NaN                            NaN   \n",
       "45                          3.0                            NaN   \n",
       "...                         ...                            ...   \n",
       "14583                       3.0                            NaN   \n",
       "14589                       3.0                            NaN   \n",
       "14596                       NaN                            3.0   \n",
       "14605                       NaN                            NaN   \n",
       "14606                       3.0                            NaN   \n",
       "\n",
       "      Top_Zoom_Pre_Gestionar_Equipo  \n",
       "2                               NaN  \n",
       "12                              NaN  \n",
       "29                              NaN  \n",
       "43                              NaN  \n",
       "45                              NaN  \n",
       "...                             ...  \n",
       "14583                           NaN  \n",
       "14589                           NaN  \n",
       "14596                           NaN  \n",
       "14605                           NaN  \n",
       "14606                           NaN  \n",
       "\n",
       "[2745 rows x 78 columns]"
      ]
     },
     "execution_count": 62,
     "metadata": {},
     "output_type": "execute_result"
    }
   ],
   "source": [
    "ZoomAccion"
   ]
  },
  {
   "cell_type": "code",
   "execution_count": 63,
   "metadata": {},
   "outputs": [
    {
     "data": {
      "text/plain": [
       "14609"
      ]
     },
     "execution_count": 63,
     "metadata": {},
     "output_type": "execute_result"
    }
   ],
   "source": [
    "len(df)"
   ]
  },
  {
   "cell_type": "code",
   "execution_count": 64,
   "metadata": {},
   "outputs": [
    {
     "data": {
      "text/plain": [
       "14609"
      ]
     },
     "execution_count": 64,
     "metadata": {},
     "output_type": "execute_result"
    }
   ],
   "source": [
    "len(dfSent)"
   ]
  },
  {
   "cell_type": "code",
   "execution_count": 65,
   "metadata": {},
   "outputs": [
    {
     "data": {
      "text/plain": [
       "2745"
      ]
     },
     "execution_count": 65,
     "metadata": {},
     "output_type": "execute_result"
    }
   ],
   "source": [
    "len(dfc2)"
   ]
  },
  {
   "cell_type": "code",
   "execution_count": 66,
   "metadata": {},
   "outputs": [
    {
     "data": {
      "text/plain": [
       "30"
      ]
     },
     "execution_count": 66,
     "metadata": {},
     "output_type": "execute_result"
    }
   ],
   "source": [
    "len(dfc2Zoom)"
   ]
  },
  {
   "cell_type": "code",
   "execution_count": 67,
   "metadata": {},
   "outputs": [],
   "source": [
    "TablaFinal=df.copy()\n",
    "for column in Qs:    \n",
    "    TablaFinal[\"Sent_\"+column]=dfSent[\"Sent_\"+column] \n",
    "TablaFinal['Opinion']=dfc2['Opinion']\n",
    "TablaFinal['Topico']=dfc2['Tópico']\n",
    "TablaFinal['TópicoZoom']=dfc2Zoom['TópicoZoom']"
   ]
  },
  {
   "cell_type": "code",
   "execution_count": 68,
   "metadata": {},
   "outputs": [],
   "source": [
    "###  Agregar Información\n",
    "for accion in acciones:\n",
    "    TablaFinal['TópicoAccion_'+accion]=ZoomAccion['Top_Zoom_'+accion]"
   ]
  },
  {
   "cell_type": "code",
   "execution_count": 69,
   "metadata": {},
   "outputs": [
    {
     "data": {
      "text/html": [
       "<div>\n",
       "<style scoped>\n",
       "    .dataframe tbody tr th:only-of-type {\n",
       "        vertical-align: middle;\n",
       "    }\n",
       "\n",
       "    .dataframe tbody tr th {\n",
       "        vertical-align: top;\n",
       "    }\n",
       "\n",
       "    .dataframe thead th {\n",
       "        text-align: right;\n",
       "    }\n",
       "</style>\n",
       "<table border=\"1\" class=\"dataframe\">\n",
       "  <thead>\n",
       "    <tr style=\"text-align: right;\">\n",
       "      <th></th>\n",
       "      <th>StartDate</th>\n",
       "      <th>EndDate</th>\n",
       "      <th>Status</th>\n",
       "      <th>IPAddress</th>\n",
       "      <th>Progress</th>\n",
       "      <th>Duration (in seconds)</th>\n",
       "      <th>Finished</th>\n",
       "      <th>RecordedDate</th>\n",
       "      <th>ResponseId</th>\n",
       "      <th>RecipientLastName</th>\n",
       "      <th>...</th>\n",
       "      <th>Sent_Q18</th>\n",
       "      <th>Sent_Q20</th>\n",
       "      <th>Opinion</th>\n",
       "      <th>Topico</th>\n",
       "      <th>TópicoZoom</th>\n",
       "      <th>TópicoAccion_Pre_Consulta_Saldos</th>\n",
       "      <th>TópicoAccion_Pre_Elegidos</th>\n",
       "      <th>TópicoAccion_Pre_Detalle_Plan</th>\n",
       "      <th>TópicoAccion_Pre_Paquetes-Recargas</th>\n",
       "      <th>TópicoAccion_Pre_Gestionar_Equipo</th>\n",
       "    </tr>\n",
       "  </thead>\n",
       "  <tbody>\n",
       "    <tr>\n",
       "      <th>9</th>\n",
       "      <td>2021-08-01 02:53:19</td>\n",
       "      <td>2021-08-01 02:55:09</td>\n",
       "      <td>0</td>\n",
       "      <td>179.51.113.53</td>\n",
       "      <td>100</td>\n",
       "      <td>109</td>\n",
       "      <td>1</td>\n",
       "      <td>2021-08-01 02:55:09.479000</td>\n",
       "      <td>R_oY0xEScYtmBx0zL</td>\n",
       "      <td>NaN</td>\n",
       "      <td>...</td>\n",
       "      <td></td>\n",
       "      <td></td>\n",
       "      <td>NaN</td>\n",
       "      <td>NaN</td>\n",
       "      <td>NaN</td>\n",
       "      <td>NaN</td>\n",
       "      <td>NaN</td>\n",
       "      <td>NaN</td>\n",
       "      <td>NaN</td>\n",
       "      <td>NaN</td>\n",
       "    </tr>\n",
       "    <tr>\n",
       "      <th>10</th>\n",
       "      <td>2021-08-01 03:28:35</td>\n",
       "      <td>2021-08-01 03:29:41</td>\n",
       "      <td>0</td>\n",
       "      <td>181.129.169.38</td>\n",
       "      <td>100</td>\n",
       "      <td>66</td>\n",
       "      <td>1</td>\n",
       "      <td>2021-08-01 03:29:41.999000</td>\n",
       "      <td>R_1zsIXjtnNp75eSZ</td>\n",
       "      <td>NaN</td>\n",
       "      <td>...</td>\n",
       "      <td></td>\n",
       "      <td></td>\n",
       "      <td>NaN</td>\n",
       "      <td>NaN</td>\n",
       "      <td>NaN</td>\n",
       "      <td>NaN</td>\n",
       "      <td>NaN</td>\n",
       "      <td>NaN</td>\n",
       "      <td>NaN</td>\n",
       "      <td>NaN</td>\n",
       "    </tr>\n",
       "    <tr>\n",
       "      <th>17</th>\n",
       "      <td>2021-08-01 05:01:02</td>\n",
       "      <td>2021-08-01 05:02:48</td>\n",
       "      <td>0</td>\n",
       "      <td>190.143.48.121</td>\n",
       "      <td>100</td>\n",
       "      <td>106</td>\n",
       "      <td>1</td>\n",
       "      <td>2021-08-01 05:02:49.799000</td>\n",
       "      <td>R_2EovRbAF4mJZuvW</td>\n",
       "      <td>NaN</td>\n",
       "      <td>...</td>\n",
       "      <td></td>\n",
       "      <td></td>\n",
       "      <td>NaN</td>\n",
       "      <td>NaN</td>\n",
       "      <td>NaN</td>\n",
       "      <td>NaN</td>\n",
       "      <td>NaN</td>\n",
       "      <td>NaN</td>\n",
       "      <td>NaN</td>\n",
       "      <td>NaN</td>\n",
       "    </tr>\n",
       "    <tr>\n",
       "      <th>32</th>\n",
       "      <td>2021-08-01 07:06:58</td>\n",
       "      <td>2021-08-01 07:09:07</td>\n",
       "      <td>0</td>\n",
       "      <td>191.156.180.65</td>\n",
       "      <td>100</td>\n",
       "      <td>128</td>\n",
       "      <td>1</td>\n",
       "      <td>2021-08-01 07:09:07.322000</td>\n",
       "      <td>R_2V3CgfegO6y79Ud</td>\n",
       "      <td>NaN</td>\n",
       "      <td>...</td>\n",
       "      <td></td>\n",
       "      <td></td>\n",
       "      <td>NaN</td>\n",
       "      <td>NaN</td>\n",
       "      <td>NaN</td>\n",
       "      <td>NaN</td>\n",
       "      <td>NaN</td>\n",
       "      <td>NaN</td>\n",
       "      <td>NaN</td>\n",
       "      <td>NaN</td>\n",
       "    </tr>\n",
       "    <tr>\n",
       "      <th>36</th>\n",
       "      <td>2021-07-31 07:14:01</td>\n",
       "      <td>2021-07-31 07:14:36</td>\n",
       "      <td>0</td>\n",
       "      <td>191.109.92.209</td>\n",
       "      <td>0</td>\n",
       "      <td>34</td>\n",
       "      <td>0</td>\n",
       "      <td>2021-08-01 07:14:40.181000</td>\n",
       "      <td>R_2X5tbt8sycIIuAU</td>\n",
       "      <td>NaN</td>\n",
       "      <td>...</td>\n",
       "      <td></td>\n",
       "      <td></td>\n",
       "      <td>NaN</td>\n",
       "      <td>NaN</td>\n",
       "      <td>NaN</td>\n",
       "      <td>NaN</td>\n",
       "      <td>NaN</td>\n",
       "      <td>NaN</td>\n",
       "      <td>NaN</td>\n",
       "      <td>NaN</td>\n",
       "    </tr>\n",
       "    <tr>\n",
       "      <th>...</th>\n",
       "      <td>...</td>\n",
       "      <td>...</td>\n",
       "      <td>...</td>\n",
       "      <td>...</td>\n",
       "      <td>...</td>\n",
       "      <td>...</td>\n",
       "      <td>...</td>\n",
       "      <td>...</td>\n",
       "      <td>...</td>\n",
       "      <td>...</td>\n",
       "      <td>...</td>\n",
       "      <td>...</td>\n",
       "      <td>...</td>\n",
       "      <td>...</td>\n",
       "      <td>...</td>\n",
       "      <td>...</td>\n",
       "      <td>...</td>\n",
       "      <td>...</td>\n",
       "      <td>...</td>\n",
       "      <td>...</td>\n",
       "      <td>...</td>\n",
       "    </tr>\n",
       "    <tr>\n",
       "      <th>14578</th>\n",
       "      <td>2021-08-31 22:24:48</td>\n",
       "      <td>2021-08-31 22:25:49</td>\n",
       "      <td>0</td>\n",
       "      <td>190.90.9.121</td>\n",
       "      <td>100</td>\n",
       "      <td>60</td>\n",
       "      <td>1</td>\n",
       "      <td>2021-08-31 22:25:49.577000</td>\n",
       "      <td>R_2E6NWpqZIi3hfaz</td>\n",
       "      <td>NaN</td>\n",
       "      <td>...</td>\n",
       "      <td></td>\n",
       "      <td></td>\n",
       "      <td>NaN</td>\n",
       "      <td>NaN</td>\n",
       "      <td>NaN</td>\n",
       "      <td>NaN</td>\n",
       "      <td>NaN</td>\n",
       "      <td>NaN</td>\n",
       "      <td>NaN</td>\n",
       "      <td>NaN</td>\n",
       "    </tr>\n",
       "    <tr>\n",
       "      <th>14583</th>\n",
       "      <td>2021-08-31 22:42:41</td>\n",
       "      <td>2021-08-31 22:45:27</td>\n",
       "      <td>0</td>\n",
       "      <td>191.156.156.197</td>\n",
       "      <td>100</td>\n",
       "      <td>165</td>\n",
       "      <td>1</td>\n",
       "      <td>2021-08-31 22:45:27.330000</td>\n",
       "      <td>R_vczS9RyQafytENr</td>\n",
       "      <td>NaN</td>\n",
       "      <td>...</td>\n",
       "      <td>-0.6916568725552124</td>\n",
       "      <td></td>\n",
       "      <td>[q, sal, aplic, cambi, numer, cambi, nimer]</td>\n",
       "      <td>3</td>\n",
       "      <td>NaN</td>\n",
       "      <td>NaN</td>\n",
       "      <td>NaN</td>\n",
       "      <td>3.0</td>\n",
       "      <td>NaN</td>\n",
       "      <td>NaN</td>\n",
       "    </tr>\n",
       "    <tr>\n",
       "      <th>14589</th>\n",
       "      <td>2021-08-30 22:55:51</td>\n",
       "      <td>2021-08-30 22:58:05</td>\n",
       "      <td>0</td>\n",
       "      <td>181.60.16.81</td>\n",
       "      <td>41</td>\n",
       "      <td>133</td>\n",
       "      <td>0</td>\n",
       "      <td>2021-08-31 22:58:06.873000</td>\n",
       "      <td>R_2aXCJApAQi3rved</td>\n",
       "      <td>NaN</td>\n",
       "      <td>...</td>\n",
       "      <td>0.03347498436245333</td>\n",
       "      <td></td>\n",
       "      <td>[com, administr, wifi]</td>\n",
       "      <td>3</td>\n",
       "      <td>NaN</td>\n",
       "      <td>NaN</td>\n",
       "      <td>NaN</td>\n",
       "      <td>3.0</td>\n",
       "      <td>NaN</td>\n",
       "      <td>NaN</td>\n",
       "    </tr>\n",
       "    <tr>\n",
       "      <th>14606</th>\n",
       "      <td>2021-08-30 23:45:59</td>\n",
       "      <td>2021-08-30 23:46:46</td>\n",
       "      <td>0</td>\n",
       "      <td>181.142.161.28</td>\n",
       "      <td>41</td>\n",
       "      <td>47</td>\n",
       "      <td>0</td>\n",
       "      <td>2021-08-31 23:46:48.554000</td>\n",
       "      <td>R_3FKiKz66K1XYuT3</td>\n",
       "      <td>NaN</td>\n",
       "      <td>...</td>\n",
       "      <td>-0.14107212091566557</td>\n",
       "      <td></td>\n",
       "      <td>[compr, plan, postpag]</td>\n",
       "      <td>3</td>\n",
       "      <td>NaN</td>\n",
       "      <td>NaN</td>\n",
       "      <td>NaN</td>\n",
       "      <td>3.0</td>\n",
       "      <td>NaN</td>\n",
       "      <td>NaN</td>\n",
       "    </tr>\n",
       "    <tr>\n",
       "      <th>14607</th>\n",
       "      <td>2021-08-31 23:49:42</td>\n",
       "      <td>2021-08-31 23:51:41</td>\n",
       "      <td>0</td>\n",
       "      <td>191.156.47.25</td>\n",
       "      <td>100</td>\n",
       "      <td>118</td>\n",
       "      <td>1</td>\n",
       "      <td>2021-08-31 23:51:41.798000</td>\n",
       "      <td>R_dm4O8hOBtECjCq5</td>\n",
       "      <td>NaN</td>\n",
       "      <td>...</td>\n",
       "      <td></td>\n",
       "      <td></td>\n",
       "      <td>NaN</td>\n",
       "      <td>NaN</td>\n",
       "      <td>NaN</td>\n",
       "      <td>NaN</td>\n",
       "      <td>NaN</td>\n",
       "      <td>NaN</td>\n",
       "      <td>NaN</td>\n",
       "      <td>NaN</td>\n",
       "    </tr>\n",
       "  </tbody>\n",
       "</table>\n",
       "<p>2974 rows × 67 columns</p>\n",
       "</div>"
      ],
      "text/plain": [
       "                 StartDate              EndDate Status        IPAddress  \\\n",
       "9      2021-08-01 02:53:19  2021-08-01 02:55:09      0    179.51.113.53   \n",
       "10     2021-08-01 03:28:35  2021-08-01 03:29:41      0   181.129.169.38   \n",
       "17     2021-08-01 05:01:02  2021-08-01 05:02:48      0   190.143.48.121   \n",
       "32     2021-08-01 07:06:58  2021-08-01 07:09:07      0   191.156.180.65   \n",
       "36     2021-07-31 07:14:01  2021-07-31 07:14:36      0   191.109.92.209   \n",
       "...                    ...                  ...    ...              ...   \n",
       "14578  2021-08-31 22:24:48  2021-08-31 22:25:49      0     190.90.9.121   \n",
       "14583  2021-08-31 22:42:41  2021-08-31 22:45:27      0  191.156.156.197   \n",
       "14589  2021-08-30 22:55:51  2021-08-30 22:58:05      0     181.60.16.81   \n",
       "14606  2021-08-30 23:45:59  2021-08-30 23:46:46      0   181.142.161.28   \n",
       "14607  2021-08-31 23:49:42  2021-08-31 23:51:41      0    191.156.47.25   \n",
       "\n",
       "      Progress Duration (in seconds) Finished                RecordedDate  \\\n",
       "9          100                   109        1  2021-08-01 02:55:09.479000   \n",
       "10         100                    66        1  2021-08-01 03:29:41.999000   \n",
       "17         100                   106        1  2021-08-01 05:02:49.799000   \n",
       "32         100                   128        1  2021-08-01 07:09:07.322000   \n",
       "36           0                    34        0  2021-08-01 07:14:40.181000   \n",
       "...        ...                   ...      ...                         ...   \n",
       "14578      100                    60        1  2021-08-31 22:25:49.577000   \n",
       "14583      100                   165        1  2021-08-31 22:45:27.330000   \n",
       "14589       41                   133        0  2021-08-31 22:58:06.873000   \n",
       "14606       41                    47        0  2021-08-31 23:46:48.554000   \n",
       "14607      100                   118        1  2021-08-31 23:51:41.798000   \n",
       "\n",
       "              ResponseId RecipientLastName  ...              Sent_Q18  \\\n",
       "9      R_oY0xEScYtmBx0zL               NaN  ...                         \n",
       "10     R_1zsIXjtnNp75eSZ               NaN  ...                         \n",
       "17     R_2EovRbAF4mJZuvW               NaN  ...                         \n",
       "32     R_2V3CgfegO6y79Ud               NaN  ...                         \n",
       "36     R_2X5tbt8sycIIuAU               NaN  ...                         \n",
       "...                  ...               ...  ...                   ...   \n",
       "14578  R_2E6NWpqZIi3hfaz               NaN  ...                         \n",
       "14583  R_vczS9RyQafytENr               NaN  ...   -0.6916568725552124   \n",
       "14589  R_2aXCJApAQi3rved               NaN  ...   0.03347498436245333   \n",
       "14606  R_3FKiKz66K1XYuT3               NaN  ...  -0.14107212091566557   \n",
       "14607  R_dm4O8hOBtECjCq5               NaN  ...                         \n",
       "\n",
       "      Sent_Q20                                      Opinion Topico TópicoZoom  \\\n",
       "9                                                       NaN    NaN        NaN   \n",
       "10                                                      NaN    NaN        NaN   \n",
       "17                                                      NaN    NaN        NaN   \n",
       "32                                                      NaN    NaN        NaN   \n",
       "36                                                      NaN    NaN        NaN   \n",
       "...        ...                                          ...    ...        ...   \n",
       "14578                                                   NaN    NaN        NaN   \n",
       "14583           [q, sal, aplic, cambi, numer, cambi, nimer]      3        NaN   \n",
       "14589                                [com, administr, wifi]      3        NaN   \n",
       "14606                                [compr, plan, postpag]      3        NaN   \n",
       "14607                                                   NaN    NaN        NaN   \n",
       "\n",
       "      TópicoAccion_Pre_Consulta_Saldos TópicoAccion_Pre_Elegidos  \\\n",
       "9                                  NaN                       NaN   \n",
       "10                                 NaN                       NaN   \n",
       "17                                 NaN                       NaN   \n",
       "32                                 NaN                       NaN   \n",
       "36                                 NaN                       NaN   \n",
       "...                                ...                       ...   \n",
       "14578                              NaN                       NaN   \n",
       "14583                              NaN                       NaN   \n",
       "14589                              NaN                       NaN   \n",
       "14606                              NaN                       NaN   \n",
       "14607                              NaN                       NaN   \n",
       "\n",
       "      TópicoAccion_Pre_Detalle_Plan TópicoAccion_Pre_Paquetes-Recargas  \\\n",
       "9                               NaN                                NaN   \n",
       "10                              NaN                                NaN   \n",
       "17                              NaN                                NaN   \n",
       "32                              NaN                                NaN   \n",
       "36                              NaN                                NaN   \n",
       "...                             ...                                ...   \n",
       "14578                           NaN                                NaN   \n",
       "14583                           3.0                                NaN   \n",
       "14589                           3.0                                NaN   \n",
       "14606                           3.0                                NaN   \n",
       "14607                           NaN                                NaN   \n",
       "\n",
       "      TópicoAccion_Pre_Gestionar_Equipo  \n",
       "9                                   NaN  \n",
       "10                                  NaN  \n",
       "17                                  NaN  \n",
       "32                                  NaN  \n",
       "36                                  NaN  \n",
       "...                                 ...  \n",
       "14578                               NaN  \n",
       "14583                               NaN  \n",
       "14589                               NaN  \n",
       "14606                               NaN  \n",
       "14607                               NaN  \n",
       "\n",
       "[2974 rows x 67 columns]"
      ]
     },
     "execution_count": 69,
     "metadata": {},
     "output_type": "execute_result"
    }
   ],
   "source": [
    "TablaFinal[TablaFinal['Accion']==\"Pre_Detalle_Plan\"]"
   ]
  },
  {
   "cell_type": "code",
   "execution_count": 70,
   "metadata": {},
   "outputs": [],
   "source": [
    "TablaFinal.to_csv('TablaFinalAgo.csv',index=False, sep=';', encoding=\"utf-8-sig\")"
   ]
  },
  {
   "cell_type": "code",
   "execution_count": null,
   "metadata": {},
   "outputs": [],
   "source": []
  }
 ],
 "metadata": {
  "kernelspec": {
   "display_name": "Python 3 (ipykernel)",
   "language": "python",
   "name": "python3"
  },
  "language_info": {
   "codemirror_mode": {
    "name": "ipython",
    "version": 3
   },
   "file_extension": ".py",
   "mimetype": "text/x-python",
   "name": "python",
   "nbconvert_exporter": "python",
   "pygments_lexer": "ipython3",
   "version": "3.8.11"
  }
 },
 "nbformat": 4,
 "nbformat_minor": 4
}
