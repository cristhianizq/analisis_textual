{
 "cells": [
  {
   "cell_type": "code",
   "execution_count": 1,
   "metadata": {},
   "outputs": [
    {
     "name": "stderr",
     "output_type": "stream",
     "text": [
      "C:\\ProgramData\\Anaconda3\\lib\\site-packages\\scipy\\sparse\\sparsetools.py:21: DeprecationWarning: `scipy.sparse.sparsetools` is deprecated!\n",
      "scipy.sparse.sparsetools is a private module for scipy.sparse, and should not be used.\n",
      "  _deprecated()\n",
      "C:\\ProgramData\\Anaconda3\\lib\\site-packages\\gensim\\similarities\\__init__.py:15: UserWarning: The gensim.similarities.levenshtein submodule is disabled, because the optional Levenshtein package <https://pypi.org/project/python-Levenshtein/> is unavailable. Install Levenhstein (e.g. `pip install python-Levenshtein`) to suppress this warning.\n",
      "  warnings.warn(msg)\n"
     ]
    }
   ],
   "source": [
    "import pandas as pd \n",
    "import numpy as np \n",
    "from textblob import TextBlob\n",
    "import matplotlib.pyplot as plt\n",
    "\n",
    "import pyLDAvis\n",
    "import pyLDAvis.sklearn\n",
    "pyLDAvis.enable_notebook()\n",
    "\n",
    "\n",
    "import json, re\n",
    "from nltk.corpus import stopwords\n",
    "from nltk.stem import SnowballStemmer\n",
    "from nltk.tokenize import ToktokTokenizer\n",
    "\n",
    "\n",
    "from sklearn.datasets import fetch_20newsgroups\n",
    "from sklearn.feature_extraction.text import CountVectorizer, TfidfVectorizer\n",
    "from sklearn.decomposition import LatentDirichletAllocation\n",
    "\n",
    "from gensim.models.coherencemodel import CoherenceModel\n",
    "from gensim import corpora\n",
    "from gensim.corpora import Dictionary\n",
    "from gensim.models import LdaModel\n",
    "import gensim\n",
    "\n",
    "from sentiment_analysis_spanish import sentiment_analysis\n",
    "import nltk\n",
    "import pyLDAvis.gensim_models\n",
    "\n",
    "import random\n",
    "from wordcloud import WordCloud\n",
    "import warnings\n",
    "warnings.filterwarnings('ignore')\n",
    "%matplotlib inline"
   ]
  },
  {
   "cell_type": "code",
   "execution_count": 2,
   "metadata": {},
   "outputs": [
    {
     "data": {
      "text/html": [
       "<div>\n",
       "<style scoped>\n",
       "    .dataframe tbody tr th:only-of-type {\n",
       "        vertical-align: middle;\n",
       "    }\n",
       "\n",
       "    .dataframe tbody tr th {\n",
       "        vertical-align: top;\n",
       "    }\n",
       "\n",
       "    .dataframe thead th {\n",
       "        text-align: right;\n",
       "    }\n",
       "</style>\n",
       "<table border=\"1\" class=\"dataframe\">\n",
       "  <thead>\n",
       "    <tr style=\"text-align: right;\">\n",
       "      <th></th>\n",
       "      <th>StartDate</th>\n",
       "      <th>EndDate</th>\n",
       "      <th>Status</th>\n",
       "      <th>IPAddress</th>\n",
       "      <th>Progress</th>\n",
       "      <th>Duration (in seconds)</th>\n",
       "      <th>Finished</th>\n",
       "      <th>RecordedDate</th>\n",
       "      <th>ResponseId</th>\n",
       "      <th>RecipientLastName</th>\n",
       "      <th>...</th>\n",
       "      <th>Q15 - Topic Sentiment Label</th>\n",
       "      <th>Q15 - Topic Sentiment Score</th>\n",
       "      <th>Q15 - Topics</th>\n",
       "      <th>Q20 - Parent Topics</th>\n",
       "      <th>Q20 - Sentiment Polarity</th>\n",
       "      <th>Q20 - Sentiment Score</th>\n",
       "      <th>Q20 - Sentiment</th>\n",
       "      <th>Q20 - Topic Sentiment Label</th>\n",
       "      <th>Q20 - Topic Sentiment Score</th>\n",
       "      <th>Q20 - Topics</th>\n",
       "    </tr>\n",
       "  </thead>\n",
       "  <tbody>\n",
       "    <tr>\n",
       "      <th>1</th>\n",
       "      <td>2021-05-01 00:01:09</td>\n",
       "      <td>2021-05-01 00:02:59</td>\n",
       "      <td>IP Address</td>\n",
       "      <td>181.78.16.235</td>\n",
       "      <td>100</td>\n",
       "      <td>110</td>\n",
       "      <td>True</td>\n",
       "      <td>2021-05-01 00:02:59.714000</td>\n",
       "      <td>R_3ISGyOV01BzngPO</td>\n",
       "      <td>NaN</td>\n",
       "      <td>...</td>\n",
       "      <td>NaN</td>\n",
       "      <td>NaN</td>\n",
       "      <td>NaN</td>\n",
       "      <td>NaN</td>\n",
       "      <td>NaN</td>\n",
       "      <td>NaN</td>\n",
       "      <td>NaN</td>\n",
       "      <td>NaN</td>\n",
       "      <td>NaN</td>\n",
       "      <td>NaN</td>\n",
       "    </tr>\n",
       "    <tr>\n",
       "      <th>2</th>\n",
       "      <td>2021-04-30 00:08:19</td>\n",
       "      <td>2021-04-30 00:10:59</td>\n",
       "      <td>IP Address</td>\n",
       "      <td>191.156.153.227</td>\n",
       "      <td>38</td>\n",
       "      <td>160</td>\n",
       "      <td>False</td>\n",
       "      <td>2021-05-01 00:11:00.156000</td>\n",
       "      <td>R_22t2EpjmNZEoqFT</td>\n",
       "      <td>NaN</td>\n",
       "      <td>...</td>\n",
       "      <td>NaN</td>\n",
       "      <td>NaN</td>\n",
       "      <td>NaN</td>\n",
       "      <td>NaN</td>\n",
       "      <td>NaN</td>\n",
       "      <td>NaN</td>\n",
       "      <td>NaN</td>\n",
       "      <td>NaN</td>\n",
       "      <td>NaN</td>\n",
       "      <td>NaN</td>\n",
       "    </tr>\n",
       "  </tbody>\n",
       "</table>\n",
       "<p>2 rows × 53 columns</p>\n",
       "</div>"
      ],
      "text/plain": [
       "             StartDate              EndDate      Status        IPAddress  \\\n",
       "1  2021-05-01 00:01:09  2021-05-01 00:02:59  IP Address    181.78.16.235   \n",
       "2  2021-04-30 00:08:19  2021-04-30 00:10:59  IP Address  191.156.153.227   \n",
       "\n",
       "  Progress Duration (in seconds) Finished                RecordedDate  \\\n",
       "1      100                   110     True  2021-05-01 00:02:59.714000   \n",
       "2       38                   160    False  2021-05-01 00:11:00.156000   \n",
       "\n",
       "          ResponseId RecipientLastName  ... Q15 - Topic Sentiment Label  \\\n",
       "1  R_3ISGyOV01BzngPO               NaN  ...                         NaN   \n",
       "2  R_22t2EpjmNZEoqFT               NaN  ...                         NaN   \n",
       "\n",
       "  Q15 - Topic Sentiment Score Q15 - Topics Q20 - Parent Topics  \\\n",
       "1                         NaN          NaN                 NaN   \n",
       "2                         NaN          NaN                 NaN   \n",
       "\n",
       "  Q20 - Sentiment Polarity Q20 - Sentiment Score Q20 - Sentiment  \\\n",
       "1                      NaN                   NaN             NaN   \n",
       "2                      NaN                   NaN             NaN   \n",
       "\n",
       "  Q20 - Topic Sentiment Label Q20 - Topic Sentiment Score Q20 - Topics  \n",
       "1                         NaN                         NaN          NaN  \n",
       "2                         NaN                         NaN          NaN  \n",
       "\n",
       "[2 rows x 53 columns]"
      ]
     },
     "execution_count": 2,
     "metadata": {},
     "output_type": "execute_result"
    }
   ],
   "source": [
    "#df = pd.read_excel('Resultados Touchpoint APP Personas del 1abr al 24 May.xlsx')\n",
    "#df = pd.read_excel('Touchpoint APP Personas 1 May al 8 Ago Prepago.xlsx')\n",
    "df1 = pd.read_excel('Touchpoint APP Personas 1 May al 31Jul.xlsx')\n",
    "df1 = df1.drop([0], axis=0)\n",
    "df1.head(2)"
   ]
  },
  {
   "cell_type": "code",
   "execution_count": 3,
   "metadata": {},
   "outputs": [
    {
     "data": {
      "text/html": [
       "<div>\n",
       "<style scoped>\n",
       "    .dataframe tbody tr th:only-of-type {\n",
       "        vertical-align: middle;\n",
       "    }\n",
       "\n",
       "    .dataframe tbody tr th {\n",
       "        vertical-align: top;\n",
       "    }\n",
       "\n",
       "    .dataframe thead th {\n",
       "        text-align: right;\n",
       "    }\n",
       "</style>\n",
       "<table border=\"1\" class=\"dataframe\">\n",
       "  <thead>\n",
       "    <tr style=\"text-align: right;\">\n",
       "      <th></th>\n",
       "      <th>StartDate</th>\n",
       "      <th>EndDate</th>\n",
       "      <th>Status</th>\n",
       "      <th>IPAddress</th>\n",
       "      <th>Progress</th>\n",
       "      <th>Duration (in seconds)</th>\n",
       "      <th>Finished</th>\n",
       "      <th>RecordedDate</th>\n",
       "      <th>ResponseId</th>\n",
       "      <th>RecipientLastName</th>\n",
       "      <th>...</th>\n",
       "      <th>Q15 - Topic Sentiment Label</th>\n",
       "      <th>Q15 - Topic Sentiment Score</th>\n",
       "      <th>Q15 - Topics</th>\n",
       "      <th>Q20 - Parent Topics</th>\n",
       "      <th>Q20 - Sentiment Polarity</th>\n",
       "      <th>Q20 - Sentiment Score</th>\n",
       "      <th>Q20 - Sentiment</th>\n",
       "      <th>Q20 - Topic Sentiment Label</th>\n",
       "      <th>Q20 - Topic Sentiment Score</th>\n",
       "      <th>Q20 - Topics</th>\n",
       "    </tr>\n",
       "  </thead>\n",
       "  <tbody>\n",
       "    <tr>\n",
       "      <th>1</th>\n",
       "      <td>2021-08-01 00:02:16</td>\n",
       "      <td>2021-08-01 00:03:15</td>\n",
       "      <td>0</td>\n",
       "      <td>191.156.136.74</td>\n",
       "      <td>100</td>\n",
       "      <td>59</td>\n",
       "      <td>1</td>\n",
       "      <td>2021-08-01 00:03:16.244000</td>\n",
       "      <td>R_1IoVtduLafA89nU</td>\n",
       "      <td>NaN</td>\n",
       "      <td>...</td>\n",
       "      <td>NaN</td>\n",
       "      <td>NaN</td>\n",
       "      <td>NaN</td>\n",
       "      <td>NaN</td>\n",
       "      <td>NaN</td>\n",
       "      <td>NaN</td>\n",
       "      <td>NaN</td>\n",
       "      <td>NaN</td>\n",
       "      <td>NaN</td>\n",
       "      <td>NaN</td>\n",
       "    </tr>\n",
       "    <tr>\n",
       "      <th>2</th>\n",
       "      <td>2021-08-01 00:03:40</td>\n",
       "      <td>2021-08-01 00:06:10</td>\n",
       "      <td>0</td>\n",
       "      <td>191.156.38.37</td>\n",
       "      <td>100</td>\n",
       "      <td>150</td>\n",
       "      <td>1</td>\n",
       "      <td>2021-08-01 00:06:11.288000</td>\n",
       "      <td>R_1EcfZSS3c60c0mV</td>\n",
       "      <td>NaN</td>\n",
       "      <td>...</td>\n",
       "      <td>NaN</td>\n",
       "      <td>NaN</td>\n",
       "      <td>Unknown</td>\n",
       "      <td>NaN</td>\n",
       "      <td>NaN</td>\n",
       "      <td>NaN</td>\n",
       "      <td>NaN</td>\n",
       "      <td>NaN</td>\n",
       "      <td>NaN</td>\n",
       "      <td>NaN</td>\n",
       "    </tr>\n",
       "  </tbody>\n",
       "</table>\n",
       "<p>2 rows × 53 columns</p>\n",
       "</div>"
      ],
      "text/plain": [
       "             StartDate              EndDate Status       IPAddress Progress  \\\n",
       "1  2021-08-01 00:02:16  2021-08-01 00:03:15      0  191.156.136.74      100   \n",
       "2  2021-08-01 00:03:40  2021-08-01 00:06:10      0   191.156.38.37      100   \n",
       "\n",
       "  Duration (in seconds) Finished                RecordedDate  \\\n",
       "1                    59        1  2021-08-01 00:03:16.244000   \n",
       "2                   150        1  2021-08-01 00:06:11.288000   \n",
       "\n",
       "          ResponseId RecipientLastName  ... Q15 - Topic Sentiment Label  \\\n",
       "1  R_1IoVtduLafA89nU               NaN  ...                         NaN   \n",
       "2  R_1EcfZSS3c60c0mV               NaN  ...                         NaN   \n",
       "\n",
       "  Q15 - Topic Sentiment Score Q15 - Topics Q20 - Parent Topics  \\\n",
       "1                         NaN          NaN                 NaN   \n",
       "2                         NaN      Unknown                 NaN   \n",
       "\n",
       "  Q20 - Sentiment Polarity Q20 - Sentiment Score Q20 - Sentiment  \\\n",
       "1                      NaN                   NaN             NaN   \n",
       "2                      NaN                   NaN             NaN   \n",
       "\n",
       "  Q20 - Topic Sentiment Label Q20 - Topic Sentiment Score Q20 - Topics  \n",
       "1                         NaN                         NaN          NaN  \n",
       "2                         NaN                         NaN          NaN  \n",
       "\n",
       "[2 rows x 53 columns]"
      ]
     },
     "execution_count": 3,
     "metadata": {},
     "output_type": "execute_result"
    }
   ],
   "source": [
    "df2 = pd.read_excel('Touchpoint APP Personas_ 1 al 31 ago completa.xlsx',sheet_name='SheetAjustado_2')\n",
    "df2 = df2.drop([0], axis=0)\n",
    "df2.head(2)"
   ]
  },
  {
   "cell_type": "code",
   "execution_count": 4,
   "metadata": {},
   "outputs": [],
   "source": [
    "df=df1.append(df2)\n",
    "df.reset_index(inplace=True)"
   ]
  },
  {
   "cell_type": "code",
   "execution_count": 5,
   "metadata": {},
   "outputs": [
    {
     "data": {
      "text/plain": [
       "59097"
      ]
     },
     "execution_count": 5,
     "metadata": {},
     "output_type": "execute_result"
    }
   ],
   "source": [
    "len(df)"
   ]
  },
  {
   "cell_type": "code",
   "execution_count": 6,
   "metadata": {},
   "outputs": [
    {
     "data": {
      "text/html": [
       "<div>\n",
       "<style scoped>\n",
       "    .dataframe tbody tr th:only-of-type {\n",
       "        vertical-align: middle;\n",
       "    }\n",
       "\n",
       "    .dataframe tbody tr th {\n",
       "        vertical-align: top;\n",
       "    }\n",
       "\n",
       "    .dataframe thead th {\n",
       "        text-align: right;\n",
       "    }\n",
       "</style>\n",
       "<table border=\"1\" class=\"dataframe\">\n",
       "  <thead>\n",
       "    <tr style=\"text-align: right;\">\n",
       "      <th></th>\n",
       "      <th>index</th>\n",
       "      <th>StartDate</th>\n",
       "      <th>EndDate</th>\n",
       "      <th>Status</th>\n",
       "      <th>IPAddress</th>\n",
       "      <th>Progress</th>\n",
       "      <th>Duration (in seconds)</th>\n",
       "      <th>Finished</th>\n",
       "      <th>RecordedDate</th>\n",
       "      <th>ResponseId</th>\n",
       "      <th>...</th>\n",
       "      <th>Q15 - Topic Sentiment Label</th>\n",
       "      <th>Q15 - Topic Sentiment Score</th>\n",
       "      <th>Q15 - Topics</th>\n",
       "      <th>Q20 - Parent Topics</th>\n",
       "      <th>Q20 - Sentiment Polarity</th>\n",
       "      <th>Q20 - Sentiment Score</th>\n",
       "      <th>Q20 - Sentiment</th>\n",
       "      <th>Q20 - Topic Sentiment Label</th>\n",
       "      <th>Q20 - Topic Sentiment Score</th>\n",
       "      <th>Q20 - Topics</th>\n",
       "    </tr>\n",
       "  </thead>\n",
       "  <tbody>\n",
       "    <tr>\n",
       "      <th>1</th>\n",
       "      <td>2</td>\n",
       "      <td>2021-04-30 00:08:19</td>\n",
       "      <td>2021-04-30 00:10:59</td>\n",
       "      <td>IP Address</td>\n",
       "      <td>191.156.153.227</td>\n",
       "      <td>38</td>\n",
       "      <td>160</td>\n",
       "      <td>False</td>\n",
       "      <td>2021-05-01 00:11:00.156000</td>\n",
       "      <td>R_22t2EpjmNZEoqFT</td>\n",
       "      <td>...</td>\n",
       "      <td>NaN</td>\n",
       "      <td>NaN</td>\n",
       "      <td>NaN</td>\n",
       "      <td>NaN</td>\n",
       "      <td>NaN</td>\n",
       "      <td>NaN</td>\n",
       "      <td>NaN</td>\n",
       "      <td>NaN</td>\n",
       "      <td>NaN</td>\n",
       "      <td>NaN</td>\n",
       "    </tr>\n",
       "    <tr>\n",
       "      <th>2</th>\n",
       "      <td>3</td>\n",
       "      <td>2021-04-30 00:10:51</td>\n",
       "      <td>2021-04-30 00:11:03</td>\n",
       "      <td>IP Address</td>\n",
       "      <td>181.78.21.213</td>\n",
       "      <td>6</td>\n",
       "      <td>11</td>\n",
       "      <td>False</td>\n",
       "      <td>2021-05-01 00:11:04.303000</td>\n",
       "      <td>R_2y9PPrBZcRkKcoZ</td>\n",
       "      <td>...</td>\n",
       "      <td>NaN</td>\n",
       "      <td>NaN</td>\n",
       "      <td>NaN</td>\n",
       "      <td>NaN</td>\n",
       "      <td>NaN</td>\n",
       "      <td>NaN</td>\n",
       "      <td>NaN</td>\n",
       "      <td>NaN</td>\n",
       "      <td>NaN</td>\n",
       "      <td>NaN</td>\n",
       "    </tr>\n",
       "  </tbody>\n",
       "</table>\n",
       "<p>2 rows × 54 columns</p>\n",
       "</div>"
      ],
      "text/plain": [
       "   index            StartDate              EndDate      Status  \\\n",
       "1      2  2021-04-30 00:08:19  2021-04-30 00:10:59  IP Address   \n",
       "2      3  2021-04-30 00:10:51  2021-04-30 00:11:03  IP Address   \n",
       "\n",
       "         IPAddress Progress Duration (in seconds) Finished  \\\n",
       "1  191.156.153.227       38                   160    False   \n",
       "2    181.78.21.213        6                    11    False   \n",
       "\n",
       "                 RecordedDate         ResponseId  ...  \\\n",
       "1  2021-05-01 00:11:00.156000  R_22t2EpjmNZEoqFT  ...   \n",
       "2  2021-05-01 00:11:04.303000  R_2y9PPrBZcRkKcoZ  ...   \n",
       "\n",
       "  Q15 - Topic Sentiment Label Q15 - Topic Sentiment Score Q15 - Topics  \\\n",
       "1                         NaN                         NaN          NaN   \n",
       "2                         NaN                         NaN          NaN   \n",
       "\n",
       "  Q20 - Parent Topics Q20 - Sentiment Polarity Q20 - Sentiment Score  \\\n",
       "1                 NaN                      NaN                   NaN   \n",
       "2                 NaN                      NaN                   NaN   \n",
       "\n",
       "  Q20 - Sentiment Q20 - Topic Sentiment Label Q20 - Topic Sentiment Score  \\\n",
       "1             NaN                         NaN                         NaN   \n",
       "2             NaN                         NaN                         NaN   \n",
       "\n",
       "  Q20 - Topics  \n",
       "1          NaN  \n",
       "2          NaN  \n",
       "\n",
       "[2 rows x 54 columns]"
      ]
     },
     "execution_count": 6,
     "metadata": {},
     "output_type": "execute_result"
    }
   ],
   "source": [
    "df = df.drop([0], axis=0)\n",
    "\n",
    "df.head(2)"
   ]
  },
  {
   "cell_type": "code",
   "execution_count": 7,
   "metadata": {},
   "outputs": [
    {
     "data": {
      "text/plain": [
       "Promotor     30835\n",
       "Detractor    11357\n",
       "Pasivo        9876\n",
       "Name: Q2_NPS_GROUP, dtype: int64"
      ]
     },
     "execution_count": 7,
     "metadata": {},
     "output_type": "execute_result"
    }
   ],
   "source": [
    "df.Q2_NPS_GROUP.value_counts()"
   ]
  },
  {
   "cell_type": "code",
   "execution_count": 8,
   "metadata": {
    "scrolled": false
   },
   "outputs": [
    {
     "data": {
      "image/png": "[encoded data removed]",
      "text/plain": [
       "<Figure size 432x288 with 1 Axes>"
      ]
     },
     "metadata": {},
     "output_type": "display_data"
    }
   ],
   "source": [
    "A = df.Q2_NPS_GROUP.value_counts()\n",
    "indices = A.index\n",
    "plt.pie(A, labels=indices, autopct=\"%0.1f %%\")\n",
    "plt.axis(\"equal\")\n",
    "plt.show()"
   ]
  },
  {
   "cell_type": "markdown",
   "metadata": {},
   "source": [
    "####  Funciones para Limpieza de texto"
   ]
  },
  {
   "cell_type": "code",
   "execution_count": 9,
   "metadata": {},
   "outputs": [],
   "source": [
    "def limpiar_texto(texto):\n",
    "    \"\"\"\n",
    "    Función para realizar la limpieza de un texto dado.\n",
    "    \"\"\"\n",
    "    # Eliminamos los caracteres especiales\n",
    "    texto = re.sub(r'\\W', ' ', str(texto))\n",
    "    # Eliminamos comas y /\n",
    "    texto = re.sub(r',', ' ', str(texto))\n",
    "    texto = re.sub(r'/', ' ', str(texto))\n",
    "    # Eliminado las palabras que tengo un solo caracter\n",
    "    texto = re.sub(r'\\s+[a-zA-Z]\\s+', ' ', texto)\n",
    "    # Sustituir los espacios en blanco en uno solo\n",
    "    texto = re.sub(r'\\s+', ' ', texto, flags=re.I)\n",
    "    # remover \\n\n",
    "    #texto = re.sub(r'\\n', '', texto)\n",
    "    texto = texto.replace('\\n', '')\n",
    "    # Convertimos textos a minusculas\n",
    "    texto = texto.lower()\n",
    "    return texto"
   ]
  },
  {
   "cell_type": "code",
   "execution_count": 10,
   "metadata": {},
   "outputs": [
    {
     "name": "stderr",
     "output_type": "stream",
     "text": [
      "[nltk_data] Downloading package stopwords to\n",
      "[nltk_data]     C:\\Users\\CristhianJohnatanIzq\\AppData\\Roaming\\nltk_dat\n",
      "[nltk_data]     a...\n",
      "[nltk_data]   Package stopwords is already up-to-date!\n"
     ]
    }
   ],
   "source": [
    "nltk.download('stopwords')\n",
    "STOPWORDS = set(stopwords.words(\"spanish\"))\n",
    "def filtrar_stopword_digitos(tokens):\n",
    "    \"\"\"\n",
    "    Filtra stopwords y digitos de una lista de tokens.\n",
    "    \"\"\"\n",
    "    return [token for token in tokens if token not in STOPWORDS \n",
    "            and not token.isdigit()]"
   ]
  },
  {
   "cell_type": "code",
   "execution_count": 11,
   "metadata": {},
   "outputs": [],
   "source": [
    "stemmer = SnowballStemmer(\"spanish\")\n",
    "def stem_palabras(tokens):\n",
    "    \"\"\"\n",
    "    Reduce cada palabra de una lista dada a su raíz.\n",
    "    \"\"\"\n",
    "    return [stemmer.stem(token) for token in tokens]"
   ]
  },
  {
   "cell_type": "code",
   "execution_count": 12,
   "metadata": {},
   "outputs": [],
   "source": [
    "def Limpiar_Caracter(texto):\n",
    "    if len(texto) == 1 or texto == ',':\n",
    "        texto = ''\n",
    "    else:\n",
    "        texto = texto\n",
    "    return texto"
   ]
  },
  {
   "cell_type": "markdown",
   "metadata": {},
   "source": [
    "###  Seleccion de Preguntas"
   ]
  },
  {
   "cell_type": "code",
   "execution_count": 13,
   "metadata": {},
   "outputs": [],
   "source": [
    "Qs=['Q4','Q10','Q12','Q15','Q18','Q20']"
   ]
  },
  {
   "cell_type": "markdown",
   "metadata": {},
   "source": [
    "###  Analisis de sentimientos"
   ]
  },
  {
   "cell_type": "code",
   "execution_count": 14,
   "metadata": {},
   "outputs": [],
   "source": [
    "sentiment = sentiment_analysis.SentimentAnalysisSpanish()"
   ]
  },
  {
   "cell_type": "code",
   "execution_count": 15,
   "metadata": {},
   "outputs": [],
   "source": [
    "dfSent=df.fillna('')"
   ]
  },
  {
   "cell_type": "code",
   "execution_count": 16,
   "metadata": {
    "scrolled": true
   },
   "outputs": [
    {
     "data": {
      "text/html": [
       "<div>\n",
       "<style scoped>\n",
       "    .dataframe tbody tr th:only-of-type {\n",
       "        vertical-align: middle;\n",
       "    }\n",
       "\n",
       "    .dataframe tbody tr th {\n",
       "        vertical-align: top;\n",
       "    }\n",
       "\n",
       "    .dataframe thead th {\n",
       "        text-align: right;\n",
       "    }\n",
       "</style>\n",
       "<table border=\"1\" class=\"dataframe\">\n",
       "  <thead>\n",
       "    <tr style=\"text-align: right;\">\n",
       "      <th></th>\n",
       "      <th>index</th>\n",
       "      <th>StartDate</th>\n",
       "      <th>EndDate</th>\n",
       "      <th>Status</th>\n",
       "      <th>IPAddress</th>\n",
       "      <th>Progress</th>\n",
       "      <th>Duration (in seconds)</th>\n",
       "      <th>Finished</th>\n",
       "      <th>RecordedDate</th>\n",
       "      <th>ResponseId</th>\n",
       "      <th>...</th>\n",
       "      <th>Tokens_Q10</th>\n",
       "      <th>Sent_Q10</th>\n",
       "      <th>Tokens_Q12</th>\n",
       "      <th>Sent_Q12</th>\n",
       "      <th>Tokens_Q15</th>\n",
       "      <th>Sent_Q15</th>\n",
       "      <th>Tokens_Q18</th>\n",
       "      <th>Sent_Q18</th>\n",
       "      <th>Tokens_Q20</th>\n",
       "      <th>Sent_Q20</th>\n",
       "    </tr>\n",
       "  </thead>\n",
       "  <tbody>\n",
       "    <tr>\n",
       "      <th>1</th>\n",
       "      <td>2</td>\n",
       "      <td>2021-04-30 00:08:19</td>\n",
       "      <td>2021-04-30 00:10:59</td>\n",
       "      <td>IP Address</td>\n",
       "      <td>191.156.153.227</td>\n",
       "      <td>38</td>\n",
       "      <td>160</td>\n",
       "      <td>False</td>\n",
       "      <td>2021-05-01 00:11:00.156</td>\n",
       "      <td>R_22t2EpjmNZEoqFT</td>\n",
       "      <td>...</td>\n",
       "      <td></td>\n",
       "      <td></td>\n",
       "      <td></td>\n",
       "      <td></td>\n",
       "      <td></td>\n",
       "      <td></td>\n",
       "      <td></td>\n",
       "      <td></td>\n",
       "      <td></td>\n",
       "      <td></td>\n",
       "    </tr>\n",
       "    <tr>\n",
       "      <th>2</th>\n",
       "      <td>3</td>\n",
       "      <td>2021-04-30 00:10:51</td>\n",
       "      <td>2021-04-30 00:11:03</td>\n",
       "      <td>IP Address</td>\n",
       "      <td>181.78.21.213</td>\n",
       "      <td>6</td>\n",
       "      <td>11</td>\n",
       "      <td>False</td>\n",
       "      <td>2021-05-01 00:11:04.303</td>\n",
       "      <td>R_2y9PPrBZcRkKcoZ</td>\n",
       "      <td>...</td>\n",
       "      <td></td>\n",
       "      <td></td>\n",
       "      <td></td>\n",
       "      <td></td>\n",
       "      <td></td>\n",
       "      <td></td>\n",
       "      <td></td>\n",
       "      <td></td>\n",
       "      <td></td>\n",
       "      <td></td>\n",
       "    </tr>\n",
       "  </tbody>\n",
       "</table>\n",
       "<p>2 rows × 66 columns</p>\n",
       "</div>"
      ],
      "text/plain": [
       "   index           StartDate             EndDate      Status        IPAddress  \\\n",
       "1      2 2021-04-30 00:08:19 2021-04-30 00:10:59  IP Address  191.156.153.227   \n",
       "2      3 2021-04-30 00:10:51 2021-04-30 00:11:03  IP Address    181.78.21.213   \n",
       "\n",
       "   Progress  Duration (in seconds) Finished            RecordedDate  \\\n",
       "1        38                    160    False 2021-05-01 00:11:00.156   \n",
       "2         6                     11    False 2021-05-01 00:11:04.303   \n",
       "\n",
       "          ResponseId  ... Tokens_Q10 Sent_Q10 Tokens_Q12 Sent_Q12 Tokens_Q15  \\\n",
       "1  R_22t2EpjmNZEoqFT  ...                                                      \n",
       "2  R_2y9PPrBZcRkKcoZ  ...                                                      \n",
       "\n",
       "  Sent_Q15 Tokens_Q18 Sent_Q18 Tokens_Q20 Sent_Q20  \n",
       "1                                                   \n",
       "2                                                   \n",
       "\n",
       "[2 rows x 66 columns]"
      ]
     },
     "execution_count": 16,
     "metadata": {},
     "output_type": "execute_result"
    }
   ],
   "source": [
    "tokenizer = ToktokTokenizer() \n",
    "Lista_general=[]\n",
    "for column in Qs:\n",
    "    dfSent[\"Tokens_\"+column]=dfSent[column].apply(limpiar_texto)\n",
    "    dfSent[\"Sent_\"+column] =  np.where(dfSent[\"Tokens_\"+column]!='', dfSent[column].apply(sentiment.sentiment)*2-1,'')\n",
    "    \n",
    "dfSent.head(2)"
   ]
  },
  {
   "cell_type": "markdown",
   "metadata": {},
   "source": [
    "##### Fin Analisis de Sentimiento"
   ]
  },
  {
   "cell_type": "markdown",
   "metadata": {},
   "source": [
    "####  Preprocesamiento"
   ]
  },
  {
   "cell_type": "code",
   "execution_count": 17,
   "metadata": {},
   "outputs": [
    {
     "name": "stdout",
     "output_type": "stream",
     "text": [
      "Q4 4175\n",
      "Q10 1071\n",
      "Q12 2778\n",
      "Q15 7450\n",
      "Q18 6503\n",
      "Q20 1366\n"
     ]
    }
   ],
   "source": [
    "tokenizer = ToktokTokenizer() \n",
    "Lista_general=[]\n",
    "dfc = dfSent[dfSent['Q2_NPS_GROUP']!='Promotor']\n",
    "for column in Qs:    \n",
    "    dfc[\"Tokens_\"+column] = dfc[\"Tokens_\"+column].apply(tokenizer.tokenize)\n",
    "    dfc[\"Tokens_\"+column] = dfc[\"Tokens_\"+column].apply(filtrar_stopword_digitos)\n",
    "    dfc[\"Tokens_\"+column] = dfc[\"Tokens_\"+column].apply(stem_palabras)\n",
    "    #solo ciertas Qs son agregadas\n",
    "    if column in ('Q4','Q10','Q12','Q15','Q18','Q20') :\n",
    "        listAux = dfc[\"Tokens_\"+column].tolist()\n",
    "        listAux = [x for x in listAux if x!= []]\n",
    "        #print(\"Qs\")\n",
    "        print(column, len(listAux))\n",
    "        Lista_general = Lista_general+listAux"
   ]
  },
  {
   "cell_type": "markdown",
   "metadata": {},
   "source": [
    "###  Modelo de Tópicos"
   ]
  },
  {
   "cell_type": "code",
   "execution_count": 18,
   "metadata": {},
   "outputs": [],
   "source": [
    "### Funciones para modelo de tópicos\n",
    "def make_bigrams(texts,bigram_mod):\n",
    "    return [bigram_mod[doc] for doc in texts]\n",
    "\n",
    "def make_trigrams(texts,bigram_mod,trigram_mod):\n",
    "    return [trigram_mod[bigram_mod[doc]] for doc in texts]\n",
    "\n",
    "def impresionTopicos(mod,nPalabras,nTopicos):\n",
    "    topicos = mod.print_topics(num_words=nPalabras, num_topics=nTopicos)\n",
    "    for topico in topicos:\n",
    "        print(topico)    \n",
    "        \n",
    "def impresionTopicosLimp(mod,nPalabras,nTopicos):\n",
    "    #Impresion limpia de Tópicos\n",
    "    topicos = mod.print_topics(num_words=nPalabras, num_topics=nTopicos)\n",
    "    i=0\n",
    "    for topico in topicos:\n",
    "        i=i+1\n",
    "        textoAux = re.sub(r'\\W', ' ', str(topico))\n",
    "        textoAux = re.sub(r'\\s+[a-zA-Z]\\s+', ' ', textoAux)\n",
    "        textoAux = re.sub(r'[0-9]', ' ', textoAux)\n",
    "        textoAux = re.sub(r'\\s+', ' ', textoAux, flags=re.I)\n",
    "        print(str(i),textoAux)"
   ]
  },
  {
   "cell_type": "code",
   "execution_count": 19,
   "metadata": {
    "scrolled": true
   },
   "outputs": [
    {
     "name": "stdout",
     "output_type": "stream",
     "text": [
      "Número de tokens: 5686\n",
      "Número de tokens: 2656\n"
     ]
    }
   ],
   "source": [
    "bigram = gensim.models.Phrases(Lista_general, min_count=5, threshold=10) \n",
    "trigram = gensim.models.Phrases(bigram[Lista_general], threshold=10)  \n",
    "\n",
    "bigram_mod = gensim.models.phrases.Phraser(bigram)\n",
    "trigram_mod = gensim.models.phrases.Phraser(trigram)\n",
    "\n",
    "data_words_bigrams = make_bigrams(Lista_general,bigram_mod)\n",
    "\n",
    "diccionario = Dictionary(data_words_bigrams)\n",
    "print(f'Número de tokens: {len(diccionario)}')\n",
    "\n",
    "diccionario.filter_extremes(no_below=2, no_above = 0.9)\n",
    "print(f'Número de tokens: {len(diccionario)}')\n",
    "\n",
    "corpus = [diccionario.doc2bow(noticia) for noticia in data_words_bigrams]"
   ]
  },
  {
   "cell_type": "code",
   "execution_count": 20,
   "metadata": {},
   "outputs": [],
   "source": [
    "numeroTopicos=5"
   ]
  },
  {
   "cell_type": "code",
   "execution_count": 21,
   "metadata": {},
   "outputs": [],
   "source": [
    "lda = LdaModel(corpus=corpus, id2word=diccionario, \n",
    "               num_topics=numeroTopicos, random_state=35, \n",
    "               chunksize=1000, iterations=200, passes=40, alpha='auto')"
   ]
  },
  {
   "cell_type": "code",
   "execution_count": 22,
   "metadata": {
    "scrolled": true
   },
   "outputs": [
    {
     "name": "stdout",
     "output_type": "stream",
     "text": [
      "(0, '0.130*\"servici\" + 0.063*\"internet\" + 0.059*\"mal\" + 0.051*\"señal\" + 0.049*\"mejor\"')\n",
      "(1, '0.059*\"pag\" + 0.042*\"factur\" + 0.039*\"pued\" + 0.029*\"hac\" + 0.027*\"plan\"')\n",
      "(2, '0.079*\"app\" + 0.054*\"clar\" + 0.047*\"dat\" + 0.042*\"buen\" + 0.038*\"aplic\"')\n",
      "(3, '0.056*\"llam\" + 0.053*\"graci\" + 0.035*\"ningun\" + 0.030*\"solucion\" + 0.026*\"encuentr\"')\n",
      "(4, '0.111*\"dej\" + 0.083*\"ver\" + 0.077*\"ingres\" + 0.044*\"inform\" + 0.034*\"hog\"')\n"
     ]
    }
   ],
   "source": [
    "impresionTopicos(lda,5,20)"
   ]
  },
  {
   "cell_type": "code",
   "execution_count": 23,
   "metadata": {},
   "outputs": [
    {
     "name": "stdout",
     "output_type": "stream",
     "text": [
      "1  servici internet mal señal mejor sirv pesim wifi cobr cobertur tecnic red cambi_clav ofrec cae \n",
      "2  pag factur pued hac plan pud recarg registr consult equip cuent pod numer necesit si \n",
      "3  app clar dat buen aplic lent funcion bien carg famili_amig facil paquet nunc ahor moment \n",
      "4  llam graci ningun solucion encuentr asesor client demor busc atencion usuari respuest problem esper falt \n",
      "5  dej ver ingres inform hog actualiz activ eleg consum encontr benefici amig rap product cambi_numer \n"
     ]
    }
   ],
   "source": [
    "impresionTopicosLimp(lda,15,20)\n",
    "#Guardar tabla de palabras"
   ]
  },
  {
   "cell_type": "code",
   "execution_count": 24,
   "metadata": {
    "scrolled": false
   },
   "outputs": [
    {
     "data": {
      "text/html": [
       "\n",
       "<link rel=\"stylesheet\" type=\"text/css\" href=\"https://cdn.jsdelivr.net/gh/bmabey/pyLDAvis@3.3.1/pyLDAvis/js/ldavis.v1.0.0.css\">\n",
       "\n",
       "\n",
       "<div id=\"ldavis_el2460020240210235362425758780\"></div>\n",
       "<script type=\"text/javascript\">\n",
       "\n",
       "var ldavis_el2460020240210235362425758780_data = {\"mdsDat\": {\"x\": [-0.07799782537851183, 0.40904065479271995, -0.19985678695594503, -0.061259286557122046, -0.06992675590114145], \"y\": [-0.18157909373124337, 0.0967674092908971, 0.36096601249011967, -0.10541112981477889, -0.17074319823499454], \"topics\": [1, 2, 3, 4, 5], \"cluster\": [1, 1, 1, 1, 1], \"Freq\": [13.613187787253908, 39.57089583289167, 22.56201108035148, 11.161068540078306, 13.092836759424634]}, \"tinfo\": {\"Term\": [\"servici\", \"dej\", \"app\", \"ver\", \"pag\", \"ingres\", \"clar\", \"internet\", \"mal\", \"dat\", \"factur\", \"buen\", \"pued\", \"se\\u00f1al\", \"llam\", \"mejor\", \"graci\", \"aplic\", \"inform\", \"hac\", \"plan\", \"lent\", \"funcion\", \"pud\", \"hog\", \"ningun\", \"recarg\", \"registr\", \"actualiz\", \"bien\", \"servici\", \"internet\", \"mal\", \"se\\u00f1al\", \"mejor\", \"sirv\", \"pesim\", \"wifi\", \"cobr\", \"cobertur\", \"tecnic\", \"red\", \"cambi_clav\", \"ofrec\", \"cae\", \"parec\", \"ok\", \"pid\", \"baj\", \"segu\", \"veloc\", \"contrat\", \"dificil\", \"tan\", \"comunic_asesor\", \"ultim\", \"compart_dat\", \"despues\", \"solucion_problem\", \"casi\", \"pag\", \"factur\", \"pued\", \"hac\", \"plan\", \"pud\", \"recarg\", \"registr\", \"consult\", \"equip\", \"cuent\", \"pod\", \"numer\", \"necesit\", \"si\", \"celul\", \"dic\", \"clar_hog\", \"opcion\", \"compr\", \"realiz\", \"aparec\", \"sald\", \"line\", \"permit\", \"cambi\", \"quier\", \"entrar\", \"sol\", \"movil\", \"app\", \"clar\", \"dat\", \"buen\", \"aplic\", \"lent\", \"funcion\", \"bien\", \"carg\", \"famili_amig\", \"facil\", \"paquet\", \"nunc\", \"ahor\", \"moment\", \"fall\", \"pas\", \"vec\", \"mas\", \"dias\", \"qued\", \"tiemp\", \"conect\", \"ten\", \"oper\", \"consum_dat\", \"solicit\", \"muestr\", \"da\", \"much\", \"llam\", \"graci\", \"ningun\", \"solucion\", \"encuentr\", \"asesor\", \"client\", \"demor\", \"busc\", \"atencion\", \"usuari\", \"respuest\", \"problem\", \"respond\", \"esper\", \"falt\", \"chat\", \"dar\", \"ayud\", \"comunic\", \"part\", \"anterior\", \"ped\", \"dan\", \"sig\", \"pregunt\", \"se\", \"sup\", \"cort\", \"atiend\", \"dej\", \"ver\", \"ingres\", \"inform\", \"hog\", \"actualiz\", \"activ\", \"eleg\", \"consum\", \"encontr\", \"benefici\", \"amig\", \"product\", \"rap\", \"cambi_numer\", \"logr\", \"asoci\", \"famili\", \"tod\", \"tiend\", \"contact\", \"asoci_cuent\", \"agreg\", \"much_graci\", \"demor_carg\", \"na\", \"inici\", \"inscrib\", \"agreg_numer\", \"ademas\"], \"Freq\": [1748.0, 1433.0, 1765.0, 1078.0, 2292.0, 994.0, 1215.0, 848.0, 793.0, 1039.0, 1647.0, 948.0, 1531.0, 693.0, 619.0, 666.0, 590.0, 857.0, 565.0, 1134.0, 1071.0, 656.0, 646.0, 1018.0, 445.0, 392.0, 919.0, 911.0, 391.0, 533.0, 1747.7109194581426, 847.9323200541947, 792.2628149781364, 692.6389039649323, 665.9003996095506, 382.48535966734636, 358.73620814128446, 273.183657745591, 270.9049150978077, 203.00680819104025, 185.6323077461022, 155.76190218406356, 152.92701020203808, 146.98855615241104, 142.98352105567884, 107.72610848748276, 104.97797690506998, 100.0010974303668, 97.37252315827443, 93.7634836417949, 90.90512409395427, 87.44574281846003, 85.20975339838004, 84.93828701722457, 80.12012553039499, 79.45277642396537, 77.36961145399081, 76.85635955103571, 73.69427590734041, 71.37556378799104, 2291.975203310579, 1646.5408174377335, 1530.2380544833943, 1133.8113522142532, 1070.973410854517, 1017.5768960451611, 919.1756137871045, 910.3649132836373, 832.6983488708794, 794.89633874294, 717.108396744871, 665.0547627157038, 616.0158854676395, 611.7182441542225, 604.3387785651162, 567.0820563279434, 563.3411116693177, 548.7393152569537, 528.5657044832099, 506.8952128398062, 495.87051957076085, 488.6952817926148, 487.3024648887398, 482.12383371437176, 476.27835481529956, 447.6903249517526, 444.3144607419181, 390.3159787189253, 378.1193174317104, 367.36610171683816, 1764.711374440943, 1214.2433389679982, 1038.3279401481784, 947.7204817708853, 856.4239613675329, 655.3299085845165, 645.3265385308515, 532.4153419314911, 362.5681613184814, 334.026890487194, 333.73026295981003, 320.69490360991387, 296.8158992685547, 242.982814179346, 229.4681913663375, 220.77380224255975, 219.51380548432832, 217.46831625604813, 213.245639583203, 207.20360722971765, 194.24383355326754, 182.78434301293814, 177.9672266871984, 174.77976408245752, 168.31018532617617, 150.81623762564465, 150.02400125924362, 148.09215032142345, 144.70249552065377, 144.7124710838251, 619.1375092843394, 589.6403542195648, 391.4679659987069, 330.0945088025585, 285.397657566041, 283.8969581580191, 281.8988973658874, 240.81078962951952, 219.39649212906204, 199.27030900416074, 169.31281348099, 159.68747560276353, 159.31913743934447, 144.4891673302074, 145.22629600937307, 145.1291327855684, 137.0650684043128, 128.26286783188937, 125.06408919002553, 108.6345292856296, 103.7640723366755, 99.05670896326231, 97.83597452303736, 96.22318426440262, 95.63201117600566, 94.39922771469308, 87.44884448306061, 86.91740246336592, 83.8438791529193, 78.87994976392372, 1432.6889168167413, 1077.8471659584625, 993.4924144550235, 564.3969496281923, 444.3317556301617, 390.59616460118355, 369.3190009522469, 362.65365437168276, 318.5927027823194, 300.3618566036022, 249.36468782557978, 236.33537741139241, 211.85253368246933, 214.55127809279136, 173.35903438124257, 137.09047300858253, 126.2525251100974, 118.9685177791302, 119.5575467804643, 99.256632883058, 95.45320432490519, 92.29369646767438, 89.78181780254941, 82.46879981941069, 72.68759703637977, 73.15557847344635, 72.62423309270521, 72.21318151786089, 69.68953819208603, 67.79601877401588], \"Total\": [1748.0, 1433.0, 1765.0, 1078.0, 2292.0, 994.0, 1215.0, 848.0, 793.0, 1039.0, 1647.0, 948.0, 1531.0, 693.0, 619.0, 666.0, 590.0, 857.0, 565.0, 1134.0, 1071.0, 656.0, 646.0, 1018.0, 445.0, 392.0, 919.0, 911.0, 391.0, 533.0, 1748.5393893284593, 848.7598507089263, 793.0851697163694, 693.4618536625017, 666.7463895174251, 383.3105513299254, 359.5597404426909, 274.01044492956817, 271.73420930479773, 203.83764345403605, 186.45713868049197, 156.58940341435712, 153.75186127677324, 147.82034424732842, 143.80696151881781, 108.56538886522269, 105.81533451390276, 100.82863236135695, 98.20298265808619, 94.60057306984649, 91.74006991446748, 88.2741861811188, 86.03807944742337, 85.76850753673294, 80.95219190654632, 80.28822703449973, 78.20405008685346, 77.68846285175306, 74.52036010441662, 72.20268082095686, 2292.797395264159, 1647.3642660439966, 1531.0628524630588, 1134.6343369825981, 1071.7988438823822, 1018.4018758601109, 919.9987739136507, 911.1866847644667, 833.5243815513361, 795.7199743102307, 717.9328470135306, 665.8812208314697, 616.8408015442357, 612.5456842278306, 605.1659724516708, 567.9053787973259, 564.1669278532197, 549.5617393823004, 529.3904597150132, 507.7204802056925, 496.6927880626519, 489.51632007495334, 488.12598256152575, 482.9500510538658, 477.10009500822673, 448.5150561899878, 445.13944318850304, 391.14231210887715, 378.9479312581582, 368.19176688584946, 1765.5398964054284, 1215.074351674022, 1039.1555729733882, 948.5731360003858, 857.2527847311221, 656.1523849883546, 646.1490699689894, 533.2529581615208, 363.39188231785624, 334.8571448805923, 334.5635819769882, 321.5232812700391, 297.64071691641846, 243.81879506927936, 230.30091981876018, 221.59999802487138, 220.3393094914974, 218.29675066487835, 214.07904845919413, 208.03326286314945, 195.0704186507906, 183.612587218165, 178.79615648403492, 175.61184466510818, 169.13991572751956, 151.6461680022495, 150.8515777203553, 148.91649756683876, 145.5297636240009, 145.54236109735018, 619.9635186039508, 590.497278979015, 392.29326213477293, 330.9178670843341, 286.22202671064986, 284.7205284436226, 282.7296503538267, 241.63477646688386, 220.22083444401903, 200.09550785439694, 170.14166289162446, 160.50958690396533, 160.14425130410916, 145.31123232047946, 146.0554606713002, 145.95795741999754, 137.88748215702452, 129.09558198034333, 125.88835047058986, 109.45733447367508, 104.59673637743764, 99.88208411192419, 98.6609906004377, 97.04493438723318, 96.46254743215864, 95.22355897411096, 88.27330169474847, 87.7538835831183, 84.66731184629674, 79.70208107176558, 1433.5109568776936, 1078.672815455383, 994.3152795929703, 565.2226925943572, 445.15754137454167, 391.4221216020792, 370.14775167332164, 363.4759480990261, 319.4189876204546, 301.1884487415324, 250.19336193869412, 237.15996814716155, 212.6758613790584, 215.39246937906955, 174.18317489249367, 137.91950027590207, 127.07518259849968, 119.79291913917062, 120.39060570441477, 100.08158025822567, 96.2841769335155, 93.1169955833303, 90.60661719237076, 83.34300003330851, 73.51301286006264, 73.98686418624203, 73.45385605074284, 73.03938487363169, 70.5144066851863, 68.62344914355712], \"Category\": [\"Default\", \"Default\", \"Default\", \"Default\", \"Default\", \"Default\", \"Default\", \"Default\", \"Default\", \"Default\", \"Default\", \"Default\", \"Default\", \"Default\", \"Default\", \"Default\", \"Default\", \"Default\", \"Default\", \"Default\", \"Default\", \"Default\", \"Default\", \"Default\", \"Default\", \"Default\", \"Default\", \"Default\", \"Default\", \"Default\", \"Topic1\", \"Topic1\", \"Topic1\", \"Topic1\", \"Topic1\", \"Topic1\", \"Topic1\", \"Topic1\", \"Topic1\", \"Topic1\", \"Topic1\", \"Topic1\", \"Topic1\", \"Topic1\", \"Topic1\", \"Topic1\", \"Topic1\", \"Topic1\", \"Topic1\", \"Topic1\", \"Topic1\", \"Topic1\", \"Topic1\", \"Topic1\", \"Topic1\", \"Topic1\", \"Topic1\", \"Topic1\", \"Topic1\", \"Topic1\", \"Topic2\", \"Topic2\", \"Topic2\", \"Topic2\", \"Topic2\", \"Topic2\", \"Topic2\", \"Topic2\", \"Topic2\", \"Topic2\", \"Topic2\", \"Topic2\", \"Topic2\", \"Topic2\", \"Topic2\", \"Topic2\", \"Topic2\", \"Topic2\", \"Topic2\", \"Topic2\", \"Topic2\", \"Topic2\", \"Topic2\", \"Topic2\", \"Topic2\", \"Topic2\", \"Topic2\", \"Topic2\", \"Topic2\", \"Topic2\", \"Topic3\", \"Topic3\", \"Topic3\", \"Topic3\", \"Topic3\", \"Topic3\", \"Topic3\", \"Topic3\", \"Topic3\", \"Topic3\", \"Topic3\", \"Topic3\", \"Topic3\", \"Topic3\", \"Topic3\", \"Topic3\", \"Topic3\", \"Topic3\", \"Topic3\", \"Topic3\", \"Topic3\", \"Topic3\", \"Topic3\", \"Topic3\", \"Topic3\", \"Topic3\", \"Topic3\", \"Topic3\", \"Topic3\", \"Topic3\", \"Topic4\", \"Topic4\", \"Topic4\", \"Topic4\", \"Topic4\", \"Topic4\", \"Topic4\", \"Topic4\", \"Topic4\", \"Topic4\", \"Topic4\", \"Topic4\", \"Topic4\", \"Topic4\", \"Topic4\", \"Topic4\", \"Topic4\", \"Topic4\", \"Topic4\", \"Topic4\", \"Topic4\", \"Topic4\", \"Topic4\", \"Topic4\", \"Topic4\", \"Topic4\", \"Topic4\", \"Topic4\", \"Topic4\", \"Topic4\", \"Topic5\", \"Topic5\", \"Topic5\", \"Topic5\", \"Topic5\", \"Topic5\", \"Topic5\", \"Topic5\", \"Topic5\", \"Topic5\", \"Topic5\", \"Topic5\", \"Topic5\", \"Topic5\", \"Topic5\", \"Topic5\", \"Topic5\", \"Topic5\", \"Topic5\", \"Topic5\", \"Topic5\", \"Topic5\", \"Topic5\", \"Topic5\", \"Topic5\", \"Topic5\", \"Topic5\", \"Topic5\", \"Topic5\", \"Topic5\"], \"logprob\": [30.0, 29.0, 28.0, 27.0, 26.0, 25.0, 24.0, 23.0, 22.0, 21.0, 20.0, 19.0, 18.0, 17.0, 16.0, 15.0, 14.0, 13.0, 12.0, 11.0, 10.0, 9.0, 8.0, 7.0, 6.0, 5.0, 4.0, 3.0, 2.0, 1.0, -2.0417, -2.765, -2.8329, -2.9673, -3.0066, -3.5611, -3.6252, -3.8976, -3.906, -4.1945, -4.284, -4.4595, -4.4778, -4.5174, -4.5451, -4.8282, -4.854, -4.9026, -4.9292, -4.967, -4.998, -5.0368, -5.0627, -5.0659, -5.1243, -5.1326, -5.1592, -5.1658, -5.2079, -5.2398, -2.8377, -3.1684, -3.2417, -3.5415, -3.5985, -3.6497, -3.7514, -3.761, -3.8502, -3.8966, -3.9996, -4.075, -4.1516, -4.1586, -4.1707, -4.2343, -4.241, -4.2672, -4.3047, -4.3465, -4.3685, -4.3831, -4.386, -4.3966, -4.4088, -4.4707, -4.4783, -4.6079, -4.6396, -4.6685, -2.5373, -2.9111, -3.0676, -3.159, -3.2602, -3.5279, -3.5433, -3.7356, -4.1198, -4.2018, -4.2027, -4.2425, -4.3199, -4.52, -4.5772, -4.6159, -4.6216, -4.631, -4.6506, -4.6793, -4.7439, -4.8047, -4.8314, -4.8495, -4.8872, -4.997, -5.0022, -5.0152, -5.0383, -5.0383, -2.8808, -2.9297, -3.3393, -3.5098, -3.6553, -3.6606, -3.6676, -3.8252, -3.9183, -4.0145, -4.1774, -4.236, -4.2383, -4.336, -4.3309, -4.3316, -4.3887, -4.4551, -4.4804, -4.6212, -4.6671, -4.7135, -4.7259, -4.7425, -4.7487, -4.7616, -4.8381, -4.8442, -4.8802, -4.9412, -2.2015, -2.4861, -2.5676, -3.1331, -3.3722, -3.5011, -3.5571, -3.5754, -3.7049, -3.7638, -3.9499, -4.0036, -4.1129, -4.1003, -4.3134, -4.5482, -4.6305, -4.69, -4.685, -4.8711, -4.9102, -4.9438, -4.9714, -5.0564, -5.1826, -5.1762, -5.1835, -5.1892, -5.2248, -5.2523], \"loglift\": [30.0, 29.0, 28.0, 27.0, 26.0, 25.0, 24.0, 23.0, 22.0, 21.0, 20.0, 19.0, 18.0, 17.0, 16.0, 15.0, 14.0, 13.0, 12.0, 11.0, 10.0, 9.0, 8.0, 7.0, 6.0, 5.0, 4.0, 3.0, 2.0, 1.0, 1.9937, 1.9932, 1.9931, 1.9929, 1.9929, 1.992, 1.9918, 1.9911, 1.9911, 1.99, 1.9897, 1.9888, 1.9888, 1.9885, 1.9884, 1.9864, 1.9862, 1.9859, 1.9856, 1.9852, 1.985, 1.9847, 1.9845, 1.9844, 1.9838, 1.9837, 1.9834, 1.9834, 1.983, 1.9826, 0.9267, 0.9266, 0.9265, 0.9264, 0.9263, 0.9263, 0.9262, 0.9262, 0.9261, 0.926, 0.9259, 0.9258, 0.9257, 0.9257, 0.9257, 0.9256, 0.9256, 0.9256, 0.9255, 0.9254, 0.9254, 0.9254, 0.9254, 0.9254, 0.9254, 0.9252, 0.9252, 0.925, 0.9249, 0.9248, 1.4884, 1.4882, 1.4881, 1.488, 1.4879, 1.4876, 1.4876, 1.4873, 1.4866, 1.4864, 1.4864, 1.4863, 1.4861, 1.4855, 1.4853, 1.4852, 1.4851, 1.4851, 1.485, 1.4849, 1.4847, 1.4844, 1.4843, 1.4842, 1.484, 1.4834, 1.4834, 1.4834, 1.4832, 1.4832, 2.1914, 2.1913, 2.1906, 2.1902, 2.1899, 2.1898, 2.1898, 2.1893, 2.189, 2.1886, 2.1879, 2.1876, 2.1876, 2.1871, 2.187, 2.187, 2.1868, 2.1863, 2.1862, 2.1852, 2.1847, 2.1844, 2.1843, 2.1842, 2.1841, 2.184, 2.1834, 2.1832, 2.183, 2.1824, 2.0325, 2.0323, 2.0323, 2.0316, 2.0312, 2.031, 2.0309, 2.0308, 2.0305, 2.0304, 2.0298, 2.0296, 2.0292, 2.0292, 2.0284, 2.0271, 2.0266, 2.0262, 2.0262, 2.0248, 2.0244, 2.0242, 2.024, 2.0226, 2.0218, 2.0218, 2.0217, 2.0217, 2.0213, 2.021]}, \"token.table\": {\"Topic\": [5, 5, 5, 5, 5, 3, 5, 4, 2, 3, 3, 4, 5, 5, 4, 4, 4, 1, 5, 3, 3, 4, 1, 2, 1, 5, 3, 1, 2, 4, 3, 2, 4, 1, 1, 1, 2, 4, 1, 3, 2, 5, 3, 5, 1, 4, 2, 3, 4, 4, 3, 5, 4, 5, 1, 3, 2, 1, 5, 5, 4, 2, 2, 4, 3, 2, 3, 4, 5, 3, 3, 4, 2, 5, 5, 5, 5, 5, 1, 3, 2, 4, 5, 1, 3, 1, 3, 2, 3, 5, 3, 5, 2, 4, 2, 3, 1, 1, 2, 3, 2, 3, 1, 4, 3, 4, 2, 1, 1, 2, 2, 4, 4, 5, 2, 2, 3, 2, 5, 2, 2, 1, 2, 4, 4, 2, 4, 1, 1, 1, 2, 4, 1, 2, 3, 4, 1, 4, 1, 1, 3, 3, 5, 5, 1, 4, 3, 1, 5, 1], \"Freq\": [0.9968992066867001, 0.998921569377961, 0.9909149255635213, 0.9933049349907542, 0.9927049420201054, 0.9966417885501948, 0.9951089209691504, 0.991168745428502, 0.9989452444100857, 0.9985386052358931, 0.9996942032255812, 0.9974693484605369, 0.991539004103604, 0.9880043854901794, 0.9945250752196091, 0.9911911826852625, 0.9929433464870334, 0.9877500395046593, 0.9952302414043002, 0.9976503493466954, 0.9993957914486147, 0.9944563172367356, 0.9943885782002826, 0.9988516412484275, 0.9951099045531566, 0.993207295175186, 0.9989215985911499, 0.9833429893837435, 0.9984057576646955, 0.9935637220787463, 0.9991158140466534, 0.9989778411740748, 0.9974192648244938, 0.9958906341348822, 0.9972980608268789, 0.984603737459681, 0.9985809510670111, 0.9958218014729285, 0.9882376019213222, 0.9955471275239297, 0.9993708863676427, 0.9986882820474265, 0.9957389757303994, 0.9866626378869893, 0.9855655856344634, 0.9921184240795531, 0.9987006486506209, 0.9963597575450639, 0.98923246850718, 0.9915134045368792, 0.9988879692286289, 0.9996435626283551, 0.9973729920992112, 0.9930214687154885, 0.9911381584024027, 0.9950331843623048, 0.9979315911734491, 0.9879346510976256, 0.9986905650799859, 0.996054135719686, 0.9957304938243441, 0.9970795486105344, 0.9990951913569157, 0.9927735624094498, 0.9983154712367142, 0.9997788794794782, 0.9972924276614658, 0.9934367578381424, 0.9933809181304828, 0.9974402670102861, 0.9982216642839948, 0.9991578640635316, 0.9994409326759094, 0.997399703999246, 0.9978367949298973, 0.9986772006626422, 0.9938212086452028, 0.9857695286532058, 0.9991047518231552, 0.9982437235393498, 0.9980328171582286, 0.9984458462876648, 0.9933330654906475, 0.9986317109967426, 0.9949595793378173, 0.998880549592529, 0.9943512174428831, 0.9967631897477519, 0.9962735172546267, 0.9838858688459525, 0.9938455605536425, 0.9866616297758226, 0.9991091534200939, 0.996703328199584, 0.9986369229432769, 0.997847347892935, 0.9944503968550104, 0.9922947414224199, 0.9992624353011132, 0.9932605161672426, 0.9996522173019708, 0.9983724933759941, 0.9947921812731257, 0.9942948853080433, 0.9984600592046854, 0.99330038552811, 0.9976942050111984, 0.9984432616343484, 0.9917817752561867, 0.9992546699532828, 0.9986766095755496, 0.9871506695686136, 0.9928548711877502, 0.9968221058343156, 0.9996053857817461, 0.9993058074256397, 0.9945126551827069, 0.9974402556189106, 0.9981778871833311, 0.9986051980634667, 0.9989143747339989, 0.9962359942530883, 0.9986976491378675, 0.9909763870311995, 0.9968251933495398, 0.9976932541971707, 0.9855754608663945, 0.9936514859227854, 0.9996915200585408, 0.9993339883656723, 0.998073301367314, 0.9952049013376518, 0.9965809672460664, 0.9974985184507779, 0.994354863679756, 0.9972262994064924, 0.9930172089387719, 0.9914091143054172, 0.9910397468860723, 0.9975482908097432, 0.9965159259828119, 0.9966636970403497, 0.9891930137850039, 0.9967555134212566, 0.9839549697124813, 0.9932899275096914, 0.9940596886535015, 0.9919329698009007, 0.999376256223627, 0.9963123853551353], \"Term\": [\"activ\", \"actualiz\", \"ademas\", \"agreg\", \"agreg_numer\", \"ahor\", \"amig\", \"anterior\", \"aparec\", \"aplic\", \"app\", \"asesor\", \"asoci\", \"asoci_cuent\", \"atencion\", \"atiend\", \"ayud\", \"baj\", \"benefici\", \"bien\", \"buen\", \"busc\", \"cae\", \"cambi\", \"cambi_clav\", \"cambi_numer\", \"carg\", \"casi\", \"celul\", \"chat\", \"clar\", \"clar_hog\", \"client\", \"cobertur\", \"cobr\", \"compart_dat\", \"compr\", \"comunic\", \"comunic_asesor\", \"conect\", \"consult\", \"consum\", \"consum_dat\", \"contact\", \"contrat\", \"cort\", \"cuent\", \"da\", \"dan\", \"dar\", \"dat\", \"dej\", \"demor\", \"demor_carg\", \"despues\", \"dias\", \"dic\", \"dificil\", \"eleg\", \"encontr\", \"encuentr\", \"entrar\", \"equip\", \"esper\", \"facil\", \"factur\", \"fall\", \"falt\", \"famili\", \"famili_amig\", \"funcion\", \"graci\", \"hac\", \"hog\", \"inform\", \"ingres\", \"inici\", \"inscrib\", \"internet\", \"lent\", \"line\", \"llam\", \"logr\", \"mal\", \"mas\", \"mejor\", \"moment\", \"movil\", \"much\", \"much_graci\", \"muestr\", \"na\", \"necesit\", \"ningun\", \"numer\", \"nunc\", \"ofrec\", \"ok\", \"opcion\", \"oper\", \"pag\", \"paquet\", \"parec\", \"part\", \"pas\", \"ped\", \"permit\", \"pesim\", \"pid\", \"plan\", \"pod\", \"pregunt\", \"problem\", \"product\", \"pud\", \"pued\", \"qued\", \"quier\", \"rap\", \"realiz\", \"recarg\", \"red\", \"registr\", \"respond\", \"respuest\", \"sald\", \"se\", \"segu\", \"servici\", \"se\\u00f1al\", \"si\", \"sig\", \"sirv\", \"sol\", \"solicit\", \"solucion\", \"solucion_problem\", \"sup\", \"tan\", \"tecnic\", \"ten\", \"tiemp\", \"tiend\", \"tod\", \"ultim\", \"usuari\", \"vec\", \"veloc\", \"ver\", \"wifi\"]}, \"R\": 30, \"lambda.step\": 0.01, \"plot.opts\": {\"xlab\": \"PC1\", \"ylab\": \"PC2\"}, \"topic.order\": [1, 2, 3, 4, 5]};\n",
       "\n",
       "function LDAvis_load_lib(url, callback){\n",
       "  var s = document.createElement('script');\n",
       "  s.src = url;\n",
       "  s.async = true;\n",
       "  s.onreadystatechange = s.onload = callback;\n",
       "  s.onerror = function(){console.warn(\"failed to load library \" + url);};\n",
       "  document.getElementsByTagName(\"head\")[0].appendChild(s);\n",
       "}\n",
       "\n",
       "if(typeof(LDAvis) !== \"undefined\"){\n",
       "   // already loaded: just create the visualization\n",
       "   !function(LDAvis){\n",
       "       new LDAvis(\"#\" + \"ldavis_el2460020240210235362425758780\", ldavis_el2460020240210235362425758780_data);\n",
       "   }(LDAvis);\n",
       "}else if(typeof define === \"function\" && define.amd){\n",
       "   // require.js is available: use it to load d3/LDAvis\n",
       "   require.config({paths: {d3: \"https://d3js.org/d3.v5\"}});\n",
       "   require([\"d3\"], function(d3){\n",
       "      window.d3 = d3;\n",
       "      LDAvis_load_lib(\"https://cdn.jsdelivr.net/gh/bmabey/pyLDAvis@3.3.1/pyLDAvis/js/ldavis.v3.0.0.js\", function(){\n",
       "        new LDAvis(\"#\" + \"ldavis_el2460020240210235362425758780\", ldavis_el2460020240210235362425758780_data);\n",
       "      });\n",
       "    });\n",
       "}else{\n",
       "    // require.js not available: dynamically load d3 & LDAvis\n",
       "    LDAvis_load_lib(\"https://d3js.org/d3.v5.js\", function(){\n",
       "         LDAvis_load_lib(\"https://cdn.jsdelivr.net/gh/bmabey/pyLDAvis@3.3.1/pyLDAvis/js/ldavis.v3.0.0.js\", function(){\n",
       "                 new LDAvis(\"#\" + \"ldavis_el2460020240210235362425758780\", ldavis_el2460020240210235362425758780_data);\n",
       "            })\n",
       "         });\n",
       "}\n",
       "</script>"
      ],
      "text/plain": [
       "<IPython.core.display.HTML object>"
      ]
     },
     "execution_count": 24,
     "metadata": {},
     "output_type": "execute_result"
    }
   ],
   "source": [
    "lda_display = pyLDAvis.gensim_models.prepare(lda, corpus, diccionario, sort_topics=False)\n",
    "pyLDAvis.display(lda_display)"
   ]
  },
  {
   "cell_type": "code",
   "execution_count": 25,
   "metadata": {},
   "outputs": [],
   "source": [
    "pyLDAvis.save_html(lda_display, 'lda_General_4_V3.html')"
   ]
  },
  {
   "cell_type": "markdown",
   "metadata": {},
   "source": [
    "####  fin simplificación"
   ]
  },
  {
   "cell_type": "markdown",
   "metadata": {},
   "source": [
    "###  Clasificación de los textos en tópicos"
   ]
  },
  {
   "cell_type": "code",
   "execution_count": 26,
   "metadata": {},
   "outputs": [],
   "source": [
    "dfc2 = dfc.fillna('')"
   ]
  },
  {
   "cell_type": "code",
   "execution_count": 27,
   "metadata": {},
   "outputs": [
    {
     "data": {
      "text/plain": [
       "28261"
      ]
     },
     "execution_count": 27,
     "metadata": {},
     "output_type": "execute_result"
    }
   ],
   "source": [
    "len(dfc2)"
   ]
  },
  {
   "cell_type": "code",
   "execution_count": 28,
   "metadata": {},
   "outputs": [],
   "source": [
    "for column in Qs:    \n",
    "    dfc2[\"Tokens_\"+column+\"_T\"] = dfc2[\"Tokens_\"+column]\n",
    "    dfc2[\"Tokens_\"+column] =  dfc2[column].apply(limpiar_texto)\n",
    "    dfc2[\"Tokens_\"+column] =  dfc2[\"Tokens_\"+column].apply(Limpiar_Caracter)"
   ]
  },
  {
   "cell_type": "code",
   "execution_count": 29,
   "metadata": {},
   "outputs": [
    {
     "data": {
      "text/html": [
       "<div>\n",
       "<style scoped>\n",
       "    .dataframe tbody tr th:only-of-type {\n",
       "        vertical-align: middle;\n",
       "    }\n",
       "\n",
       "    .dataframe tbody tr th {\n",
       "        vertical-align: top;\n",
       "    }\n",
       "\n",
       "    .dataframe thead th {\n",
       "        text-align: right;\n",
       "    }\n",
       "</style>\n",
       "<table border=\"1\" class=\"dataframe\">\n",
       "  <thead>\n",
       "    <tr style=\"text-align: right;\">\n",
       "      <th></th>\n",
       "      <th>index</th>\n",
       "      <th>StartDate</th>\n",
       "      <th>EndDate</th>\n",
       "      <th>Status</th>\n",
       "      <th>IPAddress</th>\n",
       "      <th>Progress</th>\n",
       "      <th>Duration (in seconds)</th>\n",
       "      <th>Finished</th>\n",
       "      <th>RecordedDate</th>\n",
       "      <th>ResponseId</th>\n",
       "      <th>...</th>\n",
       "      <th>Sent_Q18</th>\n",
       "      <th>Tokens_Q20</th>\n",
       "      <th>Sent_Q20</th>\n",
       "      <th>Tokens_Q4_T</th>\n",
       "      <th>Tokens_Q10_T</th>\n",
       "      <th>Tokens_Q12_T</th>\n",
       "      <th>Tokens_Q15_T</th>\n",
       "      <th>Tokens_Q18_T</th>\n",
       "      <th>Tokens_Q20_T</th>\n",
       "      <th>Opinion</th>\n",
       "    </tr>\n",
       "  </thead>\n",
       "  <tbody>\n",
       "    <tr>\n",
       "      <th>3</th>\n",
       "      <td>4</td>\n",
       "      <td>2021-05-01 00:14:21</td>\n",
       "      <td>2021-05-01 00:15:37</td>\n",
       "      <td>IP Address</td>\n",
       "      <td>181.53.12.201</td>\n",
       "      <td>100</td>\n",
       "      <td>76</td>\n",
       "      <td>True</td>\n",
       "      <td>2021-05-01 00:15:38.223</td>\n",
       "      <td>R_udHanua3i8beZtT</td>\n",
       "      <td>...</td>\n",
       "      <td></td>\n",
       "      <td></td>\n",
       "      <td></td>\n",
       "      <td>[ningun]</td>\n",
       "      <td>[]</td>\n",
       "      <td>[]</td>\n",
       "      <td>[]</td>\n",
       "      <td>[]</td>\n",
       "      <td>[]</td>\n",
       "      <td>ninguna</td>\n",
       "    </tr>\n",
       "    <tr>\n",
       "      <th>8</th>\n",
       "      <td>9</td>\n",
       "      <td>2021-05-01 00:56:56</td>\n",
       "      <td>2021-05-01 00:58:36</td>\n",
       "      <td>IP Address</td>\n",
       "      <td>191.156.52.30</td>\n",
       "      <td>100</td>\n",
       "      <td>100</td>\n",
       "      <td>True</td>\n",
       "      <td>2021-05-01 00:58:37.141</td>\n",
       "      <td>R_XjMcEuP3zshnpF7</td>\n",
       "      <td>...</td>\n",
       "      <td></td>\n",
       "      <td>me parece bien</td>\n",
       "      <td>-0.8938357315867129</td>\n",
       "      <td>[qued, sald, carg, app, pod, recarg, vez]</td>\n",
       "      <td>[]</td>\n",
       "      <td>[]</td>\n",
       "      <td>[]</td>\n",
       "      <td>[]</td>\n",
       "      <td>[parec, bien]</td>\n",
       "      <td>cuando me quedo sin saldo no carga la app para...</td>\n",
       "    </tr>\n",
       "  </tbody>\n",
       "</table>\n",
       "<p>2 rows × 73 columns</p>\n",
       "</div>"
      ],
      "text/plain": [
       "   index           StartDate             EndDate      Status      IPAddress  \\\n",
       "3      4 2021-05-01 00:14:21 2021-05-01 00:15:37  IP Address  181.53.12.201   \n",
       "8      9 2021-05-01 00:56:56 2021-05-01 00:58:36  IP Address  191.156.52.30   \n",
       "\n",
       "   Progress  Duration (in seconds) Finished            RecordedDate  \\\n",
       "3       100                     76     True 2021-05-01 00:15:38.223   \n",
       "8       100                    100     True 2021-05-01 00:58:37.141   \n",
       "\n",
       "          ResponseId  ... Sent_Q18       Tokens_Q20             Sent_Q20  \\\n",
       "3  R_udHanua3i8beZtT  ...                                                  \n",
       "8  R_XjMcEuP3zshnpF7  ...           me parece bien   -0.8938357315867129   \n",
       "\n",
       "                                 Tokens_Q4_T Tokens_Q10_T Tokens_Q12_T  \\\n",
       "3                                   [ningun]           []           []   \n",
       "8  [qued, sald, carg, app, pod, recarg, vez]           []           []   \n",
       "\n",
       "  Tokens_Q15_T Tokens_Q18_T   Tokens_Q20_T  \\\n",
       "3           []           []             []   \n",
       "8           []           []  [parec, bien]   \n",
       "\n",
       "                                             Opinion  \n",
       "3                                      ninguna        \n",
       "8  cuando me quedo sin saldo no carga la app para...  \n",
       "\n",
       "[2 rows x 73 columns]"
      ]
     },
     "execution_count": 29,
     "metadata": {},
     "output_type": "execute_result"
    }
   ],
   "source": [
    "#columnasDefTopico=['Q12','Q15','Q18']\n",
    "#'Q4','Q10','Q12','Q15','Q18','Q20'\n",
    "columnasDefTopico=['Q4','Q10','Q12','Q15','Q18','Q20']\n",
    "dfc2['Opinion'] = ''\n",
    "for i in dfc2.index:\n",
    "    for column in columnasDefTopico: \n",
    "        dfc2.loc[i,'Opinion']=dfc2.loc[i,'Opinion']+str(dfc2.loc[i,\"Tokens_\"+column])+\" \"\n",
    "dfc2.head(2)"
   ]
  },
  {
   "cell_type": "code",
   "execution_count": 30,
   "metadata": {},
   "outputs": [
    {
     "data": {
      "text/plain": [
       "3                                                 [ningun]\n",
       "8        [qued, sald, carg, app, pod, recarg, vez, pare...\n",
       "9                                             [mal, señal]\n",
       "10       [bastant, tiemp, usted, sub, plan, line, cambi...\n",
       "12       [demor, carg, despues, dic, sient, trabaj, ser...\n",
       "                               ...                        \n",
       "59090                                                   []\n",
       "59091            [ten, paquet, econom, mensual, buen, gig]\n",
       "59092    [dej, agreg, numer, grup, famil, dej, agreg, c...\n",
       "59093                               [compr, plan, postpag]\n",
       "59096               [mejor, tiemp, esper, servici, client]\n",
       "Name: Opinion, Length: 28261, dtype: object"
      ]
     },
     "execution_count": 30,
     "metadata": {},
     "output_type": "execute_result"
    }
   ],
   "source": [
    "dfc2['Opinion'] = dfc2['Opinion'].apply(tokenizer.tokenize)\n",
    "dfc2['Opinion'] = dfc2['Opinion'].apply(filtrar_stopword_digitos)\n",
    "dfc2['Opinion'] = dfc2['Opinion'].apply(stem_palabras)\n",
    "dfc2['Opinion'] "
   ]
  },
  {
   "cell_type": "code",
   "execution_count": 31,
   "metadata": {
    "scrolled": true
   },
   "outputs": [
    {
     "data": {
      "text/html": [
       "<div>\n",
       "<style scoped>\n",
       "    .dataframe tbody tr th:only-of-type {\n",
       "        vertical-align: middle;\n",
       "    }\n",
       "\n",
       "    .dataframe tbody tr th {\n",
       "        vertical-align: top;\n",
       "    }\n",
       "\n",
       "    .dataframe thead th {\n",
       "        text-align: right;\n",
       "    }\n",
       "</style>\n",
       "<table border=\"1\" class=\"dataframe\">\n",
       "  <thead>\n",
       "    <tr style=\"text-align: right;\">\n",
       "      <th></th>\n",
       "      <th>index</th>\n",
       "      <th>StartDate</th>\n",
       "      <th>EndDate</th>\n",
       "      <th>Status</th>\n",
       "      <th>IPAddress</th>\n",
       "      <th>Progress</th>\n",
       "      <th>Duration (in seconds)</th>\n",
       "      <th>Finished</th>\n",
       "      <th>RecordedDate</th>\n",
       "      <th>ResponseId</th>\n",
       "      <th>...</th>\n",
       "      <th>Sent_Q18</th>\n",
       "      <th>Tokens_Q20</th>\n",
       "      <th>Sent_Q20</th>\n",
       "      <th>Tokens_Q4_T</th>\n",
       "      <th>Tokens_Q10_T</th>\n",
       "      <th>Tokens_Q12_T</th>\n",
       "      <th>Tokens_Q15_T</th>\n",
       "      <th>Tokens_Q18_T</th>\n",
       "      <th>Tokens_Q20_T</th>\n",
       "      <th>Opinion</th>\n",
       "    </tr>\n",
       "  </thead>\n",
       "  <tbody>\n",
       "    <tr>\n",
       "      <th>3</th>\n",
       "      <td>4</td>\n",
       "      <td>2021-05-01 00:14:21</td>\n",
       "      <td>2021-05-01 00:15:37</td>\n",
       "      <td>IP Address</td>\n",
       "      <td>181.53.12.201</td>\n",
       "      <td>100</td>\n",
       "      <td>76</td>\n",
       "      <td>True</td>\n",
       "      <td>2021-05-01 00:15:38.223</td>\n",
       "      <td>R_udHanua3i8beZtT</td>\n",
       "      <td>...</td>\n",
       "      <td></td>\n",
       "      <td></td>\n",
       "      <td></td>\n",
       "      <td>[ningun]</td>\n",
       "      <td>[]</td>\n",
       "      <td>[]</td>\n",
       "      <td>[]</td>\n",
       "      <td>[]</td>\n",
       "      <td>[]</td>\n",
       "      <td>[ningun]</td>\n",
       "    </tr>\n",
       "    <tr>\n",
       "      <th>8</th>\n",
       "      <td>9</td>\n",
       "      <td>2021-05-01 00:56:56</td>\n",
       "      <td>2021-05-01 00:58:36</td>\n",
       "      <td>IP Address</td>\n",
       "      <td>191.156.52.30</td>\n",
       "      <td>100</td>\n",
       "      <td>100</td>\n",
       "      <td>True</td>\n",
       "      <td>2021-05-01 00:58:37.141</td>\n",
       "      <td>R_XjMcEuP3zshnpF7</td>\n",
       "      <td>...</td>\n",
       "      <td></td>\n",
       "      <td>me parece bien</td>\n",
       "      <td>-0.8938357315867129</td>\n",
       "      <td>[qued, sald, carg, app, pod, recarg, vez]</td>\n",
       "      <td>[]</td>\n",
       "      <td>[]</td>\n",
       "      <td>[]</td>\n",
       "      <td>[]</td>\n",
       "      <td>[parec, bien]</td>\n",
       "      <td>[qued, sald, carg, app, pod, recarg, vez, pare...</td>\n",
       "    </tr>\n",
       "    <tr>\n",
       "      <th>9</th>\n",
       "      <td>10</td>\n",
       "      <td>2021-05-01 01:11:12</td>\n",
       "      <td>2021-05-01 01:13:28</td>\n",
       "      <td>IP Address</td>\n",
       "      <td>190.26.155.7</td>\n",
       "      <td>100</td>\n",
       "      <td>136</td>\n",
       "      <td>True</td>\n",
       "      <td>2021-05-01 01:13:29.173</td>\n",
       "      <td>R_x5YL4kva6EbeuWJ</td>\n",
       "      <td>...</td>\n",
       "      <td></td>\n",
       "      <td></td>\n",
       "      <td></td>\n",
       "      <td>[]</td>\n",
       "      <td>[]</td>\n",
       "      <td>[]</td>\n",
       "      <td>[mal, señal]</td>\n",
       "      <td>[]</td>\n",
       "      <td>[]</td>\n",
       "      <td>[mal, señal]</td>\n",
       "    </tr>\n",
       "    <tr>\n",
       "      <th>10</th>\n",
       "      <td>11</td>\n",
       "      <td>2021-05-01 01:15:49</td>\n",
       "      <td>2021-05-01 01:21:26</td>\n",
       "      <td>IP Address</td>\n",
       "      <td>186.29.191.43</td>\n",
       "      <td>100</td>\n",
       "      <td>336</td>\n",
       "      <td>True</td>\n",
       "      <td>2021-05-01 01:21:26.392</td>\n",
       "      <td>R_3ltBuR7i97QbFAM</td>\n",
       "      <td>...</td>\n",
       "      <td></td>\n",
       "      <td></td>\n",
       "      <td></td>\n",
       "      <td>[bastant, tiemp, usted, sub, plan, line]</td>\n",
       "      <td>[]</td>\n",
       "      <td>[]</td>\n",
       "      <td>[cambi, mes, oper, regres, nuev, sub, mil, pes...</td>\n",
       "      <td>[]</td>\n",
       "      <td>[]</td>\n",
       "      <td>[bastant, tiemp, usted, sub, plan, line, cambi...</td>\n",
       "    </tr>\n",
       "  </tbody>\n",
       "</table>\n",
       "<p>4 rows × 73 columns</p>\n",
       "</div>"
      ],
      "text/plain": [
       "    index           StartDate             EndDate      Status      IPAddress  \\\n",
       "3       4 2021-05-01 00:14:21 2021-05-01 00:15:37  IP Address  181.53.12.201   \n",
       "8       9 2021-05-01 00:56:56 2021-05-01 00:58:36  IP Address  191.156.52.30   \n",
       "9      10 2021-05-01 01:11:12 2021-05-01 01:13:28  IP Address   190.26.155.7   \n",
       "10     11 2021-05-01 01:15:49 2021-05-01 01:21:26  IP Address  186.29.191.43   \n",
       "\n",
       "    Progress  Duration (in seconds) Finished            RecordedDate  \\\n",
       "3        100                     76     True 2021-05-01 00:15:38.223   \n",
       "8        100                    100     True 2021-05-01 00:58:37.141   \n",
       "9        100                    136     True 2021-05-01 01:13:29.173   \n",
       "10       100                    336     True 2021-05-01 01:21:26.392   \n",
       "\n",
       "           ResponseId  ... Sent_Q18       Tokens_Q20             Sent_Q20  \\\n",
       "3   R_udHanua3i8beZtT  ...                                                  \n",
       "8   R_XjMcEuP3zshnpF7  ...           me parece bien   -0.8938357315867129   \n",
       "9   R_x5YL4kva6EbeuWJ  ...                                                  \n",
       "10  R_3ltBuR7i97QbFAM  ...                                                  \n",
       "\n",
       "                                  Tokens_Q4_T Tokens_Q10_T Tokens_Q12_T  \\\n",
       "3                                    [ningun]           []           []   \n",
       "8   [qued, sald, carg, app, pod, recarg, vez]           []           []   \n",
       "9                                          []           []           []   \n",
       "10   [bastant, tiemp, usted, sub, plan, line]           []           []   \n",
       "\n",
       "                                         Tokens_Q15_T Tokens_Q18_T  \\\n",
       "3                                                  []           []   \n",
       "8                                                  []           []   \n",
       "9                                        [mal, señal]           []   \n",
       "10  [cambi, mes, oper, regres, nuev, sub, mil, pes...           []   \n",
       "\n",
       "     Tokens_Q20_T                                            Opinion  \n",
       "3              []                                           [ningun]  \n",
       "8   [parec, bien]  [qued, sald, carg, app, pod, recarg, vez, pare...  \n",
       "9              []                                       [mal, señal]  \n",
       "10             []  [bastant, tiemp, usted, sub, plan, line, cambi...  \n",
       "\n",
       "[4 rows x 73 columns]"
      ]
     },
     "execution_count": 31,
     "metadata": {},
     "output_type": "execute_result"
    }
   ],
   "source": [
    "dfc2.head(4)"
   ]
  },
  {
   "cell_type": "code",
   "execution_count": 32,
   "metadata": {},
   "outputs": [
    {
     "data": {
      "text/html": [
       "<div>\n",
       "<style scoped>\n",
       "    .dataframe tbody tr th:only-of-type {\n",
       "        vertical-align: middle;\n",
       "    }\n",
       "\n",
       "    .dataframe tbody tr th {\n",
       "        vertical-align: top;\n",
       "    }\n",
       "\n",
       "    .dataframe thead th {\n",
       "        text-align: right;\n",
       "    }\n",
       "</style>\n",
       "<table border=\"1\" class=\"dataframe\">\n",
       "  <thead>\n",
       "    <tr style=\"text-align: right;\">\n",
       "      <th></th>\n",
       "      <th>index</th>\n",
       "      <th>StartDate</th>\n",
       "      <th>EndDate</th>\n",
       "      <th>Status</th>\n",
       "      <th>IPAddress</th>\n",
       "      <th>Progress</th>\n",
       "      <th>Duration (in seconds)</th>\n",
       "      <th>Finished</th>\n",
       "      <th>RecordedDate</th>\n",
       "      <th>ResponseId</th>\n",
       "      <th>...</th>\n",
       "      <th>Sent_Q18</th>\n",
       "      <th>Tokens_Q20</th>\n",
       "      <th>Sent_Q20</th>\n",
       "      <th>Tokens_Q4_T</th>\n",
       "      <th>Tokens_Q10_T</th>\n",
       "      <th>Tokens_Q12_T</th>\n",
       "      <th>Tokens_Q15_T</th>\n",
       "      <th>Tokens_Q18_T</th>\n",
       "      <th>Tokens_Q20_T</th>\n",
       "      <th>Opinion</th>\n",
       "    </tr>\n",
       "  </thead>\n",
       "  <tbody>\n",
       "    <tr>\n",
       "      <th>3</th>\n",
       "      <td>4</td>\n",
       "      <td>2021-05-01 00:14:21</td>\n",
       "      <td>2021-05-01 00:15:37</td>\n",
       "      <td>IP Address</td>\n",
       "      <td>181.53.12.201</td>\n",
       "      <td>100</td>\n",
       "      <td>76</td>\n",
       "      <td>True</td>\n",
       "      <td>2021-05-01 00:15:38.223</td>\n",
       "      <td>R_udHanua3i8beZtT</td>\n",
       "      <td>...</td>\n",
       "      <td></td>\n",
       "      <td></td>\n",
       "      <td></td>\n",
       "      <td>[ningun]</td>\n",
       "      <td>[]</td>\n",
       "      <td>[]</td>\n",
       "      <td>[]</td>\n",
       "      <td>[]</td>\n",
       "      <td>[]</td>\n",
       "      <td>[ningun]</td>\n",
       "    </tr>\n",
       "    <tr>\n",
       "      <th>8</th>\n",
       "      <td>9</td>\n",
       "      <td>2021-05-01 00:56:56</td>\n",
       "      <td>2021-05-01 00:58:36</td>\n",
       "      <td>IP Address</td>\n",
       "      <td>191.156.52.30</td>\n",
       "      <td>100</td>\n",
       "      <td>100</td>\n",
       "      <td>True</td>\n",
       "      <td>2021-05-01 00:58:37.141</td>\n",
       "      <td>R_XjMcEuP3zshnpF7</td>\n",
       "      <td>...</td>\n",
       "      <td></td>\n",
       "      <td>me parece bien</td>\n",
       "      <td>-0.8938357315867129</td>\n",
       "      <td>[qued, sald, carg, app, pod, recarg, vez]</td>\n",
       "      <td>[]</td>\n",
       "      <td>[]</td>\n",
       "      <td>[]</td>\n",
       "      <td>[]</td>\n",
       "      <td>[parec, bien]</td>\n",
       "      <td>[qued, sald, carg, app, pod, recarg, vez, pare...</td>\n",
       "    </tr>\n",
       "  </tbody>\n",
       "</table>\n",
       "<p>2 rows × 73 columns</p>\n",
       "</div>"
      ],
      "text/plain": [
       "   index           StartDate             EndDate      Status      IPAddress  \\\n",
       "3      4 2021-05-01 00:14:21 2021-05-01 00:15:37  IP Address  181.53.12.201   \n",
       "8      9 2021-05-01 00:56:56 2021-05-01 00:58:36  IP Address  191.156.52.30   \n",
       "\n",
       "   Progress  Duration (in seconds) Finished            RecordedDate  \\\n",
       "3       100                     76     True 2021-05-01 00:15:38.223   \n",
       "8       100                    100     True 2021-05-01 00:58:37.141   \n",
       "\n",
       "          ResponseId  ... Sent_Q18       Tokens_Q20             Sent_Q20  \\\n",
       "3  R_udHanua3i8beZtT  ...                                                  \n",
       "8  R_XjMcEuP3zshnpF7  ...           me parece bien   -0.8938357315867129   \n",
       "\n",
       "                                 Tokens_Q4_T Tokens_Q10_T Tokens_Q12_T  \\\n",
       "3                                   [ningun]           []           []   \n",
       "8  [qued, sald, carg, app, pod, recarg, vez]           []           []   \n",
       "\n",
       "  Tokens_Q15_T Tokens_Q18_T   Tokens_Q20_T  \\\n",
       "3           []           []             []   \n",
       "8           []           []  [parec, bien]   \n",
       "\n",
       "                                             Opinion  \n",
       "3                                           [ningun]  \n",
       "8  [qued, sald, carg, app, pod, recarg, vez, pare...  \n",
       "\n",
       "[2 rows x 73 columns]"
      ]
     },
     "execution_count": 32,
     "metadata": {},
     "output_type": "execute_result"
    }
   ],
   "source": [
    "for i in dfc2.index:    \n",
    "    #print(i)\n",
    "    if dfc2.loc[i,'Opinion']==[]:\n",
    "        dfc2.drop([i], inplace=True)\n",
    "dfc2.head(2)"
   ]
  },
  {
   "cell_type": "code",
   "execution_count": 33,
   "metadata": {},
   "outputs": [],
   "source": [
    "dfc2['Tópico'] = \"\"\n",
    "sumaTopicos = [0]*(numeroTopicos+1)\n",
    "for i in dfc2.index:\n",
    "    bow_comentario = diccionario.doc2bow(dfc2.loc[i,'Opinion'])\n",
    "    distribucion_noticia = lda[bow_comentario]\n",
    "    dist_contrib = [topico[1] for topico in lda[bow_comentario]]\n",
    "    dfc2.loc[i,'Tópico']=dist_contrib.index(max(dist_contrib))+1\n",
    "    \n",
    "    # sumar pertenencias a los tópicos\n",
    "    for idx, val in enumerate(dist_contrib):\n",
    "        sumaTopicos[idx+1]=sumaTopicos[idx+1]+dist_contrib[idx]    "
   ]
  },
  {
   "cell_type": "code",
   "execution_count": 34,
   "metadata": {
    "scrolled": false
   },
   "outputs": [
    {
     "data": {
      "text/plain": [
       "2    8574\n",
       "3    1619\n",
       "1     525\n",
       "5     320\n",
       "4     221\n",
       "Name: Tópico, dtype: int64"
      ]
     },
     "execution_count": 34,
     "metadata": {},
     "output_type": "execute_result"
    }
   ],
   "source": [
    "dfc2.Tópico.value_counts()"
   ]
  },
  {
   "cell_type": "code",
   "execution_count": 35,
   "metadata": {},
   "outputs": [
    {
     "data": {
      "image/png": "[encoded data removed]",
      "text/plain": [
       "<Figure size 432x288 with 1 Axes>"
      ]
     },
     "metadata": {},
     "output_type": "display_data"
    }
   ],
   "source": [
    "A = dfc2.Tópico.value_counts()\n",
    "indices = A.index\n",
    "plt.pie(A, labels=indices, autopct=\"%0.1f %%\")\n",
    "plt.axis(\"equal\")\n",
    "plt.show()"
   ]
  },
  {
   "cell_type": "markdown",
   "metadata": {},
   "source": [
    "#####  Validación asignación de Tópicos"
   ]
  },
  {
   "cell_type": "code",
   "execution_count": 36,
   "metadata": {},
   "outputs": [
    {
     "name": "stdout",
     "output_type": "stream",
     "text": [
      "Score:0.4383014738559723\t Topic:0.059*\"pag\" + 0.042*\"factur\" + 0.039*\"pued\" + 0.029*\"hac\" + 0.027*\"plan\"\n",
      "Score:0.20960435271263123\t Topic:0.079*\"app\" + 0.054*\"clar\" + 0.047*\"dat\" + 0.042*\"buen\" + 0.038*\"aplic\"\n",
      "Score:0.13473458588123322\t Topic:0.130*\"servici\" + 0.063*\"internet\" + 0.059*\"mal\" + 0.051*\"señal\" + 0.049*\"mejor\"\n",
      "Score:0.13409456610679626\t Topic:0.111*\"dej\" + 0.083*\"ver\" + 0.077*\"ingres\" + 0.044*\"inform\" + 0.034*\"hog\"\n",
      "Score:0.0832650363445282\t Topic:0.056*\"llam\" + 0.053*\"graci\" + 0.035*\"ningun\" + 0.030*\"solucion\" + 0.026*\"encuentr\"\n"
     ]
    }
   ],
   "source": [
    "for index,score in sorted(lda[diccionario.doc2bow(dfc2.loc[10,'Opinion'])], key=lambda tup: -1*tup[1]):\n",
    "    print(\"Score:{}\\t Topic:{}\".format(score,lda.print_topic(index,5)))"
   ]
  },
  {
   "cell_type": "code",
   "execution_count": 37,
   "metadata": {},
   "outputs": [
    {
     "data": {
      "text/plain": [
       "[0.13473456, 0.43830147, 0.20960434, 0.08326503, 0.13409455]"
      ]
     },
     "execution_count": 37,
     "metadata": {},
     "output_type": "execute_result"
    }
   ],
   "source": [
    "bow_comentario = diccionario.doc2bow(dfc2.loc[10,'Opinion'])\n",
    "distribucion_noticia = lda[bow_comentario]\n",
    "dist_contrib = [topico[1] for topico in lda[bow_comentario]]\n",
    "dist_contrib"
   ]
  },
  {
   "cell_type": "markdown",
   "metadata": {},
   "source": [
    "####  fin validacion"
   ]
  },
  {
   "cell_type": "markdown",
   "metadata": {},
   "source": [
    "###  zoom al topico_4  número 3"
   ]
  },
  {
   "cell_type": "code",
   "execution_count": 74,
   "metadata": {},
   "outputs": [],
   "source": [
    "numeroTopicos=4\n",
    "topicoZoom=2"
   ]
  },
  {
   "cell_type": "code",
   "execution_count": 75,
   "metadata": {},
   "outputs": [],
   "source": [
    "## Quitar pag pactur\n",
    "dfc2Zoom=dfc2.copy()\n",
    "dfc2Zoom['contienePagFact']=dfc2Zoom['Opinion'].apply(lambda x: 1 if 'pag' in x else 0)\n",
    "dfc2Zoom=dfc2Zoom[dfc2Zoom['contienePagFact']==0]\n",
    "dfc2Zoom=dfc2Zoom[dfc2Zoom['Tópico']==topicoZoom]"
   ]
  },
  {
   "cell_type": "code",
   "execution_count": 76,
   "metadata": {},
   "outputs": [],
   "source": [
    "# Repite el proceso de topicos"
   ]
  },
  {
   "cell_type": "code",
   "execution_count": 77,
   "metadata": {},
   "outputs": [],
   "source": [
    "Lista_generalZoom=[]\n",
    "for column in Qs:   \n",
    "    if column in ('Q4','Q10','Q12','Q15','Q18','Q20') :\n",
    "        listAux = dfc2Zoom[\"Tokens_\"+column+\"_T\"].tolist()\n",
    "        listAux = [x for x in listAux if x!= []]\n",
    "        Lista_generalZoom = Lista_generalZoom+listAux"
   ]
  },
  {
   "cell_type": "code",
   "execution_count": 78,
   "metadata": {},
   "outputs": [],
   "source": [
    "bigramZoom = gensim.models.Phrases(Lista_generalZoom, min_count=5, threshold=10) \n",
    "trigramZoom = gensim.models.Phrases(bigramZoom[Lista_generalZoom], threshold=10)\n",
    "bigram_modZoom = gensim.models.phrases.Phraser(bigramZoom)\n",
    "trigram_modZoom = gensim.models.phrases.Phraser(trigramZoom)\n",
    "data_words_bigramsZoom = make_bigrams(Lista_generalZoom,bigram_modZoom)\n",
    "diccionarioZoom = Dictionary(data_words_bigramsZoom)\n",
    "diccionarioZoom.filter_extremes(no_below=2, no_above = 0.9)\n",
    "corpusZoom = [diccionarioZoom.doc2bow(noticia) for noticia in data_words_bigramsZoom]"
   ]
  },
  {
   "cell_type": "code",
   "execution_count": 79,
   "metadata": {},
   "outputs": [],
   "source": [
    "ldaZoom = LdaModel(corpus=corpusZoom, id2word=diccionarioZoom, \n",
    "               num_topics=numeroTopicos, random_state=35, \n",
    "               chunksize=1000, iterations=200, passes=40, alpha='auto')"
   ]
  },
  {
   "cell_type": "code",
   "execution_count": 80,
   "metadata": {
    "scrolled": false
   },
   "outputs": [
    {
     "data": {
      "text/html": [
       "\n",
       "<link rel=\"stylesheet\" type=\"text/css\" href=\"https://cdn.jsdelivr.net/gh/bmabey/pyLDAvis@3.3.1/pyLDAvis/js/ldavis.v1.0.0.css\">\n",
       "\n",
       "\n",
       "<div id=\"ldavis_el246002024143940400706920797\"></div>\n",
       "<script type=\"text/javascript\">\n",
       "\n",
       "var ldavis_el246002024143940400706920797_data = {\"mdsDat\": {\"x\": [0.4010319192234795, -0.14810723778410878, -0.12076274181103358, -0.13216193962833722], \"y\": [0.013483345164441243, 0.3518235934938531, -0.13854525268150505, -0.22676168597678914], \"topics\": [1, 2, 3, 4], \"cluster\": [1, 1, 1, 1], \"Freq\": [48.968206707045695, 18.746726089987035, 15.653861916940146, 16.63120528602713]}, \"tinfo\": {\"Term\": [\"servici\", \"recarg\", \"consult\", \"pued\", \"necesit\", \"graci\", \"internet\", \"opcion\", \"mal\", \"app\", \"inform\", \"llam\", \"sald\", \"dej\", \"registr\", \"funcion\", \"realiz\", \"plan\", \"lent\", \"quier\", \"mejor\", \"hac\", \"ningun\", \"numer\", \"pud\", \"ingres\", \"factur\", \"ver\", \"excelent\", \"clar\", \"pued\", \"app\", \"dej\", \"registr\", \"plan\", \"hac\", \"numer\", \"pud\", \"ingres\", \"factur\", \"ver\", \"clar\", \"equip\", \"buen\", \"cuent\", \"cambi\", \"pod\", \"dat\", \"celul\", \"si\", \"compr\", \"aplic\", \"dic\", \"permit\", \"line\", \"aparec\", \"clar_hog\", \"entrar\", \"hog\", \"movil\", \"consult\", \"necesit\", \"opcion\", \"inform\", \"quier\", \"mejor\", \"ningun\", \"cancel\", \"actualiz\", \"facil\", \"sab\", \"encuentr\", \"encontr\", \"rap\", \"asesor\", \"busc\", \"atencion\", \"mas\", \"utiliz\", \"verific\", \"averigu\", \"posibl\", \"contest\", \"respuest\", \"mensaj\", \"medi\", \"usted\", \"hor\", \"client\", \"ayud\", \"servici\", \"internet\", \"mal\", \"funcion\", \"lent\", \"sirv\", \"excelent\", \"mir\", \"pesim\", \"moment\", \"nunc\", \"qued\", \"respond\", \"fall\", \"tecnic\", \"tod\", \"report\", \"solicit\", \"proces\", \"chat\", \"bloque\", \"falt\", \"imei\", \"rob\", \"ped\", \"sid\", \"pregunt\", \"pues\", \"canal\", \"instal\", \"abrir\", \"recarg\", \"graci\", \"llam\", \"sald\", \"realiz\", \"compr_paquet\", \"se\\u00f1al\", \"demor\", \"cobr\", \"solucion\", \"paquet\", \"carg\", \"ahor\", \"vec\", \"equip_financi\", \"lleg\", \"pas\", \"ok\", \"asoci\", \"famili\", \"oper\", \"conect\", \"minut\", \"dificil\", \"sim\", \"habl\", \"despues\", \"much\", \"valor\", \"toc\", \"quis\", \"cup\", \"tiemp\"], \"Freq\": [879.0, 696.0, 530.0, 1026.0, 426.0, 389.0, 366.0, 402.0, 354.0, 886.0, 362.0, 327.0, 315.0, 798.0, 797.0, 299.0, 309.0, 784.0, 294.0, 316.0, 310.0, 739.0, 289.0, 653.0, 645.0, 615.0, 613.0, 603.0, 223.0, 590.0, 1025.9513505243924, 886.1450039631045, 797.4378794289033, 796.8864524802051, 784.0960959437493, 739.1249283147362, 653.1831435190777, 644.9151238490637, 614.2884413817501, 612.9225148305062, 602.7517055267671, 589.4473060503177, 581.2968742156394, 587.4765688013201, 502.98486303740526, 491.4815625372582, 476.18575948052455, 448.047908418509, 433.6905516708219, 437.01501054092387, 410.19618935530934, 373.7501910693547, 361.96976686133394, 346.48517199658096, 352.98742545023447, 337.0048130264484, 295.12472343953334, 288.0739660666688, 281.88557931435514, 272.79418839089567, 529.5938216466778, 425.45090222261763, 401.54320765139784, 361.9460259400903, 315.77670090073343, 309.27766798737645, 288.2481757406429, 241.000805832439, 233.3854059424263, 224.7363889140845, 179.67068953582609, 172.868083490786, 173.74240473630798, 151.7863302548175, 140.78981908812554, 115.59684185603601, 106.79322103722635, 105.80741818863494, 101.98292287312125, 99.17489594533686, 98.12984303456997, 95.18859181191385, 93.35255646077239, 90.6240596860274, 91.10776831986131, 91.40046519758641, 86.39405089825866, 84.29951800945496, 78.10659569316748, 77.5487754010458, 879.0356272850264, 365.674779812352, 353.9578199365137, 298.56190536175177, 293.8356923140731, 214.39497910712493, 222.16720959545998, 159.05908030043793, 147.8090171988535, 125.38919343761722, 114.90369613970631, 104.17898821962932, 96.28790651071421, 86.23287194047245, 81.48456076240181, 82.6883760874315, 80.70580658198179, 79.99335498937364, 77.91708154229146, 71.24083143705843, 65.82972798499235, 63.22180843834787, 62.964290629894506, 61.32219708486304, 58.01837085517875, 59.03082751843866, 56.37417487303841, 55.26697329538645, 54.36142125587933, 51.68879336710594, 52.17526370789395, 696.0873186587598, 389.054219619419, 326.4854825848484, 314.87270520577005, 308.55170291846434, 215.99616489113572, 202.4710599049375, 191.92694131124378, 177.42278687260534, 176.6296267127824, 175.09740291172258, 156.616736354288, 107.77499091093519, 105.48875987142445, 107.46094024291043, 104.57629476880864, 98.16560477304863, 90.99467233160853, 82.35469545844893, 80.14211127304033, 73.79649036724736, 71.20835250954579, 70.90999436027379, 69.21236775403614, 68.62706380056731, 67.66203050180778, 65.74569703529484, 62.68796360185355, 59.49141407785828, 59.20220844646039, 61.092599619208364, 59.75584433974919, 85.4784471963656], \"Total\": [879.0, 696.0, 530.0, 1026.0, 426.0, 389.0, 366.0, 402.0, 354.0, 886.0, 362.0, 327.0, 315.0, 798.0, 797.0, 299.0, 309.0, 784.0, 294.0, 316.0, 310.0, 739.0, 289.0, 653.0, 645.0, 615.0, 613.0, 603.0, 223.0, 590.0, 1026.742474279249, 886.9495327366394, 798.2229507004881, 797.6712946427041, 784.8925803026042, 739.9205746875307, 653.9706561794668, 645.7135910491517, 615.0745184395455, 613.718689865932, 603.5448669346383, 590.248583679902, 582.0925643078225, 588.3289749709343, 503.7790496251027, 492.27020254826766, 476.98990425249076, 448.8457668194107, 434.4889509499841, 437.82141283086423, 410.99943048083315, 374.5515122314725, 362.76415751894666, 347.27031160520806, 353.7876289707009, 337.7927372025337, 295.9200344602038, 288.86688934477667, 282.67662850362564, 273.58684232153604, 530.4099407884672, 426.2633805753213, 402.34875209019077, 362.7545664654355, 316.59530802692353, 310.1112119530413, 289.05470504169006, 241.8119195495681, 234.1982287021647, 225.5545295851967, 180.48824828849385, 173.66779958799955, 174.55044623541494, 152.61526713957986, 141.5987962550061, 116.39691227580869, 107.61256033823756, 106.62934564991706, 102.79909734228211, 100.00616135608885, 98.95332161817116, 96.00168669638198, 94.15946089802894, 91.42585527969547, 91.91506068274185, 92.21870888990837, 87.21321758143017, 85.12089308448944, 78.92366799840602, 78.3600399973711, 879.832301277942, 366.4737283866465, 354.7485687124311, 299.3548065784888, 294.62498416941986, 215.18788702959884, 223.02210740236964, 159.8689934854374, 148.6025985496991, 126.20217724902737, 115.69427004123985, 104.97750250151658, 97.08586568335016, 87.02316741311421, 82.27419816914554, 83.49957131933196, 81.50454257319898, 80.78722920519145, 78.7093145587107, 72.03816283859635, 66.62344141835891, 64.01912954733142, 63.77399943709904, 62.119157562797675, 58.81479280550317, 59.855038913847224, 57.17096460580913, 56.0804994342893, 55.169750902042935, 52.47684792263801, 52.973616159931936, 696.8874992204061, 389.91625554115683, 327.28975271634647, 315.67233187637197, 309.36069279239655, 216.7984110153346, 203.27312061551365, 192.73104560980752, 178.22196315926453, 177.43251956930817, 175.90402482611086, 157.4152669045111, 108.59430485309487, 106.29136033968672, 108.28178888680658, 105.3808769311923, 98.96646528913762, 91.80772061134603, 83.16549266705609, 80.95951104697068, 74.59640890564177, 72.0208812280005, 71.7225087225784, 70.01161408780747, 69.43336499502523, 68.4750308140394, 66.55904009743827, 63.49086353233975, 60.2929027423267, 60.00741060426918, 61.92852792551789, 60.571613429586385, 105.18330029115323], \"Category\": [\"Default\", \"Default\", \"Default\", \"Default\", \"Default\", \"Default\", \"Default\", \"Default\", \"Default\", \"Default\", \"Default\", \"Default\", \"Default\", \"Default\", \"Default\", \"Default\", \"Default\", \"Default\", \"Default\", \"Default\", \"Default\", \"Default\", \"Default\", \"Default\", \"Default\", \"Default\", \"Default\", \"Default\", \"Default\", \"Default\", \"Topic1\", \"Topic1\", \"Topic1\", \"Topic1\", \"Topic1\", \"Topic1\", \"Topic1\", \"Topic1\", \"Topic1\", \"Topic1\", \"Topic1\", \"Topic1\", \"Topic1\", \"Topic1\", \"Topic1\", \"Topic1\", \"Topic1\", \"Topic1\", \"Topic1\", \"Topic1\", \"Topic1\", \"Topic1\", \"Topic1\", \"Topic1\", \"Topic1\", \"Topic1\", \"Topic1\", \"Topic1\", \"Topic1\", \"Topic1\", \"Topic2\", \"Topic2\", \"Topic2\", \"Topic2\", \"Topic2\", \"Topic2\", \"Topic2\", \"Topic2\", \"Topic2\", \"Topic2\", \"Topic2\", \"Topic2\", \"Topic2\", \"Topic2\", \"Topic2\", \"Topic2\", \"Topic2\", \"Topic2\", \"Topic2\", \"Topic2\", \"Topic2\", \"Topic2\", \"Topic2\", \"Topic2\", \"Topic2\", \"Topic2\", \"Topic2\", \"Topic2\", \"Topic2\", \"Topic2\", \"Topic3\", \"Topic3\", \"Topic3\", \"Topic3\", \"Topic3\", \"Topic3\", \"Topic3\", \"Topic3\", \"Topic3\", \"Topic3\", \"Topic3\", \"Topic3\", \"Topic3\", \"Topic3\", \"Topic3\", \"Topic3\", \"Topic3\", \"Topic3\", \"Topic3\", \"Topic3\", \"Topic3\", \"Topic3\", \"Topic3\", \"Topic3\", \"Topic3\", \"Topic3\", \"Topic3\", \"Topic3\", \"Topic3\", \"Topic3\", \"Topic3\", \"Topic4\", \"Topic4\", \"Topic4\", \"Topic4\", \"Topic4\", \"Topic4\", \"Topic4\", \"Topic4\", \"Topic4\", \"Topic4\", \"Topic4\", \"Topic4\", \"Topic4\", \"Topic4\", \"Topic4\", \"Topic4\", \"Topic4\", \"Topic4\", \"Topic4\", \"Topic4\", \"Topic4\", \"Topic4\", \"Topic4\", \"Topic4\", \"Topic4\", \"Topic4\", \"Topic4\", \"Topic4\", \"Topic4\", \"Topic4\", \"Topic4\", \"Topic4\", \"Topic4\"], \"logprob\": [30.0, 29.0, 28.0, 27.0, 26.0, 25.0, 24.0, 23.0, 22.0, 21.0, 20.0, 19.0, 18.0, 17.0, 16.0, 15.0, 14.0, 13.0, 12.0, 11.0, 10.0, 9.0, 8.0, 7.0, 6.0, 5.0, 4.0, 3.0, 2.0, 1.0, -3.2897, -3.4362, -3.5417, -3.5424, -3.5586, -3.6176, -3.7412, -3.754, -3.8026, -3.8048, -3.8216, -3.8439, -3.8578, -3.8472, -4.0025, -4.0257, -4.0573, -4.1182, -4.1508, -4.1431, -4.2064, -4.2995, -4.3315, -4.3752, -4.3566, -4.403, -4.5357, -4.5599, -4.5816, -4.6144, -2.9908, -3.2098, -3.2676, -3.3714, -3.5079, -3.5287, -3.5991, -3.7781, -3.8102, -3.848, -4.0718, -4.1104, -4.1054, -4.2405, -4.3157, -4.5128, -4.592, -4.6013, -4.6381, -4.666, -4.6766, -4.7071, -4.7265, -4.7562, -4.7509, -4.7477, -4.804, -4.8286, -4.9049, -4.912, -2.3038, -3.1809, -3.2135, -3.3837, -3.3996, -3.7148, -3.6792, -4.0134, -4.0867, -4.2512, -4.3385, -4.4365, -4.5153, -4.6256, -4.6822, -4.6675, -4.6918, -4.7007, -4.727, -4.8166, -4.8956, -4.936, -4.9401, -4.9665, -5.0219, -5.0046, -5.0506, -5.0705, -5.087, -5.1374, -5.128, -2.5977, -3.1795, -3.3548, -3.391, -3.4113, -3.7679, -3.8326, -3.8861, -3.9647, -3.9691, -3.9778, -4.0894, -4.4631, -4.4846, -4.4661, -4.4933, -4.5565, -4.6324, -4.7322, -4.7594, -4.8419, -4.8776, -4.8818, -4.906, -4.9145, -4.9287, -4.9574, -5.005, -5.0574, -5.0622, -5.0308, -5.0529, -4.6949], \"loglift\": [30.0, 29.0, 28.0, 27.0, 26.0, 25.0, 24.0, 23.0, 22.0, 21.0, 20.0, 19.0, 18.0, 17.0, 16.0, 15.0, 14.0, 13.0, 12.0, 11.0, 10.0, 9.0, 8.0, 7.0, 6.0, 5.0, 4.0, 3.0, 2.0, 1.0, 0.7132, 0.7131, 0.713, 0.713, 0.713, 0.7129, 0.7128, 0.7128, 0.7127, 0.7127, 0.7127, 0.7126, 0.7126, 0.7125, 0.7124, 0.7124, 0.7123, 0.7122, 0.7122, 0.7122, 0.712, 0.7119, 0.7118, 0.7117, 0.7117, 0.7117, 0.7113, 0.7113, 0.7112, 0.7111, 1.6726, 1.6722, 1.6721, 1.6719, 1.6716, 1.6715, 1.6714, 1.6708, 1.6707, 1.6705, 1.6696, 1.6695, 1.6695, 1.6687, 1.6684, 1.6673, 1.6665, 1.6664, 1.6662, 1.6658, 1.6658, 1.6656, 1.6655, 1.6653, 1.6653, 1.6652, 1.6647, 1.6645, 1.6637, 1.6637, 1.8535, 1.8523, 1.8522, 1.8518, 1.8518, 1.8508, 1.8506, 1.8494, 1.8491, 1.848, 1.8476, 1.8468, 1.8462, 1.8453, 1.8448, 1.8447, 1.8446, 1.8446, 1.8443, 1.8433, 1.8425, 1.8419, 1.8417, 1.8415, 1.8408, 1.8406, 1.8404, 1.8398, 1.8397, 1.8393, 1.8393, 1.7927, 1.7917, 1.7914, 1.7914, 1.7913, 1.7902, 1.7899, 1.7897, 1.7894, 1.7894, 1.7893, 1.7888, 1.7863, 1.7863, 1.7863, 1.7862, 1.7858, 1.785, 1.7841, 1.7837, 1.7831, 1.7825, 1.7825, 1.7824, 1.7822, 1.7819, 1.7816, 1.7812, 1.7805, 1.7804, 1.7803, 1.7803, 1.5864]}, \"token.table\": {\"Topic\": [3, 2, 4, 1, 1, 1, 2, 4, 2, 2, 2, 3, 1, 2, 1, 3, 2, 4, 1, 3, 1, 1, 2, 4, 1, 4, 4, 2, 2, 1, 4, 1, 1, 4, 4, 1, 4, 2, 2, 1, 1, 4, 3, 2, 1, 3, 3, 4, 3, 4, 4, 1, 1, 2, 3, 2, 1, 3, 3, 3, 1, 4, 4, 3, 2, 2, 2, 2, 4, 3, 3, 1, 4, 2, 2, 1, 3, 4, 2, 4, 4, 4, 3, 1, 3, 1, 1, 2, 3, 3, 1, 1, 3, 3, 2, 4, 2, 4, 4, 1, 3, 3, 2, 3, 2, 4, 3, 4, 1, 3, 4, 3, 3, 4, 3, 3, 4, 4, 3, 2, 2, 4, 4, 1, 2], \"Freq\": [0.9816207344238591, 0.994883698699154, 0.9945272926246101, 0.9976531845856165, 0.998527539701584, 0.9989294399494076, 0.9957711769390487, 0.985985862288798, 0.9943077245229347, 0.9903659462605033, 0.9954053112098566, 0.9906423113984155, 0.9977411022957012, 0.9965900102670405, 0.9974197045815644, 0.9787972415514455, 0.9966423510012223, 0.9973619655026027, 0.9988746527410766, 0.9855887102379001, 0.9978846477324558, 0.9968909355465504, 0.9882966919577956, 0.9931435882671062, 0.9975682922974761, 0.9963172653729545, 0.9858252049878612, 0.9992271246126009, 0.9876861986361137, 0.9984535886800325, 0.9905630146330694, 0.998115684981494, 0.9984679083714457, 0.996206913071558, 0.9916008389450949, 0.9978935142761265, 0.9855507675263889, 0.9968464919609971, 0.9961547299523354, 0.9969990006582513, 0.9981230402605783, 0.9881624703471928, 0.9954170130742886, 0.9975414832669666, 0.998828958808328, 0.9882425859282155, 0.9840808590410787, 0.9881482603518443, 0.9988147623799861, 0.997650122229746, 0.9930627148554418, 0.9987558466151324, 0.9976063514440248, 0.986831751361245, 0.9878634013245092, 0.9979198980931163, 0.9982530272229915, 0.9909131752093612, 0.9987073332958081, 0.9978787129299922, 0.9977737238212868, 0.9960592939264302, 0.9963857111244102, 0.9978898612187554, 0.994097819450348, 0.9867845808667385, 0.9964167308042717, 0.9900444967783864, 0.9899263322568226, 0.9945643400481123, 0.9904741956499278, 0.9978550053191289, 0.9922687532499896, 0.9970361503406271, 0.9963511922715877, 0.9985157496436653, 0.9939990974402417, 0.9912020404605688, 0.9991332094647267, 0.9920048576816054, 0.9948606927726382, 0.9902344164125291, 0.9861464647474381, 0.9963420091993, 0.9959448989749827, 0.9988627994135706, 0.997924685106193, 0.9895659469031003, 0.9795181940013978, 0.9909881751265714, 0.9988948799296725, 0.9992768641622912, 0.9807330632717466, 0.990688457257759, 0.9981196561925267, 0.9850064589516057, 0.9959685085829773, 0.9988340703883845, 0.9987264813597619, 0.9991584319917081, 0.9938096386131381, 0.9888154091668527, 0.9953420695010983, 0.981983697031527, 0.9972948472095899, 0.9978701589956408, 0.9990540228214706, 0.9937368963901444, 0.9981238632766882, 0.9857148382264369, 0.9937585482850172, 0.9944797681412456, 0.9902555241349846, 0.9975623433046092, 0.9845127853263796, 0.18063703979060308, 0.8081130727474349, 0.9832118967620057, 0.994017079232402, 0.9860890629301986, 0.9922266112938578, 0.9785563029225485, 0.9878507497170064, 0.9990972221544926, 0.9899390063327573], \"Term\": [\"abrir\", \"actualiz\", \"ahor\", \"aparec\", \"aplic\", \"app\", \"asesor\", \"asoci\", \"atencion\", \"averigu\", \"ayud\", \"bloque\", \"buen\", \"busc\", \"cambi\", \"canal\", \"cancel\", \"carg\", \"celul\", \"chat\", \"clar\", \"clar_hog\", \"client\", \"cobr\", \"compr\", \"compr_paquet\", \"conect\", \"consult\", \"contest\", \"cuent\", \"cup\", \"dat\", \"dej\", \"demor\", \"despues\", \"dic\", \"dificil\", \"encontr\", \"encuentr\", \"entrar\", \"equip\", \"equip_financi\", \"excelent\", \"facil\", \"factur\", \"fall\", \"falt\", \"famili\", \"funcion\", \"graci\", \"habl\", \"hac\", \"hog\", \"hor\", \"imei\", \"inform\", \"ingres\", \"instal\", \"internet\", \"lent\", \"line\", \"llam\", \"lleg\", \"mal\", \"mas\", \"medi\", \"mejor\", \"mensaj\", \"minut\", \"mir\", \"moment\", \"movil\", \"much\", \"necesit\", \"ningun\", \"numer\", \"nunc\", \"ok\", \"opcion\", \"oper\", \"paquet\", \"pas\", \"ped\", \"permit\", \"pesim\", \"plan\", \"pod\", \"posibl\", \"pregunt\", \"proces\", \"pud\", \"pued\", \"pues\", \"qued\", \"quier\", \"quis\", \"rap\", \"realiz\", \"recarg\", \"registr\", \"report\", \"respond\", \"respuest\", \"rob\", \"sab\", \"sald\", \"servici\", \"se\\u00f1al\", \"si\", \"sid\", \"sim\", \"sirv\", \"solicit\", \"solucion\", \"tecnic\", \"tiemp\", \"tiemp\", \"toc\", \"tod\", \"usted\", \"utiliz\", \"valor\", \"vec\", \"ver\", \"verific\"]}, \"R\": 30, \"lambda.step\": 0.01, \"plot.opts\": {\"xlab\": \"PC1\", \"ylab\": \"PC2\"}, \"topic.order\": [1, 2, 3, 4]};\n",
       "\n",
       "function LDAvis_load_lib(url, callback){\n",
       "  var s = document.createElement('script');\n",
       "  s.src = url;\n",
       "  s.async = true;\n",
       "  s.onreadystatechange = s.onload = callback;\n",
       "  s.onerror = function(){console.warn(\"failed to load library \" + url);};\n",
       "  document.getElementsByTagName(\"head\")[0].appendChild(s);\n",
       "}\n",
       "\n",
       "if(typeof(LDAvis) !== \"undefined\"){\n",
       "   // already loaded: just create the visualization\n",
       "   !function(LDAvis){\n",
       "       new LDAvis(\"#\" + \"ldavis_el246002024143940400706920797\", ldavis_el246002024143940400706920797_data);\n",
       "   }(LDAvis);\n",
       "}else if(typeof define === \"function\" && define.amd){\n",
       "   // require.js is available: use it to load d3/LDAvis\n",
       "   require.config({paths: {d3: \"https://d3js.org/d3.v5\"}});\n",
       "   require([\"d3\"], function(d3){\n",
       "      window.d3 = d3;\n",
       "      LDAvis_load_lib(\"https://cdn.jsdelivr.net/gh/bmabey/pyLDAvis@3.3.1/pyLDAvis/js/ldavis.v3.0.0.js\", function(){\n",
       "        new LDAvis(\"#\" + \"ldavis_el246002024143940400706920797\", ldavis_el246002024143940400706920797_data);\n",
       "      });\n",
       "    });\n",
       "}else{\n",
       "    // require.js not available: dynamically load d3 & LDAvis\n",
       "    LDAvis_load_lib(\"https://d3js.org/d3.v5.js\", function(){\n",
       "         LDAvis_load_lib(\"https://cdn.jsdelivr.net/gh/bmabey/pyLDAvis@3.3.1/pyLDAvis/js/ldavis.v3.0.0.js\", function(){\n",
       "                 new LDAvis(\"#\" + \"ldavis_el246002024143940400706920797\", ldavis_el246002024143940400706920797_data);\n",
       "            })\n",
       "         });\n",
       "}\n",
       "</script>"
      ],
      "text/plain": [
       "<IPython.core.display.HTML object>"
      ]
     },
     "execution_count": 80,
     "metadata": {},
     "output_type": "execute_result"
    }
   ],
   "source": [
    "lda_display = pyLDAvis.gensim_models.prepare(ldaZoom, corpusZoom, diccionarioZoom, sort_topics=False)\n",
    "pyLDAvis.display(lda_display)"
   ]
  },
  {
   "cell_type": "code",
   "execution_count": 81,
   "metadata": {},
   "outputs": [],
   "source": [
    "dfc2Zoom['TópicoZoom'] = \"\"\n",
    "sumaTopicos = [0]*(numeroTopicos+1)\n",
    "for i in dfc2Zoom.index:\n",
    "    bow_comentario = diccionarioZoom.doc2bow(dfc2Zoom.loc[i,'Opinion'])\n",
    "    distribucion_noticia = ldaZoom[bow_comentario]\n",
    "    dist_contrib = [topico[1] for topico in ldaZoom[bow_comentario]]\n",
    "    dfc2Zoom.loc[i,'TópicoZoom']=dist_contrib.index(max(dist_contrib))+1\n",
    "    \n",
    "    # sumar pertenencias a los tópicos\n",
    "    for idx, val in enumerate(dist_contrib):\n",
    "        sumaTopicos[idx+1]=sumaTopicos[idx+1]+dist_contrib[idx] "
   ]
  },
  {
   "cell_type": "code",
   "execution_count": 82,
   "metadata": {
    "scrolled": true
   },
   "outputs": [
    {
     "data": {
      "text/plain": [
       "1    6713\n",
       "2     226\n",
       "4     191\n",
       "3     168\n",
       "Name: TópicoZoom, dtype: int64"
      ]
     },
     "execution_count": 82,
     "metadata": {},
     "output_type": "execute_result"
    }
   ],
   "source": [
    "dfc2Zoom.TópicoZoom.value_counts()"
   ]
  },
  {
   "cell_type": "code",
   "execution_count": 83,
   "metadata": {},
   "outputs": [
    {
     "data": {
      "image/png": "[encoded data removed]",
      "text/plain": [
       "<Figure size 432x288 with 1 Axes>"
      ]
     },
     "metadata": {},
     "output_type": "display_data"
    }
   ],
   "source": [
    "A = dfc2Zoom.TópicoZoom.value_counts()\n",
    "indices = A.index\n",
    "plt.pie(A, labels=indices, autopct=\"%0.1f %%\")\n",
    "plt.axis(\"equal\")\n",
    "plt.show()"
   ]
  },
  {
   "cell_type": "code",
   "execution_count": 84,
   "metadata": {
    "scrolled": false
   },
   "outputs": [
    {
     "name": "stdout",
     "output_type": "stream",
     "text": [
      "1  pued app dej registr plan hac numer pud ingres factur ver clar buen equip cuent \n",
      "2  consult necesit opcion inform quier mejor ningun cancel actualiz facil sab encontr encuentr rap asesor \n",
      "3  servici internet mal funcion lent excelent sirv mir pesim moment nunc qued respond fall tod \n",
      "4  recarg graci llam sald realiz compr_paquet señal demor cobr solucion paquet carg ahor equip_financi vec \n"
     ]
    }
   ],
   "source": [
    "impresionTopicosLimp(ldaZoom,15,20)"
   ]
  },
  {
   "cell_type": "code",
   "execution_count": 49,
   "metadata": {},
   "outputs": [],
   "source": [
    "#Guardar tabla de palabras"
   ]
  },
  {
   "cell_type": "markdown",
   "metadata": {},
   "source": [
    "### Modelado de Topicos por Acción"
   ]
  },
  {
   "cell_type": "code",
   "execution_count": 50,
   "metadata": {},
   "outputs": [
    {
     "data": {
      "text/plain": [
       "11259"
      ]
     },
     "execution_count": 50,
     "metadata": {},
     "output_type": "execute_result"
    }
   ],
   "source": [
    "len(dfc2)"
   ]
  },
  {
   "cell_type": "code",
   "execution_count": 51,
   "metadata": {},
   "outputs": [
    {
     "data": {
      "text/plain": [
       "28261"
      ]
     },
     "execution_count": 51,
     "metadata": {},
     "output_type": "execute_result"
    }
   ],
   "source": [
    "len(dfc)"
   ]
  },
  {
   "cell_type": "code",
   "execution_count": 52,
   "metadata": {},
   "outputs": [
    {
     "data": {
      "text/plain": [
       "59096"
      ]
     },
     "execution_count": 52,
     "metadata": {},
     "output_type": "execute_result"
    }
   ],
   "source": [
    "#dfc = dfSent[dfSent['Q2_NPS_GROUP']!='Promotor']\n",
    "len(dfSent)"
   ]
  },
  {
   "cell_type": "code",
   "execution_count": 53,
   "metadata": {
    "scrolled": true
   },
   "outputs": [
    {
     "data": {
      "text/plain": [
       "28261"
      ]
     },
     "execution_count": 53,
     "metadata": {},
     "output_type": "execute_result"
    }
   ],
   "source": [
    "len(dfSent[dfSent['Q2_NPS_GROUP']!='Promotor'])"
   ]
  },
  {
   "cell_type": "code",
   "execution_count": 54,
   "metadata": {},
   "outputs": [
    {
     "data": {
      "text/plain": [
       "28261"
      ]
     },
     "execution_count": 54,
     "metadata": {},
     "output_type": "execute_result"
    }
   ],
   "source": [
    "len(dfSent[dfSent['Q2_NPS_GROUP']!='Promotor'].fillna(''))"
   ]
  },
  {
   "cell_type": "code",
   "execution_count": 55,
   "metadata": {},
   "outputs": [],
   "source": [
    "numeroTopicos=4\n",
    "topicoZoom=4"
   ]
  },
  {
   "cell_type": "code",
   "execution_count": 56,
   "metadata": {},
   "outputs": [],
   "source": [
    "ZoomAccion=dfc2.copy()"
   ]
  },
  {
   "cell_type": "code",
   "execution_count": 57,
   "metadata": {},
   "outputs": [
    {
     "data": {
      "text/plain": [
       "Index(['index', 'StartDate', 'EndDate', 'Status', 'IPAddress', 'Progress',\n",
       "       'Duration (in seconds)', 'Finished', 'RecordedDate', 'ResponseId',\n",
       "       'RecipientLastName', 'RecipientFirstName', 'RecipientEmail',\n",
       "       'ExternalReference', 'LocationLatitude', 'LocationLongitude',\n",
       "       'DistributionChannel', 'UserLanguage', 'Q19', 'Q2_NPS_GROUP', 'Q2',\n",
       "       'Q3', 'Q4', 'Q9', 'Q10', 'Q11', 'Q12', 'Q15', 'Q26_1', 'Q22_1', 'Q18',\n",
       "       'Q24_1', 'Q20', 'Nombre del cliente App', 'ID cuenta o Telefono App',\n",
       "       'email App', 'Segmento App', 'Modulo App', 'Accion',\n",
       "       'Q_DataPolicyViolations', 'Q15 - Parent Topics',\n",
       "       'Q15 - Sentiment Polarity', 'Q15 - Sentiment Score', 'Q15 - Sentiment',\n",
       "       'Q15 - Topic Sentiment Label', 'Q15 - Topic Sentiment Score',\n",
       "       'Q15 - Topics', 'Q20 - Parent Topics', 'Q20 - Sentiment Polarity',\n",
       "       'Q20 - Sentiment Score', 'Q20 - Sentiment',\n",
       "       'Q20 - Topic Sentiment Label', 'Q20 - Topic Sentiment Score',\n",
       "       'Q20 - Topics', 'Tokens_Q4', 'Sent_Q4', 'Tokens_Q10', 'Sent_Q10',\n",
       "       'Tokens_Q12', 'Sent_Q12', 'Tokens_Q15', 'Sent_Q15', 'Tokens_Q18',\n",
       "       'Sent_Q18', 'Tokens_Q20', 'Sent_Q20', 'Tokens_Q4_T', 'Tokens_Q10_T',\n",
       "       'Tokens_Q12_T', 'Tokens_Q15_T', 'Tokens_Q18_T', 'Tokens_Q20_T',\n",
       "       'Opinion', 'Tópico'],\n",
       "      dtype='object')"
      ]
     },
     "execution_count": 57,
     "metadata": {},
     "output_type": "execute_result"
    }
   ],
   "source": [
    "ZoomAccion.columns"
   ]
  },
  {
   "cell_type": "code",
   "execution_count": 58,
   "metadata": {},
   "outputs": [],
   "source": [
    "acciones=ZoomAccion.Accion.unique()"
   ]
  },
  {
   "cell_type": "code",
   "execution_count": 59,
   "metadata": {
    "scrolled": false
   },
   "outputs": [
    {
     "name": "stdout",
     "output_type": "stream",
     "text": [
      "Pre_Elegidos\n"
     ]
    },
    {
     "data": {
      "image/png": "[encoded data removed]",
      "text/plain": [
       "<Figure size 432x288 with 1 Axes>"
      ]
     },
     "metadata": {},
     "output_type": "display_data"
    },
    {
     "name": "stdout",
     "output_type": "stream",
     "text": [
      "1  señal plan pag clar mal funcion dat llam mejor factur bien benefici si cuent deb pag_factur equip cobr cobertur sol \n",
      "2  servici internet graci sirv carg facil moment fall qued cae hog asesor atencion pas respuest nunc tiemp excelent sab app \n",
      "3  pued eleg dej famili_amig ingres numer registr hac buen pud amig pod cambi permit ver line dic realiz activ opcion \n",
      "4  app lent aplic inform ningun demor vec sal solucion actualiz intent much mas clar_hog ahor proces encuentr inscrib_numer equip_financi ser \n",
      "Pre_Consulta_Saldos\n"
     ]
    },
    {
     "data": {
      "image/png": "[encoded data removed]",
      "text/plain": [
       "<Figure size 432x288 with 1 Axes>"
      ]
     },
     "metadata": {},
     "output_type": "display_data"
    },
    {
     "name": "stdout",
     "output_type": "stream",
     "text": [
      "1  lent aplic bien funcion facil graci tiemp ocasion gust usuari pas promocion cos excelent celul falt naveg demor_carg client avec \n",
      "2  buen pud numer nunc cambi equip adquir demasi acced detall asi lleg revis posibl segu coloc product abre hac eleg \n",
      "3  app servici clar señal ingres internet mejor llam mal registr cuent siempr moment deb solucion line fall ningun telefon hog \n",
      "4  dat recarg sald paquet consum pag inform hac dej pued compr compr_paquet plan ver si dias consult carg sol aparec \n",
      "Pre_Detalle_Plan\n"
     ]
    },
    {
     "data": {
      "image/png": "[encoded data removed]",
      "text/plain": [
       "<Figure size 432x288 with 1 Axes>"
      ]
     },
     "metadata": {},
     "output_type": "display_data"
    },
    {
     "name": "stdout",
     "output_type": "stream",
     "text": [
      "1  plan llam cancel line cambi sab encuentr equip facil ningun mejor asesor client nuev verific pas gust ayud contest ten \n",
      "2  pag factur dej pued app ver clar ingres cuent hac clar_hog consult necesit aplic dat aparec pod quier hog opcion \n",
      "3  pud funcion buen sirv lent busc nunc tecnic graci carg recarg cambi_numer qued bien trasl netflix tampoc falt abre canal \n",
      "4  servici internet mal encontr wifi solucion pesim señal telefon cambi_clav conect solicit respond fall da respuest atencion equip_financi tv esper \n",
      "Pre_Gestionar_Equipo\n"
     ]
    },
    {
     "data": {
      "image/png": "[encoded data removed]",
      "text/plain": [
       "<Figure size 432x288 with 1 Axes>"
      ]
     },
     "metadata": {},
     "output_type": "display_data"
    },
    {
     "name": "stdout",
     "output_type": "stream",
     "text": [
      "1  equip registr pud ningun imei nuev cambi celul dic registr_imei compr sal problem realiz respuest necesit permit solicit cup ahor \n",
      "2  app servici señal lent mal dat buen internet aplic funcion clar mejor pesim bien facil carg much demor sirv vec \n",
      "3  pag pued hac dej consult ingres si factur celul compr ver plan pag_factur pod quier equip_financi llam sald sab deb \n",
      "4  graci solucion inform line asesor rap fall opcion telefon report sol necesit chat busc actualiz pas contest da hog avec \n",
      "Pre_Paquetes-Recargas\n"
     ]
    },
    {
     "data": {
      "image/png": "[encoded data removed]",
      "text/plain": [
       "<Figure size 432x288 with 1 Axes>"
      ]
     },
     "metadata": {},
     "output_type": "display_data"
    },
    {
     "name": "stdout",
     "output_type": "stream",
     "text": [
      "1  permit carg_factur sirv intent vec clar_hog app ingres deb compr_paquet lleg cuent codig bloque much pse siempr nunc actualiz rap \n",
      "2  pse clar pid banc movil conect pag transaccion internet inform error utiliz facil oper problem moment mes dic rechaz mism \n",
      "3  mal servici dic ningun pesim app señal activ dias paquet graci inclu pagin ingres sol nombr buen clar acept numer \n",
      "4  recarg hac pag compr_paquet dej pud realiz pued funcion app compr dat carg line celul sald lent aplic hog paquet \n"
     ]
    }
   ],
   "source": [
    "modelosAccion={}\n",
    "for accion in acciones:\n",
    "    print(accion)\n",
    "    Lista_generalZoom=[]\n",
    "    ZoomAccionAux=ZoomAccion[ZoomAccion['Accion']==accion]\n",
    "    for column in Qs:   \n",
    "        if column in ('Q4','Q10','Q12','Q15','Q18','Q20') :\n",
    "            listAux = ZoomAccionAux[\"Tokens_\"+column+\"_T\"].tolist()\n",
    "            listAux = [x for x in listAux if x!= []]\n",
    "            Lista_generalZoom = Lista_generalZoom+listAux\n",
    "\n",
    "    bigramZoom = gensim.models.Phrases(Lista_generalZoom, min_count=5, threshold=10) \n",
    "    trigramZoom = gensim.models.Phrases(bigramZoom[Lista_generalZoom], threshold=10)\n",
    "    bigram_modZoom = gensim.models.phrases.Phraser(bigramZoom)\n",
    "    trigram_modZoom = gensim.models.phrases.Phraser(trigramZoom)\n",
    "    data_words_bigramsZoom = make_bigrams(Lista_generalZoom,bigram_modZoom)\n",
    "    diccionarioZoom = Dictionary(data_words_bigramsZoom)\n",
    "    diccionarioZoom.filter_extremes(no_below=2, no_above = 0.9)\n",
    "    corpusZoom = [diccionarioZoom.doc2bow(noticia) for noticia in data_words_bigramsZoom]\n",
    "\n",
    "    #ldaZoomAccion = LdaModel(corpus=corpusZoom, id2word=diccionarioZoom, \n",
    "    #               num_topics=numeroTopicos, random_state=35, \n",
    "    #               chunksize=1000, iterations=200, passes=40, alpha='auto')\n",
    "    modelosAccion[accion]=LdaModel(corpus=corpusZoom, id2word=diccionarioZoom, num_topics=numeroTopicos, random_state=35, \n",
    "                   chunksize=1000, iterations=200, passes=40, alpha='auto')\n",
    "\n",
    "    modelosAccion[accion+'dis']=pyLDAvis.gensim_models.prepare(modelosAccion[accion], corpusZoom, diccionarioZoom, sort_topics=False)\n",
    "    \n",
    "    ##dfc2Zoom['TópicoZoom'] = \"\"\n",
    "    sumaTopicos = [0]*(numeroTopicos+1)\n",
    "    for i in ZoomAccionAux.index:\n",
    "        bow_comentario = diccionarioZoom.doc2bow(ZoomAccionAux.loc[i,'Opinion'])\n",
    "        distribucion_noticia = modelosAccion[accion][bow_comentario]\n",
    "        dist_contrib = [topico[1] for topico in modelosAccion[accion][bow_comentario]]\n",
    "        ZoomAccionAux.loc[i,'TópicoZoomAccion']=dist_contrib.index(max(dist_contrib))+1\n",
    "\n",
    "        # sumar pertenencias a los tópicos\n",
    "        for idx, val in enumerate(dist_contrib):\n",
    "            sumaTopicos[idx+1]=sumaTopicos[idx+1]+dist_contrib[idx] \n",
    "\n",
    "    ZoomAccionAux.TópicoZoomAccion.value_counts()\n",
    "    A = ZoomAccionAux.TópicoZoomAccion.value_counts()\n",
    "    indices = A.index\n",
    "    plt.pie(A, labels=indices, autopct=\"%0.1f %%\")\n",
    "    plt.axis(\"equal\")\n",
    "    plt.show()\n",
    "\n",
    "    impresionTopicosLimp(modelosAccion[accion],20,20)\n",
    "    \n",
    "    #acumular tabla resultados\n",
    "    ZoomAccion['Top_Zoom_'+accion]=ZoomAccionAux['TópicoZoomAccion']"
   ]
  },
  {
   "cell_type": "markdown",
   "metadata": {},
   "source": [
    "##  Información Modelos"
   ]
  },
  {
   "cell_type": "code",
   "execution_count": 60,
   "metadata": {},
   "outputs": [
    {
     "data": {
      "text/html": [
       "\n",
       "<link rel=\"stylesheet\" type=\"text/css\" href=\"https://cdn.jsdelivr.net/gh/bmabey/pyLDAvis@3.3.1/pyLDAvis/js/ldavis.v1.0.0.css\">\n",
       "\n",
       "\n",
       "<div id=\"ldavis_el2460020241479361925573221168\"></div>\n",
       "<script type=\"text/javascript\">\n",
       "\n",
       "var ldavis_el2460020241479361925573221168_data = {\"mdsDat\": {\"x\": [0.1532354333580288, -0.39621903389812985, 0.0967976233158643, 0.14618597722423676], \"y\": [0.3354787008577817, 0.011988141448523264, -0.08377451935087135, -0.26369232295543354], \"topics\": [1, 2, 3, 4], \"cluster\": [1, 1, 1, 1], \"Freq\": [18.59289473335576, 49.80426068934523, 14.569473930988885, 17.03337064631013]}, \"tinfo\": {\"Term\": [\"servici\", \"plan\", \"pud\", \"pag\", \"internet\", \"factur\", \"dej\", \"pued\", \"mal\", \"app\", \"ver\", \"funcion\", \"buen\", \"llam\", \"clar\", \"cancel\", \"line\", \"cambi\", \"encontr\", \"sirv\", \"sab\", \"lent\", \"wifi\", \"ingres\", \"encuentr\", \"cuent\", \"equip\", \"hac\", \"solucion\", \"busc\", \"plan\", \"llam\", \"cancel\", \"cambi\", \"line\", \"sab\", \"encuentr\", \"equip\", \"facil\", \"ningun\", \"asesor\", \"mejor\", \"client\", \"nuev\", \"verific\", \"pas\", \"contest\", \"ayud\", \"ten\", \"gust\", \"tiemp\", \"mas\", \"benefici\", \"chat\", \"da_opcion\", \"adquir\", \"usted\", \"pospag\", \"comunic\", \"prepag\", \"pag\", \"factur\", \"dej\", \"pued\", \"app\", \"ver\", \"clar\", \"ingres\", \"cuent\", \"hac\", \"clar_hog\", \"consult\", \"necesit\", \"aplic\", \"dat\", \"aparec\", \"pod\", \"quier\", \"hog\", \"opcion\", \"registr\", \"dic\", \"entrar\", \"si\", \"inform\", \"numer\", \"celul\", \"permit\", \"actualiz\", \"sal\", \"pud\", \"funcion\", \"buen\", \"sirv\", \"lent\", \"busc\", \"nunc\", \"tecnic\", \"graci\", \"carg\", \"recarg\", \"cambi_numer\", \"qued\", \"bien\", \"trasl\", \"netflix\", \"tampoc\", \"abre\", \"falt\", \"canal\", \"hoy\", \"acces\", \"sup\", \"paquet\", \"abrir\", \"visit_tecnic\", \"sim\", \"resolv\", \"pagin\", \"aplicacion\", \"servici\", \"internet\", \"mal\", \"encontr\", \"wifi\", \"solucion\", \"pesim\", \"se\\u00f1al\", \"telefon\", \"cambi_clav\", \"conect\", \"solicit\", \"respond\", \"fall\", \"da\", \"respuest\", \"atencion\", \"equip_financi\", \"tv\", \"esper\", \"problem\", \"ped\", \"dias\", \"llev\", \"averigu\", \"cambi_contrase\\u00f1\", \"cas\", \"hag\", \"red\", \"naveg\"], \"Freq\": [884.0, 568.0, 430.0, 1199.0, 388.0, 990.0, 840.0, 810.0, 310.0, 797.0, 715.0, 238.0, 236.0, 269.0, 625.0, 238.0, 233.0, 233.0, 217.0, 191.0, 218.0, 188.0, 197.0, 496.0, 196.0, 486.0, 192.0, 466.0, 173.0, 153.0, 568.0571788733738, 268.4665939595975, 237.30508005031967, 232.35460599637406, 232.86705810870404, 217.53415327549814, 195.87628996735066, 191.8783342710206, 153.28143504566816, 151.36480708094115, 113.62303742657409, 116.24580282453505, 103.89203486898461, 96.37764329913425, 89.45706549672947, 83.44251473905821, 80.00348760736388, 80.24365681086176, 77.6627536562726, 80.95168896757102, 75.08115205459843, 75.90388556930034, 73.56877634632984, 72.20765901369491, 72.62342078647973, 66.81879795958301, 64.86499626329952, 64.19272608340044, 61.61164088675189, 61.86200444557567, 1198.3595299406581, 990.0599258052627, 839.5704986300234, 809.4561651058245, 797.0372208910999, 714.2834291588391, 624.9278712277745, 496.03635348810315, 485.907005574904, 465.9396144832769, 422.67162623742934, 413.7239373911446, 383.4083416724933, 360.630166401183, 353.91120955750813, 322.2019049875579, 304.84363781511234, 303.73010775251066, 292.9469761601806, 291.84284045633893, 283.37302990206393, 285.2226039928543, 273.7648101571151, 262.2117591158133, 251.89390702503718, 232.15062711908388, 233.29437039481638, 216.61410922059287, 214.7898919371336, 194.5154525984913, 429.247363261261, 237.30449313668493, 235.44074084731653, 190.7526770974485, 187.53217602340908, 152.5178309042913, 140.29227964036454, 139.64973051462223, 116.58593276023892, 100.90796233045731, 97.8515250240212, 91.87949442202003, 84.86813516518068, 78.96404040108125, 76.02165821365932, 71.46457134831994, 70.282087187269, 63.81481434150309, 64.15447024138624, 61.39468454114606, 59.260324269419115, 59.5376513087659, 59.15267379744744, 52.90859125629996, 52.2728543460483, 50.95082457075403, 50.767593441274414, 46.21536246287453, 43.08256138526938, 42.73184291322191, 883.9034615883243, 387.5761063803673, 309.36702295683625, 216.2363854770862, 196.83114700317552, 172.69266387139433, 162.6639390639234, 159.14519549525184, 148.24975563838373, 132.07360694065957, 101.86768961865087, 81.1503300837884, 80.20231157280445, 74.1972844602584, 73.35780443679968, 72.97934580842539, 72.73816505260812, 71.88316494438568, 66.39531742837174, 65.39760061087028, 61.0739500496676, 58.403372306278655, 56.45888266880717, 52.63705839221355, 53.12313315219837, 49.28343014638022, 48.753140162455594, 48.81079591594187, 45.253013888445764, 45.55812650220202], \"Total\": [884.0, 568.0, 430.0, 1199.0, 388.0, 990.0, 840.0, 810.0, 310.0, 797.0, 715.0, 238.0, 236.0, 269.0, 625.0, 238.0, 233.0, 233.0, 217.0, 191.0, 218.0, 188.0, 197.0, 496.0, 196.0, 486.0, 192.0, 466.0, 173.0, 153.0, 568.8327033439199, 269.24989004760704, 238.08423007716635, 233.13192576034257, 233.64872053738677, 218.32086276251144, 196.64958253585675, 192.66064156491487, 154.07057720649686, 152.14867096248304, 114.39694422480088, 117.04185017631879, 104.66868331324523, 97.15812732177048, 90.25088950178491, 84.21900231119719, 80.77640577228351, 81.01920730321854, 78.45807403666544, 81.7890459577756, 75.8668419608983, 76.70005160437728, 74.35016349733364, 72.98015836361495, 73.40114626044759, 67.59719414837645, 65.63733782719669, 64.96907762245641, 62.38297015767603, 62.63755171279962, 1199.122428952152, 990.821668637946, 840.3298779176171, 810.2187567530107, 797.8105457234251, 715.0484545476417, 625.7078312958083, 496.7948344553422, 486.6699777191522, 466.7170259604471, 423.433826652604, 414.4907923206803, 384.18610802262924, 361.4022109913477, 354.688170730043, 322.9634865446051, 305.61559320387624, 304.5080992590188, 293.71364905907603, 292.61024142481773, 284.1330269977716, 285.99273593923033, 274.52955419747553, 262.98594241590143, 252.66602804176824, 232.91773469230802, 234.06887518332908, 217.37446216764684, 215.5543699349279, 195.27991017552066, 430.0354696033656, 238.07963392277694, 236.25880883023467, 191.52739378082234, 188.30847858443911, 153.29973691947723, 141.0719629591178, 140.4326105206992, 117.41326987958332, 101.68375246018032, 98.63302892696993, 92.66005847274697, 85.65456417547843, 79.75405753518305, 76.81944779475214, 72.25703464755921, 71.07369716644912, 64.59130919992394, 64.94554470383926, 62.186076260024514, 60.05263061179759, 60.33976335787535, 59.9627806239715, 53.68875520889513, 53.05572942647579, 51.73265298190686, 51.55768430599854, 47.00395629068929, 43.86345388059364, 43.51394573161482, 884.6800343469362, 388.34573832652995, 310.1291631592402, 217.0218847877258, 197.60003505867832, 173.4668438546214, 163.42823782790956, 159.90764977982818, 149.0286108788764, 132.83836159748756, 102.64409957612867, 81.92128035144412, 80.97179363621788, 74.96568440874012, 74.12877943267992, 73.74701244705336, 73.5046719549232, 72.68350571244052, 67.17844182747804, 66.18450108791575, 61.84546644689566, 59.17940545140582, 57.23580396512054, 53.41315457803054, 53.908700392819796, 50.04875294548326, 49.52877269488174, 49.60873309174228, 46.0189681932158, 46.33726286145683], \"Category\": [\"Default\", \"Default\", \"Default\", \"Default\", \"Default\", \"Default\", \"Default\", \"Default\", \"Default\", \"Default\", \"Default\", \"Default\", \"Default\", \"Default\", \"Default\", \"Default\", \"Default\", \"Default\", \"Default\", \"Default\", \"Default\", \"Default\", \"Default\", \"Default\", \"Default\", \"Default\", \"Default\", \"Default\", \"Default\", \"Default\", \"Topic1\", \"Topic1\", \"Topic1\", \"Topic1\", \"Topic1\", \"Topic1\", \"Topic1\", \"Topic1\", \"Topic1\", \"Topic1\", \"Topic1\", \"Topic1\", \"Topic1\", \"Topic1\", \"Topic1\", \"Topic1\", \"Topic1\", \"Topic1\", \"Topic1\", \"Topic1\", \"Topic1\", \"Topic1\", \"Topic1\", \"Topic1\", \"Topic1\", \"Topic1\", \"Topic1\", \"Topic1\", \"Topic1\", \"Topic1\", \"Topic2\", \"Topic2\", \"Topic2\", \"Topic2\", \"Topic2\", \"Topic2\", \"Topic2\", \"Topic2\", \"Topic2\", \"Topic2\", \"Topic2\", \"Topic2\", \"Topic2\", \"Topic2\", \"Topic2\", \"Topic2\", \"Topic2\", \"Topic2\", \"Topic2\", \"Topic2\", \"Topic2\", \"Topic2\", \"Topic2\", \"Topic2\", \"Topic2\", \"Topic2\", \"Topic2\", \"Topic2\", \"Topic2\", \"Topic2\", \"Topic3\", \"Topic3\", \"Topic3\", \"Topic3\", \"Topic3\", \"Topic3\", \"Topic3\", \"Topic3\", \"Topic3\", \"Topic3\", \"Topic3\", \"Topic3\", \"Topic3\", \"Topic3\", \"Topic3\", \"Topic3\", \"Topic3\", \"Topic3\", \"Topic3\", \"Topic3\", \"Topic3\", \"Topic3\", \"Topic3\", \"Topic3\", \"Topic3\", \"Topic3\", \"Topic3\", \"Topic3\", \"Topic3\", \"Topic3\", \"Topic4\", \"Topic4\", \"Topic4\", \"Topic4\", \"Topic4\", \"Topic4\", \"Topic4\", \"Topic4\", \"Topic4\", \"Topic4\", \"Topic4\", \"Topic4\", \"Topic4\", \"Topic4\", \"Topic4\", \"Topic4\", \"Topic4\", \"Topic4\", \"Topic4\", \"Topic4\", \"Topic4\", \"Topic4\", \"Topic4\", \"Topic4\", \"Topic4\", \"Topic4\", \"Topic4\", \"Topic4\", \"Topic4\", \"Topic4\"], \"logprob\": [30.0, 29.0, 28.0, 27.0, 26.0, 25.0, 24.0, 23.0, 22.0, 21.0, 20.0, 19.0, 18.0, 17.0, 16.0, 15.0, 14.0, 13.0, 12.0, 11.0, 10.0, 9.0, 8.0, 7.0, 6.0, 5.0, 4.0, 3.0, 2.0, 1.0, -2.6422, -3.3917, -3.5151, -3.5362, -3.534, -3.6021, -3.707, -3.7276, -3.9522, -3.9648, -4.2516, -4.2288, -4.3411, -4.4162, -4.4907, -4.5603, -4.6024, -4.5994, -4.6321, -4.5906, -4.6659, -4.655, -4.6862, -4.7049, -4.6992, -4.7825, -4.8122, -4.8226, -4.8636, -4.8596, -2.8811, -3.072, -3.2369, -3.2734, -3.2889, -3.3985, -3.5322, -3.7631, -3.7838, -3.8257, -3.9232, -3.9446, -4.0207, -4.0819, -4.1007, -4.1946, -4.25, -4.2537, -4.2898, -4.2936, -4.323, -4.3165, -4.3575, -4.4006, -4.4408, -4.5224, -4.5175, -4.5917, -4.6001, -4.6993, -2.6786, -3.2713, -3.2792, -3.4896, -3.5067, -3.7133, -3.7969, -3.8015, -3.982, -4.1264, -4.1572, -4.2201, -4.2995, -4.3716, -4.4096, -4.4714, -4.4881, -4.5846, -4.5793, -4.6233, -4.6587, -4.654, -4.6605, -4.7721, -4.7841, -4.8098, -4.8134, -4.9073, -4.9775, -4.9857, -2.1125, -2.937, -3.1623, -3.5205, -3.6145, -3.7454, -3.8052, -3.827, -3.898, -4.0135, -4.2732, -4.5006, -4.5123, -4.5901, -4.6015, -4.6067, -4.61, -4.6218, -4.7012, -4.7164, -4.7848, -4.8295, -4.8634, -4.9334, -4.9243, -4.9993, -5.0101, -5.0089, -5.0846, -5.0779], \"loglift\": [30.0, 29.0, 28.0, 27.0, 26.0, 25.0, 24.0, 23.0, 22.0, 21.0, 20.0, 19.0, 18.0, 17.0, 16.0, 15.0, 14.0, 13.0, 12.0, 11.0, 10.0, 9.0, 8.0, 7.0, 6.0, 5.0, 4.0, 3.0, 2.0, 1.0, 1.681, 1.6795, 1.6791, 1.6791, 1.679, 1.6788, 1.6785, 1.6783, 1.6773, 1.6772, 1.6756, 1.6756, 1.6749, 1.6743, 1.6736, 1.6731, 1.6728, 1.6728, 1.6722, 1.6721, 1.672, 1.672, 1.6718, 1.6717, 1.6717, 1.6708, 1.6706, 1.6704, 1.6699, 1.6699, 0.6964, 0.6963, 0.6962, 0.6961, 0.6961, 0.696, 0.6958, 0.6955, 0.6955, 0.6954, 0.6953, 0.6952, 0.695, 0.6949, 0.6949, 0.6947, 0.6945, 0.6945, 0.6945, 0.6944, 0.6944, 0.6944, 0.6943, 0.6941, 0.694, 0.6938, 0.6938, 0.6936, 0.6935, 0.6931, 1.9244, 1.923, 1.9228, 1.9222, 1.9221, 1.9211, 1.9207, 1.9207, 1.9192, 1.9186, 1.9183, 1.9178, 1.917, 1.9163, 1.9158, 1.9152, 1.915, 1.9141, 1.914, 1.9134, 1.913, 1.9129, 1.9126, 1.9116, 1.9114, 1.911, 1.9108, 1.9093, 1.9083, 1.9081, 1.7691, 1.768, 1.7675, 1.7664, 1.7661, 1.7655, 1.7653, 1.7652, 1.7648, 1.7642, 1.7624, 1.7605, 1.7604, 1.7597, 1.7595, 1.7595, 1.7595, 1.7589, 1.7583, 1.758, 1.7574, 1.7568, 1.7563, 1.7554, 1.7553, 1.7546, 1.7542, 1.7538, 1.7532, 1.753]}, \"token.table\": {\"Topic\": [3, 3, 3, 2, 1, 2, 2, 3, 2, 1, 4, 4, 1, 1, 3, 3, 3, 1, 4, 4, 3, 3, 1, 3, 4, 2, 1, 2, 2, 1, 1, 4, 2, 1, 2, 4, 1, 2, 2, 4, 2, 4, 1, 2, 1, 4, 4, 1, 2, 4, 3, 3, 3, 1, 2, 4, 2, 3, 2, 2, 4, 3, 1, 1, 4, 4, 1, 1, 4, 2, 3, 1, 1, 2, 3, 2, 2, 3, 3, 1, 4, 2, 4, 1, 2, 1, 1, 4, 3, 2, 3, 2, 3, 4, 2, 3, 4, 4, 1, 2, 4, 4, 2, 3, 3, 4, 4, 3, 3, 3, 4, 1, 1, 3, 4, 1, 2, 1, 3, 4], \"Freq\": [0.9908453752176827, 0.9801015001039838, 0.9943691632355233, 0.9974281665683917, 0.9911654003409431, 0.9970167322785822, 0.9988870820954735, 0.9881889421201945, 0.9989840373409828, 0.9965301151399565, 0.9931341513198959, 0.9831437154633981, 0.987420176805679, 0.9952903466399748, 0.9905452141434885, 0.9946719073186423, 0.9980447655977736, 0.9951446986222463, 0.9936888592466393, 0.979045373086006, 0.9928765588579775, 0.9809269802605802, 0.9954460231288106, 0.9932756960316932, 0.9893239289788341, 0.9954335014320382, 0.9865695226539325, 0.9988687511001062, 0.9989754558438716, 0.9936114290150757, 0.9938609823048173, 0.9937249235095978, 0.9988159150220625, 0.9903882109526849, 0.9986233428199287, 0.9847727233428277, 0.9945348774387771, 0.9980597866327863, 0.9996074423553348, 0.9784085506010601, 0.9965288071531954, 0.9952913283896445, 0.9966967510051118, 0.9980710484923069, 0.9965709573084118, 0.9905961372426821, 0.982103044240791, 0.9930513844634852, 0.9991707199550092, 0.9871183139811697, 0.985440961221419, 0.9954652403274145, 0.9964802114785904, 0.990352669498273, 0.9984636815874212, 0.9877293159126531, 0.9975702557189213, 0.9824715320365867, 0.997363998449138, 0.9984000750406078, 0.9991097151522254, 0.9983618444227365, 0.9972235219782298, 0.9953578809358621, 0.9922649283440661, 0.9963590552151318, 0.9908728665791755, 0.9910984816563538, 0.9927215627201544, 0.9969126733167578, 0.982603290410539, 0.9924503385063004, 0.9880799748441531, 0.9960598333419292, 0.9924013040108582, 0.9979144905460374, 0.9990639580037438, 0.9803149591697873, 0.9871713321306242, 0.985525804417715, 0.9800706775877587, 0.998277340567458, 0.9973796582916076, 0.9985361190750377, 0.9979857271109017, 0.9850840175369605, 0.9898215735550637, 0.9863293706803614, 0.9975921297740379, 0.9984957682812788, 0.9923580934445311, 0.9983314097055047, 0.9935819782292336, 0.9778576479825113, 0.9960123361590749, 0.978641025779182, 0.987998368412291, 0.9898706073335556, 0.9985303156168795, 0.9985666207278103, 0.9992313216976371, 0.9943239127016257, 0.9962509691322504, 0.9891832941392665, 0.9972463793799342, 0.9887540777256921, 0.9973087430182759, 0.9839436961736461, 0.9848931853941043, 0.9969194440016805, 0.9930978966199154, 0.9941615436997425, 0.9885741657555079, 0.9893328080547839, 0.982458035711748, 0.9902900110166777, 0.9985337293704034, 0.9861398651172277, 0.9858377071409212, 0.9969633858693389], \"Term\": [\"abre\", \"abrir\", \"acces\", \"actualiz\", \"adquir\", \"aparec\", \"aplic\", \"aplicacion\", \"app\", \"asesor\", \"atencion\", \"averigu\", \"ayud\", \"benefici\", \"bien\", \"buen\", \"busc\", \"cambi\", \"cambi_clav\", \"cambi_contrase\\u00f1\", \"cambi_numer\", \"canal\", \"cancel\", \"carg\", \"cas\", \"celul\", \"chat\", \"clar\", \"clar_hog\", \"client\", \"comunic\", \"conect\", \"consult\", \"contest\", \"cuent\", \"da\", \"da_opcion\", \"dat\", \"dej\", \"dias\", \"dic\", \"encontr\", \"encuentr\", \"entrar\", \"equip\", \"equip_financi\", \"esper\", \"facil\", \"factur\", \"fall\", \"falt\", \"funcion\", \"graci\", \"gust\", \"hac\", \"hag\", \"hog\", \"hoy\", \"inform\", \"ingres\", \"internet\", \"lent\", \"line\", \"llam\", \"llev\", \"mal\", \"mas\", \"mejor\", \"naveg\", \"necesit\", \"netflix\", \"ningun\", \"nuev\", \"numer\", \"nunc\", \"opcion\", \"pag\", \"pagin\", \"paquet\", \"pas\", \"ped\", \"permit\", \"pesim\", \"plan\", \"pod\", \"pospag\", \"prepag\", \"problem\", \"pud\", \"pued\", \"qued\", \"quier\", \"recarg\", \"red\", \"registr\", \"resolv\", \"respond\", \"respuest\", \"sab\", \"sal\", \"servici\", \"se\\u00f1al\", \"si\", \"sim\", \"sirv\", \"solicit\", \"solucion\", \"sup\", \"tampoc\", \"tecnic\", \"telefon\", \"ten\", \"tiemp\", \"trasl\", \"tv\", \"usted\", \"ver\", \"verific\", \"visit_tecnic\", \"wifi\"]}, \"R\": 30, \"lambda.step\": 0.01, \"plot.opts\": {\"xlab\": \"PC1\", \"ylab\": \"PC2\"}, \"topic.order\": [1, 2, 3, 4]};\n",
       "\n",
       "function LDAvis_load_lib(url, callback){\n",
       "  var s = document.createElement('script');\n",
       "  s.src = url;\n",
       "  s.async = true;\n",
       "  s.onreadystatechange = s.onload = callback;\n",
       "  s.onerror = function(){console.warn(\"failed to load library \" + url);};\n",
       "  document.getElementsByTagName(\"head\")[0].appendChild(s);\n",
       "}\n",
       "\n",
       "if(typeof(LDAvis) !== \"undefined\"){\n",
       "   // already loaded: just create the visualization\n",
       "   !function(LDAvis){\n",
       "       new LDAvis(\"#\" + \"ldavis_el2460020241479361925573221168\", ldavis_el2460020241479361925573221168_data);\n",
       "   }(LDAvis);\n",
       "}else if(typeof define === \"function\" && define.amd){\n",
       "   // require.js is available: use it to load d3/LDAvis\n",
       "   require.config({paths: {d3: \"https://d3js.org/d3.v5\"}});\n",
       "   require([\"d3\"], function(d3){\n",
       "      window.d3 = d3;\n",
       "      LDAvis_load_lib(\"https://cdn.jsdelivr.net/gh/bmabey/pyLDAvis@3.3.1/pyLDAvis/js/ldavis.v3.0.0.js\", function(){\n",
       "        new LDAvis(\"#\" + \"ldavis_el2460020241479361925573221168\", ldavis_el2460020241479361925573221168_data);\n",
       "      });\n",
       "    });\n",
       "}else{\n",
       "    // require.js not available: dynamically load d3 & LDAvis\n",
       "    LDAvis_load_lib(\"https://d3js.org/d3.v5.js\", function(){\n",
       "         LDAvis_load_lib(\"https://cdn.jsdelivr.net/gh/bmabey/pyLDAvis@3.3.1/pyLDAvis/js/ldavis.v3.0.0.js\", function(){\n",
       "                 new LDAvis(\"#\" + \"ldavis_el2460020241479361925573221168\", ldavis_el2460020241479361925573221168_data);\n",
       "            })\n",
       "         });\n",
       "}\n",
       "</script>"
      ],
      "text/plain": [
       "<IPython.core.display.HTML object>"
      ]
     },
     "execution_count": 60,
     "metadata": {},
     "output_type": "execute_result"
    }
   ],
   "source": [
    "pyLDAvis.display(modelosAccion['Pre_Detalle_Plandis'])"
   ]
  },
  {
   "cell_type": "code",
   "execution_count": 61,
   "metadata": {},
   "outputs": [
    {
     "data": {
      "text/html": [
       "\n",
       "<link rel=\"stylesheet\" type=\"text/css\" href=\"https://cdn.jsdelivr.net/gh/bmabey/pyLDAvis@3.3.1/pyLDAvis/js/ldavis.v1.0.0.css\">\n",
       "\n",
       "\n",
       "<div id=\"ldavis_el2460020241436301127256791666\"></div>\n",
       "<script type=\"text/javascript\">\n",
       "\n",
       "var ldavis_el2460020241436301127256791666_data = {\"mdsDat\": {\"x\": [-0.2180189933895732, -0.09466793789700793, 0.3596502027419439, -0.04696327145536296], \"y\": [-0.2881003598914956, 0.14173176649672012, -0.10457092817637907, 0.25093952157115473], \"topics\": [1, 2, 3, 4], \"cluster\": [1, 1, 1, 1], \"Freq\": [29.812207588619323, 19.725678887400214, 31.59880595696616, 18.863307567014306]}, \"tinfo\": {\"Term\": [\"servici\", \"lent\", \"pued\", \"eleg\", \"dej\", \"se\\u00f1al\", \"famili_amig\", \"ingres\", \"plan\", \"app\", \"internet\", \"pag\", \"numer\", \"aplic\", \"mal\", \"clar\", \"funcion\", \"registr\", \"dat\", \"hac\", \"llam\", \"inform\", \"pud\", \"buen\", \"amig\", \"ningun\", \"graci\", \"mejor\", \"factur\", \"cambi\", \"se\\u00f1al\", \"plan\", \"pag\", \"mal\", \"funcion\", \"dat\", \"llam\", \"bien\", \"benefici\", \"si\", \"cuent\", \"deb\", \"pag_factur\", \"clar\", \"cobertur\", \"equip\", \"cobr\", \"comun\", \"ofrec\", \"ten\", \"factur\", \"sald\", \"red\", \"consum\", \"inscrib_eleg\", \"usuari\", \"valor\", \"mes\", \"gig\", \"familiar\", \"mejor\", \"utiliz\", \"mism\", \"sol\", \"quier\", \"pesim\", \"servici\", \"internet\", \"graci\", \"sirv\", \"carg\", \"facil\", \"moment\", \"fall\", \"cae\", \"asesor\", \"hog\", \"atencion\", \"pas\", \"respuest\", \"nunc\", \"excelent\", \"tiemp\", \"sab\", \"lleg\", \"cos\", \"servici_client\", \"rap\", \"product\", \"naveg\", \"mir\", \"esper\", \"habl\", \"hor\", \"dias\", \"veloc\", \"avec\", \"qued\", \"trat\", \"pesim\", \"app\", \"eleg\", \"dej\", \"famili_amig\", \"ingres\", \"numer\", \"registr\", \"pued\", \"hac\", \"pud\", \"amig\", \"cambi\", \"permit\", \"ver\", \"line\", \"realiz\", \"dic\", \"pod\", \"activ\", \"opcion\", \"famili\", \"consult\", \"agreg\", \"error\", \"celul\", \"siempr\", \"necesit\", \"clar_vide\", \"agreg_numer\", \"contact\", \"problem\", \"buen\", \"lent\", \"aplic\", \"inform\", \"ningun\", \"demor\", \"vec\", \"sal\", \"solucion\", \"intent\", \"much\", \"mas\", \"ahor\", \"proces\", \"clar_hog\", \"inscrib_numer\", \"equip_financi\", \"encuentr\", \"ser\", \"falt\", \"da\", \"complic\", \"descarg\", \"clav\", \"actualiz\", \"tampoc\", \"tiend\", \"acces\", \"demor_carg\", \"muestr\", \"demasi\", \"app\", \"busc\"], \"Freq\": [315.0, 238.0, 311.0, 307.0, 306.0, 281.0, 286.0, 278.0, 258.0, 331.0, 184.0, 242.0, 251.0, 170.0, 231.0, 239.0, 199.0, 206.0, 194.0, 194.0, 162.0, 108.0, 157.0, 171.0, 150.0, 101.0, 102.0, 154.0, 143.0, 138.0, 280.62067496925, 257.5096580522445, 241.6659161646058, 230.67329045983868, 198.56587595261732, 193.43181203129376, 161.7843737785784, 125.71693212984079, 112.11508505644925, 100.19927973096178, 90.15740514152772, 76.27042130985413, 73.98703667130135, 236.57109662972093, 65.39942725074992, 65.92243937783778, 65.41554024207666, 61.92209590718255, 57.17998501332495, 43.34958847262029, 140.88742630004157, 39.15664792863991, 38.0142052494733, 36.896614715542796, 36.438864152590824, 36.39068032821196, 33.750073605683234, 33.61588330501567, 31.3141345954655, 31.184686230795887, 150.4299730542609, 35.02505353703745, 38.23466437030095, 64.67365998280057, 48.5730298479348, 45.835395385617105, 315.2425500840222, 183.95161840877432, 102.11818449993595, 86.84516263345165, 81.83661440874629, 73.34652374728364, 67.22574126604849, 60.45407993100571, 54.3525745642359, 50.97464475123928, 51.325933205857126, 50.04524817662236, 48.810982767522475, 47.738818330255086, 47.67867627155038, 43.58706019752704, 43.78870090530394, 41.79204503060156, 35.69710597760877, 35.17006503922973, 34.49133814632229, 34.506979337183985, 32.35755867641166, 30.94190584856115, 30.727961235037196, 29.513596348248452, 26.2976107218776, 27.912145584462817, 24.69646232956208, 24.233117247906932, 28.210009479888033, 57.86085261172145, 31.172128126226486, 32.5355546818215, 39.881117067149475, 306.75610284932327, 306.0833153553075, 285.6590111959508, 277.4237449561389, 250.44204107509262, 205.47762948833423, 310.16139736342217, 193.86241158470634, 157.18013675699498, 149.3384561047068, 137.78379074991457, 134.05316531868593, 108.63852025973952, 106.39001503677879, 103.17790743189234, 105.13242841568072, 138.25527061959653, 96.05778042370434, 90.71424223550804, 82.05790675081012, 82.3503242540754, 80.3339829809464, 61.217329232817406, 66.59111379589135, 67.44597752997707, 66.36684930458341, 57.04008240963837, 53.076790716302455, 48.486538554232446, 47.7406795738946, 166.19142762326388, 237.34541515862014, 169.46668401696647, 107.50123228712023, 101.0554413741808, 77.339459868218, 71.55323613273248, 68.5678204151736, 66.15629711018533, 58.34512174842863, 46.69401413394912, 44.75642220960392, 43.43196530992775, 40.34793793798822, 44.739783456307215, 34.824253810141876, 33.79619589914314, 36.035894893376124, 33.576811384532036, 33.01052617712667, 32.84797258988814, 31.570761753263227, 30.380085998952293, 29.757517825691426, 65.4204222754754, 30.02774138880608, 25.25271726943757, 24.404099798814052, 23.789477959996105, 23.98430059044974, 23.702289607599894, 243.1674009688807, 24.079422783052333], \"Total\": [315.0, 238.0, 311.0, 307.0, 306.0, 281.0, 286.0, 278.0, 258.0, 331.0, 184.0, 242.0, 251.0, 170.0, 231.0, 239.0, 199.0, 206.0, 194.0, 194.0, 162.0, 108.0, 157.0, 171.0, 150.0, 101.0, 102.0, 154.0, 143.0, 138.0, 281.3529930169934, 258.2603363421444, 242.40830705128968, 231.47601553416308, 199.3059837519533, 194.16940906795517, 162.53519190058088, 126.46460471574775, 112.86248114625462, 100.94417979866931, 90.95012907046589, 77.01487976609982, 74.73135390921826, 239.09460951039745, 66.13126196084754, 66.66396463219581, 66.15428012291996, 62.68675280542659, 57.9224422709107, 44.08981377514571, 143.30037026444566, 39.906880958099116, 38.75359627311783, 37.638276756800046, 37.185336882058245, 37.14349051403494, 34.4828674917973, 34.357046923697276, 32.04932958340125, 31.941846481870005, 154.2414816276433, 36.01092697869048, 40.028580620830695, 78.59157383191938, 79.76193480369776, 78.86320822942939, 315.9908523702967, 184.69525261209333, 102.87809501940146, 87.59511379524882, 82.58304998360856, 74.09926190361885, 68.03521734683191, 61.20201957993863, 55.098775036706726, 51.7231915970705, 52.08530066843722, 50.7909583657616, 49.561138275106295, 48.48432276724276, 48.42670837589949, 44.33209231548137, 44.54769238100662, 42.55428691313165, 36.44013637482577, 35.921439334178544, 35.234388615913794, 35.254509127565946, 33.10697006325817, 31.691528957821124, 31.485114427776406, 30.252918022289677, 27.046839848239696, 28.712564550617397, 25.44141974004444, 24.97708202633567, 29.132482300995594, 64.03498126368908, 33.46441464475028, 78.86320822942939, 331.57386899317646, 307.49196474837424, 306.8231679238631, 286.39910048513707, 278.1665845849567, 251.1795717625374, 206.21714958453106, 311.28017940529253, 194.62116337154438, 157.92700406319366, 150.0749912335358, 138.5340856879569, 134.79531180179373, 109.3911015477494, 107.15870322919989, 103.92977145130496, 105.91109261366053, 139.31571340046042, 96.80949361594286, 91.46375819257055, 82.79865953201903, 83.1033848237059, 81.06978316678156, 61.96335728831035, 67.41803882973835, 68.28572259957225, 67.21203264629597, 57.794228196290334, 53.8170967995474, 49.23550555861251, 48.49949775528523, 171.40896605129805, 238.08577145195832, 170.21427843538703, 108.24452431213128, 101.79877360746546, 78.08400630276248, 72.29777732086234, 69.3097222613978, 66.8997480910197, 59.09033585561774, 47.44399958620091, 45.5068217995897, 44.18772831693151, 41.09156868288596, 45.605482510274335, 35.57505545483485, 34.5429918548222, 36.83689792979108, 34.32549468715588, 33.75603056155267, 33.591016503643104, 32.312474197145235, 31.128417236819633, 30.503087655101947, 67.0688468892794, 30.812530346467735, 25.99607612752549, 25.142244044044514, 24.519853043063936, 24.726205527558868, 24.442361429774653, 331.57386899317646, 24.957516779817468], \"Category\": [\"Default\", \"Default\", \"Default\", \"Default\", \"Default\", \"Default\", \"Default\", \"Default\", \"Default\", \"Default\", \"Default\", \"Default\", \"Default\", \"Default\", \"Default\", \"Default\", \"Default\", \"Default\", \"Default\", \"Default\", \"Default\", \"Default\", \"Default\", \"Default\", \"Default\", \"Default\", \"Default\", \"Default\", \"Default\", \"Default\", \"Topic1\", \"Topic1\", \"Topic1\", \"Topic1\", \"Topic1\", \"Topic1\", \"Topic1\", \"Topic1\", \"Topic1\", \"Topic1\", \"Topic1\", \"Topic1\", \"Topic1\", \"Topic1\", \"Topic1\", \"Topic1\", \"Topic1\", \"Topic1\", \"Topic1\", \"Topic1\", \"Topic1\", \"Topic1\", \"Topic1\", \"Topic1\", \"Topic1\", \"Topic1\", \"Topic1\", \"Topic1\", \"Topic1\", \"Topic1\", \"Topic1\", \"Topic1\", \"Topic1\", \"Topic1\", \"Topic1\", \"Topic1\", \"Topic2\", \"Topic2\", \"Topic2\", \"Topic2\", \"Topic2\", \"Topic2\", \"Topic2\", \"Topic2\", \"Topic2\", \"Topic2\", \"Topic2\", \"Topic2\", \"Topic2\", \"Topic2\", \"Topic2\", \"Topic2\", \"Topic2\", \"Topic2\", \"Topic2\", \"Topic2\", \"Topic2\", \"Topic2\", \"Topic2\", \"Topic2\", \"Topic2\", \"Topic2\", \"Topic2\", \"Topic2\", \"Topic2\", \"Topic2\", \"Topic2\", \"Topic2\", \"Topic2\", \"Topic2\", \"Topic2\", \"Topic3\", \"Topic3\", \"Topic3\", \"Topic3\", \"Topic3\", \"Topic3\", \"Topic3\", \"Topic3\", \"Topic3\", \"Topic3\", \"Topic3\", \"Topic3\", \"Topic3\", \"Topic3\", \"Topic3\", \"Topic3\", \"Topic3\", \"Topic3\", \"Topic3\", \"Topic3\", \"Topic3\", \"Topic3\", \"Topic3\", \"Topic3\", \"Topic3\", \"Topic3\", \"Topic3\", \"Topic3\", \"Topic3\", \"Topic3\", \"Topic3\", \"Topic4\", \"Topic4\", \"Topic4\", \"Topic4\", \"Topic4\", \"Topic4\", \"Topic4\", \"Topic4\", \"Topic4\", \"Topic4\", \"Topic4\", \"Topic4\", \"Topic4\", \"Topic4\", \"Topic4\", \"Topic4\", \"Topic4\", \"Topic4\", \"Topic4\", \"Topic4\", \"Topic4\", \"Topic4\", \"Topic4\", \"Topic4\", \"Topic4\", \"Topic4\", \"Topic4\", \"Topic4\", \"Topic4\", \"Topic4\", \"Topic4\", \"Topic4\"], \"logprob\": [30.0, 29.0, 28.0, 27.0, 26.0, 25.0, 24.0, 23.0, 22.0, 21.0, 20.0, 19.0, 18.0, 17.0, 16.0, 15.0, 14.0, 13.0, 12.0, 11.0, 10.0, 9.0, 8.0, 7.0, 6.0, 5.0, 4.0, 3.0, 2.0, 1.0, -3.0721, -3.1581, -3.2216, -3.2681, -3.418, -3.4442, -3.6228, -3.8751, -3.9896, -4.1019, -4.2076, -4.3748, -4.4052, -3.2429, -4.5286, -4.5206, -4.5283, -4.5832, -4.6629, -4.9398, -3.7611, -5.0415, -5.0711, -5.101, -5.1135, -5.1148, -5.1901, -5.1941, -5.265, -5.2692, -3.6956, -5.153, -5.0654, -4.5398, -4.826, -4.8841, -2.5428, -3.0814, -3.67, -3.832, -3.8914, -4.0009, -4.0881, -4.1942, -4.3006, -4.3648, -4.3579, -4.3832, -4.4082, -4.4304, -4.4316, -4.5214, -4.5167, -4.5634, -4.721, -4.7359, -4.7554, -4.755, -4.8193, -4.864, -4.8709, -4.9113, -5.0266, -4.9671, -5.0895, -5.1084, -4.9564, -4.2381, -4.8566, -4.8138, -4.6102, -3.0413, -3.0435, -3.1125, -3.1418, -3.2441, -3.442, -3.0302, -3.5002, -3.7099, -3.7611, -3.8416, -3.8691, -4.0793, -4.1002, -4.1309, -4.1121, -3.8382, -4.2024, -4.2596, -4.3599, -4.3563, -4.3811, -4.6529, -4.5687, -4.556, -4.5721, -4.7236, -4.7956, -4.886, -4.9015, -3.6542, -2.7819, -3.1188, -3.5739, -3.6357, -3.9032, -3.981, -4.0236, -4.0594, -4.185, -4.4078, -4.4502, -4.4802, -4.5539, -4.4505, -4.7011, -4.7311, -4.6669, -4.7376, -4.7546, -4.7595, -4.7992, -4.8376, -4.8583, -4.0706, -4.8493, -5.0225, -5.0567, -5.0822, -5.074, -5.0858, -2.7577, -5.0701], \"loglift\": [30.0, 29.0, 28.0, 27.0, 26.0, 25.0, 24.0, 23.0, 22.0, 21.0, 20.0, 19.0, 18.0, 17.0, 16.0, 15.0, 14.0, 13.0, 12.0, 11.0, 10.0, 9.0, 8.0, 7.0, 6.0, 5.0, 4.0, 3.0, 2.0, 1.0, 1.2076, 1.2073, 1.2072, 1.2068, 1.2065, 1.2064, 1.2056, 1.2043, 1.2036, 1.2028, 1.2015, 1.2005, 1.2002, 1.1996, 1.1991, 1.1991, 1.199, 1.198, 1.1974, 1.1933, 1.1933, 1.1913, 1.191, 1.1904, 1.19, 1.1898, 1.1888, 1.1884, 1.187, 1.1863, 1.1852, 1.1825, 1.1644, 1.0153, 0.7143, 0.6676, 1.6209, 1.6192, 1.6158, 1.6147, 1.6142, 1.613, 1.6113, 1.611, 1.6096, 1.6087, 1.6086, 1.6085, 1.608, 1.6078, 1.6077, 1.6063, 1.6061, 1.6052, 1.6026, 1.6021, 1.6019, 1.6018, 1.6004, 1.5993, 1.5989, 1.5985, 1.5952, 1.595, 1.5935, 1.593, 1.5911, 1.5219, 1.5523, 0.7379, -0.4947, 1.1497, 1.1496, 1.1495, 1.1494, 1.1491, 1.1485, 1.1485, 1.1481, 1.1473, 1.1471, 1.1466, 1.1465, 1.1451, 1.1449, 1.1448, 1.1447, 1.1444, 1.1443, 1.1438, 1.1431, 1.1429, 1.1429, 1.1399, 1.1397, 1.1397, 1.1394, 1.1389, 1.1382, 1.1367, 1.1363, 1.1211, 1.6648, 1.6635, 1.6611, 1.6606, 1.6584, 1.6576, 1.6572, 1.6568, 1.6553, 1.652, 1.6513, 1.6507, 1.6497, 1.6488, 1.6466, 1.6461, 1.646, 1.6459, 1.6456, 1.6456, 1.6447, 1.6436, 1.6432, 1.6431, 1.6422, 1.6389, 1.6382, 1.6377, 1.6375, 1.6372, 1.3579, 1.6321]}, \"token.table\": {\"Topic\": [4, 3, 3, 4, 3, 3, 4, 3, 4, 1, 2, 3, 4, 2, 2, 2, 1, 1, 1, 3, 4, 2, 3, 2, 3, 1, 2, 4, 3, 4, 1, 1, 4, 1, 3, 1, 3, 2, 1, 4, 1, 1, 3, 4, 4, 4, 4, 2, 3, 3, 4, 1, 4, 3, 2, 2, 2, 1, 3, 2, 4, 3, 3, 1, 1, 1, 2, 2, 3, 2, 2, 4, 3, 1, 4, 4, 2, 4, 3, 1, 2, 1, 4, 1, 2, 1, 2, 1, 2, 2, 4, 4, 2, 3, 4, 3, 2, 1, 3, 1, 1, 2, 3, 1, 2, 1, 2, 3, 3, 4, 2, 3, 1, 3, 1, 2, 1, 3, 2, 3, 1, 3, 2, 2, 4, 1, 4, 2, 2, 1, 1, 3, 2, 1, 3, 4, 4, 1, 2, 4, 2, 4, 1, 1, 1, 4, 2, 3], \"Freq\": [0.9545687313334674, 0.9916382827168353, 0.014910052079035292, 0.969153385137294, 0.9868041688901432, 0.9848171520178645, 0.9731208558988897, 0.9928369728713629, 0.9928661775818768, 0.03317511127581158, 0.12063676827567847, 0.11460492986189455, 0.7328683672747467, 0.9860180399789663, 0.9844271817029784, 0.9611264742463469, 0.9923581234658756, 0.9963262075045264, 0.029170002685294977, 0.9684440891517933, 0.9616341325835834, 0.980058085937941, 0.9961447344506976, 0.9929398347030742, 0.9937993030204558, 0.9912394114000033, 0.008364889547679354, 0.9867234710182503, 0.986257655460112, 0.9835069924464581, 0.9828936885928883, 0.9825516939981025, 0.9903296109348122, 0.9890446900709915, 0.9867227450958033, 0.9830418177504705, 0.9749062075306265, 0.9743484851593401, 0.9895532960736124, 0.982405518940488, 0.9939773774171301, 0.9868222898070854, 0.9973171259216405, 0.9819018538349659, 0.9861174348744434, 0.9787986884688532, 0.9637496109026414, 0.9826495634066501, 0.9913975713858039, 0.9984000728318971, 0.9772809879000627, 0.9900401268382537, 0.9842806941244612, 0.9844527906416057, 0.9916398800901344, 0.9925089861963181, 0.9851650087277702, 0.9839472133937925, 0.0139566980623233, 0.980359805310532, 0.9776030964252719, 0.9903541973199436, 0.998606488342802, 0.970513712085975, 0.9984647538112347, 0.9672589225097328, 0.9914647037424648, 0.961295299039979, 0.9968083462210194, 0.9791630142380096, 0.9751828315662567, 0.9977410006308849, 0.9958061656230301, 0.9681235405821975, 0.9838354305430408, 0.9815479834421337, 0.9962356768662942, 0.9954395785798673, 0.9891870357303452, 0.9967072244827554, 0.9879216595048247, 0.9979435643340213, 0.9888627291569223, 0.9725010316104021, 0.01945002063220804, 0.9896077528289835, 0.9845922609273278, 0.9493216949147822, 0.02498214986617848, 0.9847840958373874, 0.9906416071563653, 0.9706301265372292, 0.9781793753547993, 0.9819670288402926, 0.9921534063804588, 0.9953038706362134, 0.991188573615467, 0.984074527337844, 0.9949295961402095, 0.9983156226935602, 0.9902135600258669, 0.9886778573972312, 0.9940998556169136, 0.5832884691449083, 0.41844607569091247, 0.9989919615770982, 0.007177941207001673, 0.9905558865662308, 0.9897009705583848, 0.9734357018270615, 0.9665638365231534, 0.9941301738186413, 0.003212539911505196, 0.9958873725666108, 0.09369878590723177, 0.9057549304365737, 0.6143281268263363, 0.38865657003298826, 0.9927808063744407, 0.991053848783449, 0.980554158953228, 0.9940977285983088, 0.9900107346127566, 0.9869745928474105, 0.9955313302190175, 0.9772750729616952, 0.9905174072472238, 0.9968643004603958, 0.9649663676764842, 0.9987453731584363, 0.9906465157223284, 0.9811714286584952, 0.9932060845695129, 0.8270606736927406, 0.16541213473854813, 0.986550800015038, 0.9736298727390663, 0.9752819601211368, 0.9877054825573831, 0.9616835970690664, 0.9263571566718893, 0.05976497784979931, 0.9692142418978404, 0.9719272158895356, 0.9859968869493767, 0.9958812382358481, 0.9608808576876418, 0.9964247407493315], \"Term\": [\"acces\", \"activ\", \"actualiz\", \"actualiz\", \"agreg\", \"agreg_numer\", \"ahor\", \"amig\", \"aplic\", \"app\", \"app\", \"app\", \"app\", \"asesor\", \"atencion\", \"avec\", \"benefici\", \"bien\", \"buen\", \"buen\", \"busc\", \"cae\", \"cambi\", \"carg\", \"celul\", \"clar\", \"clar\", \"clar_hog\", \"clar_vide\", \"clav\", \"cobertur\", \"cobr\", \"complic\", \"comun\", \"consult\", \"consum\", \"contact\", \"cos\", \"cuent\", \"da\", \"dat\", \"deb\", \"dej\", \"demasi\", \"demor\", \"demor_carg\", \"descarg\", \"dias\", \"dic\", \"eleg\", \"encuentr\", \"equip\", \"equip_financi\", \"error\", \"esper\", \"excelent\", \"facil\", \"factur\", \"factur\", \"fall\", \"falt\", \"famili\", \"famili_amig\", \"familiar\", \"funcion\", \"gig\", \"graci\", \"habl\", \"hac\", \"hog\", \"hor\", \"inform\", \"ingres\", \"inscrib_eleg\", \"inscrib_numer\", \"intent\", \"internet\", \"lent\", \"line\", \"llam\", \"lleg\", \"mal\", \"mas\", \"mejor\", \"mejor\", \"mes\", \"mir\", \"mism\", \"mism\", \"moment\", \"much\", \"muestr\", \"naveg\", \"necesit\", \"ningun\", \"numer\", \"nunc\", \"ofrec\", \"opcion\", \"pag\", \"pag_factur\", \"pas\", \"permit\", \"pesim\", \"pesim\", \"plan\", \"pod\", \"pod\", \"problem\", \"proces\", \"product\", \"pud\", \"pued\", \"pued\", \"qued\", \"qued\", \"quier\", \"quier\", \"rap\", \"realiz\", \"red\", \"registr\", \"respuest\", \"sab\", \"sal\", \"sald\", \"ser\", \"servici\", \"servici_client\", \"se\\u00f1al\", \"si\", \"siempr\", \"sirv\", \"sol\", \"sol\", \"solucion\", \"tampoc\", \"ten\", \"tiemp\", \"tiend\", \"trat\", \"trat\", \"usuari\", \"utiliz\", \"valor\", \"vec\", \"veloc\", \"ver\"]}, \"R\": 30, \"lambda.step\": 0.01, \"plot.opts\": {\"xlab\": \"PC1\", \"ylab\": \"PC2\"}, \"topic.order\": [1, 2, 3, 4]};\n",
       "\n",
       "function LDAvis_load_lib(url, callback){\n",
       "  var s = document.createElement('script');\n",
       "  s.src = url;\n",
       "  s.async = true;\n",
       "  s.onreadystatechange = s.onload = callback;\n",
       "  s.onerror = function(){console.warn(\"failed to load library \" + url);};\n",
       "  document.getElementsByTagName(\"head\")[0].appendChild(s);\n",
       "}\n",
       "\n",
       "if(typeof(LDAvis) !== \"undefined\"){\n",
       "   // already loaded: just create the visualization\n",
       "   !function(LDAvis){\n",
       "       new LDAvis(\"#\" + \"ldavis_el2460020241436301127256791666\", ldavis_el2460020241436301127256791666_data);\n",
       "   }(LDAvis);\n",
       "}else if(typeof define === \"function\" && define.amd){\n",
       "   // require.js is available: use it to load d3/LDAvis\n",
       "   require.config({paths: {d3: \"https://d3js.org/d3.v5\"}});\n",
       "   require([\"d3\"], function(d3){\n",
       "      window.d3 = d3;\n",
       "      LDAvis_load_lib(\"https://cdn.jsdelivr.net/gh/bmabey/pyLDAvis@3.3.1/pyLDAvis/js/ldavis.v3.0.0.js\", function(){\n",
       "        new LDAvis(\"#\" + \"ldavis_el2460020241436301127256791666\", ldavis_el2460020241436301127256791666_data);\n",
       "      });\n",
       "    });\n",
       "}else{\n",
       "    // require.js not available: dynamically load d3 & LDAvis\n",
       "    LDAvis_load_lib(\"https://d3js.org/d3.v5.js\", function(){\n",
       "         LDAvis_load_lib(\"https://cdn.jsdelivr.net/gh/bmabey/pyLDAvis@3.3.1/pyLDAvis/js/ldavis.v3.0.0.js\", function(){\n",
       "                 new LDAvis(\"#\" + \"ldavis_el2460020241436301127256791666\", ldavis_el2460020241436301127256791666_data);\n",
       "            })\n",
       "         });\n",
       "}\n",
       "</script>"
      ],
      "text/plain": [
       "<IPython.core.display.HTML object>"
      ]
     },
     "execution_count": 61,
     "metadata": {},
     "output_type": "execute_result"
    }
   ],
   "source": [
    "pyLDAvis.display(modelosAccion['Pre_Elegidosdis'])"
   ]
  },
  {
   "cell_type": "code",
   "execution_count": 62,
   "metadata": {},
   "outputs": [
    {
     "data": {
      "text/html": [
       "\n",
       "<link rel=\"stylesheet\" type=\"text/css\" href=\"https://cdn.jsdelivr.net/gh/bmabey/pyLDAvis@3.3.1/pyLDAvis/js/ldavis.v1.0.0.css\">\n",
       "\n",
       "\n",
       "<div id=\"ldavis_el2460020241436294409101878741\"></div>\n",
       "<script type=\"text/javascript\">\n",
       "\n",
       "var ldavis_el2460020241436294409101878741_data = {\"mdsDat\": {\"x\": [-0.25583717371369236, -0.03132846594054938, -0.03384714724165979, 0.32101278689590146], \"y\": [0.12150347277221671, 0.14218139933058593, -0.33868474372812796, 0.07499987162532526], \"topics\": [1, 2, 3, 4], \"cluster\": [1, 1, 1, 1], \"Freq\": [16.91000386333553, 12.710041621317744, 32.32826535857432, 38.0516891567724]}, \"tinfo\": {\"Term\": [\"dat\", \"app\", \"buen\", \"lent\", \"aplic\", \"bien\", \"servici\", \"funcion\", \"recarg\", \"sald\", \"paquet\", \"consum\", \"clar\", \"se\\u00f1al\", \"ingres\", \"internet\", \"pud\", \"pag\", \"facil\", \"numer\", \"inform\", \"llam\", \"dej\", \"mal\", \"mejor\", \"graci\", \"hac\", \"tiemp\", \"compr\", \"compr_paquet\", \"lent\", \"aplic\", \"bien\", \"funcion\", \"facil\", \"graci\", \"ocasion\", \"usuari\", \"pas\", \"promocion\", \"cos\", \"excelent\", \"tiemp\", \"falt\", \"demor_carg\", \"client\", \"avec\", \"cad\", \"parec\", \"dia\", \"pon\", \"dar\", \"form\", \"da\", \"manej\", \"usar\", \"tan\", \"acab\", \"quis\", \"proces\", \"voy\", \"uso\", \"naveg\", \"gust\", \"celul\", \"much\", \"mejor\", \"pud\", \"nunc\", \"equip\", \"cambi\", \"adquir\", \"demasi\", \"detall\", \"numer\", \"acced\", \"asi\", \"posibl\", \"revis\", \"segu\", \"abre\", \"coloc\", \"eleg\", \"ped\", \"com\", \"solicit\", \"sig\", \"pospag\", \"cancel\", \"pid\", \"pues\", \"segund\", \"util\", \"estan\", \"descarg\", \"cont\", \"verific\", \"buen\", \"product\", \"lleg\", \"hac\", \"inici\", \"servici\", \"se\\u00f1al\", \"ingres\", \"internet\", \"llam\", \"mal\", \"registr\", \"cuent\", \"siempr\", \"moment\", \"ningun\", \"fall\", \"telefon\", \"solucion\", \"hog\", \"pesim\", \"wifi\", \"cobertur\", \"red\", \"atencion\", \"entrar\", \"rap\", \"oper\", \"ok\", \"error\", \"cae\", \"problem\", \"complic\", \"encuentr\", \"clar_hog\", \"app\", \"clar\", \"mejor\", \"deb\", \"dic\", \"asesor\", \"line\", \"necesit\", \"pod\", \"dat\", \"recarg\", \"sald\", \"paquet\", \"consum\", \"inform\", \"compr\", \"compr_paquet\", \"ver\", \"dias\", \"consult\", \"carg\", \"sol\", \"opcion\", \"minut\", \"pag\", \"activ\", \"dej\", \"quier\", \"sab\", \"mas\", \"muestr\", \"consult_sald\", \"prepag\", \"ten\", \"cuant\", \"pag_factur\", \"mal_se\\u00f1al\", \"mir\", \"pued_ver\", \"qued\", \"demor\", \"plan\", \"si\", \"vec\", \"hac\", \"factur\", \"aparec\", \"pued\", \"actualiz\", \"pod\"], \"Freq\": [344.0, 328.0, 151.0, 143.0, 125.0, 122.0, 184.0, 109.0, 206.0, 189.0, 177.0, 168.0, 164.0, 134.0, 132.0, 127.0, 63.0, 146.0, 70.0, 59.0, 130.0, 105.0, 126.0, 100.0, 140.0, 56.0, 146.0, 55.0, 103.0, 101.0, 142.38756941801762, 125.09566858448014, 121.43678706903421, 109.15011150094061, 69.77633962715063, 56.06447440418439, 41.195982221022255, 36.63932244094717, 34.40772395636358, 30.312543404330526, 28.480361976726332, 27.708094456741918, 54.13389053285451, 25.701538481786365, 24.330140785596043, 23.269180189981423, 22.92506773946638, 22.51502083138147, 21.15978023342733, 21.339245907911504, 19.235728980591585, 18.582805698019143, 18.487085392280243, 18.573486502275586, 17.81095823045371, 16.17892718975809, 15.487730934321595, 15.779745408040698, 15.470156446092398, 14.954415856528252, 15.515262730712259, 20.936971117261983, 24.869876008831437, 40.0336857008543, 25.77224960101691, 18.113241034753802, 18.559650021501657, 63.22376392902355, 39.70213335906623, 34.75210474771917, 37.817930678564956, 27.772642422176936, 25.42982305223236, 24.471190228299868, 57.61700651477175, 24.764952726525006, 22.673618250169394, 20.32040588735282, 21.108931089905266, 20.20955419777584, 18.867893694476564, 19.310451622689353, 17.4728880152805, 16.899480857587122, 16.845216115753953, 16.250886676427317, 16.334593055604554, 16.242629560908494, 15.265746889930845, 15.252848813119579, 14.002134761140193, 13.118405154676871, 11.658049909742827, 11.853937294733411, 11.669139909440904, 10.545112886526486, 10.588658560512087, 134.93878246197056, 19.298483463400995, 22.509186748734376, 18.65560853379675, 11.93273184610411, 183.92552245897534, 133.61845338319077, 131.81089920826264, 126.52088462330877, 105.05848482000098, 99.91282601871346, 85.12470463930595, 73.08924303550104, 54.62434526672291, 53.476151580321336, 47.35021976437885, 47.64310455490788, 46.449303814164004, 50.450266362159816, 46.14846313125332, 43.487210547217146, 45.91933079771313, 42.352519497803094, 39.55783347766702, 37.02252797981177, 36.141543448900556, 34.99933972008363, 37.33189941550234, 30.802204964128794, 29.05484657174087, 28.622275092688408, 28.188542922221192, 27.347250088271988, 26.659714857861, 25.313010027681635, 316.2716210862407, 155.52991131071258, 121.22093504643429, 52.41121611022271, 45.96517920565774, 37.26795387563166, 48.48130806274749, 40.96270891425084, 38.90749083737227, 343.8698887862083, 205.69001273521909, 189.1971011892925, 176.5670786568942, 168.19811594210785, 129.24705496656563, 102.3416835135371, 101.2985512113692, 99.02655827352832, 80.37959474218466, 77.45814146376321, 73.00488654937936, 70.33974332973546, 67.50912948068589, 65.6864268006441, 144.9615479622609, 60.399372636550616, 125.27773294674651, 57.341518172545925, 42.95267549052441, 41.74681008653186, 36.88716662017496, 37.103937483419344, 34.040316133482214, 35.546015702217076, 31.70095160884358, 29.92096210678501, 28.79543538957531, 28.696905057244727, 28.147121711490932, 58.99216982669488, 63.66273794469293, 99.33246923298582, 87.05546379502377, 59.3581359431039, 127.31257335373049, 68.39333539391063, 69.16906806802473, 109.22649306770964, 68.76344395771582, 50.33584419309893], \"Total\": [344.0, 328.0, 151.0, 143.0, 125.0, 122.0, 184.0, 109.0, 206.0, 189.0, 177.0, 168.0, 164.0, 134.0, 132.0, 127.0, 63.0, 146.0, 70.0, 59.0, 130.0, 105.0, 126.0, 100.0, 140.0, 56.0, 146.0, 55.0, 103.0, 101.0, 143.1254101547523, 125.83833291420429, 122.17342693787866, 109.89730453240557, 70.51765164774092, 56.82609651865241, 41.93587531345562, 37.37951459217504, 35.16309747806118, 31.055409694397074, 29.219036860836052, 28.445813400020704, 55.586438307367466, 26.4444479016813, 25.067877022793336, 24.006342690252303, 23.66008536591862, 23.259336067913672, 21.890378694287914, 22.086485730797854, 19.97064582370709, 19.316154205201578, 19.223184186062948, 19.3253224125554, 18.559709235900577, 16.912476570437715, 16.22232600069655, 16.53314473198026, 16.22026788103774, 15.691403586153935, 16.31445045635458, 22.553393155755252, 31.63278111181805, 62.2028027510291, 36.73054877587108, 23.934335680566708, 140.27593644411732, 63.95841426402491, 40.43431608240492, 35.478610032461475, 38.78795289755079, 28.50787310330743, 26.171655731256944, 25.20913044007191, 59.35835069891179, 25.526806818732055, 23.407450980606644, 21.05345439941733, 21.872077927669878, 20.94701545692084, 19.601464466661557, 20.069240870077113, 18.199496102432107, 17.62949436148341, 17.572888262613947, 16.97682326714721, 17.065268339247645, 16.97641066703849, 15.994315844476363, 15.989191151028523, 14.739286779021764, 13.844977226247513, 12.385515355623971, 12.593728015605942, 12.41693983064537, 11.26461477044974, 11.32527865575374, 151.75272840481978, 20.926469374632443, 29.926521030945572, 146.4488410700255, 15.628696245648197, 184.63472091125962, 134.32002464885218, 132.5236516282422, 127.22646045562466, 105.76448564192992, 100.61025208945546, 85.83490107898665, 73.80265975246294, 55.34111729716196, 54.210414815163254, 48.05096191902098, 48.349591314126755, 47.15430880414879, 51.217466456978805, 46.85372030775503, 44.18559806023978, 46.67526219069197, 43.052899244191984, 40.27135236094774, 37.74976108340219, 36.855997545652386, 35.72581701611005, 38.10943589654008, 31.5049515538254, 29.762000573841856, 29.32051507126474, 28.919346282311555, 28.06547853978165, 27.36548804758323, 26.027174891428473, 328.18578009648473, 164.72721452334054, 140.27593644411732, 62.63715330147604, 57.06275971790644, 43.586481502521, 65.38911037416258, 64.23332602484166, 90.15755160545352, 344.5992814513382, 206.39075890767452, 189.89625684476886, 177.26455473275723, 168.89791952103022, 130.1306265374331, 103.047573656334, 101.99862647088098, 99.7306825781848, 81.08930791874378, 78.16330402598938, 73.71321871070496, 71.05224778058516, 68.22263004835567, 66.38151991900358, 146.51725998949533, 61.10127520766729, 126.77285870552434, 58.054023710870446, 43.65913109639743, 42.45992510652765, 37.58203066656279, 37.805169707038395, 34.74616807493161, 36.31397451002213, 32.405189597096005, 30.63436826399365, 29.50167457340631, 29.40129430969228, 28.84483197681416, 60.52353013711118, 66.11776261285708, 105.36844950586635, 94.32375432904375, 63.740871947956755, 146.4488410700255, 76.17194930108649, 78.75945871191806, 136.52039861890938, 82.63757578732533, 90.15755160545352], \"Category\": [\"Default\", \"Default\", \"Default\", \"Default\", \"Default\", \"Default\", \"Default\", \"Default\", \"Default\", \"Default\", \"Default\", \"Default\", \"Default\", \"Default\", \"Default\", \"Default\", \"Default\", \"Default\", \"Default\", \"Default\", \"Default\", \"Default\", \"Default\", \"Default\", \"Default\", \"Default\", \"Default\", \"Default\", \"Default\", \"Default\", \"Topic1\", \"Topic1\", \"Topic1\", \"Topic1\", \"Topic1\", \"Topic1\", \"Topic1\", \"Topic1\", \"Topic1\", \"Topic1\", \"Topic1\", \"Topic1\", \"Topic1\", \"Topic1\", \"Topic1\", \"Topic1\", \"Topic1\", \"Topic1\", \"Topic1\", \"Topic1\", \"Topic1\", \"Topic1\", \"Topic1\", \"Topic1\", \"Topic1\", \"Topic1\", \"Topic1\", \"Topic1\", \"Topic1\", \"Topic1\", \"Topic1\", \"Topic1\", \"Topic1\", \"Topic1\", \"Topic1\", \"Topic1\", \"Topic1\", \"Topic2\", \"Topic2\", \"Topic2\", \"Topic2\", \"Topic2\", \"Topic2\", \"Topic2\", \"Topic2\", \"Topic2\", \"Topic2\", \"Topic2\", \"Topic2\", \"Topic2\", \"Topic2\", \"Topic2\", \"Topic2\", \"Topic2\", \"Topic2\", \"Topic2\", \"Topic2\", \"Topic2\", \"Topic2\", \"Topic2\", \"Topic2\", \"Topic2\", \"Topic2\", \"Topic2\", \"Topic2\", \"Topic2\", \"Topic2\", \"Topic2\", \"Topic2\", \"Topic2\", \"Topic2\", \"Topic2\", \"Topic3\", \"Topic3\", \"Topic3\", \"Topic3\", \"Topic3\", \"Topic3\", \"Topic3\", \"Topic3\", \"Topic3\", \"Topic3\", \"Topic3\", \"Topic3\", \"Topic3\", \"Topic3\", \"Topic3\", \"Topic3\", \"Topic3\", \"Topic3\", \"Topic3\", \"Topic3\", \"Topic3\", \"Topic3\", \"Topic3\", \"Topic3\", \"Topic3\", \"Topic3\", \"Topic3\", \"Topic3\", \"Topic3\", \"Topic3\", \"Topic3\", \"Topic3\", \"Topic3\", \"Topic3\", \"Topic3\", \"Topic3\", \"Topic3\", \"Topic3\", \"Topic3\", \"Topic4\", \"Topic4\", \"Topic4\", \"Topic4\", \"Topic4\", \"Topic4\", \"Topic4\", \"Topic4\", \"Topic4\", \"Topic4\", \"Topic4\", \"Topic4\", \"Topic4\", \"Topic4\", \"Topic4\", \"Topic4\", \"Topic4\", \"Topic4\", \"Topic4\", \"Topic4\", \"Topic4\", \"Topic4\", \"Topic4\", \"Topic4\", \"Topic4\", \"Topic4\", \"Topic4\", \"Topic4\", \"Topic4\", \"Topic4\", \"Topic4\", \"Topic4\", \"Topic4\", \"Topic4\", \"Topic4\", \"Topic4\", \"Topic4\", \"Topic4\", \"Topic4\", \"Topic4\", \"Topic4\"], \"logprob\": [30.0, 29.0, 28.0, 27.0, 26.0, 25.0, 24.0, 23.0, 22.0, 21.0, 20.0, 19.0, 18.0, 17.0, 16.0, 15.0, 14.0, 13.0, 12.0, 11.0, 10.0, 9.0, 8.0, 7.0, 6.0, 5.0, 4.0, 3.0, 2.0, 1.0, -2.8512, -2.9807, -3.0104, -3.1171, -3.5645, -3.7833, -4.0915, -4.2087, -4.2715, -4.3982, -4.4606, -4.4881, -3.8183, -4.5632, -4.6181, -4.6627, -4.6776, -4.6956, -4.7577, -4.7493, -4.853, -4.8876, -4.8927, -4.8881, -4.93, -5.0261, -5.0698, -5.0511, -5.0709, -5.1048, -5.068, -4.7683, -4.5961, -4.1201, -4.5605, -4.9132, -4.8888, -3.3776, -3.8429, -3.976, -3.8915, -4.2002, -4.2884, -4.3268, -3.4705, -4.3149, -4.4031, -4.5127, -4.4746, -4.5181, -4.5868, -4.5636, -4.6636, -4.697, -4.7002, -4.7361, -4.731, -4.7366, -4.7987, -4.7995, -4.8851, -4.9503, -5.0683, -5.0516, -5.0673, -5.1686, -5.1645, -2.6195, -4.5643, -4.4104, -4.5981, -5.045, -3.2433, -3.5628, -3.5765, -3.6174, -3.8033, -3.8535, -4.0137, -4.1662, -4.4574, -4.4786, -4.6003, -4.5941, -4.6195, -4.5368, -4.626, -4.6854, -4.6309, -4.7118, -4.7801, -4.8463, -4.8704, -4.9025, -4.838, -5.0302, -5.0886, -5.1036, -5.1189, -5.1492, -5.1747, -5.2265, -2.7012, -3.411, -3.6602, -4.4987, -4.63, -4.8397, -4.5767, -4.7452, -4.7966, -2.7806, -3.2945, -3.378, -3.4471, -3.4957, -3.7591, -3.9925, -4.0028, -4.0255, -4.2341, -4.2711, -4.3303, -4.3675, -4.4086, -4.4359, -3.6444, -4.5199, -3.7903, -4.5718, -4.8607, -4.8892, -5.013, -5.0071, -5.0933, -5.05, -5.1645, -5.2223, -5.2606, -5.264, -5.2834, -4.5434, -4.4672, -4.0224, -4.1543, -4.5372, -3.7742, -4.3956, -4.3843, -3.9274, -4.3902, -4.7021], \"loglift\": [30.0, 29.0, 28.0, 27.0, 26.0, 25.0, 24.0, 23.0, 22.0, 21.0, 20.0, 19.0, 18.0, 17.0, 16.0, 15.0, 14.0, 13.0, 12.0, 11.0, 10.0, 9.0, 8.0, 7.0, 6.0, 5.0, 4.0, 3.0, 2.0, 1.0, 1.7721, 1.7713, 1.7712, 1.7704, 1.7667, 1.7638, 1.7595, 1.7573, 1.7555, 1.7531, 1.7517, 1.751, 1.7508, 1.7488, 1.7474, 1.7461, 1.7457, 1.7447, 1.7433, 1.7428, 1.7398, 1.7386, 1.7382, 1.7376, 1.7361, 1.7329, 1.7309, 1.7306, 1.7299, 1.7292, 1.727, 1.7029, 1.5367, 1.3366, 1.423, 1.4986, -0.2454, 2.0512, 2.0445, 2.0421, 2.0375, 2.0366, 2.034, 2.0331, 2.033, 2.0325, 2.0309, 2.0273, 2.0273, 2.0269, 2.0246, 2.0242, 2.022, 2.0205, 2.0205, 2.0191, 2.019, 2.0186, 2.0162, 2.0156, 2.0115, 2.0089, 2.0022, 2.0022, 2.0007, 1.9968, 1.9955, 1.9453, 1.9818, 1.778, 0.0022, 1.793, 1.1254, 1.124, 1.1238, 1.1237, 1.1225, 1.1223, 1.1209, 1.1195, 1.1162, 1.1156, 1.1145, 1.1145, 1.1142, 1.1141, 1.1141, 1.1133, 1.1129, 1.1128, 1.1114, 1.1098, 1.1097, 1.1087, 1.1086, 1.1067, 1.1052, 1.1051, 1.1036, 1.1033, 1.1031, 1.1014, 1.0922, 1.0718, 0.9832, 0.951, 0.913, 0.9726, 0.8301, 0.6794, 0.2889, 0.9641, 0.9628, 0.9625, 0.9623, 0.9621, 0.9594, 0.9594, 0.9593, 0.9591, 0.9574, 0.9572, 0.9566, 0.9561, 0.9557, 0.9557, 0.9555, 0.9547, 0.9544, 0.9539, 0.9499, 0.9493, 0.9476, 0.9475, 0.9457, 0.9449, 0.9443, 0.9427, 0.942, 0.942, 0.9417, 0.9406, 0.9284, 0.9072, 0.886, 0.895, 0.8262, 0.8585, 0.8364, 0.7432, 0.7824, 0.3834]}, \"token.table\": {\"Topic\": [2, 1, 2, 4, 1, 4, 2, 3, 4, 1, 1, 3, 4, 2, 3, 2, 3, 1, 1, 1, 2, 1, 3, 2, 2, 4, 1, 2, 3, 4, 3, 1, 3, 2, 2, 3, 4, 4, 4, 4, 4, 2, 1, 4, 3, 1, 1, 4, 1, 3, 3, 4, 2, 2, 4, 1, 2, 2, 1, 4, 3, 4, 2, 3, 3, 2, 3, 2, 1, 1, 3, 4, 3, 1, 1, 1, 1, 1, 2, 4, 2, 4, 3, 4, 3, 1, 2, 3, 3, 1, 3, 4, 3, 2, 3, 3, 4, 1, 4, 1, 3, 4, 4, 3, 1, 3, 4, 1, 3, 3, 4, 3, 2, 4, 2, 1, 3, 4, 3, 2, 4, 4, 4, 1, 1, 2, 3, 2, 2, 4, 2, 3, 4, 1, 2, 2, 4, 3, 1, 2, 3, 1, 2, 3, 4, 4, 2, 3, 4, 4, 1, 3, 4, 3, 3, 2, 4, 4, 2, 2, 3, 3, 3, 4, 3, 2, 4, 2, 3, 1, 3, 4, 1, 3, 4, 1, 1, 4, 1, 2, 1, 4, 4, 2, 1, 3], \"Freq\": [0.969315330102782, 0.9677529749709991, 0.9793626040862473, 0.9819762320193098, 0.15731342402222181, 0.834971250579485, 0.9821848125439949, 0.11427198900540564, 0.8760852490414432, 0.9933380163675892, 0.033517600905091205, 0.9628692623644383, 0.003047054627735564, 0.13765736056609582, 0.8488870568242576, 0.9825931075987633, 0.9801386535468208, 0.9721013108908962, 0.990395399660228, 0.1054346776376762, 0.8896050925678929, 0.9888502377214702, 0.9890685729604096, 0.9796856281734697, 0.9378331743511399, 0.9903244123214309, 0.7078576516417266, 0.27225294293912566, 0.9470202021651744, 0.05463578089414468, 0.960534522255554, 0.958080133103285, 0.9755440571325977, 0.9467224058448901, 0.9673993111404027, 0.9620359746130329, 0.9898340774152754, 0.9902094125633538, 0.985117005473533, 0.9787021268975155, 0.9946836555265063, 0.9765092037462392, 0.9582793619569988, 0.9874961510136538, 0.9891242435549735, 0.9831660033602314, 0.9836326526573058, 0.9982609323826381, 0.1596496563608096, 0.8301782130762099, 0.00788812376884914, 0.9860154711061423, 0.9552318835579963, 0.03024905745390552, 0.9679698385249766, 0.9574005799604668, 0.9664216919521225, 0.9520360115972147, 0.950807668361525, 0.9865665653499555, 0.8061299563393721, 0.19277020695071942, 0.9340917959661635, 0.986644197722777, 0.9767745386733302, 0.9865098990060894, 0.9743968631426079, 0.9528552613753287, 0.9843276269252199, 0.9926592613956182, 0.09189734625709722, 0.8927170779260873, 0.9927695083944875, 0.9831931487723348, 0.9363693249659558, 0.991835063323678, 0.9854627262954573, 0.6430578403372383, 0.06430578403372383, 0.2893760281517573, 0.1297381383230955, 0.8671970298438489, 0.9817790283856344, 0.991311603059808, 0.9960486175727247, 0.19195459127535022, 0.7678183651014009, 0.06398486375845007, 0.9982200207817331, 0.9921368948145862, 0.73406718221642, 0.24468906073880664, 0.992771811470647, 0.7685490731186833, 0.23390623964481663, 0.9939344939826523, 0.9829950475469439, 0.9698427799279358, 0.9891680188937276, 0.13544732248192234, 0.8625855800164527, 0.9942526185078453, 0.9863511345634879, 0.9776719137957106, 0.7520576397119288, 0.20890489991998024, 0.9845130596660221, 0.7903193813919815, 0.18967665153407556, 0.6382979449661943, 0.35806957888347485, 0.9781281814754897, 0.977116097686038, 0.01684682927044893, 0.9892587256448264, 0.9776831816085801, 0.9839723113694461, 0.9967367126099086, 0.9708881574749102, 0.006825134459050734, 0.9896444965623564, 0.9792922687836438, 0.9985075711658427, 0.9593255691588264, 0.9669227809413873, 0.9642931130878764, 0.9731677715751766, 0.9381337591323441, 0.05694304156640316, 0.9395601858456522, 0.011091694286200106, 0.43257607716180413, 0.5545847143100053, 0.9513963728426429, 0.9499628716774153, 0.9424842691315016, 0.9785251693561584, 0.9682099908712711, 0.9559374289012598, 0.9079410224369834, 0.047786369601946495, 0.9660152706152356, 0.9850150402405459, 0.1977726425731388, 0.7984154829804493, 0.970711149314607, 0.9498424319910796, 0.016522499559007555, 0.9748274739814458, 0.981844088600648, 0.9247689440157588, 0.9796836832091831, 0.9981067034699489, 0.9932619009534213, 0.9902731747984616, 0.9601282543636774, 0.9849027894086555, 0.9952802816671552, 0.9547899576019099, 0.9389686806674126, 0.9965622884573011, 0.9976174464701834, 0.07421248284478633, 0.9223551439280587, 0.9938360966705772, 0.9375768187132644, 0.9851905067967085, 0.9424613632494181, 0.9762294673829397, 0.9246516189698033, 0.9755206081178476, 0.9913538929776063, 0.9714599755682278, 0.017989999547559775, 0.017989999547559775, 0.9460471346915161, 0.9311237495383771, 0.044339226168494145, 0.9898469898200741, 0.9688736928133622, 0.06275408349082401, 0.9256227314896541, 0.9926734425224457, 0.9712785295937523, 0.980725648271401, 0.9855327606316772], \"Term\": [\"abre\", \"acab\", \"acced\", \"activ\", \"actualiz\", \"actualiz\", \"adquir\", \"aparec\", \"aparec\", \"aplic\", \"app\", \"app\", \"app\", \"asesor\", \"asesor\", \"asi\", \"atencion\", \"avec\", \"bien\", \"buen\", \"buen\", \"cad\", \"cae\", \"cambi\", \"cancel\", \"carg\", \"celul\", \"celul\", \"clar\", \"clar\", \"clar_hog\", \"client\", \"cobertur\", \"coloc\", \"com\", \"complic\", \"compr\", \"compr_paquet\", \"consult\", \"consult_sald\", \"consum\", \"cont\", \"cos\", \"cuant\", \"cuent\", \"da\", \"dar\", \"dat\", \"deb\", \"deb\", \"dej\", \"dej\", \"demasi\", \"demor\", \"demor\", \"demor_carg\", \"descarg\", \"detall\", \"dia\", \"dias\", \"dic\", \"dic\", \"eleg\", \"encuentr\", \"entrar\", \"equip\", \"error\", \"estan\", \"excelent\", \"facil\", \"factur\", \"factur\", \"fall\", \"falt\", \"form\", \"funcion\", \"graci\", \"gust\", \"gust\", \"gust\", \"hac\", \"hac\", \"hog\", \"inform\", \"ingres\", \"inici\", \"inici\", \"inici\", \"internet\", \"lent\", \"line\", \"line\", \"llam\", \"lleg\", \"lleg\", \"mal\", \"mal_se\\u00f1al\", \"manej\", \"mas\", \"mejor\", \"mejor\", \"minut\", \"mir\", \"moment\", \"much\", \"much\", \"muestr\", \"naveg\", \"naveg\", \"necesit\", \"necesit\", \"ningun\", \"numer\", \"numer\", \"nunc\", \"ocasion\", \"ok\", \"opcion\", \"oper\", \"pag\", \"pag\", \"pag_factur\", \"paquet\", \"parec\", \"pas\", \"ped\", \"pesim\", \"pid\", \"plan\", \"plan\", \"pod\", \"pod\", \"pod\", \"pon\", \"posibl\", \"pospag\", \"prepag\", \"problem\", \"proces\", \"product\", \"product\", \"promocion\", \"pud\", \"pued\", \"pued\", \"pued_ver\", \"pues\", \"qued\", \"qued\", \"quier\", \"quis\", \"rap\", \"recarg\", \"red\", \"registr\", \"revis\", \"sab\", \"sald\", \"segu\", \"segund\", \"servici\", \"se\\u00f1al\", \"si\", \"si\", \"siempr\", \"sig\", \"sol\", \"solicit\", \"solucion\", \"tan\", \"telefon\", \"ten\", \"tiemp\", \"tiemp\", \"tiemp\", \"usar\", \"uso\", \"uso\", \"usuari\", \"util\", \"vec\", \"vec\", \"ver\", \"verific\", \"voy\", \"wifi\"]}, \"R\": 30, \"lambda.step\": 0.01, \"plot.opts\": {\"xlab\": \"PC1\", \"ylab\": \"PC2\"}, \"topic.order\": [1, 2, 3, 4]};\n",
       "\n",
       "function LDAvis_load_lib(url, callback){\n",
       "  var s = document.createElement('script');\n",
       "  s.src = url;\n",
       "  s.async = true;\n",
       "  s.onreadystatechange = s.onload = callback;\n",
       "  s.onerror = function(){console.warn(\"failed to load library \" + url);};\n",
       "  document.getElementsByTagName(\"head\")[0].appendChild(s);\n",
       "}\n",
       "\n",
       "if(typeof(LDAvis) !== \"undefined\"){\n",
       "   // already loaded: just create the visualization\n",
       "   !function(LDAvis){\n",
       "       new LDAvis(\"#\" + \"ldavis_el2460020241436294409101878741\", ldavis_el2460020241436294409101878741_data);\n",
       "   }(LDAvis);\n",
       "}else if(typeof define === \"function\" && define.amd){\n",
       "   // require.js is available: use it to load d3/LDAvis\n",
       "   require.config({paths: {d3: \"https://d3js.org/d3.v5\"}});\n",
       "   require([\"d3\"], function(d3){\n",
       "      window.d3 = d3;\n",
       "      LDAvis_load_lib(\"https://cdn.jsdelivr.net/gh/bmabey/pyLDAvis@3.3.1/pyLDAvis/js/ldavis.v3.0.0.js\", function(){\n",
       "        new LDAvis(\"#\" + \"ldavis_el2460020241436294409101878741\", ldavis_el2460020241436294409101878741_data);\n",
       "      });\n",
       "    });\n",
       "}else{\n",
       "    // require.js not available: dynamically load d3 & LDAvis\n",
       "    LDAvis_load_lib(\"https://d3js.org/d3.v5.js\", function(){\n",
       "         LDAvis_load_lib(\"https://cdn.jsdelivr.net/gh/bmabey/pyLDAvis@3.3.1/pyLDAvis/js/ldavis.v3.0.0.js\", function(){\n",
       "                 new LDAvis(\"#\" + \"ldavis_el2460020241436294409101878741\", ldavis_el2460020241436294409101878741_data);\n",
       "            })\n",
       "         });\n",
       "}\n",
       "</script>"
      ],
      "text/plain": [
       "<IPython.core.display.HTML object>"
      ]
     },
     "execution_count": 62,
     "metadata": {},
     "output_type": "execute_result"
    }
   ],
   "source": [
    "pyLDAvis.display(modelosAccion['Pre_Consulta_Saldosdis'])"
   ]
  },
  {
   "cell_type": "code",
   "execution_count": 63,
   "metadata": {},
   "outputs": [
    {
     "data": {
      "text/html": [
       "\n",
       "<link rel=\"stylesheet\" type=\"text/css\" href=\"https://cdn.jsdelivr.net/gh/bmabey/pyLDAvis@3.3.1/pyLDAvis/js/ldavis.v1.0.0.css\">\n",
       "\n",
       "\n",
       "<div id=\"ldavis_el2460020241479388803167048829\"></div>\n",
       "<script type=\"text/javascript\">\n",
       "\n",
       "var ldavis_el2460020241479388803167048829_data = {\"mdsDat\": {\"x\": [-0.2108575542494038, 0.34077345284979266, -0.12024910669821866, -0.009666791902170119], \"y\": [-0.07884129488897226, -0.09298282751392328, -0.15122476536502127, 0.3230488877679169], \"topics\": [1, 2, 3, 4], \"cluster\": [1, 1, 1, 1], \"Freq\": [23.734242953083623, 26.639291405519174, 30.342360955888196, 19.284104685509003]}, \"tinfo\": {\"Term\": [\"equip\", \"registr\", \"pag\", \"app\", \"servici\", \"se\\u00f1al\", \"pued\", \"lent\", \"mal\", \"dat\", \"buen\", \"pud\", \"graci\", \"internet\", \"hac\", \"solucion\", \"consult\", \"funcion\", \"inform\", \"mejor\", \"aplic\", \"dej\", \"si\", \"factur\", \"asesor\", \"pesim\", \"line\", \"ingres\", \"bien\", \"ver\", \"registr\", \"equip\", \"pud\", \"ningun\", \"imei\", \"nuev\", \"cambi\", \"registr_imei\", \"sal\", \"respuest\", \"solicit\", \"cup\", \"ahor\", \"sim\", \"gestion\", \"averigu\", \"nombr\", \"proces\", \"wifi\", \"pregunt\", \"quej\", \"soport\", \"complic\", \"conect\", \"preci\", \"aplicacion\", \"duplic\", \"simcard\", \"coloc\", \"corre\", \"intent\", \"problem\", \"dos\", \"permit\", \"tard\", \"dic\", \"numer\", \"realiz\", \"necesit\", \"celul\", \"compr\", \"aparec\", \"opcion\", \"clar\", \"dej\", \"servici\", \"se\\u00f1al\", \"mal\", \"lent\", \"dat\", \"buen\", \"internet\", \"funcion\", \"mejor\", \"pesim\", \"bien\", \"facil\", \"demor\", \"much\", \"sirv\", \"excelent\", \"respond\", \"cobertur\", \"movil\", \"cae\", \"mas\", \"naveg\", \"atencion_client\", \"entrar\", \"demasi\", \"experient\", \"sid\", \"usar\", \"manej\", \"medi\", \"app\", \"aplic\", \"carg\", \"vec\", \"clar\", \"siempr\", \"nunc\", \"llam\", \"red\", \"pag\", \"hac\", \"consult\", \"pued\", \"si\", \"factur\", \"ver\", \"pag_factur\", \"equip_financi\", \"pod\", \"sald\", \"deb\", \"cobr\", \"quier\", \"sac\", \"sab\", \"gust\", \"mir\", \"cuot\", \"oper\", \"valor\", \"bloqu\", \"financi\", \"celular\", \"cancel\", \"lleg\", \"voy\", \"mes\", \"adquir\", \"acced\", \"ingres\", \"toc\", \"dej\", \"plan\", \"tiend\", \"compr\", \"celul\", \"llam\", \"qued\", \"aparec\", \"dic\", \"graci\", \"solucion\", \"asesor\", \"rap\", \"fall\", \"telefon\", \"report\", \"chat\", \"actualiz\", \"pas\", \"contest\", \"hog\", \"inform\", \"avec\", \"cambi_numer\", \"da\", \"dan_solucion\", \"part\", \"atiend\", \"tod\", \"hor\", \"dificil\", \"encontr\", \"ser\", \"dan\", \"veloc\", \"comunic\", \"contact\", \"ok\", \"logr\", \"line\", \"busc\", \"encuentr\", \"opcion\", \"sol\", \"necesit\", \"llam\"], \"Freq\": [413.0, 312.0, 214.0, 222.0, 191.0, 169.0, 183.0, 149.0, 149.0, 146.0, 143.0, 131.0, 110.0, 132.0, 123.0, 86.0, 110.0, 95.0, 78.0, 93.0, 107.0, 149.0, 91.0, 86.0, 59.0, 73.0, 65.0, 97.0, 70.0, 76.0, 311.3822154393926, 411.73957490034246, 130.57408301829005, 61.9308129890679, 58.86935195736624, 57.961343278452276, 57.633962121250875, 45.98044536332865, 42.81603364602015, 41.06516699598313, 37.270327542919304, 33.86889353526277, 33.31567804741396, 28.031917330640823, 24.095945597446647, 23.008846803072817, 21.599977689917317, 21.904711658009653, 19.038449871139534, 18.590894700781217, 18.0991057094805, 16.060576691776525, 15.260473585279273, 15.40355532907253, 15.033289036481689, 15.055114753481226, 14.680808534620406, 14.143948924295579, 14.83719935266575, 14.154887070649464, 23.721438608350102, 42.1301442820941, 21.455945735848115, 40.31551545734683, 19.666712047024042, 50.176586202673406, 31.9926634978844, 41.85959796017188, 40.66990710794053, 53.83356240547556, 43.58825727650177, 27.49806774125463, 24.245148534533644, 28.602288711762075, 27.172446005660944, 191.0287760019335, 169.15859722867737, 148.40691068226175, 148.56018610363003, 145.43895742297664, 142.8099633039072, 131.3406048993683, 95.20648853268753, 93.08426798424095, 73.16484165472244, 69.7858259538876, 55.86966861264637, 53.26083850966239, 53.432385742910874, 46.56956407235412, 45.08505418516282, 36.38630934315724, 29.968740523953556, 44.91752186520076, 24.517477387732935, 35.45980359535327, 23.69869310514854, 22.807499328185926, 22.05565262945527, 19.952323159719707, 18.165425279043415, 18.601851857871797, 16.203923395234334, 15.631609031498337, 16.61694168785806, 210.83577787868956, 95.98668905134113, 55.0144507981826, 45.451532855265455, 94.23715016241914, 34.33046731823103, 38.58314122360269, 36.00283523892011, 25.631897935160843, 213.7708993335266, 122.8054601383462, 109.78056557988519, 182.23275241174005, 90.44653689091949, 85.61524373319179, 76.0043360432355, 70.79848649032223, 61.10184353745306, 63.61844917814275, 43.209012901409764, 41.062018370390035, 40.806011676237574, 61.55290295095977, 38.06300835673295, 42.088694127196824, 38.02729806600097, 33.978261299984375, 31.364146933361475, 30.809945792393265, 29.487275888150297, 30.323546396776774, 27.319900667775027, 23.923782659770453, 23.681022825907633, 22.21304499389355, 21.308363396097867, 20.464508418283224, 20.421760304424424, 19.97205672989426, 91.48194331026889, 28.130686497835118, 122.30742051244118, 75.87138545133878, 28.03795063858813, 76.68781212014667, 85.11323063699135, 57.61391250279969, 31.632806818425113, 33.81767275345881, 33.4860290537419, 109.30131391913605, 86.02229945233579, 58.65904104361788, 44.04338671664341, 42.80591967208217, 42.324530845851825, 36.35106264322082, 34.52731545155542, 30.50095014052574, 30.220423075843367, 29.77374897577254, 28.4603324162561, 76.74171003691853, 26.467058615100914, 24.340322767876266, 29.281309913515962, 22.87372209352954, 22.074723035064263, 21.243180944335098, 20.615521560905492, 20.399076899466568, 20.109739780706477, 19.86663583336652, 20.046403274620985, 23.338108449317883, 18.851543270388103, 18.070557815073105, 17.95500726269324, 16.248804248365783, 17.17425093104613, 60.886441876233704, 33.735760421821816, 25.42070561430384, 42.33224633632045, 35.3502056333472, 34.59700142276349, 20.238078920418943], \"Total\": [413.0, 312.0, 214.0, 222.0, 191.0, 169.0, 183.0, 149.0, 149.0, 146.0, 143.0, 131.0, 110.0, 132.0, 123.0, 86.0, 110.0, 95.0, 78.0, 93.0, 107.0, 149.0, 91.0, 86.0, 59.0, 73.0, 65.0, 97.0, 70.0, 76.0, 312.10915548735846, 413.58578012001914, 131.30962475825658, 62.669945960924125, 59.59478758518464, 58.69002410625959, 58.381187186654365, 46.70606968403325, 43.555762781676094, 41.81077306198874, 38.01423617962695, 34.61696864221898, 34.06085740497359, 28.767340155399786, 24.82782554076119, 23.74578819542306, 22.33305229849761, 22.657407986729027, 19.781860465091945, 19.34997076674512, 18.847786852162983, 16.79240857010936, 15.990477599029761, 16.147202555309654, 15.770290216881099, 15.798097070544994, 15.410788647184404, 14.868890582286912, 15.597999075159562, 14.88984982108104, 25.560190096657724, 49.73012775597109, 25.020441126959824, 57.860519529211096, 22.879055267702064, 84.15671706119115, 45.7671774742693, 67.38970795237057, 81.39099124814643, 139.43820864981348, 120.7595193336509, 61.805847826166186, 67.07207144673922, 164.67866949533317, 149.9658519642614, 191.77054348879994, 169.89120172966943, 149.1386851394443, 149.294353247949, 146.18110108049757, 143.55157145296303, 132.07748130351732, 95.95183631725266, 93.82909068650964, 73.89725956476921, 70.53630194426677, 56.62934607607753, 54.00351892517608, 54.177907355114705, 47.31020060350951, 45.82220837794527, 37.141205228421605, 30.697171514693686, 46.04183377392258, 25.249835502687688, 36.5462402806046, 24.44503574584901, 23.55338620378218, 22.80391347455931, 20.691374361819378, 18.899720044579862, 19.40911571248088, 16.949502051700463, 16.37009988972337, 17.406962699225797, 222.57445373909644, 107.3627638333032, 61.53166479176296, 52.475709802996064, 164.67866949533317, 53.01768789975451, 66.65525705284715, 114.10473045606153, 40.77668543054558, 214.5014083834543, 123.54501573252635, 110.51397667920448, 183.54933601370038, 91.18042033212129, 86.3455565538591, 76.73236746952652, 71.53008761959549, 61.82362834965562, 64.38010528256986, 43.93121765755078, 41.79718151299983, 41.53715884821447, 62.68671471477858, 38.794262037469004, 42.924953448850594, 38.824171774622734, 34.70373603697282, 32.08879539308763, 31.546915156876413, 30.21617901260009, 31.090136655229834, 28.052575572462086, 24.65926289309695, 24.425559749255598, 22.946407222705968, 22.04310800730987, 21.191236231179015, 21.168014679490206, 20.72132299210292, 97.22772804310978, 29.34364856148147, 149.9658519642614, 95.58969013561727, 30.972133998254, 120.7595193336509, 139.43820864981348, 114.10473045606153, 39.175109701715044, 61.805847826166186, 84.15671706119115, 110.05250861072182, 86.75952441594211, 59.38221652738598, 44.78100819834388, 43.54249635249844, 43.0533128824121, 37.09023630606056, 35.25794380883272, 31.233808617640197, 30.95955298553206, 30.5099391864255, 29.198093478742706, 78.81182877298825, 27.21492245731507, 25.080707733684864, 30.18365307536786, 23.59990356521099, 22.808973280815774, 21.967131861360876, 21.35303473591916, 21.137449472473087, 20.839988496956877, 20.59355804189002, 20.78341697693448, 24.245458221311193, 19.613218540334753, 18.80618031896258, 18.700594373883064, 16.970177628833664, 17.93951201817336, 65.28275264056609, 35.868246284245004, 28.258185832733826, 67.07207144673922, 59.984501104893326, 81.39099124814643, 114.10473045606153], \"Category\": [\"Default\", \"Default\", \"Default\", \"Default\", \"Default\", \"Default\", \"Default\", \"Default\", \"Default\", \"Default\", \"Default\", \"Default\", \"Default\", \"Default\", \"Default\", \"Default\", \"Default\", \"Default\", \"Default\", \"Default\", \"Default\", \"Default\", \"Default\", \"Default\", \"Default\", \"Default\", \"Default\", \"Default\", \"Default\", \"Default\", \"Topic1\", \"Topic1\", \"Topic1\", \"Topic1\", \"Topic1\", \"Topic1\", \"Topic1\", \"Topic1\", \"Topic1\", \"Topic1\", \"Topic1\", \"Topic1\", \"Topic1\", \"Topic1\", \"Topic1\", \"Topic1\", \"Topic1\", \"Topic1\", \"Topic1\", \"Topic1\", \"Topic1\", \"Topic1\", \"Topic1\", \"Topic1\", \"Topic1\", \"Topic1\", \"Topic1\", \"Topic1\", \"Topic1\", \"Topic1\", \"Topic1\", \"Topic1\", \"Topic1\", \"Topic1\", \"Topic1\", \"Topic1\", \"Topic1\", \"Topic1\", \"Topic1\", \"Topic1\", \"Topic1\", \"Topic1\", \"Topic1\", \"Topic1\", \"Topic1\", \"Topic2\", \"Topic2\", \"Topic2\", \"Topic2\", \"Topic2\", \"Topic2\", \"Topic2\", \"Topic2\", \"Topic2\", \"Topic2\", \"Topic2\", \"Topic2\", \"Topic2\", \"Topic2\", \"Topic2\", \"Topic2\", \"Topic2\", \"Topic2\", \"Topic2\", \"Topic2\", \"Topic2\", \"Topic2\", \"Topic2\", \"Topic2\", \"Topic2\", \"Topic2\", \"Topic2\", \"Topic2\", \"Topic2\", \"Topic2\", \"Topic2\", \"Topic2\", \"Topic2\", \"Topic2\", \"Topic2\", \"Topic2\", \"Topic2\", \"Topic2\", \"Topic2\", \"Topic3\", \"Topic3\", \"Topic3\", \"Topic3\", \"Topic3\", \"Topic3\", \"Topic3\", \"Topic3\", \"Topic3\", \"Topic3\", \"Topic3\", \"Topic3\", \"Topic3\", \"Topic3\", \"Topic3\", \"Topic3\", \"Topic3\", \"Topic3\", \"Topic3\", \"Topic3\", \"Topic3\", \"Topic3\", \"Topic3\", \"Topic3\", \"Topic3\", \"Topic3\", \"Topic3\", \"Topic3\", \"Topic3\", \"Topic3\", \"Topic3\", \"Topic3\", \"Topic3\", \"Topic3\", \"Topic3\", \"Topic3\", \"Topic3\", \"Topic3\", \"Topic3\", \"Topic3\", \"Topic3\", \"Topic4\", \"Topic4\", \"Topic4\", \"Topic4\", \"Topic4\", \"Topic4\", \"Topic4\", \"Topic4\", \"Topic4\", \"Topic4\", \"Topic4\", \"Topic4\", \"Topic4\", \"Topic4\", \"Topic4\", \"Topic4\", \"Topic4\", \"Topic4\", \"Topic4\", \"Topic4\", \"Topic4\", \"Topic4\", \"Topic4\", \"Topic4\", \"Topic4\", \"Topic4\", \"Topic4\", \"Topic4\", \"Topic4\", \"Topic4\", \"Topic4\", \"Topic4\", \"Topic4\", \"Topic4\", \"Topic4\", \"Topic4\", \"Topic4\"], \"logprob\": [30.0, 29.0, 28.0, 27.0, 26.0, 25.0, 24.0, 23.0, 22.0, 21.0, 20.0, 19.0, 18.0, 17.0, 16.0, 15.0, 14.0, 13.0, 12.0, 11.0, 10.0, 9.0, 8.0, 7.0, 6.0, 5.0, 4.0, 3.0, 2.0, 1.0, -2.358, -2.0786, -3.2271, -3.973, -4.0237, -4.0392, -4.0449, -4.2708, -4.3421, -4.3839, -4.4808, -4.5765, -4.593, -4.7657, -4.917, -4.9631, -5.0263, -5.0123, -5.1526, -5.1763, -5.2032, -5.3226, -5.3737, -5.3644, -5.3887, -5.3873, -5.4125, -5.4497, -5.4019, -5.449, -4.9326, -4.3583, -5.033, -4.4023, -5.1201, -4.1835, -4.6335, -4.3647, -4.3935, -4.1131, -4.3242, -4.7849, -4.9108, -4.7455, -4.7968, -2.9621, -3.0836, -3.2145, -3.2135, -3.2347, -3.253, -3.3367, -3.6584, -3.681, -3.9218, -3.9691, -4.1915, -4.2393, -4.2361, -4.3735, -4.4059, -4.6203, -4.8143, -4.4097, -5.0151, -4.6461, -5.0491, -5.0874, -5.1209, -5.2211, -5.315, -5.2912, -5.4292, -5.4652, -5.4041, -2.8634, -3.6503, -4.2069, -4.3978, -3.6687, -4.6785, -4.5617, -4.6309, -4.9706, -2.9797, -3.534, -3.6462, -3.1394, -3.8399, -3.8948, -4.0139, -4.0848, -4.2321, -4.1917, -4.5786, -4.6296, -4.6358, -4.2247, -4.7054, -4.6049, -4.7063, -4.8189, -4.899, -4.9168, -4.9607, -4.9327, -5.037, -5.1698, -5.18, -5.244, -5.2855, -5.3259, -5.328, -5.3503, -3.8285, -5.0078, -3.5381, -4.0156, -5.0111, -4.0049, -3.9007, -4.2909, -4.8904, -4.8237, -4.8335, -3.1973, -3.4368, -3.8196, -4.1062, -4.1347, -4.146, -4.2982, -4.3496, -4.4736, -4.4829, -4.4978, -4.5429, -3.5509, -4.6155, -4.6992, -4.5144, -4.7614, -4.7969, -4.8353, -4.8653, -4.8759, -4.8902, -4.9023, -4.8933, -4.7413, -4.9548, -4.9971, -5.0035, -5.1034, -5.048, -3.7824, -4.3728, -4.6558, -4.1458, -4.3261, -4.3476, -4.8838], \"loglift\": [30.0, 29.0, 28.0, 27.0, 26.0, 25.0, 24.0, 23.0, 22.0, 21.0, 20.0, 19.0, 18.0, 17.0, 16.0, 15.0, 14.0, 13.0, 12.0, 11.0, 10.0, 9.0, 8.0, 7.0, 6.0, 5.0, 4.0, 3.0, 2.0, 1.0, 1.4359, 1.4338, 1.4326, 1.4264, 1.426, 1.4258, 1.4254, 1.4226, 1.4211, 1.4203, 1.4185, 1.4164, 1.4161, 1.4124, 1.4083, 1.4067, 1.4049, 1.4045, 1.3999, 1.3982, 1.3977, 1.3937, 1.3915, 1.3911, 1.3904, 1.3901, 1.3897, 1.3883, 1.3882, 1.3876, 1.3636, 1.2724, 1.2846, 1.077, 1.287, 0.9211, 1.0802, 0.9621, 0.7445, 0.4865, 0.4192, 0.6284, 0.4207, -0.3123, -0.27, 1.3189, 1.3185, 1.3179, 1.3179, 1.3177, 1.3176, 1.3172, 1.315, 1.3148, 1.3128, 1.3121, 1.3093, 1.3089, 1.3089, 1.307, 1.3066, 1.3022, 1.2988, 1.2981, 1.2933, 1.2926, 1.2918, 1.2906, 1.2894, 1.2864, 1.2832, 1.2803, 1.2778, 1.2766, 1.2763, 1.2686, 1.2108, 1.2108, 1.1791, 0.7646, 0.8882, 0.7761, 0.1693, 0.8585, 1.1892, 1.1866, 1.186, 1.1854, 1.1845, 1.1841, 1.1831, 1.1823, 1.1809, 1.1807, 1.176, 1.1749, 1.1749, 1.1744, 1.1736, 1.173, 1.1719, 1.1715, 1.1698, 1.169, 1.1682, 1.1677, 1.1662, 1.1623, 1.1617, 1.1601, 1.1587, 1.1577, 1.1567, 1.1558, 1.1317, 1.1504, 0.9888, 0.9616, 1.0931, 0.7386, 0.699, 0.5093, 0.9788, 0.5896, 0.2711, 1.639, 1.6374, 1.6336, 1.6293, 1.6288, 1.6288, 1.6258, 1.6249, 1.6221, 1.6217, 1.6215, 1.6203, 1.6193, 1.618, 1.6159, 1.6155, 1.6146, 1.6132, 1.6124, 1.6107, 1.6103, 1.6102, 1.61, 1.6098, 1.6077, 1.6063, 1.606, 1.6052, 1.6025, 1.6023, 1.5762, 1.5846, 1.5401, 1.1857, 1.1171, 0.7904, -0.0837]}, \"token.table\": {\"Topic\": [3, 4, 3, 1, 1, 3, 2, 3, 1, 2, 3, 4, 2, 4, 4, 1, 2, 3, 2, 1, 4, 2, 1, 4, 3, 2, 3, 1, 3, 3, 4, 1, 2, 3, 4, 2, 3, 1, 1, 1, 3, 4, 1, 3, 4, 4, 1, 3, 1, 4, 4, 4, 2, 3, 1, 3, 2, 2, 1, 3, 4, 1, 3, 1, 4, 1, 4, 2, 1, 3, 3, 2, 2, 2, 3, 4, 3, 2, 1, 4, 3, 3, 4, 4, 1, 3, 4, 1, 3, 1, 3, 2, 2, 1, 4, 2, 3, 4, 3, 4, 2, 2, 2, 3, 2, 2, 3, 3, 2, 4, 2, 2, 1, 3, 4, 1, 1, 1, 1, 3, 2, 3, 4, 4, 1, 4, 3, 3, 3, 4, 4, 1, 3, 2, 1, 3, 4, 3, 1, 1, 1, 4, 1, 1, 1, 3, 2, 3, 1, 3, 4, 4, 1, 3, 1, 2, 1, 1, 4, 2, 1, 3, 3, 1, 3, 4, 2, 2, 3, 2, 2, 3, 4, 1, 1, 2, 1, 3, 4, 1, 4, 1, 1, 4, 4, 1, 3, 1, 3, 4, 2, 3, 2, 3, 4, 3, 3, 1], \"Freq\": [0.9651893369753551, 0.9925142456847819, 0.9448217181830518, 0.968854060472985, 0.43685186676735877, 0.5501097581514888, 0.8941647604103635, 0.10245637879702081, 0.9494814427977519, 0.9479973844946998, 0.04942166459451042, 0.9935634513203173, 0.9765050256895411, 0.9559736852555606, 0.9553582245468235, 0.9685928220497305, 0.9923967952744316, 0.9649362539856686, 0.9961576773602666, 0.05575962605337894, 0.947913642907442, 0.990105460185628, 0.9934707188218759, 0.9569107959328671, 0.9825772775066672, 0.8938487230295559, 0.09751076978504246, 0.38726831420802416, 0.6095890131052233, 0.9732651013959747, 0.99268409382489, 0.17610052406223645, 0.5708085952362146, 0.1335935010127311, 0.121448637284301, 0.9772887376819075, 0.9870679925370592, 0.961661808525691, 0.9380582854454667, 0.36436050957134725, 0.6376308917498577, 0.957132160529712, 0.9289534796271927, 0.9953492155956307, 0.9625362509941662, 0.9832861290443876, 0.940237824304904, 0.9660692967825719, 0.9821772770286269, 0.9607849628932487, 0.9486312772502495, 0.9745802535356408, 0.9919202887940544, 0.9809273859111317, 0.1800409869737173, 0.8135185337330929, 0.9665863489911461, 0.9814175271325097, 0.5941296398675405, 0.3921255623125768, 0.9596934279939965, 0.8393137392518731, 0.11990196275026758, 0.9733440866272955, 0.9711774895487878, 0.07077595185474476, 0.8846993981843096, 0.9647466880868418, 0.9961657769772477, 0.0024178780994593392, 0.9866777739896236, 0.9820565527710138, 0.9523950596909563, 0.9888865734873215, 0.9959979810467311, 0.9875409910330667, 0.9624784694102972, 0.9900800614789119, 0.966657348248154, 0.990436305141896, 0.9787716843154539, 0.9955885251275025, 0.9589667222753786, 0.9461879507291375, 0.9900194696669662, 0.025376901299433804, 0.9770107000282015, 0.05142565912661305, 0.9359469961043575, 0.938960152848717, 0.03912333970202988, 0.9918420514013192, 0.9980283698509338, 0.06127192617050338, 0.9343968741001766, 0.3154996278954672, 0.5083049560538083, 0.17527757105303735, 0.9587557558130723, 0.9476288977525363, 0.9923649243763975, 0.9773917146372633, 0.9576908522263177, 0.02736259577789479, 0.9766206944739476, 0.9911638205119166, 0.943786373848906, 0.9797216058748525, 0.9773720182597796, 0.02171937818355066, 0.9782585298580473, 0.9817944326007139, 0.5037412540535157, 0.07371823230051448, 0.43002302175300117, 0.9893099323662757, 0.9850870228553571, 0.9882429064092684, 0.6991910309083551, 0.28404635630651925, 0.585100136499048, 0.12002054082031755, 0.30005135205079386, 0.9428304376033604, 0.35782404631796694, 0.6261920810564421, 0.9826634346288151, 0.9976624471268833, 0.9925893056022166, 0.9645326744498322, 0.969006239011898, 0.6913176778477741, 0.293810013085304, 0.9878580130027313, 0.020922758481197214, 0.7950648222854941, 0.17784344709017633, 0.994095920146425, 0.9511556092952207, 0.9819136281411557, 0.8445584577239914, 0.14075974295399857, 0.970984854617347, 0.9976420254126337, 0.005448126491317618, 0.9915590214198065, 0.17868488571695174, 0.8168451918489222, 0.9550192890649286, 0.9890452910492582, 0.015952343404020294, 0.9825593877903631, 0.6232405700538811, 0.37097652979397683, 0.36785726553349496, 0.6376192602580579, 0.9964462577663685, 0.984882699640329, 0.9706058409263244, 0.9692738773175751, 0.9806085130072413, 0.9784518473630316, 0.9795263011653147, 0.9872402009244594, 0.9788028261631686, 0.9623056700539705, 0.9959819507481088, 0.9947542796766632, 0.9870540152389993, 0.9789214656380352, 0.6412954119064371, 0.2829244464293105, 0.056584889285862104, 0.973325995686266, 0.9415631867436022, 0.9934432617162376, 0.1833807033047518, 0.21672264936016122, 0.5834840559696648, 0.973319569678201, 0.9912456364755897, 0.9528115001013104, 0.8741619689268213, 0.1311242953390232, 0.9755346845133863, 0.06457417497007945, 0.9040384495811121, 0.03407892504930931, 0.9542099013806608, 0.9834667652497516, 0.9439805341298977, 0.9597507344627213, 0.8575396153561081, 0.13339505127761683, 0.9687344257611945, 0.9904555601022297, 0.9526787235736469, 0.9604758881768651], \"Term\": [\"acced\", \"actualiz\", \"adquir\", \"ahor\", \"aparec\", \"aparec\", \"aplic\", \"aplic\", \"aplicacion\", \"app\", \"app\", \"asesor\", \"atencion_client\", \"atiend\", \"avec\", \"averigu\", \"bien\", \"bloqu\", \"buen\", \"busc\", \"busc\", \"cae\", \"cambi\", \"cambi_numer\", \"cancel\", \"carg\", \"carg\", \"celul\", \"celul\", \"celular\", \"chat\", \"clar\", \"clar\", \"clar\", \"clar\", \"cobertur\", \"cobr\", \"coloc\", \"complic\", \"compr\", \"compr\", \"comunic\", \"conect\", \"consult\", \"contact\", \"contest\", \"corre\", \"cuot\", \"cup\", \"da\", \"dan\", \"dan_solucion\", \"dat\", \"deb\", \"dej\", \"dej\", \"demasi\", \"demor\", \"dic\", \"dic\", \"dificil\", \"dos\", \"dos\", \"duplic\", \"encontr\", \"encuentr\", \"encuentr\", \"entrar\", \"equip\", \"equip\", \"equip_financi\", \"excelent\", \"experient\", \"facil\", \"factur\", \"fall\", \"financi\", \"funcion\", \"gestion\", \"graci\", \"gust\", \"hac\", \"hog\", \"hor\", \"imei\", \"inform\", \"inform\", \"ingres\", \"ingres\", \"intent\", \"intent\", \"internet\", \"lent\", \"line\", \"line\", \"llam\", \"llam\", \"llam\", \"lleg\", \"logr\", \"mal\", \"manej\", \"mas\", \"mas\", \"medi\", \"mejor\", \"mes\", \"mir\", \"movil\", \"movil\", \"much\", \"naveg\", \"necesit\", \"necesit\", \"necesit\", \"ningun\", \"nombr\", \"nuev\", \"numer\", \"numer\", \"nunc\", \"nunc\", \"nunc\", \"ok\", \"opcion\", \"opcion\", \"oper\", \"pag\", \"pag_factur\", \"part\", \"pas\", \"permit\", \"permit\", \"pesim\", \"plan\", \"plan\", \"plan\", \"pod\", \"preci\", \"pregunt\", \"problem\", \"problem\", \"proces\", \"pud\", \"pued\", \"pued\", \"qued\", \"qued\", \"quej\", \"quier\", \"quier\", \"rap\", \"realiz\", \"realiz\", \"red\", \"red\", \"registr\", \"registr_imei\", \"report\", \"respond\", \"respuest\", \"sab\", \"sac\", \"sal\", \"sald\", \"ser\", \"servici\", \"se\\u00f1al\", \"si\", \"sid\", \"siempr\", \"siempr\", \"siempr\", \"sim\", \"simcard\", \"sirv\", \"sol\", \"sol\", \"sol\", \"solicit\", \"solucion\", \"soport\", \"tard\", \"tard\", \"telefon\", \"tiend\", \"tiend\", \"toc\", \"toc\", \"tod\", \"usar\", \"valor\", \"vec\", \"vec\", \"veloc\", \"ver\", \"voy\", \"wifi\"]}, \"R\": 30, \"lambda.step\": 0.01, \"plot.opts\": {\"xlab\": \"PC1\", \"ylab\": \"PC2\"}, \"topic.order\": [1, 2, 3, 4]};\n",
       "\n",
       "function LDAvis_load_lib(url, callback){\n",
       "  var s = document.createElement('script');\n",
       "  s.src = url;\n",
       "  s.async = true;\n",
       "  s.onreadystatechange = s.onload = callback;\n",
       "  s.onerror = function(){console.warn(\"failed to load library \" + url);};\n",
       "  document.getElementsByTagName(\"head\")[0].appendChild(s);\n",
       "}\n",
       "\n",
       "if(typeof(LDAvis) !== \"undefined\"){\n",
       "   // already loaded: just create the visualization\n",
       "   !function(LDAvis){\n",
       "       new LDAvis(\"#\" + \"ldavis_el2460020241479388803167048829\", ldavis_el2460020241479388803167048829_data);\n",
       "   }(LDAvis);\n",
       "}else if(typeof define === \"function\" && define.amd){\n",
       "   // require.js is available: use it to load d3/LDAvis\n",
       "   require.config({paths: {d3: \"https://d3js.org/d3.v5\"}});\n",
       "   require([\"d3\"], function(d3){\n",
       "      window.d3 = d3;\n",
       "      LDAvis_load_lib(\"https://cdn.jsdelivr.net/gh/bmabey/pyLDAvis@3.3.1/pyLDAvis/js/ldavis.v3.0.0.js\", function(){\n",
       "        new LDAvis(\"#\" + \"ldavis_el2460020241479388803167048829\", ldavis_el2460020241479388803167048829_data);\n",
       "      });\n",
       "    });\n",
       "}else{\n",
       "    // require.js not available: dynamically load d3 & LDAvis\n",
       "    LDAvis_load_lib(\"https://d3js.org/d3.v5.js\", function(){\n",
       "         LDAvis_load_lib(\"https://cdn.jsdelivr.net/gh/bmabey/pyLDAvis@3.3.1/pyLDAvis/js/ldavis.v3.0.0.js\", function(){\n",
       "                 new LDAvis(\"#\" + \"ldavis_el2460020241479388803167048829\", ldavis_el2460020241479388803167048829_data);\n",
       "            })\n",
       "         });\n",
       "}\n",
       "</script>"
      ],
      "text/plain": [
       "<IPython.core.display.HTML object>"
      ]
     },
     "execution_count": 63,
     "metadata": {},
     "output_type": "execute_result"
    }
   ],
   "source": [
    "pyLDAvis.display(modelosAccion['Pre_Gestionar_Equipodis'])"
   ]
  },
  {
   "cell_type": "code",
   "execution_count": 64,
   "metadata": {},
   "outputs": [
    {
     "data": {
      "text/html": [
       "\n",
       "<link rel=\"stylesheet\" type=\"text/css\" href=\"https://cdn.jsdelivr.net/gh/bmabey/pyLDAvis@3.3.1/pyLDAvis/js/ldavis.v1.0.0.css\">\n",
       "\n",
       "\n",
       "<div id=\"ldavis_el2460020241479389926479433099\"></div>\n",
       "<script type=\"text/javascript\">\n",
       "\n",
       "var ldavis_el2460020241479389926479433099_data = {\"mdsDat\": {\"x\": [-0.03832307973149325, -0.09178465946672265, -0.17567197883406985, 0.3057797180322857], \"y\": [0.20045640864090253, 0.07386820772776007, -0.20426759258586139, -0.07005702378280121], \"topics\": [1, 2, 3, 4], \"cluster\": [1, 1, 1, 1], \"Freq\": [15.642559100873212, 12.335559326041752, 13.522340102339554, 58.499541470745484]}, \"tinfo\": {\"Term\": [\"recarg\", \"permit\", \"mal\", \"servici\", \"pag\", \"pse\", \"hac\", \"carg_factur\", \"sirv\", \"dej\", \"clar\", \"pud\", \"vec\", \"dic\", \"intent\", \"ningun\", \"pesim\", \"transaccion\", \"realiz\", \"pid\", \"pued\", \"paquet\", \"banc\", \"clar_hog\", \"movil\", \"conect\", \"internet\", \"se\\u00f1al\", \"app\", \"ingres\", \"permit\", \"sirv\", \"vec\", \"clar_hog\", \"deb\", \"codig\", \"bloque\", \"carg_factur\", \"much\", \"actualiz\", \"rap\", \"much_vec\", \"inmediat\", \"telefon\", \"bancolombi\", \"vari_vec\", \"esper\", \"anterior\", \"hor\", \"vari\", \"dificil\", \"tecnic\", \"voz\", \"chat\", \"constant\", \"asesor\", \"plataform\", \"acced\", \"cos\", \"naveg\", \"ten\", \"intent\", \"lleg\", \"clav\", \"ingres\", \"cuent\", \"siempr\", \"app\", \"pse\", \"nunc\", \"compr_paquet\", \"clav_dinam\", \"carg\", \"demor\", \"hac\", \"pid\", \"conect\", \"movil\", \"utiliz\", \"oper\", \"mes\", \"rechaz\", \"mism\", \"tard\", \"contrat\", \"arroj\", \"solucion\", \"mensaj\", \"quit\", \"uso\", \"verific\", \"aser\", \"logr\", \"diner\", \"va\", \"trat\", \"salg\", \"play\", \"complet\", \"reinici\", \"internacional\", \"metod\", \"enlac\", \"problem\", \"banc\", \"pse\", \"clar\", \"present\", \"inform\", \"cambi\", \"facil\", \"moment\", \"transaccion\", \"internet\", \"toc\", \"error\", \"pin\", \"finaliz\", \"pag\", \"dic\", \"mas\", \"siempr\", \"proces\", \"intent\", \"mal\", \"servici\", \"ningun\", \"pesim\", \"se\\u00f1al\", \"activ\", \"graci\", \"inclu\", \"nombr\", \"acept\", \"aplicacion\", \"asi\", \"hic\", \"mejor\", \"tarjet_debit\", \"se\", \"dan\", \"digit\", \"recib\", \"com\", \"transferent\", \"public\", \"cobertur\", \"entrar\", \"enga\\u00f1\", \"excelent\", \"consum\", \"mierd\", \"ofrec\", \"busc\", \"dias\", \"buen\", \"sol\", \"dic\", \"pagin\", \"usted\", \"numer\", \"app\", \"paquet\", \"ingres\", \"dar\", \"clar\", \"siempr\", \"moment\", \"recarg\", \"pud\", \"realiz\", \"dej\", \"compr\", \"dat\", \"pued\", \"celul\", \"sald\", \"aplic\", \"line\", \"factur\", \"si\", \"hac\", \"tiemp\", \"necesit\", \"pes\", \"ver\", \"factur_clar\", \"hog\", \"quier\", \"funcion\", \"lent\", \"despues\", \"minut\", \"medi\", \"aparec\", \"prepag\", \"continu\", \"pag\", \"pas\", \"compr_paquet\", \"pod\", \"carg\", \"opcion\", \"plan\", \"qued\", \"app\", \"paquet\", \"demor\", \"cuent\"], \"Freq\": [564.0, 68.0, 50.0, 42.0, 228.0, 49.0, 234.0, 40.0, 36.0, 129.0, 33.0, 111.0, 26.0, 33.0, 33.0, 23.0, 23.0, 36.0, 100.0, 20.0, 98.0, 51.0, 22.0, 20.0, 17.0, 17.0, 27.0, 17.0, 117.0, 32.0, 67.66000409912859, 35.4524644120762, 26.214113307901982, 19.767106158124452, 15.58164104783992, 13.601413686235684, 13.225241299755051, 38.416979966543124, 12.935700376381453, 10.081611914896488, 9.896361139952214, 8.193044123714904, 7.90874066853384, 7.248555175084166, 7.416210159125964, 6.573250896991852, 6.568162479958604, 6.392869270178868, 5.911761421290262, 5.9102989106377155, 6.162585229079691, 5.258249198096434, 5.245144327238963, 5.06843125439272, 5.066550452770033, 5.19568303545887, 4.58681594230862, 4.586142196605945, 4.3847068781517535, 3.9234534190908965, 8.362800470632436, 27.254698899038207, 14.26330594469431, 5.67408211645846, 15.914552412296601, 13.906131119267371, 11.392926105342482, 18.60378339907044, 12.545514596225612, 10.870039130348852, 14.420799602882715, 6.5883434038289534, 8.667946964226697, 7.11739704745033, 6.568564401148243, 19.452556818650798, 16.64204850438774, 16.795490772019885, 10.488627795912997, 10.136802820905316, 8.720957816775222, 8.376429166242623, 7.926354857650041, 7.154602255610806, 6.100648558867835, 5.6657467868257045, 4.872056632610875, 4.690480474297435, 4.68977795083089, 4.834529717824166, 4.261143856718048, 4.258071505542303, 4.251603397803893, 4.250341369429513, 4.19983033983872, 3.899128894330044, 3.6458328355054106, 3.6377055766013284, 3.464122830844863, 3.4506994690184163, 3.445544346385519, 3.2918058502897263, 3.0230590311626577, 9.699819636252196, 18.017291864574595, 36.85765587424652, 23.257918533466352, 7.132101801411969, 12.58102939582688, 5.21824205632836, 10.422544389288133, 9.638128699850947, 16.44598466799027, 13.160021516492188, 7.802561933883075, 11.206198445450658, 5.7732692263420855, 5.256310471311236, 16.501394338000594, 8.534216344482658, 5.469942150333926, 7.479785013313206, 5.995215685039424, 6.197889628599396, 49.40257820847603, 41.45016123796724, 22.89938213370412, 22.55196334680702, 17.07994577929288, 15.58254284838402, 13.374119566368789, 12.38590510192986, 10.45939342733295, 9.39446121805705, 8.159801257799044, 8.155214846592843, 8.145467047004214, 7.543935160623239, 6.922171078656607, 6.912736835274183, 6.747823400959323, 6.304994152685265, 5.514543907276617, 5.3428126736467885, 4.892646508063166, 4.723457239591955, 4.719187363748311, 4.713703109296075, 4.542356931624935, 4.283166977320161, 4.271709141984628, 4.106018892650594, 4.104924052690685, 4.0910352257707014, 15.311079142297398, 10.134158928222137, 10.670493467385098, 24.083987053699826, 11.514091489745514, 5.439204022253137, 9.242713420457362, 21.485075321385054, 14.282279630854836, 11.286579277341973, 5.7067873771893325, 9.452186096351415, 7.049348284230862, 6.272228646320462, 564.1724102062178, 111.00130396063805, 99.9398872856648, 127.77386445324564, 66.87036844962176, 66.35993580865686, 97.51594282185805, 50.53879549255726, 44.954252940743714, 39.383455706042845, 50.79545851894304, 26.786818247512713, 23.054402401576116, 227.43936092660013, 18.070972596719194, 15.05568467838096, 15.245219262027515, 14.73486556158517, 14.048045961558397, 37.58121779939565, 12.720428280644482, 78.68479393624561, 44.542135082024274, 12.372657419517168, 11.491636884341629, 29.832441880950775, 10.980662131420742, 24.927206691271778, 9.344243625513728, 211.68910919976355, 19.94977314406762, 137.75500102032618, 32.048221797785715, 56.953415360479475, 30.717194369606332, 23.054888932960086, 31.080994184391944, 73.15715944604578, 36.43394135331166, 23.622223191414424, 25.13905566630695], \"Total\": [564.0, 68.0, 50.0, 42.0, 228.0, 49.0, 234.0, 40.0, 36.0, 129.0, 33.0, 111.0, 26.0, 33.0, 33.0, 23.0, 23.0, 36.0, 100.0, 20.0, 98.0, 51.0, 22.0, 20.0, 17.0, 17.0, 27.0, 17.0, 117.0, 32.0, 68.3802596017322, 36.219923954442706, 26.928609445053123, 20.47870710116325, 16.304563408349335, 14.31299307459266, 13.933721717514821, 40.48084703281888, 13.648286891362021, 10.802731436723185, 10.613490301843457, 8.906518391471748, 8.621611371368665, 7.957575592781301, 8.146681498693292, 7.293247418677885, 7.292769462749708, 7.1041648777140525, 6.6293363134084045, 6.630135168763487, 6.915390805790464, 5.965443470290904, 5.965472881666864, 5.775833331076051, 5.776413986125071, 5.961208867756378, 5.301353936599295, 5.300946071117258, 5.110393545816134, 4.638071225295884, 10.009626658141313, 33.94585614278189, 21.2650429289081, 7.050414013329715, 32.59183169128347, 41.12110847908701, 30.38462876540244, 117.32048577554261, 49.90354191290678, 35.099205696682276, 157.19734246821713, 10.719998646104493, 66.07759989828911, 31.192791625928777, 234.48816504402026, 20.178607667752296, 17.367413996402572, 17.545746251744433, 11.218122272981788, 10.866744330181325, 9.462307271663867, 9.109790146245341, 8.671085351356524, 7.8797252214773446, 6.825184272188742, 6.385646856791363, 5.5953349274977535, 5.419677774935151, 5.4201055914609375, 5.596388874443204, 4.979859076120057, 4.980209585194202, 4.981131813569259, 4.979894893307811, 4.984720716144595, 4.629859070983249, 4.365039537025086, 4.366012580524041, 4.190064464165604, 4.190760755843504, 4.191660399238634, 4.014063016509975, 3.7505705260476656, 12.0397949418044, 22.482826608347935, 49.90354191290678, 33.230169890350126, 9.294032496337069, 17.785869818289427, 6.70588491314776, 15.681352807343922, 16.43490852053341, 36.66717516481897, 27.337060333840398, 13.039616074614502, 23.171108768934392, 8.559246307289458, 8.171812646723332, 228.66195368414733, 33.12959762691048, 9.445405130022081, 30.38462876540244, 19.418053450849563, 33.94585614278189, 50.12762912180749, 42.18026398427248, 23.63579900474708, 23.281469963644913, 17.806587092578145, 16.305226837089315, 14.097210122033818, 13.127248119421603, 11.183166120487263, 10.123333572165553, 8.887568442724467, 8.887493422389133, 8.888134965959672, 8.26895100852072, 7.651424676843567, 7.652510365890263, 7.4747239365924845, 7.032793983882206, 6.237780034232589, 6.060858220025641, 5.620047521330893, 5.442772716413818, 5.443004336563412, 5.443627759250922, 5.266719373439971, 5.001025587795549, 5.002371652364225, 4.824498950505617, 4.824626148703611, 4.825575754857357, 19.08345897497623, 12.439622590522106, 13.469953766770606, 33.12959762691048, 16.373672985683317, 7.467191150329896, 21.200391788852347, 117.32048577554261, 51.18503975874111, 32.59183169128347, 8.40505265183604, 33.230169890350126, 30.38462876540244, 16.43490852053341, 564.8712663349627, 111.6950104963302, 100.63944389992733, 129.05490322496843, 67.5738540608274, 67.06616879883246, 98.57081950772924, 51.24410392145551, 45.66420013086943, 40.08692261315397, 52.15645947518595, 27.594602218794062, 23.757245526641995, 234.48816504402026, 18.78585213840221, 15.746095722152766, 15.947060352434189, 15.439505366958798, 14.732292176966695, 39.5817951126664, 13.412847114454083, 83.04235095504933, 47.15670421940062, 13.104058781734034, 12.194505188942358, 31.689518340095653, 11.687542958885466, 26.64337778003283, 10.061581993376716, 228.66195368414733, 21.672254276191, 157.19734246821713, 35.59113941562605, 66.07759989828911, 34.49815113889962, 25.523238804219442, 37.93685427406224, 117.32048577554261, 51.18503975874111, 31.192791625928777, 41.12110847908701], \"Category\": [\"Default\", \"Default\", \"Default\", \"Default\", \"Default\", \"Default\", \"Default\", \"Default\", \"Default\", \"Default\", \"Default\", \"Default\", \"Default\", \"Default\", \"Default\", \"Default\", \"Default\", \"Default\", \"Default\", \"Default\", \"Default\", \"Default\", \"Default\", \"Default\", \"Default\", \"Default\", \"Default\", \"Default\", \"Default\", \"Default\", \"Topic1\", \"Topic1\", \"Topic1\", \"Topic1\", \"Topic1\", \"Topic1\", \"Topic1\", \"Topic1\", \"Topic1\", \"Topic1\", \"Topic1\", \"Topic1\", \"Topic1\", \"Topic1\", \"Topic1\", \"Topic1\", \"Topic1\", \"Topic1\", \"Topic1\", \"Topic1\", \"Topic1\", \"Topic1\", \"Topic1\", \"Topic1\", \"Topic1\", \"Topic1\", \"Topic1\", \"Topic1\", \"Topic1\", \"Topic1\", \"Topic1\", \"Topic1\", \"Topic1\", \"Topic1\", \"Topic1\", \"Topic1\", \"Topic1\", \"Topic1\", \"Topic1\", \"Topic1\", \"Topic1\", \"Topic1\", \"Topic1\", \"Topic1\", \"Topic1\", \"Topic2\", \"Topic2\", \"Topic2\", \"Topic2\", \"Topic2\", \"Topic2\", \"Topic2\", \"Topic2\", \"Topic2\", \"Topic2\", \"Topic2\", \"Topic2\", \"Topic2\", \"Topic2\", \"Topic2\", \"Topic2\", \"Topic2\", \"Topic2\", \"Topic2\", \"Topic2\", \"Topic2\", \"Topic2\", \"Topic2\", \"Topic2\", \"Topic2\", \"Topic2\", \"Topic2\", \"Topic2\", \"Topic2\", \"Topic2\", \"Topic2\", \"Topic2\", \"Topic2\", \"Topic2\", \"Topic2\", \"Topic2\", \"Topic2\", \"Topic2\", \"Topic2\", \"Topic2\", \"Topic2\", \"Topic2\", \"Topic2\", \"Topic2\", \"Topic2\", \"Topic2\", \"Topic2\", \"Topic2\", \"Topic2\", \"Topic3\", \"Topic3\", \"Topic3\", \"Topic3\", \"Topic3\", \"Topic3\", \"Topic3\", \"Topic3\", \"Topic3\", \"Topic3\", \"Topic3\", \"Topic3\", \"Topic3\", \"Topic3\", \"Topic3\", \"Topic3\", \"Topic3\", \"Topic3\", \"Topic3\", \"Topic3\", \"Topic3\", \"Topic3\", \"Topic3\", \"Topic3\", \"Topic3\", \"Topic3\", \"Topic3\", \"Topic3\", \"Topic3\", \"Topic3\", \"Topic3\", \"Topic3\", \"Topic3\", \"Topic3\", \"Topic3\", \"Topic3\", \"Topic3\", \"Topic3\", \"Topic3\", \"Topic3\", \"Topic3\", \"Topic3\", \"Topic3\", \"Topic3\", \"Topic4\", \"Topic4\", \"Topic4\", \"Topic4\", \"Topic4\", \"Topic4\", \"Topic4\", \"Topic4\", \"Topic4\", \"Topic4\", \"Topic4\", \"Topic4\", \"Topic4\", \"Topic4\", \"Topic4\", \"Topic4\", \"Topic4\", \"Topic4\", \"Topic4\", \"Topic4\", \"Topic4\", \"Topic4\", \"Topic4\", \"Topic4\", \"Topic4\", \"Topic4\", \"Topic4\", \"Topic4\", \"Topic4\", \"Topic4\", \"Topic4\", \"Topic4\", \"Topic4\", \"Topic4\", \"Topic4\", \"Topic4\", \"Topic4\", \"Topic4\", \"Topic4\", \"Topic4\", \"Topic4\"], \"logprob\": [30.0, 29.0, 28.0, 27.0, 26.0, 25.0, 24.0, 23.0, 22.0, 21.0, 20.0, 19.0, 18.0, 17.0, 16.0, 15.0, 14.0, 13.0, 12.0, 11.0, 10.0, 9.0, 8.0, 7.0, 6.0, 5.0, 4.0, 3.0, 2.0, 1.0, -2.6154, -3.2617, -3.5636, -3.8459, -4.0838, -4.2197, -4.2478, -3.1814, -4.2699, -4.5192, -4.5377, -4.7266, -4.7619, -4.8491, -4.8262, -4.9469, -4.9477, -4.9747, -5.053, -5.0532, -5.0114, -5.1701, -5.1726, -5.2069, -5.2072, -5.1821, -5.3067, -5.3069, -5.3518, -5.4629, -4.7061, -3.5247, -4.1722, -5.094, -4.0627, -4.1976, -4.3969, -3.9065, -4.3005, -4.4439, -4.1612, -4.9446, -4.6703, -4.8674, -4.9476, -3.6244, -3.7805, -3.7713, -4.2421, -4.2762, -4.4267, -4.467, -4.5222, -4.6246, -4.784, -4.858, -5.0089, -5.0469, -5.047, -5.0166, -5.1429, -5.1436, -5.1451, -5.1454, -5.1573, -5.2316, -5.2988, -5.301, -5.3499, -5.3538, -5.3553, -5.401, -5.4861, -4.3203, -3.7011, -2.9853, -3.4457, -4.6278, -4.0602, -4.9402, -4.2484, -4.3267, -3.7923, -4.0152, -4.5379, -4.1759, -4.8392, -4.933, -3.7889, -4.4483, -4.8931, -4.5802, -4.8014, -4.7682, -2.7842, -2.9598, -3.5531, -3.5684, -3.8463, -3.9381, -4.0909, -4.1677, -4.3368, -4.4441, -4.585, -4.5856, -4.5868, -4.6635, -4.7495, -4.7509, -4.775, -4.8429, -4.9769, -5.0085, -5.0965, -5.1317, -5.1326, -5.1338, -5.1708, -5.2296, -5.2322, -5.2718, -5.2721, -5.2755, -3.9557, -4.3683, -4.3168, -3.5027, -4.2407, -4.9906, -4.4604, -3.6169, -4.0252, -4.2606, -4.9426, -4.438, -4.7313, -4.8481, -1.8136, -3.4394, -3.5444, -3.2987, -3.9462, -3.9538, -3.5689, -4.2262, -4.3433, -4.4756, -4.2211, -4.861, -5.0111, -2.722, -5.2546, -5.4372, -5.4247, -5.4587, -5.5064, -4.5224, -5.6057, -3.7835, -4.3525, -5.6334, -5.7073, -4.7533, -5.7528, -4.933, -5.9142, -2.7938, -5.1557, -3.2234, -4.6817, -4.1067, -4.7241, -5.011, -4.7123, -3.8563, -4.5534, -4.9867, -4.9245], \"loglift\": [30.0, 29.0, 28.0, 27.0, 26.0, 25.0, 24.0, 23.0, 22.0, 21.0, 20.0, 19.0, 18.0, 17.0, 16.0, 15.0, 14.0, 13.0, 12.0, 11.0, 10.0, 9.0, 8.0, 7.0, 6.0, 5.0, 4.0, 3.0, 2.0, 1.0, 1.8446, 1.8338, 1.8283, 1.8198, 1.8098, 1.8042, 1.803, 1.8028, 1.8016, 1.7861, 1.7852, 1.7717, 1.7689, 1.7619, 1.7612, 1.7512, 1.7505, 1.7497, 1.7406, 1.7402, 1.7399, 1.729, 1.7265, 1.7245, 1.7241, 1.7177, 1.7104, 1.7103, 1.702, 1.6878, 1.6754, 1.6356, 1.4558, 1.638, 1.1383, 0.771, 0.8742, 0.0136, 0.4744, 0.683, -0.5337, 1.3684, -0.176, 0.3775, -1.7199, 2.056, 2.05, 2.049, 2.0254, 2.0231, 2.0111, 2.0088, 2.0029, 1.9961, 1.9805, 1.9731, 1.9543, 1.9482, 1.948, 1.9463, 1.9368, 1.936, 1.9343, 1.9343, 1.9214, 1.9209, 1.9126, 1.9102, 1.9024, 1.8984, 1.8967, 1.8943, 1.877, 1.8766, 1.8713, 1.7897, 1.7359, 1.8279, 1.7465, 1.8419, 1.6842, 1.559, 1.2909, 1.3616, 1.5791, 1.3662, 1.6989, 1.6514, -0.5361, 0.7363, 1.5464, 0.691, 0.9174, 0.3921, 1.9863, 1.9834, 1.9692, 1.969, 1.9592, 1.9555, 1.9482, 1.9427, 1.9339, 1.9261, 1.9154, 1.9148, 1.9136, 1.9091, 1.9007, 1.8992, 1.8985, 1.8916, 1.8776, 1.8747, 1.8622, 1.8591, 1.8581, 1.8569, 1.8529, 1.8459, 1.8429, 1.8396, 1.8393, 1.8357, 1.7806, 1.7959, 1.7678, 1.6819, 1.6487, 1.6839, 1.1706, 0.3033, 0.7244, 0.9404, 1.6137, 0.7436, 0.5398, 1.0376, 0.5349, 0.5299, 0.5292, 0.5262, 0.5257, 0.5256, 0.5254, 0.5223, 0.5205, 0.5184, 0.5097, 0.5064, 0.5061, 0.5056, 0.4974, 0.4913, 0.4911, 0.4894, 0.4886, 0.4843, 0.4831, 0.4823, 0.4791, 0.4787, 0.4768, 0.4758, 0.4738, 0.4696, 0.4622, 0.459, 0.4533, 0.4041, 0.4313, 0.3876, 0.4201, 0.4344, 0.3368, 0.0639, 0.1962, 0.2582, 0.0441]}, \"token.table\": {\"Topic\": [1, 3, 3, 1, 1, 4, 4, 3, 1, 2, 3, 4, 2, 2, 1, 3, 2, 3, 1, 1, 1, 3, 3, 1, 2, 1, 4, 1, 2, 4, 1, 2, 3, 1, 1, 2, 1, 2, 3, 1, 3, 2, 4, 1, 3, 4, 2, 1, 3, 4, 2, 1, 1, 2, 4, 3, 1, 3, 4, 1, 3, 4, 1, 4, 4, 3, 4, 2, 3, 1, 3, 2, 3, 2, 3, 2, 4, 1, 3, 1, 2, 4, 4, 2, 4, 1, 4, 3, 1, 4, 3, 2, 4, 1, 3, 1, 2, 1, 3, 4, 1, 1, 2, 2, 2, 4, 1, 4, 2, 4, 1, 4, 2, 3, 1, 2, 3, 1, 4, 3, 2, 2, 2, 3, 4, 2, 2, 3, 2, 1, 1, 1, 4, 3, 3, 3, 4, 1, 3, 4, 3, 1, 4, 2, 2, 4, 2, 3, 3, 4, 2, 4, 1, 4, 3, 2, 1, 2, 3, 4, 1, 2, 2, 4, 2, 4, 2, 3, 1, 2, 2, 4, 1, 2, 3, 4, 4, 1, 4, 4, 2, 1, 4, 4, 2, 3, 2, 4, 2, 3, 3, 3, 4, 1, 2, 3, 4, 1, 2, 3, 2, 2, 3, 1, 1, 1, 4, 4, 1, 2, 3, 4, 2, 4, 3, 2, 2, 2, 3, 2, 2, 1, 1, 1, 4, 2, 1], \"Freq\": [0.9432278564845259, 0.8890352111626355, 0.9812804298806185, 0.9256918084629642, 0.8445749927373102, 0.9411730111877141, 0.9728858554785317, 0.9001337150375425, 0.1619495510472977, 0.03409464232574688, 0.17899687221017113, 0.6222272224448806, 0.9396072370677352, 0.8031790493098336, 0.8387560494725379, 0.9001413131678518, 0.8006110758918787, 0.1779135724204175, 0.8592455714787405, 0.9329883475180127, 0.16077658188149724, 0.8038829094074862, 0.828916631548817, 0.14912275008468603, 0.7456137504234301, 0.13620349428328782, 0.8626221304608228, 0.9387155355023181, 0.04940608081591148, 0.995236448629687, 0.8656759489748796, 0.6921421129020193, 0.2708382180920945, 0.9766241541129295, 0.8510138537476278, 0.1418356422912713, 0.6529851570964245, 0.3731343754836711, 0.9186103281991661, 0.978132241596046, 0.8249656762270949, 0.7159794379434232, 0.9915077500195439, 0.08906002977009986, 0.03180715348932138, 0.87787743630527, 0.978844634182229, 0.8655889297425677, 0.799620715527907, 0.8944915427737379, 0.8790971438601003, 0.7827185840266235, 0.3404577482905158, 0.04863682118435939, 0.6079602648044924, 0.9364894355136683, 0.237952108433623, 0.713856325300869, 0.9841027328990496, 0.9813203579438765, 0.007748640113710369, 0.9918259345549272, 0.22441082170347657, 0.7694085315547768, 0.9157468079071043, 0.786021025835474, 0.1572042051670948, 0.27166040775241673, 0.7244277540064447, 0.8676299241072566, 0.853145992012681, 0.8032298041822863, 0.9493575878021839, 0.7998783062910129, 0.9185051258332242, 0.47472911675024154, 0.47472911675024154, 0.9598548309740041, 0.79983593960438, 0.31885004192102545, 0.6377000838420509, 0.9784522272117011, 0.9502933984630306, 0.611859353139338, 0.24474374125573523, 0.04816819314478696, 0.9513218146095425, 0.9221682792172553, 0.02985225287888579, 0.9680659147867249, 0.9000763411715611, 0.0505282793341525, 0.9600373073488975, 0.90506797609053, 0.9141291374119871, 0.28112203963499377, 0.7309173030509838, 0.49092055185959754, 0.3375078794034733, 0.15341267245612422, 0.9279007897023795, 0.7953842697745942, 0.17675205994990983, 0.7157068355406165, 0.47554491379994396, 0.512125291784555, 0.042411784985965685, 0.9542651621842279, 0.01917308057453098, 0.97782710930108, 0.6583574764840063, 0.32917873824200317, 0.8030303452527543, 0.9775048383184569, 0.2117431674415986, 0.5293579186039965, 0.1058715837207993, 0.031556175428981974, 0.9466852628694592, 0.9674745916085874, 0.9225640725586914, 0.9511422258450317, 0.7473724223214484, 0.829101641649397, 0.9020456205123023, 0.9226065337655178, 0.6084609468623584, 0.36507656811741507, 0.9688958084817753, 0.9525004935401584, 0.8982185460550145, 0.8624274629902479, 0.9526170972590301, 0.9731001687474418, 0.8942011495009687, 0.424520456491394, 0.5188583357117038, 0.3133974054871494, 0.17094403935662694, 0.5128321180698808, 0.8290797829122595, 0.08696118200425074, 0.898598880710591, 0.9202388218728929, 0.07434555563835618, 0.9271328114900889, 0.24429460656124552, 0.7328838196837365, 0.27351741965989496, 0.7033305076968727, 0.046141946622442205, 0.9228389324488441, 0.9944390441927692, 0.9406122299970083, 0.9879101292107225, 0.9415912293276882, 0.23366543363715397, 0.7009963009114619, 0.07835996110608677, 0.9011395527199978, 0.943155288214428, 0.9161677677804333, 0.08429064225695651, 0.8991001840742029, 0.03753277862349058, 0.9383194655872644, 0.753171457358129, 0.21519184495946544, 0.16611578599695492, 0.8305789299847746, 0.30899080668343165, 0.6694800811474353, 0.2605025515561201, 0.7414303390443419, 0.9186494201606942, 0.9937776048075753, 0.9942090416760259, 0.15815755193235018, 0.8171473516504759, 0.9692200238375053, 0.9224912532842922, 0.9421971204197642, 0.9936461900508594, 0.9984575842552309, 0.8781761019267004, 0.9618806638054459, 0.7158604785102243, 0.9854546859691861, 0.9163719975664019, 0.9147325080670632, 0.9720185728398344, 0.9547028811088492, 0.9681257018709176, 0.36202515702693683, 0.230379645380778, 0.230379645380778, 0.13164551164615884, 0.9663189807914251, 0.14847860910509242, 0.8166323500780083, 0.8936015564373037, 0.888355850394437, 0.9148623028577864, 0.838160653923048, 0.879664907782973, 0.7992306080160556, 0.09990382600200695, 0.9581678737481509, 0.0766893744630103, 0.6135149957040824, 0.0766893744630103, 0.3067574978520412, 0.43635758489930004, 0.545446981124125, 0.8896721924543338, 0.8639571828588111, 0.893433267804761, 0.26783832899625737, 0.6695958224906434, 0.891414780179784, 0.8024521789244349, 0.9049589257648564, 0.9597919278143665, 0.9655158783097242, 0.9715337145515452, 0.8032355813402873, 0.8381565215669721], \"Term\": [\"acced\", \"acept\", \"activ\", \"actualiz\", \"anterior\", \"aparec\", \"aplic\", \"aplicacion\", \"app\", \"app\", \"app\", \"app\", \"arroj\", \"aser\", \"asesor\", \"asi\", \"banc\", \"banc\", \"bancolombi\", \"bloque\", \"buen\", \"buen\", \"busc\", \"cambi\", \"cambi\", \"carg\", \"carg\", \"carg_factur\", \"carg_factur\", \"celul\", \"chat\", \"clar\", \"clar\", \"clar_hog\", \"clav\", \"clav\", \"clav_dinam\", \"clav_dinam\", \"cobertur\", \"codig\", \"com\", \"complet\", \"compr\", \"compr_paquet\", \"compr_paquet\", \"compr_paquet\", \"conect\", \"constant\", \"consum\", \"continu\", \"contrat\", \"cos\", \"cuent\", \"cuent\", \"cuent\", \"dan\", \"dar\", \"dar\", \"dat\", \"deb\", \"dej\", \"dej\", \"demor\", \"demor\", \"despues\", \"dias\", \"dias\", \"dic\", \"dic\", \"dificil\", \"digit\", \"diner\", \"enga\\u00f1\", \"enlac\", \"entrar\", \"error\", \"error\", \"esper\", \"excelent\", \"facil\", \"facil\", \"factur\", \"factur_clar\", \"finaliz\", \"finaliz\", \"funcion\", \"funcion\", \"graci\", \"hac\", \"hac\", \"hic\", \"hog\", \"hog\", \"hor\", \"inclu\", \"inform\", \"inform\", \"ingres\", \"ingres\", \"ingres\", \"inmediat\", \"intent\", \"intent\", \"internacional\", \"internet\", \"internet\", \"lent\", \"lent\", \"line\", \"line\", \"lleg\", \"lleg\", \"logr\", \"mal\", \"mas\", \"mas\", \"mas\", \"medi\", \"medi\", \"mejor\", \"mensaj\", \"mes\", \"metod\", \"mierd\", \"minut\", \"mism\", \"moment\", \"moment\", \"movil\", \"much\", \"much_vec\", \"naveg\", \"necesit\", \"ningun\", \"nombr\", \"numer\", \"numer\", \"nunc\", \"nunc\", \"nunc\", \"ofrec\", \"opcion\", \"opcion\", \"oper\", \"pag\", \"pag\", \"pagin\", \"pagin\", \"paquet\", \"paquet\", \"pas\", \"pas\", \"permit\", \"pes\", \"pesim\", \"pid\", \"pin\", \"pin\", \"plan\", \"plan\", \"plataform\", \"play\", \"pod\", \"pod\", \"prepag\", \"prepag\", \"present\", \"present\", \"problem\", \"problem\", \"proces\", \"proces\", \"pse\", \"pse\", \"public\", \"pud\", \"pued\", \"qued\", \"qued\", \"quier\", \"quit\", \"rap\", \"realiz\", \"recarg\", \"rechaz\", \"recib\", \"reinici\", \"sald\", \"salg\", \"se\", \"servici\", \"se\\u00f1al\", \"si\", \"siempr\", \"siempr\", \"siempr\", \"siempr\", \"sirv\", \"sol\", \"sol\", \"solucion\", \"tard\", \"tarjet_debit\", \"tecnic\", \"telefon\", \"ten\", \"ten\", \"tiemp\", \"toc\", \"toc\", \"toc\", \"toc\", \"transaccion\", \"transaccion\", \"transferent\", \"trat\", \"uso\", \"usted\", \"usted\", \"utiliz\", \"va\", \"vari\", \"vari_vec\", \"vec\", \"ver\", \"verific\", \"voz\"]}, \"R\": 30, \"lambda.step\": 0.01, \"plot.opts\": {\"xlab\": \"PC1\", \"ylab\": \"PC2\"}, \"topic.order\": [1, 2, 3, 4]};\n",
       "\n",
       "function LDAvis_load_lib(url, callback){\n",
       "  var s = document.createElement('script');\n",
       "  s.src = url;\n",
       "  s.async = true;\n",
       "  s.onreadystatechange = s.onload = callback;\n",
       "  s.onerror = function(){console.warn(\"failed to load library \" + url);};\n",
       "  document.getElementsByTagName(\"head\")[0].appendChild(s);\n",
       "}\n",
       "\n",
       "if(typeof(LDAvis) !== \"undefined\"){\n",
       "   // already loaded: just create the visualization\n",
       "   !function(LDAvis){\n",
       "       new LDAvis(\"#\" + \"ldavis_el2460020241479389926479433099\", ldavis_el2460020241479389926479433099_data);\n",
       "   }(LDAvis);\n",
       "}else if(typeof define === \"function\" && define.amd){\n",
       "   // require.js is available: use it to load d3/LDAvis\n",
       "   require.config({paths: {d3: \"https://d3js.org/d3.v5\"}});\n",
       "   require([\"d3\"], function(d3){\n",
       "      window.d3 = d3;\n",
       "      LDAvis_load_lib(\"https://cdn.jsdelivr.net/gh/bmabey/pyLDAvis@3.3.1/pyLDAvis/js/ldavis.v3.0.0.js\", function(){\n",
       "        new LDAvis(\"#\" + \"ldavis_el2460020241479389926479433099\", ldavis_el2460020241479389926479433099_data);\n",
       "      });\n",
       "    });\n",
       "}else{\n",
       "    // require.js not available: dynamically load d3 & LDAvis\n",
       "    LDAvis_load_lib(\"https://d3js.org/d3.v5.js\", function(){\n",
       "         LDAvis_load_lib(\"https://cdn.jsdelivr.net/gh/bmabey/pyLDAvis@3.3.1/pyLDAvis/js/ldavis.v3.0.0.js\", function(){\n",
       "                 new LDAvis(\"#\" + \"ldavis_el2460020241479389926479433099\", ldavis_el2460020241479389926479433099_data);\n",
       "            })\n",
       "         });\n",
       "}\n",
       "</script>"
      ],
      "text/plain": [
       "<IPython.core.display.HTML object>"
      ]
     },
     "execution_count": 64,
     "metadata": {},
     "output_type": "execute_result"
    }
   ],
   "source": [
    "pyLDAvis.display(modelosAccion['Pre_Paquetes-Recargasdis'])"
   ]
  },
  {
   "cell_type": "markdown",
   "metadata": {},
   "source": [
    "######  fin Zoom"
   ]
  },
  {
   "cell_type": "markdown",
   "metadata": {},
   "source": [
    "####  Construcción Tabla Final "
   ]
  },
  {
   "cell_type": "code",
   "execution_count": 65,
   "metadata": {},
   "outputs": [
    {
     "data": {
      "text/html": [
       "<div>\n",
       "<style scoped>\n",
       "    .dataframe tbody tr th:only-of-type {\n",
       "        vertical-align: middle;\n",
       "    }\n",
       "\n",
       "    .dataframe tbody tr th {\n",
       "        vertical-align: top;\n",
       "    }\n",
       "\n",
       "    .dataframe thead th {\n",
       "        text-align: right;\n",
       "    }\n",
       "</style>\n",
       "<table border=\"1\" class=\"dataframe\">\n",
       "  <thead>\n",
       "    <tr style=\"text-align: right;\">\n",
       "      <th></th>\n",
       "      <th>index</th>\n",
       "      <th>StartDate</th>\n",
       "      <th>EndDate</th>\n",
       "      <th>Status</th>\n",
       "      <th>IPAddress</th>\n",
       "      <th>Progress</th>\n",
       "      <th>Duration (in seconds)</th>\n",
       "      <th>Finished</th>\n",
       "      <th>RecordedDate</th>\n",
       "      <th>ResponseId</th>\n",
       "      <th>...</th>\n",
       "      <th>Tokens_Q15_T</th>\n",
       "      <th>Tokens_Q18_T</th>\n",
       "      <th>Tokens_Q20_T</th>\n",
       "      <th>Opinion</th>\n",
       "      <th>Tópico</th>\n",
       "      <th>Top_Zoom_Pre_Elegidos</th>\n",
       "      <th>Top_Zoom_Pre_Consulta_Saldos</th>\n",
       "      <th>Top_Zoom_Pre_Detalle_Plan</th>\n",
       "      <th>Top_Zoom_Pre_Gestionar_Equipo</th>\n",
       "      <th>Top_Zoom_Pre_Paquetes-Recargas</th>\n",
       "    </tr>\n",
       "  </thead>\n",
       "  <tbody>\n",
       "    <tr>\n",
       "      <th>3</th>\n",
       "      <td>4</td>\n",
       "      <td>2021-05-01 00:14:21</td>\n",
       "      <td>2021-05-01 00:15:37</td>\n",
       "      <td>IP Address</td>\n",
       "      <td>181.53.12.201</td>\n",
       "      <td>100</td>\n",
       "      <td>76</td>\n",
       "      <td>True</td>\n",
       "      <td>2021-05-01 00:15:38.223</td>\n",
       "      <td>R_udHanua3i8beZtT</td>\n",
       "      <td>...</td>\n",
       "      <td>[]</td>\n",
       "      <td>[]</td>\n",
       "      <td>[]</td>\n",
       "      <td>[ningun]</td>\n",
       "      <td>2</td>\n",
       "      <td>4.0</td>\n",
       "      <td>NaN</td>\n",
       "      <td>NaN</td>\n",
       "      <td>NaN</td>\n",
       "      <td>NaN</td>\n",
       "    </tr>\n",
       "    <tr>\n",
       "      <th>8</th>\n",
       "      <td>9</td>\n",
       "      <td>2021-05-01 00:56:56</td>\n",
       "      <td>2021-05-01 00:58:36</td>\n",
       "      <td>IP Address</td>\n",
       "      <td>191.156.52.30</td>\n",
       "      <td>100</td>\n",
       "      <td>100</td>\n",
       "      <td>True</td>\n",
       "      <td>2021-05-01 00:58:37.141</td>\n",
       "      <td>R_XjMcEuP3zshnpF7</td>\n",
       "      <td>...</td>\n",
       "      <td>[]</td>\n",
       "      <td>[]</td>\n",
       "      <td>[parec, bien]</td>\n",
       "      <td>[qued, sald, carg, app, pod, recarg, vez, pare...</td>\n",
       "      <td>3</td>\n",
       "      <td>NaN</td>\n",
       "      <td>4.0</td>\n",
       "      <td>NaN</td>\n",
       "      <td>NaN</td>\n",
       "      <td>NaN</td>\n",
       "    </tr>\n",
       "    <tr>\n",
       "      <th>9</th>\n",
       "      <td>10</td>\n",
       "      <td>2021-05-01 01:11:12</td>\n",
       "      <td>2021-05-01 01:13:28</td>\n",
       "      <td>IP Address</td>\n",
       "      <td>190.26.155.7</td>\n",
       "      <td>100</td>\n",
       "      <td>136</td>\n",
       "      <td>True</td>\n",
       "      <td>2021-05-01 01:13:29.173</td>\n",
       "      <td>R_x5YL4kva6EbeuWJ</td>\n",
       "      <td>...</td>\n",
       "      <td>[mal, señal]</td>\n",
       "      <td>[]</td>\n",
       "      <td>[]</td>\n",
       "      <td>[mal, señal]</td>\n",
       "      <td>2</td>\n",
       "      <td>NaN</td>\n",
       "      <td>NaN</td>\n",
       "      <td>2.0</td>\n",
       "      <td>NaN</td>\n",
       "      <td>NaN</td>\n",
       "    </tr>\n",
       "    <tr>\n",
       "      <th>10</th>\n",
       "      <td>11</td>\n",
       "      <td>2021-05-01 01:15:49</td>\n",
       "      <td>2021-05-01 01:21:26</td>\n",
       "      <td>IP Address</td>\n",
       "      <td>186.29.191.43</td>\n",
       "      <td>100</td>\n",
       "      <td>336</td>\n",
       "      <td>True</td>\n",
       "      <td>2021-05-01 01:21:26.392</td>\n",
       "      <td>R_3ltBuR7i97QbFAM</td>\n",
       "      <td>...</td>\n",
       "      <td>[cambi, mes, oper, regres, nuev, sub, mil, pes...</td>\n",
       "      <td>[]</td>\n",
       "      <td>[]</td>\n",
       "      <td>[bastant, tiemp, usted, sub, plan, line, cambi...</td>\n",
       "      <td>2</td>\n",
       "      <td>3.0</td>\n",
       "      <td>NaN</td>\n",
       "      <td>NaN</td>\n",
       "      <td>NaN</td>\n",
       "      <td>NaN</td>\n",
       "    </tr>\n",
       "    <tr>\n",
       "      <th>12</th>\n",
       "      <td>13</td>\n",
       "      <td>2021-05-01 01:31:59</td>\n",
       "      <td>2021-05-01 01:35:12</td>\n",
       "      <td>IP Address</td>\n",
       "      <td>191.156.2.216</td>\n",
       "      <td>100</td>\n",
       "      <td>193</td>\n",
       "      <td>True</td>\n",
       "      <td>2021-05-01 01:35:12.335</td>\n",
       "      <td>R_1laRSYqAGwFA04C</td>\n",
       "      <td>...</td>\n",
       "      <td>[demor, carg, despues, dic, sient, trabaj, ser...</td>\n",
       "      <td>[]</td>\n",
       "      <td>[]</td>\n",
       "      <td>[demor, carg, despues, dic, sient, trabaj, ser...</td>\n",
       "      <td>1</td>\n",
       "      <td>NaN</td>\n",
       "      <td>1.0</td>\n",
       "      <td>NaN</td>\n",
       "      <td>NaN</td>\n",
       "      <td>NaN</td>\n",
       "    </tr>\n",
       "    <tr>\n",
       "      <th>...</th>\n",
       "      <td>...</td>\n",
       "      <td>...</td>\n",
       "      <td>...</td>\n",
       "      <td>...</td>\n",
       "      <td>...</td>\n",
       "      <td>...</td>\n",
       "      <td>...</td>\n",
       "      <td>...</td>\n",
       "      <td>...</td>\n",
       "      <td>...</td>\n",
       "      <td>...</td>\n",
       "      <td>...</td>\n",
       "      <td>...</td>\n",
       "      <td>...</td>\n",
       "      <td>...</td>\n",
       "      <td>...</td>\n",
       "      <td>...</td>\n",
       "      <td>...</td>\n",
       "      <td>...</td>\n",
       "      <td>...</td>\n",
       "      <td>...</td>\n",
       "    </tr>\n",
       "    <tr>\n",
       "      <th>59083</th>\n",
       "      <td>14596</td>\n",
       "      <td>2021-08-31 23:14:27</td>\n",
       "      <td>2021-08-31 23:16:32</td>\n",
       "      <td>0</td>\n",
       "      <td>191.95.48.252</td>\n",
       "      <td>100</td>\n",
       "      <td>124</td>\n",
       "      <td>1</td>\n",
       "      <td>2021-08-31 23:16:32.361</td>\n",
       "      <td>R_21vzaanZGL0D3bl</td>\n",
       "      <td>...</td>\n",
       "      <td>[poc, opcion]</td>\n",
       "      <td>[]</td>\n",
       "      <td>[]</td>\n",
       "      <td>[much, poc, opcion]</td>\n",
       "      <td>2</td>\n",
       "      <td>NaN</td>\n",
       "      <td>NaN</td>\n",
       "      <td>NaN</td>\n",
       "      <td>NaN</td>\n",
       "      <td>4.0</td>\n",
       "    </tr>\n",
       "    <tr>\n",
       "      <th>59091</th>\n",
       "      <td>14604</td>\n",
       "      <td>2021-08-31 23:35:04</td>\n",
       "      <td>2021-08-31 23:38:05</td>\n",
       "      <td>0</td>\n",
       "      <td>181.53.13.231</td>\n",
       "      <td>100</td>\n",
       "      <td>180</td>\n",
       "      <td>1</td>\n",
       "      <td>2021-08-31 23:38:05.624</td>\n",
       "      <td>R_1OSGRtz2YrBAu8w</td>\n",
       "      <td>...</td>\n",
       "      <td>[]</td>\n",
       "      <td>[]</td>\n",
       "      <td>[]</td>\n",
       "      <td>[ten, paquet, econom, mensual, buen, gig]</td>\n",
       "      <td>3</td>\n",
       "      <td>NaN</td>\n",
       "      <td>4.0</td>\n",
       "      <td>NaN</td>\n",
       "      <td>NaN</td>\n",
       "      <td>NaN</td>\n",
       "    </tr>\n",
       "    <tr>\n",
       "      <th>59092</th>\n",
       "      <td>14605</td>\n",
       "      <td>2021-08-31 23:36:56</td>\n",
       "      <td>2021-08-31 23:41:48</td>\n",
       "      <td>0</td>\n",
       "      <td>181.51.33.29</td>\n",
       "      <td>100</td>\n",
       "      <td>291</td>\n",
       "      <td>1</td>\n",
       "      <td>2021-08-31 23:41:48.312</td>\n",
       "      <td>R_vPmzxQRYLqoFNkt</td>\n",
       "      <td>...</td>\n",
       "      <td>[dej, agreg, contact, famili, amig]</td>\n",
       "      <td>[agreg, contact, grup, famili]</td>\n",
       "      <td>[]</td>\n",
       "      <td>[dej, agreg, numer, grup, famil, dej, agreg, c...</td>\n",
       "      <td>5</td>\n",
       "      <td>3.0</td>\n",
       "      <td>NaN</td>\n",
       "      <td>NaN</td>\n",
       "      <td>NaN</td>\n",
       "      <td>NaN</td>\n",
       "    </tr>\n",
       "    <tr>\n",
       "      <th>59093</th>\n",
       "      <td>14606</td>\n",
       "      <td>2021-08-30 23:45:59</td>\n",
       "      <td>2021-08-30 23:46:46</td>\n",
       "      <td>0</td>\n",
       "      <td>181.142.161.28</td>\n",
       "      <td>41</td>\n",
       "      <td>47</td>\n",
       "      <td>0</td>\n",
       "      <td>2021-08-31 23:46:48.554</td>\n",
       "      <td>R_3FKiKz66K1XYuT3</td>\n",
       "      <td>...</td>\n",
       "      <td>[]</td>\n",
       "      <td>[compr, plan, postpag]</td>\n",
       "      <td>[]</td>\n",
       "      <td>[compr, plan, postpag]</td>\n",
       "      <td>2</td>\n",
       "      <td>NaN</td>\n",
       "      <td>NaN</td>\n",
       "      <td>2.0</td>\n",
       "      <td>NaN</td>\n",
       "      <td>NaN</td>\n",
       "    </tr>\n",
       "    <tr>\n",
       "      <th>59096</th>\n",
       "      <td>14609</td>\n",
       "      <td>2021-08-31 23:55:01</td>\n",
       "      <td>2021-08-31 23:57:41</td>\n",
       "      <td>0</td>\n",
       "      <td>186.86.52.0</td>\n",
       "      <td>100</td>\n",
       "      <td>160</td>\n",
       "      <td>1</td>\n",
       "      <td>2021-08-31 23:57:41.974</td>\n",
       "      <td>R_Xh8B16k5DRwXpGp</td>\n",
       "      <td>...</td>\n",
       "      <td>[]</td>\n",
       "      <td>[]</td>\n",
       "      <td>[]</td>\n",
       "      <td>[mejor, tiemp, esper, servici, client]</td>\n",
       "      <td>2</td>\n",
       "      <td>2.0</td>\n",
       "      <td>NaN</td>\n",
       "      <td>NaN</td>\n",
       "      <td>NaN</td>\n",
       "      <td>NaN</td>\n",
       "    </tr>\n",
       "  </tbody>\n",
       "</table>\n",
       "<p>11259 rows × 79 columns</p>\n",
       "</div>"
      ],
      "text/plain": [
       "       index           StartDate             EndDate      Status  \\\n",
       "3          4 2021-05-01 00:14:21 2021-05-01 00:15:37  IP Address   \n",
       "8          9 2021-05-01 00:56:56 2021-05-01 00:58:36  IP Address   \n",
       "9         10 2021-05-01 01:11:12 2021-05-01 01:13:28  IP Address   \n",
       "10        11 2021-05-01 01:15:49 2021-05-01 01:21:26  IP Address   \n",
       "12        13 2021-05-01 01:31:59 2021-05-01 01:35:12  IP Address   \n",
       "...      ...                 ...                 ...         ...   \n",
       "59083  14596 2021-08-31 23:14:27 2021-08-31 23:16:32           0   \n",
       "59091  14604 2021-08-31 23:35:04 2021-08-31 23:38:05           0   \n",
       "59092  14605 2021-08-31 23:36:56 2021-08-31 23:41:48           0   \n",
       "59093  14606 2021-08-30 23:45:59 2021-08-30 23:46:46           0   \n",
       "59096  14609 2021-08-31 23:55:01 2021-08-31 23:57:41           0   \n",
       "\n",
       "            IPAddress  Progress  Duration (in seconds) Finished  \\\n",
       "3       181.53.12.201       100                     76     True   \n",
       "8       191.156.52.30       100                    100     True   \n",
       "9        190.26.155.7       100                    136     True   \n",
       "10      186.29.191.43       100                    336     True   \n",
       "12      191.156.2.216       100                    193     True   \n",
       "...               ...       ...                    ...      ...   \n",
       "59083   191.95.48.252       100                    124        1   \n",
       "59091   181.53.13.231       100                    180        1   \n",
       "59092    181.51.33.29       100                    291        1   \n",
       "59093  181.142.161.28        41                     47        0   \n",
       "59096     186.86.52.0       100                    160        1   \n",
       "\n",
       "                 RecordedDate         ResponseId  ...  \\\n",
       "3     2021-05-01 00:15:38.223  R_udHanua3i8beZtT  ...   \n",
       "8     2021-05-01 00:58:37.141  R_XjMcEuP3zshnpF7  ...   \n",
       "9     2021-05-01 01:13:29.173  R_x5YL4kva6EbeuWJ  ...   \n",
       "10    2021-05-01 01:21:26.392  R_3ltBuR7i97QbFAM  ...   \n",
       "12    2021-05-01 01:35:12.335  R_1laRSYqAGwFA04C  ...   \n",
       "...                       ...                ...  ...   \n",
       "59083 2021-08-31 23:16:32.361  R_21vzaanZGL0D3bl  ...   \n",
       "59091 2021-08-31 23:38:05.624  R_1OSGRtz2YrBAu8w  ...   \n",
       "59092 2021-08-31 23:41:48.312  R_vPmzxQRYLqoFNkt  ...   \n",
       "59093 2021-08-31 23:46:48.554  R_3FKiKz66K1XYuT3  ...   \n",
       "59096 2021-08-31 23:57:41.974  R_Xh8B16k5DRwXpGp  ...   \n",
       "\n",
       "                                            Tokens_Q15_T  \\\n",
       "3                                                     []   \n",
       "8                                                     []   \n",
       "9                                           [mal, señal]   \n",
       "10     [cambi, mes, oper, regres, nuev, sub, mil, pes...   \n",
       "12     [demor, carg, despues, dic, sient, trabaj, ser...   \n",
       "...                                                  ...   \n",
       "59083                                      [poc, opcion]   \n",
       "59091                                                 []   \n",
       "59092                [dej, agreg, contact, famili, amig]   \n",
       "59093                                                 []   \n",
       "59096                                                 []   \n",
       "\n",
       "                         Tokens_Q18_T   Tokens_Q20_T  \\\n",
       "3                                  []             []   \n",
       "8                                  []  [parec, bien]   \n",
       "9                                  []             []   \n",
       "10                                 []             []   \n",
       "12                                 []             []   \n",
       "...                               ...            ...   \n",
       "59083                              []             []   \n",
       "59091                              []             []   \n",
       "59092  [agreg, contact, grup, famili]             []   \n",
       "59093          [compr, plan, postpag]             []   \n",
       "59096                              []             []   \n",
       "\n",
       "                                                 Opinion Tópico  \\\n",
       "3                                               [ningun]      2   \n",
       "8      [qued, sald, carg, app, pod, recarg, vez, pare...      3   \n",
       "9                                           [mal, señal]      2   \n",
       "10     [bastant, tiemp, usted, sub, plan, line, cambi...      2   \n",
       "12     [demor, carg, despues, dic, sient, trabaj, ser...      1   \n",
       "...                                                  ...    ...   \n",
       "59083                                [much, poc, opcion]      2   \n",
       "59091          [ten, paquet, econom, mensual, buen, gig]      3   \n",
       "59092  [dej, agreg, numer, grup, famil, dej, agreg, c...      5   \n",
       "59093                             [compr, plan, postpag]      2   \n",
       "59096             [mejor, tiemp, esper, servici, client]      2   \n",
       "\n",
       "      Top_Zoom_Pre_Elegidos Top_Zoom_Pre_Consulta_Saldos  \\\n",
       "3                       4.0                          NaN   \n",
       "8                       NaN                          4.0   \n",
       "9                       NaN                          NaN   \n",
       "10                      3.0                          NaN   \n",
       "12                      NaN                          1.0   \n",
       "...                     ...                          ...   \n",
       "59083                   NaN                          NaN   \n",
       "59091                   NaN                          4.0   \n",
       "59092                   3.0                          NaN   \n",
       "59093                   NaN                          NaN   \n",
       "59096                   2.0                          NaN   \n",
       "\n",
       "      Top_Zoom_Pre_Detalle_Plan Top_Zoom_Pre_Gestionar_Equipo  \\\n",
       "3                           NaN                           NaN   \n",
       "8                           NaN                           NaN   \n",
       "9                           2.0                           NaN   \n",
       "10                          NaN                           NaN   \n",
       "12                          NaN                           NaN   \n",
       "...                         ...                           ...   \n",
       "59083                       NaN                           NaN   \n",
       "59091                       NaN                           NaN   \n",
       "59092                       NaN                           NaN   \n",
       "59093                       2.0                           NaN   \n",
       "59096                       NaN                           NaN   \n",
       "\n",
       "      Top_Zoom_Pre_Paquetes-Recargas  \n",
       "3                                NaN  \n",
       "8                                NaN  \n",
       "9                                NaN  \n",
       "10                               NaN  \n",
       "12                               NaN  \n",
       "...                              ...  \n",
       "59083                            4.0  \n",
       "59091                            NaN  \n",
       "59092                            NaN  \n",
       "59093                            NaN  \n",
       "59096                            NaN  \n",
       "\n",
       "[11259 rows x 79 columns]"
      ]
     },
     "execution_count": 65,
     "metadata": {},
     "output_type": "execute_result"
    }
   ],
   "source": [
    "ZoomAccion"
   ]
  },
  {
   "cell_type": "code",
   "execution_count": 66,
   "metadata": {},
   "outputs": [
    {
     "data": {
      "text/plain": [
       "59096"
      ]
     },
     "execution_count": 66,
     "metadata": {},
     "output_type": "execute_result"
    }
   ],
   "source": [
    "len(df)"
   ]
  },
  {
   "cell_type": "code",
   "execution_count": 67,
   "metadata": {},
   "outputs": [
    {
     "data": {
      "text/plain": [
       "59096"
      ]
     },
     "execution_count": 67,
     "metadata": {},
     "output_type": "execute_result"
    }
   ],
   "source": [
    "len(dfSent)"
   ]
  },
  {
   "cell_type": "code",
   "execution_count": 68,
   "metadata": {},
   "outputs": [
    {
     "data": {
      "text/plain": [
       "11259"
      ]
     },
     "execution_count": 68,
     "metadata": {},
     "output_type": "execute_result"
    }
   ],
   "source": [
    "len(dfc2)"
   ]
  },
  {
   "cell_type": "code",
   "execution_count": 69,
   "metadata": {},
   "outputs": [
    {
     "data": {
      "text/plain": [
       "214"
      ]
     },
     "execution_count": 69,
     "metadata": {},
     "output_type": "execute_result"
    }
   ],
   "source": [
    "len(dfc2Zoom)"
   ]
  },
  {
   "cell_type": "code",
   "execution_count": 70,
   "metadata": {},
   "outputs": [],
   "source": [
    "TablaFinal=df.copy()\n",
    "for column in Qs:    \n",
    "    TablaFinal[\"Sent_\"+column]=dfSent[\"Sent_\"+column] \n",
    "TablaFinal['Opinion']=dfc2['Opinion']\n",
    "TablaFinal['Topico']=dfc2['Tópico']\n",
    "TablaFinal['TópicoZoom']=dfc2Zoom['TópicoZoom']"
   ]
  },
  {
   "cell_type": "code",
   "execution_count": 71,
   "metadata": {},
   "outputs": [],
   "source": [
    "###  Agregar Información\n",
    "for accion in acciones:\n",
    "    TablaFinal['TópicoAccion_'+accion]=ZoomAccion['Top_Zoom_'+accion]"
   ]
  },
  {
   "cell_type": "code",
   "execution_count": 72,
   "metadata": {},
   "outputs": [
    {
     "data": {
      "text/html": [
       "<div>\n",
       "<style scoped>\n",
       "    .dataframe tbody tr th:only-of-type {\n",
       "        vertical-align: middle;\n",
       "    }\n",
       "\n",
       "    .dataframe tbody tr th {\n",
       "        vertical-align: top;\n",
       "    }\n",
       "\n",
       "    .dataframe thead th {\n",
       "        text-align: right;\n",
       "    }\n",
       "</style>\n",
       "<table border=\"1\" class=\"dataframe\">\n",
       "  <thead>\n",
       "    <tr style=\"text-align: right;\">\n",
       "      <th></th>\n",
       "      <th>index</th>\n",
       "      <th>StartDate</th>\n",
       "      <th>EndDate</th>\n",
       "      <th>Status</th>\n",
       "      <th>IPAddress</th>\n",
       "      <th>Progress</th>\n",
       "      <th>Duration (in seconds)</th>\n",
       "      <th>Finished</th>\n",
       "      <th>RecordedDate</th>\n",
       "      <th>ResponseId</th>\n",
       "      <th>...</th>\n",
       "      <th>Sent_Q18</th>\n",
       "      <th>Sent_Q20</th>\n",
       "      <th>Opinion</th>\n",
       "      <th>Topico</th>\n",
       "      <th>TópicoZoom</th>\n",
       "      <th>TópicoAccion_Pre_Elegidos</th>\n",
       "      <th>TópicoAccion_Pre_Consulta_Saldos</th>\n",
       "      <th>TópicoAccion_Pre_Detalle_Plan</th>\n",
       "      <th>TópicoAccion_Pre_Gestionar_Equipo</th>\n",
       "      <th>TópicoAccion_Pre_Paquetes-Recargas</th>\n",
       "    </tr>\n",
       "  </thead>\n",
       "  <tbody>\n",
       "    <tr>\n",
       "      <th>6</th>\n",
       "      <td>7</td>\n",
       "      <td>2021-05-01 00:32:28</td>\n",
       "      <td>2021-05-01 00:35:33</td>\n",
       "      <td>IP Address</td>\n",
       "      <td>181.244.74.127</td>\n",
       "      <td>100</td>\n",
       "      <td>184</td>\n",
       "      <td>True</td>\n",
       "      <td>2021-05-01 00:35:33.715000</td>\n",
       "      <td>R_WlDgkDboPHperPH</td>\n",
       "      <td>...</td>\n",
       "      <td></td>\n",
       "      <td>0.9998136624179559</td>\n",
       "      <td>NaN</td>\n",
       "      <td>NaN</td>\n",
       "      <td>NaN</td>\n",
       "      <td>NaN</td>\n",
       "      <td>NaN</td>\n",
       "      <td>NaN</td>\n",
       "      <td>NaN</td>\n",
       "      <td>NaN</td>\n",
       "    </tr>\n",
       "    <tr>\n",
       "      <th>9</th>\n",
       "      <td>10</td>\n",
       "      <td>2021-05-01 01:11:12</td>\n",
       "      <td>2021-05-01 01:13:28</td>\n",
       "      <td>IP Address</td>\n",
       "      <td>190.26.155.7</td>\n",
       "      <td>100</td>\n",
       "      <td>136</td>\n",
       "      <td>True</td>\n",
       "      <td>2021-05-01 01:13:29.173000</td>\n",
       "      <td>R_x5YL4kva6EbeuWJ</td>\n",
       "      <td>...</td>\n",
       "      <td></td>\n",
       "      <td></td>\n",
       "      <td>[mal, señal]</td>\n",
       "      <td>2</td>\n",
       "      <td>NaN</td>\n",
       "      <td>NaN</td>\n",
       "      <td>NaN</td>\n",
       "      <td>2.0</td>\n",
       "      <td>NaN</td>\n",
       "      <td>NaN</td>\n",
       "    </tr>\n",
       "    <tr>\n",
       "      <th>16</th>\n",
       "      <td>17</td>\n",
       "      <td>2021-05-01 03:33:27</td>\n",
       "      <td>2021-05-01 03:34:56</td>\n",
       "      <td>IP Address</td>\n",
       "      <td>181.142.137.9</td>\n",
       "      <td>100</td>\n",
       "      <td>88</td>\n",
       "      <td>True</td>\n",
       "      <td>2021-05-01 03:34:56.361000</td>\n",
       "      <td>R_ZmK0qDDpfWbHJi9</td>\n",
       "      <td>...</td>\n",
       "      <td></td>\n",
       "      <td></td>\n",
       "      <td>NaN</td>\n",
       "      <td>NaN</td>\n",
       "      <td>NaN</td>\n",
       "      <td>NaN</td>\n",
       "      <td>NaN</td>\n",
       "      <td>NaN</td>\n",
       "      <td>NaN</td>\n",
       "      <td>NaN</td>\n",
       "    </tr>\n",
       "    <tr>\n",
       "      <th>21</th>\n",
       "      <td>22</td>\n",
       "      <td>2021-05-01 05:21:28</td>\n",
       "      <td>2021-05-01 05:32:42</td>\n",
       "      <td>IP Address</td>\n",
       "      <td>186.87.152.172</td>\n",
       "      <td>100</td>\n",
       "      <td>673</td>\n",
       "      <td>True</td>\n",
       "      <td>2021-05-01 05:32:42.286000</td>\n",
       "      <td>R_ANKhuvqrAAMerip</td>\n",
       "      <td>...</td>\n",
       "      <td></td>\n",
       "      <td></td>\n",
       "      <td>NaN</td>\n",
       "      <td>NaN</td>\n",
       "      <td>NaN</td>\n",
       "      <td>NaN</td>\n",
       "      <td>NaN</td>\n",
       "      <td>NaN</td>\n",
       "      <td>NaN</td>\n",
       "      <td>NaN</td>\n",
       "    </tr>\n",
       "    <tr>\n",
       "      <th>22</th>\n",
       "      <td>23</td>\n",
       "      <td>2021-04-30 05:39:37</td>\n",
       "      <td>2021-04-30 05:39:58</td>\n",
       "      <td>IP Address</td>\n",
       "      <td>181.58.39.39</td>\n",
       "      <td>6</td>\n",
       "      <td>21</td>\n",
       "      <td>False</td>\n",
       "      <td>2021-05-01 05:40:00.089000</td>\n",
       "      <td>R_2Y2HJRaQo1gqBFg</td>\n",
       "      <td>...</td>\n",
       "      <td></td>\n",
       "      <td></td>\n",
       "      <td>NaN</td>\n",
       "      <td>NaN</td>\n",
       "      <td>NaN</td>\n",
       "      <td>NaN</td>\n",
       "      <td>NaN</td>\n",
       "      <td>NaN</td>\n",
       "      <td>NaN</td>\n",
       "      <td>NaN</td>\n",
       "    </tr>\n",
       "    <tr>\n",
       "      <th>...</th>\n",
       "      <td>...</td>\n",
       "      <td>...</td>\n",
       "      <td>...</td>\n",
       "      <td>...</td>\n",
       "      <td>...</td>\n",
       "      <td>...</td>\n",
       "      <td>...</td>\n",
       "      <td>...</td>\n",
       "      <td>...</td>\n",
       "      <td>...</td>\n",
       "      <td>...</td>\n",
       "      <td>...</td>\n",
       "      <td>...</td>\n",
       "      <td>...</td>\n",
       "      <td>...</td>\n",
       "      <td>...</td>\n",
       "      <td>...</td>\n",
       "      <td>...</td>\n",
       "      <td>...</td>\n",
       "      <td>...</td>\n",
       "      <td>...</td>\n",
       "    </tr>\n",
       "    <tr>\n",
       "      <th>59065</th>\n",
       "      <td>14578</td>\n",
       "      <td>2021-08-31 22:24:48</td>\n",
       "      <td>2021-08-31 22:25:49</td>\n",
       "      <td>0</td>\n",
       "      <td>190.90.9.121</td>\n",
       "      <td>100</td>\n",
       "      <td>60</td>\n",
       "      <td>1</td>\n",
       "      <td>2021-08-31 22:25:49.577000</td>\n",
       "      <td>R_2E6NWpqZIi3hfaz</td>\n",
       "      <td>...</td>\n",
       "      <td></td>\n",
       "      <td></td>\n",
       "      <td>NaN</td>\n",
       "      <td>NaN</td>\n",
       "      <td>NaN</td>\n",
       "      <td>NaN</td>\n",
       "      <td>NaN</td>\n",
       "      <td>NaN</td>\n",
       "      <td>NaN</td>\n",
       "      <td>NaN</td>\n",
       "    </tr>\n",
       "    <tr>\n",
       "      <th>59070</th>\n",
       "      <td>14583</td>\n",
       "      <td>2021-08-31 22:42:41</td>\n",
       "      <td>2021-08-31 22:45:27</td>\n",
       "      <td>0</td>\n",
       "      <td>191.156.156.197</td>\n",
       "      <td>100</td>\n",
       "      <td>165</td>\n",
       "      <td>1</td>\n",
       "      <td>2021-08-31 22:45:27.330000</td>\n",
       "      <td>R_vczS9RyQafytENr</td>\n",
       "      <td>...</td>\n",
       "      <td>-0.6916568725552124</td>\n",
       "      <td></td>\n",
       "      <td>[pod, encontr, cambi, numer, q, sal, aplic, ca...</td>\n",
       "      <td>2</td>\n",
       "      <td>NaN</td>\n",
       "      <td>NaN</td>\n",
       "      <td>NaN</td>\n",
       "      <td>2.0</td>\n",
       "      <td>NaN</td>\n",
       "      <td>NaN</td>\n",
       "    </tr>\n",
       "    <tr>\n",
       "      <th>59076</th>\n",
       "      <td>14589</td>\n",
       "      <td>2021-08-30 22:55:51</td>\n",
       "      <td>2021-08-30 22:58:05</td>\n",
       "      <td>0</td>\n",
       "      <td>181.60.16.81</td>\n",
       "      <td>41</td>\n",
       "      <td>133</td>\n",
       "      <td>0</td>\n",
       "      <td>2021-08-31 22:58:06.873000</td>\n",
       "      <td>R_2aXCJApAQi3rved</td>\n",
       "      <td>...</td>\n",
       "      <td>0.03347498436245333</td>\n",
       "      <td></td>\n",
       "      <td>[administr, wifi]</td>\n",
       "      <td>2</td>\n",
       "      <td>NaN</td>\n",
       "      <td>NaN</td>\n",
       "      <td>NaN</td>\n",
       "      <td>2.0</td>\n",
       "      <td>NaN</td>\n",
       "      <td>NaN</td>\n",
       "    </tr>\n",
       "    <tr>\n",
       "      <th>59093</th>\n",
       "      <td>14606</td>\n",
       "      <td>2021-08-30 23:45:59</td>\n",
       "      <td>2021-08-30 23:46:46</td>\n",
       "      <td>0</td>\n",
       "      <td>181.142.161.28</td>\n",
       "      <td>41</td>\n",
       "      <td>47</td>\n",
       "      <td>0</td>\n",
       "      <td>2021-08-31 23:46:48.554000</td>\n",
       "      <td>R_3FKiKz66K1XYuT3</td>\n",
       "      <td>...</td>\n",
       "      <td>-0.14107212091566557</td>\n",
       "      <td></td>\n",
       "      <td>[compr, plan, postpag]</td>\n",
       "      <td>2</td>\n",
       "      <td>NaN</td>\n",
       "      <td>NaN</td>\n",
       "      <td>NaN</td>\n",
       "      <td>2.0</td>\n",
       "      <td>NaN</td>\n",
       "      <td>NaN</td>\n",
       "    </tr>\n",
       "    <tr>\n",
       "      <th>59094</th>\n",
       "      <td>14607</td>\n",
       "      <td>2021-08-31 23:49:42</td>\n",
       "      <td>2021-08-31 23:51:41</td>\n",
       "      <td>0</td>\n",
       "      <td>191.156.47.25</td>\n",
       "      <td>100</td>\n",
       "      <td>118</td>\n",
       "      <td>1</td>\n",
       "      <td>2021-08-31 23:51:41.798000</td>\n",
       "      <td>R_dm4O8hOBtECjCq5</td>\n",
       "      <td>...</td>\n",
       "      <td></td>\n",
       "      <td></td>\n",
       "      <td>NaN</td>\n",
       "      <td>NaN</td>\n",
       "      <td>NaN</td>\n",
       "      <td>NaN</td>\n",
       "      <td>NaN</td>\n",
       "      <td>NaN</td>\n",
       "      <td>NaN</td>\n",
       "      <td>NaN</td>\n",
       "    </tr>\n",
       "  </tbody>\n",
       "</table>\n",
       "<p>11404 rows × 68 columns</p>\n",
       "</div>"
      ],
      "text/plain": [
       "       index            StartDate              EndDate      Status  \\\n",
       "6          7  2021-05-01 00:32:28  2021-05-01 00:35:33  IP Address   \n",
       "9         10  2021-05-01 01:11:12  2021-05-01 01:13:28  IP Address   \n",
       "16        17  2021-05-01 03:33:27  2021-05-01 03:34:56  IP Address   \n",
       "21        22  2021-05-01 05:21:28  2021-05-01 05:32:42  IP Address   \n",
       "22        23  2021-04-30 05:39:37  2021-04-30 05:39:58  IP Address   \n",
       "...      ...                  ...                  ...         ...   \n",
       "59065  14578  2021-08-31 22:24:48  2021-08-31 22:25:49           0   \n",
       "59070  14583  2021-08-31 22:42:41  2021-08-31 22:45:27           0   \n",
       "59076  14589  2021-08-30 22:55:51  2021-08-30 22:58:05           0   \n",
       "59093  14606  2021-08-30 23:45:59  2021-08-30 23:46:46           0   \n",
       "59094  14607  2021-08-31 23:49:42  2021-08-31 23:51:41           0   \n",
       "\n",
       "             IPAddress Progress Duration (in seconds) Finished  \\\n",
       "6       181.244.74.127      100                   184     True   \n",
       "9         190.26.155.7      100                   136     True   \n",
       "16       181.142.137.9      100                    88     True   \n",
       "21      186.87.152.172      100                   673     True   \n",
       "22        181.58.39.39        6                    21    False   \n",
       "...                ...      ...                   ...      ...   \n",
       "59065     190.90.9.121      100                    60        1   \n",
       "59070  191.156.156.197      100                   165        1   \n",
       "59076     181.60.16.81       41                   133        0   \n",
       "59093   181.142.161.28       41                    47        0   \n",
       "59094    191.156.47.25      100                   118        1   \n",
       "\n",
       "                     RecordedDate         ResponseId  ...  \\\n",
       "6      2021-05-01 00:35:33.715000  R_WlDgkDboPHperPH  ...   \n",
       "9      2021-05-01 01:13:29.173000  R_x5YL4kva6EbeuWJ  ...   \n",
       "16     2021-05-01 03:34:56.361000  R_ZmK0qDDpfWbHJi9  ...   \n",
       "21     2021-05-01 05:32:42.286000  R_ANKhuvqrAAMerip  ...   \n",
       "22     2021-05-01 05:40:00.089000  R_2Y2HJRaQo1gqBFg  ...   \n",
       "...                           ...                ...  ...   \n",
       "59065  2021-08-31 22:25:49.577000  R_2E6NWpqZIi3hfaz  ...   \n",
       "59070  2021-08-31 22:45:27.330000  R_vczS9RyQafytENr  ...   \n",
       "59076  2021-08-31 22:58:06.873000  R_2aXCJApAQi3rved  ...   \n",
       "59093  2021-08-31 23:46:48.554000  R_3FKiKz66K1XYuT3  ...   \n",
       "59094  2021-08-31 23:51:41.798000  R_dm4O8hOBtECjCq5  ...   \n",
       "\n",
       "                   Sent_Q18            Sent_Q20  \\\n",
       "6                            0.9998136624179559   \n",
       "9                                                 \n",
       "16                                                \n",
       "21                                                \n",
       "22                                                \n",
       "...                     ...                 ...   \n",
       "59065                                             \n",
       "59070   -0.6916568725552124                       \n",
       "59076   0.03347498436245333                       \n",
       "59093  -0.14107212091566557                       \n",
       "59094                                             \n",
       "\n",
       "                                                 Opinion Topico TópicoZoom  \\\n",
       "6                                                    NaN    NaN        NaN   \n",
       "9                                           [mal, señal]      2        NaN   \n",
       "16                                                   NaN    NaN        NaN   \n",
       "21                                                   NaN    NaN        NaN   \n",
       "22                                                   NaN    NaN        NaN   \n",
       "...                                                  ...    ...        ...   \n",
       "59065                                                NaN    NaN        NaN   \n",
       "59070  [pod, encontr, cambi, numer, q, sal, aplic, ca...      2        NaN   \n",
       "59076                                  [administr, wifi]      2        NaN   \n",
       "59093                             [compr, plan, postpag]      2        NaN   \n",
       "59094                                                NaN    NaN        NaN   \n",
       "\n",
       "      TópicoAccion_Pre_Elegidos TópicoAccion_Pre_Consulta_Saldos  \\\n",
       "6                           NaN                              NaN   \n",
       "9                           NaN                              NaN   \n",
       "16                          NaN                              NaN   \n",
       "21                          NaN                              NaN   \n",
       "22                          NaN                              NaN   \n",
       "...                         ...                              ...   \n",
       "59065                       NaN                              NaN   \n",
       "59070                       NaN                              NaN   \n",
       "59076                       NaN                              NaN   \n",
       "59093                       NaN                              NaN   \n",
       "59094                       NaN                              NaN   \n",
       "\n",
       "      TópicoAccion_Pre_Detalle_Plan TópicoAccion_Pre_Gestionar_Equipo  \\\n",
       "6                               NaN                               NaN   \n",
       "9                               2.0                               NaN   \n",
       "16                              NaN                               NaN   \n",
       "21                              NaN                               NaN   \n",
       "22                              NaN                               NaN   \n",
       "...                             ...                               ...   \n",
       "59065                           NaN                               NaN   \n",
       "59070                           2.0                               NaN   \n",
       "59076                           2.0                               NaN   \n",
       "59093                           2.0                               NaN   \n",
       "59094                           NaN                               NaN   \n",
       "\n",
       "      TópicoAccion_Pre_Paquetes-Recargas  \n",
       "6                                    NaN  \n",
       "9                                    NaN  \n",
       "16                                   NaN  \n",
       "21                                   NaN  \n",
       "22                                   NaN  \n",
       "...                                  ...  \n",
       "59065                                NaN  \n",
       "59070                                NaN  \n",
       "59076                                NaN  \n",
       "59093                                NaN  \n",
       "59094                                NaN  \n",
       "\n",
       "[11404 rows x 68 columns]"
      ]
     },
     "execution_count": 72,
     "metadata": {},
     "output_type": "execute_result"
    }
   ],
   "source": [
    "TablaFinal[TablaFinal['Accion']==\"Pre_Detalle_Plan\"]"
   ]
  },
  {
   "cell_type": "code",
   "execution_count": 73,
   "metadata": {},
   "outputs": [],
   "source": [
    "TablaFinal.to_csv('TablaFinalMay_Ago.csv',index=False, sep=';', encoding=\"utf-8-sig\")"
   ]
  },
  {
   "cell_type": "code",
   "execution_count": null,
   "metadata": {},
   "outputs": [],
   "source": []
  },
  {
   "cell_type": "code",
   "execution_count": null,
   "metadata": {},
   "outputs": [],
   "source": []
  },
  {
   "cell_type": "code",
   "execution_count": null,
   "metadata": {},
   "outputs": [],
   "source": []
  }
 ],
 "metadata": {
  "kernelspec": {
   "display_name": "Python 3 (ipykernel)",
   "language": "python",
   "name": "python3"
  },
  "language_info": {
   "codemirror_mode": {
    "name": "ipython",
    "version": 3
   },
   "file_extension": ".py",
   "mimetype": "text/x-python",
   "name": "python",
   "nbconvert_exporter": "python",
   "pygments_lexer": "ipython3",
   "version": "3.8.11"
  }
 },
 "nbformat": 4,
 "nbformat_minor": 4
}
