{
 "cells": [
  {
   "cell_type": "code",
   "execution_count": 1,
   "metadata": {},
   "outputs": [
    {
     "name": "stderr",
     "output_type": "stream",
     "text": [
      "C:\\ProgramData\\Anaconda3\\lib\\site-packages\\scipy\\sparse\\sparsetools.py:21: DeprecationWarning: `scipy.sparse.sparsetools` is deprecated!\n",
      "scipy.sparse.sparsetools is a private module for scipy.sparse, and should not be used.\n",
      "  _deprecated()\n",
      "C:\\ProgramData\\Anaconda3\\lib\\site-packages\\gensim\\similarities\\__init__.py:15: UserWarning: The gensim.similarities.levenshtein submodule is disabled, because the optional Levenshtein package <https://pypi.org/project/python-Levenshtein/> is unavailable. Install Levenhstein (e.g. `pip install python-Levenshtein`) to suppress this warning.\n",
      "  warnings.warn(msg)\n"
     ]
    }
   ],
   "source": [
    "import pandas as pd \n",
    "import numpy as np \n",
    "from textblob import TextBlob\n",
    "import matplotlib.pyplot as plt\n",
    "\n",
    "import pyLDAvis\n",
    "import pyLDAvis.sklearn\n",
    "pyLDAvis.enable_notebook()\n",
    "\n",
    "\n",
    "import json, re\n",
    "from nltk.corpus import stopwords\n",
    "from nltk.stem import SnowballStemmer\n",
    "from nltk.tokenize import ToktokTokenizer\n",
    "\n",
    "\n",
    "from sklearn.datasets import fetch_20newsgroups\n",
    "from sklearn.feature_extraction.text import CountVectorizer, TfidfVectorizer\n",
    "from sklearn.decomposition import LatentDirichletAllocation\n",
    "\n",
    "from gensim.models.coherencemodel import CoherenceModel\n",
    "from gensim import corpora\n",
    "from gensim.corpora import Dictionary\n",
    "from gensim.models import LdaModel\n",
    "import gensim\n",
    "\n",
    "from sentiment_analysis_spanish import sentiment_analysis\n",
    "import nltk\n",
    "import pyLDAvis.gensim_models\n",
    "\n",
    "import random\n",
    "from wordcloud import WordCloud\n",
    "import warnings\n",
    "warnings.filterwarnings('ignore')\n",
    "%matplotlib inline"
   ]
  },
  {
   "cell_type": "code",
   "execution_count": 2,
   "metadata": {},
   "outputs": [
    {
     "data": {
      "text/html": [
       "<div>\n",
       "<style scoped>\n",
       "    .dataframe tbody tr th:only-of-type {\n",
       "        vertical-align: middle;\n",
       "    }\n",
       "\n",
       "    .dataframe tbody tr th {\n",
       "        vertical-align: top;\n",
       "    }\n",
       "\n",
       "    .dataframe thead th {\n",
       "        text-align: right;\n",
       "    }\n",
       "</style>\n",
       "<table border=\"1\" class=\"dataframe\">\n",
       "  <thead>\n",
       "    <tr style=\"text-align: right;\">\n",
       "      <th></th>\n",
       "      <th>StartDate</th>\n",
       "      <th>EndDate</th>\n",
       "      <th>Status</th>\n",
       "      <th>IPAddress</th>\n",
       "      <th>Progress</th>\n",
       "      <th>Duration (in seconds)</th>\n",
       "      <th>Finished</th>\n",
       "      <th>RecordedDate</th>\n",
       "      <th>ResponseId</th>\n",
       "      <th>RecipientLastName</th>\n",
       "      <th>...</th>\n",
       "      <th>Q15 - Topic Sentiment Label</th>\n",
       "      <th>Q15 - Topic Sentiment Score</th>\n",
       "      <th>Q15 - Topics</th>\n",
       "      <th>Q20 - Parent Topics</th>\n",
       "      <th>Q20 - Sentiment Polarity</th>\n",
       "      <th>Q20 - Sentiment Score</th>\n",
       "      <th>Q20 - Sentiment</th>\n",
       "      <th>Q20 - Topic Sentiment Label</th>\n",
       "      <th>Q20 - Topic Sentiment Score</th>\n",
       "      <th>Q20 - Topics</th>\n",
       "    </tr>\n",
       "  </thead>\n",
       "  <tbody>\n",
       "    <tr>\n",
       "      <th>0</th>\n",
       "      <td>Fecha de inicio</td>\n",
       "      <td>Fecha de finalización</td>\n",
       "      <td>Tipo de respuesta</td>\n",
       "      <td>Dirección IP</td>\n",
       "      <td>Progreso</td>\n",
       "      <td>Duración (en segundos)</td>\n",
       "      <td>Finalizado</td>\n",
       "      <td>Fecha registrada</td>\n",
       "      <td>ID de respuesta</td>\n",
       "      <td>Apellido del destinatario</td>\n",
       "      <td>...</td>\n",
       "      <td>Q15 - Topic Sentiment Label</td>\n",
       "      <td>Q15 - Topic Sentiment Score</td>\n",
       "      <td>Q15 - Topics</td>\n",
       "      <td>Q20 - Parent Topics</td>\n",
       "      <td>Q20 - Sentiment Polarity</td>\n",
       "      <td>Q20 - Sentiment Score</td>\n",
       "      <td>Q20 - Sentiment</td>\n",
       "      <td>Q20 - Topic Sentiment Label</td>\n",
       "      <td>Q20 - Topic Sentiment Score</td>\n",
       "      <td>Q20 - Topics</td>\n",
       "    </tr>\n",
       "    <tr>\n",
       "      <th>1</th>\n",
       "      <td>2021-05-01 00:01:09</td>\n",
       "      <td>2021-05-01 00:02:59</td>\n",
       "      <td>IP Address</td>\n",
       "      <td>181.78.16.235</td>\n",
       "      <td>100</td>\n",
       "      <td>110</td>\n",
       "      <td>True</td>\n",
       "      <td>2021-05-01 00:02:59.714000</td>\n",
       "      <td>R_3ISGyOV01BzngPO</td>\n",
       "      <td>NaN</td>\n",
       "      <td>...</td>\n",
       "      <td>NaN</td>\n",
       "      <td>NaN</td>\n",
       "      <td>NaN</td>\n",
       "      <td>NaN</td>\n",
       "      <td>NaN</td>\n",
       "      <td>NaN</td>\n",
       "      <td>NaN</td>\n",
       "      <td>NaN</td>\n",
       "      <td>NaN</td>\n",
       "      <td>NaN</td>\n",
       "    </tr>\n",
       "  </tbody>\n",
       "</table>\n",
       "<p>2 rows × 53 columns</p>\n",
       "</div>"
      ],
      "text/plain": [
       "             StartDate                EndDate             Status  \\\n",
       "0      Fecha de inicio  Fecha de finalización  Tipo de respuesta   \n",
       "1  2021-05-01 00:01:09    2021-05-01 00:02:59         IP Address   \n",
       "\n",
       "       IPAddress  Progress   Duration (in seconds)    Finished  \\\n",
       "0   Dirección IP  Progreso  Duración (en segundos)  Finalizado   \n",
       "1  181.78.16.235       100                     110        True   \n",
       "\n",
       "                 RecordedDate         ResponseId          RecipientLastName  \\\n",
       "0            Fecha registrada    ID de respuesta  Apellido del destinatario   \n",
       "1  2021-05-01 00:02:59.714000  R_3ISGyOV01BzngPO                        NaN   \n",
       "\n",
       "   ...  Q15 - Topic Sentiment Label  Q15 - Topic Sentiment Score  \\\n",
       "0  ...  Q15 - Topic Sentiment Label  Q15 - Topic Sentiment Score   \n",
       "1  ...                          NaN                          NaN   \n",
       "\n",
       "   Q15 - Topics  Q20 - Parent Topics  Q20 - Sentiment Polarity  \\\n",
       "0  Q15 - Topics  Q20 - Parent Topics  Q20 - Sentiment Polarity   \n",
       "1           NaN                  NaN                       NaN   \n",
       "\n",
       "   Q20 - Sentiment Score  Q20 - Sentiment  Q20 - Topic Sentiment Label  \\\n",
       "0  Q20 - Sentiment Score  Q20 - Sentiment  Q20 - Topic Sentiment Label   \n",
       "1                    NaN              NaN                          NaN   \n",
       "\n",
       "   Q20 - Topic Sentiment Score  Q20 - Topics  \n",
       "0  Q20 - Topic Sentiment Score  Q20 - Topics  \n",
       "1                          NaN           NaN  \n",
       "\n",
       "[2 rows x 53 columns]"
      ]
     },
     "execution_count": 2,
     "metadata": {},
     "output_type": "execute_result"
    }
   ],
   "source": [
    "#df = pd.read_excel('Resultados Touchpoint APP Personas del 1abr al 24 May.xlsx')\n",
    "df = pd.read_excel('Touchpoint APP Personas 1 May al 31Jul.xlsx')\n",
    "df.head(2)"
   ]
  },
  {
   "cell_type": "code",
   "execution_count": 3,
   "metadata": {},
   "outputs": [
    {
     "data": {
      "text/plain": [
       "44489"
      ]
     },
     "execution_count": 3,
     "metadata": {},
     "output_type": "execute_result"
    }
   ],
   "source": [
    "len(df)"
   ]
  },
  {
   "cell_type": "code",
   "execution_count": 4,
   "metadata": {},
   "outputs": [
    {
     "data": {
      "text/html": [
       "<div>\n",
       "<style scoped>\n",
       "    .dataframe tbody tr th:only-of-type {\n",
       "        vertical-align: middle;\n",
       "    }\n",
       "\n",
       "    .dataframe tbody tr th {\n",
       "        vertical-align: top;\n",
       "    }\n",
       "\n",
       "    .dataframe thead th {\n",
       "        text-align: right;\n",
       "    }\n",
       "</style>\n",
       "<table border=\"1\" class=\"dataframe\">\n",
       "  <thead>\n",
       "    <tr style=\"text-align: right;\">\n",
       "      <th></th>\n",
       "      <th>StartDate</th>\n",
       "      <th>EndDate</th>\n",
       "      <th>Status</th>\n",
       "      <th>IPAddress</th>\n",
       "      <th>Progress</th>\n",
       "      <th>Duration (in seconds)</th>\n",
       "      <th>Finished</th>\n",
       "      <th>RecordedDate</th>\n",
       "      <th>ResponseId</th>\n",
       "      <th>RecipientLastName</th>\n",
       "      <th>...</th>\n",
       "      <th>Q15 - Topic Sentiment Label</th>\n",
       "      <th>Q15 - Topic Sentiment Score</th>\n",
       "      <th>Q15 - Topics</th>\n",
       "      <th>Q20 - Parent Topics</th>\n",
       "      <th>Q20 - Sentiment Polarity</th>\n",
       "      <th>Q20 - Sentiment Score</th>\n",
       "      <th>Q20 - Sentiment</th>\n",
       "      <th>Q20 - Topic Sentiment Label</th>\n",
       "      <th>Q20 - Topic Sentiment Score</th>\n",
       "      <th>Q20 - Topics</th>\n",
       "    </tr>\n",
       "  </thead>\n",
       "  <tbody>\n",
       "    <tr>\n",
       "      <th>1</th>\n",
       "      <td>2021-05-01 00:01:09</td>\n",
       "      <td>2021-05-01 00:02:59</td>\n",
       "      <td>IP Address</td>\n",
       "      <td>181.78.16.235</td>\n",
       "      <td>100</td>\n",
       "      <td>110</td>\n",
       "      <td>True</td>\n",
       "      <td>2021-05-01 00:02:59.714000</td>\n",
       "      <td>R_3ISGyOV01BzngPO</td>\n",
       "      <td>NaN</td>\n",
       "      <td>...</td>\n",
       "      <td>NaN</td>\n",
       "      <td>NaN</td>\n",
       "      <td>NaN</td>\n",
       "      <td>NaN</td>\n",
       "      <td>NaN</td>\n",
       "      <td>NaN</td>\n",
       "      <td>NaN</td>\n",
       "      <td>NaN</td>\n",
       "      <td>NaN</td>\n",
       "      <td>NaN</td>\n",
       "    </tr>\n",
       "    <tr>\n",
       "      <th>2</th>\n",
       "      <td>2021-04-30 00:08:19</td>\n",
       "      <td>2021-04-30 00:10:59</td>\n",
       "      <td>IP Address</td>\n",
       "      <td>191.156.153.227</td>\n",
       "      <td>38</td>\n",
       "      <td>160</td>\n",
       "      <td>False</td>\n",
       "      <td>2021-05-01 00:11:00.156000</td>\n",
       "      <td>R_22t2EpjmNZEoqFT</td>\n",
       "      <td>NaN</td>\n",
       "      <td>...</td>\n",
       "      <td>NaN</td>\n",
       "      <td>NaN</td>\n",
       "      <td>NaN</td>\n",
       "      <td>NaN</td>\n",
       "      <td>NaN</td>\n",
       "      <td>NaN</td>\n",
       "      <td>NaN</td>\n",
       "      <td>NaN</td>\n",
       "      <td>NaN</td>\n",
       "      <td>NaN</td>\n",
       "    </tr>\n",
       "  </tbody>\n",
       "</table>\n",
       "<p>2 rows × 53 columns</p>\n",
       "</div>"
      ],
      "text/plain": [
       "             StartDate              EndDate      Status        IPAddress  \\\n",
       "1  2021-05-01 00:01:09  2021-05-01 00:02:59  IP Address    181.78.16.235   \n",
       "2  2021-04-30 00:08:19  2021-04-30 00:10:59  IP Address  191.156.153.227   \n",
       "\n",
       "  Progress Duration (in seconds) Finished                RecordedDate  \\\n",
       "1      100                   110     True  2021-05-01 00:02:59.714000   \n",
       "2       38                   160    False  2021-05-01 00:11:00.156000   \n",
       "\n",
       "          ResponseId RecipientLastName  ... Q15 - Topic Sentiment Label  \\\n",
       "1  R_3ISGyOV01BzngPO               NaN  ...                         NaN   \n",
       "2  R_22t2EpjmNZEoqFT               NaN  ...                         NaN   \n",
       "\n",
       "  Q15 - Topic Sentiment Score Q15 - Topics Q20 - Parent Topics  \\\n",
       "1                         NaN          NaN                 NaN   \n",
       "2                         NaN          NaN                 NaN   \n",
       "\n",
       "  Q20 - Sentiment Polarity Q20 - Sentiment Score Q20 - Sentiment  \\\n",
       "1                      NaN                   NaN             NaN   \n",
       "2                      NaN                   NaN             NaN   \n",
       "\n",
       "  Q20 - Topic Sentiment Label Q20 - Topic Sentiment Score Q20 - Topics  \n",
       "1                         NaN                         NaN          NaN  \n",
       "2                         NaN                         NaN          NaN  \n",
       "\n",
       "[2 rows x 53 columns]"
      ]
     },
     "execution_count": 4,
     "metadata": {},
     "output_type": "execute_result"
    }
   ],
   "source": [
    "df = df.drop([0], axis=0)\n",
    "df.head(2)"
   ]
  },
  {
   "cell_type": "code",
   "execution_count": 5,
   "metadata": {},
   "outputs": [
    {
     "data": {
      "text/plain": [
       "Promotor     24178\n",
       "Detractor     8721\n",
       "Pasivo        7740\n",
       "Name: Q2_NPS_GROUP, dtype: int64"
      ]
     },
     "execution_count": 5,
     "metadata": {},
     "output_type": "execute_result"
    }
   ],
   "source": [
    "df.Q2_NPS_GROUP.value_counts()"
   ]
  },
  {
   "cell_type": "code",
   "execution_count": 6,
   "metadata": {
    "scrolled": false
   },
   "outputs": [
    {
     "data": {
      "image/png": "[encoded data removed]",
      "text/plain": [
       "<Figure size 432x288 with 1 Axes>"
      ]
     },
     "metadata": {},
     "output_type": "display_data"
    }
   ],
   "source": [
    "A = df.Q2_NPS_GROUP.value_counts()\n",
    "indices = A.index\n",
    "plt.pie(A, labels=indices, autopct=\"%0.1f %%\")\n",
    "plt.axis(\"equal\")\n",
    "plt.show()"
   ]
  },
  {
   "cell_type": "markdown",
   "metadata": {},
   "source": [
    "####  Funciones para Limpieza de texto"
   ]
  },
  {
   "cell_type": "code",
   "execution_count": 7,
   "metadata": {},
   "outputs": [],
   "source": [
    "def limpiar_texto(texto):\n",
    "    \"\"\"\n",
    "    Función para realizar la limpieza de un texto dado.\n",
    "    \"\"\"\n",
    "    # Eliminamos los caracteres especiales\n",
    "    texto = re.sub(r'\\W', ' ', str(texto))\n",
    "    # Eliminamos comas y /\n",
    "    texto = re.sub(r',', ' ', str(texto))\n",
    "    texto = re.sub(r'/', ' ', str(texto))\n",
    "    # Eliminado las palabras que tengo un solo caracter\n",
    "    texto = re.sub(r'\\s+[a-zA-Z]\\s+', ' ', texto)\n",
    "    # Sustituir los espacios en blanco en uno solo\n",
    "    texto = re.sub(r'\\s+', ' ', texto, flags=re.I)\n",
    "    # Convertimos textos a minusculas\n",
    "    texto = texto.lower()\n",
    "    return texto"
   ]
  },
  {
   "cell_type": "code",
   "execution_count": 8,
   "metadata": {},
   "outputs": [
    {
     "name": "stderr",
     "output_type": "stream",
     "text": [
      "[nltk_data] Downloading package stopwords to\n",
      "[nltk_data]     C:\\Users\\CristhianJohnatanIzq\\AppData\\Roaming\\nltk_dat\n",
      "[nltk_data]     a...\n",
      "[nltk_data]   Package stopwords is already up-to-date!\n"
     ]
    }
   ],
   "source": [
    "nltk.download('stopwords')\n",
    "STOPWORDS = set(stopwords.words(\"spanish\"))\n",
    "def filtrar_stopword_digitos(tokens):\n",
    "    \"\"\"\n",
    "    Filtra stopwords y digitos de una lista de tokens.\n",
    "    \"\"\"\n",
    "    return [token for token in tokens if token not in STOPWORDS \n",
    "            and not token.isdigit()]"
   ]
  },
  {
   "cell_type": "code",
   "execution_count": 9,
   "metadata": {},
   "outputs": [],
   "source": [
    "stemmer = SnowballStemmer(\"spanish\")\n",
    "def stem_palabras(tokens):\n",
    "    \"\"\"\n",
    "    Reduce cada palabra de una lista dada a su raíz.\n",
    "    \"\"\"\n",
    "    return [stemmer.stem(token) for token in tokens]"
   ]
  },
  {
   "cell_type": "code",
   "execution_count": 10,
   "metadata": {},
   "outputs": [],
   "source": [
    "def Limpiar_Caracter(texto):\n",
    "    if len(texto) == 1 or texto == ',':\n",
    "        texto = ''\n",
    "    else:\n",
    "        texto = texto\n",
    "    return texto"
   ]
  },
  {
   "cell_type": "markdown",
   "metadata": {},
   "source": [
    "###  Seleccion de Preguntas"
   ]
  },
  {
   "cell_type": "code",
   "execution_count": 11,
   "metadata": {},
   "outputs": [],
   "source": [
    "Qs=['Q4','Q10','Q12','Q15','Q18','Q20']"
   ]
  },
  {
   "cell_type": "markdown",
   "metadata": {},
   "source": [
    "###  Analisis de sentimientos"
   ]
  },
  {
   "cell_type": "code",
   "execution_count": 12,
   "metadata": {},
   "outputs": [],
   "source": [
    "sentiment = sentiment_analysis.SentimentAnalysisSpanish()"
   ]
  },
  {
   "cell_type": "code",
   "execution_count": 13,
   "metadata": {},
   "outputs": [],
   "source": [
    "dfSent=df.fillna('')"
   ]
  },
  {
   "cell_type": "code",
   "execution_count": 14,
   "metadata": {
    "scrolled": true
   },
   "outputs": [
    {
     "data": {
      "text/html": [
       "<div>\n",
       "<style scoped>\n",
       "    .dataframe tbody tr th:only-of-type {\n",
       "        vertical-align: middle;\n",
       "    }\n",
       "\n",
       "    .dataframe tbody tr th {\n",
       "        vertical-align: top;\n",
       "    }\n",
       "\n",
       "    .dataframe thead th {\n",
       "        text-align: right;\n",
       "    }\n",
       "</style>\n",
       "<table border=\"1\" class=\"dataframe\">\n",
       "  <thead>\n",
       "    <tr style=\"text-align: right;\">\n",
       "      <th></th>\n",
       "      <th>StartDate</th>\n",
       "      <th>EndDate</th>\n",
       "      <th>Status</th>\n",
       "      <th>IPAddress</th>\n",
       "      <th>Progress</th>\n",
       "      <th>Duration (in seconds)</th>\n",
       "      <th>Finished</th>\n",
       "      <th>RecordedDate</th>\n",
       "      <th>ResponseId</th>\n",
       "      <th>RecipientLastName</th>\n",
       "      <th>...</th>\n",
       "      <th>Tokens_Q10</th>\n",
       "      <th>Sent_Q10</th>\n",
       "      <th>Tokens_Q12</th>\n",
       "      <th>Sent_Q12</th>\n",
       "      <th>Tokens_Q15</th>\n",
       "      <th>Sent_Q15</th>\n",
       "      <th>Tokens_Q18</th>\n",
       "      <th>Sent_Q18</th>\n",
       "      <th>Tokens_Q20</th>\n",
       "      <th>Sent_Q20</th>\n",
       "    </tr>\n",
       "  </thead>\n",
       "  <tbody>\n",
       "    <tr>\n",
       "      <th>1</th>\n",
       "      <td>2021-05-01 00:01:09</td>\n",
       "      <td>2021-05-01 00:02:59</td>\n",
       "      <td>IP Address</td>\n",
       "      <td>181.78.16.235</td>\n",
       "      <td>100</td>\n",
       "      <td>110</td>\n",
       "      <td>True</td>\n",
       "      <td>2021-05-01 00:02:59.714</td>\n",
       "      <td>R_3ISGyOV01BzngPO</td>\n",
       "      <td></td>\n",
       "      <td>...</td>\n",
       "      <td></td>\n",
       "      <td></td>\n",
       "      <td></td>\n",
       "      <td></td>\n",
       "      <td></td>\n",
       "      <td></td>\n",
       "      <td></td>\n",
       "      <td></td>\n",
       "      <td></td>\n",
       "      <td></td>\n",
       "    </tr>\n",
       "    <tr>\n",
       "      <th>2</th>\n",
       "      <td>2021-04-30 00:08:19</td>\n",
       "      <td>2021-04-30 00:10:59</td>\n",
       "      <td>IP Address</td>\n",
       "      <td>191.156.153.227</td>\n",
       "      <td>38</td>\n",
       "      <td>160</td>\n",
       "      <td>False</td>\n",
       "      <td>2021-05-01 00:11:00.156</td>\n",
       "      <td>R_22t2EpjmNZEoqFT</td>\n",
       "      <td></td>\n",
       "      <td>...</td>\n",
       "      <td></td>\n",
       "      <td></td>\n",
       "      <td></td>\n",
       "      <td></td>\n",
       "      <td></td>\n",
       "      <td></td>\n",
       "      <td></td>\n",
       "      <td></td>\n",
       "      <td></td>\n",
       "      <td></td>\n",
       "    </tr>\n",
       "  </tbody>\n",
       "</table>\n",
       "<p>2 rows × 65 columns</p>\n",
       "</div>"
      ],
      "text/plain": [
       "            StartDate             EndDate      Status        IPAddress  \\\n",
       "1 2021-05-01 00:01:09 2021-05-01 00:02:59  IP Address    181.78.16.235   \n",
       "2 2021-04-30 00:08:19 2021-04-30 00:10:59  IP Address  191.156.153.227   \n",
       "\n",
       "   Progress  Duration (in seconds) Finished            RecordedDate  \\\n",
       "1       100                    110     True 2021-05-01 00:02:59.714   \n",
       "2        38                    160    False 2021-05-01 00:11:00.156   \n",
       "\n",
       "          ResponseId RecipientLastName  ... Tokens_Q10 Sent_Q10 Tokens_Q12  \\\n",
       "1  R_3ISGyOV01BzngPO                    ...                                  \n",
       "2  R_22t2EpjmNZEoqFT                    ...                                  \n",
       "\n",
       "  Sent_Q12 Tokens_Q15 Sent_Q15 Tokens_Q18 Sent_Q18 Tokens_Q20 Sent_Q20  \n",
       "1                                                                       \n",
       "2                                                                       \n",
       "\n",
       "[2 rows x 65 columns]"
      ]
     },
     "execution_count": 14,
     "metadata": {},
     "output_type": "execute_result"
    }
   ],
   "source": [
    "tokenizer = ToktokTokenizer() \n",
    "Lista_general=[]\n",
    "for column in Qs:\n",
    "    dfSent[\"Tokens_\"+column]=dfSent[column].apply(limpiar_texto)\n",
    "    dfSent[\"Sent_\"+column] =  np.where(dfSent[\"Tokens_\"+column]!='', dfSent[column].apply(sentiment.sentiment)*2-1,'')\n",
    "    \n",
    "dfSent.head(2)"
   ]
  },
  {
   "cell_type": "markdown",
   "metadata": {},
   "source": [
    "##### Fin Analisis de Sentimiento"
   ]
  },
  {
   "cell_type": "markdown",
   "metadata": {},
   "source": [
    "####  Preprocesamiento"
   ]
  },
  {
   "cell_type": "code",
   "execution_count": 15,
   "metadata": {},
   "outputs": [
    {
     "name": "stdout",
     "output_type": "stream",
     "text": [
      "Q4 3098\n",
      "Q10 764\n",
      "Q12 2055\n",
      "Q15 5434\n",
      "Q18 4412\n",
      "Q20 1366\n"
     ]
    }
   ],
   "source": [
    "tokenizer = ToktokTokenizer() \n",
    "Lista_general=[]\n",
    "dfc = dfSent[dfSent['Q2_NPS_GROUP']!='Promotor']\n",
    "for column in Qs:    \n",
    "    dfc[\"Tokens_\"+column] = dfc[\"Tokens_\"+column].apply(tokenizer.tokenize)\n",
    "    dfc[\"Tokens_\"+column] = dfc[\"Tokens_\"+column].apply(filtrar_stopword_digitos)\n",
    "    dfc[\"Tokens_\"+column] = dfc[\"Tokens_\"+column].apply(stem_palabras)\n",
    "    #solo ciertas Qs son agregadas\n",
    "    if column in ('Q4','Q10','Q12','Q15','Q18','Q20') :\n",
    "        listAux = dfc[\"Tokens_\"+column].tolist()\n",
    "        listAux = [x for x in listAux if x!= []]\n",
    "        #print(\"Qs\")\n",
    "        print(column, len(listAux))\n",
    "        Lista_general = Lista_general+listAux"
   ]
  },
  {
   "cell_type": "markdown",
   "metadata": {},
   "source": [
    "###  Modelo de Tópicos"
   ]
  },
  {
   "cell_type": "code",
   "execution_count": 16,
   "metadata": {},
   "outputs": [],
   "source": [
    "### Funciones para modelo de tópicos\n",
    "def make_bigrams(texts,bigram_mod):\n",
    "    return [bigram_mod[doc] for doc in texts]\n",
    "\n",
    "def make_trigrams(texts,bigram_mod,trigram_mod):\n",
    "    return [trigram_mod[bigram_mod[doc]] for doc in texts]\n",
    "\n",
    "def impresionTopicos(mod,nPalabras,nTopicos):\n",
    "    topicos = mod.print_topics(num_words=nPalabras, num_topics=nTopicos)\n",
    "    for topico in topicos:\n",
    "        print(topico)    \n",
    "        \n",
    "def impresionTopicosLimp(mod,nPalabras,nTopicos):\n",
    "    #Impresion limpia de Tópicos\n",
    "    topicos = mod.print_topics(num_words=nPalabras, num_topics=nTopicos)\n",
    "    i=0\n",
    "    for topico in topicos:\n",
    "        i=i+1\n",
    "        textoAux = re.sub(r'\\W', ' ', str(topico))\n",
    "        textoAux = re.sub(r'\\s+[a-zA-Z]\\s+', ' ', textoAux)\n",
    "        textoAux = re.sub(r'[0-9]', ' ', textoAux)\n",
    "        textoAux = re.sub(r'\\s+', ' ', textoAux, flags=re.I)\n",
    "        print(str(i),textoAux)"
   ]
  },
  {
   "cell_type": "code",
   "execution_count": 17,
   "metadata": {
    "scrolled": true
   },
   "outputs": [
    {
     "name": "stdout",
     "output_type": "stream",
     "text": [
      "Número de tokens: 4753\n",
      "Número de tokens: 2272\n"
     ]
    }
   ],
   "source": [
    "bigram = gensim.models.Phrases(Lista_general, min_count=5, threshold=10) \n",
    "trigram = gensim.models.Phrases(bigram[Lista_general], threshold=10)  \n",
    "\n",
    "bigram_mod = gensim.models.phrases.Phraser(bigram)\n",
    "trigram_mod = gensim.models.phrases.Phraser(trigram)\n",
    "\n",
    "data_words_bigrams = make_bigrams(Lista_general,bigram_mod)\n",
    "\n",
    "diccionario = Dictionary(data_words_bigrams)\n",
    "print(f'Número de tokens: {len(diccionario)}')\n",
    "\n",
    "diccionario.filter_extremes(no_below=2, no_above = 0.9)\n",
    "print(f'Número de tokens: {len(diccionario)}')\n",
    "\n",
    "corpus = [diccionario.doc2bow(noticia) for noticia in data_words_bigrams]"
   ]
  },
  {
   "cell_type": "code",
   "execution_count": 18,
   "metadata": {},
   "outputs": [],
   "source": [
    "numeroTopicos=5"
   ]
  },
  {
   "cell_type": "code",
   "execution_count": 19,
   "metadata": {},
   "outputs": [],
   "source": [
    "lda = LdaModel(corpus=corpus, id2word=diccionario, \n",
    "               num_topics=numeroTopicos, random_state=35, \n",
    "               chunksize=1000, iterations=200, passes=40, alpha='auto')"
   ]
  },
  {
   "cell_type": "code",
   "execution_count": 20,
   "metadata": {
    "scrolled": true
   },
   "outputs": [
    {
     "name": "stdout",
     "output_type": "stream",
     "text": [
      "(0, '0.065*\"dat\" + 0.042*\"funcion\" + 0.035*\"bien\" + 0.022*\"sirv\" + 0.021*\"gust\"')\n",
      "(1, '0.096*\"servici\" + 0.062*\"buen\" + 0.050*\"internet\" + 0.042*\"mal\" + 0.039*\"señal\"')\n",
      "(2, '0.064*\"clar\" + 0.058*\"plan\" + 0.035*\"necesit\" + 0.034*\"inform\" + 0.032*\"opcion\"')\n",
      "(3, '0.082*\"app\" + 0.081*\"pag\" + 0.059*\"factur\" + 0.046*\"hac\" + 0.039*\"aplic\"')\n",
      "(4, '0.061*\"pued\" + 0.055*\"dej\" + 0.044*\"ingres\" + 0.043*\"ver\" + 0.037*\"pud\"')\n"
     ]
    }
   ],
   "source": [
    "impresionTopicos(lda,5,20)"
   ]
  },
  {
   "cell_type": "code",
   "execution_count": 21,
   "metadata": {},
   "outputs": [
    {
     "name": "stdout",
     "output_type": "stream",
     "text": [
      "1  dat funcion bien sirv gust nunc cancel cobr asesor moment tiemp pas lleg red usuari \n",
      "2  servici buen internet mal señal llam lent mejor graci demor excelent pesim client rap vec \n",
      "3  clar plan necesit inform opcion line cambi facil encuentr solucion telefon encontr benefici sab ten \n",
      "4  app pag factur hac aplic recarg consult si compr sald realiz quier activ sal compr_paquet \n",
      "5  pued dej ingres ver pud registr equip pod cuent clar_hog numer celul permit dic aparec \n"
     ]
    }
   ],
   "source": [
    "impresionTopicosLimp(lda,15,20)\n",
    "#Guardar tabla de palabras"
   ]
  },
  {
   "cell_type": "code",
   "execution_count": 22,
   "metadata": {
    "scrolled": false
   },
   "outputs": [
    {
     "data": {
      "text/html": [
       "\n",
       "<link rel=\"stylesheet\" type=\"text/css\" href=\"https://cdn.jsdelivr.net/gh/bmabey/pyLDAvis@3.3.1/pyLDAvis/js/ldavis.v1.0.0.css\">\n",
       "\n",
       "\n",
       "<div id=\"ldavis_el258428969817312485451056221\"></div>\n",
       "<script type=\"text/javascript\">\n",
       "\n",
       "var ldavis_el258428969817312485451056221_data = {\"mdsDat\": {\"x\": [-0.0466094207068232, -0.06423133519934315, -0.05936676277819012, -0.22495862702562788, 0.3951661457099846], \"y\": [0.10650668345683861, 0.19617122963781286, 0.16864608413773716, -0.34481417879631476, -0.12650981843607376], \"topics\": [1, 2, 3, 4, 5], \"cluster\": [1, 1, 1, 1, 1], \"Freq\": [16.545458531437138, 17.009920632948134, 18.56966038490709, 23.367458014479798, 24.507502436227842]}, \"tinfo\": {\"Term\": [\"servici\", \"app\", \"pag\", \"pued\", \"clar\", \"factur\", \"dat\", \"dej\", \"buen\", \"plan\", \"hac\", \"internet\", \"ingres\", \"ver\", \"aplic\", \"recarg\", \"mal\", \"funcion\", \"pud\", \"registr\", \"se\\u00f1al\", \"llam\", \"consult\", \"lent\", \"mejor\", \"necesit\", \"inform\", \"bien\", \"graci\", \"equip\", \"dat\", \"funcion\", \"bien\", \"sirv\", \"nunc\", \"cancel\", \"gust\", \"cobr\", \"asesor\", \"moment\", \"tiemp\", \"pas\", \"lleg\", \"red\", \"usuari\", \"chat\", \"cae\", \"utiliz\", \"cos\", \"parec\", \"esper\", \"hoy\", \"ofrec\", \"pon\", \"dia\", \"conect\", \"segu\", \"ayud\", \"asi\", \"contest\", \"servici\", \"buen\", \"internet\", \"mal\", \"se\\u00f1al\", \"llam\", \"lent\", \"mejor\", \"graci\", \"demor\", \"excelent\", \"pesim\", \"client\", \"rap\", \"vec\", \"fall\", \"mas\", \"atencion\", \"cobertur\", \"tecnic\", \"avec\", \"problem\", \"much\", \"tard\", \"naveg\", \"cort\", \"contrat\", \"habl\", \"sid\", \"reflej\", \"clar\", \"plan\", \"necesit\", \"inform\", \"opcion\", \"line\", \"cambi\", \"encuentr\", \"facil\", \"solucion\", \"encontr\", \"telefon\", \"benefici\", \"sab\", \"ten\", \"busc\", \"amig\", \"cambi_numer\", \"usted\", \"dias\", \"respuest\", \"oper\", \"solicit\", \"tod\", \"da\", \"famili\", \"posibl\", \"prepag\", \"fij\", \"mism\", \"app\", \"pag\", \"factur\", \"hac\", \"recarg\", \"aplic\", \"consult\", \"si\", \"compr\", \"sald\", \"realiz\", \"quier\", \"activ\", \"sal\", \"compr_paquet\", \"deb\", \"carg\", \"siempr\", \"consum\", \"paquet\", \"mir\", \"qued\", \"minut\", \"hor\", \"aplicacion\", \"medi\", \"equip_financi\", \"error\", \"valor\", \"mes\", \"pued\", \"dej\", \"ingres\", \"ver\", \"pud\", \"registr\", \"equip\", \"pod\", \"cuent\", \"clar_hog\", \"numer\", \"celul\", \"permit\", \"dic\", \"aparec\", \"hog\", \"actualiz\", \"sol\", \"ningun\", \"eleg\", \"movil\", \"entrar\", \"famili_amig\", \"wifi\", \"product\", \"ahor\", \"intent\", \"nuev\", \"acced\", \"muestr\"], \"Freq\": [1203.0, 1416.0, 1397.0, 1105.0, 880.0, 1021.0, 790.0, 988.0, 781.0, 791.0, 792.0, 627.0, 792.0, 782.0, 669.0, 665.0, 532.0, 519.0, 664.0, 659.0, 495.0, 484.0, 575.0, 465.0, 461.0, 475.0, 472.0, 433.0, 428.0, 537.0, 789.3817664360873, 519.0884030628713, 432.22739002362385, 274.1532310500087, 249.65630969151516, 248.53984182672673, 251.33988645009163, 219.44532589786616, 216.19093793639473, 191.25614717326766, 156.38685678195046, 153.39036676793935, 151.15507273668277, 138.96011246655706, 118.8979147566259, 116.13779037039053, 113.58558388587142, 111.03763829424227, 107.9976621086777, 105.62114340291838, 102.8170087780896, 102.54088241184868, 101.57796618976336, 100.39613805088473, 98.261988958337, 96.58848340113683, 97.43430481808026, 94.13854973873863, 92.62355167559754, 91.40425274336303, 1202.8925321752326, 781.0385503370853, 626.6540295251533, 532.0688719488459, 494.5659469224388, 483.1548507180714, 464.15798627142715, 460.4948072386298, 428.0984725026324, 226.30434082355944, 218.36644563746057, 211.09309869971776, 192.19793456750963, 189.78665443008293, 185.93028813639546, 177.1409236702595, 169.34701120503624, 162.07330117737663, 148.97463331522007, 123.03908542091513, 97.24841625969985, 94.2298916615917, 91.15834422305369, 85.55389909383008, 83.72358039214018, 75.62295064784996, 71.39524878248422, 67.65867873618271, 66.13768336215611, 64.84476701876574, 879.8566825439672, 791.0657977447256, 474.6487975013694, 471.6366900303657, 440.3938236820495, 361.4020315323337, 307.4673452233631, 286.9549199419, 288.82641393890293, 258.35010265276276, 240.2795548247421, 240.6021856392346, 208.26553024790496, 201.96974127811512, 163.54025819309106, 160.95988936552973, 161.49948275375036, 132.52951929429523, 124.80554681967328, 124.3554850168631, 119.01279442538078, 116.89909715919121, 115.10896412733634, 112.22784231199451, 105.75532372098922, 102.51436855648602, 101.07132705361808, 99.87490658097063, 98.10796839286533, 96.46254100969512, 1416.0278312601852, 1396.44630465893, 1020.3492601577836, 792.0053201739506, 664.6020175451241, 668.6799844106938, 574.6632213226831, 416.02058532985524, 396.13122085486054, 372.9331302140529, 357.10995457182537, 346.56044138754385, 257.98409968092875, 254.15699525992707, 249.46634542570487, 246.52600458914503, 244.40554033926747, 236.4457623429577, 232.79487788814862, 228.83646127356604, 161.79609164423624, 148.01716093305373, 132.17646305350118, 128.95946716775254, 127.61484864832222, 123.91461552328738, 123.29437820162836, 113.46688899953676, 107.65051184567281, 101.99102227219244, 1104.2766073700818, 988.0570157946796, 791.3267282545445, 781.5285071107602, 664.000614025897, 658.4990246013223, 536.2049638721742, 515.3266129081959, 504.980791104237, 470.20482476620526, 463.29439131342315, 444.463881191155, 374.369241666672, 368.54570692946834, 363.9397525569152, 356.2165075972621, 329.040394661805, 317.3375019829644, 316.10945898628586, 302.94679288655976, 299.4642889408312, 276.33125765003444, 268.0302053990292, 211.2711185309284, 170.96068985349848, 167.89876684008206, 162.6351179180793, 159.45484903625598, 151.60168181211336, 131.06599892226453], \"Total\": [1203.0, 1416.0, 1397.0, 1105.0, 880.0, 1021.0, 790.0, 988.0, 781.0, 791.0, 792.0, 627.0, 792.0, 782.0, 669.0, 665.0, 532.0, 519.0, 664.0, 659.0, 495.0, 484.0, 575.0, 465.0, 461.0, 475.0, 472.0, 433.0, 428.0, 537.0, 790.2222607708258, 519.92422157224, 433.07427287641656, 274.98948684283266, 250.4915131933269, 249.38028421176512, 252.2063389026932, 220.2828231033128, 217.0294913876235, 192.10081020790705, 157.22646472723815, 154.22855062523436, 151.99331911271673, 139.80464293675158, 119.74216359927978, 116.97297562328912, 114.42270173466044, 111.88150059408864, 108.84235567746218, 106.4680648193013, 103.65553037006681, 103.38746650566105, 102.41865369221875, 101.2413868538713, 99.10251367820196, 97.42630006446183, 98.28577486902074, 94.9815039560657, 93.46557938964781, 92.24088205273664, 1203.7516354146544, 781.9133158420826, 627.5138545494733, 532.9228067086653, 495.42144850468947, 484.01623769585666, 465.0157012057524, 461.366094860477, 428.97479602213264, 227.16506882708435, 219.24604412387842, 211.94789179637698, 193.059028461628, 190.66027942445874, 186.78931545764542, 177.9994102218973, 170.21339689768504, 162.93446817428946, 149.83666704759034, 123.89849361543403, 98.11516444854747, 95.08943044322734, 92.01780355518537, 86.42355048857692, 84.58199471233354, 76.48303972165229, 72.2562100769634, 68.5235562517737, 67.02166774444609, 65.71417089587182, 880.6973944124449, 791.9006948088556, 475.48502203133273, 472.4719839756843, 441.22697180832677, 362.23722121234147, 308.2996955901683, 287.78961998075056, 289.6681345604418, 259.18396171548676, 241.11353667892308, 241.4391213682039, 209.10390731985137, 202.808557590117, 164.38081169889935, 161.7913231337179, 162.33665972962203, 133.36214503328566, 125.6457529473543, 125.194368504229, 119.84575725750143, 117.73363914903892, 115.94367129787437, 113.06735766499015, 106.5867157416193, 103.34816528754062, 101.90643429955668, 100.7096279122768, 98.9488059182514, 97.29828401842171, 1416.876313606614, 1397.2879384729977, 1021.1919715343895, 792.8488724839633, 665.4447112171135, 669.5286216739556, 575.5091122714416, 416.868045920597, 396.97685803708976, 373.77523636233155, 357.95327252224075, 347.4070877242428, 258.83129804912085, 254.9989579384789, 250.31033973167837, 247.37457510926595, 245.24703754405974, 237.29142432685492, 233.63987413333484, 229.6793727468828, 162.64078251314504, 148.86026599371803, 133.02394800404872, 129.81303843790212, 128.47669075890667, 124.75997304417497, 124.13715131643626, 114.3079275281947, 108.49362669944063, 102.83585245825644, 1105.1154012643572, 988.8915295130945, 792.1623222378914, 782.3675620868428, 664.8412358571275, 659.3332241825359, 537.043632634505, 516.1699451556326, 505.81692846436425, 471.04257643221695, 464.13005144026624, 445.3058788339131, 375.20530843066143, 369.3842844876548, 364.77595999084605, 357.05334090157123, 329.87958471343956, 318.1787141310944, 316.94951163514304, 303.7823729433358, 300.3033793881523, 277.1680951370825, 268.8669906279534, 212.11122713099928, 171.7968168082193, 168.74694455382823, 163.47724194269082, 160.29238724694622, 152.43863887706775, 131.90488131381014], \"Category\": [\"Default\", \"Default\", \"Default\", \"Default\", \"Default\", \"Default\", \"Default\", \"Default\", \"Default\", \"Default\", \"Default\", \"Default\", \"Default\", \"Default\", \"Default\", \"Default\", \"Default\", \"Default\", \"Default\", \"Default\", \"Default\", \"Default\", \"Default\", \"Default\", \"Default\", \"Default\", \"Default\", \"Default\", \"Default\", \"Default\", \"Topic1\", \"Topic1\", \"Topic1\", \"Topic1\", \"Topic1\", \"Topic1\", \"Topic1\", \"Topic1\", \"Topic1\", \"Topic1\", \"Topic1\", \"Topic1\", \"Topic1\", \"Topic1\", \"Topic1\", \"Topic1\", \"Topic1\", \"Topic1\", \"Topic1\", \"Topic1\", \"Topic1\", \"Topic1\", \"Topic1\", \"Topic1\", \"Topic1\", \"Topic1\", \"Topic1\", \"Topic1\", \"Topic1\", \"Topic1\", \"Topic2\", \"Topic2\", \"Topic2\", \"Topic2\", \"Topic2\", \"Topic2\", \"Topic2\", \"Topic2\", \"Topic2\", \"Topic2\", \"Topic2\", \"Topic2\", \"Topic2\", \"Topic2\", \"Topic2\", \"Topic2\", \"Topic2\", \"Topic2\", \"Topic2\", \"Topic2\", \"Topic2\", \"Topic2\", \"Topic2\", \"Topic2\", \"Topic2\", \"Topic2\", \"Topic2\", \"Topic2\", \"Topic2\", \"Topic2\", \"Topic3\", \"Topic3\", \"Topic3\", \"Topic3\", \"Topic3\", \"Topic3\", \"Topic3\", \"Topic3\", \"Topic3\", \"Topic3\", \"Topic3\", \"Topic3\", \"Topic3\", \"Topic3\", \"Topic3\", \"Topic3\", \"Topic3\", \"Topic3\", \"Topic3\", \"Topic3\", \"Topic3\", \"Topic3\", \"Topic3\", \"Topic3\", \"Topic3\", \"Topic3\", \"Topic3\", \"Topic3\", \"Topic3\", \"Topic3\", \"Topic4\", \"Topic4\", \"Topic4\", \"Topic4\", \"Topic4\", \"Topic4\", \"Topic4\", \"Topic4\", \"Topic4\", \"Topic4\", \"Topic4\", \"Topic4\", \"Topic4\", \"Topic4\", \"Topic4\", \"Topic4\", \"Topic4\", \"Topic4\", \"Topic4\", \"Topic4\", \"Topic4\", \"Topic4\", \"Topic4\", \"Topic4\", \"Topic4\", \"Topic4\", \"Topic4\", \"Topic4\", \"Topic4\", \"Topic4\", \"Topic5\", \"Topic5\", \"Topic5\", \"Topic5\", \"Topic5\", \"Topic5\", \"Topic5\", \"Topic5\", \"Topic5\", \"Topic5\", \"Topic5\", \"Topic5\", \"Topic5\", \"Topic5\", \"Topic5\", \"Topic5\", \"Topic5\", \"Topic5\", \"Topic5\", \"Topic5\", \"Topic5\", \"Topic5\", \"Topic5\", \"Topic5\", \"Topic5\", \"Topic5\", \"Topic5\", \"Topic5\", \"Topic5\", \"Topic5\"], \"logprob\": [30.0, 29.0, 28.0, 27.0, 26.0, 25.0, 24.0, 23.0, 22.0, 21.0, 20.0, 19.0, 18.0, 17.0, 16.0, 15.0, 14.0, 13.0, 12.0, 11.0, 10.0, 9.0, 8.0, 7.0, 6.0, 5.0, 4.0, 3.0, 2.0, 1.0, -2.7406, -3.1598, -3.3429, -3.7982, -3.8918, -3.8963, -3.8851, -4.0208, -4.0357, -4.1583, -4.3596, -4.3789, -4.3936, -4.4777, -4.6336, -4.6571, -4.6793, -4.702, -4.7298, -4.752, -4.7789, -4.7816, -4.7911, -4.8028, -4.8242, -4.8414, -4.8327, -4.8671, -4.8833, -4.8966, -2.3471, -2.7789, -2.9992, -3.1628, -3.2359, -3.2592, -3.2993, -3.3073, -3.3802, -4.0177, -4.0534, -4.0873, -4.181, -4.1937, -4.2142, -4.2626, -4.3076, -4.3515, -4.4358, -4.6271, -4.8623, -4.8938, -4.927, -4.9904, -5.012, -5.1138, -5.1713, -5.2251, -5.2478, -5.2676, -2.7475, -2.8539, -3.3647, -3.3711, -3.4396, -3.6373, -3.7989, -3.868, -3.8615, -3.973, -4.0455, -4.0442, -4.1885, -4.2192, -4.4302, -4.4461, -4.4428, -4.6405, -4.7005, -4.7042, -4.7481, -4.766, -4.7814, -4.8068, -4.8662, -4.8973, -4.9115, -4.9234, -4.9412, -4.9581, -2.5015, -2.5154, -2.8292, -3.0825, -3.2579, -3.2518, -3.4033, -3.7264, -3.7754, -3.8357, -3.8791, -3.9091, -4.2042, -4.2192, -4.2378, -4.2496, -4.2583, -4.2914, -4.307, -4.3241, -4.6708, -4.7598, -4.873, -4.8976, -4.9081, -4.9375, -4.9425, -5.0256, -5.0782, -5.1322, -2.7978, -2.909, -3.131, -3.1435, -3.3065, -3.3148, -3.5202, -3.5599, -3.5802, -3.6516, -3.6664, -3.7079, -3.8795, -3.8952, -3.9078, -3.9292, -4.0086, -4.0448, -4.0487, -4.0912, -4.1028, -4.1832, -4.2137, -4.4516, -4.6633, -4.6814, -4.7132, -4.733, -4.7835, -4.929], \"loglift\": [30.0, 29.0, 28.0, 27.0, 26.0, 25.0, 24.0, 23.0, 22.0, 21.0, 20.0, 19.0, 18.0, 17.0, 16.0, 15.0, 14.0, 13.0, 12.0, 11.0, 10.0, 9.0, 8.0, 7.0, 6.0, 5.0, 4.0, 3.0, 2.0, 1.0, 1.798, 1.7974, 1.7971, 1.796, 1.7957, 1.7957, 1.7956, 1.7952, 1.7952, 1.7947, 1.7937, 1.7936, 1.7935, 1.793, 1.792, 1.7919, 1.7917, 1.7915, 1.7913, 1.7911, 1.7909, 1.7908, 1.7908, 1.7907, 1.7905, 1.7904, 1.7904, 1.7901, 1.79, 1.7899, 1.7707, 1.7703, 1.77, 1.7698, 1.7696, 1.7696, 1.7695, 1.7695, 1.7693, 1.7676, 1.7674, 1.7673, 1.7669, 1.7668, 1.7668, 1.7665, 1.7663, 1.7661, 1.7656, 1.7644, 1.7625, 1.7623, 1.762, 1.7613, 1.7612, 1.7601, 1.7594, 1.7587, 1.7581, 1.7581, 1.6827, 1.6826, 1.6819, 1.6819, 1.6818, 1.6813, 1.6809, 1.6807, 1.6807, 1.6804, 1.6802, 1.6802, 1.6796, 1.6795, 1.6785, 1.6785, 1.6785, 1.6774, 1.6769, 1.6769, 1.6767, 1.6765, 1.6764, 1.6762, 1.6758, 1.6755, 1.6754, 1.6753, 1.6751, 1.675, 1.4532, 1.4532, 1.453, 1.4528, 1.4526, 1.4526, 1.4524, 1.4518, 1.4517, 1.4516, 1.4515, 1.4514, 1.4505, 1.4505, 1.4504, 1.4504, 1.4504, 1.4503, 1.4502, 1.4501, 1.4486, 1.4481, 1.4474, 1.4472, 1.4471, 1.447, 1.447, 1.4464, 1.446, 1.4456, 1.4054, 1.4053, 1.4051, 1.4051, 1.4049, 1.4049, 1.4046, 1.4046, 1.4045, 1.4044, 1.4044, 1.4043, 1.404, 1.4039, 1.4039, 1.4038, 1.4036, 1.4035, 1.4035, 1.4034, 1.4034, 1.4032, 1.4031, 1.4022, 1.4013, 1.4012, 1.401, 1.401, 1.4007, 1.3998]}, \"token.table\": {\"Topic\": [5, 4, 5, 5, 3, 5, 4, 4, 4, 1, 1, 2, 2, 1, 3, 1, 2, 3, 1, 3, 3, 1, 4, 5, 1, 3, 5, 2, 2, 1, 4, 4, 1, 4, 4, 1, 2, 2, 1, 5, 3, 1, 4, 5, 2, 1, 3, 5, 5, 3, 3, 5, 5, 4, 4, 1, 2, 3, 4, 2, 3, 5, 3, 1, 2, 1, 2, 4, 5, 4, 1, 3, 5, 5, 2, 2, 3, 2, 1, 2, 2, 4, 2, 4, 4, 4, 3, 1, 5, 2, 5, 2, 3, 5, 5, 5, 1, 1, 3, 3, 4, 4, 1, 1, 5, 2, 3, 5, 1, 3, 3, 2, 5, 5, 5, 4, 4, 2, 4, 4, 1, 2, 5, 3, 3, 4, 4, 1, 2, 2, 4, 2, 4, 1, 5, 3, 3, 2, 2, 3, 3, 1, 3, 3, 1, 1, 4, 2, 5, 5], \"Freq\": [0.9971225216893895, 0.9967882630292915, 0.997333618828811, 0.9955735817569724, 0.9917661252125781, 0.9978727765095443, 0.9992104569441199, 0.9962896712540549, 0.9993815172162887, 0.9952564447299709, 0.9950187074997218, 0.9942647606442004, 0.9886341275090837, 0.9896663675011959, 0.9947207714384657, 0.9975194257805217, 0.9988319474504677, 0.995108989045946, 0.9963057878528279, 0.9957843111467225, 0.9972844990368499, 0.9984750830926065, 0.9949151779505768, 0.9970674565596738, 0.9916820477712512, 0.9992081338983521, 0.9977866620038603, 0.9945144836267603, 0.9944161394932484, 0.9941764723856332, 0.9975392569684793, 0.9947651394142049, 0.9956243841326237, 0.9991153706160582, 0.9972612802685826, 0.9865473743840916, 0.9826145036443877, 0.9936843550751875, 0.9922607731868798, 0.9983849325350885, 0.9944954140153678, 0.9984532696286821, 0.9984857978670585, 0.9990984557087536, 0.9948712676948973, 0.9888750180264655, 0.990459886347135, 0.9989596620544163, 0.9974245610903771, 0.9953816915704492, 0.9972562596913559, 0.9957856075155231, 0.9980567079263459, 0.9908395568580629, 0.9885578580901828, 0.9936758765525924, 0.9943166859458847, 0.9976934481887155, 0.9988327644873681, 0.9943853172285716, 0.9966311420568335, 0.9967753920779621, 0.9904111433235964, 0.9982223917757762, 0.9977276146963134, 0.9952168573242774, 0.9923594705177003, 0.9989293388520516, 0.9970499060478989, 0.9937368507225024, 0.9962522874507246, 0.9990010328830237, 0.9985327221388063, 0.997080682686963, 0.9991811263675728, 0.9978157700844966, 0.996584500046128, 0.9979004057783383, 0.9934647185908211, 0.9982684045474342, 0.9928713196505067, 0.9939085186888756, 0.9970390219920904, 0.9918719742358753, 0.9923025288347512, 0.9960601363124083, 0.9866566606850342, 0.9942696222534634, 0.9956597911391879, 0.988939058357604, 0.9931398951669016, 0.9931191654404353, 0.9989799425663071, 0.9970042180212094, 0.9919373136232904, 0.9975652267359988, 0.9980378050056029, 0.9959123296672414, 0.9972191822197584, 0.993768653085545, 0.9990782583621203, 0.9970420820173891, 0.9956037068946852, 0.9920342205107039, 0.9967876029374351, 0.9955277130225592, 0.9988626164685043, 0.9977334109306193, 0.9877383460218391, 0.9911052299515044, 0.9929537232240107, 0.9885430963446796, 0.9953618651205348, 0.9987346815874877, 0.9989906924986467, 0.9942209830946135, 0.9988282112293405, 0.9965368800127016, 0.9973368799912801, 0.999331708240193, 0.9942445192101695, 0.989132163030658, 0.9979779205208582, 0.992942952033886, 0.9960131978663783, 0.9960825018794002, 0.9979259290426077, 0.9869179963149884, 0.9993755892889022, 0.9991493131636479, 0.9979176961892581, 0.9847561575408461, 0.9945576443374706, 0.9964017284653569, 0.9962954337334811, 0.9918609503450174, 0.9954319638157765, 0.9950991311259203, 0.9927481473808483, 0.9981812335726064, 0.9976833567436272, 0.9921993747721425, 0.9905599840039364, 0.9948605270595587, 0.9938019860592845, 0.9921211228897728, 0.9954501779094534, 0.9957743008174127, 0.9995301925787128, 0.9947611112055234], \"Term\": [\"acced\", \"activ\", \"actualiz\", \"ahor\", \"amig\", \"aparec\", \"aplic\", \"aplicacion\", \"app\", \"asesor\", \"asi\", \"atencion\", \"avec\", \"ayud\", \"benefici\", \"bien\", \"buen\", \"busc\", \"cae\", \"cambi\", \"cambi_numer\", \"cancel\", \"carg\", \"celul\", \"chat\", \"clar\", \"clar_hog\", \"client\", \"cobertur\", \"cobr\", \"compr\", \"compr_paquet\", \"conect\", \"consult\", \"consum\", \"contest\", \"contrat\", \"cort\", \"cos\", \"cuent\", \"da\", \"dat\", \"deb\", \"dej\", \"demor\", \"dia\", \"dias\", \"dic\", \"eleg\", \"encontr\", \"encuentr\", \"entrar\", \"equip\", \"equip_financi\", \"error\", \"esper\", \"excelent\", \"facil\", \"factur\", \"fall\", \"famili\", \"famili_amig\", \"fij\", \"funcion\", \"graci\", \"gust\", \"habl\", \"hac\", \"hog\", \"hor\", \"hoy\", \"inform\", \"ingres\", \"intent\", \"internet\", \"lent\", \"line\", \"llam\", \"lleg\", \"mal\", \"mas\", \"medi\", \"mejor\", \"mes\", \"minut\", \"mir\", \"mism\", \"moment\", \"movil\", \"much\", \"muestr\", \"naveg\", \"necesit\", \"ningun\", \"nuev\", \"numer\", \"nunc\", \"ofrec\", \"opcion\", \"oper\", \"pag\", \"paquet\", \"parec\", \"pas\", \"permit\", \"pesim\", \"plan\", \"pod\", \"pon\", \"posibl\", \"prepag\", \"problem\", \"product\", \"pud\", \"pued\", \"qued\", \"quier\", \"rap\", \"realiz\", \"recarg\", \"red\", \"reflej\", \"registr\", \"respuest\", \"sab\", \"sal\", \"sald\", \"segu\", \"servici\", \"se\\u00f1al\", \"si\", \"sid\", \"siempr\", \"sirv\", \"sol\", \"solicit\", \"solucion\", \"tard\", \"tecnic\", \"telefon\", \"ten\", \"tiemp\", \"tod\", \"usted\", \"usuari\", \"utiliz\", \"valor\", \"vec\", \"ver\", \"wifi\"]}, \"R\": 30, \"lambda.step\": 0.01, \"plot.opts\": {\"xlab\": \"PC1\", \"ylab\": \"PC2\"}, \"topic.order\": [1, 2, 3, 4, 5]};\n",
       "\n",
       "function LDAvis_load_lib(url, callback){\n",
       "  var s = document.createElement('script');\n",
       "  s.src = url;\n",
       "  s.async = true;\n",
       "  s.onreadystatechange = s.onload = callback;\n",
       "  s.onerror = function(){console.warn(\"failed to load library \" + url);};\n",
       "  document.getElementsByTagName(\"head\")[0].appendChild(s);\n",
       "}\n",
       "\n",
       "if(typeof(LDAvis) !== \"undefined\"){\n",
       "   // already loaded: just create the visualization\n",
       "   !function(LDAvis){\n",
       "       new LDAvis(\"#\" + \"ldavis_el258428969817312485451056221\", ldavis_el258428969817312485451056221_data);\n",
       "   }(LDAvis);\n",
       "}else if(typeof define === \"function\" && define.amd){\n",
       "   // require.js is available: use it to load d3/LDAvis\n",
       "   require.config({paths: {d3: \"https://d3js.org/d3.v5\"}});\n",
       "   require([\"d3\"], function(d3){\n",
       "      window.d3 = d3;\n",
       "      LDAvis_load_lib(\"https://cdn.jsdelivr.net/gh/bmabey/pyLDAvis@3.3.1/pyLDAvis/js/ldavis.v3.0.0.js\", function(){\n",
       "        new LDAvis(\"#\" + \"ldavis_el258428969817312485451056221\", ldavis_el258428969817312485451056221_data);\n",
       "      });\n",
       "    });\n",
       "}else{\n",
       "    // require.js not available: dynamically load d3 & LDAvis\n",
       "    LDAvis_load_lib(\"https://d3js.org/d3.v5.js\", function(){\n",
       "         LDAvis_load_lib(\"https://cdn.jsdelivr.net/gh/bmabey/pyLDAvis@3.3.1/pyLDAvis/js/ldavis.v3.0.0.js\", function(){\n",
       "                 new LDAvis(\"#\" + \"ldavis_el258428969817312485451056221\", ldavis_el258428969817312485451056221_data);\n",
       "            })\n",
       "         });\n",
       "}\n",
       "</script>"
      ],
      "text/plain": [
       "<IPython.core.display.HTML object>"
      ]
     },
     "execution_count": 22,
     "metadata": {},
     "output_type": "execute_result"
    }
   ],
   "source": [
    "lda_display = pyLDAvis.gensim_models.prepare(lda, corpus, diccionario, sort_topics=False)\n",
    "pyLDAvis.display(lda_display)"
   ]
  },
  {
   "cell_type": "code",
   "execution_count": 23,
   "metadata": {},
   "outputs": [],
   "source": [
    "pyLDAvis.save_html(lda_display, 'lda_General_4_V3.html')"
   ]
  },
  {
   "cell_type": "markdown",
   "metadata": {},
   "source": [
    "####  fin simplificación"
   ]
  },
  {
   "cell_type": "markdown",
   "metadata": {},
   "source": [
    "###  Clasificación de los textos en tópicos"
   ]
  },
  {
   "cell_type": "code",
   "execution_count": 24,
   "metadata": {},
   "outputs": [],
   "source": [
    "dfc2 = dfc.fillna('')"
   ]
  },
  {
   "cell_type": "code",
   "execution_count": 25,
   "metadata": {},
   "outputs": [
    {
     "data": {
      "text/plain": [
       "20310"
      ]
     },
     "execution_count": 25,
     "metadata": {},
     "output_type": "execute_result"
    }
   ],
   "source": [
    "len(dfc2)"
   ]
  },
  {
   "cell_type": "code",
   "execution_count": 26,
   "metadata": {},
   "outputs": [],
   "source": [
    "for column in Qs:    \n",
    "    dfc2[\"Tokens_\"+column+\"_T\"] = dfc2[\"Tokens_\"+column]\n",
    "    dfc2[\"Tokens_\"+column] =  dfc2[column].apply(limpiar_texto)\n",
    "    dfc2[\"Tokens_\"+column] =  dfc2[column].apply(Limpiar_Caracter)"
   ]
  },
  {
   "cell_type": "code",
   "execution_count": 27,
   "metadata": {},
   "outputs": [
    {
     "data": {
      "text/html": [
       "<div>\n",
       "<style scoped>\n",
       "    .dataframe tbody tr th:only-of-type {\n",
       "        vertical-align: middle;\n",
       "    }\n",
       "\n",
       "    .dataframe tbody tr th {\n",
       "        vertical-align: top;\n",
       "    }\n",
       "\n",
       "    .dataframe thead th {\n",
       "        text-align: right;\n",
       "    }\n",
       "</style>\n",
       "<table border=\"1\" class=\"dataframe\">\n",
       "  <thead>\n",
       "    <tr style=\"text-align: right;\">\n",
       "      <th></th>\n",
       "      <th>StartDate</th>\n",
       "      <th>EndDate</th>\n",
       "      <th>Status</th>\n",
       "      <th>IPAddress</th>\n",
       "      <th>Progress</th>\n",
       "      <th>Duration (in seconds)</th>\n",
       "      <th>Finished</th>\n",
       "      <th>RecordedDate</th>\n",
       "      <th>ResponseId</th>\n",
       "      <th>RecipientLastName</th>\n",
       "      <th>...</th>\n",
       "      <th>Sent_Q18</th>\n",
       "      <th>Tokens_Q20</th>\n",
       "      <th>Sent_Q20</th>\n",
       "      <th>Tokens_Q4_T</th>\n",
       "      <th>Tokens_Q10_T</th>\n",
       "      <th>Tokens_Q12_T</th>\n",
       "      <th>Tokens_Q15_T</th>\n",
       "      <th>Tokens_Q18_T</th>\n",
       "      <th>Tokens_Q20_T</th>\n",
       "      <th>Opinion</th>\n",
       "    </tr>\n",
       "  </thead>\n",
       "  <tbody>\n",
       "    <tr>\n",
       "      <th>4</th>\n",
       "      <td>2021-05-01 00:14:21</td>\n",
       "      <td>2021-05-01 00:15:37</td>\n",
       "      <td>IP Address</td>\n",
       "      <td>181.53.12.201</td>\n",
       "      <td>100</td>\n",
       "      <td>76</td>\n",
       "      <td>True</td>\n",
       "      <td>2021-05-01 00:15:38.223</td>\n",
       "      <td>R_udHanua3i8beZtT</td>\n",
       "      <td></td>\n",
       "      <td>...</td>\n",
       "      <td></td>\n",
       "      <td></td>\n",
       "      <td></td>\n",
       "      <td>[ningun]</td>\n",
       "      <td>[]</td>\n",
       "      <td>[]</td>\n",
       "      <td>[]</td>\n",
       "      <td>[]</td>\n",
       "      <td>[]</td>\n",
       "      <td></td>\n",
       "    </tr>\n",
       "    <tr>\n",
       "      <th>9</th>\n",
       "      <td>2021-05-01 00:56:56</td>\n",
       "      <td>2021-05-01 00:58:36</td>\n",
       "      <td>IP Address</td>\n",
       "      <td>191.156.52.30</td>\n",
       "      <td>100</td>\n",
       "      <td>100</td>\n",
       "      <td>True</td>\n",
       "      <td>2021-05-01 00:58:37.141</td>\n",
       "      <td>R_XjMcEuP3zshnpF7</td>\n",
       "      <td></td>\n",
       "      <td>...</td>\n",
       "      <td></td>\n",
       "      <td>Me parece bien</td>\n",
       "      <td>-0.8938357315867129</td>\n",
       "      <td>[qued, sald, carg, app, pod, recarg, vez]</td>\n",
       "      <td>[]</td>\n",
       "      <td>[]</td>\n",
       "      <td>[]</td>\n",
       "      <td>[]</td>\n",
       "      <td>[parec, bien]</td>\n",
       "      <td></td>\n",
       "    </tr>\n",
       "  </tbody>\n",
       "</table>\n",
       "<p>2 rows × 72 columns</p>\n",
       "</div>"
      ],
      "text/plain": [
       "            StartDate             EndDate      Status      IPAddress  \\\n",
       "4 2021-05-01 00:14:21 2021-05-01 00:15:37  IP Address  181.53.12.201   \n",
       "9 2021-05-01 00:56:56 2021-05-01 00:58:36  IP Address  191.156.52.30   \n",
       "\n",
       "   Progress  Duration (in seconds) Finished            RecordedDate  \\\n",
       "4       100                     76     True 2021-05-01 00:15:38.223   \n",
       "9       100                    100     True 2021-05-01 00:58:37.141   \n",
       "\n",
       "          ResponseId RecipientLastName  ... Sent_Q18       Tokens_Q20  \\\n",
       "4  R_udHanua3i8beZtT                    ...                             \n",
       "9  R_XjMcEuP3zshnpF7                    ...           Me parece bien    \n",
       "\n",
       "              Sent_Q20                                Tokens_Q4_T  \\\n",
       "4                                                        [ningun]   \n",
       "9  -0.8938357315867129  [qued, sald, carg, app, pod, recarg, vez]   \n",
       "\n",
       "  Tokens_Q10_T Tokens_Q12_T Tokens_Q15_T Tokens_Q18_T   Tokens_Q20_T Opinion  \n",
       "4           []           []           []           []             []          \n",
       "9           []           []           []           []  [parec, bien]          \n",
       "\n",
       "[2 rows x 72 columns]"
      ]
     },
     "execution_count": 27,
     "metadata": {},
     "output_type": "execute_result"
    }
   ],
   "source": [
    "columnasDefTopico=['Q12','Q15','Q18']\n",
    "dfc2['Opinion'] = ''\n",
    "for i in dfc2.index:\n",
    "    for column in columnasDefTopico: \n",
    "        dfc2.loc[i,'Opinion']=dfc2.loc[i,'Opinion']+str(dfc2.loc[i,\"Tokens_\"+column])+\" \"\n",
    "dfc2.head(2)"
   ]
  },
  {
   "cell_type": "code",
   "execution_count": 28,
   "metadata": {},
   "outputs": [
    {
     "data": {
      "text/plain": [
       "4                                                       []\n",
       "9                                                       []\n",
       "10                                            [mal, señal]\n",
       "11       [me, cambi, x, mes, oper, regres, nuev, sub, m...\n",
       "13       [se, demor, carg, despues, dic, sient, trabaj,...\n",
       "                               ...                        \n",
       "44482    [muy, lent, siempr, mantien, caid, muy, lent, ...\n",
       "44483                                                   []\n",
       "44484                                                   []\n",
       "44485                                                   []\n",
       "44488                                                   []\n",
       "Name: Opinion, Length: 20310, dtype: object"
      ]
     },
     "execution_count": 28,
     "metadata": {},
     "output_type": "execute_result"
    }
   ],
   "source": [
    "dfc2['Opinion'] = dfc2['Opinion'].apply(tokenizer.tokenize)\n",
    "dfc2['Opinion'] = dfc2['Opinion'].apply(filtrar_stopword_digitos)\n",
    "dfc2['Opinion'] = dfc2['Opinion'].apply(stem_palabras)\n",
    "dfc2['Opinion'] "
   ]
  },
  {
   "cell_type": "code",
   "execution_count": 29,
   "metadata": {},
   "outputs": [
    {
     "data": {
      "text/html": [
       "<div>\n",
       "<style scoped>\n",
       "    .dataframe tbody tr th:only-of-type {\n",
       "        vertical-align: middle;\n",
       "    }\n",
       "\n",
       "    .dataframe tbody tr th {\n",
       "        vertical-align: top;\n",
       "    }\n",
       "\n",
       "    .dataframe thead th {\n",
       "        text-align: right;\n",
       "    }\n",
       "</style>\n",
       "<table border=\"1\" class=\"dataframe\">\n",
       "  <thead>\n",
       "    <tr style=\"text-align: right;\">\n",
       "      <th></th>\n",
       "      <th>StartDate</th>\n",
       "      <th>EndDate</th>\n",
       "      <th>Status</th>\n",
       "      <th>IPAddress</th>\n",
       "      <th>Progress</th>\n",
       "      <th>Duration (in seconds)</th>\n",
       "      <th>Finished</th>\n",
       "      <th>RecordedDate</th>\n",
       "      <th>ResponseId</th>\n",
       "      <th>RecipientLastName</th>\n",
       "      <th>...</th>\n",
       "      <th>Sent_Q18</th>\n",
       "      <th>Tokens_Q20</th>\n",
       "      <th>Sent_Q20</th>\n",
       "      <th>Tokens_Q4_T</th>\n",
       "      <th>Tokens_Q10_T</th>\n",
       "      <th>Tokens_Q12_T</th>\n",
       "      <th>Tokens_Q15_T</th>\n",
       "      <th>Tokens_Q18_T</th>\n",
       "      <th>Tokens_Q20_T</th>\n",
       "      <th>Opinion</th>\n",
       "    </tr>\n",
       "  </thead>\n",
       "  <tbody>\n",
       "    <tr>\n",
       "      <th>10</th>\n",
       "      <td>2021-05-01 01:11:12</td>\n",
       "      <td>2021-05-01 01:13:28</td>\n",
       "      <td>IP Address</td>\n",
       "      <td>190.26.155.7</td>\n",
       "      <td>100</td>\n",
       "      <td>136</td>\n",
       "      <td>True</td>\n",
       "      <td>2021-05-01 01:13:29.173</td>\n",
       "      <td>R_x5YL4kva6EbeuWJ</td>\n",
       "      <td></td>\n",
       "      <td>...</td>\n",
       "      <td></td>\n",
       "      <td></td>\n",
       "      <td></td>\n",
       "      <td>[]</td>\n",
       "      <td>[]</td>\n",
       "      <td>[]</td>\n",
       "      <td>[mal, señal]</td>\n",
       "      <td>[]</td>\n",
       "      <td>[]</td>\n",
       "      <td>[mal, señal]</td>\n",
       "    </tr>\n",
       "    <tr>\n",
       "      <th>11</th>\n",
       "      <td>2021-05-01 01:15:49</td>\n",
       "      <td>2021-05-01 01:21:26</td>\n",
       "      <td>IP Address</td>\n",
       "      <td>186.29.191.43</td>\n",
       "      <td>100</td>\n",
       "      <td>336</td>\n",
       "      <td>True</td>\n",
       "      <td>2021-05-01 01:21:26.392</td>\n",
       "      <td>R_3ltBuR7i97QbFAM</td>\n",
       "      <td></td>\n",
       "      <td>...</td>\n",
       "      <td></td>\n",
       "      <td></td>\n",
       "      <td></td>\n",
       "      <td>[bastant, tiemp, usted, sub, plan, line]</td>\n",
       "      <td>[]</td>\n",
       "      <td>[]</td>\n",
       "      <td>[cambi, mes, oper, regres, nuev, sub, mil, pes...</td>\n",
       "      <td>[]</td>\n",
       "      <td>[]</td>\n",
       "      <td>[me, cambi, x, mes, oper, regres, nuev, sub, m...</td>\n",
       "    </tr>\n",
       "  </tbody>\n",
       "</table>\n",
       "<p>2 rows × 72 columns</p>\n",
       "</div>"
      ],
      "text/plain": [
       "             StartDate             EndDate      Status      IPAddress  \\\n",
       "10 2021-05-01 01:11:12 2021-05-01 01:13:28  IP Address   190.26.155.7   \n",
       "11 2021-05-01 01:15:49 2021-05-01 01:21:26  IP Address  186.29.191.43   \n",
       "\n",
       "    Progress  Duration (in seconds) Finished            RecordedDate  \\\n",
       "10       100                    136     True 2021-05-01 01:13:29.173   \n",
       "11       100                    336     True 2021-05-01 01:21:26.392   \n",
       "\n",
       "           ResponseId RecipientLastName  ... Sent_Q18 Tokens_Q20 Sent_Q20  \\\n",
       "10  R_x5YL4kva6EbeuWJ                    ...                                \n",
       "11  R_3ltBuR7i97QbFAM                    ...                                \n",
       "\n",
       "                                 Tokens_Q4_T Tokens_Q10_T Tokens_Q12_T  \\\n",
       "10                                        []           []           []   \n",
       "11  [bastant, tiemp, usted, sub, plan, line]           []           []   \n",
       "\n",
       "                                         Tokens_Q15_T Tokens_Q18_T  \\\n",
       "10                                       [mal, señal]           []   \n",
       "11  [cambi, mes, oper, regres, nuev, sub, mil, pes...           []   \n",
       "\n",
       "   Tokens_Q20_T                                            Opinion  \n",
       "10           []                                       [mal, señal]  \n",
       "11           []  [me, cambi, x, mes, oper, regres, nuev, sub, m...  \n",
       "\n",
       "[2 rows x 72 columns]"
      ]
     },
     "execution_count": 29,
     "metadata": {},
     "output_type": "execute_result"
    }
   ],
   "source": [
    "for i in dfc2.index:    \n",
    "    if dfc2.loc[i,'Opinion']==[]:\n",
    "        dfc2.drop([i], inplace=True)\n",
    "dfc2.head(2)"
   ]
  },
  {
   "cell_type": "code",
   "execution_count": 30,
   "metadata": {},
   "outputs": [],
   "source": [
    "dfc2['Tópico'] = \"\"\n",
    "sumaTopicos = [0]*(numeroTopicos+1)\n",
    "for i in dfc2.index:\n",
    "    bow_comentario = diccionario.doc2bow(dfc2.loc[i,'Opinion'])\n",
    "    distribucion_noticia = lda[bow_comentario]\n",
    "    dist_contrib = [topico[1] for topico in lda[bow_comentario]]\n",
    "    dfc2.loc[i,'Tópico']=dist_contrib.index(max(dist_contrib))+1\n",
    "    \n",
    "    # sumar pertenencias a los tópicos\n",
    "    for idx, val in enumerate(dist_contrib):\n",
    "        sumaTopicos[idx+1]=sumaTopicos[idx+1]+dist_contrib[idx]    "
   ]
  },
  {
   "cell_type": "code",
   "execution_count": 31,
   "metadata": {
    "scrolled": false
   },
   "outputs": [
    {
     "data": {
      "text/plain": [
       "5    2203\n",
       "4    1747\n",
       "3    1029\n",
       "2     827\n",
       "1     657\n",
       "Name: Tópico, dtype: int64"
      ]
     },
     "execution_count": 31,
     "metadata": {},
     "output_type": "execute_result"
    }
   ],
   "source": [
    "dfc2.Tópico.value_counts()"
   ]
  },
  {
   "cell_type": "code",
   "execution_count": 32,
   "metadata": {},
   "outputs": [
    {
     "data": {
      "image/png": "[encoded data removed]",
      "text/plain": [
       "<Figure size 432x288 with 1 Axes>"
      ]
     },
     "metadata": {},
     "output_type": "display_data"
    }
   ],
   "source": [
    "A = dfc2.Tópico.value_counts()\n",
    "indices = A.index\n",
    "plt.pie(A, labels=indices, autopct=\"%0.1f %%\")\n",
    "plt.axis(\"equal\")\n",
    "plt.show()"
   ]
  },
  {
   "cell_type": "markdown",
   "metadata": {},
   "source": [
    "#####  Validación asignación de Tópicos"
   ]
  },
  {
   "cell_type": "code",
   "execution_count": 33,
   "metadata": {},
   "outputs": [
    {
     "name": "stdout",
     "output_type": "stream",
     "text": [
      "Score:0.34411078691482544\t Topic:0.096*\"servici\" + 0.062*\"buen\" + 0.050*\"internet\" + 0.042*\"mal\" + 0.039*\"señal\"\n",
      "Score:0.19607801735401154\t Topic:0.061*\"pued\" + 0.055*\"dej\" + 0.044*\"ingres\" + 0.043*\"ver\" + 0.037*\"pud\"\n",
      "Score:0.18521727621555328\t Topic:0.082*\"app\" + 0.081*\"pag\" + 0.059*\"factur\" + 0.046*\"hac\" + 0.039*\"aplic\"\n",
      "Score:0.14534692466259003\t Topic:0.064*\"clar\" + 0.058*\"plan\" + 0.035*\"necesit\" + 0.034*\"inform\" + 0.032*\"opcion\"\n",
      "Score:0.12924699485301971\t Topic:0.065*\"dat\" + 0.042*\"funcion\" + 0.035*\"bien\" + 0.022*\"sirv\" + 0.021*\"gust\"\n"
     ]
    }
   ],
   "source": [
    "for index,score in sorted(lda[diccionario.doc2bow(dfc2.loc[10,'Opinion'])], key=lambda tup: -1*tup[1]):\n",
    "    print(\"Score:{}\\t Topic:{}\".format(score,lda.print_topic(index,5)))"
   ]
  },
  {
   "cell_type": "code",
   "execution_count": 34,
   "metadata": {},
   "outputs": [
    {
     "data": {
      "text/plain": [
       "[0.129247, 0.3441108, 0.14534692, 0.18521728, 0.19607802]"
      ]
     },
     "execution_count": 34,
     "metadata": {},
     "output_type": "execute_result"
    }
   ],
   "source": [
    "bow_comentario = diccionario.doc2bow(dfc2.loc[10,'Opinion'])\n",
    "distribucion_noticia = lda[bow_comentario]\n",
    "dist_contrib = [topico[1] for topico in lda[bow_comentario]]\n",
    "dist_contrib"
   ]
  },
  {
   "cell_type": "markdown",
   "metadata": {},
   "source": [
    "####  fin validacion"
   ]
  },
  {
   "cell_type": "markdown",
   "metadata": {},
   "source": [
    "###  zoom al topico_4  número 3"
   ]
  },
  {
   "cell_type": "code",
   "execution_count": 35,
   "metadata": {},
   "outputs": [],
   "source": [
    "numeroTopicos=4\n",
    "topicoZoom=4"
   ]
  },
  {
   "cell_type": "code",
   "execution_count": 36,
   "metadata": {},
   "outputs": [],
   "source": [
    "## Quitar pag pactur\n",
    "dfc2Zoom=dfc2.copy()\n",
    "dfc2Zoom['contienePagFact']=dfc2Zoom['Opinion'].apply(lambda x: 1 if 'pag' in x else 0)\n",
    "dfc2Zoom=dfc2Zoom[dfc2Zoom['contienePagFact']==0]\n",
    "dfc2Zoom=dfc2Zoom[dfc2Zoom['Tópico']==topicoZoom]"
   ]
  },
  {
   "cell_type": "code",
   "execution_count": 37,
   "metadata": {},
   "outputs": [],
   "source": [
    "# Repite el proceso de topicos"
   ]
  },
  {
   "cell_type": "code",
   "execution_count": 38,
   "metadata": {},
   "outputs": [],
   "source": [
    "Lista_generalZoom=[]\n",
    "for column in Qs:   \n",
    "    if column in ('Q4','Q10','Q12','Q15','Q18','Q20') :\n",
    "        listAux = dfc2Zoom[\"Tokens_\"+column+\"_T\"].tolist()\n",
    "        listAux = [x for x in listAux if x!= []]\n",
    "        Lista_generalZoom = Lista_generalZoom+listAux"
   ]
  },
  {
   "cell_type": "code",
   "execution_count": 39,
   "metadata": {},
   "outputs": [],
   "source": [
    "bigramZoom = gensim.models.Phrases(Lista_generalZoom, min_count=5, threshold=10) \n",
    "trigramZoom = gensim.models.Phrases(bigramZoom[Lista_generalZoom], threshold=10)\n",
    "bigram_modZoom = gensim.models.phrases.Phraser(bigramZoom)\n",
    "trigram_modZoom = gensim.models.phrases.Phraser(trigramZoom)\n",
    "data_words_bigramsZoom = make_bigrams(Lista_generalZoom,bigram_modZoom)\n",
    "diccionarioZoom = Dictionary(data_words_bigramsZoom)\n",
    "diccionarioZoom.filter_extremes(no_below=2, no_above = 0.9)\n",
    "corpusZoom = [diccionarioZoom.doc2bow(noticia) for noticia in data_words_bigramsZoom]"
   ]
  },
  {
   "cell_type": "code",
   "execution_count": 40,
   "metadata": {},
   "outputs": [],
   "source": [
    "ldaZoom = LdaModel(corpus=corpusZoom, id2word=diccionarioZoom, \n",
    "               num_topics=numeroTopicos, random_state=35, \n",
    "               chunksize=1000, iterations=200, passes=40, alpha='auto')"
   ]
  },
  {
   "cell_type": "code",
   "execution_count": 41,
   "metadata": {
    "scrolled": false
   },
   "outputs": [
    {
     "data": {
      "text/html": [
       "\n",
       "<link rel=\"stylesheet\" type=\"text/css\" href=\"https://cdn.jsdelivr.net/gh/bmabey/pyLDAvis@3.3.1/pyLDAvis/js/ldavis.v1.0.0.css\">\n",
       "\n",
       "\n",
       "<div id=\"ldavis_el258428970648920007503509262\"></div>\n",
       "<script type=\"text/javascript\">\n",
       "\n",
       "var ldavis_el258428970648920007503509262_data = {\"mdsDat\": {\"x\": [0.05162071774418047, 0.13070092800709876, -0.3045667928217877, 0.1222451470705086], \"y\": [0.04280379489688016, -0.2292784785629778, -0.011625078194974277, 0.1980997618610719], \"topics\": [1, 2, 3, 4], \"cluster\": [1, 1, 1, 1], \"Freq\": [15.664697991600768, 14.701828641747976, 55.339595060235006, 14.293878306416252]}, \"tinfo\": {\"Term\": [\"lent\", \"recarg\", \"funcion\", \"ingres\", \"aplic\", \"hac\", \"factur\", \"si\", \"mal\", \"abre\", \"consult\", \"minut\", \"sald\", \"sirv\", \"compr_paquet\", \"clar\", \"error\", \"bloque\", \"abrir\", \"compr\", \"carg\", \"dej\", \"valor\", \"siempr\", \"dat\", \"deb\", \"detall\", \"consum\", \"app\", \"paquet\", \"lent\", \"valor\", \"solucion\", \"problem\", \"demor_carg\", \"encuentr\", \"solicitud\", \"tecnic\", \"soport\", \"ped\", \"resuelv\", \"corre\", \"adquir\", \"habl\", \"trab\", \"entro\", \"pospag\", \"visit\", \"pens\", \"cort\", \"termin\", \"ademas\", \"conten\", \"vide\", \"realic\", \"reposicion\", \"lueg\", \"person\", \"demas\", \"tod\", \"abrir\", \"ningun\", \"mas\", \"mes\", \"clar\", \"cae\", \"aplic\", \"factur\", \"app\", \"present\", \"descarg\", \"servici\", \"pag\", \"pued\", \"deb\", \"siempr\", \"internet\", \"lleg\", \"sol\", \"funcion\", \"minut\", \"sirv\", \"muestr\", \"asesor\", \"fall\", \"bien\", \"much\", \"conect\", \"encontr\", \"pesim\", \"buen\", \"instal\", \"uso\", \"avec\", \"meg\", \"ladron\", \"graci\", \"entra\", \"adelant\", \"amig\", \"comunic\", \"vencimient\", \"informacion\", \"caid\", \"cos\", \"correct\", \"codig\", \"se\", \"porqu\", \"mejor\", \"deb\", \"si\", \"fech\", \"se\\u00f1al\", \"aplic\", \"respuest\", \"servici\", \"app\", \"clar\", \"opcion\", \"inform\", \"necesit\", \"recarg\", \"hac\", \"compr_paquet\", \"compr\", \"carg\", \"dej\", \"sald\", \"consum\", \"realiz\", \"activ\", \"consult\", \"pud\", \"permit\", \"mir\", \"line\", \"paquet\", \"dic\", \"clar_hog\", \"aparec\", \"nunc\", \"pagin\", \"cuent\", \"dat\", \"tiemp\", \"compart\", \"averigu\", \"hic\", \"pas\", \"dispon\", \"prepag\", \"hog\", \"ver\", \"quier\", \"pued\", \"plan\", \"qued\", \"celul\", \"factur\", \"llam\", \"app\", \"sal\", \"pod\", \"servici\", \"ingres\", \"mal\", \"abre\", \"error\", \"bloque\", \"detall\", \"numer\", \"dias\", \"detall_plan\", \"sal_error\", \"internacional\", \"cierr\", \"gener\", \"tarjet_credit\", \"avanz\", \"demasi\", \"form\", \"ala\", \"inici_sesion\", \"tard\", \"usuari\", \"present_fall\", \"ayer\", \"red\", \"llev\", \"avis\", \"nombr\", \"quit\", \"bancolombi\", \"entrar_tiend\", \"complic\", \"peor\", \"siempr\", \"aplic\", \"pag\", \"tiend\", \"qued_peg\", \"clar\", \"vec\", \"sal\", \"app\", \"inici\", \"cambi\", \"se\\u00f1al\", \"servici\", \"demor\", \"opcion\", \"intent\", \"inform\"], \"Freq\": [122.0, 391.0, 105.0, 77.0, 175.0, 257.0, 234.0, 96.0, 60.0, 58.0, 217.0, 54.0, 193.0, 49.0, 174.0, 106.0, 45.0, 43.0, 52.0, 152.0, 151.0, 149.0, 42.0, 73.0, 185.0, 54.0, 38.0, 148.0, 356.0, 145.0, 122.01256540675683, 41.5728162992351, 29.402972261869998, 25.002873193307604, 24.383169539629385, 22.381491078893735, 21.706839030472796, 18.06848940225264, 14.826370965056448, 14.211945397910336, 14.21079798779466, 12.49461847060706, 11.226467643438797, 11.093892472299865, 10.703508590795083, 10.362434659011459, 9.650272160363613, 9.049741909001163, 8.89804891322394, 8.3296443522721, 8.320750131047308, 8.581880952263697, 8.050754670273172, 7.868578214813399, 7.993208467315432, 7.8671125776734545, 7.882999725704797, 7.57331104624151, 7.569458258212467, 7.433100667555494, 44.34807865995919, 21.642130478433614, 10.747971629191664, 23.191677361572236, 53.17688316553042, 11.736631280464422, 50.627804023858864, 59.67624075385345, 68.48426996501773, 15.52154731192153, 10.322723512039252, 19.81868962937002, 12.768009548192275, 20.702242031976137, 13.132230686231347, 13.39315353936427, 12.84641710131564, 11.607088678404654, 11.37329669602254, 105.01515629895907, 53.67343722062658, 48.52746706398391, 31.759752376941112, 28.92327621611448, 26.916315313004393, 24.705677376374595, 18.125349566085745, 16.345232114477632, 15.737948225775455, 22.21206857651748, 15.221006300167835, 14.587328713581448, 14.301307246359231, 13.886783502749328, 12.214908648874376, 11.516653494323043, 11.475833787972027, 11.335688569310351, 12.829409327722248, 10.04189426730584, 10.03993652999306, 9.75517703353542, 9.75209445961448, 9.752202989100233, 9.460457222489893, 8.29648353566513, 8.249284146442255, 8.533422753283723, 8.141675899346753, 18.696268505235864, 41.25179504504069, 63.99241063031684, 23.301926720338624, 21.806898560214627, 56.697512907432206, 13.12749691808151, 28.193476840331773, 41.0725851007046, 22.827038708489777, 14.272477103585542, 14.121649723058642, 13.307489284291632, 390.53982531946104, 256.68973951402154, 173.5625377890435, 151.83181716022082, 150.98722767368145, 149.28303799881718, 192.77749013313175, 147.1769035320912, 95.18596350037335, 93.46552173235229, 215.437746886615, 77.77265638742516, 72.94522102683327, 61.908295358005894, 60.48360241693613, 143.53604197994113, 49.100186048855925, 40.97788581227006, 57.830964399887414, 55.755301024423076, 39.44565734366218, 35.555320461288645, 181.33198836241337, 28.256401553044345, 26.735557783364502, 25.75204488516314, 25.243532027661068, 25.252478279252646, 23.803356529412113, 23.033324945296215, 31.9004869225821, 116.05964272716706, 90.42907843817336, 157.40615844041622, 69.709889100811, 80.94026281378814, 45.34550917557266, 174.24803917117418, 57.60228870876253, 203.21529879183373, 68.43385911008284, 47.324720875028255, 59.90973125377998, 77.07123570099449, 60.195210192341136, 57.83345277584997, 45.263853245948845, 43.11309907089966, 37.99361533908351, 32.02543004412021, 19.535665908742345, 16.7197901887263, 16.215761062646347, 14.118922485582921, 12.497233826806182, 11.96135790198882, 11.766553715413936, 11.204117524458946, 9.911141094783003, 9.718029285733873, 9.265742414437204, 8.837983974684652, 8.98123240337131, 8.386942869928205, 7.9837782992268105, 7.809665452377142, 7.7060443420146365, 7.698256460708352, 7.697513745003477, 7.395892643816151, 7.284754399832728, 6.785116130474983, 6.660961139388572, 10.816748749987532, 12.349064497590314, 41.25474585229623, 68.15985783638557, 18.802335578315088, 17.293994497353122, 9.714439220504035, 30.21238575538946, 19.40818873722053, 25.789152190637857, 43.49549295889855, 12.173812220149356, 14.139872303460933, 13.156359660190745, 18.150553469157792, 14.369355096890269, 13.593749683010358, 12.237736484836484, 12.469683000405775], \"Total\": [122.0, 391.0, 105.0, 77.0, 175.0, 257.0, 234.0, 96.0, 60.0, 58.0, 217.0, 54.0, 193.0, 49.0, 174.0, 106.0, 45.0, 43.0, 52.0, 152.0, 151.0, 149.0, 42.0, 73.0, 185.0, 54.0, 38.0, 148.0, 356.0, 145.0, 122.73094012874088, 42.299094624840926, 30.120580890256605, 25.720437905008666, 25.103202007683375, 23.100503384991864, 22.45232010003723, 18.789181239823225, 15.537711617276473, 14.93058766404049, 14.930378046381827, 13.21627171157223, 11.953623523629997, 11.815991100261707, 11.435777427510017, 11.096094054462428, 10.369326229461883, 9.762053227650565, 9.648493593456525, 9.042029671502618, 9.041873881357496, 9.340428826517838, 8.767822819750716, 8.589023382384653, 8.72695618215079, 8.589317019747902, 8.613688552663437, 8.297445171563133, 8.297700931839342, 8.160277523902653, 52.12348314420268, 26.707164881017523, 12.483064728166479, 34.64504495064705, 106.48076023667886, 14.980640091864943, 175.75655097207778, 234.3920495585697, 356.26764681645466, 28.3966344906719, 16.079780917505428, 126.07245119263956, 32.066214956883805, 178.58753291391338, 54.88680685788175, 73.59100618220505, 63.10437088276487, 31.7926680698517, 46.51861309933566, 105.7400353526954, 54.39831417861277, 49.25268846950848, 32.487707957734166, 29.652541990342446, 27.665080284224576, 25.427731884498698, 18.84913748003909, 17.072207398795154, 16.468412394298277, 23.25846791278434, 15.947142081884842, 15.309258121282376, 15.03009126845669, 14.610301297625432, 12.945842406101624, 12.229497624853797, 12.198385986468415, 12.051958042865902, 13.66266064376485, 10.766371319428107, 10.766412731580653, 10.476656949940724, 10.476515943186245, 10.476748300796148, 10.186684449734189, 9.013541071950705, 8.972240317589346, 9.286280526248113, 8.860217113769776, 21.321574183864012, 54.88680685788175, 96.14592290579255, 33.62867493711778, 35.45252806475129, 175.75655097207778, 19.56272035965577, 126.07245119263956, 356.26764681645466, 106.48076023667886, 58.8941889938665, 70.50890285776684, 57.610192328772676, 391.2395851359421, 257.4016604222379, 174.26633323433882, 152.53839004961932, 151.69802653509396, 149.99118161119915, 193.83602131749825, 148.20900435320897, 95.89277383146518, 94.1792541502424, 217.2362964604431, 78.48213388590543, 73.66213480208005, 62.611353332452985, 61.19480750703232, 145.50280841693666, 49.82476085400644, 41.68486300721456, 58.835699953161026, 56.76173365812565, 40.170757136523115, 36.25910626851341, 185.08692109520928, 28.971878323015268, 27.43658588404843, 26.463354198979054, 25.943040045452452, 25.967605884470707, 24.50996514132432, 23.737284037792033, 32.980675797478995, 123.23824431812548, 96.56820446515341, 178.58753291391338, 76.88546027616141, 90.5897289554928, 48.667486107513334, 234.3920495585697, 65.69286410668981, 356.26764681645466, 102.40077682764428, 55.56245890664873, 126.07245119263956, 77.79429858095014, 60.91659695323498, 58.55719173486305, 45.987316899126824, 43.837229669804394, 38.72613673689367, 32.75051443014881, 20.26365610562184, 17.450718512209207, 16.93628786230735, 14.846423630920407, 13.22021681029959, 12.692208361470785, 12.490619823487876, 11.93535009316739, 10.633147714538413, 10.448741914932132, 9.981485755473352, 9.555476091427753, 9.71581100348201, 9.129232886955316, 8.703407779961164, 8.543263988139318, 8.430842535411752, 8.430964529980484, 8.430882685488067, 8.11701408621751, 8.004924369336258, 7.5135610409647455, 7.3771736136724515, 12.322901391315161, 15.018084894562024, 73.59100618220505, 175.75655097207778, 32.066214956883805, 33.105481763337565, 12.515330711640807, 106.48076023667886, 48.354621034126794, 102.40077682764428, 356.26764681645466, 20.869779506812822, 34.26150549653473, 35.45252806475129, 126.07245119263956, 54.085014576954585, 58.8941889938665, 32.08410495792387, 70.50890285776684], \"Category\": [\"Default\", \"Default\", \"Default\", \"Default\", \"Default\", \"Default\", \"Default\", \"Default\", \"Default\", \"Default\", \"Default\", \"Default\", \"Default\", \"Default\", \"Default\", \"Default\", \"Default\", \"Default\", \"Default\", \"Default\", \"Default\", \"Default\", \"Default\", \"Default\", \"Default\", \"Default\", \"Default\", \"Default\", \"Default\", \"Default\", \"Topic1\", \"Topic1\", \"Topic1\", \"Topic1\", \"Topic1\", \"Topic1\", \"Topic1\", \"Topic1\", \"Topic1\", \"Topic1\", \"Topic1\", \"Topic1\", \"Topic1\", \"Topic1\", \"Topic1\", \"Topic1\", \"Topic1\", \"Topic1\", \"Topic1\", \"Topic1\", \"Topic1\", \"Topic1\", \"Topic1\", \"Topic1\", \"Topic1\", \"Topic1\", \"Topic1\", \"Topic1\", \"Topic1\", \"Topic1\", \"Topic1\", \"Topic1\", \"Topic1\", \"Topic1\", \"Topic1\", \"Topic1\", \"Topic1\", \"Topic1\", \"Topic1\", \"Topic1\", \"Topic1\", \"Topic1\", \"Topic1\", \"Topic1\", \"Topic1\", \"Topic1\", \"Topic1\", \"Topic1\", \"Topic1\", \"Topic2\", \"Topic2\", \"Topic2\", \"Topic2\", \"Topic2\", \"Topic2\", \"Topic2\", \"Topic2\", \"Topic2\", \"Topic2\", \"Topic2\", \"Topic2\", \"Topic2\", \"Topic2\", \"Topic2\", \"Topic2\", \"Topic2\", \"Topic2\", \"Topic2\", \"Topic2\", \"Topic2\", \"Topic2\", \"Topic2\", \"Topic2\", \"Topic2\", \"Topic2\", \"Topic2\", \"Topic2\", \"Topic2\", \"Topic2\", \"Topic2\", \"Topic2\", \"Topic2\", \"Topic2\", \"Topic2\", \"Topic2\", \"Topic2\", \"Topic2\", \"Topic2\", \"Topic2\", \"Topic2\", \"Topic2\", \"Topic2\", \"Topic3\", \"Topic3\", \"Topic3\", \"Topic3\", \"Topic3\", \"Topic3\", \"Topic3\", \"Topic3\", \"Topic3\", \"Topic3\", \"Topic3\", \"Topic3\", \"Topic3\", \"Topic3\", \"Topic3\", \"Topic3\", \"Topic3\", \"Topic3\", \"Topic3\", \"Topic3\", \"Topic3\", \"Topic3\", \"Topic3\", \"Topic3\", \"Topic3\", \"Topic3\", \"Topic3\", \"Topic3\", \"Topic3\", \"Topic3\", \"Topic3\", \"Topic3\", \"Topic3\", \"Topic3\", \"Topic3\", \"Topic3\", \"Topic3\", \"Topic3\", \"Topic3\", \"Topic3\", \"Topic3\", \"Topic3\", \"Topic3\", \"Topic4\", \"Topic4\", \"Topic4\", \"Topic4\", \"Topic4\", \"Topic4\", \"Topic4\", \"Topic4\", \"Topic4\", \"Topic4\", \"Topic4\", \"Topic4\", \"Topic4\", \"Topic4\", \"Topic4\", \"Topic4\", \"Topic4\", \"Topic4\", \"Topic4\", \"Topic4\", \"Topic4\", \"Topic4\", \"Topic4\", \"Topic4\", \"Topic4\", \"Topic4\", \"Topic4\", \"Topic4\", \"Topic4\", \"Topic4\", \"Topic4\", \"Topic4\", \"Topic4\", \"Topic4\", \"Topic4\", \"Topic4\", \"Topic4\", \"Topic4\", \"Topic4\", \"Topic4\", \"Topic4\", \"Topic4\", \"Topic4\", \"Topic4\", \"Topic4\", \"Topic4\", \"Topic4\", \"Topic4\", \"Topic4\"], \"logprob\": [30.0, 29.0, 28.0, 27.0, 26.0, 25.0, 24.0, 23.0, 22.0, 21.0, 20.0, 19.0, 18.0, 17.0, 16.0, 15.0, 14.0, 13.0, 12.0, 11.0, 10.0, 9.0, 8.0, 7.0, 6.0, 5.0, 4.0, 3.0, 2.0, 1.0, -2.7586, -3.8353, -4.1816, -4.3437, -4.3688, -4.4545, -4.4851, -4.6685, -4.8663, -4.9086, -4.9087, -5.0374, -5.1444, -5.1563, -5.1921, -5.2245, -5.2957, -5.36, -5.3769, -5.4429, -5.4439, -5.413, -5.4769, -5.4998, -5.4841, -5.5, -5.498, -5.5381, -5.5386, -5.5568, -3.7706, -4.4881, -5.188, -4.4189, -3.5891, -5.1, -3.6382, -3.4738, -3.3361, -4.8205, -5.2284, -4.5761, -5.0158, -4.5325, -4.9876, -4.968, -5.0096, -5.1111, -5.1314, -2.8452, -3.5163, -3.6171, -4.0411, -4.1346, -4.2065, -4.2922, -4.602, -4.7053, -4.7432, -4.3986, -4.7766, -4.8191, -4.8389, -4.8683, -4.9966, -5.0555, -5.059, -5.0713, -4.9475, -5.1925, -5.1927, -5.2215, -5.2218, -5.2218, -5.2521, -5.3834, -5.3891, -5.3553, -5.4023, -4.5709, -3.7796, -3.3405, -4.3507, -4.417, -3.4615, -4.9246, -4.1602, -3.7839, -4.3713, -4.8409, -4.8516, -4.9109, -2.8572, -3.2769, -3.6682, -3.802, -3.8076, -3.8189, -3.5632, -3.8331, -4.2689, -4.2872, -3.4521, -4.471, -4.5351, -4.6991, -4.7224, -3.8582, -4.9309, -5.1117, -4.7673, -4.8038, -5.1499, -5.2537, -3.6244, -5.4835, -5.5388, -5.5763, -5.5962, -5.5959, -5.655, -5.6878, -5.3622, -4.0707, -4.3202, -3.7659, -4.5804, -4.4311, -5.0105, -3.6643, -4.7712, -3.5105, -4.5989, -4.9677, -4.7319, -3.1264, -3.3735, -3.4136, -3.6586, -3.7073, -3.8337, -4.0046, -4.4989, -4.6545, -4.6851, -4.8236, -4.9456, -4.9894, -5.0059, -5.0548, -5.1775, -5.1971, -5.2448, -5.2921, -5.276, -5.3444, -5.3937, -5.4158, -5.4291, -5.4301, -5.4302, -5.4702, -5.4853, -5.5564, -5.5749, -5.09, -4.9575, -3.7514, -3.2493, -4.5371, -4.6208, -5.1975, -4.0629, -4.5054, -4.2212, -3.6985, -4.9718, -4.8221, -4.8942, -4.5724, -4.806, -4.8615, -4.9666, -4.9478], \"loglift\": [30.0, 29.0, 28.0, 27.0, 26.0, 25.0, 24.0, 23.0, 22.0, 21.0, 20.0, 19.0, 18.0, 17.0, 16.0, 15.0, 14.0, 13.0, 12.0, 11.0, 10.0, 9.0, 8.0, 7.0, 6.0, 5.0, 4.0, 3.0, 2.0, 1.0, 1.8479, 1.8364, 1.8296, 1.8255, 1.8247, 1.8221, 1.82, 1.8146, 1.8069, 1.8044, 1.8044, 1.7976, 1.791, 1.7907, 1.7876, 1.7854, 1.7819, 1.778, 1.7728, 1.7717, 1.7706, 1.7691, 1.7684, 1.7662, 1.7659, 1.7659, 1.7651, 1.7624, 1.7619, 1.7604, 1.6922, 1.6435, 1.7041, 1.4524, 1.1594, 1.6097, 0.6092, 0.4857, 0.2047, 1.2497, 1.4105, 0.0035, 0.9329, -0.3011, 0.4236, 0.15, 0.262, 0.8461, 0.4452, 1.9103, 1.9038, 1.9024, 1.8945, 1.8923, 1.8898, 1.8884, 1.878, 1.8737, 1.8718, 1.8712, 1.8706, 1.8689, 1.8675, 1.8664, 1.8591, 1.8571, 1.8561, 1.8559, 1.8543, 1.8475, 1.8473, 1.8458, 1.8455, 1.8455, 1.8432, 1.8343, 1.8332, 1.8327, 1.8326, 1.7858, 1.6316, 1.5101, 1.5504, 1.4312, 0.7858, 1.5183, 0.4194, -0.2431, 0.3772, 0.4998, 0.3092, 0.4518, 0.5899, 0.5889, 0.5876, 0.587, 0.587, 0.5869, 0.5862, 0.5847, 0.5843, 0.5841, 0.5834, 0.5826, 0.5819, 0.5804, 0.58, 0.5781, 0.577, 0.5746, 0.5745, 0.5738, 0.5735, 0.5721, 0.5712, 0.5667, 0.5658, 0.5644, 0.5643, 0.5638, 0.5624, 0.5616, 0.5584, 0.5317, 0.526, 0.4654, 0.4937, 0.4791, 0.521, 0.2952, 0.4603, 0.0303, 0.1887, 0.4312, -0.1523, 1.936, 1.9334, 1.9329, 1.9295, 1.9287, 1.9262, 1.923, 1.9088, 1.9026, 1.9019, 1.8951, 1.8891, 1.886, 1.8856, 1.8821, 1.875, 1.8728, 1.8709, 1.8673, 1.8667, 1.8605, 1.859, 1.8556, 1.8554, 1.8544, 1.8543, 1.8523, 1.8511, 1.8434, 1.8432, 1.815, 1.7497, 1.3666, 0.9981, 1.4115, 1.296, 1.692, 0.6856, 1.0325, 0.5664, -0.1577, 1.4063, 1.0603, 0.954, 0.0072, 0.6199, 0.4792, 0.9815, 0.2129]}, \"token.table\": {\"Topic\": [4, 1, 3, 3, 2, 1, 1, 4, 2, 1, 3, 1, 2, 4, 1, 2, 3, 4, 2, 4, 2, 3, 4, 4, 4, 2, 4, 2, 1, 4, 2, 2, 3, 4, 3, 2, 3, 4, 1, 2, 4, 3, 2, 3, 3, 4, 3, 3, 2, 2, 1, 3, 3, 1, 1, 2, 1, 2, 3, 2, 3, 1, 2, 3, 1, 4, 1, 3, 4, 1, 1, 4, 4, 4, 4, 3, 3, 2, 1, 2, 4, 1, 4, 1, 3, 2, 1, 2, 4, 2, 4, 2, 1, 3, 3, 3, 4, 1, 2, 3, 4, 2, 4, 2, 4, 4, 2, 3, 4, 4, 1, 2, 3, 4, 2, 1, 3, 1, 3, 1, 3, 4, 1, 4, 1, 2, 2, 1, 2, 1, 2, 3, 2, 3, 2, 2, 2, 3, 1, 2, 4, 4, 2, 3, 2, 3, 4, 1, 4, 3, 2, 3, 3, 1, 1, 1, 4, 3, 1, 2, 4, 1, 2, 3, 2, 3, 2, 1, 3, 1, 2, 4, 4, 1, 3, 1, 3, 3, 4, 2, 4, 1, 3, 4, 1, 3, 3, 4, 1, 2, 4, 1, 1, 3, 4, 4, 2, 3, 2, 1, 2, 3, 4, 2, 4, 2, 3, 1, 3, 4, 2, 1, 2, 3, 4, 1, 1, 1, 4, 4, 1, 1, 3, 1, 3, 4, 1, 1, 2, 4, 1, 2, 3, 4, 2, 1, 3, 1, 1], \"Freq\": [0.9904846575056755, 0.8441492652797475, 0.13429647402177802, 0.9874786208397748, 0.9514984188627078, 0.96355319088227, 0.9202230585776047, 0.9016693727248817, 0.9288180486544082, 0.016996483441109697, 0.9857960395843625, 0.2901741057043291, 0.3243122357871913, 0.3868988076057721, 0.1908677383636603, 0.11508201871926577, 0.569796336585633, 0.12069577572996165, 0.977993725106098, 0.9216319516506811, 0.9582280142487806, 0.9824907230015109, 0.9488923400357904, 0.9364102538685992, 0.9316487830251521, 0.9831785278198779, 0.9809014010212171, 0.9406074093388339, 0.8010338627997916, 0.2002584656999479, 0.954494630670862, 0.02918727550081364, 0.5545582345154592, 0.408621857011391, 0.9953985786694959, 0.06164279768576041, 0.9246419652864062, 0.9077006960015251, 0.49774250185850355, 0.21600146307067136, 0.2817410387878322, 0.9835704628057426, 0.8916390685965747, 0.9840874558557134, 0.08114972020345568, 0.8926469222380125, 0.9964704619640722, 0.9984716885390554, 0.9288144760294608, 0.9371957372735044, 0.0046032823073012185, 0.9897056960697619, 0.9918425715192871, 0.9124271970892146, 0.9079716475178657, 0.8875535082316593, 0.8847571054995828, 0.8835063110485223, 0.9928540359876874, 0.01620860070635024, 0.9779189092831311, 0.23685108943686342, 0.7469918974547232, 0.9933917340969521, 0.9641224799152467, 0.9404552883552321, 0.12942586878737153, 0.6101505242833228, 0.25885173757474306, 0.9560533350547983, 0.6218990203475591, 0.31094951017377953, 0.9812494403501423, 0.9741719223828024, 0.9869887198910421, 0.983446767433102, 0.9791935590938681, 0.9715569185976634, 0.9523601989683546, 0.9127147606119818, 0.9488728836510749, 0.9012180277958602, 0.9785306696345755, 0.2559813786900961, 0.7423459982012787, 0.9759595751253314, 0.2973652699280893, 0.6839401208346054, 0.9570530195323476, 0.9930013702924628, 0.9454619447020667, 0.9017586434961333, 0.9309417979974922, 0.9984395577651712, 0.9636495937330306, 0.9702651393955379, 0.03032078560611056, 0.12764345543931002, 0.1985564862389267, 0.4963912155973167, 0.17019127391908, 0.9545158003127783, 0.9897897584342429, 0.3833293972937493, 0.574994095940624, 0.94186829770564, 0.9797992744761121, 0.5921935495759415, 0.374016978679542, 0.9429880453392442, 0.20600791701340887, 0.11092733993029709, 0.6338705138874119, 0.06338705138874119, 0.981234092201188, 0.9940443695129023, 0.9804753449564325, 0.12177882801711065, 0.8828965031240522, 0.37744551585399466, 0.6290758597566578, 0.9488831285616284, 0.9287542672443528, 0.9849532475699744, 0.8811938606053906, 0.08010853278230823, 0.926938519994973, 0.09380170444983293, 0.8911161922734129, 0.6638755998949986, 0.1154566260686954, 0.20204909562021695, 0.9926778212776055, 0.9902357432012876, 0.9549508575159839, 0.9849879234826703, 0.2256545148436749, 0.7637537425478228, 0.8237489863866755, 0.1872156787242444, 0.8623860850365933, 0.9770838888118986, 0.017617502770845096, 0.9865801551673254, 0.23771445433195493, 0.5263677203064716, 0.23771445433195493, 0.4054111162630134, 0.592523939153635, 0.9708554874247399, 0.006872719577580326, 0.9896716191715669, 0.9627379632617823, 0.9376724021197264, 0.9327880992846049, 0.13317277229696511, 0.7990366337817908, 0.9910111917899324, 0.9641521980063776, 0.9458920545625189, 0.0429950933892054, 0.06503180161815675, 0.026012720647262698, 0.9104452226541945, 0.14398210873714054, 0.8458948888307006, 0.9029124114314421, 0.9643828131848592, 0.9689398316750052, 0.5634470523348776, 0.2817235261674388, 0.17607720385464926, 0.9191801880660241, 0.9719896718839156, 0.9938567688971565, 0.11758939528059259, 0.8791207170977636, 0.8941411011373676, 0.09934901123748528, 0.15980400726764274, 0.7990200363382137, 0.06213225184449916, 0.9319837776674874, 0.8744617284348455, 0.9166999161016036, 0.9906898737434141, 0.9993876255239897, 0.9488968589317022, 0.9313895367474516, 0.6645292556964583, 0.3067058103214423, 0.9376855667357136, 0.078124407332038, 0.664057462322323, 0.25390432382912353, 0.9447170554775991, 0.0051589998247128, 0.9956869661695703, 0.96917166938486, 0.15863893983817182, 0.22209451577344055, 0.4759168195145154, 0.14277504585435463, 0.6205481301592571, 0.36668753145774285, 0.6656548511444386, 0.3328274255722193, 0.1766520214143167, 0.2581837236055398, 0.5571332983066912, 0.994869549716765, 0.2364644873764969, 0.04299354315936307, 0.5589160610717199, 0.15047740105777074, 0.9798541933296024, 0.9627968366765766, 0.9653931267022238, 0.9263251412336578, 0.9607209385586059, 0.9579981038156908, 0.8847723497332087, 0.9664544247984361, 0.060412955603470056, 0.4228906892242904, 0.5135101226294955, 0.8578139627599638, 0.9618935021888668, 0.9314647363041288, 0.8763058297517125, 0.9929290537423163, 0.06204164019572644, 0.5376942150296291, 0.39293038790626744, 0.9545029533544648, 0.056800549526900904, 0.9412662493029292, 0.931421378640942, 0.9219371980586948], \"Term\": [\"abre\", \"abrir\", \"abrir\", \"activ\", \"adelant\", \"ademas\", \"adquir\", \"ala\", \"amig\", \"aparec\", \"aparec\", \"aplic\", \"aplic\", \"aplic\", \"app\", \"app\", \"app\", \"app\", \"asesor\", \"avanz\", \"avec\", \"averigu\", \"avis\", \"ayer\", \"bancolombi\", \"bien\", \"bloque\", \"buen\", \"cae\", \"cae\", \"caid\", \"cambi\", \"cambi\", \"cambi\", \"carg\", \"celul\", \"celul\", \"cierr\", \"clar\", \"clar\", \"clar\", \"clar_hog\", \"codig\", \"compart\", \"complic\", \"complic\", \"compr\", \"compr_paquet\", \"comunic\", \"conect\", \"consult\", \"consult\", \"consum\", \"conten\", \"corre\", \"correct\", \"cort\", \"cos\", \"cuent\", \"dat\", \"dat\", \"deb\", \"deb\", \"dej\", \"demas\", \"demasi\", \"demor\", \"demor\", \"demor\", \"demor_carg\", \"descarg\", \"descarg\", \"detall\", \"detall_plan\", \"dias\", \"dic\", \"dispon\", \"encontr\", \"encuentr\", \"entra\", \"entrar_tiend\", \"entro\", \"error\", \"factur\", \"factur\", \"fall\", \"fech\", \"fech\", \"form\", \"funcion\", \"gener\", \"graci\", \"habl\", \"hac\", \"hic\", \"hog\", \"hog\", \"inform\", \"inform\", \"inform\", \"inform\", \"informacion\", \"ingres\", \"inici\", \"inici\", \"inici_sesion\", \"instal\", \"intent\", \"intent\", \"internacional\", \"internet\", \"internet\", \"internet\", \"internet\", \"ladron\", \"lent\", \"line\", \"llam\", \"llam\", \"lleg\", \"lleg\", \"llev\", \"lueg\", \"mal\", \"mas\", \"mas\", \"meg\", \"mejor\", \"mejor\", \"mes\", \"mes\", \"mes\", \"minut\", \"mir\", \"much\", \"muestr\", \"necesit\", \"necesit\", \"ningun\", \"ningun\", \"nombr\", \"numer\", \"nunc\", \"nunc\", \"opcion\", \"opcion\", \"opcion\", \"pag\", \"pag\", \"pagin\", \"paquet\", \"paquet\", \"pas\", \"ped\", \"pens\", \"peor\", \"peor\", \"permit\", \"person\", \"pesim\", \"pesim\", \"plan\", \"plan\", \"plan\", \"pod\", \"pod\", \"porqu\", \"pospag\", \"prepag\", \"present\", \"present\", \"present\", \"present_fall\", \"problem\", \"pud\", \"pued\", \"pued\", \"qued\", \"qued\", \"qued_peg\", \"qued_peg\", \"quier\", \"quier\", \"quit\", \"realic\", \"realiz\", \"recarg\", \"red\", \"reposicion\", \"respuest\", \"respuest\", \"resuelv\", \"sal\", \"sal\", \"sal\", \"sal_error\", \"sald\", \"sald\", \"se\", \"servici\", \"servici\", \"servici\", \"servici\", \"se\\u00f1al\", \"se\\u00f1al\", \"si\", \"si\", \"siempr\", \"siempr\", \"siempr\", \"sirv\", \"sol\", \"sol\", \"sol\", \"sol\", \"solicitud\", \"solucion\", \"soport\", \"tard\", \"tarjet_credit\", \"tecnic\", \"termin\", \"tiemp\", \"tiend\", \"tiend\", \"tiend\", \"tod\", \"trab\", \"uso\", \"usuari\", \"valor\", \"vec\", \"vec\", \"vec\", \"vencimient\", \"ver\", \"ver\", \"vide\", \"visit\"]}, \"R\": 30, \"lambda.step\": 0.01, \"plot.opts\": {\"xlab\": \"PC1\", \"ylab\": \"PC2\"}, \"topic.order\": [1, 2, 3, 4]};\n",
       "\n",
       "function LDAvis_load_lib(url, callback){\n",
       "  var s = document.createElement('script');\n",
       "  s.src = url;\n",
       "  s.async = true;\n",
       "  s.onreadystatechange = s.onload = callback;\n",
       "  s.onerror = function(){console.warn(\"failed to load library \" + url);};\n",
       "  document.getElementsByTagName(\"head\")[0].appendChild(s);\n",
       "}\n",
       "\n",
       "if(typeof(LDAvis) !== \"undefined\"){\n",
       "   // already loaded: just create the visualization\n",
       "   !function(LDAvis){\n",
       "       new LDAvis(\"#\" + \"ldavis_el258428970648920007503509262\", ldavis_el258428970648920007503509262_data);\n",
       "   }(LDAvis);\n",
       "}else if(typeof define === \"function\" && define.amd){\n",
       "   // require.js is available: use it to load d3/LDAvis\n",
       "   require.config({paths: {d3: \"https://d3js.org/d3.v5\"}});\n",
       "   require([\"d3\"], function(d3){\n",
       "      window.d3 = d3;\n",
       "      LDAvis_load_lib(\"https://cdn.jsdelivr.net/gh/bmabey/pyLDAvis@3.3.1/pyLDAvis/js/ldavis.v3.0.0.js\", function(){\n",
       "        new LDAvis(\"#\" + \"ldavis_el258428970648920007503509262\", ldavis_el258428970648920007503509262_data);\n",
       "      });\n",
       "    });\n",
       "}else{\n",
       "    // require.js not available: dynamically load d3 & LDAvis\n",
       "    LDAvis_load_lib(\"https://d3js.org/d3.v5.js\", function(){\n",
       "         LDAvis_load_lib(\"https://cdn.jsdelivr.net/gh/bmabey/pyLDAvis@3.3.1/pyLDAvis/js/ldavis.v3.0.0.js\", function(){\n",
       "                 new LDAvis(\"#\" + \"ldavis_el258428970648920007503509262\", ldavis_el258428970648920007503509262_data);\n",
       "            })\n",
       "         });\n",
       "}\n",
       "</script>"
      ],
      "text/plain": [
       "<IPython.core.display.HTML object>"
      ]
     },
     "execution_count": 41,
     "metadata": {},
     "output_type": "execute_result"
    }
   ],
   "source": [
    "lda_display = pyLDAvis.gensim_models.prepare(ldaZoom, corpusZoom, diccionarioZoom, sort_topics=False)\n",
    "pyLDAvis.display(lda_display)"
   ]
  },
  {
   "cell_type": "code",
   "execution_count": 42,
   "metadata": {},
   "outputs": [],
   "source": [
    "dfc2Zoom['TópicoZoom'] = \"\"\n",
    "sumaTopicos = [0]*(numeroTopicos+1)\n",
    "for i in dfc2Zoom.index:\n",
    "    bow_comentario = diccionarioZoom.doc2bow(dfc2Zoom.loc[i,'Opinion'])\n",
    "    distribucion_noticia = ldaZoom[bow_comentario]\n",
    "    dist_contrib = [topico[1] for topico in ldaZoom[bow_comentario]]\n",
    "    dfc2Zoom.loc[i,'TópicoZoom']=dist_contrib.index(max(dist_contrib))+1\n",
    "    \n",
    "    # sumar pertenencias a los tópicos\n",
    "    for idx, val in enumerate(dist_contrib):\n",
    "        sumaTopicos[idx+1]=sumaTopicos[idx+1]+dist_contrib[idx] "
   ]
  },
  {
   "cell_type": "code",
   "execution_count": 43,
   "metadata": {
    "scrolled": true
   },
   "outputs": [
    {
     "data": {
      "text/plain": [
       "3    856\n",
       "1    155\n",
       "2    146\n",
       "4    124\n",
       "Name: TópicoZoom, dtype: int64"
      ]
     },
     "execution_count": 43,
     "metadata": {},
     "output_type": "execute_result"
    }
   ],
   "source": [
    "dfc2Zoom.TópicoZoom.value_counts()"
   ]
  },
  {
   "cell_type": "code",
   "execution_count": 44,
   "metadata": {},
   "outputs": [
    {
     "data": {
      "image/png": "[encoded data removed]",
      "text/plain": [
       "<Figure size 432x288 with 1 Axes>"
      ]
     },
     "metadata": {},
     "output_type": "display_data"
    }
   ],
   "source": [
    "A = dfc2Zoom.TópicoZoom.value_counts()\n",
    "indices = A.index\n",
    "plt.pie(A, labels=indices, autopct=\"%0.1f %%\")\n",
    "plt.axis(\"equal\")\n",
    "plt.show()"
   ]
  },
  {
   "cell_type": "code",
   "execution_count": 45,
   "metadata": {
    "scrolled": false
   },
   "outputs": [
    {
     "name": "stdout",
     "output_type": "stream",
     "text": [
      "1  lent app factur clar aplic abrir valor solucion problem demor_carg mes encuentr solicitud ningun pued \n",
      "2  funcion si aplic minut sirv deb app muestr asesor servici fall bien fech clar pesim \n",
      "3  recarg hac consult app sald dat factur compr_paquet pued compr carg dej consum paquet ver \n",
      "4  ingres aplic mal abre error app bloque siempr detall numer clar sal dias vec pag \n"
     ]
    }
   ],
   "source": [
    "impresionTopicosLimp(ldaZoom,15,20)"
   ]
  },
  {
   "cell_type": "code",
   "execution_count": 46,
   "metadata": {},
   "outputs": [],
   "source": [
    "#Guardar tabla de palabras"
   ]
  },
  {
   "cell_type": "markdown",
   "metadata": {},
   "source": [
    "### Modelado de Topicos por Acción"
   ]
  },
  {
   "cell_type": "code",
   "execution_count": 47,
   "metadata": {},
   "outputs": [
    {
     "data": {
      "text/plain": [
       "6463"
      ]
     },
     "execution_count": 47,
     "metadata": {},
     "output_type": "execute_result"
    }
   ],
   "source": [
    "len(dfc2)"
   ]
  },
  {
   "cell_type": "code",
   "execution_count": 48,
   "metadata": {},
   "outputs": [
    {
     "data": {
      "text/plain": [
       "20310"
      ]
     },
     "execution_count": 48,
     "metadata": {},
     "output_type": "execute_result"
    }
   ],
   "source": [
    "len(dfc)"
   ]
  },
  {
   "cell_type": "code",
   "execution_count": 49,
   "metadata": {},
   "outputs": [
    {
     "data": {
      "text/plain": [
       "44488"
      ]
     },
     "execution_count": 49,
     "metadata": {},
     "output_type": "execute_result"
    }
   ],
   "source": [
    "#dfc = dfSent[dfSent['Q2_NPS_GROUP']!='Promotor']\n",
    "len(dfSent)"
   ]
  },
  {
   "cell_type": "code",
   "execution_count": 50,
   "metadata": {
    "scrolled": true
   },
   "outputs": [
    {
     "data": {
      "text/plain": [
       "20310"
      ]
     },
     "execution_count": 50,
     "metadata": {},
     "output_type": "execute_result"
    }
   ],
   "source": [
    "len(dfSent[dfSent['Q2_NPS_GROUP']!='Promotor'])"
   ]
  },
  {
   "cell_type": "code",
   "execution_count": 51,
   "metadata": {},
   "outputs": [
    {
     "data": {
      "text/plain": [
       "20310"
      ]
     },
     "execution_count": 51,
     "metadata": {},
     "output_type": "execute_result"
    }
   ],
   "source": [
    "len(dfSent[dfSent['Q2_NPS_GROUP']!='Promotor'].fillna(''))"
   ]
  },
  {
   "cell_type": "code",
   "execution_count": 52,
   "metadata": {},
   "outputs": [],
   "source": [
    "numeroTopicos=4\n",
    "topicoZoom=4"
   ]
  },
  {
   "cell_type": "code",
   "execution_count": 53,
   "metadata": {},
   "outputs": [],
   "source": [
    "ZoomAccion=dfc2.copy()"
   ]
  },
  {
   "cell_type": "code",
   "execution_count": 54,
   "metadata": {},
   "outputs": [
    {
     "data": {
      "text/plain": [
       "Index(['StartDate', 'EndDate', 'Status', 'IPAddress', 'Progress',\n",
       "       'Duration (in seconds)', 'Finished', 'RecordedDate', 'ResponseId',\n",
       "       'RecipientLastName', 'RecipientFirstName', 'RecipientEmail',\n",
       "       'ExternalReference', 'LocationLatitude', 'LocationLongitude',\n",
       "       'DistributionChannel', 'UserLanguage', 'Q19', 'Q2_NPS_GROUP', 'Q2',\n",
       "       'Q3', 'Q4', 'Q9', 'Q10', 'Q11', 'Q12', 'Q15', 'Q26_1', 'Q22_1', 'Q18',\n",
       "       'Q24_1', 'Q20', 'Nombre del cliente App', 'ID cuenta o Telefono App',\n",
       "       'email App', 'Segmento App', 'Modulo App', 'Accion',\n",
       "       'Q_DataPolicyViolations', 'Q15 - Parent Topics',\n",
       "       'Q15 - Sentiment Polarity', 'Q15 - Sentiment Score', 'Q15 - Sentiment',\n",
       "       'Q15 - Topic Sentiment Label', 'Q15 - Topic Sentiment Score',\n",
       "       'Q15 - Topics', 'Q20 - Parent Topics', 'Q20 - Sentiment Polarity',\n",
       "       'Q20 - Sentiment Score', 'Q20 - Sentiment',\n",
       "       'Q20 - Topic Sentiment Label', 'Q20 - Topic Sentiment Score',\n",
       "       'Q20 - Topics', 'Tokens_Q4', 'Sent_Q4', 'Tokens_Q10', 'Sent_Q10',\n",
       "       'Tokens_Q12', 'Sent_Q12', 'Tokens_Q15', 'Sent_Q15', 'Tokens_Q18',\n",
       "       'Sent_Q18', 'Tokens_Q20', 'Sent_Q20', 'Tokens_Q4_T', 'Tokens_Q10_T',\n",
       "       'Tokens_Q12_T', 'Tokens_Q15_T', 'Tokens_Q18_T', 'Tokens_Q20_T',\n",
       "       'Opinion', 'Tópico'],\n",
       "      dtype='object')"
      ]
     },
     "execution_count": 54,
     "metadata": {},
     "output_type": "execute_result"
    }
   ],
   "source": [
    "ZoomAccion.columns"
   ]
  },
  {
   "cell_type": "code",
   "execution_count": 55,
   "metadata": {},
   "outputs": [],
   "source": [
    "acciones=ZoomAccion.Accion.unique()"
   ]
  },
  {
   "cell_type": "code",
   "execution_count": 56,
   "metadata": {
    "scrolled": false
   },
   "outputs": [
    {
     "name": "stdout",
     "output_type": "stream",
     "text": [
      "Pre_Detalle_Plan\n"
     ]
    },
    {
     "data": {
      "image/png": "[encoded data removed]",
      "text/plain": [
       "<Figure size 432x288 with 1 Axes>"
      ]
     },
     "metadata": {},
     "output_type": "display_data"
    },
    {
     "name": "stdout",
     "output_type": "stream",
     "text": [
      "1  registr encuentr line si actualiz solucion busc telefon asesor cambi_numer facil asoci_cuent clar_vide respuest chat respond da tiemp corre se \n",
      "2  pued dej app ver plan ingres cuent clar_hog clar consult hog opcion necesit aparec dat cambi inform dic permit numer \n",
      "3  servici internet mal llam sirv lent nunc tecnic pesim cobr señal client solicit fall contest abre mes atencion tv contrat \n",
      "4  pag factur pud hac aplic funcion quier cancel entrar sal encontr equip wifi realiz sab activ mir cambi_clav sald compr \n",
      "Pre_Elegidos\n"
     ]
    },
    {
     "data": {
      "image/png": "[encoded data removed]",
      "text/plain": [
       "<Figure size 432x288 with 1 Axes>"
      ]
     },
     "metadata": {},
     "output_type": "display_data"
    },
    {
     "name": "stdout",
     "output_type": "stream",
     "text": [
      "1  eleg ingres dej numer amig pued permit agreg pud registr app famili pag_factur error inscrib ver hac cambi sal pod \n",
      "2  famili_amig numer registr pag ningun hac dej realiz pued llam pud entrar activ agreg consult plan intent benefici demor line \n",
      "3  plan pag factur inform equip pued solucion cuent clar necesit cobr asesor line cambi ver clar_vide acced respuest sab hog \n",
      "4  lent servici mal señal funcion dat app internet aplic sirv pesim si actualiz fall mejor clar cae buen red carg \n",
      "Pre_Consulta_Saldos\n"
     ]
    },
    {
     "data": {
      "image/png": "[encoded data removed]",
      "text/plain": [
       "<Figure size 432x288 with 1 Axes>"
      ]
     },
     "metadata": {},
     "output_type": "display_data"
    },
    {
     "name": "stdout",
     "output_type": "stream",
     "text": [
      "1  pag necesit oper quis solucion asesor wifi cuant dej dat deb acces ver conect cos celul habl form sac ayud \n",
      "2  servici lent hac nunc lleg mal facil cambi pas mejor equip mes señal pospag dos acab solicit pues control verd \n",
      "3  sald consum paquet ver inform dat recarg gust minut vec hac permit bien clar siempr mir error adquir real reflej \n",
      "4  app recarg pod funcion clar compr_paquet realiz deb carg cobertur demor llam dat si compr activ sirv fall sol dias \n",
      "Pre_Gestionar_Equipo\n"
     ]
    },
    {
     "data": {
      "image/png": "[encoded data removed]",
      "text/plain": [
       "<Figure size 432x288 with 1 Axes>"
      ]
     },
     "metadata": {},
     "output_type": "display_data"
    },
    {
     "name": "stdout",
     "output_type": "stream",
     "text": [
      "1  equip pag celul plan compr dej factur pued clar pud si nuev asesor cancel ver averigu equip_financi dat necesit inform \n",
      "2  pued si cambi consult numer clar llam hac dat permit solucion quier registr oper clav imei dar cel duplic aparec \n",
      "3  registr equip mal lent internet señal graci bien servici dic ningun buen app pesim moment pud_registr much posibl cos hog \n",
      "4  app funcion ingres nunc llam siempr hac sal fall clar servici pag_factur sirv dificil carg tiemp vec solucion contest señal \n",
      "Pre_Paquetes-Recargas\n"
     ]
    },
    {
     "data": {
      "image/png": "[encoded data removed]",
      "text/plain": [
       "<Figure size 432x288 with 1 Axes>"
      ]
     },
     "metadata": {},
     "output_type": "display_data"
    },
    {
     "name": "stdout",
     "output_type": "stream",
     "text": [
      "1  funcion mal lent app paquet señal compr si sald dias compr_paquet dat activ aplic dic clar siempr hac da pes \n",
      "2  compr app sirv dat pag compr_paquet tarjet pud ingres tarjet_credit nunc cae demor acept registr nombr lleg siempr pod dic \n",
      "3  recarg hac pag pued dej realiz permit pud line carg_factur hog app celul pse prepag carg cuent factur funcion paquet \n",
      "4  compr_paquet servici qued pag carg dej pas proces transaccion pse intent funcion qued_blanc error inform client internet avanz demor activ \n"
     ]
    }
   ],
   "source": [
    "modelosAccion={}\n",
    "for accion in acciones:\n",
    "    print(accion)\n",
    "    Lista_generalZoom=[]\n",
    "    ZoomAccionAux=ZoomAccion[ZoomAccion['Accion']==accion]\n",
    "    for column in Qs:   \n",
    "        if column in ('Q4','Q10','Q12','Q15','Q18','Q20') :\n",
    "            listAux = ZoomAccionAux[\"Tokens_\"+column+\"_T\"].tolist()\n",
    "            listAux = [x for x in listAux if x!= []]\n",
    "            Lista_generalZoom = Lista_generalZoom+listAux\n",
    "\n",
    "    bigramZoom = gensim.models.Phrases(Lista_generalZoom, min_count=5, threshold=10) \n",
    "    trigramZoom = gensim.models.Phrases(bigramZoom[Lista_generalZoom], threshold=10)\n",
    "    bigram_modZoom = gensim.models.phrases.Phraser(bigramZoom)\n",
    "    trigram_modZoom = gensim.models.phrases.Phraser(trigramZoom)\n",
    "    data_words_bigramsZoom = make_bigrams(Lista_generalZoom,bigram_modZoom)\n",
    "    diccionarioZoom = Dictionary(data_words_bigramsZoom)\n",
    "    diccionarioZoom.filter_extremes(no_below=2, no_above = 0.9)\n",
    "    corpusZoom = [diccionarioZoom.doc2bow(noticia) for noticia in data_words_bigramsZoom]\n",
    "\n",
    "    #ldaZoomAccion = LdaModel(corpus=corpusZoom, id2word=diccionarioZoom, \n",
    "    #               num_topics=numeroTopicos, random_state=35, \n",
    "    #               chunksize=1000, iterations=200, passes=40, alpha='auto')\n",
    "    modelosAccion[accion]=LdaModel(corpus=corpusZoom, id2word=diccionarioZoom, num_topics=numeroTopicos, random_state=35, \n",
    "                   chunksize=1000, iterations=200, passes=40, alpha='auto')\n",
    "\n",
    "    modelosAccion[accion+'dis']=pyLDAvis.gensim_models.prepare(modelosAccion[accion], corpusZoom, diccionarioZoom, sort_topics=False)\n",
    "    \n",
    "    ##dfc2Zoom['TópicoZoom'] = \"\"\n",
    "    sumaTopicos = [0]*(numeroTopicos+1)\n",
    "    for i in ZoomAccionAux.index:\n",
    "        bow_comentario = diccionarioZoom.doc2bow(ZoomAccionAux.loc[i,'Opinion'])\n",
    "        distribucion_noticia = modelosAccion[accion][bow_comentario]\n",
    "        dist_contrib = [topico[1] for topico in modelosAccion[accion][bow_comentario]]\n",
    "        ZoomAccionAux.loc[i,'TópicoZoomAccion']=dist_contrib.index(max(dist_contrib))+1\n",
    "\n",
    "        # sumar pertenencias a los tópicos\n",
    "        for idx, val in enumerate(dist_contrib):\n",
    "            sumaTopicos[idx+1]=sumaTopicos[idx+1]+dist_contrib[idx] \n",
    "\n",
    "    ZoomAccionAux.TópicoZoomAccion.value_counts()\n",
    "    A = ZoomAccionAux.TópicoZoomAccion.value_counts()\n",
    "    indices = A.index\n",
    "    plt.pie(A, labels=indices, autopct=\"%0.1f %%\")\n",
    "    plt.axis(\"equal\")\n",
    "    plt.show()\n",
    "\n",
    "    impresionTopicosLimp(modelosAccion[accion],20,20)\n",
    "    \n",
    "    #acumular tabla resultados\n",
    "    ZoomAccion['Top_Zoom_'+accion]=ZoomAccionAux['TópicoZoomAccion']"
   ]
  },
  {
   "cell_type": "markdown",
   "metadata": {},
   "source": [
    "##  Información Modelos"
   ]
  },
  {
   "cell_type": "code",
   "execution_count": 57,
   "metadata": {},
   "outputs": [
    {
     "data": {
      "text/html": [
       "\n",
       "<link rel=\"stylesheet\" type=\"text/css\" href=\"https://cdn.jsdelivr.net/gh/bmabey/pyLDAvis@3.3.1/pyLDAvis/js/ldavis.v1.0.0.css\">\n",
       "\n",
       "\n",
       "<div id=\"ldavis_el258428970750128807078258927\"></div>\n",
       "<script type=\"text/javascript\">\n",
       "\n",
       "var ldavis_el258428970750128807078258927_data = {\"mdsDat\": {\"x\": [-0.14202897479531446, 0.37299205170503874, -0.1941488988733077, -0.036814178036416734], \"y\": [-0.11965203738266278, -0.09186458715638897, -0.1592624640068324, 0.3707790885458841], \"topics\": [1, 2, 3, 4], \"cluster\": [1, 1, 1, 1], \"Freq\": [16.871925632272898, 38.912778110601955, 17.498496792633667, 26.716799464491476]}, \"tinfo\": {\"Term\": [\"pag\", \"servici\", \"factur\", \"pued\", \"internet\", \"ver\", \"dej\", \"plan\", \"mal\", \"pud\", \"hac\", \"app\", \"registr\", \"ingres\", \"cuent\", \"encuentr\", \"clar_hog\", \"line\", \"llam\", \"aplic\", \"si\", \"consult\", \"clar\", \"funcion\", \"hog\", \"quier\", \"sirv\", \"opcion\", \"actualiz\", \"necesit\", \"registr\", \"encuentr\", \"line\", \"actualiz\", \"solucion\", \"busc\", \"asesor\", \"cambi_numer\", \"facil\", \"asoci_cuent\", \"clar_vide\", \"respuest\", \"chat\", \"respond\", \"da\", \"tiemp\", \"corre\", \"se\", \"demor\", \"cos\", \"telefon\", \"averigu\", \"mas\", \"falt\", \"solicitud\", \"com\", \"problem\", \"envi\", \"anterior\", \"prepag\", \"si\", \"pas\", \"pued\", \"ver\", \"plan\", \"ingres\", \"cuent\", \"clar_hog\", \"consult\", \"hog\", \"opcion\", \"necesit\", \"aparec\", \"dat\", \"cambi\", \"permit\", \"dic\", \"numer\", \"celul\", \"movil\", \"sol\", \"product\", \"consum\", \"ningun\", \"asoci\", \"acced\", \"carg\", \"muestr\", \"revis\", \"eleg\", \"nuev\", \"posibl\", \"clar\", \"app\", \"dej\", \"inform\", \"pod\", \"servici\", \"internet\", \"mal\", \"llam\", \"sirv\", \"lent\", \"nunc\", \"pesim\", \"cobr\", \"se\\u00f1al\", \"client\", \"solicit\", \"fall\", \"contest\", \"abre\", \"mes\", \"atencion\", \"tv\", \"contrat\", \"tecnic\", \"cort\", \"mejor\", \"fij\", \"aplicacion\", \"canal\", \"usuari\", \"ped\", \"cas\", \"instal\", \"naveg\", \"llev\", \"pag\", \"factur\", \"pud\", \"hac\", \"aplic\", \"funcion\", \"quier\", \"cancel\", \"entrar\", \"sal\", \"encontr\", \"equip\", \"wifi\", \"realiz\", \"sab\", \"activ\", \"mir\", \"cambi_clav\", \"sald\", \"compr\", \"deb\", \"intent\", \"recarg\", \"siempr\", \"quej\", \"cuant\", \"medi\", \"nombr\", \"qued\", \"fech\", \"lleg\", \"pod\"], \"Freq\": [809.0, 610.0, 614.0, 572.0, 276.0, 464.0, 593.0, 442.0, 233.0, 310.0, 298.0, 513.0, 211.0, 386.0, 362.0, 186.0, 356.0, 171.0, 173.0, 224.0, 177.0, 303.0, 343.0, 200.0, 283.0, 198.0, 140.0, 260.0, 134.0, 257.0, 211.18331767009457, 185.7944670742201, 171.0401190893141, 133.8706120995078, 122.34896811607513, 117.3770510922339, 92.9833214229152, 79.0689808038508, 66.58794077537121, 63.97735231265899, 60.47032390012362, 58.89761484475652, 57.74587349190558, 57.37922782561611, 51.93800640799534, 48.43286859699646, 46.22870798785514, 44.414774087434914, 43.916287042215885, 41.10171952066074, 109.82888997369108, 40.070134318925945, 39.28676544416388, 38.56973609262283, 37.93659048499661, 38.37998100251794, 37.59292919852514, 37.64991398790594, 37.1451093385427, 35.746588328698486, 166.22492544531707, 40.41389621909304, 571.3813512051935, 463.75915702445417, 442.02319068477, 386.01196320182436, 361.54342122890927, 355.7582761147433, 303.04095184298984, 282.5278869779504, 259.7972284835033, 256.47446452120613, 251.86248627394673, 245.4480386340038, 184.0328783514129, 174.45569605232677, 178.66728264523246, 163.98884926078242, 156.59527311719603, 152.1130603189027, 149.65212544251938, 140.90613061663686, 106.755497406438, 100.43647156923225, 88.25610672390928, 83.51167014907472, 80.8192070743635, 74.90798235509921, 70.86102832276944, 66.97161578389668, 66.28328039418226, 57.31225481655573, 337.50347328231396, 494.9309268379723, 565.692869100338, 181.95041434198828, 132.35224218900333, 609.9660993492009, 275.4097435062579, 232.91064397740624, 172.54100873537743, 140.06135113725938, 127.96621430864047, 121.43626171913537, 112.79026226087721, 105.04836244530682, 102.49784997345067, 73.66356146738626, 63.8939678354656, 59.82789765671264, 59.43374034300777, 58.3391894930971, 52.74143829168804, 51.53695088992197, 50.376562358411434, 47.85715594636903, 119.36823534590381, 41.23985012476409, 38.254609960987565, 36.82582306659665, 36.33946873116888, 35.58743399096585, 35.01402491348014, 33.35765270925514, 33.61504819530642, 32.25534839849997, 31.25162345751809, 36.68766585866587, 808.9611455974707, 613.6722962234235, 309.3996828132478, 297.976725132721, 224.016503658912, 199.82441022955044, 197.54243899138825, 175.26182919847182, 157.75484500009293, 147.6215689186467, 146.82162219080132, 135.8760092849006, 133.42758688044975, 130.4981441703213, 121.0321029505881, 95.59872488443922, 92.92169334099782, 89.06885496796912, 82.37363802659478, 78.2875071766228, 74.86917437457336, 70.68396721379737, 63.08409537167861, 60.84192509576985, 55.82329497423475, 54.29149517748033, 49.412123961763044, 45.80486441745871, 43.86501768605454, 43.15866361381537, 57.931426932280914, 70.54249632003827], \"Total\": [809.0, 610.0, 614.0, 572.0, 276.0, 464.0, 593.0, 442.0, 233.0, 310.0, 298.0, 513.0, 211.0, 386.0, 362.0, 186.0, 356.0, 171.0, 173.0, 224.0, 177.0, 303.0, 343.0, 200.0, 283.0, 198.0, 140.0, 260.0, 134.0, 257.0, 211.95641461875869, 186.56034860373902, 171.81467757907154, 134.6512119224148, 123.11639924870259, 118.1448546544523, 93.75457378267025, 79.84150131788303, 67.35366042486336, 64.74916376197227, 61.24015595033671, 59.66953438281478, 58.50897636420761, 58.14673447029299, 52.70447384311648, 49.20491689833522, 46.998978882665895, 45.18323946590805, 44.68245944022944, 41.87634203413696, 111.93226772000232, 40.85353244486124, 40.06155795642164, 39.33671741784561, 38.70320965967322, 39.16236971853783, 38.36248032239031, 38.42416582420697, 37.919683310651685, 36.52024585600876, 177.37444935779448, 67.55152259334555, 572.1492282342148, 464.52461083724313, 442.79092885121656, 386.7751852274785, 362.3066838369467, 356.52279386506126, 303.8137040622281, 283.2938580151173, 260.5653339800855, 257.2449853653406, 252.62831405513862, 246.22458836888273, 184.80033087880167, 175.22033753499005, 179.48604584248307, 164.7531496377979, 157.36728360174902, 152.87657344283065, 150.42300613766758, 141.66987203192562, 107.51568365583464, 101.21074394908402, 89.01281583603134, 84.27112760296845, 81.58735888907448, 75.67047946385944, 71.63436295583566, 67.73611949569708, 67.05762437879154, 58.088002195626515, 343.2434954599118, 513.6162359840159, 593.4207522229568, 192.0962713386604, 203.40991930848406, 610.7385970070974, 276.1857503352223, 233.67430473667696, 173.31418825298005, 140.83042241670103, 128.7370466431756, 122.21393778627252, 113.55240825797063, 105.82267013256438, 103.26222906609398, 74.43923941028015, 64.66449857353896, 60.60327376734081, 60.20550552920486, 59.12142890094822, 53.523070374617205, 52.309608399606034, 51.15824490533665, 48.63140063014819, 121.52474469867043, 42.012986750823565, 39.035945137667206, 37.60842748612861, 37.1188847989148, 36.35648703473484, 35.799676343914335, 34.12695214908149, 34.39495781403883, 33.02961126867198, 32.0244270375552, 41.37878916225376, 809.7351247406027, 614.4480401088362, 310.18264712898286, 298.7574476332595, 224.8873091422541, 200.60347290326388, 198.32438390781073, 176.04463930471798, 158.53326669821834, 148.3999780779044, 147.60358574967924, 136.65457856120221, 134.20185512127202, 131.27574585586513, 121.81153723850352, 96.38781954351232, 93.69628688308622, 89.84245616325849, 83.15336646959669, 79.06382235613845, 75.65145370234482, 71.46472103749484, 63.85876964797652, 61.62456208417828, 56.599561387350725, 55.07438106920519, 50.19653530549467, 46.58213749216004, 44.64355378552733, 43.938087729934026, 66.31217716091356, 203.40991930848406], \"Category\": [\"Default\", \"Default\", \"Default\", \"Default\", \"Default\", \"Default\", \"Default\", \"Default\", \"Default\", \"Default\", \"Default\", \"Default\", \"Default\", \"Default\", \"Default\", \"Default\", \"Default\", \"Default\", \"Default\", \"Default\", \"Default\", \"Default\", \"Default\", \"Default\", \"Default\", \"Default\", \"Default\", \"Default\", \"Default\", \"Default\", \"Topic1\", \"Topic1\", \"Topic1\", \"Topic1\", \"Topic1\", \"Topic1\", \"Topic1\", \"Topic1\", \"Topic1\", \"Topic1\", \"Topic1\", \"Topic1\", \"Topic1\", \"Topic1\", \"Topic1\", \"Topic1\", \"Topic1\", \"Topic1\", \"Topic1\", \"Topic1\", \"Topic1\", \"Topic1\", \"Topic1\", \"Topic1\", \"Topic1\", \"Topic1\", \"Topic1\", \"Topic1\", \"Topic1\", \"Topic1\", \"Topic1\", \"Topic1\", \"Topic2\", \"Topic2\", \"Topic2\", \"Topic2\", \"Topic2\", \"Topic2\", \"Topic2\", \"Topic2\", \"Topic2\", \"Topic2\", \"Topic2\", \"Topic2\", \"Topic2\", \"Topic2\", \"Topic2\", \"Topic2\", \"Topic2\", \"Topic2\", \"Topic2\", \"Topic2\", \"Topic2\", \"Topic2\", \"Topic2\", \"Topic2\", \"Topic2\", \"Topic2\", \"Topic2\", \"Topic2\", \"Topic2\", \"Topic2\", \"Topic2\", \"Topic2\", \"Topic2\", \"Topic2\", \"Topic2\", \"Topic3\", \"Topic3\", \"Topic3\", \"Topic3\", \"Topic3\", \"Topic3\", \"Topic3\", \"Topic3\", \"Topic3\", \"Topic3\", \"Topic3\", \"Topic3\", \"Topic3\", \"Topic3\", \"Topic3\", \"Topic3\", \"Topic3\", \"Topic3\", \"Topic3\", \"Topic3\", \"Topic3\", \"Topic3\", \"Topic3\", \"Topic3\", \"Topic3\", \"Topic3\", \"Topic3\", \"Topic3\", \"Topic3\", \"Topic3\", \"Topic3\", \"Topic4\", \"Topic4\", \"Topic4\", \"Topic4\", \"Topic4\", \"Topic4\", \"Topic4\", \"Topic4\", \"Topic4\", \"Topic4\", \"Topic4\", \"Topic4\", \"Topic4\", \"Topic4\", \"Topic4\", \"Topic4\", \"Topic4\", \"Topic4\", \"Topic4\", \"Topic4\", \"Topic4\", \"Topic4\", \"Topic4\", \"Topic4\", \"Topic4\", \"Topic4\", \"Topic4\", \"Topic4\", \"Topic4\", \"Topic4\", \"Topic4\", \"Topic4\"], \"logprob\": [30.0, 29.0, 28.0, 27.0, 26.0, 25.0, 24.0, 23.0, 22.0, 21.0, 20.0, 19.0, 18.0, 17.0, 16.0, 15.0, 14.0, 13.0, 12.0, 11.0, 10.0, 9.0, 8.0, 7.0, 6.0, 5.0, 4.0, 3.0, 2.0, 1.0, -3.1694, -3.2975, -3.3802, -3.6253, -3.7153, -3.7567, -3.9897, -4.1518, -4.3236, -4.3636, -4.42, -4.4463, -4.4661, -4.4725, -4.5721, -4.642, -4.6885, -4.7286, -4.7399, -4.8061, -3.8232, -4.8315, -4.8513, -4.8697, -4.8862, -4.8746, -4.8953, -4.8938, -4.9073, -4.9457, -3.4088, -4.823, -3.0098, -3.2184, -3.2664, -3.4019, -3.4674, -3.4836, -3.6439, -3.714, -3.7979, -3.8108, -3.8289, -3.8547, -4.1427, -4.1961, -4.1723, -4.258, -4.3041, -4.3332, -4.3495, -4.4097, -4.6873, -4.7483, -4.8776, -4.9328, -4.9656, -5.0416, -5.0971, -5.1535, -5.1639, -5.3093, -3.5362, -3.1534, -3.0198, -4.1541, -4.4723, -2.1452, -2.9403, -3.1079, -3.408, -3.6165, -3.7068, -3.7592, -3.8331, -3.9042, -3.9288, -4.2591, -4.4014, -4.4671, -4.4737, -4.4923, -4.5932, -4.6163, -4.6391, -4.6904, -3.7764, -4.8392, -4.9143, -4.9524, -4.9657, -4.9866, -5.0029, -5.0513, -5.0436, -5.0849, -5.1165, -4.9562, -2.286, -2.5623, -3.2471, -3.2848, -3.5701, -3.6843, -3.6958, -3.8155, -3.9207, -3.9871, -3.9926, -4.07, -4.0882, -4.1104, -4.1857, -4.4216, -4.45, -4.4924, -4.5705, -4.6214, -4.666, -4.7236, -4.8373, -4.8735, -4.9596, -4.9874, -5.0816, -5.1574, -5.2007, -5.2169, -4.9225, -4.7256], \"loglift\": [30.0, 29.0, 28.0, 27.0, 26.0, 25.0, 24.0, 23.0, 22.0, 21.0, 20.0, 19.0, 18.0, 17.0, 16.0, 15.0, 14.0, 13.0, 12.0, 11.0, 10.0, 9.0, 8.0, 7.0, 6.0, 5.0, 4.0, 3.0, 2.0, 1.0, 1.7759, 1.7754, 1.775, 1.7737, 1.7733, 1.773, 1.7713, 1.7698, 1.7681, 1.7675, 1.7669, 1.7665, 1.7664, 1.7662, 1.7649, 1.7637, 1.763, 1.7624, 1.7622, 1.7608, 1.7605, 1.7602, 1.76, 1.7598, 1.7595, 1.7593, 1.7593, 1.7592, 1.7589, 1.7581, 1.7146, 1.2658, 0.9425, 0.9422, 0.9421, 0.9419, 0.9417, 0.9417, 0.9413, 0.9411, 0.9409, 0.9408, 0.9408, 0.9407, 0.9397, 0.9395, 0.9393, 0.9392, 0.9389, 0.9388, 0.9387, 0.9384, 0.9368, 0.9362, 0.9353, 0.9348, 0.9344, 0.9337, 0.933, 0.9325, 0.9322, 0.9304, 0.927, 0.9068, 0.896, 0.8896, 0.5141, 1.7418, 1.7402, 1.7398, 1.7386, 1.7376, 1.737, 1.7367, 1.7363, 1.7357, 1.7356, 1.7326, 1.7311, 1.7302, 1.7302, 1.7297, 1.7283, 1.7282, 1.7277, 1.727, 1.7252, 1.7245, 1.7228, 1.722, 1.7218, 1.7217, 1.7209, 1.7203, 1.7201, 1.7193, 1.7186, 1.6227, 1.3189, 1.3186, 1.3174, 1.3173, 1.316, 1.316, 1.3159, 1.3154, 1.315, 1.3146, 1.3146, 1.3142, 1.3141, 1.3139, 1.3135, 1.3117, 1.3116, 1.3112, 1.3105, 1.31, 1.3095, 1.3089, 1.3077, 1.3071, 1.3061, 1.3056, 1.3041, 1.3031, 1.3023, 1.302, 1.1848, 0.2609]}, \"token.table\": {\"Topic\": [3, 2, 4, 1, 1, 2, 4, 3, 2, 4, 1, 2, 1, 3, 1, 1, 2, 4, 1, 3, 4, 2, 3, 2, 1, 1, 2, 2, 1, 3, 3, 1, 4, 2, 2, 3, 3, 1, 3, 1, 4, 2, 1, 2, 4, 2, 4, 1, 2, 2, 4, 1, 4, 1, 4, 1, 4, 3, 1, 4, 3, 4, 4, 2, 1, 2, 2, 3, 4, 3, 3, 1, 3, 3, 4, 2, 3, 3, 1, 4, 3, 3, 4, 2, 2, 3, 2, 2, 4, 2, 2, 3, 2, 4, 1, 4, 3, 2, 3, 2, 2, 4, 2, 1, 1, 2, 4, 2, 4, 4, 4, 4, 4, 1, 1, 1, 2, 4, 4, 4, 1, 3, 3, 1, 4, 4, 3, 2, 3, 1, 1, 2, 3, 1, 3, 1, 3, 3, 2, 4], \"Freq\": [0.9810317693297458, 0.9967826750314078, 0.9959764673031404, 0.9951637128762716, 0.9757465455837986, 0.9975128913895159, 0.9960544276791856, 0.9698567237411316, 0.963754580405057, 0.035045621105638435, 0.9919516056419881, 0.988621685242527, 0.9884297538617439, 0.9940812327012495, 0.9791074995531115, 0.9903097375014701, 0.9956692129554326, 0.9906229615792381, 0.989460352022532, 0.9901946787544612, 0.994066054445942, 0.9928008591395506, 0.9885169850716425, 0.9976660739555083, 0.9913008841405919, 0.014566918430021529, 0.9847236858694554, 0.9985336313019606, 0.9797493012372075, 0.9940993565522717, 0.9922259556337615, 0.9703192190132556, 0.9865447644139121, 0.9973217005969506, 0.9952036424984714, 0.9799768224083745, 0.9870166061029144, 0.9787446683648198, 0.9758887232457067, 0.979073099712898, 0.9804921807862871, 0.999153524208555, 0.9866335096103328, 0.9950265390755852, 0.9913887483919608, 0.9537920571192724, 0.04549891438554833, 0.9847264575679334, 0.9972920132024657, 0.9891325410847629, 0.9959107649952159, 0.9969964217587886, 0.9966362473358134, 0.9889609620636253, 0.9952099770963103, 0.9947492026026129, 0.9992708250664176, 0.9900455251038613, 0.9914401241397723, 0.9786497824916734, 0.9838220439726436, 0.9969917125833864, 0.9974646736365571, 0.9989627095441597, 0.052057231149324486, 0.9474416069177056, 0.9979957731077742, 0.968827629841089, 0.993497196508316, 0.9957066925654815, 0.9942747898728911, 0.9952583935752717, 0.9981871752327546, 0.12064149214385086, 0.8746508180429188, 0.09666788422240372, 0.8941779290572344, 0.997114339390303, 0.9735018304186676, 0.9761629901702858, 0.9734617636638805, 0.9902271978988473, 0.9925686822151764, 0.9942661362490673, 0.9911394843985406, 0.9680110736609324, 0.9951603124019213, 0.9880373970011217, 0.9875029888386291, 0.984228126352683, 0.9954286176655581, 0.9900671084799226, 0.9978303561281536, 0.9990921417162949, 0.5921406130369053, 0.3996949137999111, 0.9669776502701305, 0.9930354115728925, 0.9951352131897049, 0.9982137645564046, 0.6489359046439305, 0.349048857800902, 0.9812697604582374, 0.9857545905342484, 0.9905511760620246, 0.9952715985246696, 0.9961872556703951, 0.9979913837553158, 0.9855846201532469, 0.9894069605372469, 0.9983643770805232, 0.9902819378587585, 0.9865520483292973, 0.9954876825951271, 0.9802786092677508, 0.9887792926534448, 0.9911444322297281, 0.9933377637545567, 0.9973047295351053, 0.9861296479196859, 0.9738124251405029, 0.9987906495336681, 0.9877764689227648, 0.9358732365401159, 0.0620156963972366, 0.9898650462890894, 0.9941033875887704, 0.9971878893493163, 0.9897239043339481, 0.9818307146653542, 0.990932164557157, 0.016457553603252965, 0.9792244393935513, 0.9827371699031787, 0.017867948543694157, 0.9755122663691362, 0.9773595652571766, 0.9776624700114007, 0.9988706500689003, 0.9910444224471714], \"Term\": [\"abre\", \"acced\", \"activ\", \"actualiz\", \"anterior\", \"aparec\", \"aplic\", \"aplicacion\", \"app\", \"app\", \"asesor\", \"asoci\", \"asoci_cuent\", \"atencion\", \"averigu\", \"busc\", \"cambi\", \"cambi_clav\", \"cambi_numer\", \"canal\", \"cancel\", \"carg\", \"cas\", \"celul\", \"chat\", \"clar\", \"clar\", \"clar_hog\", \"clar_vide\", \"client\", \"cobr\", \"com\", \"compr\", \"consult\", \"consum\", \"contest\", \"contrat\", \"corre\", \"cort\", \"cos\", \"cuant\", \"cuent\", \"da\", \"dat\", \"deb\", \"dej\", \"dej\", \"demor\", \"dic\", \"eleg\", \"encontr\", \"encuentr\", \"entrar\", \"envi\", \"equip\", \"facil\", \"factur\", \"fall\", \"falt\", \"fech\", \"fij\", \"funcion\", \"hac\", \"hog\", \"inform\", \"inform\", \"ingres\", \"instal\", \"intent\", \"internet\", \"lent\", \"line\", \"llam\", \"lleg\", \"lleg\", \"llev\", \"llev\", \"mal\", \"mas\", \"medi\", \"mejor\", \"mes\", \"mir\", \"movil\", \"muestr\", \"naveg\", \"necesit\", \"ningun\", \"nombr\", \"nuev\", \"numer\", \"nunc\", \"opcion\", \"pag\", \"pas\", \"pas\", \"ped\", \"permit\", \"pesim\", \"plan\", \"pod\", \"pod\", \"posibl\", \"prepag\", \"problem\", \"product\", \"pud\", \"pued\", \"qued\", \"quej\", \"quier\", \"realiz\", \"recarg\", \"registr\", \"respond\", \"respuest\", \"revis\", \"sab\", \"sal\", \"sald\", \"se\", \"servici\", \"se\\u00f1al\", \"si\", \"si\", \"siempr\", \"sirv\", \"sol\", \"solicit\", \"solicitud\", \"solucion\", \"tecnic\", \"tecnic\", \"telefon\", \"telefon\", \"tiemp\", \"tv\", \"usuari\", \"ver\", \"wifi\"]}, \"R\": 30, \"lambda.step\": 0.01, \"plot.opts\": {\"xlab\": \"PC1\", \"ylab\": \"PC2\"}, \"topic.order\": [1, 2, 3, 4]};\n",
       "\n",
       "function LDAvis_load_lib(url, callback){\n",
       "  var s = document.createElement('script');\n",
       "  s.src = url;\n",
       "  s.async = true;\n",
       "  s.onreadystatechange = s.onload = callback;\n",
       "  s.onerror = function(){console.warn(\"failed to load library \" + url);};\n",
       "  document.getElementsByTagName(\"head\")[0].appendChild(s);\n",
       "}\n",
       "\n",
       "if(typeof(LDAvis) !== \"undefined\"){\n",
       "   // already loaded: just create the visualization\n",
       "   !function(LDAvis){\n",
       "       new LDAvis(\"#\" + \"ldavis_el258428970750128807078258927\", ldavis_el258428970750128807078258927_data);\n",
       "   }(LDAvis);\n",
       "}else if(typeof define === \"function\" && define.amd){\n",
       "   // require.js is available: use it to load d3/LDAvis\n",
       "   require.config({paths: {d3: \"https://d3js.org/d3.v5\"}});\n",
       "   require([\"d3\"], function(d3){\n",
       "      window.d3 = d3;\n",
       "      LDAvis_load_lib(\"https://cdn.jsdelivr.net/gh/bmabey/pyLDAvis@3.3.1/pyLDAvis/js/ldavis.v3.0.0.js\", function(){\n",
       "        new LDAvis(\"#\" + \"ldavis_el258428970750128807078258927\", ldavis_el258428970750128807078258927_data);\n",
       "      });\n",
       "    });\n",
       "}else{\n",
       "    // require.js not available: dynamically load d3 & LDAvis\n",
       "    LDAvis_load_lib(\"https://d3js.org/d3.v5.js\", function(){\n",
       "         LDAvis_load_lib(\"https://cdn.jsdelivr.net/gh/bmabey/pyLDAvis@3.3.1/pyLDAvis/js/ldavis.v3.0.0.js\", function(){\n",
       "                 new LDAvis(\"#\" + \"ldavis_el258428970750128807078258927\", ldavis_el258428970750128807078258927_data);\n",
       "            })\n",
       "         });\n",
       "}\n",
       "</script>"
      ],
      "text/plain": [
       "<IPython.core.display.HTML object>"
      ]
     },
     "execution_count": 57,
     "metadata": {},
     "output_type": "execute_result"
    }
   ],
   "source": [
    "pyLDAvis.display(modelosAccion['Pre_Detalle_Plandis'])"
   ]
  },
  {
   "cell_type": "code",
   "execution_count": 58,
   "metadata": {},
   "outputs": [
    {
     "data": {
      "text/html": [
       "\n",
       "<link rel=\"stylesheet\" type=\"text/css\" href=\"https://cdn.jsdelivr.net/gh/bmabey/pyLDAvis@3.3.1/pyLDAvis/js/ldavis.v1.0.0.css\">\n",
       "\n",
       "\n",
       "<div id=\"ldavis_el258428970527947684840505523\"></div>\n",
       "<script type=\"text/javascript\">\n",
       "\n",
       "var ldavis_el258428970527947684840505523_data = {\"mdsDat\": {\"x\": [0.16879755579133535, 0.1128389226350797, 0.043560734364294466, -0.32519721279070957], \"y\": [0.16784240149318538, 0.03517614745782806, -0.26662935059172266, 0.06361080164070927], \"topics\": [1, 2, 3, 4], \"cluster\": [1, 1, 1, 1], \"Freq\": [27.01392303908161, 22.666320846784398, 24.448368611327208, 25.87138750280678]}, \"tinfo\": {\"Term\": [\"eleg\", \"famili_amig\", \"ingres\", \"lent\", \"mal\", \"se\\u00f1al\", \"dej\", \"funcion\", \"servici\", \"dat\", \"numer\", \"internet\", \"amig\", \"pag\", \"plan\", \"app\", \"registr\", \"sirv\", \"ningun\", \"realiz\", \"inform\", \"pud\", \"agreg\", \"famili\", \"factur\", \"permit\", \"aplic\", \"pag_factur\", \"error\", \"pued\", \"eleg\", \"ingres\", \"amig\", \"famili\", \"pag_factur\", \"error\", \"grup_famili\", \"modific\", \"fij\", \"dat_compart\", \"mir\", \"consum\", \"vez\", \"usuari\", \"part\", \"descarg\", \"eleg_destin\", \"visualiz\", \"da_opcion\", \"dond\", \"n\", \"personal\", \"termin\", \"informacion\", \"grab\", \"aser\", \"music\", \"dan_respuest\", \"conten\", \"condicion\", \"dej\", \"sal\", \"celul\", \"nombr\", \"permit\", \"numer\", \"inscrib\", \"da\", \"agreg\", \"ver\", \"pud\", \"pued\", \"cambi\", \"qued\", \"registr\", \"siempr\", \"pod\", \"hac\", \"app\", \"dic\", \"quier\", \"aparec\", \"sald\", \"llam\", \"clar\", \"famili_amig\", \"ningun\", \"realiz\", \"familiar\", \"moment\", \"inscripcion\", \"much\", \"compart\", \"lin\", \"pues\", \"rap\", \"recarg\", \"minut\", \"logr\", \"funcion_bien\", \"bloque\", \"tard\", \"solucion_problem\", \"primer\", \"met_eleg\", \"cort\", \"complet\", \"lentitud\", \"escrib\", \"pqr\", \"dan_solucion\", \"pag_pse\", \"dar\", \"maner\", \"unic\", \"activ\", \"intent\", \"entrar\", \"mensaj\", \"inconvenient\", \"comun\", \"consult\", \"registr\", \"llam\", \"hac\", \"contact\", \"demor\", \"numer\", \"pag\", \"pud\", \"benefici\", \"agreg\", \"pued\", \"dej\", \"oper\", \"line\", \"plan\", \"dic\", \"permit\", \"si\", \"pod\", \"clar\", \"servici\", \"equip\", \"solucion\", \"cobr\", \"asesor\", \"acced\", \"sab\", \"encuentr\", \"compart_dat\", \"facil\", \"encontr\", \"mes\", \"ten\", \"graci\", \"chat\", \"se\", \"com\", \"solicit\", \"cancel\", \"cuent\", \"valor\", \"cancel_plan\", \"contest\", \"falt\", \"corre\", \"anterior\", \"pospag\", \"postpag\", \"prepag\", \"dan\", \"medi\", \"inform\", \"clar_vide\", \"plan\", \"factur\", \"necesit\", \"pag\", \"hog\", \"respuest\", \"client\", \"line\", \"clar\", \"cambi\", \"deb\", \"ver\", \"pued\", \"quier\", \"benefici\", \"clar_hog\", \"aplic\", \"lent\", \"se\\u00f1al\", \"mal\", \"funcion\", \"dat\", \"internet\", \"sirv\", \"pesim\", \"fall\", \"actualiz\", \"mejor\", \"cae\", \"red\", \"abrir\", \"cobertur\", \"sal_error\", \"product\", \"naveg\", \"casi\", \"verific\", \"intermitent\", \"conect\", \"ocasion\", \"demor_carg\", \"tan\", \"aplicacion\", \"sistem\", \"abre\", \"avec\", \"pon\", \"servici\", \"buen\", \"aplic\", \"app\", \"si\", \"problem\", \"vec\", \"carg\", \"clar\", \"ofrec\", \"siempr\", \"demor\", \"llam\", \"nunc\"], \"Freq\": [240.0, 210.0, 202.0, 162.0, 144.0, 144.0, 234.0, 133.0, 178.0, 119.0, 215.0, 111.0, 105.0, 155.0, 137.0, 184.0, 132.0, 69.0, 59.0, 57.0, 66.0, 110.0, 107.0, 58.0, 85.0, 96.0, 102.0, 54.0, 52.0, 200.0, 240.2558140977382, 202.04680529084794, 104.61426801115518, 57.907799943136034, 53.70469675716141, 51.41264176990783, 34.83025292807434, 28.327894761312738, 21.578478412369332, 17.221949048403456, 16.32844238060913, 16.23600069793014, 16.215814128624178, 15.23772281693455, 13.817686061766441, 13.460930355018412, 10.306821303300612, 10.482974370896905, 10.165985181913442, 10.093738472607571, 9.041907583682928, 8.160229258406009, 7.705306407228221, 6.823750322928101, 6.443346335212415, 6.434541928858547, 6.284702377527159, 6.20093178213672, 6.0893773407323275, 6.268759862134399, 177.26065030271576, 46.27870716188585, 37.10228789935284, 15.396176155096612, 70.24998851856117, 135.9757284689531, 50.796256924526546, 19.561395334349363, 64.03846608379712, 49.69522022241022, 63.42382011631078, 98.3002159571019, 46.52955787037281, 29.38994575990379, 62.517232135986866, 31.96568538201224, 40.488017625895075, 48.04535820676439, 58.84194715167903, 30.122942385101428, 25.727502190208572, 22.448041128833367, 20.73887237528183, 28.296188507955783, 23.8017438179421, 210.1920248991471, 58.4222936004482, 56.44925712844134, 22.661113318159316, 22.078562695557665, 17.45421535384801, 16.409843864149877, 15.505914340212122, 14.77866135024501, 14.905615676858414, 14.19228367414015, 13.693297437880872, 13.553768323743366, 12.618576195912082, 12.963211018016914, 12.35245815222932, 11.591573246853123, 11.407022085540207, 10.560049630908969, 10.261643948399405, 9.472209352098785, 8.587913189575222, 8.033969952171908, 7.746987094850557, 7.506469923647534, 7.651683205860908, 7.409623033354331, 7.694343634090621, 7.138116985535143, 6.888998880185969, 43.336697430866124, 33.972298804247366, 44.37796881491242, 17.434813410576982, 11.53175197737034, 26.696555974566515, 38.11504768176156, 69.44919247494931, 50.245189283066416, 58.21082485511524, 26.7370163278175, 29.351979804952148, 78.81217823290459, 59.81039218900819, 46.263935652912664, 31.466023646603784, 42.647830364478914, 56.35052555853349, 56.78896101326867, 18.239021587285453, 27.605340792178183, 34.61091031176735, 26.27904943821872, 25.39132174849203, 22.257843164424454, 23.288552650058882, 23.290839907495975, 23.86378507453782, 46.40081251239461, 44.17903207299314, 37.34596224596388, 37.153786928064726, 27.257282173276078, 25.69459202114899, 23.397559994317497, 23.131491091393062, 21.815491341480012, 19.853808466526736, 18.653846011704573, 18.617218667822783, 17.700995741920728, 16.148292853914846, 15.616450987490229, 14.824728671054828, 14.627688330284116, 14.37988884667639, 43.44686410845192, 14.167018512497277, 13.338118460166761, 13.286597342457027, 13.175614526785003, 12.703253718845756, 11.652772479843815, 11.602227685655208, 11.060341856434643, 11.313215179984311, 10.612856554866523, 12.853306070096894, 61.37601116884134, 27.41033817139391, 102.78097898942299, 64.59417816285965, 39.02607950216023, 95.63265346768543, 25.677878358151357, 26.234684236195474, 17.61492162208797, 34.85969770074167, 42.962790184048174, 34.04039908496523, 22.34743277630905, 30.78847010448124, 45.34621716223778, 22.60656508039217, 23.177448824505785, 20.47376975375826, 20.97265032963608, 162.22733953219122, 143.99962631384244, 144.00604179793868, 132.71899263305636, 119.04640190100672, 110.8980229664222, 68.59300964195491, 44.2659300380144, 41.046340417071995, 41.05699972048373, 40.42853398143874, 33.25199259687344, 26.95273939475019, 24.124671373381176, 20.686535301392812, 18.79742547404977, 18.9153334084938, 18.080010745538072, 17.27685476960779, 16.046240824817733, 14.219134661059977, 14.328682271452491, 13.707540779191648, 13.493355218338852, 13.09816491013651, 12.882204262101062, 12.85928032086756, 12.350727355046676, 12.201363939159037, 12.120660397945134, 153.9556732563338, 30.165301836260536, 76.5232328495477, 118.6495784540609, 41.796021342855155, 25.604644824219594, 23.606496644801897, 26.757901259818116, 34.58554989116953, 17.854914178886553, 20.13103984039872, 19.81310021421204, 20.959200692413063, 18.51891824623385], \"Total\": [240.0, 210.0, 202.0, 162.0, 144.0, 144.0, 234.0, 133.0, 178.0, 119.0, 215.0, 111.0, 105.0, 155.0, 137.0, 184.0, 132.0, 69.0, 59.0, 57.0, 66.0, 110.0, 107.0, 58.0, 85.0, 96.0, 102.0, 54.0, 52.0, 200.0, 240.97562515349986, 202.7756342579825, 105.33589524225845, 58.63643222142506, 54.43442065450292, 52.145687073008574, 35.54433341845828, 29.04511402290648, 22.301468774072994, 17.948880033712374, 17.065903539729906, 16.973087478069974, 16.973258623110322, 15.967464923293276, 14.552251841967804, 14.234055347066851, 11.020421422495474, 11.219180951094671, 10.88281305325734, 10.898972450154094, 9.788451898633008, 8.921068515452971, 8.433454771068993, 7.550452289808856, 7.155547323541697, 7.155693034680672, 7.01771642774273, 6.925171323116289, 6.8052190216594655, 7.01691299952673, 234.5419578772194, 59.40328650054524, 47.636592952282655, 18.456551051602837, 96.14394585198433, 215.2756909555184, 71.22372074499187, 25.245098097509388, 107.17193852405087, 80.97266566834908, 110.18835514229251, 200.34479427336666, 81.06450223052181, 44.72869839006044, 132.45692932496743, 52.57826599972204, 83.7481928708254, 124.7159236962484, 184.14362999061012, 68.72796446054697, 48.8519351868778, 36.17165034432428, 30.11389927273406, 99.84638981565881, 124.64092380065577, 210.92056365562604, 59.15659046841528, 57.18284657897933, 23.39552979645132, 22.81176206295978, 18.197764683813322, 17.140386085807723, 16.235062665274928, 15.503475880147104, 15.65532055729493, 14.921935676586722, 14.417620730440175, 14.283163668884942, 13.34590900498056, 13.716905881496034, 13.091517936279493, 12.318428227080126, 12.140197133364726, 11.293089168354864, 10.979856356828456, 10.204885634376016, 9.341166950713411, 8.774226080022851, 8.477513104174895, 8.225244012917697, 8.387450166029124, 8.135003788034725, 8.47794963950826, 7.866206200388809, 7.613930794368532, 49.00268414859389, 39.44740038464401, 52.6187688988943, 21.17261670280111, 13.38028957973738, 38.83862054101626, 60.329702668117676, 132.45692932496743, 99.84638981565881, 124.7159236962484, 43.10462118450741, 49.641122006671125, 215.2756909555184, 155.94077126980798, 110.18835514229251, 62.797918614605344, 107.17193852405087, 200.34479427336666, 234.5419578772194, 26.843536582654338, 72.27378304123692, 137.89086889224868, 68.72796446054697, 96.14394585198433, 64.5678014543085, 83.7481928708254, 124.64092380065577, 178.29985994842548, 47.12303148673272, 44.90279054928969, 38.072646637314534, 37.87954217740011, 27.99318596119275, 26.44042358438376, 24.12243025204567, 23.85566705210602, 22.537278106066076, 20.575463479404156, 19.37888499310882, 19.35105695926289, 18.42974399187999, 16.885583326055055, 16.343349135717165, 15.558257346635354, 15.360284551893544, 15.104805289505643, 45.637648101017895, 14.8932578876882, 14.06178368583854, 14.016660034304982, 13.9080663217233, 13.440531965258163, 12.370053756250572, 12.325339832970963, 11.779695715147268, 12.052127630912697, 11.339954761979307, 13.741412511202217, 66.69265034202202, 30.063397109286246, 137.89086889224868, 85.2080082390434, 52.3021859462437, 155.94077126980798, 33.68704451801713, 37.758883225686155, 21.344525459130033, 72.27378304123692, 124.64092380065577, 81.06450223052181, 38.15899346759845, 80.97266566834908, 200.34479427336666, 48.8519351868778, 62.797918614605344, 38.7170695383887, 102.42202382570902, 162.9317272811552, 144.70190436330387, 144.70913520366656, 133.43395928325123, 119.76023829066249, 111.60906228094288, 69.34452462460152, 44.971015129792626, 41.76115404270965, 41.77860961530975, 41.14281008565204, 33.95522076952101, 27.660010726433132, 24.83213062975595, 21.394579133174297, 19.512099121624704, 19.657385402537752, 18.790963364663227, 18.00284301473932, 16.78241748361122, 14.919265265846708, 15.034368855124018, 14.421238973755878, 14.197368985580448, 13.811554506675854, 13.587700544004912, 13.585708683474895, 13.054999451671433, 12.909664097324054, 12.832325333008693, 178.29985994842548, 34.11488228422034, 102.42202382570902, 184.14362999061012, 64.5678014543085, 34.677164551257135, 38.45669331804976, 50.96290430821347, 124.64092380065577, 29.566871534655654, 52.57826599972204, 49.641122006671125, 99.84638981565881, 39.472056443571205], \"Category\": [\"Default\", \"Default\", \"Default\", \"Default\", \"Default\", \"Default\", \"Default\", \"Default\", \"Default\", \"Default\", \"Default\", \"Default\", \"Default\", \"Default\", \"Default\", \"Default\", \"Default\", \"Default\", \"Default\", \"Default\", \"Default\", \"Default\", \"Default\", \"Default\", \"Default\", \"Default\", \"Default\", \"Default\", \"Default\", \"Default\", \"Topic1\", \"Topic1\", \"Topic1\", \"Topic1\", \"Topic1\", \"Topic1\", \"Topic1\", \"Topic1\", \"Topic1\", \"Topic1\", \"Topic1\", \"Topic1\", \"Topic1\", \"Topic1\", \"Topic1\", \"Topic1\", \"Topic1\", \"Topic1\", \"Topic1\", \"Topic1\", \"Topic1\", \"Topic1\", \"Topic1\", \"Topic1\", \"Topic1\", \"Topic1\", \"Topic1\", \"Topic1\", \"Topic1\", \"Topic1\", \"Topic1\", \"Topic1\", \"Topic1\", \"Topic1\", \"Topic1\", \"Topic1\", \"Topic1\", \"Topic1\", \"Topic1\", \"Topic1\", \"Topic1\", \"Topic1\", \"Topic1\", \"Topic1\", \"Topic1\", \"Topic1\", \"Topic1\", \"Topic1\", \"Topic1\", \"Topic1\", \"Topic1\", \"Topic1\", \"Topic1\", \"Topic1\", \"Topic1\", \"Topic2\", \"Topic2\", \"Topic2\", \"Topic2\", \"Topic2\", \"Topic2\", \"Topic2\", \"Topic2\", \"Topic2\", \"Topic2\", \"Topic2\", \"Topic2\", \"Topic2\", \"Topic2\", \"Topic2\", \"Topic2\", \"Topic2\", \"Topic2\", \"Topic2\", \"Topic2\", \"Topic2\", \"Topic2\", \"Topic2\", \"Topic2\", \"Topic2\", \"Topic2\", \"Topic2\", \"Topic2\", \"Topic2\", \"Topic2\", \"Topic2\", \"Topic2\", \"Topic2\", \"Topic2\", \"Topic2\", \"Topic2\", \"Topic2\", \"Topic2\", \"Topic2\", \"Topic2\", \"Topic2\", \"Topic2\", \"Topic2\", \"Topic2\", \"Topic2\", \"Topic2\", \"Topic2\", \"Topic2\", \"Topic2\", \"Topic2\", \"Topic2\", \"Topic2\", \"Topic2\", \"Topic2\", \"Topic2\", \"Topic2\", \"Topic2\", \"Topic2\", \"Topic3\", \"Topic3\", \"Topic3\", \"Topic3\", \"Topic3\", \"Topic3\", \"Topic3\", \"Topic3\", \"Topic3\", \"Topic3\", \"Topic3\", \"Topic3\", \"Topic3\", \"Topic3\", \"Topic3\", \"Topic3\", \"Topic3\", \"Topic3\", \"Topic3\", \"Topic3\", \"Topic3\", \"Topic3\", \"Topic3\", \"Topic3\", \"Topic3\", \"Topic3\", \"Topic3\", \"Topic3\", \"Topic3\", \"Topic3\", \"Topic3\", \"Topic3\", \"Topic3\", \"Topic3\", \"Topic3\", \"Topic3\", \"Topic3\", \"Topic3\", \"Topic3\", \"Topic3\", \"Topic3\", \"Topic3\", \"Topic3\", \"Topic3\", \"Topic3\", \"Topic3\", \"Topic3\", \"Topic3\", \"Topic3\", \"Topic4\", \"Topic4\", \"Topic4\", \"Topic4\", \"Topic4\", \"Topic4\", \"Topic4\", \"Topic4\", \"Topic4\", \"Topic4\", \"Topic4\", \"Topic4\", \"Topic4\", \"Topic4\", \"Topic4\", \"Topic4\", \"Topic4\", \"Topic4\", \"Topic4\", \"Topic4\", \"Topic4\", \"Topic4\", \"Topic4\", \"Topic4\", \"Topic4\", \"Topic4\", \"Topic4\", \"Topic4\", \"Topic4\", \"Topic4\", \"Topic4\", \"Topic4\", \"Topic4\", \"Topic4\", \"Topic4\", \"Topic4\", \"Topic4\", \"Topic4\", \"Topic4\", \"Topic4\", \"Topic4\", \"Topic4\", \"Topic4\", \"Topic4\"], \"logprob\": [30.0, 29.0, 28.0, 27.0, 26.0, 25.0, 24.0, 23.0, 22.0, 21.0, 20.0, 19.0, 18.0, 17.0, 16.0, 15.0, 14.0, 13.0, 12.0, 11.0, 10.0, 9.0, 8.0, 7.0, 6.0, 5.0, 4.0, 3.0, 2.0, 1.0, -2.6143, -2.7875, -3.4457, -4.0372, -4.1125, -4.1561, -4.5455, -4.7522, -5.0243, -5.2498, -5.3031, -5.3088, -5.31, -5.3722, -5.4701, -5.4962, -5.7632, -5.7463, -5.777, -5.7841, -5.8941, -5.9967, -6.0541, -6.1756, -6.233, -6.2343, -6.2579, -6.2713, -6.2895, -6.2604, -2.9184, -4.2613, -4.4823, -5.3619, -3.844, -3.1835, -4.1682, -5.1225, -3.9365, -4.1901, -3.9462, -3.508, -4.2559, -4.7154, -3.9606, -4.6314, -4.395, -4.2239, -4.0212, -4.6907, -4.8485, -4.9848, -5.064, -4.7533, -4.9263, -2.5725, -3.8528, -3.8872, -4.7999, -4.8259, -5.061, -5.1227, -5.1793, -5.2274, -5.2188, -5.2678, -5.3036, -5.3139, -5.3854, -5.3584, -5.4067, -5.4703, -5.4863, -5.5635, -5.5921, -5.6722, -5.7702, -5.8369, -5.8732, -5.9048, -5.8856, -5.9178, -5.8801, -5.9551, -5.9906, -4.1515, -4.395, -4.1278, -5.0621, -5.4754, -4.636, -4.2799, -3.68, -4.0036, -3.8565, -4.6345, -4.5412, -3.5535, -3.8294, -4.0862, -4.4716, -4.1676, -3.889, -3.8812, -5.017, -4.6025, -4.3764, -4.6518, -4.6861, -4.8179, -4.7726, -4.7725, -4.7482, -4.1589, -4.208, -4.376, -4.3812, -4.6909, -4.75, -4.8436, -4.855, -4.9136, -5.0078, -5.0702, -5.0721, -5.1226, -5.2144, -5.2479, -5.2999, -5.3133, -5.3304, -4.2247, -5.3453, -5.4056, -5.4095, -5.4179, -5.4544, -5.5407, -5.545, -5.5929, -5.5703, -5.6342, -5.4426, -3.8792, -4.6853, -3.3636, -3.8281, -4.332, -3.4357, -4.7506, -4.7291, -5.1275, -4.4449, -4.2359, -4.4687, -4.8895, -4.5691, -4.1819, -4.878, -4.8531, -4.9771, -4.953, -2.9638, -3.083, -3.0829, -3.1646, -3.2733, -3.3442, -3.8246, -4.2626, -4.3381, -4.3378, -4.3533, -4.5487, -4.7587, -4.8696, -5.0233, -5.1191, -5.1128, -5.158, -5.2034, -5.2773, -5.3982, -5.3905, -5.4349, -5.4506, -5.4803, -5.497, -5.4987, -5.5391, -5.5513, -5.5579, -3.0161, -4.6461, -3.7152, -3.2766, -4.32, -4.81, -4.8913, -4.766, -4.5094, -5.1705, -5.0505, -5.0665, -5.0102, -5.134], \"loglift\": [30.0, 29.0, 28.0, 27.0, 26.0, 25.0, 24.0, 23.0, 22.0, 21.0, 20.0, 19.0, 18.0, 17.0, 16.0, 15.0, 14.0, 13.0, 12.0, 11.0, 10.0, 9.0, 8.0, 7.0, 6.0, 5.0, 4.0, 3.0, 2.0, 1.0, 1.3058, 1.3052, 1.3019, 1.2963, 1.2953, 1.2947, 1.2885, 1.2838, 1.2759, 1.2675, 1.2646, 1.2644, 1.2632, 1.262, 1.257, 1.253, 1.2419, 1.2409, 1.2407, 1.2321, 1.2295, 1.2197, 1.2185, 1.2076, 1.204, 1.2026, 1.1985, 1.1984, 1.1977, 1.1961, 1.0288, 1.0592, 1.0589, 1.1275, 0.995, 0.8494, 0.9708, 1.0537, 0.7939, 0.8206, 0.7565, 0.5968, 0.7537, 0.8889, 0.558, 0.8112, 0.582, 0.3549, 0.168, 0.4839, 0.6676, 0.8317, 0.9358, 0.0479, -0.3469, 1.4808, 1.4718, 1.4714, 1.4524, 1.4516, 1.4426, 1.4407, 1.4383, 1.4364, 1.4352, 1.4342, 1.4327, 1.4319, 1.4283, 1.4278, 1.4262, 1.4235, 1.422, 1.4172, 1.4166, 1.4098, 1.4002, 1.3962, 1.3942, 1.3928, 1.3925, 1.3909, 1.3873, 1.3872, 1.3842, 1.3614, 1.3349, 1.314, 1.2901, 1.3356, 1.1094, 1.0251, 0.8386, 0.7976, 0.7223, 1.0067, 0.9588, 0.4794, 0.526, 0.6165, 0.7933, 0.5628, 0.2158, 0.066, 1.0978, 0.5218, 0.102, 0.5229, 0.1529, 0.4193, 0.2044, -0.1931, -0.5268, 1.3932, 1.3924, 1.3893, 1.3893, 1.382, 1.38, 1.3781, 1.3778, 1.3761, 1.3729, 1.3705, 1.3699, 1.3683, 1.364, 1.3631, 1.3603, 1.3597, 1.3594, 1.3594, 1.3586, 1.3558, 1.3551, 1.3545, 1.3522, 1.3489, 1.3481, 1.3456, 1.3453, 1.3423, 1.3418, 1.3255, 1.3162, 1.1147, 1.1316, 1.1158, 0.9196, 1.1371, 1.0445, 1.2166, 0.6795, 0.3435, 0.5409, 0.8736, 0.4416, -0.0771, 0.6381, 0.4119, 0.7715, -0.1773, 1.3477, 1.3472, 1.3472, 1.3467, 1.3461, 1.3456, 1.3411, 1.3362, 1.3348, 1.3346, 1.3345, 1.3311, 1.3261, 1.3231, 1.3184, 1.3147, 1.3136, 1.3135, 1.3109, 1.3072, 1.304, 1.304, 1.3013, 1.3012, 1.299, 1.2987, 1.2971, 1.2966, 1.2956, 1.295, 1.2052, 1.229, 1.0605, 0.9125, 0.9171, 1.0487, 0.864, 0.7078, 0.07, 0.8477, 0.392, 0.4336, -0.209, 0.5952]}, \"token.table\": {\"Topic\": [4, 4, 3, 2, 3, 4, 1, 2, 1, 3, 1, 2, 3, 2, 3, 4, 4, 1, 2, 4, 1, 3, 4, 2, 3, 4, 2, 2, 4, 4, 1, 3, 3, 3, 1, 3, 4, 4, 1, 3, 3, 1, 2, 3, 4, 1, 3, 4, 1, 3, 2, 3, 4, 3, 3, 2, 3, 2, 2, 3, 1, 4, 1, 2, 1, 1, 2, 3, 1, 3, 3, 2, 2, 3, 1, 3, 1, 3, 1, 2, 2, 4, 1, 1, 3, 4, 1, 2, 2, 4, 4, 1, 1, 2, 3, 4, 1, 1, 1, 3, 3, 2, 4, 3, 1, 2, 3, 2, 3, 4, 3, 1, 2, 2, 1, 4, 2, 1, 3, 1, 1, 2, 3, 3, 4, 2, 4, 1, 3, 1, 1, 1, 2, 2, 2, 4, 4, 4, 4, 2, 2, 1, 2, 3, 1, 2, 4, 2, 4, 2, 3, 4, 1, 2, 4, 3, 2, 2, 1, 1, 2, 2, 1, 1, 4, 2, 3, 2, 1, 2, 1, 2, 1, 2, 3, 4, 4, 2, 3, 4, 2, 4, 2, 3, 1, 2, 1, 1, 2, 1, 4, 2, 3, 1, 2, 3, 4, 4, 3, 3, 2, 3, 2, 2, 4, 4, 1, 2, 1, 2, 3, 2, 1, 2, 1, 3, 2, 2, 2, 4, 1, 2, 2, 3, 3, 1, 4, 4, 1, 2, 3, 2, 4, 4, 2, 4, 1, 4, 4, 4, 3, 3, 2, 4, 2, 3, 1, 2, 1, 3, 3, 4, 1, 3, 4, 1, 1], \"Freq\": [0.9191880891625498, 0.9664897611017388, 0.9645204385606692, 0.8775029520752051, 0.10203522698548896, 0.9813634387913085, 0.5971712453968303, 0.4012244305009954, 0.9968111986755709, 0.97008470912557, 0.608211120879975, 0.2764596003999886, 0.08293788011999659, 0.048817625479735414, 0.20503402701488874, 0.7517914323879253, 0.9567476084638755, 0.3204020687710378, 0.032583261230952995, 0.6462346810805677, 0.838493206866266, 0.9767805488967903, 0.9295361916107011, 0.49364693422800987, 0.36625417700787827, 0.12739275722013157, 0.9166240353798352, 0.08793816068325214, 0.8793816068325213, 0.9718682209135144, 0.5797852167937436, 0.4194190929997294, 0.9268573630490141, 0.9244915360980948, 0.25508750288991766, 0.21584327167608416, 0.5297971213867521, 0.944295297475056, 0.7767138182418445, 0.20992265357887688, 0.9475538801974007, 0.19255312996864782, 0.18453008288662082, 0.3449910245271607, 0.2808066478709447, 0.41325441699908877, 0.5165680212488609, 0.051656802124886096, 0.0665260812917986, 0.8981020974392812, 0.14055126246513774, 0.8433075747908265, 0.9815570509371476, 0.971826318051048, 0.9641182598926425, 0.9855212960909784, 0.9641314975499509, 0.9634770524375056, 0.6951843197285068, 0.30897080876822525, 0.8550768693305278, 0.9311997154591904, 0.3646628282095993, 0.6298721578165806, 0.9426687996908489, 0.2551930558191195, 0.6263829551923842, 0.11599684355414523, 0.8816762518448508, 0.9274677396885732, 0.9672236213271265, 0.8819305107822809, 0.04382346775567938, 0.9422045567471067, 0.7922330078793849, 0.19805825196984622, 0.9188800681462497, 0.9700215063362413, 0.8664045581041355, 0.9538059650597537, 0.943624383272937, 0.9936519975117505, 0.9471343040941749, 0.13103070981800394, 0.5765351231992173, 0.28826756159960865, 0.7546624135058082, 0.24302687892559927, 0.5841930808111625, 0.4028917798697672, 0.9156626141930554, 0.9133026170703245, 0.4365035431424917, 0.3783030707234928, 0.07275059052374862, 0.10185082673324806, 0.9175176876292238, 0.9959513533666386, 0.9074063156593508, 0.9720315666288544, 0.9534694373527939, 0.8362035243459409, 0.1520370044265347, 0.9761680976095753, 0.9780291115657463, 0.9436729736295264, 0.976160470508572, 0.23471972192909146, 0.7628390962695473, 0.9817736348489985, 0.9347093765072882, 0.9891461298494127, 0.9956354959437286, 0.9830937875785435, 0.9864821112399793, 0.996747759823794, 0.9477355981232523, 0.8385102814232037, 0.9766820422427281, 0.9846857890947083, 0.38487467018972094, 0.46505689314591275, 0.14432800132114534, 0.7718100644327583, 0.2374800198254641, 0.8968415764463245, 0.07473679803719371, 0.07497077975396603, 0.9146435129983855, 0.9270967792814447, 0.9961749139100426, 0.7160535769059228, 0.28080532427683247, 0.934180669734744, 0.8619072402356693, 0.1267510647405396, 0.9383840122508514, 0.9945428958142328, 0.9942814865054036, 0.9117613253907819, 0.9675249676885797, 0.13836275865474407, 0.3874157242332834, 0.48426965529160426, 0.2804307702230891, 0.5007692325412305, 0.21032307766731684, 0.974081270533804, 0.9950995823265165, 0.8898825967280143, 0.9460453930338089, 0.9722233342041317, 0.14169245313939413, 0.8029239011232334, 0.04723081771313138, 0.9804485658878954, 0.9107587271650347, 0.9801750035601847, 0.9375419216891475, 0.9640175617116791, 0.9644147584601601, 0.9334678880569695, 0.8549789752519137, 0.9194508072575687, 0.9579072477917417, 0.24855557688088653, 0.7456667306426596, 0.9804486624523635, 0.8127195573030609, 0.16254391146061217, 0.631748059413272, 0.36697129921800353, 0.2533437804107289, 0.05066875608214578, 0.2533437804107289, 0.4813531827803849, 0.970790375603479, 0.1352865485045165, 0.270573097009033, 0.6087894682703242, 0.6705524789766777, 0.2980233239896345, 0.3847614675201797, 0.6156183480322875, 0.9920193758052427, 0.8604790092778897, 0.9620504202397636, 0.7280749648840761, 0.2600267731728843, 0.8967535655782144, 0.9784079784058656, 0.2538239136584879, 0.7469675173378357, 0.47762224626979904, 0.27463279160513443, 0.21493001082140956, 0.023881112313489952, 0.9351383859581789, 0.9736039867963185, 0.9338101990066965, 0.972615522097101, 0.9127019176087982, 0.9740470331912238, 0.25953679075164543, 0.7497729510603091, 0.9665578412858058, 0.5717482570517048, 0.41746698133934007, 0.48915670784178633, 0.27951811876673505, 0.22461277400898352, 0.9581407129354774, 0.6483533177536941, 0.335355164355359, 0.5322204719329912, 0.47081041747918445, 0.9382160802345981, 0.9793146607812604, 0.971034004968764, 0.9761384500909684, 0.47562630600802275, 0.5209240494373583, 0.29132217534752336, 0.6885796871850551, 0.9833427939239263, 0.7743679299558246, 0.21884311063968956, 0.9737547908898659, 0.6973524022846809, 0.2988653152648632, 0.9789915070120603, 0.13460470472013927, 0.863713521954227, 0.995149308045445, 0.340727103981825, 0.6504790166925749, 0.6086164956480149, 0.38038530978000934, 0.9950316967854836, 0.9568878814406401, 0.9765444090129743, 0.979894555811655, 0.9060808386520233, 0.9412409004154031, 0.9741502551128957, 0.9818585124315471, 0.9486029411628599, 0.9193674317577707, 0.9394102365064888, 0.9400226670064828, 0.3640458602151595, 0.624078617511702, 0.617492330125229, 0.3828452446776419, 0.9533787379335972, 0.9426592945573127, 0.8913306634050042], \"Term\": [\"abre\", \"abrir\", \"acced\", \"activ\", \"activ\", \"actualiz\", \"agreg\", \"agreg\", \"amig\", \"anterior\", \"aparec\", \"aparec\", \"aparec\", \"aplic\", \"aplic\", \"aplic\", \"aplicacion\", \"app\", \"app\", \"app\", \"aser\", \"asesor\", \"avec\", \"benefici\", \"benefici\", \"benefici\", \"bloque\", \"buen\", \"buen\", \"cae\", \"cambi\", \"cambi\", \"cancel\", \"cancel_plan\", \"carg\", \"carg\", \"carg\", \"casi\", \"celul\", \"celul\", \"chat\", \"clar\", \"clar\", \"clar\", \"clar\", \"clar_hog\", \"clar_hog\", \"clar_hog\", \"clar_vide\", \"clar_vide\", \"client\", \"client\", \"cobertur\", \"cobr\", \"com\", \"compart\", \"compart_dat\", \"complet\", \"comun\", \"comun\", \"condicion\", \"conect\", \"consult\", \"consult\", \"consum\", \"contact\", \"contact\", \"contact\", \"conten\", \"contest\", \"corre\", \"cort\", \"cuent\", \"cuent\", \"da\", \"da\", \"da_opcion\", \"dan\", \"dan_respuest\", \"dan_solucion\", \"dar\", \"dat\", \"dat_compart\", \"deb\", \"deb\", \"deb\", \"dej\", \"dej\", \"demor\", \"demor\", \"demor_carg\", \"descarg\", \"dic\", \"dic\", \"dic\", \"dic\", \"dond\", \"eleg\", \"eleg_destin\", \"encontr\", \"encuentr\", \"entrar\", \"entrar\", \"equip\", \"error\", \"escrib\", \"facil\", \"factur\", \"factur\", \"fall\", \"falt\", \"famili\", \"famili_amig\", \"familiar\", \"fij\", \"funcion\", \"funcion_bien\", \"grab\", \"graci\", \"grup_famili\", \"hac\", \"hac\", \"hac\", \"hog\", \"hog\", \"inconvenient\", \"inconvenient\", \"inform\", \"inform\", \"informacion\", \"ingres\", \"inscrib\", \"inscrib\", \"inscripcion\", \"intent\", \"intent\", \"intermitent\", \"internet\", \"lent\", \"lentitud\", \"lin\", \"line\", \"line\", \"line\", \"llam\", \"llam\", \"llam\", \"logr\", \"mal\", \"maner\", \"medi\", \"mejor\", \"mensaj\", \"mensaj\", \"mensaj\", \"mes\", \"met_eleg\", \"minut\", \"mir\", \"modific\", \"moment\", \"much\", \"music\", \"n\", \"naveg\", \"necesit\", \"necesit\", \"ningun\", \"nombr\", \"nombr\", \"numer\", \"numer\", \"nunc\", \"nunc\", \"nunc\", \"nunc\", \"ocasion\", \"ofrec\", \"ofrec\", \"ofrec\", \"oper\", \"oper\", \"pag\", \"pag\", \"pag_factur\", \"pag_pse\", \"part\", \"permit\", \"permit\", \"personal\", \"pesim\", \"plan\", \"plan\", \"pod\", \"pod\", \"pod\", \"pod\", \"pon\", \"pospag\", \"postpag\", \"pqr\", \"prepag\", \"primer\", \"problem\", \"problem\", \"product\", \"pud\", \"pud\", \"pued\", \"pued\", \"pued\", \"pues\", \"qued\", \"qued\", \"quier\", \"quier\", \"rap\", \"realiz\", \"recarg\", \"red\", \"registr\", \"registr\", \"respuest\", \"respuest\", \"sab\", \"sal\", \"sal\", \"sal_error\", \"sald\", \"sald\", \"se\", \"servici\", \"servici\", \"se\\u00f1al\", \"si\", \"si\", \"siempr\", \"siempr\", \"sirv\", \"sistem\", \"solicit\", \"solucion\", \"solucion_problem\", \"tan\", \"tard\", \"ten\", \"termin\", \"unic\", \"usuari\", \"valor\", \"vec\", \"vec\", \"ver\", \"ver\", \"verific\", \"vez\", \"visualiz\"]}, \"R\": 30, \"lambda.step\": 0.01, \"plot.opts\": {\"xlab\": \"PC1\", \"ylab\": \"PC2\"}, \"topic.order\": [1, 2, 3, 4]};\n",
       "\n",
       "function LDAvis_load_lib(url, callback){\n",
       "  var s = document.createElement('script');\n",
       "  s.src = url;\n",
       "  s.async = true;\n",
       "  s.onreadystatechange = s.onload = callback;\n",
       "  s.onerror = function(){console.warn(\"failed to load library \" + url);};\n",
       "  document.getElementsByTagName(\"head\")[0].appendChild(s);\n",
       "}\n",
       "\n",
       "if(typeof(LDAvis) !== \"undefined\"){\n",
       "   // already loaded: just create the visualization\n",
       "   !function(LDAvis){\n",
       "       new LDAvis(\"#\" + \"ldavis_el258428970527947684840505523\", ldavis_el258428970527947684840505523_data);\n",
       "   }(LDAvis);\n",
       "}else if(typeof define === \"function\" && define.amd){\n",
       "   // require.js is available: use it to load d3/LDAvis\n",
       "   require.config({paths: {d3: \"https://d3js.org/d3.v5\"}});\n",
       "   require([\"d3\"], function(d3){\n",
       "      window.d3 = d3;\n",
       "      LDAvis_load_lib(\"https://cdn.jsdelivr.net/gh/bmabey/pyLDAvis@3.3.1/pyLDAvis/js/ldavis.v3.0.0.js\", function(){\n",
       "        new LDAvis(\"#\" + \"ldavis_el258428970527947684840505523\", ldavis_el258428970527947684840505523_data);\n",
       "      });\n",
       "    });\n",
       "}else{\n",
       "    // require.js not available: dynamically load d3 & LDAvis\n",
       "    LDAvis_load_lib(\"https://d3js.org/d3.v5.js\", function(){\n",
       "         LDAvis_load_lib(\"https://cdn.jsdelivr.net/gh/bmabey/pyLDAvis@3.3.1/pyLDAvis/js/ldavis.v3.0.0.js\", function(){\n",
       "                 new LDAvis(\"#\" + \"ldavis_el258428970527947684840505523\", ldavis_el258428970527947684840505523_data);\n",
       "            })\n",
       "         });\n",
       "}\n",
       "</script>"
      ],
      "text/plain": [
       "<IPython.core.display.HTML object>"
      ]
     },
     "execution_count": 58,
     "metadata": {},
     "output_type": "execute_result"
    }
   ],
   "source": [
    "pyLDAvis.display(modelosAccion['Pre_Elegidosdis'])"
   ]
  },
  {
   "cell_type": "code",
   "execution_count": 59,
   "metadata": {},
   "outputs": [
    {
     "data": {
      "text/html": [
       "\n",
       "<link rel=\"stylesheet\" type=\"text/css\" href=\"https://cdn.jsdelivr.net/gh/bmabey/pyLDAvis@3.3.1/pyLDAvis/js/ldavis.v1.0.0.css\">\n",
       "\n",
       "\n",
       "<div id=\"ldavis_el258428970527936483104515968\"></div>\n",
       "<script type=\"text/javascript\">\n",
       "\n",
       "var ldavis_el258428970527936483104515968_data = {\"mdsDat\": {\"x\": [-0.007052086462515215, -0.27474661784474386, 0.00539844709867822, 0.2764002572085808], \"y\": [-0.2914988030576605, 0.15598202273234277, -0.012335657418887716, 0.14785243774420548], \"topics\": [1, 2, 3, 4], \"cluster\": [1, 1, 1, 1], \"Freq\": [18.31606508777789, 22.408821270250595, 32.58573000506952, 26.689383636901997]}, \"tinfo\": {\"Term\": [\"app\", \"pag\", \"sald\", \"consum\", \"paquet\", \"servici\", \"pod\", \"lent\", \"funcion\", \"recarg\", \"inform\", \"oper\", \"ver\", \"necesit\", \"nunc\", \"quis\", \"compr_paquet\", \"lleg\", \"realiz\", \"mal\", \"facil\", \"gust\", \"cambi\", \"solucion\", \"pas\", \"deb\", \"asesor\", \"minut\", \"mejor\", \"vec\", \"pag\", \"oper\", \"quis\", \"solucion\", \"asesor\", \"wifi\", \"cuant\", \"acces\", \"conect\", \"cos\", \"habl\", \"form\", \"ayud\", \"sac\", \"prest\", \"cre\", \"sencill\", \"facilit\", \"med\", \"situacion\", \"actualiz\", \"paz\", \"salv\", \"orient\", \"contrase\\u00f1\", \"ningun\", \"nombr\", \"eleg\", \"atencion\", \"numer\", \"necesit\", \"dej\", \"line\", \"registr\", \"celul\", \"deb\", \"dat\", \"ver\", \"servici\", \"lent\", \"nunc\", \"lleg\", \"mal\", \"facil\", \"cambi\", \"pas\", \"mejor\", \"equip\", \"mes\", \"pospag\", \"se\\u00f1al\", \"dos\", \"acab\", \"solicit\", \"pues\", \"control\", \"porq\", \"trist\", \"cuand\", \"pesim\", \"prepag\", \"problem\", \"cae\", \"gig\", \"cad\", \"product\", \"casi\", \"va\", \"revis\", \"internet\", \"hac\", \"verd\", \"pued\", \"registr\", \"plan\", \"sald\", \"consum\", \"paquet\", \"inform\", \"gust\", \"minut\", \"vec\", \"permit\", \"bien\", \"mir\", \"error\", \"adquir\", \"real\", \"mostr\", \"ok\", \"q\", \"requier\", \"mg\", \"brasil\", \"ebej\", \"aparezc\", \"ide\", \"pud\", \"muestr\", \"movil\", \"pued_ver\", \"valor\", \"fech\", \"meg\", \"uso\", \"siempr\", \"da\", \"sal\", \"ver\", \"sab\", \"consult\", \"dat\", \"recarg\", \"hac\", \"clar\", \"reflej\", \"app\", \"pod\", \"funcion\", \"compr_paquet\", \"realiz\", \"carg\", \"cobertur\", \"demor\", \"si\", \"fall\", \"activ\", \"bloque\", \"abrir\", \"tiemp\", \"ocasion\", \"quit\", \"coloc\", \"igual\", \"mil_pes\", \"reinici\", \"atencion_client\", \"gestion\", \"dur\", \"play\", \"cup\", \"neces\", \"canal\", \"abril\", \"optimiz\", \"rapidez\", \"direct\", \"sirv\", \"dias\", \"llam\", \"recarg\", \"sol\", \"clar\", \"deb\", \"compr\", \"quier\", \"dat\", \"celul\", \"necesit\"], \"Freq\": [208.0, 117.0, 151.0, 145.0, 136.0, 80.0, 91.0, 74.0, 81.0, 177.0, 88.0, 56.0, 134.0, 85.0, 60.0, 49.0, 61.0, 52.0, 59.0, 50.0, 50.0, 69.0, 50.0, 44.0, 47.0, 85.0, 40.0, 62.0, 45.0, 62.0, 116.72704411446404, 56.16014101955929, 48.7200602217335, 43.419020782981725, 39.586726612573365, 36.52840691755803, 34.87936394526471, 30.35700722169047, 29.323653529799472, 28.99701195491641, 27.87079034775508, 27.703827957685814, 26.578759133119757, 26.60510084193404, 25.904315531095282, 25.664973743593695, 25.395947804263812, 25.31481603027933, 24.454340570661873, 24.023279760345243, 23.91130478681439, 24.421371928205467, 24.421371928205467, 23.992184389606155, 10.219597829381215, 9.142024900764993, 8.816839183792672, 7.873487113490821, 7.895930349642555, 25.181094815508292, 57.90905004929099, 34.345995245898244, 19.324854290711357, 25.083587576804263, 28.836596618173562, 32.02698823438273, 33.571854744751, 30.168370639293222, 79.79614672583506, 73.96123850268071, 59.85826272885619, 51.99992794281207, 50.274657476760254, 50.11650397925247, 50.07402796478829, 46.80776693916134, 45.12784689079017, 43.062783639175414, 42.18090906728727, 39.12751101372157, 39.622705534779726, 39.01650922657676, 36.617597455250724, 35.1794568752985, 34.92856746495216, 33.115397748540694, 32.79809429374342, 31.76581369915028, 32.31637880750169, 25.858750290187313, 15.160243555578438, 12.897670477615996, 12.336835126572133, 10.705631422048098, 10.765977601309068, 10.760868828658996, 10.454128805682243, 9.972014735527836, 10.661030265472542, 32.38902839066356, 67.68946698107446, 32.81118240972241, 30.69267442096943, 14.679399013511306, 13.683191221150455, 151.21576443817443, 144.7976109158785, 136.1776024334937, 87.83677427270234, 68.59238982497737, 62.07339151493082, 61.92877022495414, 52.49724403472103, 49.4785546534645, 43.740865199539144, 42.36322062506055, 38.758238206161, 38.0984920432042, 34.979899723831224, 33.85987331659027, 32.984446373951684, 31.96620660409547, 31.299806189877312, 31.196670868401075, 31.196670868401075, 31.19661513765349, 31.28246278122963, 25.814554730201806, 22.575192487548787, 17.817671736537324, 14.713583344222702, 9.699605018792003, 9.496628759655998, 9.279563070896785, 8.710391215545464, 47.945607991235036, 15.705799641495249, 32.37418632831079, 103.66678103133479, 22.387345036478408, 36.16941401369546, 85.11979443963338, 75.95050928214988, 55.29254228736772, 49.37878546914225, 36.31160822961492, 207.3110682862932, 90.89718134094139, 80.7353110238302, 60.93193866268383, 59.29857568764189, 48.995754038036736, 47.408366056384466, 47.312335286832074, 43.766874527738466, 38.13780442764091, 38.35887421565269, 34.93941789510404, 33.398509298895604, 32.84102826929116, 31.959713847010374, 27.137648210408162, 25.80377771737435, 25.260563451256736, 24.714519112075028, 24.712880408478238, 25.02749324052639, 24.234566108207947, 24.082716712100204, 23.756760764625792, 23.75438715495913, 23.27359882307474, 23.344802548440637, 22.469141425337085, 22.46902730948773, 22.468860700347665, 22.930991090861895, 38.2559919305048, 35.220581089388155, 45.63225784769664, 100.76371071064412, 35.270755546034216, 70.00166096118993, 53.15129182170425, 39.146675264017944, 30.301624249729386, 44.540703231508225, 27.848797642759127, 27.428636779322062], \"Total\": [208.0, 117.0, 151.0, 145.0, 136.0, 80.0, 91.0, 74.0, 81.0, 177.0, 88.0, 56.0, 134.0, 85.0, 60.0, 49.0, 61.0, 52.0, 59.0, 50.0, 50.0, 69.0, 50.0, 44.0, 47.0, 85.0, 40.0, 62.0, 45.0, 62.0, 117.42188515369804, 56.85614250842422, 49.40153271645031, 44.112745764242035, 40.2896806000648, 37.220663670335156, 35.58040315072588, 31.05659896437198, 30.006268402375937, 29.685973040407138, 28.553630327412318, 28.393919050749943, 27.261354566620334, 27.290992004234607, 26.590633906171195, 26.348591896747248, 26.078655856217154, 25.99823327254439, 25.136867905463774, 24.705809392435985, 24.608684466524256, 25.146921932454024, 25.146921932454024, 24.714897893202973, 10.910701800817854, 9.830725956908905, 9.510885504142117, 8.568946084045113, 8.599176717144484, 27.79042732409937, 85.84393862194932, 51.24269013198809, 25.9672712961952, 40.2049061355228, 57.19328568553746, 85.68928340991062, 163.49387289636016, 134.27055463945132, 80.42682494204983, 74.59566585595634, 60.490705130620086, 52.625391407709195, 50.90007870534443, 50.742950720459966, 50.70394249993368, 47.43267753502039, 45.75989908160966, 43.69435547302688, 42.80827149339847, 39.74950923562806, 40.25289817555824, 39.642717042230885, 37.25426328749457, 35.80162045088935, 35.550533922156546, 33.736381271785866, 33.41770379410284, 32.385048565228, 32.949906891051576, 26.48751225048553, 15.8086846305947, 13.53167092731131, 12.964485952826596, 11.33287819483232, 11.399637414976553, 11.398185903203164, 11.081700554888023, 10.615548558501374, 11.359367982840912, 39.593226551424344, 134.14356910238422, 55.86417527243983, 58.79131790589388, 40.2049061355228, 50.20729168919848, 151.84905431736897, 145.42667776275954, 136.80781787446767, 88.47134580980706, 69.21763873230132, 62.703631719866934, 62.5685654408828, 53.13330036538136, 50.11716812529676, 44.36609876476749, 43.00180340145255, 39.39039278519787, 38.72533568603762, 35.6054652189342, 34.48303940451679, 33.60793815217732, 32.59046006459664, 31.924545500793567, 31.819797759321723, 31.819797759321723, 31.81983269450537, 31.91988111687182, 26.455100042191734, 23.204126034391898, 18.46519810628869, 15.346888399138027, 10.33385411840482, 10.124985107194954, 9.91498512058072, 9.352229603327599, 53.4517733523827, 17.13857992620316, 37.24371001969152, 134.27055463945132, 25.40257130644448, 46.271594839320265, 163.49387289636016, 177.1654182554376, 134.14356910238422, 122.08996521598888, 61.39884797170356, 208.01563101714916, 91.60751375963476, 81.44178327723642, 61.64900490374277, 59.997537610571875, 49.70574020660442, 48.10417970905898, 48.010839996325714, 44.478382488435955, 38.847123151976064, 39.07493395994282, 35.63839516105917, 34.09711845683178, 33.54227286620086, 32.658274145085535, 27.835162898761943, 26.52205738332545, 25.96758716407082, 25.409498537143136, 25.409751445794626, 25.739151142512736, 24.929981241584255, 24.779390109839447, 24.449756790638464, 24.450509526821506, 23.971119259244134, 24.048294919577827, 23.161723676854148, 23.16176740999562, 23.161716042042915, 23.64228969105649, 39.81842336991824, 38.0794149303758, 53.989433142280944, 177.1654182554376, 43.743779829211135, 122.08996521598888, 85.68928340991062, 60.713129068706095, 38.563878143796856, 163.49387289636016, 57.19328568553746, 85.84393862194932], \"Category\": [\"Default\", \"Default\", \"Default\", \"Default\", \"Default\", \"Default\", \"Default\", \"Default\", \"Default\", \"Default\", \"Default\", \"Default\", \"Default\", \"Default\", \"Default\", \"Default\", \"Default\", \"Default\", \"Default\", \"Default\", \"Default\", \"Default\", \"Default\", \"Default\", \"Default\", \"Default\", \"Default\", \"Default\", \"Default\", \"Default\", \"Topic1\", \"Topic1\", \"Topic1\", \"Topic1\", \"Topic1\", \"Topic1\", \"Topic1\", \"Topic1\", \"Topic1\", \"Topic1\", \"Topic1\", \"Topic1\", \"Topic1\", \"Topic1\", \"Topic1\", \"Topic1\", \"Topic1\", \"Topic1\", \"Topic1\", \"Topic1\", \"Topic1\", \"Topic1\", \"Topic1\", \"Topic1\", \"Topic1\", \"Topic1\", \"Topic1\", \"Topic1\", \"Topic1\", \"Topic1\", \"Topic1\", \"Topic1\", \"Topic1\", \"Topic1\", \"Topic1\", \"Topic1\", \"Topic1\", \"Topic1\", \"Topic2\", \"Topic2\", \"Topic2\", \"Topic2\", \"Topic2\", \"Topic2\", \"Topic2\", \"Topic2\", \"Topic2\", \"Topic2\", \"Topic2\", \"Topic2\", \"Topic2\", \"Topic2\", \"Topic2\", \"Topic2\", \"Topic2\", \"Topic2\", \"Topic2\", \"Topic2\", \"Topic2\", \"Topic2\", \"Topic2\", \"Topic2\", \"Topic2\", \"Topic2\", \"Topic2\", \"Topic2\", \"Topic2\", \"Topic2\", \"Topic2\", \"Topic2\", \"Topic2\", \"Topic2\", \"Topic2\", \"Topic2\", \"Topic2\", \"Topic3\", \"Topic3\", \"Topic3\", \"Topic3\", \"Topic3\", \"Topic3\", \"Topic3\", \"Topic3\", \"Topic3\", \"Topic3\", \"Topic3\", \"Topic3\", \"Topic3\", \"Topic3\", \"Topic3\", \"Topic3\", \"Topic3\", \"Topic3\", \"Topic3\", \"Topic3\", \"Topic3\", \"Topic3\", \"Topic3\", \"Topic3\", \"Topic3\", \"Topic3\", \"Topic3\", \"Topic3\", \"Topic3\", \"Topic3\", \"Topic3\", \"Topic3\", \"Topic3\", \"Topic3\", \"Topic3\", \"Topic3\", \"Topic3\", \"Topic3\", \"Topic3\", \"Topic3\", \"Topic3\", \"Topic4\", \"Topic4\", \"Topic4\", \"Topic4\", \"Topic4\", \"Topic4\", \"Topic4\", \"Topic4\", \"Topic4\", \"Topic4\", \"Topic4\", \"Topic4\", \"Topic4\", \"Topic4\", \"Topic4\", \"Topic4\", \"Topic4\", \"Topic4\", \"Topic4\", \"Topic4\", \"Topic4\", \"Topic4\", \"Topic4\", \"Topic4\", \"Topic4\", \"Topic4\", \"Topic4\", \"Topic4\", \"Topic4\", \"Topic4\", \"Topic4\", \"Topic4\", \"Topic4\", \"Topic4\", \"Topic4\", \"Topic4\", \"Topic4\", \"Topic4\", \"Topic4\", \"Topic4\", \"Topic4\", \"Topic4\", \"Topic4\"], \"logprob\": [30.0, 29.0, 28.0, 27.0, 26.0, 25.0, 24.0, 23.0, 22.0, 21.0, 20.0, 19.0, 18.0, 17.0, 16.0, 15.0, 14.0, 13.0, 12.0, 11.0, 10.0, 9.0, 8.0, 7.0, 6.0, 5.0, 4.0, 3.0, 2.0, 1.0, -2.6678, -3.3994, -3.5415, -3.6567, -3.7491, -3.8295, -3.8757, -4.0146, -4.0492, -4.0604, -4.1, -4.106, -4.1475, -4.1465, -4.1732, -4.1825, -4.193, -4.1962, -4.2308, -4.2486, -4.2533, -4.2322, -4.2322, -4.2499, -5.1033, -5.2147, -5.2509, -5.3641, -5.3613, -4.2015, -3.3687, -3.8911, -4.4662, -4.2054, -4.066, -3.961, -3.9139, -4.0208, -3.2498, -3.3257, -3.5373, -3.678, -3.7118, -3.7149, -3.7158, -3.7832, -3.8198, -3.8666, -3.8873, -3.9625, -3.9499, -3.9653, -4.0288, -4.0688, -4.076, -4.1293, -4.1389, -4.1709, -4.1537, -4.3766, -4.9106, -5.0722, -5.1167, -5.2585, -5.2529, -5.2534, -5.2823, -5.3295, -5.2627, -4.1515, -3.4144, -4.1385, -4.2053, -4.9428, -5.0131, -2.985, -3.0284, -3.0897, -3.5282, -3.7755, -3.8754, -3.8777, -4.0429, -4.1022, -4.2254, -4.2574, -4.3464, -4.3635, -4.4489, -4.4815, -4.5077, -4.539, -4.5601, -4.5634, -4.5634, -4.5634, -4.5606, -4.7528, -4.8869, -5.1235, -5.3149, -5.7316, -5.7528, -5.7759, -5.8392, -4.1336, -5.2497, -4.5263, -3.3625, -4.8952, -4.4155, -3.5596, -3.6736, -3.9911, -4.1042, -4.4116, -2.4699, -3.2944, -3.4129, -3.6943, -3.7215, -3.9124, -3.9453, -3.9473, -4.0252, -4.1629, -4.1571, -4.2505, -4.2956, -4.3124, -4.3396, -4.5032, -4.5536, -4.5749, -4.5967, -4.5968, -4.5841, -4.6163, -4.6226, -4.6362, -4.6363, -4.6568, -4.6537, -4.692, -4.692, -4.692, -4.6716, -4.1598, -4.2425, -3.9835, -3.1913, -4.241, -3.5556, -3.831, -4.1368, -4.3929, -4.0077, -4.4773, -4.4925], \"loglift\": [30.0, 29.0, 28.0, 27.0, 26.0, 25.0, 24.0, 23.0, 22.0, 21.0, 20.0, 19.0, 18.0, 17.0, 16.0, 15.0, 14.0, 13.0, 12.0, 11.0, 10.0, 9.0, 8.0, 7.0, 6.0, 5.0, 4.0, 3.0, 2.0, 1.0, 1.6915, 1.6851, 1.6835, 1.6815, 1.6798, 1.6786, 1.6775, 1.6746, 1.6744, 1.6739, 1.6732, 1.6728, 1.672, 1.6719, 1.6712, 1.6711, 1.6709, 1.6708, 1.6699, 1.6694, 1.6686, 1.6681, 1.6681, 1.6677, 1.632, 1.6248, 1.6216, 1.6127, 1.6121, 1.5988, 1.3037, 1.2973, 1.4019, 1.2256, 1.0126, 0.7132, 0.1143, 0.2043, 1.4878, 1.4872, 1.4852, 1.4838, 1.4834, 1.4833, 1.4832, 1.4825, 1.4818, 1.4812, 1.481, 1.4799, 1.4799, 1.4798, 1.4785, 1.4782, 1.4781, 1.4771, 1.477, 1.4764, 1.4763, 1.4717, 1.4538, 1.4477, 1.4461, 1.4388, 1.4385, 1.4382, 1.4374, 1.4332, 1.4323, 1.2949, 0.8117, 0.9636, 0.8457, 0.4882, 0.1957, 1.1171, 1.117, 1.1167, 1.1141, 1.1122, 1.1112, 1.111, 1.1093, 1.1085, 1.1071, 1.1063, 1.1051, 1.105, 1.1036, 1.1031, 1.1026, 1.102, 1.1015, 1.1015, 1.1015, 1.1015, 1.1011, 1.0968, 1.0938, 1.0856, 1.0792, 1.058, 1.0572, 1.0551, 1.0502, 1.0126, 1.034, 0.9812, 0.8626, 0.9949, 0.875, 0.4686, 0.2743, 0.235, 0.2161, 0.596, 1.3175, 1.3131, 1.3122, 1.3092, 1.3092, 1.3065, 1.3063, 1.3062, 1.3048, 1.3025, 1.3024, 1.3011, 1.3002, 1.2998, 1.2993, 1.2955, 1.2934, 1.2933, 1.2932, 1.2931, 1.2929, 1.2926, 1.2924, 1.2922, 1.292, 1.2914, 1.2912, 1.2905, 1.2905, 1.2905, 1.2904, 1.2809, 1.2429, 1.1527, 0.7566, 1.1056, 0.7647, 0.8433, 0.8821, 1.0798, 0.0205, 0.6013, 0.18]}, \"token.table\": {\"Topic\": [4, 4, 2, 1, 4, 1, 3, 3, 4, 1, 1, 4, 1, 3, 4, 3, 2, 2, 2, 4, 4, 2, 1, 4, 2, 3, 4, 4, 4, 3, 4, 4, 1, 1, 3, 3, 1, 2, 1, 1, 2, 1, 4, 1, 3, 1, 3, 4, 1, 4, 1, 2, 3, 4, 2, 4, 4, 2, 4, 3, 1, 2, 3, 2, 1, 4, 3, 1, 4, 4, 2, 3, 1, 1, 2, 3, 3, 4, 3, 2, 4, 2, 1, 2, 3, 1, 4, 2, 2, 1, 3, 2, 2, 3, 4, 3, 3, 3, 3, 3, 4, 1, 4, 1, 1, 1, 2, 2, 4, 3, 1, 4, 1, 1, 3, 2, 1, 3, 2, 1, 2, 3, 4, 4, 2, 2, 2, 1, 2, 2, 3, 2, 3, 4, 3, 2, 3, 2, 3, 4, 1, 4, 4, 3, 4, 3, 4, 3, 4, 1, 2, 4, 3, 2, 2, 3, 1, 1, 3, 3, 1, 1, 2, 2, 4, 2, 3, 3, 4, 1, 3, 4, 2, 1, 4, 2, 3, 2, 3, 3, 1, 3, 2, 4, 1], \"Freq\": [0.9498429524044847, 0.9678237192324398, 0.9931749210678952, 0.9659782783818632, 0.9724904471740177, 0.9752654609655277, 0.9900891370307795, 0.9742351664015211, 0.9951175254850659, 0.9928100546901746, 0.9303216183533146, 0.9712830023639786, 0.9904130014529673, 0.9777088736836895, 0.9820868712473135, 0.9742362360212814, 0.9649429713920972, 0.9256055383656524, 0.9861166121365296, 0.9564087631541641, 0.9858016357130791, 0.9023885774994257, 0.5070525264005468, 0.4895679565246659, 0.0245720440225592, 0.4013433857018002, 0.5733476938597146, 0.9770460755024362, 0.9803161053541167, 0.3458889423445021, 0.6423651786397897, 0.989472581029392, 0.9664647270069656, 0.21611530864076223, 0.778015111106744, 0.9970660282602646, 0.916531326999553, 0.978172487859517, 0.9768923511628397, 0.9867699990150031, 0.9711711813270845, 0.9836875611479957, 0.9815746364578902, 0.05834789138341041, 0.9335662621345665, 0.20795886351993645, 0.5198971587998411, 0.27523967230579827, 0.3734422640334387, 0.6185137498053829, 0.6635092715160871, 0.05854493572200768, 0.27320970003603584, 0.9789455881962683, 0.05252181536026196, 0.9191317688045842, 0.9728330166219282, 0.9837872605566816, 0.968546840483779, 0.9742362360212814, 0.9336037269385488, 0.9841088061487595, 0.9767032235346039, 0.9853585432082411, 0.9616038035323508, 0.9781934134823321, 0.8888901963524347, 0.9861266403540184, 0.9945754714661325, 0.9626962719076175, 0.9706272149837356, 0.9968557330719842, 0.9806108602981801, 0.08200169470371196, 0.5069195672593103, 0.41000847351855985, 0.9711815619392893, 0.9627386573131603, 0.9946723336749014, 0.8082190512672127, 0.17679791746470278, 0.9920147390720184, 0.7316902797863069, 0.03851001472559509, 0.2310600883535706, 0.1481771438295567, 0.8520185770199511, 0.9881161661513537, 0.9823167521890311, 0.9547728893774923, 0.9077169446597082, 0.9833937771529078, 0.9811188009886567, 0.9710396659908412, 0.9838840370444722, 0.9887784534871846, 0.9917482317589252, 0.9829951605684336, 0.9748067633170826, 0.9912030285437446, 0.959487946777052, 0.6756446748724791, 0.31452424519925753, 0.9154969876537875, 0.9462841284421288, 0.899590341251084, 0.07196722730008671, 0.9918879251025345, 0.9798435721936459, 0.9859919713326223, 0.9849419522561284, 0.949841158948248, 0.9710742121496045, 0.9964070994674815, 0.9940952360251158, 0.9908780706149061, 0.9543911602567218, 0.9786706197885695, 0.9815946380363979, 0.1394219796465534, 0.2788439592931068, 0.5975227699138003, 0.9816048562572749, 0.99336829770068, 0.9875005237739718, 0.9811441889462056, 0.9488455460089549, 0.9777878967362971, 0.9607091444827981, 0.9650658528835484, 0.982797266256188, 0.5272887409943948, 0.3061676560612615, 0.17009314225625638, 0.9773968253292628, 0.9845140463048452, 0.9819108762511831, 0.07779300590084873, 0.12965500983474787, 0.7779300590084872, 0.9918720595420594, 0.9699961195916302, 0.949843265501823, 0.9812697379328558, 0.9833736908163361, 0.4289776229942515, 0.570088683189729, 0.5863302193648822, 0.40717376344783485, 0.6218146590301675, 0.3730887954181005, 0.9838742442377396, 0.981882426224536, 0.9683637343746799, 0.11809828083186674, 0.8660540594336894, 0.9893374339712732, 0.10740068585769563, 0.8592054868615651, 0.9944085636806508, 0.9543911602567218, 0.9586383645627962, 0.9946930027095142, 0.9937172678981958, 0.9892446068927905, 0.09354226597941519, 0.8980057534023859, 0.025114002900362784, 0.9543321102137858, 0.9714314402242544, 0.182883144328963, 0.8001137564392131, 0.9776093807823875, 0.9747749602759022, 0.9838331508313711, 0.9881102983541169, 0.9623373657119931, 0.9420144371146589, 0.9676931651463688, 0.9909129218981374, 0.22342947849256453, 0.7745555254408903, 0.590718467408939, 0.41171287122441197, 0.9940714740529728], \"Term\": [\"abril\", \"abrir\", \"acab\", \"acces\", \"activ\", \"actualiz\", \"adquir\", \"aparezc\", \"app\", \"asesor\", \"atencion\", \"atencion_client\", \"ayud\", \"bien\", \"bloque\", \"brasil\", \"cad\", \"cae\", \"cambi\", \"canal\", \"carg\", \"casi\", \"celul\", \"celul\", \"clar\", \"clar\", \"clar\", \"cobertur\", \"coloc\", \"compr\", \"compr\", \"compr_paquet\", \"conect\", \"consult\", \"consult\", \"consum\", \"contrase\\u00f1\", \"control\", \"cos\", \"cre\", \"cuand\", \"cuant\", \"cup\", \"da\", \"da\", \"dat\", \"dat\", \"dat\", \"deb\", \"deb\", \"dej\", \"dej\", \"dej\", \"demor\", \"dias\", \"dias\", \"direct\", \"dos\", \"dur\", \"ebej\", \"eleg\", \"equip\", \"error\", \"facil\", \"facilit\", \"fall\", \"fech\", \"form\", \"funcion\", \"gestion\", \"gig\", \"gust\", \"habl\", \"hac\", \"hac\", \"hac\", \"ide\", \"igual\", \"inform\", \"internet\", \"internet\", \"lent\", \"line\", \"line\", \"line\", \"llam\", \"llam\", \"lleg\", \"mal\", \"med\", \"meg\", \"mejor\", \"mes\", \"mg\", \"mil_pes\", \"minut\", \"mir\", \"mostr\", \"movil\", \"muestr\", \"neces\", \"necesit\", \"necesit\", \"ningun\", \"nombr\", \"numer\", \"numer\", \"nunc\", \"ocasion\", \"ok\", \"oper\", \"optimiz\", \"orient\", \"pag\", \"paquet\", \"pas\", \"paz\", \"permit\", \"pesim\", \"plan\", \"plan\", \"plan\", \"play\", \"pod\", \"porq\", \"pospag\", \"prepag\", \"prest\", \"problem\", \"product\", \"pud\", \"pued\", \"pued\", \"pued\", \"pued_ver\", \"pues\", \"q\", \"quier\", \"quier\", \"quier\", \"quis\", \"quit\", \"rapidez\", \"real\", \"realiz\", \"recarg\", \"recarg\", \"reflej\", \"reflej\", \"registr\", \"registr\", \"reinici\", \"requier\", \"revis\", \"sab\", \"sab\", \"sac\", \"sal\", \"sal\", \"sald\", \"salv\", \"sencill\", \"servici\", \"se\\u00f1al\", \"si\", \"siempr\", \"siempr\", \"sirv\", \"sirv\", \"situacion\", \"sol\", \"sol\", \"solicit\", \"solucion\", \"tiemp\", \"trist\", \"uso\", \"va\", \"valor\", \"vec\", \"ver\", \"ver\", \"verd\", \"verd\", \"wifi\"]}, \"R\": 30, \"lambda.step\": 0.01, \"plot.opts\": {\"xlab\": \"PC1\", \"ylab\": \"PC2\"}, \"topic.order\": [1, 2, 3, 4]};\n",
       "\n",
       "function LDAvis_load_lib(url, callback){\n",
       "  var s = document.createElement('script');\n",
       "  s.src = url;\n",
       "  s.async = true;\n",
       "  s.onreadystatechange = s.onload = callback;\n",
       "  s.onerror = function(){console.warn(\"failed to load library \" + url);};\n",
       "  document.getElementsByTagName(\"head\")[0].appendChild(s);\n",
       "}\n",
       "\n",
       "if(typeof(LDAvis) !== \"undefined\"){\n",
       "   // already loaded: just create the visualization\n",
       "   !function(LDAvis){\n",
       "       new LDAvis(\"#\" + \"ldavis_el258428970527936483104515968\", ldavis_el258428970527936483104515968_data);\n",
       "   }(LDAvis);\n",
       "}else if(typeof define === \"function\" && define.amd){\n",
       "   // require.js is available: use it to load d3/LDAvis\n",
       "   require.config({paths: {d3: \"https://d3js.org/d3.v5\"}});\n",
       "   require([\"d3\"], function(d3){\n",
       "      window.d3 = d3;\n",
       "      LDAvis_load_lib(\"https://cdn.jsdelivr.net/gh/bmabey/pyLDAvis@3.3.1/pyLDAvis/js/ldavis.v3.0.0.js\", function(){\n",
       "        new LDAvis(\"#\" + \"ldavis_el258428970527936483104515968\", ldavis_el258428970527936483104515968_data);\n",
       "      });\n",
       "    });\n",
       "}else{\n",
       "    // require.js not available: dynamically load d3 & LDAvis\n",
       "    LDAvis_load_lib(\"https://d3js.org/d3.v5.js\", function(){\n",
       "         LDAvis_load_lib(\"https://cdn.jsdelivr.net/gh/bmabey/pyLDAvis@3.3.1/pyLDAvis/js/ldavis.v3.0.0.js\", function(){\n",
       "                 new LDAvis(\"#\" + \"ldavis_el258428970527936483104515968\", ldavis_el258428970527936483104515968_data);\n",
       "            })\n",
       "         });\n",
       "}\n",
       "</script>"
      ],
      "text/plain": [
       "<IPython.core.display.HTML object>"
      ]
     },
     "execution_count": 59,
     "metadata": {},
     "output_type": "execute_result"
    }
   ],
   "source": [
    "pyLDAvis.display(modelosAccion['Pre_Consulta_Saldosdis'])"
   ]
  },
  {
   "cell_type": "code",
   "execution_count": 60,
   "metadata": {},
   "outputs": [
    {
     "data": {
      "text/html": [
       "\n",
       "<link rel=\"stylesheet\" type=\"text/css\" href=\"https://cdn.jsdelivr.net/gh/bmabey/pyLDAvis@3.3.1/pyLDAvis/js/ldavis.v1.0.0.css\">\n",
       "\n",
       "\n",
       "<div id=\"ldavis_el25842897070486688868284082\"></div>\n",
       "<script type=\"text/javascript\">\n",
       "\n",
       "var ldavis_el25842897070486688868284082_data = {\"mdsDat\": {\"x\": [0.061258674717389903, 0.18638097281483107, -0.29600463196082966, 0.048364984428608676], \"y\": [-0.18814521806434567, -0.04954859301223441, -0.026902443676361548, 0.26459625475294174], \"topics\": [1, 2, 3, 4], \"cluster\": [1, 1, 1, 1], \"Freq\": [32.47964174730071, 19.79301842305459, 24.641671229798913, 23.085668599845782]}, \"tinfo\": {\"Term\": [\"registr\", \"mal\", \"equip\", \"lent\", \"internet\", \"celul\", \"app\", \"si\", \"graci\", \"compr\", \"bien\", \"pag\", \"cambi\", \"consult\", \"ingres\", \"funcion\", \"pued\", \"se\\u00f1al\", \"numer\", \"plan\", \"llam\", \"ningun\", \"nunc\", \"buen\", \"siempr\", \"pesim\", \"dic\", \"sal\", \"factur\", \"dej\", \"celul\", \"compr\", \"factur\", \"pud\", \"cancel\", \"ver\", \"averigu\", \"equip_financi\", \"actualiz\", \"line\", \"part\", \"clar_vide\", \"quej\", \"report\", \"registr_imei\", \"financi\", \"corre\", \"cuot\", \"da\", \"favor\", \"sald\", \"activ\", \"conexion\", \"valor\", \"dej_entrar\", \"anterior\", \"quer\", \"ok\", \"recib\", \"vent\", \"pag\", \"plan\", \"dej\", \"sol\", \"nuev\", \"equip\", \"asesor\", \"necesit\", \"inform\", \"pued\", \"si\", \"clar\", \"opcion\", \"dat\", \"servici\", \"solucion\", \"cambi\", \"consult\", \"numer\", \"permit\", \"oper\", \"clav\", \"cel\", \"duplic\", \"facil\", \"wifi\", \"dias\", \"respuest\", \"pon\", \"sab\", \"com\", \"ofrec\", \"utiliz\", \"gestion\", \"razon\", \"se\", \"contact\", \"recuper\", \"tramit\", \"hoy\", \"vuelt\", \"algun\", \"dan\", \"hag\", \"exist\", \"meg\", \"ser\", \"si\", \"pued\", \"quier\", \"lleg\", \"imei\", \"dar\", \"llam\", \"dat\", \"solucion\", \"hac\", \"clar\", \"aparec\", \"registr\", \"deb\", \"plan\", \"asesor\", \"mal\", \"internet\", \"lent\", \"graci\", \"bien\", \"ningun\", \"buen\", \"pesim\", \"moment\", \"pud_registr\", \"much\", \"posibl\", \"cos\", \"lad\", \"agend\", \"experient\", \"cerr\", \"cad\", \"rap\", \"sup\", \"trabaj\", \"ahor\", \"seman\", \"person\", \"ofert\", \"ayer\", \"adquir\", \"trasl\", \"fin\", \"prest\", \"dic\", \"registr\", \"se\\u00f1al\", \"equip\", \"servici\", \"hog\", \"app\", \"verific\", \"esper\", \"movil\", \"mejor\", \"inform\", \"necesit\", \"problem\", \"ingres\", \"nunc\", \"siempr\", \"sal\", \"fall\", \"sirv\", \"dificil\", \"carg\", \"tiemp\", \"vec\", \"contest\", \"bloque\", \"voy\", \"usuari\", \"ayud\", \"naveg\", \"respond\", \"complic\", \"comun\", \"chat\", \"retir\", \"intermitent\", \"cualqui\", \"error\", \"suspend\", \"ultim\", \"avis\", \"dificult\", \"googl\", \"colabor\", \"funcion\", \"pag_factur\", \"app\", \"llam\", \"hac\", \"entrar\", \"aplic\", \"problem\", \"realiz\", \"servici\", \"clar\", \"solucion\", \"se\\u00f1al\", \"toc\", \"pag\"], \"Freq\": [151.0, 98.0, 233.0, 85.0, 85.0, 102.0, 130.0, 108.0, 64.0, 80.0, 63.0, 128.0, 52.0, 52.0, 55.0, 64.0, 118.0, 91.0, 44.0, 104.0, 77.0, 46.0, 43.0, 44.0, 41.0, 41.0, 55.0, 38.0, 51.0, 82.0, 101.67059830488955, 80.03987771065974, 50.51487188782988, 47.77655166344851, 43.32836344587714, 41.561354721607735, 38.92917727627372, 38.356083960526284, 32.736267971113996, 30.032876374152895, 28.46509139040259, 26.459209484324084, 27.558347135989116, 24.655559151601683, 22.30282826008129, 22.505200109049525, 21.502731237397246, 20.951599147771862, 21.38353068718618, 23.20164559360548, 20.350561311523457, 19.814461642063307, 19.7845613558163, 17.568396865527827, 17.344054348809795, 17.229540892369403, 16.67697097771969, 16.428007393464995, 15.894950625744885, 15.332841969470362, 106.78137837635495, 86.6945311692232, 67.36704980270733, 28.478703519995012, 45.6229001904232, 120.67249458043683, 43.81244379290459, 34.57770909326569, 34.25550950024369, 48.73190951028866, 46.450353655080434, 47.94022093150861, 29.349251271263206, 35.71966587553327, 32.367834075855676, 24.940955279695146, 51.603164972539396, 51.55793097935281, 44.02143415510254, 31.296626587705955, 27.05834477559938, 26.62758452931861, 23.012055915384863, 22.525331836059642, 21.07445429925701, 20.237957496340996, 19.555947701337097, 19.415090401140855, 17.97813847693757, 16.966873674179546, 15.727647037027554, 15.453096622647108, 15.420875868669162, 16.23294243562261, 13.973486721659448, 13.972663119733788, 13.657720866801549, 12.896268830165802, 12.895168228390892, 14.14095737829186, 11.990660975841122, 11.720063357529042, 11.813695060281331, 11.414404298357695, 10.91854744358735, 10.73621249830858, 14.323150946792971, 61.965947973781695, 62.326051065637664, 29.678750198168444, 16.86300941616523, 25.640651327561994, 23.973567599819287, 34.91388624520801, 31.90771291388993, 30.958791982247195, 32.10944442428022, 35.146286652854045, 21.17766921044371, 28.528771761703325, 16.256098636670234, 17.389189123869258, 17.00155208260632, 98.09484043641316, 84.3618393149559, 84.97029201617627, 64.0497079999588, 62.8972139027923, 46.056686574973156, 44.09185523695046, 41.026542667554324, 33.53069338924635, 29.608316689522013, 29.29222811454193, 28.541258851210134, 26.539043905468223, 22.325205640053486, 21.980740643249966, 20.730585810665453, 21.238854290848742, 17.134008909978334, 16.608649084778992, 15.65539062409852, 14.583759607671642, 14.674276607036663, 13.760386977960636, 13.936252231410112, 11.543974561492506, 11.632212646634636, 11.68408122553707, 11.107829060397414, 11.000297464362422, 11.084986705981882, 49.28411211751278, 122.85473283580468, 67.2917668938174, 112.25174620942161, 55.785106354876994, 24.31930572733669, 42.57162399782687, 22.219624475320167, 16.885792479024982, 20.698036325437904, 18.43761129077194, 20.428610744873573, 19.23537657898602, 18.177534682071254, 54.403336873904664, 43.16154783419955, 41.07884239832948, 37.568223439609255, 36.48239881922392, 27.51635977909497, 26.7755883433676, 26.685519031579933, 26.29268453239831, 26.081445871841698, 24.48661795199205, 22.11683156439429, 22.5904475468101, 21.12350942145193, 20.28752623872211, 19.81318356616968, 19.439298614798545, 18.26465673713533, 17.542286476186586, 15.857063288551318, 15.512606411630784, 14.646950687451893, 14.535489075257312, 14.206606184180211, 13.934715740651306, 13.82179883079527, 13.809699152412385, 13.218032453172755, 12.503681668467802, 12.487542053098506, 60.28416212824354, 28.946863693434743, 87.85459800739913, 42.096833658152306, 37.7151682382635, 22.417368746672818, 23.37786136845651, 22.37895770839624, 21.921865777688488, 35.16717787180768, 35.975387686123575, 24.665477677622462, 24.068870827625602, 20.242783984532323, 20.90922211362033], \"Total\": [151.0, 98.0, 233.0, 85.0, 85.0, 102.0, 130.0, 108.0, 64.0, 80.0, 63.0, 128.0, 52.0, 52.0, 55.0, 64.0, 118.0, 91.0, 44.0, 104.0, 77.0, 46.0, 43.0, 44.0, 41.0, 41.0, 55.0, 38.0, 51.0, 82.0, 102.3919867574204, 80.7542675221967, 51.236605280397995, 48.53483562447842, 44.04492492609658, 42.28226671645869, 39.645260187497925, 39.06776565639624, 33.467143263459334, 30.768482257195696, 29.221470091992842, 27.172898745707396, 28.303065095568837, 25.38108170925227, 23.011765550399787, 23.22221047930612, 22.23214118782428, 21.667175829111102, 22.128319406583596, 24.01790934392664, 21.075356451106412, 20.53466488179366, 20.53398396288573, 18.283334415264523, 18.05961565908875, 17.952747557335996, 17.387928012542126, 17.137912487838097, 16.610112301880864, 16.044405109732484, 128.14127506502996, 104.58633835754603, 82.2588649421285, 32.70602926827267, 59.08599115323035, 233.41588691086764, 68.87911465553886, 54.30643634988629, 55.18674849868052, 118.44424264135502, 108.91712479277027, 134.38741331664897, 46.117860291040785, 85.2959207439059, 123.54147123493017, 80.82854269487734, 52.3522360603931, 52.33359100316503, 44.78574597211492, 32.05236867537841, 27.80783578992989, 27.371397686891182, 23.75949052519124, 23.264191674530913, 21.827346215112538, 20.988913854751804, 20.310443859686075, 20.17085429048684, 18.73462235316608, 17.72367885075337, 16.480317378527737, 16.20320307456067, 16.20754836071738, 17.07183042687944, 14.719204923396507, 14.719690778325413, 14.409780498141856, 13.63775169186908, 13.638156752001503, 15.003429420150526, 12.742000741056422, 12.464847328804549, 12.569838617715018, 12.154102869985923, 11.659769013490534, 11.475134778514319, 16.053284414287443, 108.91712479277027, 118.44424264135502, 46.209059990839386, 21.72786366333905, 41.61675330601308, 37.712320976881195, 77.50189942460824, 85.2959207439059, 80.82854269487734, 90.04641806941024, 134.38741331664897, 45.19045825375792, 151.90930588300688, 25.107324751597243, 104.58633835754603, 68.87911465553886, 98.83052266387266, 85.09350696250779, 85.710512163076, 64.78645133365126, 63.63743863512476, 46.795305794637684, 44.82708982716985, 41.76177651345538, 34.27981970840157, 30.334341476938445, 30.025204097861607, 29.295391744508535, 27.26762738864748, 23.05036928581689, 22.715742706175615, 21.454779574272486, 22.09254526590071, 17.882590012509304, 17.349916226142835, 16.38442904678608, 15.321127669660859, 15.421461180089192, 14.49240634686818, 14.692145932659205, 12.266552206925091, 12.365592541382288, 12.44196197915762, 11.833627567304452, 11.735632197630888, 11.835296499349468, 55.342649096691154, 151.90930588300688, 91.82490012108028, 233.41588691086764, 123.54147123493017, 39.50005361751394, 130.90408209028243, 39.665780440791394, 22.205405554171545, 40.593189009321556, 33.062527313685536, 55.18674849868052, 54.30643634988629, 41.033500085804945, 55.104506727560356, 43.86954039739366, 41.77978511479991, 38.27027322717257, 37.212074171125536, 28.216515054007598, 27.473614701132067, 27.38773261011571, 26.995307428965198, 26.783976515973144, 25.18480486868935, 22.81180252480384, 23.300400071863056, 21.82799701666256, 20.998605219137264, 20.509283829962616, 20.143242010986835, 18.964139681133044, 18.24688513093227, 16.562122240676977, 16.211851860075864, 15.342415512266413, 15.230100104506429, 14.905662533932036, 14.62700872418471, 14.514401109810686, 14.51240824391152, 13.910749434114509, 13.194804047408185, 13.193449190576807, 64.88279536905074, 34.514664436280206, 130.90408209028243, 77.50189942460824, 90.04641806941024, 37.42268319396278, 43.03015424474461, 41.033500085804945, 39.314840686372165, 123.54147123493017, 134.38741331664897, 80.82854269487734, 91.82490012108028, 34.04410963320532, 128.14127506502996], \"Category\": [\"Default\", \"Default\", \"Default\", \"Default\", \"Default\", \"Default\", \"Default\", \"Default\", \"Default\", \"Default\", \"Default\", \"Default\", \"Default\", \"Default\", \"Default\", \"Default\", \"Default\", \"Default\", \"Default\", \"Default\", \"Default\", \"Default\", \"Default\", \"Default\", \"Default\", \"Default\", \"Default\", \"Default\", \"Default\", \"Default\", \"Topic1\", \"Topic1\", \"Topic1\", \"Topic1\", \"Topic1\", \"Topic1\", \"Topic1\", \"Topic1\", \"Topic1\", \"Topic1\", \"Topic1\", \"Topic1\", \"Topic1\", \"Topic1\", \"Topic1\", \"Topic1\", \"Topic1\", \"Topic1\", \"Topic1\", \"Topic1\", \"Topic1\", \"Topic1\", \"Topic1\", \"Topic1\", \"Topic1\", \"Topic1\", \"Topic1\", \"Topic1\", \"Topic1\", \"Topic1\", \"Topic1\", \"Topic1\", \"Topic1\", \"Topic1\", \"Topic1\", \"Topic1\", \"Topic1\", \"Topic1\", \"Topic1\", \"Topic1\", \"Topic1\", \"Topic1\", \"Topic1\", \"Topic1\", \"Topic1\", \"Topic1\", \"Topic2\", \"Topic2\", \"Topic2\", \"Topic2\", \"Topic2\", \"Topic2\", \"Topic2\", \"Topic2\", \"Topic2\", \"Topic2\", \"Topic2\", \"Topic2\", \"Topic2\", \"Topic2\", \"Topic2\", \"Topic2\", \"Topic2\", \"Topic2\", \"Topic2\", \"Topic2\", \"Topic2\", \"Topic2\", \"Topic2\", \"Topic2\", \"Topic2\", \"Topic2\", \"Topic2\", \"Topic2\", \"Topic2\", \"Topic2\", \"Topic2\", \"Topic2\", \"Topic2\", \"Topic2\", \"Topic2\", \"Topic2\", \"Topic2\", \"Topic2\", \"Topic2\", \"Topic2\", \"Topic2\", \"Topic2\", \"Topic2\", \"Topic2\", \"Topic2\", \"Topic2\", \"Topic2\", \"Topic3\", \"Topic3\", \"Topic3\", \"Topic3\", \"Topic3\", \"Topic3\", \"Topic3\", \"Topic3\", \"Topic3\", \"Topic3\", \"Topic3\", \"Topic3\", \"Topic3\", \"Topic3\", \"Topic3\", \"Topic3\", \"Topic3\", \"Topic3\", \"Topic3\", \"Topic3\", \"Topic3\", \"Topic3\", \"Topic3\", \"Topic3\", \"Topic3\", \"Topic3\", \"Topic3\", \"Topic3\", \"Topic3\", \"Topic3\", \"Topic3\", \"Topic3\", \"Topic3\", \"Topic3\", \"Topic3\", \"Topic3\", \"Topic3\", \"Topic3\", \"Topic3\", \"Topic3\", \"Topic3\", \"Topic3\", \"Topic3\", \"Topic3\", \"Topic4\", \"Topic4\", \"Topic4\", \"Topic4\", \"Topic4\", \"Topic4\", \"Topic4\", \"Topic4\", \"Topic4\", \"Topic4\", \"Topic4\", \"Topic4\", \"Topic4\", \"Topic4\", \"Topic4\", \"Topic4\", \"Topic4\", \"Topic4\", \"Topic4\", \"Topic4\", \"Topic4\", \"Topic4\", \"Topic4\", \"Topic4\", \"Topic4\", \"Topic4\", \"Topic4\", \"Topic4\", \"Topic4\", \"Topic4\", \"Topic4\", \"Topic4\", \"Topic4\", \"Topic4\", \"Topic4\", \"Topic4\", \"Topic4\", \"Topic4\", \"Topic4\", \"Topic4\", \"Topic4\", \"Topic4\", \"Topic4\", \"Topic4\", \"Topic4\"], \"logprob\": [30.0, 29.0, 28.0, 27.0, 26.0, 25.0, 24.0, 23.0, 22.0, 21.0, 20.0, 19.0, 18.0, 17.0, 16.0, 15.0, 14.0, 13.0, 12.0, 11.0, 10.0, 9.0, 8.0, 7.0, 6.0, 5.0, 4.0, 3.0, 2.0, 1.0, -3.3495, -3.5887, -4.049, -4.1047, -4.2025, -4.2441, -4.3095, -4.3244, -4.4828, -4.569, -4.6226, -4.6957, -4.655, -4.7663, -4.8666, -4.8575, -4.9031, -4.9291, -4.9086, -4.827, -4.9582, -4.9849, -4.9864, -5.1052, -5.118, -5.1246, -5.1572, -5.1723, -5.2053, -5.2413, -3.3005, -3.5089, -3.7611, -4.6221, -4.1509, -3.1782, -4.1914, -4.4281, -4.4374, -4.0849, -4.1329, -4.1013, -4.592, -4.3956, -4.4941, -4.7548, -3.5324, -3.5333, -3.6913, -4.0325, -4.178, -4.194, -4.34, -4.3613, -4.4279, -4.4684, -4.5027, -4.5099, -4.5868, -4.6447, -4.7206, -4.7382, -4.7403, -4.6889, -4.8388, -4.8389, -4.8617, -4.919, -4.9191, -4.8269, -4.9919, -5.0147, -5.0067, -5.0411, -5.0855, -5.1024, -4.8141, -3.3494, -3.3436, -4.0856, -4.6509, -4.2318, -4.299, -3.9231, -4.0131, -4.0433, -4.0068, -3.9165, -4.423, -4.1251, -4.6875, -4.6201, -4.6427, -3.1092, -3.26, -3.2528, -3.5354, -3.5536, -3.8652, -3.9088, -3.9809, -4.1826, -4.307, -4.3178, -4.3437, -4.4165, -4.5894, -4.6049, -4.6635, -4.6393, -4.854, -4.8852, -4.9443, -5.0152, -5.009, -5.0733, -5.0606, -5.2489, -5.2413, -5.2369, -5.2874, -5.2972, -5.2895, -3.7975, -2.8841, -3.4861, -2.9744, -3.6736, -4.5038, -3.9439, -4.5941, -4.8686, -4.6651, -4.7807, -4.6782, -4.7383, -4.7949, -3.6334, -3.8649, -3.9144, -4.0037, -4.033, -4.3151, -4.3424, -4.3457, -4.3606, -4.3686, -4.4317, -4.5335, -4.5123, -4.5795, -4.6199, -4.6435, -4.6626, -4.7249, -4.7653, -4.8663, -4.8882, -4.9456, -4.9533, -4.9762, -4.9955, -5.0036, -5.0045, -5.0483, -5.1038, -5.1051, -3.5308, -4.2644, -3.1542, -3.8899, -3.9998, -4.52, -4.4781, -4.5217, -4.5424, -4.0698, -4.047, -4.4245, -4.4489, -4.6221, -4.5897], \"loglift\": [30.0, 29.0, 28.0, 27.0, 26.0, 25.0, 24.0, 23.0, 22.0, 21.0, 20.0, 19.0, 18.0, 17.0, 16.0, 15.0, 14.0, 13.0, 12.0, 11.0, 10.0, 9.0, 8.0, 7.0, 6.0, 5.0, 4.0, 3.0, 2.0, 1.0, 1.1175, 1.1157, 1.1104, 1.1088, 1.1082, 1.1074, 1.1063, 1.1062, 1.1025, 1.1004, 1.0983, 1.0979, 1.0979, 1.0956, 1.0933, 1.0932, 1.0912, 1.091, 1.0903, 1.09, 1.0896, 1.0889, 1.0874, 1.0847, 1.0841, 1.0834, 1.0828, 1.0823, 1.0805, 1.0792, 0.9422, 0.9369, 0.9248, 0.9862, 0.866, 0.4648, 0.6721, 0.6731, 0.6477, 0.2364, 0.2724, 0.0938, 0.6726, 0.2541, -0.2149, -0.0513, 1.6054, 1.6049, 1.6026, 1.596, 1.5925, 1.5923, 1.5879, 1.5876, 1.5847, 1.5834, 1.582, 1.5817, 1.5786, 1.5762, 1.5731, 1.5724, 1.5701, 1.5695, 1.5678, 1.5678, 1.5662, 1.5639, 1.5638, 1.5606, 1.5591, 1.5582, 1.5578, 1.5571, 1.5542, 1.5533, 1.5058, 1.0558, 0.9778, 1.1771, 1.3664, 1.1355, 1.1668, 0.8224, 0.6366, 0.6602, 0.5887, 0.2786, 0.8619, -0.0525, 1.1851, -0.1743, 0.2208, 1.3933, 1.3921, 1.3921, 1.3893, 1.389, 1.3848, 1.3842, 1.383, 1.3786, 1.3765, 1.376, 1.3747, 1.3736, 1.3688, 1.3678, 1.3664, 1.3613, 1.358, 1.3571, 1.3552, 1.3514, 1.3511, 1.3489, 1.3479, 1.34, 1.3396, 1.3379, 1.3374, 1.336, 1.3352, 1.2848, 1.1885, 1.0899, 0.6687, 0.6057, 0.9157, 0.2775, 0.8212, 1.1269, 0.7272, 0.8167, 0.4069, 0.3628, 0.5865, 1.4532, 1.4497, 1.449, 1.4474, 1.4462, 1.4408, 1.4402, 1.44, 1.4396, 1.4394, 1.4378, 1.435, 1.435, 1.4332, 1.4315, 1.4314, 1.4304, 1.4284, 1.4266, 1.4225, 1.4219, 1.4196, 1.4193, 1.4179, 1.4175, 1.4171, 1.4163, 1.4149, 1.4122, 1.411, 1.3924, 1.29, 1.0672, 0.8556, 0.5957, 0.9535, 0.8558, 0.8597, 0.8818, 0.2095, 0.1481, 0.279, 0.127, 0.9461, -0.347]}, \"token.table\": {\"Topic\": [1, 1, 3, 3, 3, 2, 1, 1, 2, 1, 2, 3, 4, 3, 4, 1, 2, 3, 1, 4, 3, 4, 3, 4, 3, 3, 2, 1, 4, 2, 1, 3, 4, 1, 2, 3, 4, 1, 2, 4, 2, 4, 1, 4, 1, 2, 2, 4, 1, 3, 4, 1, 1, 2, 2, 4, 1, 2, 3, 1, 2, 1, 4, 1, 2, 2, 3, 4, 4, 4, 2, 1, 4, 1, 3, 1, 4, 3, 4, 2, 3, 2, 1, 4, 1, 3, 1, 2, 3, 4, 2, 4, 3, 1, 2, 4, 2, 2, 3, 2, 2, 3, 1, 3, 4, 4, 3, 3, 3, 1, 2, 4, 1, 2, 3, 2, 2, 3, 3, 1, 3, 3, 4, 1, 3, 3, 1, 3, 2, 4, 3, 2, 1, 1, 4, 2, 1, 4, 2, 4, 1, 2, 3, 3, 1, 2, 2, 3, 3, 3, 4, 1, 3, 1, 2, 4, 1, 1, 1, 2, 3, 2, 1, 4, 1, 2, 2, 3, 1, 1, 4, 2, 4, 2, 4, 1, 2, 3, 2, 3, 1, 3, 4, 3, 4, 1, 2, 4, 4, 1, 4, 1, 2, 4, 3, 4, 4, 2, 4, 3, 2, 3, 4, 4, 2, 1, 4, 1, 1, 1, 3, 4, 2, 2], \"Freq\": [0.9739628143497145, 0.9860417347312288, 0.964478112061588, 0.9684913359235651, 0.9726704768654902, 0.9627073387629586, 0.9469302648915888, 0.5310855637982875, 0.4646998683235016, 0.09295806789929253, 0.2091556527734082, 0.16267661882376194, 0.5345088904209321, 0.3284847906449823, 0.6722479436455452, 0.6388003129837235, 0.24680921183462046, 0.1161455114515861, 0.98372415304008, 0.9646917151654348, 0.9704346928658042, 0.9524442119504596, 0.9899832763732115, 0.9644130478544539, 0.9815493303188165, 0.9506452917674727, 0.9932718048568782, 0.9762759290009038, 0.9858428364393882, 0.9680342251284394, 0.9961717047414163, 0.9505468811876997, 0.9660597698466208, 0.3571763070318236, 0.26044105721070476, 0.11161759594744489, 0.26788223027386776, 0.9568357150010474, 0.9864311756695913, 0.9095422907734235, 0.9708550892864756, 0.9491598513117765, 0.9906597193518054, 0.98646973830543, 0.973995111525806, 0.9936256810058217, 0.9715623358596824, 0.9529555668639568, 0.9895583072335195, 0.9901851604163073, 0.9848917536373681, 0.9692079930318047, 0.949010162685563, 0.9546661946071504, 0.6363967896516561, 0.3447149277279804, 0.422060043270851, 0.3751644829074231, 0.19930613154456853, 0.31863211549414744, 0.6372642309882949, 0.8145018782733806, 0.17019442232578103, 0.9413267879510225, 0.9847150627612689, 0.03613849413868366, 0.8853931063977497, 0.07227698827736732, 0.9827611071100684, 0.9345290892896826, 0.9886438489577893, 0.40082641648795175, 0.5878787441823293, 0.5183880223465901, 0.4798302355604801, 0.9726688834527341, 0.9392403704383929, 0.765579352222475, 0.22517039771249264, 0.9434149156190683, 0.9788028782725022, 0.9620958861897875, 0.9953821046670999, 0.9674279330533518, 0.9576187365290378, 0.9373163554171889, 0.9904311228466326, 0.04623721871007746, 0.015412406236692487, 0.9247443742015492, 0.9372164319772147, 0.9852363061468541, 0.987860867242118, 0.22210766878681898, 0.35537227005891037, 0.42200457069495606, 0.9050441746024764, 0.3797463199733264, 0.6075941119573223, 0.9331199959655317, 0.624748399011783, 0.360431768660644, 0.6160899296470224, 0.36240584096883666, 0.9799561452746307, 0.9776817729911793, 0.9871493489745394, 0.9544315636425317, 0.9917103264798587, 0.9750237190521163, 0.45160183504982426, 0.5419222020597891, 0.18409541140250768, 0.7824054984606577, 0.9915964962899437, 0.9585944054091682, 0.4234401038726702, 0.5444229906934331, 0.9918371884455102, 0.4680588163604728, 0.5173281654510489, 0.9658552163535628, 0.9751681319452712, 0.6444908256270305, 0.3498664481975309, 0.9830045817388628, 0.7785263325905143, 0.22001831138427577, 0.9824554452525107, 0.9801789490038668, 0.9782699977606903, 0.9257428874387361, 0.9336026200013791, 0.6288236231470125, 0.34693717139145513, 0.9709493469383031, 0.8350158834122647, 0.16388162197810802, 0.1448659600683886, 0.8402225683966538, 0.9581995673678463, 0.9671672104474823, 0.9528900722990621, 0.9817590012433992, 0.8318486082051734, 0.1625451303389419, 0.9607879817741866, 0.9899167846231683, 0.9294232722099205, 0.4386659671332031, 0.5361472931628039, 0.9889803763091622, 0.9889781198252605, 0.41369676488514745, 0.523453049446513, 0.05909953784073535, 0.9892921457606977, 0.9776898079942412, 0.3462524449355145, 0.6492233342540896, 0.9798318204202289, 0.9511383306952053, 0.43240668671697724, 0.5595851239866765, 0.9632686227045089, 0.9532363027074827, 0.19090338035205284, 0.8096936477000861, 0.9560326847505967, 0.9849856001561449, 0.9432443888444934, 0.9419531630329089, 0.9869322849786469, 0.95916881270264, 0.9929377763893081, 0.9489756458638706, 0.951106936336927, 0.9660231479105201, 0.8720956807779461, 0.06229254862699615, 0.25902233217821924, 0.45328908131188367, 0.28330567581992727, 0.7296495821030442, 0.2613670144846726, 0.42233946303229447, 0.569240145826136, 0.9813358275381919, 0.9923266550247903, 0.8561112622485825, 0.12230160889265464, 0.30929668117824943, 0.38352788466102933, 0.30929668117824943, 0.9765369274883894, 0.9571334962596969, 0.9631303539852537, 0.38185754129167465, 0.5874731404487302, 0.9790402066620226, 0.9532079911086336, 0.9295543515660649, 0.9645592604256342, 0.9620672013089198, 0.9254946933464568, 0.9845031322608215, 0.9707296444385095, 0.9349053391141968, 0.9933242293193137, 0.42858100385483866, 0.5546342402827323, 0.9871075144230759, 0.9417673286844508, 0.9528839909680263], \"Term\": [\"activ\", \"actualiz\", \"adquir\", \"agend\", \"ahor\", \"algun\", \"anterior\", \"aparec\", \"aparec\", \"aplic\", \"aplic\", \"aplic\", \"aplic\", \"app\", \"app\", \"asesor\", \"asesor\", \"asesor\", \"averigu\", \"avis\", \"ayer\", \"ayud\", \"bien\", \"bloque\", \"buen\", \"cad\", \"cambi\", \"cancel\", \"carg\", \"cel\", \"celul\", \"cerr\", \"chat\", \"clar\", \"clar\", \"clar\", \"clar\", \"clar_vide\", \"clav\", \"colabor\", \"com\", \"complic\", \"compr\", \"comun\", \"conexion\", \"consult\", \"contact\", \"contest\", \"corre\", \"cos\", \"cualqui\", \"cuot\", \"da\", \"dan\", \"dar\", \"dar\", \"dat\", \"dat\", \"dat\", \"deb\", \"deb\", \"dej\", \"dej\", \"dej_entrar\", \"dias\", \"dic\", \"dic\", \"dic\", \"dificil\", \"dificult\", \"duplic\", \"entrar\", \"entrar\", \"equip\", \"equip\", \"equip_financi\", \"error\", \"esper\", \"esper\", \"exist\", \"experient\", \"facil\", \"factur\", \"fall\", \"favor\", \"fin\", \"financi\", \"funcion\", \"funcion\", \"funcion\", \"gestion\", \"googl\", \"graci\", \"hac\", \"hac\", \"hac\", \"hag\", \"hog\", \"hog\", \"hoy\", \"imei\", \"imei\", \"inform\", \"inform\", \"ingres\", \"intermitent\", \"internet\", \"lad\", \"lent\", \"line\", \"llam\", \"llam\", \"lleg\", \"lleg\", \"mal\", \"meg\", \"mejor\", \"mejor\", \"moment\", \"movil\", \"movil\", \"much\", \"naveg\", \"necesit\", \"necesit\", \"ningun\", \"nuev\", \"nuev\", \"numer\", \"nunc\", \"ofert\", \"ofrec\", \"ok\", \"opcion\", \"opcion\", \"oper\", \"pag\", \"pag\", \"pag_factur\", \"pag_factur\", \"part\", \"permit\", \"person\", \"pesim\", \"plan\", \"plan\", \"pon\", \"posibl\", \"prest\", \"problem\", \"problem\", \"pud\", \"pud_registr\", \"pued\", \"pued\", \"pued\", \"quej\", \"quer\", \"quier\", \"quier\", \"rap\", \"razon\", \"realiz\", \"realiz\", \"recib\", \"recuper\", \"registr\", \"registr\", \"registr_imei\", \"report\", \"respond\", \"respuest\", \"retir\", \"sab\", \"sal\", \"sald\", \"se\", \"seman\", \"ser\", \"ser\", \"servici\", \"servici\", \"servici\", \"se\\u00f1al\", \"se\\u00f1al\", \"si\", \"si\", \"siempr\", \"sirv\", \"sol\", \"sol\", \"solucion\", \"solucion\", \"solucion\", \"sup\", \"suspend\", \"tiemp\", \"toc\", \"toc\", \"trabaj\", \"tramit\", \"trasl\", \"ultim\", \"usuari\", \"utiliz\", \"valor\", \"vec\", \"vent\", \"ver\", \"verific\", \"verific\", \"voy\", \"vuelt\", \"wifi\"]}, \"R\": 30, \"lambda.step\": 0.01, \"plot.opts\": {\"xlab\": \"PC1\", \"ylab\": \"PC2\"}, \"topic.order\": [1, 2, 3, 4]};\n",
       "\n",
       "function LDAvis_load_lib(url, callback){\n",
       "  var s = document.createElement('script');\n",
       "  s.src = url;\n",
       "  s.async = true;\n",
       "  s.onreadystatechange = s.onload = callback;\n",
       "  s.onerror = function(){console.warn(\"failed to load library \" + url);};\n",
       "  document.getElementsByTagName(\"head\")[0].appendChild(s);\n",
       "}\n",
       "\n",
       "if(typeof(LDAvis) !== \"undefined\"){\n",
       "   // already loaded: just create the visualization\n",
       "   !function(LDAvis){\n",
       "       new LDAvis(\"#\" + \"ldavis_el25842897070486688868284082\", ldavis_el25842897070486688868284082_data);\n",
       "   }(LDAvis);\n",
       "}else if(typeof define === \"function\" && define.amd){\n",
       "   // require.js is available: use it to load d3/LDAvis\n",
       "   require.config({paths: {d3: \"https://d3js.org/d3.v5\"}});\n",
       "   require([\"d3\"], function(d3){\n",
       "      window.d3 = d3;\n",
       "      LDAvis_load_lib(\"https://cdn.jsdelivr.net/gh/bmabey/pyLDAvis@3.3.1/pyLDAvis/js/ldavis.v3.0.0.js\", function(){\n",
       "        new LDAvis(\"#\" + \"ldavis_el25842897070486688868284082\", ldavis_el25842897070486688868284082_data);\n",
       "      });\n",
       "    });\n",
       "}else{\n",
       "    // require.js not available: dynamically load d3 & LDAvis\n",
       "    LDAvis_load_lib(\"https://d3js.org/d3.v5.js\", function(){\n",
       "         LDAvis_load_lib(\"https://cdn.jsdelivr.net/gh/bmabey/pyLDAvis@3.3.1/pyLDAvis/js/ldavis.v3.0.0.js\", function(){\n",
       "                 new LDAvis(\"#\" + \"ldavis_el25842897070486688868284082\", ldavis_el25842897070486688868284082_data);\n",
       "            })\n",
       "         });\n",
       "}\n",
       "</script>"
      ],
      "text/plain": [
       "<IPython.core.display.HTML object>"
      ]
     },
     "execution_count": 60,
     "metadata": {},
     "output_type": "execute_result"
    }
   ],
   "source": [
    "pyLDAvis.display(modelosAccion['Pre_Gestionar_Equipodis'])"
   ]
  },
  {
   "cell_type": "code",
   "execution_count": 61,
   "metadata": {},
   "outputs": [
    {
     "data": {
      "text/html": [
       "\n",
       "<link rel=\"stylesheet\" type=\"text/css\" href=\"https://cdn.jsdelivr.net/gh/bmabey/pyLDAvis@3.3.1/pyLDAvis/js/ldavis.v1.0.0.css\">\n",
       "\n",
       "\n",
       "<div id=\"ldavis_el258428970454259523127003887\"></div>\n",
       "<script type=\"text/javascript\">\n",
       "\n",
       "var ldavis_el258428970454259523127003887_data = {\"mdsDat\": {\"x\": [-0.0753693600292739, -0.08504825934878275, 0.2529932867373352, -0.09257566735927876], \"y\": [-0.16116387423636616, -0.03401928766309663, 0.008765579700266903, 0.18641758219919577], \"topics\": [1, 2, 3, 4], \"cluster\": [1, 1, 1, 1], \"Freq\": [17.60106908452896, 17.57965309614985, 48.04398041733064, 16.775297401990553]}, \"tinfo\": {\"Term\": [\"recarg\", \"compr_paquet\", \"hac\", \"compr\", \"pued\", \"servici\", \"mal\", \"sirv\", \"qued\", \"pag\", \"dej\", \"lent\", \"dat\", \"funcion\", \"carg\", \"app\", \"pud\", \"se\\u00f1al\", \"si\", \"sald\", \"pas\", \"dias\", \"line\", \"tarjet\", \"realiz\", \"activ\", \"tarjet_credit\", \"cae\", \"ingres\", \"paquet\", \"mal\", \"se\\u00f1al\", \"si\", \"dias\", \"pes\", \"lent\", \"da\", \"men\", \"com\", \"offlin\", \"plataform\", \"acab\", \"ingles\", \"malisim\", \"tig\", \"facil\", \"molest\", \"entrar\", \"1gb\", \"ciert\", \"co\", \"venc\", \"vig\", \"wtf\", \"www\", \"info\", \"real\", \"rooming\", \"demasi\", \"entra\", \"much_vec\", \"consult\", \"clar\", \"mas\", \"inclu\", \"activ\", \"posibl\", \"funcion\", \"sald\", \"aplic\", \"quier\", \"paquet\", \"dic\", \"sal\", \"compr\", \"ten\", \"siempr\", \"pesim\", \"dat\", \"app\", \"reflej\", \"compr_paquet\", \"tiemp\", \"vec\", \"hac\", \"permit\", \"cae\", \"acept\", \"registr\", \"ademas\", \"digit\", \"recib\", \"chat\", \"mand\", \"internacional\", \"llen\", \"sirv\", \"daviplat\", \"comunic\", \"respuest\", \"tarjet\", \"minut\", \"clav_dinam\", \"portal\", \"regres\", \"envi\", \"letr\", \"describ\", \"ok\", \"xxxx\", \"neki\", \"urgenci\", \"import\", \"reconoc\", \"salg\", \"casi\", \"buen\", \"compr\", \"debit\", \"oper\", \"dat\", \"nombr\", \"tarjet_credit\", \"sistem\", \"ingres\", \"rechaz\", \"app\", \"lleg\", \"pesim\", \"demor\", \"nunc\", \"deb\", \"pod\", \"compr_paquet\", \"pag\", \"pud\", \"sol\", \"siempr\", \"numer\", \"dic\", \"transaccion\", \"permit\", \"llam\", \"recarg\", \"pued\", \"line\", \"carg_factur\", \"hog\", \"ningun\", \"clar_hog\", \"movil\", \"hac\", \"conect\", \"factur_clar\", \"realiz\", \"cobr\", \"factur\", \"celul\", \"vari\", \"fij\", \"cel\", \"ultim\", \"prepag\", \"lentitud\", \"adelant\", \"logr\", \"tecnic\", \"dej\", \"medi\", \"impos\", \"celular\", \"play\", \"ped\", \"permit\", \"banc\", \"cuent\", \"pud\", \"pag\", \"moment\", \"pse\", \"carg\", \"vec\", \"paquet\", \"app\", \"nunc\", \"sald\", \"funcion\", \"intent\", \"servici\", \"qued_blanc\", \"client\", \"avanz\", \"aplicacion\", \"continu\", \"arroj\", \"pantall\", \"bien\", \"tard\", \"quit\", \"x\", \"termin\", \"metod\", \"bancari\", \"inscrit\", \"bloqu\", \"horribl\", \"quiet\", \"blanc\", \"boton\", \"qued\", \"graci\", \"inmediat\", \"pas\", \"cad\", \"repeticion\", \"jamas\", \"cumpl\", \"va\", \"compr_paquet\", \"present\", \"proces\", \"inform\", \"carg\", \"internet\", \"finaliz\", \"error\", \"transaccion\", \"intent\", \"usted\", \"pag\", \"pse\", \"dej\", \"funcion\", \"activ\", \"demor\", \"app\"], \"Freq\": [318.0, 96.0, 154.0, 45.0, 79.0, 27.0, 27.0, 28.0, 28.0, 159.0, 92.0, 22.0, 36.0, 57.0, 37.0, 67.0, 52.0, 14.0, 14.0, 24.0, 17.0, 13.0, 36.0, 16.0, 53.0, 16.0, 18.0, 10.0, 24.0, 31.0, 26.413957125221607, 13.323722660691885, 13.309993731448419, 12.43826468592625, 7.202601279044604, 19.26867360716614, 7.909136565512278, 2.8399280365521737, 2.8399158341441715, 2.839687649114527, 2.8389695374035875, 2.838092794388617, 2.836120580195234, 2.8306883732127788, 2.826986162624859, 6.330414643222346, 2.7967858129393917, 4.582350753277511, 1.966077297338592, 1.966077297338592, 1.966077297338592, 1.966077297338592, 1.966077297338592, 1.966077297338592, 1.966077297338592, 1.966077297338592, 1.9660283351764825, 1.9660190308403807, 1.966009573974179, 1.9659935583136758, 6.976667593676707, 4.494526057101848, 9.041352245022258, 5.460908876438208, 7.025882345631869, 10.440067905183616, 7.089957800172718, 27.861201762008392, 12.744708639052988, 10.152794545149002, 5.877938982447633, 13.770172162274626, 9.927408747900412, 6.222608198882599, 13.322833105148513, 4.587567282698525, 9.031813012566404, 6.018118415217669, 10.63356026863641, 14.214382521988933, 5.001317076376713, 11.44399417828107, 5.448285485359755, 6.954742917098447, 8.837556168252261, 5.597737527970793, 9.912654467123545, 9.03415436577889, 8.129959839376838, 4.616445412985133, 3.7468513716953544, 3.7468120668117733, 3.7460241410060284, 3.7434446437626283, 3.743282244514963, 3.7397767973397547, 23.474604670826793, 2.864706884982366, 2.8636883095884746, 2.860779748203464, 13.355268063248067, 6.258895036400703, 4.627662234567761, 1.9835882861997498, 1.9835882861997498, 1.9835693954805094, 1.983564368111679, 1.9833154371823314, 1.9833075152678112, 1.9833069058897712, 1.982850481737797, 1.9826992036393623, 1.9821926581435965, 1.981463232629694, 1.9812650324221777, 1.981116801213943, 4.600993414024372, 31.949507824780667, 4.500890274012423, 5.506698893276653, 22.583479475249025, 8.090728081160417, 11.757759156216832, 3.692780953515454, 11.940924788729642, 5.276305243906294, 25.157341190535075, 7.94660469029358, 6.699977486839368, 9.702729216739383, 10.043403838146087, 5.958692866899896, 7.701249591284677, 18.15486722587423, 21.847653054414003, 11.980847581643443, 6.618899129236809, 7.91120348243672, 6.069513747879699, 7.097831877875169, 6.453778399245039, 5.596513294460923, 5.010443050405654, 317.26337789339823, 79.06336496244465, 36.31163443441106, 26.80957893314352, 26.777914907518635, 14.465431903631822, 13.533042676343916, 11.63911076883714, 144.70685870288395, 10.649161562289775, 8.786755453188253, 49.44660103748455, 5.931596456524296, 16.842317226121803, 22.56248765597193, 6.687301320134965, 4.988068280338686, 4.985104722057537, 4.971264513518348, 21.953956477341134, 4.037863979253073, 4.037891041811133, 4.031360222030563, 4.003203920277367, 77.34218626979653, 13.147066480955866, 3.0877548134677193, 3.087752107211913, 3.0853033620544847, 3.0823458408055187, 44.618657333372354, 14.900671114325029, 19.61923878377989, 39.817766194991535, 115.55427843533037, 9.92059669729037, 22.394383372241016, 20.111690740295284, 15.029035905105804, 15.043714636597821, 22.90249330850317, 11.937147806328152, 11.310553827406633, 16.19622321690303, 11.028621093696858, 26.86389378184034, 8.007376612349287, 7.128703601619091, 6.275324503636498, 5.353899325930429, 4.545851911153153, 4.545561453904143, 4.544927332522671, 4.541916346265669, 4.540744922585728, 4.534047833222674, 3.67644242235559, 3.6762112776979694, 3.6749642595388075, 3.6361528909143646, 2.8141960919602833, 2.814187078772376, 2.8139867534024385, 2.813917264631154, 2.8088146372836844, 2.8037704502836136, 22.252830583934525, 2.651470543743518, 5.24993365716074, 13.017391418835954, 4.531321780002738, 1.9482588611169742, 1.9482466497011, 1.9482216453733574, 1.9481165399724394, 66.6571090882393, 4.413924135267329, 10.900334301462733, 7.769618019292976, 16.49532709997514, 7.022011879629466, 4.4481530247109475, 7.847270412837556, 10.139935249930923, 9.03693620360613, 4.548821901942577, 21.94666131316649, 9.293856834153171, 13.94860724459323, 8.582748872049919, 5.672946406981888, 5.958821467558848, 5.27767276056317], \"Total\": [318.0, 96.0, 154.0, 45.0, 79.0, 27.0, 27.0, 28.0, 28.0, 159.0, 92.0, 22.0, 36.0, 57.0, 37.0, 67.0, 52.0, 14.0, 14.0, 24.0, 17.0, 13.0, 36.0, 16.0, 53.0, 16.0, 18.0, 10.0, 24.0, 31.0, 27.108486122680414, 14.000751776835127, 14.001083057223594, 13.12689913412491, 7.88399680414805, 22.982745633905562, 9.722445204626931, 3.5143830098994426, 3.514381178660542, 3.514398530958734, 3.514432604876654, 3.5144317905458493, 3.5146524123421714, 3.5144903899989206, 3.51448172928729, 7.8917631944124915, 3.514008122000243, 6.1286106283566095, 2.6405239101655495, 2.6405239101655495, 2.6405239101655495, 2.6405239101655495, 2.6405239101655495, 2.6405239101655495, 2.6405239101655495, 2.64052393618724, 2.6405193098943633, 2.640517897688145, 2.640517443285229, 2.6405146967161732, 9.731640114779065, 6.220114996274877, 13.118639079102966, 7.867792834024318, 10.587246800384392, 16.572341097241498, 11.411852985314514, 57.18863522166784, 24.5019473593609, 19.57243333198919, 10.619973229726115, 31.79279596366219, 25.02855420195572, 12.51951573745483, 45.740346115750604, 7.891150078322582, 25.179395695948227, 13.184056721913537, 36.926365180057125, 67.55188978159035, 9.975166513627721, 96.57465646985929, 12.614974713356832, 25.70327089467436, 154.05825324521453, 56.060975309953, 10.591026200736989, 9.7092830114331, 8.829537491381888, 5.3010398808574575, 4.419399184979, 4.419396346065999, 4.419397336543532, 4.4196188980966475, 4.419611795625697, 4.4194262741876855, 28.539814319112164, 3.5377758714976673, 3.5378606217251263, 3.537682177821128, 16.7142162573021, 7.9371430080864664, 6.174936118066596, 2.6561033107382004, 2.656103321060009, 2.6561007188018078, 2.6561039317546675, 2.656062477236923, 2.656062479742499, 2.6560632570033165, 2.6561370739620807, 2.656155078739271, 2.6561500398031472, 2.656216842201285, 2.656245335203989, 2.6561313290681783, 6.174605123979446, 45.740346115750604, 6.25876070843027, 7.930552694516634, 36.926365180057125, 12.322805685708305, 18.911113932324152, 5.373468365136519, 24.266270100428013, 9.0510746464869, 67.55188978159035, 15.483328367116178, 13.184056721913537, 22.985220549507797, 24.618910225122598, 11.430298922530229, 20.101762542667963, 96.57465646985929, 159.57428287864275, 52.23682183366796, 15.382650076808432, 25.179395695948227, 16.155528588575205, 25.02855420195572, 25.096379061317712, 56.060975309953, 15.27107185270989, 318.21735569823477, 79.75235137561158, 36.995879385282386, 27.494414181828247, 27.49169421775319, 15.143021204073001, 14.194256769227765, 12.294499908291138, 154.05825324521453, 11.341135925581895, 9.443873485659434, 53.77988672414379, 6.593058993879266, 18.82914526053561, 25.385732681124733, 7.52906531381657, 5.643431209138501, 5.643134381648707, 5.641901338783905, 25.356999078424156, 4.693230841108792, 4.693262872700026, 4.6926429440281705, 4.690278976937217, 92.59644059779207, 15.929393590641098, 3.743117666966593, 3.7431152212840777, 3.7429142328597407, 3.7426933807509664, 56.060975309953, 18.69666463241084, 25.155909241693376, 52.23682183366796, 159.57428287864275, 13.03003247835263, 36.66913286646819, 37.29395473105052, 25.70327089467436, 31.79279596366219, 67.55188978159035, 24.618910225122598, 24.5019473593609, 57.18863522166784, 23.53663377135596, 27.754800003530526, 8.686505465524814, 7.820788530547794, 6.954637646593223, 6.089777942971765, 5.222555334662372, 5.222570077829736, 5.222629118991882, 5.222859059638605, 5.222583885709985, 5.222757662360854, 4.356604381142191, 4.356690875856502, 4.356652929481929, 4.36030531092228, 3.4906476058971894, 3.490645868087943, 3.490625463313138, 3.4906660969920247, 3.4910925810375195, 3.4907767743041944, 28.204023053786536, 3.4939836724628868, 6.963951838690253, 17.412207626122758, 6.104242240387298, 2.624701217265263, 2.62469916452668, 2.6246953433175264, 2.6246830897527222, 96.57465646985929, 6.18490271723428, 18.56616113875124, 13.156402546585644, 37.29395473105052, 13.206560811002142, 6.9791942626132295, 16.874067248046416, 25.096379061317712, 23.53663377135596, 7.867492566291713, 159.57428287864275, 36.66913286646819, 92.59644059779207, 57.18863522166784, 16.572341097241498, 22.985220549507797, 67.55188978159035], \"Category\": [\"Default\", \"Default\", \"Default\", \"Default\", \"Default\", \"Default\", \"Default\", \"Default\", \"Default\", \"Default\", \"Default\", \"Default\", \"Default\", \"Default\", \"Default\", \"Default\", \"Default\", \"Default\", \"Default\", \"Default\", \"Default\", \"Default\", \"Default\", \"Default\", \"Default\", \"Default\", \"Default\", \"Default\", \"Default\", \"Default\", \"Topic1\", \"Topic1\", \"Topic1\", \"Topic1\", \"Topic1\", \"Topic1\", \"Topic1\", \"Topic1\", \"Topic1\", \"Topic1\", \"Topic1\", \"Topic1\", \"Topic1\", \"Topic1\", \"Topic1\", \"Topic1\", \"Topic1\", \"Topic1\", \"Topic1\", \"Topic1\", \"Topic1\", \"Topic1\", \"Topic1\", \"Topic1\", \"Topic1\", \"Topic1\", \"Topic1\", \"Topic1\", \"Topic1\", \"Topic1\", \"Topic1\", \"Topic1\", \"Topic1\", \"Topic1\", \"Topic1\", \"Topic1\", \"Topic1\", \"Topic1\", \"Topic1\", \"Topic1\", \"Topic1\", \"Topic1\", \"Topic1\", \"Topic1\", \"Topic1\", \"Topic1\", \"Topic1\", \"Topic1\", \"Topic1\", \"Topic1\", \"Topic1\", \"Topic1\", \"Topic1\", \"Topic1\", \"Topic1\", \"Topic1\", \"Topic2\", \"Topic2\", \"Topic2\", \"Topic2\", \"Topic2\", \"Topic2\", \"Topic2\", \"Topic2\", \"Topic2\", \"Topic2\", \"Topic2\", \"Topic2\", \"Topic2\", \"Topic2\", \"Topic2\", \"Topic2\", \"Topic2\", \"Topic2\", \"Topic2\", \"Topic2\", \"Topic2\", \"Topic2\", \"Topic2\", \"Topic2\", \"Topic2\", \"Topic2\", \"Topic2\", \"Topic2\", \"Topic2\", \"Topic2\", \"Topic2\", \"Topic2\", \"Topic2\", \"Topic2\", \"Topic2\", \"Topic2\", \"Topic2\", \"Topic2\", \"Topic2\", \"Topic2\", \"Topic2\", \"Topic2\", \"Topic2\", \"Topic2\", \"Topic2\", \"Topic2\", \"Topic2\", \"Topic2\", \"Topic2\", \"Topic2\", \"Topic2\", \"Topic2\", \"Topic2\", \"Topic2\", \"Topic2\", \"Topic2\", \"Topic2\", \"Topic3\", \"Topic3\", \"Topic3\", \"Topic3\", \"Topic3\", \"Topic3\", \"Topic3\", \"Topic3\", \"Topic3\", \"Topic3\", \"Topic3\", \"Topic3\", \"Topic3\", \"Topic3\", \"Topic3\", \"Topic3\", \"Topic3\", \"Topic3\", \"Topic3\", \"Topic3\", \"Topic3\", \"Topic3\", \"Topic3\", \"Topic3\", \"Topic3\", \"Topic3\", \"Topic3\", \"Topic3\", \"Topic3\", \"Topic3\", \"Topic3\", \"Topic3\", \"Topic3\", \"Topic3\", \"Topic3\", \"Topic3\", \"Topic3\", \"Topic3\", \"Topic3\", \"Topic3\", \"Topic3\", \"Topic3\", \"Topic3\", \"Topic3\", \"Topic3\", \"Topic4\", \"Topic4\", \"Topic4\", \"Topic4\", \"Topic4\", \"Topic4\", \"Topic4\", \"Topic4\", \"Topic4\", \"Topic4\", \"Topic4\", \"Topic4\", \"Topic4\", \"Topic4\", \"Topic4\", \"Topic4\", \"Topic4\", \"Topic4\", \"Topic4\", \"Topic4\", \"Topic4\", \"Topic4\", \"Topic4\", \"Topic4\", \"Topic4\", \"Topic4\", \"Topic4\", \"Topic4\", \"Topic4\", \"Topic4\", \"Topic4\", \"Topic4\", \"Topic4\", \"Topic4\", \"Topic4\", \"Topic4\", \"Topic4\", \"Topic4\", \"Topic4\", \"Topic4\", \"Topic4\", \"Topic4\", \"Topic4\", \"Topic4\", \"Topic4\", \"Topic4\", \"Topic4\", \"Topic4\"], \"logprob\": [30.0, 29.0, 28.0, 27.0, 26.0, 25.0, 24.0, 23.0, 22.0, 21.0, 20.0, 19.0, 18.0, 17.0, 16.0, 15.0, 14.0, 13.0, 12.0, 11.0, 10.0, 9.0, 8.0, 7.0, 6.0, 5.0, 4.0, 3.0, 2.0, 1.0, -3.2109, -3.8953, -3.8963, -3.964, -4.5104, -3.5263, -4.4168, -5.441, -5.441, -5.4411, -5.4414, -5.4417, -5.4424, -5.4443, -5.4456, -4.6394, -5.4563, -4.9626, -5.8088, -5.8088, -5.8088, -5.8088, -5.8088, -5.8088, -5.8088, -5.8088, -5.8088, -5.8088, -5.8088, -5.8088, -4.5422, -4.9819, -4.283, -4.7872, -4.5352, -4.1392, -4.5261, -3.1576, -3.9397, -4.1671, -4.7136, -3.8623, -4.1895, -4.6566, -3.8953, -4.9615, -4.2841, -4.69, -4.1208, -3.8306, -4.8751, -4.0473, -4.7895, -4.5454, -4.3058, -4.7624, -4.1898, -4.2826, -4.388, -4.954, -5.1627, -5.1627, -5.1629, -5.1636, -5.1636, -5.1646, -3.3277, -5.4311, -5.4315, -5.4325, -3.8917, -4.6496, -4.9515, -5.7987, -5.7987, -5.7987, -5.7987, -5.7988, -5.7988, -5.7988, -5.7991, -5.7991, -5.7994, -5.7998, -5.7999, -5.7999, -4.9573, -3.0194, -4.9793, -4.7776, -3.3664, -4.3929, -4.0191, -5.1772, -4.0036, -4.8204, -3.2584, -4.4108, -4.5815, -4.2112, -4.1767, -4.6987, -4.4422, -3.5846, -3.3995, -4.0003, -4.5937, -4.4153, -4.6803, -4.5238, -4.6189, -4.7614, -4.8721, -1.7292, -3.1187, -3.8968, -4.2002, -4.2014, -4.8172, -4.8838, -5.0346, -2.5143, -5.1235, -5.3157, -3.5881, -5.7087, -4.6651, -4.3727, -5.5888, -5.8819, -5.8825, -5.8853, -4.4, -6.0932, -6.0932, -6.0949, -6.1019, -3.1407, -4.9128, -6.3615, -6.3615, -6.3623, -6.3633, -3.6908, -4.7876, -4.5125, -3.8046, -2.7392, -5.1944, -4.3802, -4.4877, -4.779, -4.778, -4.3577, -5.0093, -5.0632, -4.7042, -5.0885, -3.146, -4.3564, -4.4726, -4.6001, -4.7589, -4.9225, -4.9226, -4.9227, -4.9234, -4.9237, -4.9251, -5.1348, -5.1349, -5.1352, -5.1458, -5.4021, -5.4021, -5.4022, -5.4022, -5.404, -5.4058, -3.3343, -5.4616, -4.7785, -3.8705, -4.9257, -5.7698, -5.7698, -5.7698, -5.7699, -2.2372, -4.952, -4.048, -4.3865, -3.6337, -4.4877, -4.9443, -4.3766, -4.1203, -4.2354, -4.9219, -3.3481, -4.2074, -3.8014, -4.287, -4.701, -4.6519, -4.7733], \"loglift\": [30.0, 29.0, 28.0, 27.0, 26.0, 25.0, 24.0, 23.0, 22.0, 21.0, 20.0, 19.0, 18.0, 17.0, 16.0, 15.0, 14.0, 13.0, 12.0, 11.0, 10.0, 9.0, 8.0, 7.0, 6.0, 5.0, 4.0, 3.0, 2.0, 1.0, 1.7113, 1.6876, 1.6866, 1.6833, 1.6468, 1.5609, 1.5308, 1.5241, 1.5241, 1.524, 1.5238, 1.5235, 1.5227, 1.5208, 1.5195, 1.5168, 1.5089, 1.4465, 1.4423, 1.4423, 1.4423, 1.4423, 1.4423, 1.4423, 1.4423, 1.4423, 1.4423, 1.4422, 1.4422, 1.4422, 1.4044, 1.4123, 1.365, 1.372, 1.3272, 1.2751, 1.2612, 1.0181, 1.0836, 1.0808, 1.1457, 0.9005, 0.8125, 1.0381, 0.5037, 1.1948, 0.7119, 0.953, 0.4923, 0.1786, 1.0468, -0.3956, 0.8976, 0.43, -1.1211, -0.5669, 1.6722, 1.6664, 1.6559, 1.6002, 1.5733, 1.5733, 1.5731, 1.5724, 1.5723, 1.5714, 1.543, 1.5274, 1.527, 1.5261, 1.5141, 1.5009, 1.45, 1.4465, 1.4465, 1.4465, 1.4465, 1.4464, 1.4463, 1.4463, 1.4461, 1.446, 1.4458, 1.4454, 1.4452, 1.4452, 1.4443, 1.3796, 1.4087, 1.3737, 1.2467, 1.3177, 1.2632, 1.3633, 1.0293, 1.1988, 0.7507, 1.0714, 1.0615, 0.876, 0.8418, 1.087, 0.779, 0.0671, -0.25, 0.2659, 0.8951, 0.5807, 0.7594, 0.4782, 0.3804, -0.5659, 0.624, 0.7301, 0.7244, 0.7144, 0.7078, 0.7067, 0.6873, 0.6854, 0.6783, 0.6704, 0.6701, 0.6609, 0.649, 0.6273, 0.6215, 0.6152, 0.6145, 0.6096, 0.6091, 0.6065, 0.5889, 0.5826, 0.5826, 0.5812, 0.5747, 0.553, 0.5411, 0.5406, 0.5406, 0.5398, 0.5389, 0.5048, 0.5061, 0.4845, 0.4616, 0.4103, 0.4604, 0.2399, 0.1155, 0.1964, -0.0152, -0.3486, 0.0092, -0.04, -0.5285, -0.025, 1.7526, 1.7039, 1.6926, 1.6825, 1.6565, 1.6465, 1.6464, 1.6463, 1.6456, 1.6454, 1.6439, 1.6155, 1.6154, 1.6151, 1.6036, 1.5699, 1.5698, 1.5698, 1.5697, 1.5678, 1.5661, 1.5483, 1.5093, 1.5027, 1.4944, 1.4873, 1.4872, 1.4872, 1.4872, 1.4872, 1.4145, 1.4479, 1.2527, 1.2586, 0.9695, 1.1536, 1.3348, 1.0197, 0.879, 0.828, 1.2374, -0.1986, 0.4127, -0.1076, -0.1113, 0.7132, 0.4353, -0.7641]}, \"token.table\": {\"Topic\": [1, 1, 2, 1, 4, 3, 2, 1, 2, 3, 4, 4, 1, 2, 3, 4, 4, 4, 1, 2, 3, 4, 4, 4, 4, 4, 1, 2, 2, 4, 2, 3, 4, 3, 2, 3, 3, 4, 3, 2, 1, 1, 4, 3, 1, 2, 4, 1, 3, 1, 1, 2, 1, 2, 4, 2, 3, 1, 3, 4, 1, 3, 4, 4, 1, 3, 1, 2, 3, 4, 2, 1, 2, 2, 3, 1, 3, 4, 1, 1, 2, 3, 4, 2, 1, 1, 2, 3, 4, 2, 1, 1, 4, 2, 1, 3, 4, 1, 2, 1, 3, 3, 3, 1, 2, 4, 1, 2, 3, 4, 4, 1, 3, 3, 4, 2, 3, 1, 3, 4, 1, 1, 2, 3, 4, 1, 2, 3, 4, 1, 4, 4, 1, 2, 3, 4, 2, 2, 3, 4, 4, 1, 3, 3, 2, 3, 1, 2, 3, 4, 2, 3, 2, 3, 1, 1, 2, 1, 4, 2, 3, 1, 4, 1, 2, 1, 1, 3, 3, 1, 2, 3, 2, 3, 1, 2, 1, 2, 3, 4, 2, 3, 4, 1, 2, 1, 2, 2, 3, 4, 4, 1, 2, 3, 4, 2, 4, 3, 1, 2, 3, 1, 1, 2, 1, 3, 2, 3, 4, 2, 1, 2, 1, 3, 3, 4, 1, 3, 4, 1, 3, 4, 2, 3, 3, 3, 4, 4, 1, 2, 3, 4, 4, 1, 1, 3, 1, 3, 2, 3, 2, 2, 1, 3, 2, 2, 4, 2, 1, 1, 2, 3, 1, 3, 2, 4, 1, 1, 1, 2, 3, 2, 3, 2, 3, 2, 3, 4, 4, 2, 4, 2, 3, 4, 3, 1, 2, 4, 4, 1, 2, 3, 4, 1, 2, 3, 4, 3, 2, 2, 4, 4, 3, 1, 2, 3, 1, 1, 1, 1, 4, 2], \"Freq\": [0.7574254458747198, 0.853623054534813, 0.9269479517078769, 0.6034150480805951, 0.36204902884835705, 0.8522855225662668, 0.9432111646727013, 0.5109226752943385, 0.15327680258830156, 0.2043690701177354, 0.1021845350588677, 0.8210479999144333, 0.207248088029291, 0.3700858714808768, 0.34047900176240664, 0.07401717429617535, 0.957383036605949, 0.8627336613201035, 0.05348547560009665, 0.16045642680028996, 0.8022821340014498, 0.9173669536351643, 0.9573300644160929, 0.8593298316678925, 0.8594398037986299, 0.8594075742921088, 0.16195367637623345, 0.8097683818811673, 0.1638204973884773, 0.8191024869423864, 0.9441955680653625, 0.536279945214505, 0.42902395617160394, 0.9820176498921364, 0.752974816460464, 0.886032417774746, 0.9060207278201343, 0.07878441111479428, 0.8014714542959883, 0.905100785332068, 0.7574254458747198, 0.6860467725144099, 0.22868225750480328, 0.9863144106531241, 0.16194499519990257, 0.8097249759995129, 0.8950504124562612, 0.7574254458747198, 0.9100479770574117, 0.8536353478718005, 0.2842129783430623, 0.6996011774598456, 0.11390151828738912, 0.18638430265209127, 0.6937637932050065, 0.8479700928797881, 0.9699204799395443, 0.6430749274564108, 0.1607687318641027, 0.9573857392787662, 0.1590083650552533, 0.7950418252762664, 0.07950418252762664, 0.7619931985980771, 0.8228382707873513, 0.10285478384841891, 0.2978901374766446, 0.6228611965420752, 0.027080921588785875, 0.08124276476635763, 0.8479904066760432, 0.43743387936640177, 0.5249206552396821, 0.7988801989609899, 0.15977603979219798, 0.010799551187325495, 0.8315654414240631, 0.15119371662255693, 0.7574273008822384, 0.1740248692147379, 0.4350621730368447, 0.1305186519110534, 0.2610373038221068, 0.7529943354647973, 0.9141534400005098, 0.3995436539925508, 0.27968055779478557, 0.23972619239553047, 0.07990873079851016, 0.9051004067692081, 0.7574280887310578, 0.8158455975103697, 0.16316911950207394, 0.752983494128272, 0.2963126747393324, 0.23705013979146594, 0.4741002795829319, 0.7602863710163157, 0.12671439516938596, 0.10621831062038917, 0.9028556402733079, 0.9529987894973966, 0.885985815137326, 0.14328301554190706, 0.14328301554190706, 0.5731320621676282, 0.48960776719832017, 0.08742995842827146, 0.2797758669704687, 0.15737392517088863, 0.8586187805180323, 0.05841946023933362, 0.9412024149670417, 0.982114808426915, 0.8594448277336924, 0.7529695122750762, 0.8014709306296501, 0.6611728367138707, 0.09445326238769582, 0.18890652477539163, 0.757425438410485, 0.15201723973694017, 0.15201723973694017, 0.07600861986847009, 0.6080689589477607, 0.8535694708999101, 0.4945135758539316, 0.3296757172359544, 0.2060473232724715, 0.14359662777163537, 0.7179831388581769, 0.8594393759289031, 0.08497391850630724, 0.08497391850630724, 0.4673565517846898, 0.38238263327838257, 0.9050568658448674, 0.30287976235778763, 0.15143988117889381, 0.5300395841261284, 0.7619920892384122, 0.8267071438135759, 0.13053270691793303, 0.8522913394677569, 0.7529825832827128, 0.973081343062261, 0.1309665764977129, 0.32741644124428226, 0.32741644124428226, 0.19644986474656936, 0.516684772828985, 0.4520991762253618, 0.9050948588875876, 0.8523981150303319, 0.9591092576079712, 0.8536088215056754, 0.9050554113891222, 0.6355022438284686, 0.2542008975313874, 0.12555405757410928, 0.8161013742317104, 0.8536349030681887, 0.9181360243161852, 0.12598991841033816, 0.755939510462029, 0.8537259721222104, 0.2302373386239852, 0.7674577954132841, 0.9760462068007716, 0.7193032127615746, 0.10275760182308208, 0.10275760182308208, 0.752973187869653, 0.9245182854419062, 0.3246014018251626, 0.6492028036503252, 0.24759326060236136, 0.3713898909035421, 0.3094915757529517, 0.06189831515059034, 0.40619182200012277, 0.4874301864001473, 0.08123836440002455, 0.8536311330580926, 0.7529943347544659, 0.252189232836552, 0.7565676985096559, 0.13786682667865185, 0.7269341770328915, 0.13786682667865185, 0.9573722135117159, 0.4403513304083542, 0.06290733291547917, 0.47180499686609384, 0.03145366645773959, 0.2297238860165542, 0.7466026295538011, 0.8015617884781291, 0.10702632208638665, 0.10702632208638665, 0.8026974156479, 0.8878745354535217, 0.45509512940939156, 0.5309443176442902, 0.8536228567414201, 0.8015144920133199, 0.3979750523377846, 0.4974688154222307, 0.09949376308444614, 0.7529827593355726, 0.6133973167204343, 0.35051275241167673, 0.11831052999298523, 0.8676105532818917, 0.1616840305690649, 0.6467361222762597, 0.2154457224682388, 0.2154457224682388, 0.5924757367876566, 0.13635446516304758, 0.5999596467174094, 0.24543803729348565, 0.22972301106315957, 0.7657433702105318, 0.990566405094839, 0.21273560826970284, 0.780030563655577, 0.9209687407382139, 0.5649731755637144, 0.2824865877818572, 0.09416219592728574, 0.8594348232233265, 0.9573486505096312, 0.7574267654494116, 0.07437724851518238, 0.911121294310984, 0.003142506158426818, 0.9961744522213013, 0.552420590403672, 0.3314523542422032, 0.9051009881837524, 0.7529505755044236, 0.5012447655053353, 0.5012447655053353, 0.9060497231942712, 0.7529827564094274, 0.7619914932960813, 0.848012865261885, 0.7574271705376667, 0.4792517638721206, 0.2396258819360603, 0.2396258819360603, 0.5305700730368024, 0.4489439079542174, 0.7529424987569561, 0.9728047039274463, 0.9285215684995632, 0.9284995987001803, 0.35743510720744764, 0.317720095295509, 0.317720095295509, 0.8058917182442097, 0.1751938517922195, 0.7443981667319959, 0.18609954168299897, 0.45505813140438733, 0.3900498269180463, 0.13001660897268208, 0.9573805054009725, 0.7777810098825643, 0.17948792535751484, 0.63454749640574, 0.31727374820287, 0.052878958033811665, 0.8528277357633909, 0.6336212022801685, 0.2534484809120674, 0.1267242404560337, 0.9181280274363329, 0.39635434185262075, 0.07927086837052415, 0.39635434185262075, 0.07927086837052415, 0.8536109250476533, 0.23907831425960951, 0.31877108567947937, 0.3984638570993492, 0.8862260609962626, 0.7529680838323976, 0.3813158988994163, 0.6355264981656938, 0.7619967560306203, 0.9297302796874821, 0.2723388796968396, 0.11671666272721698, 0.5835833136360848, 0.7574254458747198, 0.7574254458747198, 0.7574254458747198, 0.7574254458747198, 0.9181462556743107, 0.7529941144009067], \"Term\": [\"1gb\", \"acab\", \"acept\", \"activ\", \"activ\", \"adelant\", \"ademas\", \"aplic\", \"aplic\", \"aplic\", \"aplic\", \"aplicacion\", \"app\", \"app\", \"app\", \"app\", \"arroj\", \"avanz\", \"banc\", \"banc\", \"banc\", \"bancari\", \"bien\", \"blanc\", \"bloqu\", \"boton\", \"buen\", \"buen\", \"cad\", \"cad\", \"cae\", \"carg\", \"carg\", \"carg_factur\", \"casi\", \"cel\", \"celul\", \"celul\", \"celular\", \"chat\", \"ciert\", \"clar\", \"clar\", \"clar_hog\", \"clav_dinam\", \"clav_dinam\", \"client\", \"co\", \"cobr\", \"com\", \"compr\", \"compr\", \"compr_paquet\", \"compr_paquet\", \"compr_paquet\", \"comunic\", \"conect\", \"consult\", \"consult\", \"continu\", \"cuent\", \"cuent\", \"cuent\", \"cumpl\", \"da\", \"da\", \"dat\", \"dat\", \"dat\", \"dat\", \"daviplat\", \"deb\", \"deb\", \"debit\", \"debit\", \"dej\", \"dej\", \"dej\", \"demasi\", \"demor\", \"demor\", \"demor\", \"demor\", \"describ\", \"dias\", \"dic\", \"dic\", \"dic\", \"dic\", \"digit\", \"entra\", \"entrar\", \"entrar\", \"envi\", \"error\", \"error\", \"error\", \"facil\", \"facil\", \"factur\", \"factur\", \"factur_clar\", \"fij\", \"finaliz\", \"finaliz\", \"finaliz\", \"funcion\", \"funcion\", \"funcion\", \"funcion\", \"graci\", \"hac\", \"hac\", \"hog\", \"horribl\", \"import\", \"impos\", \"inclu\", \"inclu\", \"inclu\", \"info\", \"inform\", \"inform\", \"inform\", \"inform\", \"ingles\", \"ingres\", \"ingres\", \"ingres\", \"inmediat\", \"inmediat\", \"inscrit\", \"intent\", \"intent\", \"intent\", \"intent\", \"internacional\", \"internet\", \"internet\", \"internet\", \"jamas\", \"lent\", \"lent\", \"lentitud\", \"letr\", \"line\", \"llam\", \"llam\", \"llam\", \"llam\", \"lleg\", \"lleg\", \"llen\", \"logr\", \"mal\", \"malisim\", \"mand\", \"mas\", \"mas\", \"medi\", \"medi\", \"men\", \"metod\", \"minut\", \"minut\", \"molest\", \"moment\", \"moment\", \"movil\", \"much_vec\", \"much_vec\", \"much_vec\", \"neki\", \"ningun\", \"nombr\", \"nombr\", \"numer\", \"numer\", \"numer\", \"numer\", \"nunc\", \"nunc\", \"nunc\", \"offlin\", \"ok\", \"oper\", \"oper\", \"pag\", \"pag\", \"pag\", \"pantall\", \"paquet\", \"paquet\", \"paquet\", \"paquet\", \"pas\", \"pas\", \"ped\", \"permit\", \"permit\", \"permit\", \"pes\", \"pesim\", \"pesim\", \"plataform\", \"play\", \"pod\", \"pod\", \"pod\", \"portal\", \"posibl\", \"posibl\", \"prepag\", \"prepag\", \"present\", \"present\", \"proces\", \"proces\", \"proces\", \"pse\", \"pse\", \"pse\", \"pud\", \"pud\", \"pued\", \"qued\", \"qued\", \"qued_blanc\", \"quier\", \"quier\", \"quier\", \"quiet\", \"quit\", \"real\", \"realiz\", \"realiz\", \"recarg\", \"recarg\", \"rechaz\", \"rechaz\", \"recib\", \"reconoc\", \"reflej\", \"reflej\", \"registr\", \"regres\", \"repeticion\", \"respuest\", \"rooming\", \"sal\", \"sal\", \"sal\", \"sald\", \"sald\", \"salg\", \"servici\", \"se\\u00f1al\", \"si\", \"siempr\", \"siempr\", \"siempr\", \"sirv\", \"sirv\", \"sistem\", \"sistem\", \"sol\", \"sol\", \"sol\", \"tard\", \"tarjet\", \"tarjet\", \"tarjet_credit\", \"tarjet_credit\", \"tarjet_credit\", \"tecnic\", \"ten\", \"ten\", \"ten\", \"termin\", \"tiemp\", \"tiemp\", \"tiemp\", \"tiemp\", \"tig\", \"transaccion\", \"transaccion\", \"transaccion\", \"ultim\", \"urgenci\", \"usted\", \"usted\", \"va\", \"vari\", \"vec\", \"vec\", \"vec\", \"venc\", \"vig\", \"wtf\", \"www\", \"x\", \"xxxx\"]}, \"R\": 30, \"lambda.step\": 0.01, \"plot.opts\": {\"xlab\": \"PC1\", \"ylab\": \"PC2\"}, \"topic.order\": [1, 2, 3, 4]};\n",
       "\n",
       "function LDAvis_load_lib(url, callback){\n",
       "  var s = document.createElement('script');\n",
       "  s.src = url;\n",
       "  s.async = true;\n",
       "  s.onreadystatechange = s.onload = callback;\n",
       "  s.onerror = function(){console.warn(\"failed to load library \" + url);};\n",
       "  document.getElementsByTagName(\"head\")[0].appendChild(s);\n",
       "}\n",
       "\n",
       "if(typeof(LDAvis) !== \"undefined\"){\n",
       "   // already loaded: just create the visualization\n",
       "   !function(LDAvis){\n",
       "       new LDAvis(\"#\" + \"ldavis_el258428970454259523127003887\", ldavis_el258428970454259523127003887_data);\n",
       "   }(LDAvis);\n",
       "}else if(typeof define === \"function\" && define.amd){\n",
       "   // require.js is available: use it to load d3/LDAvis\n",
       "   require.config({paths: {d3: \"https://d3js.org/d3.v5\"}});\n",
       "   require([\"d3\"], function(d3){\n",
       "      window.d3 = d3;\n",
       "      LDAvis_load_lib(\"https://cdn.jsdelivr.net/gh/bmabey/pyLDAvis@3.3.1/pyLDAvis/js/ldavis.v3.0.0.js\", function(){\n",
       "        new LDAvis(\"#\" + \"ldavis_el258428970454259523127003887\", ldavis_el258428970454259523127003887_data);\n",
       "      });\n",
       "    });\n",
       "}else{\n",
       "    // require.js not available: dynamically load d3 & LDAvis\n",
       "    LDAvis_load_lib(\"https://d3js.org/d3.v5.js\", function(){\n",
       "         LDAvis_load_lib(\"https://cdn.jsdelivr.net/gh/bmabey/pyLDAvis@3.3.1/pyLDAvis/js/ldavis.v3.0.0.js\", function(){\n",
       "                 new LDAvis(\"#\" + \"ldavis_el258428970454259523127003887\", ldavis_el258428970454259523127003887_data);\n",
       "            })\n",
       "         });\n",
       "}\n",
       "</script>"
      ],
      "text/plain": [
       "<IPython.core.display.HTML object>"
      ]
     },
     "execution_count": 61,
     "metadata": {},
     "output_type": "execute_result"
    }
   ],
   "source": [
    "pyLDAvis.display(modelosAccion['Pre_Paquetes-Recargasdis'])"
   ]
  },
  {
   "cell_type": "markdown",
   "metadata": {},
   "source": [
    "######  fin Zoom"
   ]
  },
  {
   "cell_type": "markdown",
   "metadata": {},
   "source": [
    "####  Construcción Tabla Final "
   ]
  },
  {
   "cell_type": "code",
   "execution_count": 62,
   "metadata": {},
   "outputs": [
    {
     "data": {
      "text/html": [
       "<div>\n",
       "<style scoped>\n",
       "    .dataframe tbody tr th:only-of-type {\n",
       "        vertical-align: middle;\n",
       "    }\n",
       "\n",
       "    .dataframe tbody tr th {\n",
       "        vertical-align: top;\n",
       "    }\n",
       "\n",
       "    .dataframe thead th {\n",
       "        text-align: right;\n",
       "    }\n",
       "</style>\n",
       "<table border=\"1\" class=\"dataframe\">\n",
       "  <thead>\n",
       "    <tr style=\"text-align: right;\">\n",
       "      <th></th>\n",
       "      <th>StartDate</th>\n",
       "      <th>EndDate</th>\n",
       "      <th>Status</th>\n",
       "      <th>IPAddress</th>\n",
       "      <th>Progress</th>\n",
       "      <th>Duration (in seconds)</th>\n",
       "      <th>Finished</th>\n",
       "      <th>RecordedDate</th>\n",
       "      <th>ResponseId</th>\n",
       "      <th>RecipientLastName</th>\n",
       "      <th>...</th>\n",
       "      <th>Tokens_Q15_T</th>\n",
       "      <th>Tokens_Q18_T</th>\n",
       "      <th>Tokens_Q20_T</th>\n",
       "      <th>Opinion</th>\n",
       "      <th>Tópico</th>\n",
       "      <th>Top_Zoom_Pre_Detalle_Plan</th>\n",
       "      <th>Top_Zoom_Pre_Elegidos</th>\n",
       "      <th>Top_Zoom_Pre_Consulta_Saldos</th>\n",
       "      <th>Top_Zoom_Pre_Gestionar_Equipo</th>\n",
       "      <th>Top_Zoom_Pre_Paquetes-Recargas</th>\n",
       "    </tr>\n",
       "  </thead>\n",
       "  <tbody>\n",
       "    <tr>\n",
       "      <th>10</th>\n",
       "      <td>2021-05-01 01:11:12</td>\n",
       "      <td>2021-05-01 01:13:28</td>\n",
       "      <td>IP Address</td>\n",
       "      <td>190.26.155.7</td>\n",
       "      <td>100</td>\n",
       "      <td>136</td>\n",
       "      <td>True</td>\n",
       "      <td>2021-05-01 01:13:29.173</td>\n",
       "      <td>R_x5YL4kva6EbeuWJ</td>\n",
       "      <td></td>\n",
       "      <td>...</td>\n",
       "      <td>[mal, señal]</td>\n",
       "      <td>[]</td>\n",
       "      <td>[]</td>\n",
       "      <td>[mal, señal]</td>\n",
       "      <td>2</td>\n",
       "      <td>3.0</td>\n",
       "      <td>NaN</td>\n",
       "      <td>NaN</td>\n",
       "      <td>NaN</td>\n",
       "      <td>NaN</td>\n",
       "    </tr>\n",
       "    <tr>\n",
       "      <th>11</th>\n",
       "      <td>2021-05-01 01:15:49</td>\n",
       "      <td>2021-05-01 01:21:26</td>\n",
       "      <td>IP Address</td>\n",
       "      <td>186.29.191.43</td>\n",
       "      <td>100</td>\n",
       "      <td>336</td>\n",
       "      <td>True</td>\n",
       "      <td>2021-05-01 01:21:26.392</td>\n",
       "      <td>R_3ltBuR7i97QbFAM</td>\n",
       "      <td></td>\n",
       "      <td>...</td>\n",
       "      <td>[cambi, mes, oper, regres, nuev, sub, mil, pes...</td>\n",
       "      <td>[]</td>\n",
       "      <td>[]</td>\n",
       "      <td>[me, cambi, x, mes, oper, regres, nuev, sub, m...</td>\n",
       "      <td>1</td>\n",
       "      <td>NaN</td>\n",
       "      <td>3.0</td>\n",
       "      <td>NaN</td>\n",
       "      <td>NaN</td>\n",
       "      <td>NaN</td>\n",
       "    </tr>\n",
       "    <tr>\n",
       "      <th>13</th>\n",
       "      <td>2021-05-01 01:31:59</td>\n",
       "      <td>2021-05-01 01:35:12</td>\n",
       "      <td>IP Address</td>\n",
       "      <td>191.156.2.216</td>\n",
       "      <td>100</td>\n",
       "      <td>193</td>\n",
       "      <td>True</td>\n",
       "      <td>2021-05-01 01:35:12.335</td>\n",
       "      <td>R_1laRSYqAGwFA04C</td>\n",
       "      <td></td>\n",
       "      <td>...</td>\n",
       "      <td>[demor, carg, despues, dic, sient, trabaj, ser...</td>\n",
       "      <td>[]</td>\n",
       "      <td>[]</td>\n",
       "      <td>[se, demor, carg, despues, dic, sient, trabaj,...</td>\n",
       "      <td>2</td>\n",
       "      <td>NaN</td>\n",
       "      <td>NaN</td>\n",
       "      <td>2.0</td>\n",
       "      <td>NaN</td>\n",
       "      <td>NaN</td>\n",
       "    </tr>\n",
       "    <tr>\n",
       "      <th>27</th>\n",
       "      <td>2021-05-01 05:44:52</td>\n",
       "      <td>2021-05-01 05:46:18</td>\n",
       "      <td>IP Address</td>\n",
       "      <td>186.84.21.49</td>\n",
       "      <td>100</td>\n",
       "      <td>86</td>\n",
       "      <td>True</td>\n",
       "      <td>2021-05-01 05:46:19.079</td>\n",
       "      <td>R_dmql0Nng4tkDhYZ</td>\n",
       "      <td></td>\n",
       "      <td>...</td>\n",
       "      <td>[aparec, dat, line, consult]</td>\n",
       "      <td>[pid, consult, acerc, line]</td>\n",
       "      <td>[]</td>\n",
       "      <td>[no, muestr, line, no, aparec, dat, line, cons...</td>\n",
       "      <td>5</td>\n",
       "      <td>NaN</td>\n",
       "      <td>NaN</td>\n",
       "      <td>1.0</td>\n",
       "      <td>NaN</td>\n",
       "      <td>NaN</td>\n",
       "    </tr>\n",
       "    <tr>\n",
       "      <th>32</th>\n",
       "      <td>2021-04-30 05:58:17</td>\n",
       "      <td>2021-04-30 06:03:52</td>\n",
       "      <td>IP Address</td>\n",
       "      <td>161.10.128.88</td>\n",
       "      <td>69</td>\n",
       "      <td>335</td>\n",
       "      <td>False</td>\n",
       "      <td>2021-05-01 06:03:56.409</td>\n",
       "      <td>R_1GUoVl2DAD230XQ</td>\n",
       "      <td></td>\n",
       "      <td>...</td>\n",
       "      <td>[jjjjj]</td>\n",
       "      <td>[]</td>\n",
       "      <td>[]</td>\n",
       "      <td>[jjjjj]</td>\n",
       "      <td>5</td>\n",
       "      <td>2.0</td>\n",
       "      <td>NaN</td>\n",
       "      <td>NaN</td>\n",
       "      <td>NaN</td>\n",
       "      <td>NaN</td>\n",
       "    </tr>\n",
       "    <tr>\n",
       "      <th>...</th>\n",
       "      <td>...</td>\n",
       "      <td>...</td>\n",
       "      <td>...</td>\n",
       "      <td>...</td>\n",
       "      <td>...</td>\n",
       "      <td>...</td>\n",
       "      <td>...</td>\n",
       "      <td>...</td>\n",
       "      <td>...</td>\n",
       "      <td>...</td>\n",
       "      <td>...</td>\n",
       "      <td>...</td>\n",
       "      <td>...</td>\n",
       "      <td>...</td>\n",
       "      <td>...</td>\n",
       "      <td>...</td>\n",
       "      <td>...</td>\n",
       "      <td>...</td>\n",
       "      <td>...</td>\n",
       "      <td>...</td>\n",
       "      <td>...</td>\n",
       "    </tr>\n",
       "    <tr>\n",
       "      <th>44466</th>\n",
       "      <td>2021-07-31 22:13:10</td>\n",
       "      <td>2021-07-31 22:14:45</td>\n",
       "      <td>IP Address</td>\n",
       "      <td>181.51.34.89</td>\n",
       "      <td>100</td>\n",
       "      <td>94</td>\n",
       "      <td>True</td>\n",
       "      <td>2021-07-31 22:14:45.254</td>\n",
       "      <td>R_3GlYhrgQRsanGck</td>\n",
       "      <td></td>\n",
       "      <td>...</td>\n",
       "      <td>[dej, cambi, corre]</td>\n",
       "      <td>[cambi, corre]</td>\n",
       "      <td>[]</td>\n",
       "      <td>[no, dej, actualiz, corre, no, dej, cambi, cor...</td>\n",
       "      <td>3</td>\n",
       "      <td>2.0</td>\n",
       "      <td>NaN</td>\n",
       "      <td>NaN</td>\n",
       "      <td>NaN</td>\n",
       "      <td>NaN</td>\n",
       "    </tr>\n",
       "    <tr>\n",
       "      <th>44467</th>\n",
       "      <td>2021-07-30 22:11:13</td>\n",
       "      <td>2021-07-30 22:15:09</td>\n",
       "      <td>IP Address</td>\n",
       "      <td>191.144.171.70</td>\n",
       "      <td>35</td>\n",
       "      <td>235</td>\n",
       "      <td>False</td>\n",
       "      <td>2021-07-31 22:15:10.541</td>\n",
       "      <td>R_2eVEBY0Dt6Yu7Xd</td>\n",
       "      <td></td>\n",
       "      <td>...</td>\n",
       "      <td>[]</td>\n",
       "      <td>[quis, encontr, detall, cual, plan, telefon]</td>\n",
       "      <td>[]</td>\n",
       "      <td>[quis, encontr, detall, cual, plan, telefonia.]</td>\n",
       "      <td>3</td>\n",
       "      <td>2.0</td>\n",
       "      <td>NaN</td>\n",
       "      <td>NaN</td>\n",
       "      <td>NaN</td>\n",
       "      <td>NaN</td>\n",
       "    </tr>\n",
       "    <tr>\n",
       "      <th>44468</th>\n",
       "      <td>2021-07-31 22:14:12</td>\n",
       "      <td>2021-07-31 22:18:01</td>\n",
       "      <td>IP Address</td>\n",
       "      <td>190.99.186.27</td>\n",
       "      <td>100</td>\n",
       "      <td>228</td>\n",
       "      <td>True</td>\n",
       "      <td>2021-07-31 22:18:01.282</td>\n",
       "      <td>R_1IE38jhgn2nnzqH</td>\n",
       "      <td></td>\n",
       "      <td>...</td>\n",
       "      <td>[]</td>\n",
       "      <td>[sal, conexion, internet, conect, red, wifi]</td>\n",
       "      <td>[]</td>\n",
       "      <td>[sal, conexion, internet, conect, red, wifi]</td>\n",
       "      <td>1</td>\n",
       "      <td>4.0</td>\n",
       "      <td>NaN</td>\n",
       "      <td>NaN</td>\n",
       "      <td>NaN</td>\n",
       "      <td>NaN</td>\n",
       "    </tr>\n",
       "    <tr>\n",
       "      <th>44469</th>\n",
       "      <td>2021-07-31 22:18:06</td>\n",
       "      <td>2021-07-31 22:21:38</td>\n",
       "      <td>IP Address</td>\n",
       "      <td>191.95.165.68</td>\n",
       "      <td>100</td>\n",
       "      <td>212</td>\n",
       "      <td>True</td>\n",
       "      <td>2021-07-31 22:21:39.090</td>\n",
       "      <td>R_1DV8yAJuVRy64fi</td>\n",
       "      <td></td>\n",
       "      <td>...</td>\n",
       "      <td>[]</td>\n",
       "      <td>[]</td>\n",
       "      <td>[]</td>\n",
       "      <td>[es, aplic, necesit, ten, client, clar, ,, asi...</td>\n",
       "      <td>3</td>\n",
       "      <td>NaN</td>\n",
       "      <td>NaN</td>\n",
       "      <td>NaN</td>\n",
       "      <td>1.0</td>\n",
       "      <td>NaN</td>\n",
       "    </tr>\n",
       "    <tr>\n",
       "      <th>44482</th>\n",
       "      <td>2021-07-31 23:20:00</td>\n",
       "      <td>2021-07-31 23:26:54</td>\n",
       "      <td>IP Address</td>\n",
       "      <td>191.156.139.123</td>\n",
       "      <td>100</td>\n",
       "      <td>414</td>\n",
       "      <td>True</td>\n",
       "      <td>2021-07-31 23:26:55.079</td>\n",
       "      <td>R_3Gk45qjOyktPkSz</td>\n",
       "      <td></td>\n",
       "      <td>...</td>\n",
       "      <td>[lent, siempr, mantien, caid]</td>\n",
       "      <td>[lent, respuest, sal, segu, moment, pod, atend...</td>\n",
       "      <td>[]</td>\n",
       "      <td>[muy, lent, siempr, mantien, caid, muy, lent, ...</td>\n",
       "      <td>4</td>\n",
       "      <td>NaN</td>\n",
       "      <td>NaN</td>\n",
       "      <td>2.0</td>\n",
       "      <td>NaN</td>\n",
       "      <td>NaN</td>\n",
       "    </tr>\n",
       "  </tbody>\n",
       "</table>\n",
       "<p>6463 rows × 78 columns</p>\n",
       "</div>"
      ],
      "text/plain": [
       "                StartDate             EndDate      Status        IPAddress  \\\n",
       "10    2021-05-01 01:11:12 2021-05-01 01:13:28  IP Address     190.26.155.7   \n",
       "11    2021-05-01 01:15:49 2021-05-01 01:21:26  IP Address    186.29.191.43   \n",
       "13    2021-05-01 01:31:59 2021-05-01 01:35:12  IP Address    191.156.2.216   \n",
       "27    2021-05-01 05:44:52 2021-05-01 05:46:18  IP Address     186.84.21.49   \n",
       "32    2021-04-30 05:58:17 2021-04-30 06:03:52  IP Address    161.10.128.88   \n",
       "...                   ...                 ...         ...              ...   \n",
       "44466 2021-07-31 22:13:10 2021-07-31 22:14:45  IP Address     181.51.34.89   \n",
       "44467 2021-07-30 22:11:13 2021-07-30 22:15:09  IP Address   191.144.171.70   \n",
       "44468 2021-07-31 22:14:12 2021-07-31 22:18:01  IP Address    190.99.186.27   \n",
       "44469 2021-07-31 22:18:06 2021-07-31 22:21:38  IP Address    191.95.165.68   \n",
       "44482 2021-07-31 23:20:00 2021-07-31 23:26:54  IP Address  191.156.139.123   \n",
       "\n",
       "       Progress  Duration (in seconds) Finished            RecordedDate  \\\n",
       "10          100                    136     True 2021-05-01 01:13:29.173   \n",
       "11          100                    336     True 2021-05-01 01:21:26.392   \n",
       "13          100                    193     True 2021-05-01 01:35:12.335   \n",
       "27          100                     86     True 2021-05-01 05:46:19.079   \n",
       "32           69                    335    False 2021-05-01 06:03:56.409   \n",
       "...         ...                    ...      ...                     ...   \n",
       "44466       100                     94     True 2021-07-31 22:14:45.254   \n",
       "44467        35                    235    False 2021-07-31 22:15:10.541   \n",
       "44468       100                    228     True 2021-07-31 22:18:01.282   \n",
       "44469       100                    212     True 2021-07-31 22:21:39.090   \n",
       "44482       100                    414     True 2021-07-31 23:26:55.079   \n",
       "\n",
       "              ResponseId RecipientLastName  ...  \\\n",
       "10     R_x5YL4kva6EbeuWJ                    ...   \n",
       "11     R_3ltBuR7i97QbFAM                    ...   \n",
       "13     R_1laRSYqAGwFA04C                    ...   \n",
       "27     R_dmql0Nng4tkDhYZ                    ...   \n",
       "32     R_1GUoVl2DAD230XQ                    ...   \n",
       "...                  ...               ...  ...   \n",
       "44466  R_3GlYhrgQRsanGck                    ...   \n",
       "44467  R_2eVEBY0Dt6Yu7Xd                    ...   \n",
       "44468  R_1IE38jhgn2nnzqH                    ...   \n",
       "44469  R_1DV8yAJuVRy64fi                    ...   \n",
       "44482  R_3Gk45qjOyktPkSz                    ...   \n",
       "\n",
       "                                            Tokens_Q15_T  \\\n",
       "10                                          [mal, señal]   \n",
       "11     [cambi, mes, oper, regres, nuev, sub, mil, pes...   \n",
       "13     [demor, carg, despues, dic, sient, trabaj, ser...   \n",
       "27                          [aparec, dat, line, consult]   \n",
       "32                                               [jjjjj]   \n",
       "...                                                  ...   \n",
       "44466                                [dej, cambi, corre]   \n",
       "44467                                                 []   \n",
       "44468                                                 []   \n",
       "44469                                                 []   \n",
       "44482                      [lent, siempr, mantien, caid]   \n",
       "\n",
       "                                            Tokens_Q18_T Tokens_Q20_T  \\\n",
       "10                                                    []           []   \n",
       "11                                                    []           []   \n",
       "13                                                    []           []   \n",
       "27                           [pid, consult, acerc, line]           []   \n",
       "32                                                    []           []   \n",
       "...                                                  ...          ...   \n",
       "44466                                     [cambi, corre]           []   \n",
       "44467       [quis, encontr, detall, cual, plan, telefon]           []   \n",
       "44468       [sal, conexion, internet, conect, red, wifi]           []   \n",
       "44469                                                 []           []   \n",
       "44482  [lent, respuest, sal, segu, moment, pod, atend...           []   \n",
       "\n",
       "                                                 Opinion Tópico  \\\n",
       "10                                          [mal, señal]      2   \n",
       "11     [me, cambi, x, mes, oper, regres, nuev, sub, m...      1   \n",
       "13     [se, demor, carg, despues, dic, sient, trabaj,...      2   \n",
       "27     [no, muestr, line, no, aparec, dat, line, cons...      5   \n",
       "32                                               [jjjjj]      5   \n",
       "...                                                  ...    ...   \n",
       "44466  [no, dej, actualiz, corre, no, dej, cambi, cor...      3   \n",
       "44467    [quis, encontr, detall, cual, plan, telefonia.]      3   \n",
       "44468       [sal, conexion, internet, conect, red, wifi]      1   \n",
       "44469  [es, aplic, necesit, ten, client, clar, ,, asi...      3   \n",
       "44482  [muy, lent, siempr, mantien, caid, muy, lent, ...      4   \n",
       "\n",
       "      Top_Zoom_Pre_Detalle_Plan Top_Zoom_Pre_Elegidos  \\\n",
       "10                          3.0                   NaN   \n",
       "11                          NaN                   3.0   \n",
       "13                          NaN                   NaN   \n",
       "27                          NaN                   NaN   \n",
       "32                          2.0                   NaN   \n",
       "...                         ...                   ...   \n",
       "44466                       2.0                   NaN   \n",
       "44467                       2.0                   NaN   \n",
       "44468                       4.0                   NaN   \n",
       "44469                       NaN                   NaN   \n",
       "44482                       NaN                   NaN   \n",
       "\n",
       "      Top_Zoom_Pre_Consulta_Saldos Top_Zoom_Pre_Gestionar_Equipo  \\\n",
       "10                             NaN                           NaN   \n",
       "11                             NaN                           NaN   \n",
       "13                             2.0                           NaN   \n",
       "27                             1.0                           NaN   \n",
       "32                             NaN                           NaN   \n",
       "...                            ...                           ...   \n",
       "44466                          NaN                           NaN   \n",
       "44467                          NaN                           NaN   \n",
       "44468                          NaN                           NaN   \n",
       "44469                          NaN                           1.0   \n",
       "44482                          2.0                           NaN   \n",
       "\n",
       "      Top_Zoom_Pre_Paquetes-Recargas  \n",
       "10                               NaN  \n",
       "11                               NaN  \n",
       "13                               NaN  \n",
       "27                               NaN  \n",
       "32                               NaN  \n",
       "...                              ...  \n",
       "44466                            NaN  \n",
       "44467                            NaN  \n",
       "44468                            NaN  \n",
       "44469                            NaN  \n",
       "44482                            NaN  \n",
       "\n",
       "[6463 rows x 78 columns]"
      ]
     },
     "execution_count": 62,
     "metadata": {},
     "output_type": "execute_result"
    }
   ],
   "source": [
    "ZoomAccion"
   ]
  },
  {
   "cell_type": "code",
   "execution_count": 63,
   "metadata": {},
   "outputs": [
    {
     "data": {
      "text/plain": [
       "44488"
      ]
     },
     "execution_count": 63,
     "metadata": {},
     "output_type": "execute_result"
    }
   ],
   "source": [
    "len(df)"
   ]
  },
  {
   "cell_type": "code",
   "execution_count": 64,
   "metadata": {},
   "outputs": [
    {
     "data": {
      "text/plain": [
       "44488"
      ]
     },
     "execution_count": 64,
     "metadata": {},
     "output_type": "execute_result"
    }
   ],
   "source": [
    "len(dfSent)"
   ]
  },
  {
   "cell_type": "code",
   "execution_count": 65,
   "metadata": {},
   "outputs": [
    {
     "data": {
      "text/plain": [
       "6463"
      ]
     },
     "execution_count": 65,
     "metadata": {},
     "output_type": "execute_result"
    }
   ],
   "source": [
    "len(dfc2)"
   ]
  },
  {
   "cell_type": "code",
   "execution_count": 66,
   "metadata": {},
   "outputs": [
    {
     "data": {
      "text/plain": [
       "1281"
      ]
     },
     "execution_count": 66,
     "metadata": {},
     "output_type": "execute_result"
    }
   ],
   "source": [
    "len(dfc2Zoom)"
   ]
  },
  {
   "cell_type": "code",
   "execution_count": 67,
   "metadata": {},
   "outputs": [],
   "source": [
    "TablaFinal=df.copy()\n",
    "for column in Qs:    \n",
    "    TablaFinal[\"Sent_\"+column]=dfSent[\"Sent_\"+column] \n",
    "TablaFinal['Opinion']=dfc2['Opinion']\n",
    "TablaFinal['Topico']=dfc2['Tópico']\n",
    "TablaFinal['TópicoZoom']=dfc2Zoom['TópicoZoom']"
   ]
  },
  {
   "cell_type": "code",
   "execution_count": 68,
   "metadata": {},
   "outputs": [],
   "source": [
    "###  Agregar Información\n",
    "for accion in acciones:\n",
    "    TablaFinal['TópicoAccion_'+accion]=ZoomAccion['Top_Zoom_'+accion]"
   ]
  },
  {
   "cell_type": "code",
   "execution_count": 69,
   "metadata": {},
   "outputs": [
    {
     "data": {
      "text/html": [
       "<div>\n",
       "<style scoped>\n",
       "    .dataframe tbody tr th:only-of-type {\n",
       "        vertical-align: middle;\n",
       "    }\n",
       "\n",
       "    .dataframe tbody tr th {\n",
       "        vertical-align: top;\n",
       "    }\n",
       "\n",
       "    .dataframe thead th {\n",
       "        text-align: right;\n",
       "    }\n",
       "</style>\n",
       "<table border=\"1\" class=\"dataframe\">\n",
       "  <thead>\n",
       "    <tr style=\"text-align: right;\">\n",
       "      <th></th>\n",
       "      <th>StartDate</th>\n",
       "      <th>EndDate</th>\n",
       "      <th>Status</th>\n",
       "      <th>IPAddress</th>\n",
       "      <th>Progress</th>\n",
       "      <th>Duration (in seconds)</th>\n",
       "      <th>Finished</th>\n",
       "      <th>RecordedDate</th>\n",
       "      <th>ResponseId</th>\n",
       "      <th>RecipientLastName</th>\n",
       "      <th>...</th>\n",
       "      <th>Sent_Q18</th>\n",
       "      <th>Sent_Q20</th>\n",
       "      <th>Opinion</th>\n",
       "      <th>Topico</th>\n",
       "      <th>TópicoZoom</th>\n",
       "      <th>TópicoAccion_Pre_Detalle_Plan</th>\n",
       "      <th>TópicoAccion_Pre_Elegidos</th>\n",
       "      <th>TópicoAccion_Pre_Consulta_Saldos</th>\n",
       "      <th>TópicoAccion_Pre_Gestionar_Equipo</th>\n",
       "      <th>TópicoAccion_Pre_Paquetes-Recargas</th>\n",
       "    </tr>\n",
       "  </thead>\n",
       "  <tbody>\n",
       "    <tr>\n",
       "      <th>7</th>\n",
       "      <td>2021-05-01 00:32:28</td>\n",
       "      <td>2021-05-01 00:35:33</td>\n",
       "      <td>IP Address</td>\n",
       "      <td>181.244.74.127</td>\n",
       "      <td>100</td>\n",
       "      <td>184</td>\n",
       "      <td>True</td>\n",
       "      <td>2021-05-01 00:35:33.715000</td>\n",
       "      <td>R_WlDgkDboPHperPH</td>\n",
       "      <td>NaN</td>\n",
       "      <td>...</td>\n",
       "      <td></td>\n",
       "      <td>0.9998136624179559</td>\n",
       "      <td>NaN</td>\n",
       "      <td>NaN</td>\n",
       "      <td>NaN</td>\n",
       "      <td>NaN</td>\n",
       "      <td>NaN</td>\n",
       "      <td>NaN</td>\n",
       "      <td>NaN</td>\n",
       "      <td>NaN</td>\n",
       "    </tr>\n",
       "    <tr>\n",
       "      <th>10</th>\n",
       "      <td>2021-05-01 01:11:12</td>\n",
       "      <td>2021-05-01 01:13:28</td>\n",
       "      <td>IP Address</td>\n",
       "      <td>190.26.155.7</td>\n",
       "      <td>100</td>\n",
       "      <td>136</td>\n",
       "      <td>True</td>\n",
       "      <td>2021-05-01 01:13:29.173000</td>\n",
       "      <td>R_x5YL4kva6EbeuWJ</td>\n",
       "      <td>NaN</td>\n",
       "      <td>...</td>\n",
       "      <td></td>\n",
       "      <td></td>\n",
       "      <td>[mal, señal]</td>\n",
       "      <td>2</td>\n",
       "      <td>NaN</td>\n",
       "      <td>3.0</td>\n",
       "      <td>NaN</td>\n",
       "      <td>NaN</td>\n",
       "      <td>NaN</td>\n",
       "      <td>NaN</td>\n",
       "    </tr>\n",
       "    <tr>\n",
       "      <th>17</th>\n",
       "      <td>2021-05-01 03:33:27</td>\n",
       "      <td>2021-05-01 03:34:56</td>\n",
       "      <td>IP Address</td>\n",
       "      <td>181.142.137.9</td>\n",
       "      <td>100</td>\n",
       "      <td>88</td>\n",
       "      <td>True</td>\n",
       "      <td>2021-05-01 03:34:56.361000</td>\n",
       "      <td>R_ZmK0qDDpfWbHJi9</td>\n",
       "      <td>NaN</td>\n",
       "      <td>...</td>\n",
       "      <td></td>\n",
       "      <td></td>\n",
       "      <td>NaN</td>\n",
       "      <td>NaN</td>\n",
       "      <td>NaN</td>\n",
       "      <td>NaN</td>\n",
       "      <td>NaN</td>\n",
       "      <td>NaN</td>\n",
       "      <td>NaN</td>\n",
       "      <td>NaN</td>\n",
       "    </tr>\n",
       "    <tr>\n",
       "      <th>22</th>\n",
       "      <td>2021-05-01 05:21:28</td>\n",
       "      <td>2021-05-01 05:32:42</td>\n",
       "      <td>IP Address</td>\n",
       "      <td>186.87.152.172</td>\n",
       "      <td>100</td>\n",
       "      <td>673</td>\n",
       "      <td>True</td>\n",
       "      <td>2021-05-01 05:32:42.286000</td>\n",
       "      <td>R_ANKhuvqrAAMerip</td>\n",
       "      <td>NaN</td>\n",
       "      <td>...</td>\n",
       "      <td></td>\n",
       "      <td></td>\n",
       "      <td>NaN</td>\n",
       "      <td>NaN</td>\n",
       "      <td>NaN</td>\n",
       "      <td>NaN</td>\n",
       "      <td>NaN</td>\n",
       "      <td>NaN</td>\n",
       "      <td>NaN</td>\n",
       "      <td>NaN</td>\n",
       "    </tr>\n",
       "    <tr>\n",
       "      <th>23</th>\n",
       "      <td>2021-04-30 05:39:37</td>\n",
       "      <td>2021-04-30 05:39:58</td>\n",
       "      <td>IP Address</td>\n",
       "      <td>181.58.39.39</td>\n",
       "      <td>6</td>\n",
       "      <td>21</td>\n",
       "      <td>False</td>\n",
       "      <td>2021-05-01 05:40:00.089000</td>\n",
       "      <td>R_2Y2HJRaQo1gqBFg</td>\n",
       "      <td>NaN</td>\n",
       "      <td>...</td>\n",
       "      <td></td>\n",
       "      <td></td>\n",
       "      <td>NaN</td>\n",
       "      <td>NaN</td>\n",
       "      <td>NaN</td>\n",
       "      <td>NaN</td>\n",
       "      <td>NaN</td>\n",
       "      <td>NaN</td>\n",
       "      <td>NaN</td>\n",
       "      <td>NaN</td>\n",
       "    </tr>\n",
       "    <tr>\n",
       "      <th>...</th>\n",
       "      <td>...</td>\n",
       "      <td>...</td>\n",
       "      <td>...</td>\n",
       "      <td>...</td>\n",
       "      <td>...</td>\n",
       "      <td>...</td>\n",
       "      <td>...</td>\n",
       "      <td>...</td>\n",
       "      <td>...</td>\n",
       "      <td>...</td>\n",
       "      <td>...</td>\n",
       "      <td>...</td>\n",
       "      <td>...</td>\n",
       "      <td>...</td>\n",
       "      <td>...</td>\n",
       "      <td>...</td>\n",
       "      <td>...</td>\n",
       "      <td>...</td>\n",
       "      <td>...</td>\n",
       "      <td>...</td>\n",
       "      <td>...</td>\n",
       "    </tr>\n",
       "    <tr>\n",
       "      <th>44458</th>\n",
       "      <td>2021-07-30 21:50:52</td>\n",
       "      <td>2021-07-30 21:51:04</td>\n",
       "      <td>IP Address</td>\n",
       "      <td>190.130.94.48</td>\n",
       "      <td>6</td>\n",
       "      <td>12</td>\n",
       "      <td>False</td>\n",
       "      <td>2021-07-31 21:51:05.852000</td>\n",
       "      <td>R_3HAdtWrDUXJdN9s</td>\n",
       "      <td>NaN</td>\n",
       "      <td>...</td>\n",
       "      <td></td>\n",
       "      <td></td>\n",
       "      <td>NaN</td>\n",
       "      <td>NaN</td>\n",
       "      <td>NaN</td>\n",
       "      <td>NaN</td>\n",
       "      <td>NaN</td>\n",
       "      <td>NaN</td>\n",
       "      <td>NaN</td>\n",
       "      <td>NaN</td>\n",
       "    </tr>\n",
       "    <tr>\n",
       "      <th>44466</th>\n",
       "      <td>2021-07-31 22:13:10</td>\n",
       "      <td>2021-07-31 22:14:45</td>\n",
       "      <td>IP Address</td>\n",
       "      <td>181.51.34.89</td>\n",
       "      <td>100</td>\n",
       "      <td>94</td>\n",
       "      <td>True</td>\n",
       "      <td>2021-07-31 22:14:45.254000</td>\n",
       "      <td>R_3GlYhrgQRsanGck</td>\n",
       "      <td>NaN</td>\n",
       "      <td>...</td>\n",
       "      <td>-0.8777346409377504</td>\n",
       "      <td></td>\n",
       "      <td>[no, dej, actualiz, corre, no, dej, cambi, cor...</td>\n",
       "      <td>3</td>\n",
       "      <td>NaN</td>\n",
       "      <td>2.0</td>\n",
       "      <td>NaN</td>\n",
       "      <td>NaN</td>\n",
       "      <td>NaN</td>\n",
       "      <td>NaN</td>\n",
       "    </tr>\n",
       "    <tr>\n",
       "      <th>44467</th>\n",
       "      <td>2021-07-30 22:11:13</td>\n",
       "      <td>2021-07-30 22:15:09</td>\n",
       "      <td>IP Address</td>\n",
       "      <td>191.144.171.70</td>\n",
       "      <td>35</td>\n",
       "      <td>235</td>\n",
       "      <td>False</td>\n",
       "      <td>2021-07-31 22:15:10.541000</td>\n",
       "      <td>R_2eVEBY0Dt6Yu7Xd</td>\n",
       "      <td>NaN</td>\n",
       "      <td>...</td>\n",
       "      <td>0.27066442083004083</td>\n",
       "      <td></td>\n",
       "      <td>[quis, encontr, detall, cual, plan, telefonia.]</td>\n",
       "      <td>3</td>\n",
       "      <td>NaN</td>\n",
       "      <td>2.0</td>\n",
       "      <td>NaN</td>\n",
       "      <td>NaN</td>\n",
       "      <td>NaN</td>\n",
       "      <td>NaN</td>\n",
       "    </tr>\n",
       "    <tr>\n",
       "      <th>44468</th>\n",
       "      <td>2021-07-31 22:14:12</td>\n",
       "      <td>2021-07-31 22:18:01</td>\n",
       "      <td>IP Address</td>\n",
       "      <td>190.99.186.27</td>\n",
       "      <td>100</td>\n",
       "      <td>228</td>\n",
       "      <td>True</td>\n",
       "      <td>2021-07-31 22:18:01.282000</td>\n",
       "      <td>R_1IE38jhgn2nnzqH</td>\n",
       "      <td>NaN</td>\n",
       "      <td>...</td>\n",
       "      <td>-0.6408767781725347</td>\n",
       "      <td></td>\n",
       "      <td>[sal, conexion, internet, conect, red, wifi]</td>\n",
       "      <td>1</td>\n",
       "      <td>NaN</td>\n",
       "      <td>4.0</td>\n",
       "      <td>NaN</td>\n",
       "      <td>NaN</td>\n",
       "      <td>NaN</td>\n",
       "      <td>NaN</td>\n",
       "    </tr>\n",
       "    <tr>\n",
       "      <th>44488</th>\n",
       "      <td>2021-07-30 23:47:15</td>\n",
       "      <td>2021-07-30 23:48:03</td>\n",
       "      <td>IP Address</td>\n",
       "      <td>181.154.42.244</td>\n",
       "      <td>71</td>\n",
       "      <td>47</td>\n",
       "      <td>False</td>\n",
       "      <td>2021-07-31 23:48:04.635000</td>\n",
       "      <td>R_qwnJXwuS9XRInlL</td>\n",
       "      <td>NaN</td>\n",
       "      <td>...</td>\n",
       "      <td></td>\n",
       "      <td></td>\n",
       "      <td>NaN</td>\n",
       "      <td>NaN</td>\n",
       "      <td>NaN</td>\n",
       "      <td>NaN</td>\n",
       "      <td>NaN</td>\n",
       "      <td>NaN</td>\n",
       "      <td>NaN</td>\n",
       "      <td>NaN</td>\n",
       "    </tr>\n",
       "  </tbody>\n",
       "</table>\n",
       "<p>8430 rows × 67 columns</p>\n",
       "</div>"
      ],
      "text/plain": [
       "                 StartDate              EndDate      Status       IPAddress  \\\n",
       "7      2021-05-01 00:32:28  2021-05-01 00:35:33  IP Address  181.244.74.127   \n",
       "10     2021-05-01 01:11:12  2021-05-01 01:13:28  IP Address    190.26.155.7   \n",
       "17     2021-05-01 03:33:27  2021-05-01 03:34:56  IP Address   181.142.137.9   \n",
       "22     2021-05-01 05:21:28  2021-05-01 05:32:42  IP Address  186.87.152.172   \n",
       "23     2021-04-30 05:39:37  2021-04-30 05:39:58  IP Address    181.58.39.39   \n",
       "...                    ...                  ...         ...             ...   \n",
       "44458  2021-07-30 21:50:52  2021-07-30 21:51:04  IP Address   190.130.94.48   \n",
       "44466  2021-07-31 22:13:10  2021-07-31 22:14:45  IP Address    181.51.34.89   \n",
       "44467  2021-07-30 22:11:13  2021-07-30 22:15:09  IP Address  191.144.171.70   \n",
       "44468  2021-07-31 22:14:12  2021-07-31 22:18:01  IP Address   190.99.186.27   \n",
       "44488  2021-07-30 23:47:15  2021-07-30 23:48:03  IP Address  181.154.42.244   \n",
       "\n",
       "      Progress Duration (in seconds) Finished                RecordedDate  \\\n",
       "7          100                   184     True  2021-05-01 00:35:33.715000   \n",
       "10         100                   136     True  2021-05-01 01:13:29.173000   \n",
       "17         100                    88     True  2021-05-01 03:34:56.361000   \n",
       "22         100                   673     True  2021-05-01 05:32:42.286000   \n",
       "23           6                    21    False  2021-05-01 05:40:00.089000   \n",
       "...        ...                   ...      ...                         ...   \n",
       "44458        6                    12    False  2021-07-31 21:51:05.852000   \n",
       "44466      100                    94     True  2021-07-31 22:14:45.254000   \n",
       "44467       35                   235    False  2021-07-31 22:15:10.541000   \n",
       "44468      100                   228     True  2021-07-31 22:18:01.282000   \n",
       "44488       71                    47    False  2021-07-31 23:48:04.635000   \n",
       "\n",
       "              ResponseId RecipientLastName  ...             Sent_Q18  \\\n",
       "7      R_WlDgkDboPHperPH               NaN  ...                        \n",
       "10     R_x5YL4kva6EbeuWJ               NaN  ...                        \n",
       "17     R_ZmK0qDDpfWbHJi9               NaN  ...                        \n",
       "22     R_ANKhuvqrAAMerip               NaN  ...                        \n",
       "23     R_2Y2HJRaQo1gqBFg               NaN  ...                        \n",
       "...                  ...               ...  ...                  ...   \n",
       "44458  R_3HAdtWrDUXJdN9s               NaN  ...                        \n",
       "44466  R_3GlYhrgQRsanGck               NaN  ...  -0.8777346409377504   \n",
       "44467  R_2eVEBY0Dt6Yu7Xd               NaN  ...  0.27066442083004083   \n",
       "44468  R_1IE38jhgn2nnzqH               NaN  ...  -0.6408767781725347   \n",
       "44488  R_qwnJXwuS9XRInlL               NaN  ...                        \n",
       "\n",
       "                 Sent_Q20                                            Opinion  \\\n",
       "7      0.9998136624179559                                                NaN   \n",
       "10                                                              [mal, señal]   \n",
       "17                                                                       NaN   \n",
       "22                                                                       NaN   \n",
       "23                                                                       NaN   \n",
       "...                   ...                                                ...   \n",
       "44458                                                                    NaN   \n",
       "44466                      [no, dej, actualiz, corre, no, dej, cambi, cor...   \n",
       "44467                        [quis, encontr, detall, cual, plan, telefonia.]   \n",
       "44468                           [sal, conexion, internet, conect, red, wifi]   \n",
       "44488                                                                    NaN   \n",
       "\n",
       "      Topico TópicoZoom TópicoAccion_Pre_Detalle_Plan  \\\n",
       "7        NaN        NaN                           NaN   \n",
       "10         2        NaN                           3.0   \n",
       "17       NaN        NaN                           NaN   \n",
       "22       NaN        NaN                           NaN   \n",
       "23       NaN        NaN                           NaN   \n",
       "...      ...        ...                           ...   \n",
       "44458    NaN        NaN                           NaN   \n",
       "44466      3        NaN                           2.0   \n",
       "44467      3        NaN                           2.0   \n",
       "44468      1        NaN                           4.0   \n",
       "44488    NaN        NaN                           NaN   \n",
       "\n",
       "      TópicoAccion_Pre_Elegidos TópicoAccion_Pre_Consulta_Saldos  \\\n",
       "7                           NaN                              NaN   \n",
       "10                          NaN                              NaN   \n",
       "17                          NaN                              NaN   \n",
       "22                          NaN                              NaN   \n",
       "23                          NaN                              NaN   \n",
       "...                         ...                              ...   \n",
       "44458                       NaN                              NaN   \n",
       "44466                       NaN                              NaN   \n",
       "44467                       NaN                              NaN   \n",
       "44468                       NaN                              NaN   \n",
       "44488                       NaN                              NaN   \n",
       "\n",
       "      TópicoAccion_Pre_Gestionar_Equipo TópicoAccion_Pre_Paquetes-Recargas  \n",
       "7                                   NaN                                NaN  \n",
       "10                                  NaN                                NaN  \n",
       "17                                  NaN                                NaN  \n",
       "22                                  NaN                                NaN  \n",
       "23                                  NaN                                NaN  \n",
       "...                                 ...                                ...  \n",
       "44458                               NaN                                NaN  \n",
       "44466                               NaN                                NaN  \n",
       "44467                               NaN                                NaN  \n",
       "44468                               NaN                                NaN  \n",
       "44488                               NaN                                NaN  \n",
       "\n",
       "[8430 rows x 67 columns]"
      ]
     },
     "execution_count": 69,
     "metadata": {},
     "output_type": "execute_result"
    }
   ],
   "source": [
    "TablaFinal[TablaFinal['Accion']==\"Pre_Detalle_Plan\"]"
   ]
  },
  {
   "cell_type": "code",
   "execution_count": 70,
   "metadata": {},
   "outputs": [],
   "source": [
    "TablaFinal.to_csv('TablaFinalMay_Jul.csv',index=False, sep=';', encoding=\"utf-8-sig\")"
   ]
  },
  {
   "cell_type": "code",
   "execution_count": null,
   "metadata": {},
   "outputs": [],
   "source": []
  }
 ],
 "metadata": {
  "kernelspec": {
   "display_name": "Python 3",
   "language": "python",
   "name": "python3"
  },
  "language_info": {
   "codemirror_mode": {
    "name": "ipython",
    "version": 3
   },
   "file_extension": ".py",
   "mimetype": "text/x-python",
   "name": "python",
   "nbconvert_exporter": "python",
   "pygments_lexer": "ipython3",
   "version": "3.8.8"
  }
 },
 "nbformat": 4,
 "nbformat_minor": 4
}
